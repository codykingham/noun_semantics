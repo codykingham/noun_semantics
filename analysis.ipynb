{
 "cells": [
  {
   "cell_type": "markdown",
   "metadata": {},
   "source": [
    "Best viewed locally in a Jupyter notebook or online in <a href=\"https://nbviewer.jupyter.org/github/codykingham/noun_semantics/blob/master/analysis.ipynb\">Jupyter Notebook Viewer</a>\n",
    "\n",
    "# Analysis of Noun Semantics in the Hebrew Bible\n",
    "## Cody Kingham\n",
    "\n",
    "In this notebook, I compare the syntactic contexts of the top 200 most frequent nouns in the Hebrew Bible. This notebook essentially walks through my process and includes limited commentary throughout. Full descriptions borrowed from the paper will soon be transferred to here as well."
   ]
  },
  {
   "cell_type": "code",
   "execution_count": 64,
   "metadata": {},
   "outputs": [
    {
     "name": "stdout",
     "output_type": "stream",
     "text": [
      "last updated:\n",
      "Fri 29 May 2020 12:27:00 BST\n"
     ]
    }
   ],
   "source": [
    "! echo \"last updated:\"; date"
   ]
  },
  {
   "cell_type": "code",
   "execution_count": 2,
   "metadata": {},
   "outputs": [
    {
     "name": "stdout",
     "output_type": "stream",
     "text": [
      "This is Text-Fabric 8.1.2\n",
      "Api reference : https://annotation.github.io/text-fabric/cheatsheet.html\n",
      "\n",
      "124 features found and 0 ignored\n",
      "  0.00s loading features ...\n",
      "   |     0.00s Dataset without structure sections in otext:no structure functions in the T-API\n",
      "  9.39s All features loaded/computed - for details use loadLog()\n"
     ]
    },
    {
     "data": {
      "text/html": [
       "<style>tr.tf, td.tf, th.tf { text-align: left ! important;}@font-face {\n",
       "  font-family: \"Ezra SIL\";\n",
       "  src: local('Ezra SIL'), local('EzraSIL'),\n",
       "    url('/server/static/fonts/SILEOT.woff') format('woff'),\n",
       "    url('https://github.com/annotation/text-fabric/blob/master/tf/server/static/fonts/SILEOT.woff?raw=true') format('woff');\n",
       "}\n",
       "\n",
       "@font-face {\n",
       "  font-family: \"SBL Hebrew\";\n",
       "  src: local('SBL Hebrew'), local('SBLHebrew'),\n",
       "    url('/server/static/fonts/SBL_Hbrw.woff') format('woff'),\n",
       "    url('https://github.com/annotation/text-fabric/blob/master/tf/server/static/fonts/SBL_Hbrw.woff?raw=true') format('woff');\n",
       "}\n",
       "\n",
       "@font-face {\n",
       "  font-family: \"Estrangelo Edessa\";\n",
       "  src: local('Estrangelo Edessa'), local('EstrangeloEdessa');\n",
       "    url('/server/static/fonts/SyrCOMEdessa.woff') format('woff'),\n",
       "    url('https://github.com/annotation/text-fabric/blob/master/tf/server/static/fonts/SyrCOMEdessa.woff?raw=true') format('woff');\n",
       "}\n",
       "\n",
       "@font-face {\n",
       "  font-family: AmiriQuran;\n",
       "  font-style: normal;\n",
       "  font-weight: 400;\n",
       "  src: local('Amiri Quran'), local('AmiriQuran'),\n",
       "    url('/server/static/fonts/AmiriQuran.woff') format('woff'),\n",
       "    url('https://github.com/annotation/text-fabric/blob/master/tf/server/static/fonts/AmiriQuran.woff?raw=true') format('woff');\n",
       "}\n",
       "\n",
       "@font-face {\n",
       "  font-family: AmiriQuranColored;\n",
       "  font-style: normal;\n",
       "  font-weight: 400;\n",
       "  src: local('Amiri Quran Colored'), local('AmiriQuranColored'),\n",
       "    url('/server/static/fonts/AmiriQuranColored.woff') format('woff'),\n",
       "    url('https://github.com/annotation/text-fabric/blob/master/tf/server/static/fonts/AmiriQuranColored.woff?raw=true') format('woff');\n",
       "}\n",
       "\n",
       "@font-face {\n",
       "  font-family: \"Santakku\";\n",
       "  src: local('Santakku'),\n",
       "    url('/server/static/fonts/Santakku.woff') format('woff'),\n",
       "    url('https://github.com/annotation/text-fabric/blob/master/tf/server/static/fonts/Santakku.woff?raw=true') format('woff');\n",
       "}\n",
       "\n",
       "@font-face {\n",
       "  font-family: \"SantakkuM\";\n",
       "  src: local('SantakkuM'),\n",
       "    url('/server/static/fonts/SantakkuM.woff') format('woff'),\n",
       "    url('https://github.com/annotation/text-fabric/blob/master/tf/server/static/fonts/SantakkuM.woff?raw=true') format('woff');\n",
       "}\n",
       "/* bypassing some classical notebook settings */\n",
       "div#notebook {\n",
       "  line-height: unset;\n",
       "}\n",
       "/* neutral text */\n",
       ".txtn,.txtn a:visited,.txtn a:link {\n",
       "    font-family: sans-serif;\n",
       "    font-size: medium;\n",
       "    direction: ltr;\n",
       "    text-decoration: none;\n",
       "    color: var(--text-color);\n",
       "}\n",
       "/* transcription text */\n",
       ".txtt,.txtt a:visited,.txtt a:link {\n",
       "    font-family: monospace;\n",
       "    font-size: medium;\n",
       "    direction: ltr;\n",
       "    text-decoration: none;\n",
       "    color: var(--text-color);\n",
       "}\n",
       "/* source text */\n",
       ".txto,.txto a:visited,.txto a:link {\n",
       "    font-family: serif;\n",
       "    font-size: medium;\n",
       "    direction: ltr;\n",
       "    text-decoration: none;\n",
       "    color: var(--text-color);\n",
       "}\n",
       "/* phonetic text */\n",
       ".txtp,.txtp a:visited,.txtp a:link {\n",
       "    font-family: Gentium, sans-serif;\n",
       "    font-size: large;\n",
       "    direction: ltr;\n",
       "    text-decoration: none;\n",
       "    color: var(--text-color);\n",
       "}\n",
       "/* original script text */\n",
       ".txtu,.txtu a:visited,.txtu a:link {\n",
       "    font-family: Gentium, sans-serif;\n",
       "    font-size: large;\n",
       "    text-decoration: none;\n",
       "    color: var(--text-color);\n",
       "}\n",
       "/* hebrew */\n",
       ".txtu.hbo,.lex.hbo {\n",
       "    font-family: \"Ezra SIL\", \"SBL Hebrew\", sans-serif;\n",
       "    font-size: x-large;\n",
       "    direction: rtl ! important;\n",
       "    unicode-bidi: embed;\n",
       "}\n",
       "/* syriac */\n",
       ".txtu.syc,.lex.syc {\n",
       "    font-family: \"Estrangelo Edessa\", sans-serif;\n",
       "    font-size: large;\n",
       "    direction: rtl ! important;\n",
       "    unicode-bidi: embed;\n",
       "}\n",
       "/* neo aramaic */\n",
       ".txtu.cld,.lex.cld {\n",
       "    font-family: \"CharisSIL-R\", sans-serif;\n",
       "    font-size: medium;\n",
       "    direction: ltr ! important;\n",
       "    unicode-bidi: embed;\n",
       "}\n",
       "/* standard arabic */\n",
       ".txtu.ara,.lex.ara {\n",
       "    font-family: \"AmiriQuran\", sans-serif;\n",
       "    font-size: large;\n",
       "    direction: rtl ! important;\n",
       "    unicode-bidi: embed;\n",
       "}\n",
       "/* cuneiform */\n",
       ".txtu.akk,.lex.akk {\n",
       "    font-family: Santakku, sans-serif;\n",
       "    font-size: x-large;\n",
       "    direction: ltr ! important;\n",
       "    unicode-bidi: embed;\n",
       "}\n",
       "/* greek */\n",
       ".txtu.grc,.lex.grc a:link {\n",
       "    font-family: Gentium, sans-serif;\n",
       "    font-size: medium;\n",
       "    direction: ltr ! important;\n",
       "    unicode-bidi: embed;\n",
       "}\n",
       "a:hover {\n",
       "    text-decoration: underline | important;\n",
       "    color: #0000ff | important;\n",
       "}\n",
       ".ltr {\n",
       "    direction: ltr ! important;\n",
       "}\n",
       ".rtl {\n",
       "    direction: rtl ! important;\n",
       "}\n",
       "span.plain {\n",
       "    display: inline-block;\n",
       "    white-space: pre-wrap;\n",
       "    text-align: start;\n",
       "}\n",
       ".features {\n",
       "    font-family: monospace;\n",
       "    font-size: medium;\n",
       "    font-weight: bold;\n",
       "    color: var(--features);\n",
       "    display: flex;\n",
       "    flex-flow: column nowrap;\n",
       "    justify-content: flex-start;\n",
       "    align-items: flex-start;\n",
       "    align-content: flex-start;\n",
       "    padding: 0.1rem;\n",
       "    margin: 0.1rem;\n",
       "    direction: ltr;\n",
       "    border: var(--meta-width) solid var(--meta-color);\n",
       "    border-radius: var(--meta-width);\n",
       "}\n",
       ".features div,.features span {\n",
       "    padding: 0;\n",
       "    margin: -0.1rem 0;\n",
       "}\n",
       ".features .f {\n",
       "    font-family: sans-serif;\n",
       "    font-size: small;\n",
       "    font-weight: normal;\n",
       "    color: #5555bb;\n",
       "}\n",
       ".features .xft {\n",
       "  color: #000000;\n",
       "  background-color: #eeeeee;\n",
       "  font-size: medium;\n",
       "  margin: 0.1rem 0rem;\n",
       "}\n",
       ".features .xft .f {\n",
       "  color: #000000;\n",
       "  background-color: #eeeeee;\n",
       "  font-size: small;\n",
       "  font-weight: normal;\n",
       "}\n",
       ".section {\n",
       "    font-family: sans-serif;\n",
       "    font-size: small;\n",
       "    font-weight: bold;\n",
       "    color: var(--section);\n",
       "}\n",
       ".structure {\n",
       "    font-family: sans-serif;\n",
       "    font-size: small;\n",
       "    font-weight: bold;\n",
       "    color: var(--structure);\n",
       "}\n",
       ".comments {\n",
       "    display: flex;\n",
       "    justify-content: flex-start;\n",
       "    align-items: flex-start;\n",
       "    align-content: flex-start;\n",
       "    flex-flow: column nowrap;\n",
       "}\n",
       ".nd {\n",
       "    font-family: sans-serif;\n",
       "    font-size: small;\n",
       "    color: var(--node);\n",
       "    vertical-align: super;\n",
       "}\n",
       ".lex {\n",
       "  color: var(--lex-color);;\n",
       "}\n",
       ".children,.children.ltr {\n",
       "    display: flex;\n",
       "    border: 0;\n",
       "    background-color: #ffffff;\n",
       "    justify-content: flex-start;\n",
       "    align-items: flex-start;\n",
       "    align-content: flex-start;\n",
       "}\n",
       ".children.stretch {\n",
       "    align-items: stretch;\n",
       "}\n",
       ".children.hor {\n",
       "    flex-flow: row nowrap;\n",
       "}\n",
       ".children.hor.wrap {\n",
       "    flex-flow: row wrap;\n",
       "}\n",
       ".children.ver {\n",
       "    flex-flow: column nowrap;\n",
       "}\n",
       ".children.ver.wrap {\n",
       "    flex-flow: column wrap;\n",
       "}\n",
       ".contnr {\n",
       "    width: fit-content;\n",
       "    display: flex;\n",
       "    justify-content: flex-start;\n",
       "    align-items: flex-start;\n",
       "    align-content: flex-start;\n",
       "    flex-flow: column nowrap;\n",
       "    background: #ffffff none repeat scroll 0 0;\n",
       "    padding:  0.5rem 0.1rem 0.1rem 0.1rem;\n",
       "    margin: 0.8rem 0.1rem 0.1rem 0.1rem;\n",
       "    border-style: solid;\n",
       "    font-size: small;\n",
       "}\n",
       ".contnr.trm {\n",
       "    background-attachment: local;\n",
       "}\n",
       ".contnr.cnul {\n",
       "    padding:  0;\n",
       "    margin: 0;\n",
       "    border-style: solid;\n",
       "    font-size: xx-small;\n",
       "}\n",
       ".contnr.cnul,.lbl.cnul {\n",
       "    border-color: var(--border-color-nul);\n",
       "    border-width: var(--border-width-nul);\n",
       "    border-radius: var(--border-width-nul);\n",
       "}\n",
       ".contnr.c0,.lbl.c0 {\n",
       "    border-color: var(--border-color0);\n",
       "    border-width: var(--border-width0);\n",
       "    border-radius: var(--border-width0);\n",
       "}\n",
       ".contnr.c1,.lbl.c1 {\n",
       "    border-color: var(--border-color1);\n",
       "    border-width: var(--border-width1);\n",
       "    border-radius: var(--border-width1);\n",
       "}\n",
       ".contnr.c2,.lbl.c2 {\n",
       "    border-color: var(--border-color2);\n",
       "    border-width: var(--border-width2);\n",
       "    border-radius: var(--border-width2);\n",
       "}\n",
       ".contnr.c3,.lbl.c3 {\n",
       "    border-color: var(--border-color3);\n",
       "    border-width: var(--border-width3);\n",
       "    border-radius: var(--border-width3);\n",
       "}\n",
       ".contnr.c4,.lbl.c4 {\n",
       "    border-color: var(--border-color4);\n",
       "    border-width: var(--border-width4);\n",
       "    border-radius: var(--border-width4);\n",
       "}\n",
       ".contnr.l,.contnr.l>.lbl {\n",
       "    border-left-style: dotted\n",
       "}\n",
       ".contnr.r,.contnr.r>.lbl {\n",
       "    border-right-style: dotted\n",
       "}\n",
       ".contnr.lno,.contnr.lno>.lbl {\n",
       "    border-left-style: none\n",
       "}\n",
       ".contnr.rno,.contnr.rno>.lbl {\n",
       "    border-right-style: none\n",
       "}\n",
       ".lbl {\n",
       "    font-family: monospace;\n",
       "    margin-top: -1.2rem;\n",
       "    margin-left: 1rem;\n",
       "    background: #ffffff none repeat scroll 0 0;\n",
       "    padding: 0 0.3rem;\n",
       "    border-style: solid;\n",
       "    display: block;\n",
       "    color: var(--label)\n",
       "}\n",
       ".lbl.trm {\n",
       "    background-attachment: local;\n",
       "    margin-top: 0.1rem;\n",
       "    margin-left: 0.1rem;\n",
       "    padding: 0.1rem 0.1rem;\n",
       "    border-style: none;\n",
       "}\n",
       ".lbl.cnul {\n",
       "    font-size: xx-small;\n",
       "}\n",
       ".lbl.c0 {\n",
       "    font-size: small;\n",
       "}\n",
       ".lbl.c1 {\n",
       "    font-size: small;\n",
       "}\n",
       ".lbl.c2 {\n",
       "    font-size: medium;\n",
       "}\n",
       ".lbl.c3 {\n",
       "    font-size: medium;\n",
       "}\n",
       ".lbl.c4 {\n",
       "    font-size: large;\n",
       "}\n",
       ".occs {\n",
       "    font-size: small;\n",
       "}\n",
       "\n",
       "/* PROVENANCE */\n",
       "\n",
       "div.prov {\n",
       "\tmargin: 2rem;\n",
       "\tpadding: 1rem;\n",
       "\tborder: 0.1rem solid var(--fog-rim);\n",
       "}\n",
       "div.pline {\n",
       "\tdisplay: flex;\n",
       "\tflex-flow: row nowrap;\n",
       "\tjustify-content: stretch;\n",
       "\talign-items: baseline;\n",
       "}\n",
       "div.p2line {\n",
       "\tmargin-left: 2em;\n",
       "\tdisplay: flex;\n",
       "\tflex-flow: row nowrap;\n",
       "\tjustify-content: stretch;\n",
       "\talign-items: baseline;\n",
       "}\n",
       "div.psline {\n",
       "\tdisplay: flex;\n",
       "\tflex-flow: row nowrap;\n",
       "\tjustify-content: stretch;\n",
       "\talign-items: baseline;\n",
       "\tbackground-color: var(--gold-mist-back);\n",
       "}\n",
       "div.pname {\n",
       "\tflex: 0 0 5rem;\n",
       "\tfont-weight: bold;\n",
       "}\n",
       "div.pval {\n",
       "    flex: 1 1 auto;\n",
       "}\n",
       "\n",
       ":root {\n",
       "\t--node:             hsla(120, 100%,  20%, 1.0  );\n",
       "\t--label:            hsla(  0, 100%,  20%, 1.0  );\n",
       "\t--section:          hsla(  0, 100%,  25%, 1.0  );\n",
       "\t--structure:        hsla(120, 100%,  25%, 1.0  );\n",
       "\t--features:         hsla(  0,   0%,  30%, 1.0  );\n",
       "  --text-color:       hsla( 60,  80%,  10%, 1.0  );\n",
       "  --lex-color:        hsla(220,  90%,  60%, 1.0  );\n",
       "  --meta-color:       hsla(  0,   0%,  90%, 0.7  );\n",
       "  --meta-width:       0.15rem;\n",
       "  --border-color-nul: hsla(  0,   0%,  90%, 0.5  );\n",
       "  --border-color0:    hsla(  0,   0%,  90%, 0.9  );\n",
       "  --border-color1:    hsla(  0,   0%,  80%, 0.9  );\n",
       "  --border-color2:    hsla(  0,   0%,  70%, 0.9  );\n",
       "  --border-color3:    hsla(  0,   0%,  80%, 0.8  );\n",
       "  --border-color4:    hsla(  0,   0%,  60%, 0.9  );\n",
       "  --border-width-nul: 0.1rem;\n",
       "  --border-width0:    0.1rem;\n",
       "  --border-width1:    0.15rem;\n",
       "  --border-width2:    0.2rem;\n",
       "  --border-width3:    0.3rem;\n",
       "  --border-width4:    0.25rem;\n",
       "}\n",
       ".hl {\n",
       "  background-color: var(--hl-strong);\n",
       "}\n",
       "span.hl {\n",
       "\tbackground-color: var(--hl-strong);\n",
       "\tborder-width: 0;\n",
       "\tborder-radius: 0.1rem;\n",
       "\tborder-style: solid;\n",
       "}\n",
       "div.contnr.hl,div.lbl.hl {\n",
       "  background-color: var(--hl-strong);\n",
       "}\n",
       "div.contnr.hl {\n",
       "  border-color: var(--hl-rim) ! important;\n",
       "\tborder-width: 0.2rem ! important;\n",
       "}\n",
       "\n",
       "span.hlbx {\n",
       "\tborder-color: var(--hl-rim);\n",
       "\tborder-width: 0.2rem;\n",
       "\tborder-style: solid;\n",
       "\tborder-radius: 0.3rem;\n",
       "  padding: 0.2rem;\n",
       "  margin: 0.2rem;\n",
       "}\n",
       "\n",
       "span.plain {\n",
       "  display: inline-block;\n",
       "  white-space: pre-wrap;\n",
       "}\n",
       "\n",
       ":root {\n",
       "\t--hl-strong:        hsla( 60, 100%,  70%, 0.9  );\n",
       "\t--hl-rim:           hsla( 55,  80%,  50%, 1.0  );\n",
       "}\n",
       "</style>"
      ],
      "text/plain": [
       "<IPython.core.display.HTML object>"
      ]
     },
     "metadata": {},
     "output_type": "display_data"
    }
   ],
   "source": [
    "from pathlib import Path\n",
    "\n",
    "# ETCBC's BHSA data\n",
    "from tf.fabric import Fabric\n",
    "from tf.app import use\n",
    "\n",
    "# stats & data-containers\n",
    "import collections, math, re, random, csv\n",
    "import pandas as pd\n",
    "import numpy as np\n",
    "import scipy.stats as stats\n",
    "from sklearn.decomposition import PCA\n",
    "from sklearn.metrics.pairwise import pairwise_distances\n",
    "from kneed import KneeLocator # https://github.com/arvkevi/kneed\n",
    "\n",
    "# data visualizations\n",
    "import seaborn as sns\n",
    "import matplotlib.pyplot as plt\n",
    "from matplotlib import rcParams\n",
    "rcParams['font.serif'] = ['Times New Roman']\n",
    "\n",
    "from IPython.display import HTML, display, Image\n",
    "from adjustText import adjust_text # fixes overlapping scatterplot annotations\n",
    "\n",
    "# custom modules\n",
    "from pyscripts.contextparameters import deliver_params\n",
    "from pyscripts.deliver_data import deliver_data\n",
    "from pyscripts.pca import apply_pca\n",
    "import pyscripts.significance as my_stats\n",
    "#from pyscripts import feature_formatting\n",
    "\n",
    "# prep the Hebrew syntax data\n",
    "name = 'noun_semantics'\n",
    "hebrew_data = ['~/github/etcbc/{}/tf/c'.format(direc) for direc in ('bhsa','lingo/heads', 'heads', 'phono')] # data dirs\n",
    "load_features = '''\n",
    "typ phono lex_utf8 lex\n",
    "voc_lex_utf8 voc_lex gloss\n",
    "freq_lex pdp sp ls\n",
    "language\n",
    "rela number function\n",
    "vs vt\n",
    "code label\n",
    "\n",
    "head obj_prep sem_set nhead\n",
    "heads noun_heads\n",
    "''' \n",
    "\n",
    "# Text Fabric load statements\n",
    "TF = Fabric(locations=hebrew_data)\n",
    "api = TF.load(load_features)\n",
    "B = use('bhsa', api=api, hoist=globals(), silent=True) # Bhsa functions for search and visualizing text"
   ]
  },
  {
   "cell_type": "code",
   "execution_count": 63,
   "metadata": {},
   "outputs": [],
   "source": [
    "# configure paths for figures and data\n",
    "plot_path = Path('results/plots/')\n",
    "table_path = Path('results/tables')\n",
    "fisher_data = table_path.joinpath('fisher_scores.csv')\n",
    "\n",
    "def savefig(name):\n",
    "    plt.savefig(plot_path.joinpath(name), format='svg', bbox_inches='tight')\n",
    "def savecsv(name, df):\n",
    "    df.to_csv(table_path.joinpath(name))"
   ]
  },
  {
   "cell_type": "code",
   "execution_count": 4,
   "metadata": {},
   "outputs": [],
   "source": [
    "def reverse_hb(heb_text):\n",
    "    '''\n",
    "    Reverses order of left-to-right text \n",
    "    for good matplotlib formatting.\n",
    "    '''\n",
    "    return ''.join(reversed(heb_text))\n",
    "\n",
    "def show_word_list(word_nodes, joiner='&nbsp;&nbsp;|', title=''):\n",
    "    '''\n",
    "    Displays Hebrew for a pipe-separated list of word nodes\n",
    "    Good for seeing lexemes without taking up screen space.\n",
    "    '''\n",
    "    formatted = joiner.join(T.text(node) for node in word_nodes)\n",
    "    display(HTML(formatted))\n",
    "    \n",
    "def show_subphrases(phrase, direction=L.d):\n",
    "    '''\n",
    "    A simple function to print subphrases\n",
    "    and their relations to each other.\n",
    "    '''\n",
    "    for sp in direction(phrase, 'subphrase'):\n",
    "        \n",
    "        mother = E.mother.f(sp)[0] if E.mother.f(sp) else ''\n",
    "        mother_text = T.text(mother)\n",
    "        \n",
    "        print('-'*7 + str(sp) + '-'*16)\n",
    "        print()\n",
    "        print(f'{T.text(sp)} -{F.rela.v(sp)}-> {mother_text}')\n",
    "        print(f'nodes:  {sp} -{F.rela.v(sp)}-> {mother}')\n",
    "        print(f'slots:  {L.d(sp, \"word\")} -{F.rela.v(sp)}-> {L.d(mother or 0, \"word\")}')\n",
    "        print('-'*30)"
   ]
  },
  {
   "cell_type": "markdown",
   "metadata": {},
   "source": [
    "## Corpus Size\n",
    "\n",
    "Below is the number of words included in the corpus of BHSA."
   ]
  },
  {
   "cell_type": "code",
   "execution_count": 5,
   "metadata": {},
   "outputs": [
    {
     "data": {
      "text/plain": [
       "426584"
      ]
     },
     "execution_count": 5,
     "metadata": {},
     "output_type": "execute_result"
    }
   ],
   "source": [
    "len(list(F.otype.s('word')))"
   ]
  },
  {
   "cell_type": "markdown",
   "metadata": {},
   "source": [
    "## Define a Target Noun Set\n",
    "\n",
    "*Insert discussion about the semantic relationship between iconicity and frequency with regards to the most frequent noun lexemes in the HB.*"
   ]
  },
  {
   "cell_type": "code",
   "execution_count": 6,
   "metadata": {},
   "outputs": [
    {
     "name": "stdout",
     "output_type": "stream",
     "text": [
      "  0.03s 3706 results\n"
     ]
    }
   ],
   "source": [
    "raw_search = '''\n",
    "\n",
    "lex language=Hebrew sp=subs\n",
    "\n",
    "'''\n",
    "\n",
    "raw_nouns = B.search(raw_search)"
   ]
  },
  {
   "cell_type": "markdown",
   "metadata": {},
   "source": [
    "Now we order the results on the basis of lexeme frequency."
   ]
  },
  {
   "cell_type": "code",
   "execution_count": 7,
   "metadata": {},
   "outputs": [],
   "source": [
    "raw_terms_ordered = sorted(((F.freq_lex.v(res[0]), res[0]) for res in raw_nouns), reverse=True)"
   ]
  },
  {
   "cell_type": "markdown",
   "metadata": {},
   "source": [
    "Below we have a look at the top 50 terms from the selected set. Pay attention to the feature `ls`, i.e. \"lexical set.\" This feature gives us some rudimentary semantic information about the nouns and their usual functions, and it suggests that some additional restrictions are necessary for the noun selection procedure. Note especially that several of these nouns are used in adjectival or prepositional roles (e.g.  כל ,אחד, אין, תחת)."
   ]
  },
  {
   "cell_type": "code",
   "execution_count": 8,
   "metadata": {},
   "outputs": [
    {
     "name": "stdout",
     "output_type": "stream",
     "text": [
      "כֹּל  | בֵּן  | אֱלֹהִים  | מֶלֶךְ  | אֶרֶץ  | יֹום  | אִישׁ  | פָּנֶה  | בַּיִת  | עַם  | יָד  | דָּבָר  | אָב  | עִיר  | אֶחָד  | עַיִן  | שָׁנָה  | שֵׁם  | עֶבֶד  | אַיִן  | אִשָּׁה  | שְׁנַיִם  | נֶפֶשׁ  | כֹּהֵן  | אַחַר  | דֶּרֶךְ  | אָח  | שָׁלֹשׁ  | לֵב  | רֹאשׁ  | בַּת  | מַיִם  | מֵאָה  | הַר  | גֹּוי  | אָדָם  | חָמֵשׁ  | קֹול  | תַּחַת  | פֶּה  | אֶלֶף  | עֹוד  | שֶׁבַע  | צָבָא  | קֹדֶשׁ  | אַרְבַּע  | עֹולָם  | מִשְׁפָּט  | שַׂר  | שָׁמַיִם  | "
     ]
    }
   ],
   "source": [
    "raw_nnodes = [res[1] for res in raw_terms_ordered] # isolate the word nodes of the sample\n",
    "B.displaySetup(extraFeatures={'ls', 'freq_lex'}) # config B to display ls and freq_lex\n",
    "\n",
    "# display lexeme data\n",
    "for i, node in enumerate(raw_nnodes[:50]):\n",
    "    print(T.text(node), end=' | ')"
   ]
  },
  {
   "cell_type": "markdown",
   "metadata": {},
   "source": [
    "Based on the nouns that are present, we should make some key exclusions. Many substantives have more functional or adjectival roles. Undesirable categories include copulative nouns (`nmcp`, e.g. אין), cardinal numbers (`card`), potential prepositions (`ppre`, e.g. תחת). The `ls` category of potential adverb (`padv`) contains desirable nouns like יום, but also more functionally adverbial-nouns like עוד. Thus we can see that there is a range of adverbial tendencies found in this category. Due to the potentially interesting possibility of seeing these tendencies play out in the data, we can decide to keep these instances. \n",
    "\n",
    "To be sure, the very phenomenon of \"functional\" versus \"nominal\" is worthy of further, quantitative investigation. The `ls` feature is an experimental and incomplete feature in the ETCBC, and this is precisely the kind of shortcoming this present work seeks to address. Nouns and adverbs likely sit along a sliding scale of adverbial tendencies, with adverbs nearly always functioning in such a role, and nouns exhibiting various statistical tendencies. But due to the scope of this investigation, we limit ourselves to mainly nominal words with a small inclusion of some adverbial-like substantives.\n",
    "\n",
    "We can eliminate more functional nouns by restricting the possible lexical set (`ls`) values. Below we apply those restrictions to the search template. In the case of certain quantifiers such as כל there is an `ls` feature of distributive noun (`nmdi`), yet this feature is likewise applied to nouns such as אח (\"brother\"). So it is undesirable to exclude all of these cases. Thus we depend, instead, on an additional filter list that excludes quantifiers.\n",
    "\n",
    "A few terms such as דרך and עבר are eliminated because the ETCBC labels it as a potential preposition. This is a speculative classification. So we define a seperate parameter in the template that saves this instance."
   ]
  },
  {
   "cell_type": "code",
   "execution_count": 9,
   "metadata": {},
   "outputs": [
    {
     "name": "stdout",
     "output_type": "stream",
     "text": [
      "  0.03s 3658 results\n",
      "\t48 results filtered out of raw noun list...\n",
      "\tfiltered lexemes shown below:\n"
     ]
    },
    {
     "data": {
      "text/html": [
       "כֹּל &nbsp;&nbsp;|אֶחָד &nbsp;&nbsp;|אַיִן &nbsp;&nbsp;|שְׁנַיִם &nbsp;&nbsp;|אַחַר &nbsp;&nbsp;|שָׁלֹשׁ &nbsp;&nbsp;|מֵאָה &nbsp;&nbsp;|חָמֵשׁ &nbsp;&nbsp;|תַּחַת &nbsp;&nbsp;|אֶלֶף &nbsp;&nbsp;|שֶׁבַע &nbsp;&nbsp;|אַרְבַּע &nbsp;&nbsp;|בַּיִן &nbsp;&nbsp;|עֶשְׂרִים &nbsp;&nbsp;|שֵׁשׁ &nbsp;&nbsp;|עָשָׂר &nbsp;&nbsp;|נֶגֶד &nbsp;&nbsp;|שְׁמֹנֶה &nbsp;&nbsp;|יֵשׁ &nbsp;&nbsp;|עֶשְׂרֵה &nbsp;&nbsp;|חֲצִי &nbsp;&nbsp;|עֲשָׂרָה &nbsp;&nbsp;|בֵּלֶת &nbsp;&nbsp;|בַּעַד &nbsp;&nbsp;|מְעַט &nbsp;&nbsp;|יַעַן &nbsp;&nbsp;|יֶתֶר &nbsp;&nbsp;|תֵּשַׁע &nbsp;&nbsp;|אֵצֶל &nbsp;&nbsp;|בְּלִי &nbsp;&nbsp;|עֶשֶׂר &nbsp;&nbsp;|טֶרֶם &nbsp;&nbsp;|עִמָּד &nbsp;&nbsp;|אֶפֶס &nbsp;&nbsp;|מוּל &nbsp;&nbsp;|מַעֲשֵׂר &nbsp;&nbsp;|נֹכַח &nbsp;&nbsp;|עַשְׁתֵּי &nbsp;&nbsp;|זוּלָה &nbsp;&nbsp;|רְבָבָה &nbsp;&nbsp;|עֵקֶב &nbsp;&nbsp;|אֶלֶף &nbsp;&nbsp;|רִבֹּוא &nbsp;&nbsp;|קִדְמָה &nbsp;&nbsp;|אִשׁ &nbsp;&nbsp;|חֵלֶף &nbsp;&nbsp;|קָבָלְ־ &nbsp;&nbsp;|מִסָּה "
      ],
      "text/plain": [
       "<IPython.core.display.HTML object>"
      ]
     },
     "metadata": {},
     "output_type": "display_data"
    }
   ],
   "source": [
    "exclude = '|'.join(('KL/', 'M<V/', 'JTR/', 'M<FR/', 'XYJ/')) # exclude quantifiers\n",
    "include = '|'.join(('padv', 'nmdi'))  # ok ls features\n",
    "keep = '|'.join(('DRK/', '<BR/'))\n",
    "\n",
    "'''\n",
    "Below is a TF search query for three cases:\n",
    "One is a lexeme with included ls features.\n",
    "The second is a lexeme with a null ls feature.\n",
    "The third is lexemes we want to prevent from being excluded.\n",
    "For all cases we exclude excluded lexemes.\n",
    "'''\n",
    "\n",
    "select_noun_search = f'''\n",
    "\n",
    "lex language=Hebrew\n",
    "/with/\n",
    "sp=subs ls={include} lex#{exclude}\n",
    "/or/\n",
    "sp=subs ls# lex#{exclude}\n",
    "/or/\n",
    "sp=subs lex={keep}\n",
    "/-/\n",
    "\n",
    "'''\n",
    "\n",
    "select_nouns = B.search(select_noun_search)\n",
    "noun_dat_ordered = sorted(((F.freq_lex.v(res[0]), res[0]) for res in select_nouns), reverse=True)\n",
    "nnodes_ordered = list(noun_dat[1] for noun_dat in noun_dat_ordered)\n",
    "filtered_lexs = list(node for node in raw_nnodes if node not in nnodes_ordered)\n",
    "\n",
    "print(f'\\t{len(raw_nouns) - len(select_nouns)} results filtered out of raw noun list...')\n",
    "print('\\tfiltered lexemes shown below:')\n",
    "show_word_list(filtered_lexs)"
   ]
  },
  {
   "cell_type": "markdown",
   "metadata": {},
   "source": [
    "### Plot the Nouns in Order of Frequency\n",
    "\n",
    "Now that we have obtained a filtered noun-set, we must decide a cut-off point at which to limit the present analysis. Below we plot the attested nouns and their respective frequencies."
   ]
  },
  {
   "cell_type": "code",
   "execution_count": 10,
   "metadata": {},
   "outputs": [
    {
     "data": {
      "image/png": "[encoded data removed]",
      "text/plain": [
       "<Figure size 288x288 with 1 Axes>"
      ]
     },
     "metadata": {
      "needs_background": "light"
     },
     "output_type": "display_data"
    }
   ],
   "source": [
    "# plot data\n",
    "y_freqs = [lex_data[0] for lex_data in noun_dat_ordered]\n",
    "x_rank = [i+1 for i in range(0, len(y_freqs))]\n",
    "title = 'noun frequencies in the Hebrew Bible'\n",
    "xlabel = 'noun rank'\n",
    "ylabel = 'noun frequency'\n",
    "\n",
    "# first plot\n",
    "plt.figure(figsize=(4, 4))\n",
    "plt.plot(x_rank, y_freqs, color='black', linewidth=1)\n",
    "plt.title(title + f' (ranks 1-{len(x_rank)})', size=10)\n",
    "plt.xlabel(xlabel, size=10)\n",
    "plt.ylabel(ylabel, size=10)\n",
    "plt.plot()\n",
    "plt.show()"
   ]
  },
  {
   "cell_type": "markdown",
   "metadata": {},
   "source": [
    "We zoom in closer to view ranks 1-1000...\n",
    "\n",
    "*Consider using a subplot here with 4 different zooms*"
   ]
  },
  {
   "cell_type": "code",
   "execution_count": 11,
   "metadata": {},
   "outputs": [
    {
     "data": {
      "image/png": "[encoded data removed]",
      "text/plain": [
       "<Figure size 360x288 with 1 Axes>"
      ]
     },
     "metadata": {
      "needs_background": "light"
     },
     "output_type": "display_data"
    }
   ],
   "source": [
    "# second plot\n",
    "plt.figure(figsize=(5, 4))\n",
    "plt.plot(x_rank[:1000], y_freqs[:1000], color='black', linewidth=1)\n",
    "plt.xlabel(xlabel, size=10)\n",
    "plt.ylabel(ylabel, size=10)\n",
    "plt.axvline(200, color='red', linewidth=0.8, linestyle='--')\n",
    "savefig('noun_frequencies1-1000.svg')\n",
    "plt.title(title + f' (ranks 1-1000)', size=10)\n",
    "plt.show()"
   ]
  },
  {
   "cell_type": "markdown",
   "metadata": {},
   "source": [
    "This curve is typical of Zipf's law:\n",
    "\n",
    "> Zipf's law states that given some corpus of natural language utterances, the frequency of any word is inversely proportional to its rank in the frequency table ([wikipedia](https://en.wikipedia.org/wiki/Zipf%27s_law))\n",
    "\n",
    "The curve sharply \"elbows\" at around rank 15. Between ranks 50-100 there is still an appreciable drop-off. The curve starts to significantly flatten after 200. We thus decide an arbitrary cut-off point at rank 200, based on the fact that the curve does not show any significant leveling after this point."
   ]
  },
  {
   "cell_type": "code",
   "execution_count": 12,
   "metadata": {},
   "outputs": [
    {
     "data": {
      "text/html": [
       "בֵּן &nbsp;&nbsp;|אֱלֹהִים &nbsp;&nbsp;|מֶלֶךְ &nbsp;&nbsp;|אֶרֶץ &nbsp;&nbsp;|יֹום &nbsp;&nbsp;|אִישׁ &nbsp;&nbsp;|פָּנֶה &nbsp;&nbsp;|בַּיִת &nbsp;&nbsp;|עַם &nbsp;&nbsp;|יָד &nbsp;&nbsp;|דָּבָר &nbsp;&nbsp;|אָב &nbsp;&nbsp;|עִיר &nbsp;&nbsp;|עַיִן &nbsp;&nbsp;|שָׁנָה &nbsp;&nbsp;|שֵׁם &nbsp;&nbsp;|עֶבֶד &nbsp;&nbsp;|אִשָּׁה &nbsp;&nbsp;|נֶפֶשׁ &nbsp;&nbsp;|כֹּהֵן &nbsp;&nbsp;|דֶּרֶךְ &nbsp;&nbsp;|אָח &nbsp;&nbsp;|לֵב &nbsp;&nbsp;|רֹאשׁ &nbsp;&nbsp;|בַּת &nbsp;&nbsp;|מַיִם &nbsp;&nbsp;|הַר &nbsp;&nbsp;|גֹּוי &nbsp;&nbsp;|אָדָם &nbsp;&nbsp;|קֹול &nbsp;&nbsp;|פֶּה &nbsp;&nbsp;|עֹוד &nbsp;&nbsp;|צָבָא &nbsp;&nbsp;|קֹדֶשׁ &nbsp;&nbsp;|עֹולָם &nbsp;&nbsp;|מִשְׁפָּט &nbsp;&nbsp;|שַׂר &nbsp;&nbsp;|שָׁמַיִם &nbsp;&nbsp;|תָּוֶךְ &nbsp;&nbsp;|חֶרֶב &nbsp;&nbsp;|כֶּסֶף &nbsp;&nbsp;|מִזְבֵּחַ &nbsp;&nbsp;|מָקֹום &nbsp;&nbsp;|יָם &nbsp;&nbsp;|זָהָב &nbsp;&nbsp;|אֵשׁ &nbsp;&nbsp;|רוּחַ &nbsp;&nbsp;|נְאֻם &nbsp;&nbsp;|שַׁעַר &nbsp;&nbsp;|דָּם &nbsp;&nbsp;|אֹהֶל &nbsp;&nbsp;|סָבִיב &nbsp;&nbsp;|אָדֹון &nbsp;&nbsp;|עֵץ &nbsp;&nbsp;|כְּלִי &nbsp;&nbsp;|שָׂדֶה &nbsp;&nbsp;|נָבִיא &nbsp;&nbsp;|רָעָה &nbsp;&nbsp;|מִלְחָמָה &nbsp;&nbsp;|מְאֹד &nbsp;&nbsp;|לֶחֶם &nbsp;&nbsp;|עֵת &nbsp;&nbsp;|חַטָּאת &nbsp;&nbsp;|עֹלָה &nbsp;&nbsp;|חֹדֶשׁ &nbsp;&nbsp;|בְּרִית &nbsp;&nbsp;|אַף &nbsp;&nbsp;|פַּרְעֹה &nbsp;&nbsp;|צֹאן &nbsp;&nbsp;|אֶבֶן &nbsp;&nbsp;|מִדְבָּר &nbsp;&nbsp;|בָּשָׂר &nbsp;&nbsp;|מַטֶּה &nbsp;&nbsp;|לֵבָב &nbsp;&nbsp;|רֶגֶל &nbsp;&nbsp;|אַמָּה &nbsp;&nbsp;|חֶסֶד &nbsp;&nbsp;|חַיִל &nbsp;&nbsp;|נַעַר &nbsp;&nbsp;|גְּבוּל &nbsp;&nbsp;|שָׁלֹום &nbsp;&nbsp;|אֵל &nbsp;&nbsp;|מַעֲשֶׂה &nbsp;&nbsp;|עָוֹן &nbsp;&nbsp;|זֶרַע &nbsp;&nbsp;|קֶרֶב &nbsp;&nbsp;|לַיְלָה &nbsp;&nbsp;|בַּד &nbsp;&nbsp;|נַחֲלָה &nbsp;&nbsp;|אֲדָמָה &nbsp;&nbsp;|מֹועֵד &nbsp;&nbsp;|תֹּורָה &nbsp;&nbsp;|אֵם &nbsp;&nbsp;|בֶּגֶד &nbsp;&nbsp;|מַחֲנֶה &nbsp;&nbsp;|בֹּקֶר &nbsp;&nbsp;|מַלְאָךְ &nbsp;&nbsp;|מִנְחָה &nbsp;&nbsp;|אֲרֹון &nbsp;&nbsp;|כָּבֹוד &nbsp;&nbsp;|חָצֵר &nbsp;&nbsp;|כַּף &nbsp;&nbsp;|שֶׁמֶן &nbsp;&nbsp;|שֵׁבֶט &nbsp;&nbsp;|בְּהֵמָה &nbsp;&nbsp;|מִשְׁפָּחָה &nbsp;&nbsp;|אֹזֶן &nbsp;&nbsp;|רֵעַ &nbsp;&nbsp;|סֵפֶר &nbsp;&nbsp;|בָּקָר &nbsp;&nbsp;|מִצְוָה &nbsp;&nbsp;|שָׂפָה &nbsp;&nbsp;|דֹּור &nbsp;&nbsp;|בַּעַל &nbsp;&nbsp;|חוּץ &nbsp;&nbsp;|פֶּתַח &nbsp;&nbsp;|אַיִל &nbsp;&nbsp;|זֶבַח &nbsp;&nbsp;|מָוֶת &nbsp;&nbsp;|גִּבֹּור &nbsp;&nbsp;|צְדָקָה &nbsp;&nbsp;|רֹב &nbsp;&nbsp;|צָפֹון &nbsp;&nbsp;|חָכְמָה &nbsp;&nbsp;|עֵדָה &nbsp;&nbsp;|חַיִּים &nbsp;&nbsp;|עֲבֹדָה &nbsp;&nbsp;|יַיִן &nbsp;&nbsp;|מַעַל &nbsp;&nbsp;|מִשְׁכָּן &nbsp;&nbsp;|נַחַל &nbsp;&nbsp;|יָמִין &nbsp;&nbsp;|נְחֹשֶׁת &nbsp;&nbsp;|סוּס &nbsp;&nbsp;|כִּסֵּא &nbsp;&nbsp;|שֶׁמֶשׁ &nbsp;&nbsp;|מִסְפָּר &nbsp;&nbsp;|עֶרֶב &nbsp;&nbsp;|חֹומָה &nbsp;&nbsp;|פַּר &nbsp;&nbsp;|נָשִׂיא &nbsp;&nbsp;|חֹק &nbsp;&nbsp;|אֶמֶת &nbsp;&nbsp;|חֵמָה &nbsp;&nbsp;|כֹּחַ &nbsp;&nbsp;|קָהָל &nbsp;&nbsp;|עֶצֶם &nbsp;&nbsp;|בְּכֹר &nbsp;&nbsp;|צֶדֶק &nbsp;&nbsp;|רֶכֶב &nbsp;&nbsp;|נָהָר &nbsp;&nbsp;|פְּרִי &nbsp;&nbsp;|פַּעַם &nbsp;&nbsp;|תֹּועֵבָה &nbsp;&nbsp;|לָשֹׁון &nbsp;&nbsp;|מִשְׁפַּחַת &nbsp;&nbsp;|אֹור &nbsp;&nbsp;|מִגְרָשׁ &nbsp;&nbsp;|אָחֹות &nbsp;&nbsp;|שֶׁקֶר &nbsp;&nbsp;|נֶגֶב &nbsp;&nbsp;|שַׁבָּת &nbsp;&nbsp;|עַמּוּד &nbsp;&nbsp;|עָפָר &nbsp;&nbsp;|כָּנָף &nbsp;&nbsp;|כֶּבֶשׂ &nbsp;&nbsp;|מְלָאכָה &nbsp;&nbsp;|תָּמִיד &nbsp;&nbsp;|חֻקָּה &nbsp;&nbsp;|בָּמָה &nbsp;&nbsp;|מַרְאֶה &nbsp;&nbsp;|רָעָב &nbsp;&nbsp;|רֹחַב &nbsp;&nbsp;|חַיָּה &nbsp;&nbsp;|עֹור &nbsp;&nbsp;|חֲמֹור &nbsp;&nbsp;|אֹרֶךְ &nbsp;&nbsp;|שִׂמְחָה &nbsp;&nbsp;|מַמְלָכָה &nbsp;&nbsp;|פֶּשַׁע &nbsp;&nbsp;|דַּעַת &nbsp;&nbsp;|גֵּר &nbsp;&nbsp;|כֶּרֶם &nbsp;&nbsp;|קָצֶה &nbsp;&nbsp;|חֵלֶב &nbsp;&nbsp;|מַלְכוּת &nbsp;&nbsp;|זְרֹועַ &nbsp;&nbsp;|כְּרוּב &nbsp;&nbsp;|עֵבֶר &nbsp;&nbsp;|יֶלֶד &nbsp;&nbsp;|שֶׁקֶל &nbsp;&nbsp;|שֶׁלֶם &nbsp;&nbsp;|דֶּלֶת &nbsp;&nbsp;|קֶדֶם &nbsp;&nbsp;|עֵצָה &nbsp;&nbsp;|עָנָן &nbsp;&nbsp;|פֵּאָה &nbsp;&nbsp;|הָמֹון &nbsp;&nbsp;|עֵדוּת &nbsp;&nbsp;|הֵיכָל "
      ],
      "text/plain": [
       "<IPython.core.display.HTML object>"
      ]
     },
     "metadata": {},
     "output_type": "display_data"
    },
    {
     "name": "stdout",
     "output_type": "stream",
     "text": [
      "\n",
      "73991 nouns ready for searches\n"
     ]
    }
   ],
   "source": [
    "target_nouns = nnodes_ordered[:200]\n",
    "tnoun_instances = set(word for lex in target_nouns for word in L.d(lex, 'word'))\n",
    "\n",
    "show_word_list(target_nouns) # temporary comment out while bug is fixed\n",
    "print(f'\\n{len(tnoun_instances)} nouns ready for searches')"
   ]
  },
  {
   "cell_type": "code",
   "execution_count": 13,
   "metadata": {},
   "outputs": [],
   "source": [
    "nouns_text_freqs = sorted(\n",
    "    ((F.voc_lex_utf8.v(L.d(noun,'word')[0]), F.freq_lex.v(noun)) \n",
    "         for noun in target_nouns), key=lambda k: k[-1], reverse=True\n",
    ")"
   ]
  },
  {
   "cell_type": "code",
   "execution_count": 14,
   "metadata": {},
   "outputs": [
    {
     "data": {
      "text/plain": [
       "'בֵּן, אֱלֹהִים, מֶלֶךְ, אֶרֶץ, יֹום, אִישׁ, פָּנֶה, בַּיִת, עַם, יָד, דָּבָר, אָב, עִיר, עַיִן, שָׁנָה, שֵׁם, עֶבֶד, אִשָּׁה, נֶפֶשׁ, כֹּהֵן, דֶּרֶךְ, אָח, לֵב, רֹאשׁ, בַּת, מַיִם, הַר, גֹּוי, אָדָם, קֹול, פֶּה, עֹוד, צָבָא, קֹדֶשׁ, עֹולָם, מִשְׁפָּט, שַׂר, שָׁמַיִם, תָּוֶךְ, חֶרֶב, כֶּסֶף, מִזְבֵּחַ, מָקֹום, יָם, זָהָב, אֵשׁ, רוּחַ, נְאֻם, שַׁעַר, דָּם, אֹהֶל, סָבִיב, אָדֹון, עֵץ, כְּלִי, שָׂדֶה, נָבִיא, רָעָה, מִלְחָמָה, מְאֹד, לֶחֶם, עֵת, חַטָּאת, עֹלָה, חֹדֶשׁ, בְּרִית, אַף, פַּרְעֹה, צֹאן, אֶבֶן, מִדְבָּר, בָּשָׂר, מַטֶּה, לֵבָב, רֶגֶל, אַמָּה, חֶסֶד, חַיִל, נַעַר, גְּבוּל, שָׁלֹום, אֵל, מַעֲשֶׂה, עָוֹן, זֶרַע, קֶרֶב, לַיְלָה, בַּד, נַחֲלָה, אֲדָמָה, מֹועֵד, תֹּורָה, אֵם, בֶּגֶד, מַחֲנֶה, בֹּקֶר, מַלְאָךְ, מִנְחָה, אֲרֹון, כָּבֹוד, חָצֵר, כַּף, שֶׁמֶן, שֵׁבֶט, בְּהֵמָה, מִשְׁפָּחָה, אֹזֶן, רֵעַ, סֵפֶר, בָּקָר, מִצְוָה, שָׂפָה, דֹּור, בַּעַל, חוּץ, פֶּתַח, אַיִל, זֶבַח, מָוֶת, גִּבֹּור, צְדָקָה, רֹב, צָפֹון, חָכְמָה, עֵדָה, חַיִּים, עֲבֹדָה, יַיִן, מַעַל, מִשְׁכָּן, נַחַל, יָמִין, נְחֹשֶׁת, סוּס, כִּסֵּא, שֶׁמֶשׁ, מִסְפָּר, עֶרֶב, חֹומָה, פַּר, נָשִׂיא, חֹק, אֶמֶת, חֵמָה, כֹּחַ, קָהָל, עֶצֶם, בְּכֹר, צֶדֶק, רֶכֶב, נָהָר, פְּרִי, פַּעַם, תֹּועֵבָה, לָשֹׁון, מִשְׁפַּחַת, אֹור, מִגְרָשׁ, אָחֹות, שֶׁקֶר, נֶגֶב, שַׁבָּת, עַמּוּד, עָפָר, כָּנָף, כֶּבֶשׂ, מְלָאכָה, תָּמִיד, חֻקָּה, בָּמָה, מַרְאֶה, רָעָב, רֹחַב, חַיָּה, עֹור, חֲמֹור, אֹרֶךְ, שִׂמְחָה, מַמְלָכָה, פֶּשַׁע, דַּעַת, גֵּר, כֶּרֶם, קָצֶה, חֵלֶב, מַלְכוּת, זְרֹועַ, כְּרוּב, עֵבֶר, יֶלֶד, שֶׁקֶל, שֶׁלֶם, דֶּלֶת, קֶדֶם, עֵצָה, עָנָן, פֵּאָה, הָמֹון, עֵדוּת, הֵיכָל'"
      ]
     },
     "execution_count": 14,
     "metadata": {},
     "output_type": "execute_result"
    }
   ],
   "source": [
    "', '.join(f'{noun}' for noun, freq in nouns_text_freqs)"
   ]
  },
  {
   "cell_type": "markdown",
   "metadata": {},
   "source": [
    "## Strategy for Context Selection\n",
    "\n",
    "See [pyscripts/contextparameters.py](pyscripts/contextparameters.py) for the full delineation of these patterns and to see how they've been selected and tokenized. "
   ]
  },
  {
   "cell_type": "code",
   "execution_count": 15,
   "metadata": {},
   "outputs": [
    {
     "name": "stdout",
     "output_type": "stream",
     "text": [
      "done!\n"
     ]
    }
   ],
   "source": [
    "contexts = deliver_params(tnoun_instances, tf=api)\n",
    "print('done!')"
   ]
  },
  {
   "cell_type": "code",
   "execution_count": 16,
   "metadata": {},
   "outputs": [
    {
     "name": "stdout",
     "output_type": "stream",
     "text": [
      "running query on template [ T.function→ st.verb.lex ]...\n",
      "\t19884 results found.\n",
      "running query on template [ T.prep.funct→ st.verb.lex ]...\n",
      "\t15009 results found.\n",
      "running query on template [ lex.PreC→ T.Subj ]...\n",
      "\t2525 results found.\n",
      "running query on template [ lex.prep.PreC→ T.Subj ]...\n",
      "\t1136 results found.\n",
      "running query on template [ T.PreC→ lex.Subj ]...\n",
      "\t930 results found.\n",
      "running query on template [ T.prep.PreC→ lex.Subj ]...\n",
      "\t1504 results found.\n",
      "running query on template [ lex.coord→ T ]...\n",
      "\t4217 results found.\n",
      "running query on template [ T.coord→ lex ]...\n",
      "\t4336 results found.\n",
      "running query on template [ lex.atr→ T ]...\n",
      "\t1588 results found.\n",
      "running query on template [ lex.coord→ T (phrase atoms) ]...\n",
      "\t704 results found.\n",
      "running query on template [ T.coord→ lex (phrase atoms) ]...\n",
      "\t600 results found.\n",
      "running query on template [ lex.appo→ T ]...\n",
      "\t1410 results found.\n",
      "running query on template [ T.appo→ lex ]...\n",
      "\t3640 results found.\n"
     ]
    }
   ],
   "source": [
    "data = deliver_data(contexts, tf=TF)"
   ]
  },
  {
   "cell_type": "markdown",
   "metadata": {},
   "source": [
    "Let's have a look at the first example..."
   ]
  },
  {
   "cell_type": "code",
   "execution_count": 17,
   "metadata": {},
   "outputs": [
    {
     "data": {
      "text/plain": [
       "{'clause': 427553,\n",
       " 'book': 'Gen',\n",
       " 'ref': 'Gen 1:1',\n",
       " 'clause_text': 'בְּרֵאשִׁ֖ית בָּרָ֣א אֱלֹהִ֑ים אֵ֥ת הַשָּׁמַ֖יִם וְאֵ֥ת הָאָֽרֶץ׃ ',\n",
       " 'target': 'אלהים.n1',\n",
       " 'target_node': 4,\n",
       " 'basis': 'T.Subj→ ברא.v1.qal',\n",
       " 'basis_nodes': (3, 651544),\n",
       " 'verse_text': 'בְּרֵאשִׁ֖ית בָּרָ֣א אֱלֹהִ֑ים אֵ֥ת הַשָּׁמַ֖יִם וְאֵ֥ת הָאָֽרֶץ׃ ',\n",
       " 'context_type': 'T.function→ st.verb.lex',\n",
       " 'function': 'Subj'}"
      ]
     },
     "execution_count": 17,
     "metadata": {},
     "output_type": "execute_result"
    }
   ],
   "source": [
    "data[0]"
   ]
  },
  {
   "cell_type": "markdown",
   "metadata": {},
   "source": [
    "Now we put the data into a dataframe. We also export the dataframe for reference."
   ]
  },
  {
   "cell_type": "code",
   "execution_count": 18,
   "metadata": {},
   "outputs": [
    {
     "data": {
      "text/html": [
       "<div>\n",
       "<style scoped>\n",
       "    .dataframe tbody tr th:only-of-type {\n",
       "        vertical-align: middle;\n",
       "    }\n",
       "\n",
       "    .dataframe tbody tr th {\n",
       "        vertical-align: top;\n",
       "    }\n",
       "\n",
       "    .dataframe thead th {\n",
       "        text-align: right;\n",
       "    }\n",
       "</style>\n",
       "<table border=\"1\" class=\"dataframe\">\n",
       "  <thead>\n",
       "    <tr style=\"text-align: right;\">\n",
       "      <th></th>\n",
       "      <th>book</th>\n",
       "      <th>ref</th>\n",
       "      <th>clause_text</th>\n",
       "      <th>target</th>\n",
       "      <th>target_node</th>\n",
       "      <th>basis</th>\n",
       "      <th>basis_nodes</th>\n",
       "      <th>verse_text</th>\n",
       "      <th>context_type</th>\n",
       "      <th>function</th>\n",
       "    </tr>\n",
       "    <tr>\n",
       "      <th>clause</th>\n",
       "      <th></th>\n",
       "      <th></th>\n",
       "      <th></th>\n",
       "      <th></th>\n",
       "      <th></th>\n",
       "      <th></th>\n",
       "      <th></th>\n",
       "      <th></th>\n",
       "      <th></th>\n",
       "      <th></th>\n",
       "    </tr>\n",
       "  </thead>\n",
       "  <tbody>\n",
       "    <tr>\n",
       "      <th>427553</th>\n",
       "      <td>Gen</td>\n",
       "      <td>Gen 1:1</td>\n",
       "      <td>בְּרֵאשִׁ֖ית בָּרָ֣א אֱלֹהִ֑ים אֵ֥ת הַשָּׁמַ֖י...</td>\n",
       "      <td>אלהים.n1</td>\n",
       "      <td>4</td>\n",
       "      <td>T.Subj→ ברא.v1.qal</td>\n",
       "      <td>(3, 651544)</td>\n",
       "      <td>בְּרֵאשִׁ֖ית בָּרָ֣א אֱלֹהִ֑ים אֵ֥ת הַשָּׁמַ֖י...</td>\n",
       "      <td>T.function→ st.verb.lex</td>\n",
       "      <td>Subj</td>\n",
       "    </tr>\n",
       "    <tr>\n",
       "      <th>427553</th>\n",
       "      <td>Gen</td>\n",
       "      <td>Gen 1:1</td>\n",
       "      <td>בְּרֵאשִׁ֖ית בָּרָ֣א אֱלֹהִ֑ים אֵ֥ת הַשָּׁמַ֖י...</td>\n",
       "      <td>שׁמים.n1</td>\n",
       "      <td>7</td>\n",
       "      <td>T.Objc→ ברא.v1.qal</td>\n",
       "      <td>(3, 651545)</td>\n",
       "      <td>בְּרֵאשִׁ֖ית בָּרָ֣א אֱלֹהִ֑ים אֵ֥ת הַשָּׁמַ֖י...</td>\n",
       "      <td>T.function→ st.verb.lex</td>\n",
       "      <td>Objc</td>\n",
       "    </tr>\n",
       "    <tr>\n",
       "      <th>427553</th>\n",
       "      <td>Gen</td>\n",
       "      <td>Gen 1:1</td>\n",
       "      <td>בְּרֵאשִׁ֖ית בָּרָ֣א אֱלֹהִ֑ים אֵ֥ת הַשָּׁמַ֖י...</td>\n",
       "      <td>ארץ.n1</td>\n",
       "      <td>11</td>\n",
       "      <td>T.Objc→ ברא.v1.qal</td>\n",
       "      <td>(3, 651545)</td>\n",
       "      <td>בְּרֵאשִׁ֖ית בָּרָ֣א אֱלֹהִ֑ים אֵ֥ת הַשָּׁמַ֖י...</td>\n",
       "      <td>T.function→ st.verb.lex</td>\n",
       "      <td>Objc</td>\n",
       "    </tr>\n",
       "    <tr>\n",
       "      <th>427557</th>\n",
       "      <td>Gen</td>\n",
       "      <td>Gen 1:3</td>\n",
       "      <td>וַיֹּ֥אמֶר אֱלֹהִ֖ים</td>\n",
       "      <td>אלהים.n1</td>\n",
       "      <td>34</td>\n",
       "      <td>T.Subj→ אמר.v1.qal</td>\n",
       "      <td>(33, 651559)</td>\n",
       "      <td>וַיֹּ֥אמֶר אֱלֹהִ֖ים יְהִ֣י אֹ֑ור וַֽיְהִי־אֹֽ...</td>\n",
       "      <td>T.function→ st.verb.lex</td>\n",
       "      <td>Subj</td>\n",
       "    </tr>\n",
       "    <tr>\n",
       "      <th>427560</th>\n",
       "      <td>Gen</td>\n",
       "      <td>Gen 1:4</td>\n",
       "      <td>וַיַּ֧רְא אֱלֹהִ֛ים אֶת־הָאֹ֖ור</td>\n",
       "      <td>אלהים.n1</td>\n",
       "      <td>42</td>\n",
       "      <td>T.Subj→ ראה.v1.qal</td>\n",
       "      <td>(41, 651567)</td>\n",
       "      <td>וַיַּ֧רְא אֱלֹהִ֛ים אֶת־הָאֹ֖ור כִּי־טֹ֑וב וַי...</td>\n",
       "      <td>T.function→ st.verb.lex</td>\n",
       "      <td>Subj</td>\n",
       "    </tr>\n",
       "  </tbody>\n",
       "</table>\n",
       "</div>"
      ],
      "text/plain": [
       "       book      ref                                        clause_text  \\\n",
       "clause                                                                    \n",
       "427553  Gen  Gen 1:1  בְּרֵאשִׁ֖ית בָּרָ֣א אֱלֹהִ֑ים אֵ֥ת הַשָּׁמַ֖י...   \n",
       "427553  Gen  Gen 1:1  בְּרֵאשִׁ֖ית בָּרָ֣א אֱלֹהִ֑ים אֵ֥ת הַשָּׁמַ֖י...   \n",
       "427553  Gen  Gen 1:1  בְּרֵאשִׁ֖ית בָּרָ֣א אֱלֹהִ֑ים אֵ֥ת הַשָּׁמַ֖י...   \n",
       "427557  Gen  Gen 1:3                              וַיֹּ֥אמֶר אֱלֹהִ֖ים    \n",
       "427560  Gen  Gen 1:4                   וַיַּ֧רְא אֱלֹהִ֛ים אֶת־הָאֹ֖ור    \n",
       "\n",
       "          target  target_node               basis   basis_nodes  \\\n",
       "clause                                                            \n",
       "427553  אלהים.n1            4  T.Subj→ ברא.v1.qal   (3, 651544)   \n",
       "427553  שׁמים.n1            7  T.Objc→ ברא.v1.qal   (3, 651545)   \n",
       "427553    ארץ.n1           11  T.Objc→ ברא.v1.qal   (3, 651545)   \n",
       "427557  אלהים.n1           34  T.Subj→ אמר.v1.qal  (33, 651559)   \n",
       "427560  אלהים.n1           42  T.Subj→ ראה.v1.qal  (41, 651567)   \n",
       "\n",
       "                                               verse_text  \\\n",
       "clause                                                      \n",
       "427553  בְּרֵאשִׁ֖ית בָּרָ֣א אֱלֹהִ֑ים אֵ֥ת הַשָּׁמַ֖י...   \n",
       "427553  בְּרֵאשִׁ֖ית בָּרָ֣א אֱלֹהִ֑ים אֵ֥ת הַשָּׁמַ֖י...   \n",
       "427553  בְּרֵאשִׁ֖ית בָּרָ֣א אֱלֹהִ֑ים אֵ֥ת הַשָּׁמַ֖י...   \n",
       "427557  וַיֹּ֥אמֶר אֱלֹהִ֖ים יְהִ֣י אֹ֑ור וַֽיְהִי־אֹֽ...   \n",
       "427560  וַיַּ֧רְא אֱלֹהִ֛ים אֶת־הָאֹ֖ור כִּי־טֹ֑וב וַי...   \n",
       "\n",
       "                   context_type function  \n",
       "clause                                    \n",
       "427553  T.function→ st.verb.lex     Subj  \n",
       "427553  T.function→ st.verb.lex     Objc  \n",
       "427553  T.function→ st.verb.lex     Objc  \n",
       "427557  T.function→ st.verb.lex     Subj  \n",
       "427560  T.function→ st.verb.lex     Subj  "
      ]
     },
     "execution_count": 18,
     "metadata": {},
     "output_type": "execute_result"
    }
   ],
   "source": [
    "data_df = pd.DataFrame(data)\n",
    "data_df.set_index('clause', inplace=True)\n",
    "data_df.to_csv('dataset.csv') # export dataset\n",
    "data_df.head()"
   ]
  },
  {
   "cell_type": "markdown",
   "metadata": {},
   "source": [
    "Now we'll build the co-occurrence counts."
   ]
  },
  {
   "cell_type": "code",
   "execution_count": 19,
   "metadata": {},
   "outputs": [
    {
     "data": {
      "text/html": [
       "<div>\n",
       "<style scoped>\n",
       "    .dataframe tbody tr th:only-of-type {\n",
       "        vertical-align: middle;\n",
       "    }\n",
       "\n",
       "    .dataframe tbody tr th {\n",
       "        vertical-align: top;\n",
       "    }\n",
       "\n",
       "    .dataframe thead th {\n",
       "        text-align: right;\n",
       "    }\n",
       "</style>\n",
       "<table border=\"1\" class=\"dataframe\">\n",
       "  <thead>\n",
       "    <tr style=\"text-align: right;\">\n",
       "      <th>basis</th>\n",
       "      <th>T.appo→ יהוה.n1</th>\n",
       "      <th>T.Objc→ נתן.v1.qal</th>\n",
       "      <th>T.Objc→ עשׂה.v1.qal</th>\n",
       "      <th>T.Objc→ לקח.v1.qal</th>\n",
       "      <th>T.Subj→ אמר.v1.qal</th>\n",
       "      <th>T.Subj→ בוא.v1.qal</th>\n",
       "      <th>T.coord→ בן.n1</th>\n",
       "      <th>T.ל.Cmpl→ נתן.v1.qal</th>\n",
       "      <th>T.Objc→ נשׂא.v1.qal</th>\n",
       "      <th>T.Objc→ שׂים.v1.qal</th>\n",
       "      <th>...</th>\n",
       "      <th>T.ל.Cmpl→ שׁנן.v2.piel</th>\n",
       "      <th>T.ל.Cmpl→ שׁמע.v1.piel</th>\n",
       "      <th>T.ל.Cmpl→ שׁמע.v1.nif</th>\n",
       "      <th>T.ל.Cmpl→ שׁלך.v1.hof</th>\n",
       "      <th>T.ל.Cmpl→ שׁכן.v1.hif</th>\n",
       "      <th>T.ל.Cmpl→ שׁיח.v1.qal</th>\n",
       "      <th>T.ל.Cmpl→ שׁחח.v1.qal</th>\n",
       "      <th>T.ל.Cmpl→ שׁור.v2.qal</th>\n",
       "      <th>T.ל.Cmpl→ שׁוב.v2.qal</th>\n",
       "      <th>T.Adju→ אכל.v1.pual</th>\n",
       "    </tr>\n",
       "    <tr>\n",
       "      <th>target</th>\n",
       "      <th></th>\n",
       "      <th></th>\n",
       "      <th></th>\n",
       "      <th></th>\n",
       "      <th></th>\n",
       "      <th></th>\n",
       "      <th></th>\n",
       "      <th></th>\n",
       "      <th></th>\n",
       "      <th></th>\n",
       "      <th></th>\n",
       "      <th></th>\n",
       "      <th></th>\n",
       "      <th></th>\n",
       "      <th></th>\n",
       "      <th></th>\n",
       "      <th></th>\n",
       "      <th></th>\n",
       "      <th></th>\n",
       "      <th></th>\n",
       "      <th></th>\n",
       "    </tr>\n",
       "  </thead>\n",
       "  <tbody>\n",
       "    <tr>\n",
       "      <th>בן.n1</th>\n",
       "      <td>0</td>\n",
       "      <td>15</td>\n",
       "      <td>1</td>\n",
       "      <td>23</td>\n",
       "      <td>24</td>\n",
       "      <td>34</td>\n",
       "      <td>144</td>\n",
       "      <td>32</td>\n",
       "      <td>4</td>\n",
       "      <td>2</td>\n",
       "      <td>...</td>\n",
       "      <td>1</td>\n",
       "      <td>0</td>\n",
       "      <td>0</td>\n",
       "      <td>0</td>\n",
       "      <td>0</td>\n",
       "      <td>0</td>\n",
       "      <td>0</td>\n",
       "      <td>0</td>\n",
       "      <td>0</td>\n",
       "      <td>0</td>\n",
       "    </tr>\n",
       "    <tr>\n",
       "      <th>מלך.n1</th>\n",
       "      <td>2</td>\n",
       "      <td>10</td>\n",
       "      <td>0</td>\n",
       "      <td>1</td>\n",
       "      <td>127</td>\n",
       "      <td>28</td>\n",
       "      <td>0</td>\n",
       "      <td>13</td>\n",
       "      <td>0</td>\n",
       "      <td>5</td>\n",
       "      <td>...</td>\n",
       "      <td>0</td>\n",
       "      <td>0</td>\n",
       "      <td>1</td>\n",
       "      <td>0</td>\n",
       "      <td>0</td>\n",
       "      <td>0</td>\n",
       "      <td>0</td>\n",
       "      <td>1</td>\n",
       "      <td>0</td>\n",
       "      <td>0</td>\n",
       "    </tr>\n",
       "    <tr>\n",
       "      <th>ארץ.n1</th>\n",
       "      <td>0</td>\n",
       "      <td>61</td>\n",
       "      <td>11</td>\n",
       "      <td>8</td>\n",
       "      <td>1</td>\n",
       "      <td>2</td>\n",
       "      <td>0</td>\n",
       "      <td>1</td>\n",
       "      <td>0</td>\n",
       "      <td>5</td>\n",
       "      <td>...</td>\n",
       "      <td>0</td>\n",
       "      <td>0</td>\n",
       "      <td>0</td>\n",
       "      <td>1</td>\n",
       "      <td>0</td>\n",
       "      <td>0</td>\n",
       "      <td>0</td>\n",
       "      <td>0</td>\n",
       "      <td>0</td>\n",
       "      <td>0</td>\n",
       "    </tr>\n",
       "    <tr>\n",
       "      <th>אלהים.n1</th>\n",
       "      <td>730</td>\n",
       "      <td>4</td>\n",
       "      <td>9</td>\n",
       "      <td>1</td>\n",
       "      <td>50</td>\n",
       "      <td>8</td>\n",
       "      <td>0</td>\n",
       "      <td>4</td>\n",
       "      <td>0</td>\n",
       "      <td>2</td>\n",
       "      <td>...</td>\n",
       "      <td>0</td>\n",
       "      <td>0</td>\n",
       "      <td>0</td>\n",
       "      <td>0</td>\n",
       "      <td>0</td>\n",
       "      <td>0</td>\n",
       "      <td>0</td>\n",
       "      <td>0</td>\n",
       "      <td>0</td>\n",
       "      <td>0</td>\n",
       "    </tr>\n",
       "    <tr>\n",
       "      <th>אישׁ.n1</th>\n",
       "      <td>0</td>\n",
       "      <td>6</td>\n",
       "      <td>1</td>\n",
       "      <td>24</td>\n",
       "      <td>42</td>\n",
       "      <td>34</td>\n",
       "      <td>1</td>\n",
       "      <td>14</td>\n",
       "      <td>0</td>\n",
       "      <td>1</td>\n",
       "      <td>...</td>\n",
       "      <td>0</td>\n",
       "      <td>0</td>\n",
       "      <td>0</td>\n",
       "      <td>0</td>\n",
       "      <td>0</td>\n",
       "      <td>0</td>\n",
       "      <td>0</td>\n",
       "      <td>0</td>\n",
       "      <td>0</td>\n",
       "      <td>0</td>\n",
       "    </tr>\n",
       "  </tbody>\n",
       "</table>\n",
       "<p>5 rows × 13108 columns</p>\n",
       "</div>"
      ],
      "text/plain": [
       "basis     T.appo→ יהוה.n1  T.Objc→ נתן.v1.qal  T.Objc→ עשׂה.v1.qal  \\\n",
       "target                                                               \n",
       "בן.n1                   0                  15                    1   \n",
       "מלך.n1                  2                  10                    0   \n",
       "ארץ.n1                  0                  61                   11   \n",
       "אלהים.n1              730                   4                    9   \n",
       "אישׁ.n1                 0                   6                    1   \n",
       "\n",
       "basis     T.Objc→ לקח.v1.qal  T.Subj→ אמר.v1.qal  T.Subj→ בוא.v1.qal  \\\n",
       "target                                                                 \n",
       "בן.n1                     23                  24                  34   \n",
       "מלך.n1                     1                 127                  28   \n",
       "ארץ.n1                     8                   1                   2   \n",
       "אלהים.n1                   1                  50                   8   \n",
       "אישׁ.n1                   24                  42                  34   \n",
       "\n",
       "basis     T.coord→ בן.n1  T.ל.Cmpl→ נתן.v1.qal  T.Objc→ נשׂא.v1.qal  \\\n",
       "target                                                                \n",
       "בן.n1                144                    32                    4   \n",
       "מלך.n1                 0                    13                    0   \n",
       "ארץ.n1                 0                     1                    0   \n",
       "אלהים.n1               0                     4                    0   \n",
       "אישׁ.n1                1                    14                    0   \n",
       "\n",
       "basis     T.Objc→ שׂים.v1.qal  ...  T.ל.Cmpl→ שׁנן.v2.piel  \\\n",
       "target                         ...                           \n",
       "בן.n1                       2  ...                       1   \n",
       "מלך.n1                      5  ...                       0   \n",
       "ארץ.n1                      5  ...                       0   \n",
       "אלהים.n1                    2  ...                       0   \n",
       "אישׁ.n1                     1  ...                       0   \n",
       "\n",
       "basis     T.ל.Cmpl→ שׁמע.v1.piel  T.ל.Cmpl→ שׁמע.v1.nif  \\\n",
       "target                                                    \n",
       "בן.n1                          0                      0   \n",
       "מלך.n1                         0                      1   \n",
       "ארץ.n1                         0                      0   \n",
       "אלהים.n1                       0                      0   \n",
       "אישׁ.n1                        0                      0   \n",
       "\n",
       "basis     T.ל.Cmpl→ שׁלך.v1.hof  T.ל.Cmpl→ שׁכן.v1.hif  T.ל.Cmpl→ שׁיח.v1.qal  \\\n",
       "target                                                                          \n",
       "בן.n1                         0                      0                      0   \n",
       "מלך.n1                        0                      0                      0   \n",
       "ארץ.n1                        1                      0                      0   \n",
       "אלהים.n1                      0                      0                      0   \n",
       "אישׁ.n1                       0                      0                      0   \n",
       "\n",
       "basis     T.ל.Cmpl→ שׁחח.v1.qal  T.ל.Cmpl→ שׁור.v2.qal  T.ל.Cmpl→ שׁוב.v2.qal  \\\n",
       "target                                                                          \n",
       "בן.n1                         0                      0                      0   \n",
       "מלך.n1                        0                      1                      0   \n",
       "ארץ.n1                        0                      0                      0   \n",
       "אלהים.n1                      0                      0                      0   \n",
       "אישׁ.n1                       0                      0                      0   \n",
       "\n",
       "basis     T.Adju→ אכל.v1.pual  \n",
       "target                         \n",
       "בן.n1                       0  \n",
       "מלך.n1                      0  \n",
       "ארץ.n1                      0  \n",
       "אלהים.n1                    0  \n",
       "אישׁ.n1                     0  \n",
       "\n",
       "[5 rows x 13108 columns]"
      ]
     },
     "execution_count": 19,
     "metadata": {},
     "output_type": "execute_result"
    }
   ],
   "source": [
    "raw_counts = pd.pivot_table(\n",
    "    data_df, \n",
    "    index='target', \n",
    "    columns='basis', \n",
    "    fill_value=0,\n",
    "    aggfunc='size'\n",
    ")\n",
    "\n",
    "# sort by size, first by noun sum, then by basis sum\n",
    "raw_counts = raw_counts.loc[raw_counts.sum(1).sort_values(ascending=False).index]\n",
    "raw_counts = raw_counts[raw_counts.sum().sort_values(ascending=False).index]\n",
    "\n",
    "raw_counts.head()"
   ]
  },
  {
   "cell_type": "markdown",
   "metadata": {},
   "source": [
    "## Removing Outliers\n",
    "\n",
    "We will apply two primary adjustments:\n",
    "\n",
    "1. We drop co-occurrences that are unique to a noun. The dropped observations will thus be considered outliers. While these items are useful for describing the uniqueness of a given lexeme, they are unhelpful for drawing comparisons between our sets. \n",
    "2. We convert the counts into a measure of statistical significance. For this we use Fisher's exact test, which is ideal for datasets that have counts that are less than 5. Our matrix is likely to have many such counts. The resulting p-values, of which <0.05 represents a statistically significant colexeme, will be log-transformed. Values that fall below expected frequencies will be negatively transformed."
   ]
  },
  {
   "cell_type": "code",
   "execution_count": 20,
   "metadata": {},
   "outputs": [
    {
     "data": {
      "text/plain": [
       "target\n",
       "נאם.n1       7\n",
       "פאה.n1      25\n",
       "מספר.n1     29\n",
       "רב.n2       29\n",
       "קדם.n1      37\n",
       "מעל.n1      40\n",
       "שׁקר.n1     43\n",
       "תמיד.n1     43\n",
       "מלכות.n1    43\n",
       "עבר.n1      45\n",
       "dtype: int64"
      ]
     },
     "execution_count": 20,
     "metadata": {},
     "output_type": "execute_result"
    }
   ],
   "source": [
    "raw_counts.sum(1).sort_values().head(10)"
   ]
  },
  {
   "cell_type": "markdown",
   "metadata": {},
   "source": [
    "We note that the term נאם only occurs 7 times in the entire dataset<br>\n",
    "compared with the other terms. We will therefore drop that term due to<br>\n",
    "a lack of representative examples."
   ]
  },
  {
   "cell_type": "markdown",
   "metadata": {},
   "source": [
    "### Remove Co-occurrence Outliers\n",
    "\n",
    "We will remove colexemes/bases that occur with only one target noun. This is done by subtracting<br> \n",
    "the row total from each item in the row. Any 0 value in a row means that that row has a unique <br>\n",
    "colexeme that only occurs with one target noun (we will call that a `hapax_colex` here). We will<br>\n",
    "remove these rows further down."
   ]
  },
  {
   "cell_type": "markdown",
   "metadata": {},
   "source": [
    "### Drop the outliers"
   ]
  },
  {
   "cell_type": "code",
   "execution_count": 21,
   "metadata": {},
   "outputs": [
    {
     "name": "stdout",
     "output_type": "stream",
     "text": [
      "New data dimensions: (199, 4181)\n",
      "New total observations: 44886\n",
      "Observations removed: 12597\n"
     ]
    }
   ],
   "source": [
    "# drop נאם and any context counts left empty as a result\n",
    "count_df = raw_counts.drop('נאם.n1', axis=0)\n",
    "empties = count_df.loc[:, (count_df == 0).all(0)]\n",
    "count_df = count_df.drop(empties.columns, axis=1)\n",
    "\n",
    "# drop all hapax legomena\n",
    "colex_counts = count_df.sum(0)\n",
    "remaining_counts = count_df.sub(colex_counts, axis=1) # subtract colex_counts\n",
    "hapax_colex = remaining_counts.loc[:,(remaining_counts == 0).any(0)] # select columns that have a 0 value anywhere\n",
    "count_df = count_df.drop(labels=hapax_colex.columns, axis=1)\n",
    "\n",
    "print(f'New data dimensions: {count_df.shape}')\n",
    "print(f'New total observations: {count_df.sum().sum()}')\n",
    "print(f'Observations removed: {raw_counts.sum().sum() - count_df.sum().sum()}')"
   ]
  },
  {
   "cell_type": "markdown",
   "metadata": {},
   "source": [
    "Let's look at the sorted minimum values to make sure no terms have been left featureless."
   ]
  },
  {
   "cell_type": "code",
   "execution_count": 23,
   "metadata": {},
   "outputs": [
    {
     "data": {
      "text/plain": [
       "basis\n",
       "T.Subj→ כתת.v1.hof        2\n",
       "T.ל.PreC→ גאון.n1.Subj    2\n",
       "T.ל.PreC→ אחד.n1.Subj     2\n",
       "T.coord→ חמאה.n1          2\n",
       "T.appo→ אברם.n1           2\n",
       "dtype: int64"
      ]
     },
     "execution_count": 23,
     "metadata": {},
     "output_type": "execute_result"
    }
   ],
   "source": [
    "count_df.sum().sort_values().head(5)"
   ]
  },
  {
   "cell_type": "code",
   "execution_count": 24,
   "metadata": {},
   "outputs": [
    {
     "data": {
      "text/plain": [
       "target\n",
       "פאה.n1     18\n",
       "מספר.n1    18\n",
       "שׁקל.n1    18\n",
       "מעל.n1     20\n",
       "רב.n2      21\n",
       "dtype: int64"
      ]
     },
     "execution_count": 24,
     "metadata": {},
     "output_type": "execute_result"
    }
   ],
   "source": [
    "count_df.sum(1).sort_values().head(5)"
   ]
  },
  {
   "cell_type": "markdown",
   "metadata": {},
   "source": [
    "### How many zero counts are there?\n",
    "\n",
    "The raw count matrix has a lot of sparsity. Here's how many zeros there are. We also count other values."
   ]
  },
  {
   "cell_type": "code",
   "execution_count": 25,
   "metadata": {},
   "outputs": [],
   "source": [
    "# unique_values, value_counts = np.unique(data.values, return_counts=True)\n",
    "# unique_counts = pd.DataFrame.from_dict(dict(zip(unique_values, value_counts)), orient='index', columns=['count'])\n",
    "# display(HTML('<h5>Top 10 Unique Values and Their Counts in Dataset</h5>'))\n",
    "# unique_counts.head(10)"
   ]
  },
  {
   "cell_type": "code",
   "execution_count": 26,
   "metadata": {},
   "outputs": [],
   "source": [
    "# zero = unique_counts.loc[0.0][0]\n",
    "# non_zero = unique_counts[unique_counts.index > 0].sum()[0]\n",
    "# non_zero_ratio, zero_ratio = non_zero / (non_zero+zero), zero / (non_zero+zero)\n",
    "\n",
    "# print(f'Number of zero count variables: {zero} ({round(zero_ratio, 2)})')\n",
    "# print(f'Number of non-zero count variables: {non_zero} ({round(non_zero_ratio, 2)})')"
   ]
  },
  {
   "cell_type": "markdown",
   "metadata": {},
   "source": [
    "Below the number of observed counts is given:"
   ]
  },
  {
   "cell_type": "code",
   "execution_count": 27,
   "metadata": {},
   "outputs": [
    {
     "data": {
      "text/plain": [
       "44886"
      ]
     },
     "execution_count": 27,
     "metadata": {},
     "output_type": "execute_result"
    }
   ],
   "source": [
    "count_df.sum().sum()"
   ]
  },
  {
   "cell_type": "markdown",
   "metadata": {},
   "source": [
    "## Data Distribution\n",
    "\n",
    "The basic unit of analysis is the level of the clause. We have selected a <br>\n",
    "subset of all clauses from the Hebrew Bible. Let's see if the observed <br>\n",
    "frequencies within the dataset exist above or below the expected frequencies.<br>\n",
    "If they are below, then how much so?"
   ]
  },
  {
   "cell_type": "code",
   "execution_count": 28,
   "metadata": {},
   "outputs": [],
   "source": [
    "from pyscripts.feature_formatting import book2sbl"
   ]
  },
  {
   "cell_type": "code",
   "execution_count": 29,
   "metadata": {},
   "outputs": [
    {
     "data": {
      "text/plain": [
       "Gen     5987\n",
       "Exod    4326\n",
       "Lev     3077\n",
       "Num     3925\n",
       "Deut    3859\n",
       "dtype: int64"
      ]
     },
     "execution_count": 29,
     "metadata": {},
     "output_type": "execute_result"
    }
   ],
   "source": [
    "all_clauses = collections.Counter()\n",
    "for cl in F.otype.s('clause'):\n",
    "    lang = F.language.v(L.d(cl,'word')[0])\n",
    "    if lang != 'Hebrew':\n",
    "        continue\n",
    "    book, chapter, verse = T.sectionFromNode(cl)\n",
    "    book = book2sbl[book]\n",
    "    all_clauses[book] += 1\n",
    "expected_freq = pd.Series(all_clauses)\n",
    "expected_freq.head()"
   ]
  },
  {
   "cell_type": "code",
   "execution_count": 30,
   "metadata": {},
   "outputs": [],
   "source": [
    "# get samples from dataset\n",
    "sample_df = data_df.loc[\n",
    "    (data_df.target.isin(count_df.index)) & (data_df.basis.isin(count_df.columns))\n",
    "]"
   ]
  },
  {
   "cell_type": "code",
   "execution_count": 31,
   "metadata": {},
   "outputs": [],
   "source": [
    "# calculate deviation of proportions (Gries 2008; Levshina 2015)\n",
    "# for observed frequencies, we only want to consider each clause once\n",
    "# thus we create a dataframe that only keeps the first clause entry\n",
    "non_duplicated_clauses = sample_df[~sample_df.index.duplicated(keep='first')]\n",
    "observed_freq = non_duplicated_clauses.book.value_counts()\n",
    "observed_prop = observed_freq.div(observed_freq.sum())\n",
    "expected_prop = expected_freq.div(expected_freq.sum())\n",
    "deviation_prop = observed_prop - expected_prop"
   ]
  },
  {
   "cell_type": "markdown",
   "metadata": {},
   "source": [
    "Let's compare the overall number of clauses with observed clauses."
   ]
  },
  {
   "cell_type": "code",
   "execution_count": 32,
   "metadata": {},
   "outputs": [
    {
     "data": {
      "text/plain": [
       "86828"
      ]
     },
     "execution_count": 32,
     "metadata": {},
     "output_type": "execute_result"
    }
   ],
   "source": [
    "# overall clauses\n",
    "expected_freq.sum()"
   ]
  },
  {
   "cell_type": "code",
   "execution_count": 33,
   "metadata": {},
   "outputs": [
    {
     "data": {
      "text/plain": [
       "28226"
      ]
     },
     "execution_count": 33,
     "metadata": {},
     "output_type": "execute_result"
    }
   ],
   "source": [
    "# observed clauses\n",
    "observed_freq.sum()"
   ]
  },
  {
   "cell_type": "markdown",
   "metadata": {},
   "source": [
    "Let's make that a proportion..."
   ]
  },
  {
   "cell_type": "code",
   "execution_count": 34,
   "metadata": {},
   "outputs": [
    {
     "data": {
      "text/plain": [
       "0.3250794674528954"
      ]
     },
     "execution_count": 34,
     "metadata": {},
     "output_type": "execute_result"
    }
   ],
   "source": [
    "observed_freq.sum() / expected_freq.sum()"
   ]
  },
  {
   "cell_type": "markdown",
   "metadata": {},
   "source": [
    "We see that our dataset consists of 32% of all clauses in the Hebrew Bible. This raises the<br>\n",
    "further question. Have any particular books become over/under represented in the sample?<br>\n",
    "We can answer this question by calculating the deviation of proportions (above), which tells<br>\n",
    "how much the observed proportions differ from the expected proportions.<br>\n",
    "\n",
    "In this case, let total number of clauses in the Hebrew Bible be $NC$ and let the total number<br>\n",
    "of clauses in the sample be $SC$. We can obtain the deviation of proportions by doing the following:\n",
    "\n",
    "[add formula]"
   ]
  },
  {
   "cell_type": "markdown",
   "metadata": {},
   "source": [
    "### Plot Book Representations in Sample"
   ]
  },
  {
   "cell_type": "code",
   "execution_count": 35,
   "metadata": {},
   "outputs": [
    {
     "data": {
      "image/png": "[encoded data removed]",
      "text/plain": [
       "<Figure size 576x360 with 1 Axes>"
      ]
     },
     "metadata": {
      "needs_background": "light"
     },
     "output_type": "display_data"
    }
   ],
   "source": [
    "fig, ax = plt.subplots(figsize=(8, 5))\n",
    "\n",
    "observed_prop.sort_values().plot(kind='bar', ax=ax, color='lightgrey', edgecolor='black', linewidth=0.8)\n",
    "ax.grid(axis='y')\n",
    "ax.set_axisbelow(True)\n",
    "ax.axhline(0, color='black', linewidth=0.5)\n",
    "ax.set_ylim((0, 0.1))\n",
    "ax.set_ylabel('observed ratio')\n",
    "ax.set_xlabel('book')\n",
    "\n",
    "savefig('sample_book_proportions.svg')"
   ]
  },
  {
   "cell_type": "markdown",
   "metadata": {},
   "source": [
    "### Plot deviated proportions in sample from expected proportion (entire Hebrew Bible)\n"
   ]
  },
  {
   "cell_type": "code",
   "execution_count": 36,
   "metadata": {},
   "outputs": [
    {
     "data": {
      "image/png": "[encoded data removed]",
      "text/plain": [
       "<Figure size 1296x216 with 2 Axes>"
      ]
     },
     "metadata": {
      "needs_background": "light"
     },
     "output_type": "display_data"
    }
   ],
   "source": [
    "fig, (ax1, ax2) = plt.subplots(1, 2, figsize=(18, 3))\n",
    "\n",
    "for ax in (ax1, ax2):\n",
    "    deviation_prop.sort_values().plot(kind='bar', ax=ax, color='lightgrey', edgecolor='black', linewidth=0.8)\n",
    "    ax.grid(axis='y')\n",
    "    ax.set_axisbelow(True)\n",
    "    ax.axhline(0, color='black', linewidth=0.5)\n",
    "    ax.set_ylabel('deviation of sample ratio')\n",
    "    ax.set_xlabel('book')\n",
    "    \n",
    "ax1.set_title('sample deviation from expected ratio (at scale)')\n",
    "ax1.set_ylim((-1, 1))\n",
    "ax2.set_title('sample deviation from expected ratio (zoomed)')\n",
    "\n",
    "savefig('sample_deviation_proportions.svg')"
   ]
  },
  {
   "cell_type": "code",
   "execution_count": 37,
   "metadata": {},
   "outputs": [
    {
     "data": {
      "text/plain": [
       "Isa    -0.019663\n",
       "Job    -0.010938\n",
       "Ps     -0.010093\n",
       "Prov   -0.006010\n",
       "Song   -0.003516\n",
       "Jer    -0.003439\n",
       "Zech   -0.002663\n",
       "Eccl   -0.002424\n",
       "Hos    -0.002096\n",
       "Ruth   -0.002038\n",
       "dtype: float64"
      ]
     },
     "execution_count": 37,
     "metadata": {},
     "output_type": "execute_result"
    }
   ],
   "source": [
    "deviation_prop.sort_values().head(10)"
   ]
  },
  {
   "cell_type": "code",
   "execution_count": 38,
   "metadata": {},
   "outputs": [
    {
     "data": {
      "text/plain": [
       "2 Chr    0.013134\n",
       "1 Kgs    0.010098\n",
       "Deut     0.009974\n",
       "Exod     0.009307\n",
       "Josh     0.006054\n",
       "Lev      0.005411\n",
       "2 Sam    0.004238\n",
       "2 Kgs    0.004100\n",
       "Gen      0.003073\n",
       "Judg     0.002651\n",
       "dtype: float64"
      ]
     },
     "execution_count": 38,
     "metadata": {},
     "output_type": "execute_result"
    }
   ],
   "source": [
    "deviation_prop.sort_values(ascending=False).head(10)"
   ]
  },
  {
   "cell_type": "markdown",
   "metadata": {},
   "source": [
    "Here we see 2% underpresentation of Isaiah, as well as some smaller representation<br>\n",
    "of Psalms, Job, and Proverbs.\n",
    "\n",
    "In general, the underepresented portions are more poetic/prophetic in nature while more<br>\n",
    "narratival books are represented very slightly higher.\n",
    "\n",
    "Meanwhile there is a slightly higher sample of 2 Chronicles (1.3%) 1 Kings (1%) and Deuteronomy<br>\n",
    "(1%).\n",
    "\n",
    "These differences are very small, and thus we can say that the sample dataset is essentially as<br>\n",
    "evenly distributed as the original sample across the Hebrew Bible."
   ]
  },
  {
   "cell_type": "markdown",
   "metadata": {},
   "source": [
    "## Context Type Distribution\n",
    "\n",
    "Looking at the distribution of the various contexts"
   ]
  },
  {
   "cell_type": "code",
   "execution_count": 40,
   "metadata": {},
   "outputs": [
    {
     "data": {
      "text/plain": [
       "T.function→ st.verb.lex        17539\n",
       "T.prep.funct→ st.verb.lex      11216\n",
       "T.coord→ lex                    3681\n",
       "lex.coord→ T                    3564\n",
       "T.appo→ lex                     2557\n",
       "lex.PreC→ T.Subj                1330\n",
       "lex.atr→ T                      1297\n",
       "lex.appo→ T                      961\n",
       "lex.coord→ T (phrase atoms)      616\n",
       "T.prep.PreC→ lex.Subj            569\n",
       "lex.prep.PreC→ T.Subj            540\n",
       "T.coord→ lex (phrase atoms)      526\n",
       "T.PreC→ lex.Subj                 490\n",
       "Name: context_type, dtype: int64"
      ]
     },
     "execution_count": 40,
     "metadata": {},
     "output_type": "execute_result"
    }
   ],
   "source": [
    "context_counts = sample_df.context_type.value_counts()\n",
    "context_props = context_counts.div(context_counts.sum())\n",
    "\n",
    "context_counts"
   ]
  },
  {
   "cell_type": "code",
   "execution_count": 41,
   "metadata": {},
   "outputs": [
    {
     "data": {
      "text/plain": [
       "T.function→ st.verb.lex        0.390745\n",
       "T.prep.funct→ st.verb.lex      0.249877\n",
       "T.coord→ lex                   0.082008\n",
       "lex.coord→ T                   0.079401\n",
       "T.appo→ lex                    0.056967\n",
       "lex.PreC→ T.Subj               0.029631\n",
       "lex.atr→ T                     0.028895\n",
       "lex.appo→ T                    0.021410\n",
       "lex.coord→ T (phrase atoms)    0.013724\n",
       "T.prep.PreC→ lex.Subj          0.012677\n",
       "lex.prep.PreC→ T.Subj          0.012030\n",
       "T.coord→ lex (phrase atoms)    0.011719\n",
       "T.PreC→ lex.Subj               0.010917\n",
       "Name: context_type, dtype: float64"
      ]
     },
     "execution_count": 41,
     "metadata": {},
     "output_type": "execute_result"
    }
   ],
   "source": [
    "context_props"
   ]
  },
  {
   "cell_type": "code",
   "execution_count": 43,
   "metadata": {},
   "outputs": [
    {
     "data": {
      "image/png": "[encoded data removed]",
      "text/plain": [
       "<Figure size 864x360 with 2 Axes>"
      ]
     },
     "metadata": {
      "needs_background": "light"
     },
     "output_type": "display_data"
    }
   ],
   "source": [
    "fig, (ax1, ax2) = plt.subplots(1, 2, figsize=(12, 5))\n",
    "\n",
    "for ax, data in zip((ax1, ax2), (context_counts, context_props)):\n",
    "    data.plot(kind='bar', ax=ax, color='lightgrey', edgecolor='black', linewidth=0.8, width=0.7)\n",
    "    ax.grid(axis='y')\n",
    "    ax.set_axisbelow(True)\n",
    "    ax.axhline(0, color='black', linewidth=0.5)\n",
    "    ax.set_xlabel('context')\n",
    "    \n",
    "ax1.set_ylabel('count')\n",
    "ax2.set_ylabel('ratio')\n",
    "\n",
    "savefig('context_counts.svg')"
   ]
  },
  {
   "cell_type": "markdown",
   "metadata": {},
   "source": [
    "### Look at function distribution"
   ]
  },
  {
   "cell_type": "code",
   "execution_count": 44,
   "metadata": {},
   "outputs": [
    {
     "data": {
      "text/plain": [
       "Objc    9986\n",
       "Cmpl    8328\n",
       "Subj    6350\n",
       "Adju    2104\n",
       "Time    1188\n",
       "Loca     536\n",
       "Modi     248\n",
       "PrAd      15\n",
       "Name: function, dtype: int64"
      ]
     },
     "execution_count": 44,
     "metadata": {},
     "output_type": "execute_result"
    }
   ],
   "source": [
    "function_count = sample_df.function.value_counts()\n",
    "function_prop = function_count.div(function_count.sum())\n",
    "\n",
    "function_count"
   ]
  },
  {
   "cell_type": "code",
   "execution_count": 45,
   "metadata": {},
   "outputs": [
    {
     "data": {
      "text/plain": [
       "Objc    0.347279\n",
       "Cmpl    0.289619\n",
       "Subj    0.220831\n",
       "Adju    0.073170\n",
       "Time    0.041315\n",
       "Loca    0.018640\n",
       "Modi    0.008625\n",
       "PrAd    0.000522\n",
       "Name: function, dtype: float64"
      ]
     },
     "execution_count": 45,
     "metadata": {},
     "output_type": "execute_result"
    }
   ],
   "source": [
    "function_prop"
   ]
  },
  {
   "cell_type": "code",
   "execution_count": 46,
   "metadata": {},
   "outputs": [
    {
     "data": {
      "image/png": "[encoded data removed]",
      "text/plain": [
       "<Figure size 720x360 with 2 Axes>"
      ]
     },
     "metadata": {
      "needs_background": "light"
     },
     "output_type": "display_data"
    }
   ],
   "source": [
    "fig, (ax1, ax2) = plt.subplots(1, 2, figsize=(10, 5))\n",
    "\n",
    "for ax, data in zip((ax1, ax2), (function_count, function_prop)):\n",
    "    data.plot(kind='bar', ax=ax, color='lightgrey', edgecolor='black', linewidth=0.8, width=0.6)\n",
    "    ax.grid(axis='y')\n",
    "    ax.set_axisbelow(True)\n",
    "    ax.axhline(0, color='black', linewidth=0.5)\n",
    "    ax.set_xlabel('context')\n",
    "    \n",
    "ax1.set_ylabel('count')\n",
    "ax2.set_ylabel('ratio')\n",
    "savefig('function_counts.svg')"
   ]
  },
  {
   "cell_type": "markdown",
   "metadata": {},
   "source": [
    "<hr>"
   ]
  },
  {
   "cell_type": "markdown",
   "metadata": {},
   "source": [
    "#### Examining the Dataset\n",
    "\n",
    "Below we look at the number of dimensions in the data:"
   ]
  },
  {
   "cell_type": "code",
   "execution_count": 51,
   "metadata": {},
   "outputs": [
    {
     "data": {
      "text/plain": [
       "(199, 4181)"
      ]
     },
     "execution_count": 51,
     "metadata": {},
     "output_type": "execute_result"
    }
   ],
   "source": [
    "count_df.shape"
   ]
  },
  {
   "cell_type": "markdown",
   "metadata": {},
   "source": [
    "And number of observations.."
   ]
  },
  {
   "cell_type": "code",
   "execution_count": 50,
   "metadata": {},
   "outputs": [
    {
     "data": {
      "text/plain": [
       "832019"
      ]
     },
     "execution_count": 50,
     "metadata": {},
     "output_type": "execute_result"
    }
   ],
   "source": [
    "count_df.size"
   ]
  },
  {
   "cell_type": "markdown",
   "metadata": {},
   "source": [
    "### Apply Fisher's Exact Test\n",
    "\n",
    "Now we apply the Fisher's exact test to the data set. This involves supplying values to a 2x2 contingency table that is fed to `scipy.stats.fisher_exact`"
   ]
  },
  {
   "cell_type": "markdown",
   "metadata": {},
   "source": [
    "#### Number of Datapoints To Iterate Over\n",
    "\n",
    "The Fisher's exact test takes some time to run. That is because it must iterate over a lot of pairs. The number is printed below."
   ]
  },
  {
   "cell_type": "code",
   "execution_count": 54,
   "metadata": {},
   "outputs": [
    {
     "data": {
      "text/plain": [
       "832019"
      ]
     },
     "execution_count": 54,
     "metadata": {},
     "output_type": "execute_result"
    }
   ],
   "source": [
    "count_df.size"
   ]
  },
  {
   "cell_type": "markdown",
   "metadata": {},
   "source": [
    "#### Apply the Tests\n",
    "\n",
    "The whole run takes 5.5-6.0 minutes on a 2017 Macbook pro."
   ]
  },
  {
   "cell_type": "code",
   "execution_count": 57,
   "metadata": {},
   "outputs": [],
   "source": [
    "run = True\n",
    "\n",
    "if run:\n",
    "    fisherdata, odds_ratios = my_stats.apply_fishers(count_df, sample_axis=0, feature_axis=1)\n",
    "    fisherdata.to_csv(fisher_data)\n",
    "else:\n",
    "    fisherdata = pd.read_csv(fisher_data)"
   ]
  },
  {
   "cell_type": "code",
   "execution_count": 58,
   "metadata": {},
   "outputs": [
    {
     "data": {
      "text/html": [
       "<div>\n",
       "<style scoped>\n",
       "    .dataframe tbody tr th:only-of-type {\n",
       "        vertical-align: middle;\n",
       "    }\n",
       "\n",
       "    .dataframe tbody tr th {\n",
       "        vertical-align: top;\n",
       "    }\n",
       "\n",
       "    .dataframe thead th {\n",
       "        text-align: right;\n",
       "    }\n",
       "</style>\n",
       "<table border=\"1\" class=\"dataframe\">\n",
       "  <thead>\n",
       "    <tr style=\"text-align: right;\">\n",
       "      <th></th>\n",
       "      <th>T.appo→ יהוה.n1</th>\n",
       "      <th>T.Objc→ נתן.v1.qal</th>\n",
       "      <th>T.Objc→ עשׂה.v1.qal</th>\n",
       "      <th>T.Objc→ לקח.v1.qal</th>\n",
       "      <th>T.Subj→ אמר.v1.qal</th>\n",
       "      <th>T.Subj→ בוא.v1.qal</th>\n",
       "      <th>T.coord→ בן.n1</th>\n",
       "      <th>T.ל.Cmpl→ נתן.v1.qal</th>\n",
       "      <th>T.Objc→ נשׂא.v1.qal</th>\n",
       "      <th>T.Objc→ שׂים.v1.qal</th>\n",
       "      <th>...</th>\n",
       "      <th>T.על.Cmpl→ כבד.v1.qal</th>\n",
       "      <th>T.Subj→ כלם.v1.hif</th>\n",
       "      <th>חרפה.n1.coord→ T</th>\n",
       "      <th>רך.n1.PreC→ T.Subj</th>\n",
       "      <th>חרץ.v1.PreC→ T.Subj</th>\n",
       "      <th>חתם.v1.PreC→ T.Subj</th>\n",
       "      <th>T.עד.Time→ עמד.v1.hif</th>\n",
       "      <th>T.Objc→ שׁלם.v1.hif</th>\n",
       "      <th>T.Objc→ שׁלל.v1.qal</th>\n",
       "      <th>T.Subj→ כתת.v1.hof</th>\n",
       "    </tr>\n",
       "  </thead>\n",
       "  <tbody>\n",
       "    <tr>\n",
       "      <th>בן.n1</th>\n",
       "      <td>-22.506257</td>\n",
       "      <td>-6.579793</td>\n",
       "      <td>-16.256213</td>\n",
       "      <td>-0.732143</td>\n",
       "      <td>-0.530153</td>\n",
       "      <td>1.123235</td>\n",
       "      <td>74.015168</td>\n",
       "      <td>1.963515</td>\n",
       "      <td>-4.088860</td>\n",
       "      <td>-5.296022</td>\n",
       "      <td>...</td>\n",
       "      <td>0.000000</td>\n",
       "      <td>0.0</td>\n",
       "      <td>0.879459</td>\n",
       "      <td>0.0</td>\n",
       "      <td>0.000000</td>\n",
       "      <td>0.0</td>\n",
       "      <td>0.0</td>\n",
       "      <td>0.0</td>\n",
       "      <td>0.0</td>\n",
       "      <td>0.0</td>\n",
       "    </tr>\n",
       "    <tr>\n",
       "      <th>מלך.n1</th>\n",
       "      <td>-8.701775</td>\n",
       "      <td>-2.451740</td>\n",
       "      <td>-8.926695</td>\n",
       "      <td>-5.459739</td>\n",
       "      <td>78.217023</td>\n",
       "      <td>3.860716</td>\n",
       "      <td>-5.200123</td>\n",
       "      <td>0.370243</td>\n",
       "      <td>-3.806548</td>\n",
       "      <td>-0.635022</td>\n",
       "      <td>...</td>\n",
       "      <td>0.000000</td>\n",
       "      <td>0.0</td>\n",
       "      <td>0.000000</td>\n",
       "      <td>0.0</td>\n",
       "      <td>0.000000</td>\n",
       "      <td>0.0</td>\n",
       "      <td>0.0</td>\n",
       "      <td>0.0</td>\n",
       "      <td>0.0</td>\n",
       "      <td>0.0</td>\n",
       "    </tr>\n",
       "    <tr>\n",
       "      <th>ארץ.n1</th>\n",
       "      <td>-10.056006</td>\n",
       "      <td>13.048434</td>\n",
       "      <td>-1.126735</td>\n",
       "      <td>-0.989002</td>\n",
       "      <td>-4.605041</td>\n",
       "      <td>-2.867567</td>\n",
       "      <td>-4.681587</td>\n",
       "      <td>-2.875867</td>\n",
       "      <td>-3.480049</td>\n",
       "      <td>-0.431153</td>\n",
       "      <td>...</td>\n",
       "      <td>0.000000</td>\n",
       "      <td>0.0</td>\n",
       "      <td>0.000000</td>\n",
       "      <td>0.0</td>\n",
       "      <td>0.000000</td>\n",
       "      <td>0.0</td>\n",
       "      <td>0.0</td>\n",
       "      <td>0.0</td>\n",
       "      <td>0.0</td>\n",
       "      <td>0.0</td>\n",
       "    </tr>\n",
       "    <tr>\n",
       "      <th>אלהים.n1</th>\n",
       "      <td>inf</td>\n",
       "      <td>-5.766333</td>\n",
       "      <td>-2.196198</td>\n",
       "      <td>-5.458588</td>\n",
       "      <td>12.373411</td>\n",
       "      <td>-0.702152</td>\n",
       "      <td>-5.197390</td>\n",
       "      <td>-1.411536</td>\n",
       "      <td>-4.015970</td>\n",
       "      <td>-1.995487</td>\n",
       "      <td>...</td>\n",
       "      <td>0.000000</td>\n",
       "      <td>0.0</td>\n",
       "      <td>0.000000</td>\n",
       "      <td>0.0</td>\n",
       "      <td>0.000000</td>\n",
       "      <td>0.0</td>\n",
       "      <td>0.0</td>\n",
       "      <td>0.0</td>\n",
       "      <td>0.0</td>\n",
       "      <td>0.0</td>\n",
       "    </tr>\n",
       "    <tr>\n",
       "      <th>אישׁ.n1</th>\n",
       "      <td>-10.269249</td>\n",
       "      <td>-3.725940</td>\n",
       "      <td>-6.745259</td>\n",
       "      <td>1.865083</td>\n",
       "      <td>9.407068</td>\n",
       "      <td>7.438862</td>\n",
       "      <td>-3.500331</td>\n",
       "      <td>0.862503</td>\n",
       "      <td>-3.471931</td>\n",
       "      <td>-2.405216</td>\n",
       "      <td>...</td>\n",
       "      <td>1.200033</td>\n",
       "      <td>0.0</td>\n",
       "      <td>0.000000</td>\n",
       "      <td>0.0</td>\n",
       "      <td>0.000000</td>\n",
       "      <td>0.0</td>\n",
       "      <td>0.0</td>\n",
       "      <td>0.0</td>\n",
       "      <td>0.0</td>\n",
       "      <td>0.0</td>\n",
       "    </tr>\n",
       "    <tr>\n",
       "      <th>יום.n1</th>\n",
       "      <td>-7.020936</td>\n",
       "      <td>-4.940696</td>\n",
       "      <td>-2.175071</td>\n",
       "      <td>-3.948764</td>\n",
       "      <td>-3.969073</td>\n",
       "      <td>1.332199</td>\n",
       "      <td>-3.137104</td>\n",
       "      <td>-2.627612</td>\n",
       "      <td>-2.269489</td>\n",
       "      <td>-2.295491</td>\n",
       "      <td>...</td>\n",
       "      <td>0.000000</td>\n",
       "      <td>0.0</td>\n",
       "      <td>0.000000</td>\n",
       "      <td>0.0</td>\n",
       "      <td>1.358093</td>\n",
       "      <td>0.0</td>\n",
       "      <td>0.0</td>\n",
       "      <td>0.0</td>\n",
       "      <td>0.0</td>\n",
       "      <td>0.0</td>\n",
       "    </tr>\n",
       "    <tr>\n",
       "      <th>עם.n1</th>\n",
       "      <td>-10.444091</td>\n",
       "      <td>-1.131409</td>\n",
       "      <td>-8.236013</td>\n",
       "      <td>-2.173010</td>\n",
       "      <td>4.532914</td>\n",
       "      <td>2.579546</td>\n",
       "      <td>-2.225901</td>\n",
       "      <td>0.732160</td>\n",
       "      <td>-1.843644</td>\n",
       "      <td>-1.278042</td>\n",
       "      <td>...</td>\n",
       "      <td>1.194137</td>\n",
       "      <td>0.0</td>\n",
       "      <td>0.000000</td>\n",
       "      <td>0.0</td>\n",
       "      <td>0.000000</td>\n",
       "      <td>0.0</td>\n",
       "      <td>0.0</td>\n",
       "      <td>0.0</td>\n",
       "      <td>0.0</td>\n",
       "      <td>0.0</td>\n",
       "    </tr>\n",
       "    <tr>\n",
       "      <th>בית.n1</th>\n",
       "      <td>-8.853672</td>\n",
       "      <td>-0.820445</td>\n",
       "      <td>-0.503091</td>\n",
       "      <td>-3.330368</td>\n",
       "      <td>-2.487866</td>\n",
       "      <td>-1.409670</td>\n",
       "      <td>-1.150665</td>\n",
       "      <td>0.138360</td>\n",
       "      <td>-3.152582</td>\n",
       "      <td>-1.421100</td>\n",
       "      <td>...</td>\n",
       "      <td>0.000000</td>\n",
       "      <td>0.0</td>\n",
       "      <td>0.000000</td>\n",
       "      <td>0.0</td>\n",
       "      <td>0.000000</td>\n",
       "      <td>0.0</td>\n",
       "      <td>0.0</td>\n",
       "      <td>0.0</td>\n",
       "      <td>0.0</td>\n",
       "      <td>0.0</td>\n",
       "    </tr>\n",
       "    <tr>\n",
       "      <th>פנה.n1</th>\n",
       "      <td>-7.018551</td>\n",
       "      <td>-0.374947</td>\n",
       "      <td>-5.495001</td>\n",
       "      <td>-4.152851</td>\n",
       "      <td>-3.963040</td>\n",
       "      <td>-3.303389</td>\n",
       "      <td>-3.134563</td>\n",
       "      <td>24.286097</td>\n",
       "      <td>6.657481</td>\n",
       "      <td>7.614609</td>\n",
       "      <td>...</td>\n",
       "      <td>0.000000</td>\n",
       "      <td>0.0</td>\n",
       "      <td>0.000000</td>\n",
       "      <td>0.0</td>\n",
       "      <td>0.000000</td>\n",
       "      <td>0.0</td>\n",
       "      <td>0.0</td>\n",
       "      <td>0.0</td>\n",
       "      <td>0.0</td>\n",
       "      <td>0.0</td>\n",
       "    </tr>\n",
       "    <tr>\n",
       "      <th>יד.n1</th>\n",
       "      <td>-8.211783</td>\n",
       "      <td>-0.769171</td>\n",
       "      <td>-6.311712</td>\n",
       "      <td>-4.834211</td>\n",
       "      <td>-4.634769</td>\n",
       "      <td>-2.869457</td>\n",
       "      <td>-3.633232</td>\n",
       "      <td>-3.144858</td>\n",
       "      <td>5.589620</td>\n",
       "      <td>1.328457</td>\n",
       "      <td>...</td>\n",
       "      <td>0.000000</td>\n",
       "      <td>0.0</td>\n",
       "      <td>0.000000</td>\n",
       "      <td>0.0</td>\n",
       "      <td>0.000000</td>\n",
       "      <td>0.0</td>\n",
       "      <td>0.0</td>\n",
       "      <td>0.0</td>\n",
       "      <td>0.0</td>\n",
       "      <td>0.0</td>\n",
       "    </tr>\n",
       "  </tbody>\n",
       "</table>\n",
       "<p>10 rows × 4181 columns</p>\n",
       "</div>"
      ],
      "text/plain": [
       "          T.appo→ יהוה.n1  T.Objc→ נתן.v1.qal  T.Objc→ עשׂה.v1.qal  \\\n",
       "בן.n1          -22.506257           -6.579793           -16.256213   \n",
       "מלך.n1          -8.701775           -2.451740            -8.926695   \n",
       "ארץ.n1         -10.056006           13.048434            -1.126735   \n",
       "אלהים.n1              inf           -5.766333            -2.196198   \n",
       "אישׁ.n1        -10.269249           -3.725940            -6.745259   \n",
       "יום.n1          -7.020936           -4.940696            -2.175071   \n",
       "עם.n1          -10.444091           -1.131409            -8.236013   \n",
       "בית.n1          -8.853672           -0.820445            -0.503091   \n",
       "פנה.n1          -7.018551           -0.374947            -5.495001   \n",
       "יד.n1           -8.211783           -0.769171            -6.311712   \n",
       "\n",
       "          T.Objc→ לקח.v1.qal  T.Subj→ אמר.v1.qal  T.Subj→ בוא.v1.qal  \\\n",
       "בן.n1              -0.732143           -0.530153            1.123235   \n",
       "מלך.n1             -5.459739           78.217023            3.860716   \n",
       "ארץ.n1             -0.989002           -4.605041           -2.867567   \n",
       "אלהים.n1           -5.458588           12.373411           -0.702152   \n",
       "אישׁ.n1             1.865083            9.407068            7.438862   \n",
       "יום.n1             -3.948764           -3.969073            1.332199   \n",
       "עם.n1              -2.173010            4.532914            2.579546   \n",
       "בית.n1             -3.330368           -2.487866           -1.409670   \n",
       "פנה.n1             -4.152851           -3.963040           -3.303389   \n",
       "יד.n1              -4.834211           -4.634769           -2.869457   \n",
       "\n",
       "          T.coord→ בן.n1  T.ל.Cmpl→ נתן.v1.qal  T.Objc→ נשׂא.v1.qal  \\\n",
       "בן.n1          74.015168              1.963515            -4.088860   \n",
       "מלך.n1         -5.200123              0.370243            -3.806548   \n",
       "ארץ.n1         -4.681587             -2.875867            -3.480049   \n",
       "אלהים.n1       -5.197390             -1.411536            -4.015970   \n",
       "אישׁ.n1        -3.500331              0.862503            -3.471931   \n",
       "יום.n1         -3.137104             -2.627612            -2.269489   \n",
       "עם.n1          -2.225901              0.732160            -1.843644   \n",
       "בית.n1         -1.150665              0.138360            -3.152582   \n",
       "פנה.n1         -3.134563             24.286097             6.657481   \n",
       "יד.n1          -3.633232             -3.144858             5.589620   \n",
       "\n",
       "          T.Objc→ שׂים.v1.qal  ...  T.על.Cmpl→ כבד.v1.qal  T.Subj→ כלם.v1.hif  \\\n",
       "בן.n1               -5.296022  ...               0.000000                 0.0   \n",
       "מלך.n1              -0.635022  ...               0.000000                 0.0   \n",
       "ארץ.n1              -0.431153  ...               0.000000                 0.0   \n",
       "אלהים.n1            -1.995487  ...               0.000000                 0.0   \n",
       "אישׁ.n1             -2.405216  ...               1.200033                 0.0   \n",
       "יום.n1              -2.295491  ...               0.000000                 0.0   \n",
       "עם.n1               -1.278042  ...               1.194137                 0.0   \n",
       "בית.n1              -1.421100  ...               0.000000                 0.0   \n",
       "פנה.n1               7.614609  ...               0.000000                 0.0   \n",
       "יד.n1                1.328457  ...               0.000000                 0.0   \n",
       "\n",
       "          חרפה.n1.coord→ T  רך.n1.PreC→ T.Subj  חרץ.v1.PreC→ T.Subj  \\\n",
       "בן.n1             0.879459                 0.0             0.000000   \n",
       "מלך.n1            0.000000                 0.0             0.000000   \n",
       "ארץ.n1            0.000000                 0.0             0.000000   \n",
       "אלהים.n1          0.000000                 0.0             0.000000   \n",
       "אישׁ.n1           0.000000                 0.0             0.000000   \n",
       "יום.n1            0.000000                 0.0             1.358093   \n",
       "עם.n1             0.000000                 0.0             0.000000   \n",
       "בית.n1            0.000000                 0.0             0.000000   \n",
       "פנה.n1            0.000000                 0.0             0.000000   \n",
       "יד.n1             0.000000                 0.0             0.000000   \n",
       "\n",
       "          חתם.v1.PreC→ T.Subj  T.עד.Time→ עמד.v1.hif  T.Objc→ שׁלם.v1.hif  \\\n",
       "בן.n1                     0.0                    0.0                  0.0   \n",
       "מלך.n1                    0.0                    0.0                  0.0   \n",
       "ארץ.n1                    0.0                    0.0                  0.0   \n",
       "אלהים.n1                  0.0                    0.0                  0.0   \n",
       "אישׁ.n1                   0.0                    0.0                  0.0   \n",
       "יום.n1                    0.0                    0.0                  0.0   \n",
       "עם.n1                     0.0                    0.0                  0.0   \n",
       "בית.n1                    0.0                    0.0                  0.0   \n",
       "פנה.n1                    0.0                    0.0                  0.0   \n",
       "יד.n1                     0.0                    0.0                  0.0   \n",
       "\n",
       "          T.Objc→ שׁלל.v1.qal  T.Subj→ כתת.v1.hof  \n",
       "בן.n1                     0.0                 0.0  \n",
       "מלך.n1                    0.0                 0.0  \n",
       "ארץ.n1                    0.0                 0.0  \n",
       "אלהים.n1                  0.0                 0.0  \n",
       "אישׁ.n1                   0.0                 0.0  \n",
       "יום.n1                    0.0                 0.0  \n",
       "עם.n1                     0.0                 0.0  \n",
       "בית.n1                    0.0                 0.0  \n",
       "פנה.n1                    0.0                 0.0  \n",
       "יד.n1                     0.0                 0.0  \n",
       "\n",
       "[10 rows x 4181 columns]"
      ]
     },
     "execution_count": 58,
     "metadata": {},
     "output_type": "execute_result"
    }
   ],
   "source": [
    "fisherdata.head(10)"
   ]
  },
  {
   "cell_type": "markdown",
   "metadata": {},
   "source": [
    "The Fisher's test has produced p-vales of 0, indicating a very high degree of attraction between lexemes and a colexemes. A log-transformed zero equals `infinity`. Below those values are isolated."
   ]
  },
  {
   "cell_type": "code",
   "execution_count": 59,
   "metadata": {},
   "outputs": [],
   "source": [
    "display(HTML('<h5>contexts x nouns with a p-value of 0 :</h5>'))\n",
    "inf_nouns = fishertransf.columns[(fishertransf == np.inf).any()]\n",
    "inf_data = [] # inf data contains column/index information needed to assign the new values\n",
    "for inf_noun in inf_nouns:\n",
    "    inf_noun2context = pd.DataFrame(fishertransf[inf_noun][fishertransf[inf_noun] == np.inf])\n",
    "    inf_data.append(inf_noun2context)\n",
    "    display(inf_noun2context)"
   ]
  },
  {
   "cell_type": "markdown",
   "metadata": {},
   "source": [
    "In this case the Fisher's has returned a zero value. A p-value of 0 means that the likelihood אלהים and יהוה are *not* dependent variables is essentially null. We can thus reject the null hypothesis that the two values are not related. There is, rather, a maximum level of confidence that these two values *are* interrelated. The `np.inf` value that resulted from `log10(0)` is not viable for calculating vector distances. Thus, we need to substitute an arbitrary, but appropriate value. Below we access the lowest non-zero p-values in the dataset."
   ]
  },
  {
   "cell_type": "code",
   "execution_count": null,
   "metadata": {},
   "outputs": [],
   "source": [
    "minimum_pvalues = fisherdata.min()[fisherdata.min() > 0].sort_values()\n",
    "minmin_noun = minimum_pvalues.index[0]\n",
    "minmin_context = fisherdata[minimum_pvalues.index[0]].sort_values().index[0]\n",
    "minimum_pvalues.head(10)"
   ]
  },
  {
   "cell_type": "markdown",
   "metadata": {},
   "source": [
    "The minimum noun x context score is shown below."
   ]
  },
  {
   "cell_type": "code",
   "execution_count": null,
   "metadata": {},
   "outputs": [],
   "source": [
    "minmin_noun"
   ]
  },
  {
   "cell_type": "code",
   "execution_count": null,
   "metadata": {},
   "outputs": [],
   "source": [
    "minmin_context"
   ]
  },
  {
   "cell_type": "markdown",
   "metadata": {},
   "source": [
    "The small pvalue listed above is used to substitute the infinitive values below."
   ]
  },
  {
   "cell_type": "code",
   "execution_count": null,
   "metadata": {},
   "outputs": [],
   "source": [
    "# make the substitutions \n",
    "for inf_dat in inf_data:\n",
    "    for noun in inf_dat.columns:\n",
    "        for context in inf_dat.index:\n",
    "            print(f'adjusting infinite score for {noun}')\n",
    "            new_pvalue, new_transf = fisherdata[minmin_noun][minmin_context], fishertransf[minmin_noun][minmin_context]\n",
    "            fisherdata[noun][context] = new_pvalue\n",
    "            print(f'\\tpvalue updated to {new_pvalue}')\n",
    "            fishertransf[noun][context] = new_transf\n",
    "            print(f'\\ttransformed pvalue updated to {new_transf}')"
   ]
  },
  {
   "cell_type": "markdown",
   "metadata": {},
   "source": [
    "Below we double to check to ensure that all infinitive values have been removed. The test should read `False`."
   ]
  },
  {
   "cell_type": "code",
   "execution_count": null,
   "metadata": {},
   "outputs": [],
   "source": [
    "# infinites in dataset?\n",
    "bool(len(fishertransf[(fishertransf == np.inf).any(1)].index))"
   ]
  },
  {
   "cell_type": "markdown",
   "metadata": {},
   "source": [
    "### Comparing Raw and Adjusted Counts\n",
    "\n",
    "What kinds of counts are \"upvoted\" and \"downvoted\" in the adjusted numbers? This information is helpful for gaining insight into the adjustment process and the efficacy of its results.\n",
    "\n",
    "Below I isolate and compare counts for a set of key lexemes: מלך \"king\", עיר \"city\", and חכמה \"wisdom\". The counts are analyzed by comparing context tag rankings and looking for those contexts which are most affected (i.e. have the most absolute differences) by the changes. "
   ]
  },
  {
   "cell_type": "code",
   "execution_count": null,
   "metadata": {},
   "outputs": [],
   "source": [
    "examine_nouns = ['מלך.n1', 'עיר.n1', 'חכמה.n1']\n",
    "\n",
    "context_rankings = {}\n",
    "\n",
    "# gather context rankings into dataframes\n",
    "for noun in examine_nouns:\n",
    "    \n",
    "    # make raw context DF, sorted, with columns count and rank\n",
    "    rawcounts = pd.DataFrame(data[noun].values, \n",
    "                             columns=['count'], \n",
    "                             index=data.index).sort_values(ascending=False, by='count')\n",
    "    rawcounts['rank'] = np.arange(len(rawcounts))+1 # add column \"rank\"\n",
    "    \n",
    "    # make adjusted context DF, sorted, with columns count and rank\n",
    "    adjcounts = pd.DataFrame(fishertransf[noun].values, \n",
    "                             columns=['count'], \n",
    "                             index=fishertransf.index).sort_values(ascending=False, by='count')\n",
    "    adjcounts['rank'] = np.arange(len(adjcounts))+1\n",
    "    \n",
    "    # put both DFs into dict mapped to noun\n",
    "    context_rankings[noun]={'raw':rawcounts, 'adj':adjcounts}\n",
    "    \n",
    "    \n",
    "# print for each noun a report on top up/downgrades\n",
    "for noun, rankset in context_rankings.items():\n",
    "    raw, adj = rankset['raw'], rankset['adj']\n",
    "    upgrades = pd.DataFrame((raw['rank']-adj['rank']).sort_values(ascending=False))\n",
    "    downgrades = pd.DataFrame((raw['rank']-adj['rank']).sort_values())\n",
    "    upgrades.columns, downgrades.columns = [['difference']]*2\n",
    "    upgrades['previous rank'], downgrades['previous rank'] = [raw['rank']]*2\n",
    "    upgrades['new rank'], downgrades['new rank'] = [adj['rank']]*2\n",
    "\n",
    "    display(HTML(f'<h3>{noun}</h3>'))\n",
    "    print('top 10 raw counts:')\n",
    "    display(raw.head(10))\n",
    "    print('top 10 adjusted counts:')\n",
    "    display(adj.head(10))\n",
    "    print('top 10 rank upgrades')\n",
    "    display(upgrades.head(10))\n",
    "    print('top 10 rank downgrades')\n",
    "    display(downgrades.head(10))\n",
    "    print('-'*40)\n",
    "    print()"
   ]
  },
  {
   "cell_type": "markdown",
   "metadata": {},
   "source": [
    "#### Export Data for מלך for Paper"
   ]
  },
  {
   "cell_type": "code",
   "execution_count": null,
   "metadata": {},
   "outputs": [],
   "source": [
    "context_rankings['מלך.n1']['raw'].head(10).to_csv('spreadsheets/king_top10_raw.csv')\n",
    "round(context_rankings['מלך.n1']['adj'].head(10), 2).to_csv('spreadsheets/king_top10_adj.csv')"
   ]
  },
  {
   "cell_type": "markdown",
   "metadata": {},
   "source": [
    "#### Extracting Specific Examples for the Paper (on מלך) to Illustrate Count Adjustments\n",
    "\n",
    "Below the four separate parts of the contingency table are extracted for מלך \"king\". These were previously calculated above "
   ]
  },
  {
   "cell_type": "code",
   "execution_count": null,
   "metadata": {},
   "outputs": [],
   "source": [
    "data['מלך.n1']['T.Objc→ נתן.v1.qal'] # A"
   ]
  },
  {
   "cell_type": "code",
   "execution_count": null,
   "metadata": {},
   "outputs": [],
   "source": [
    "b_matrix['מלך.n1']['T.Objc→ נתן.v1.qal'] # B"
   ]
  },
  {
   "cell_type": "code",
   "execution_count": null,
   "metadata": {},
   "outputs": [],
   "source": [
    "c_matrix['מלך.n1']['T.Objc→ נתן.v1.qal'] # C"
   ]
  },
  {
   "cell_type": "code",
   "execution_count": null,
   "metadata": {},
   "outputs": [],
   "source": [
    "d_matrix['מלך.n1']['T.Objc→ נתן.v1.qal'] # D"
   ]
  },
  {
   "cell_type": "markdown",
   "metadata": {},
   "source": [
    "Where do the 10 cases happen?"
   ]
  },
  {
   "cell_type": "code",
   "execution_count": null,
   "metadata": {},
   "outputs": [],
   "source": [
    "passages = []\n",
    "for res in counts.target2basis2result['מלך.n1']['T.Objc→ נתן.v1.qal']:\n",
    "    passages.append('{} {}:{}'.format(*T.sectionFromNode(res[0])))\n",
    "print('; '.join(passages))"
   ]
  },
  {
   "cell_type": "markdown",
   "metadata": {},
   "source": [
    "What is the result of the Fisher's test?"
   ]
  },
  {
   "cell_type": "code",
   "execution_count": null,
   "metadata": {},
   "outputs": [],
   "source": [
    "round(fisherdata['מלך.n1']['T.Objc→ נתן.v1.qal'], 4)"
   ]
  },
  {
   "cell_type": "markdown",
   "metadata": {},
   "source": [
    "What is the value of the expected count?"
   ]
  },
  {
   "cell_type": "code",
   "execution_count": null,
   "metadata": {},
   "outputs": [],
   "source": [
    "round(expectedfreqs['מלך.n1']['T.Objc→ נתן.v1.qal'], 2)"
   ]
  },
  {
   "cell_type": "code",
   "execution_count": null,
   "metadata": {},
   "outputs": [],
   "source": [
    "round(fishertransf['מלך.n1']['T.Objc→ נתן.v1.qal'], 2)"
   ]
  },
  {
   "cell_type": "markdown",
   "metadata": {},
   "source": [
    "How has the rank changed?"
   ]
  },
  {
   "cell_type": "code",
   "execution_count": null,
   "metadata": {},
   "outputs": [],
   "source": [
    "context_rankings['מלך.n1']['raw'].loc['T.Objc→ נתן.v1.qal']"
   ]
  },
  {
   "cell_type": "code",
   "execution_count": null,
   "metadata": {},
   "outputs": [],
   "source": [
    "context_rankings['מלך.n1']['adj'].loc['T.Objc→ נתן.v1.qal']"
   ]
  },
  {
   "cell_type": "markdown",
   "metadata": {},
   "source": [
    "<hr>\n",
    "\n",
    "#### Excursus: A Random Sample Examined\n",
    "\n",
    "We saw that the model seems to be succeeding at isolating intuitive associations with קול. Let's look at another example at random, in this case the noun ארץ (\"land\"). Below are the transformed p-values for that noun."
   ]
  },
  {
   "cell_type": "code",
   "execution_count": null,
   "metadata": {},
   "outputs": [],
   "source": [
    "fishertransf['ארץ.n1'].sort_values(ascending=False).head(10)"
   ]
  },
  {
   "cell_type": "markdown",
   "metadata": {},
   "source": [
    "The most associated variables include cases where ארץ is an object to the verb ירשׁ, where ארץ serves as the complement from which something is brought (hifil of יצא and hifil of עלה), frequently in construct to עם \"people\"), the participle of ישב \"inhabitant(s)\"), and ממלכה, \"kingdom\", as well as other satisfying and expected occasions of use. These examples show that the model is working well.\n",
    "<hr>"
   ]
  },
  {
   "cell_type": "markdown",
   "metadata": {},
   "source": [
    "## Comparing the Nouns\n",
    "\n",
    "The nouns are now ready to be compared. I will do so in two ways.\n",
    "\n",
    "1. Principle Component Analysis — We have a semantic space with 4,218 dimensions. That is a lot of potential angles from which to compare the vectors. One method that is commonly used in semantic space analysis is principle component analysis or **PCA**. PCA is a dimensionality reduction method that reduce a multi-dimensional vector to the two points in an imagined space that show the most distance between the nouns. We can visualize said space by plotting the two points on an X and Y axis.\n",
    "2. Cosine Similarity — This measure allows us to compare the vectors on the basis of their trajectories. This method is particularly well-suited for semantic spaces because it ignores differences in frequency and compares, rather, the closeness of relationship between two sets of frequencies. "
   ]
  },
  {
   "cell_type": "markdown",
   "metadata": {},
   "source": [
    "### PCA Analysis\n",
    "\n",
    "We want to apply PCA in order to plot nouns in an imaginary space. The goal is to use the visualization to identify patterns and groups amongst the 199 target nouns. Nouns that are more similar should fall within the same general areas relative to the origin (0, 0). PCA seeks to identify the maximum variance amongst the vector spaces. "
   ]
  },
  {
   "cell_type": "code",
   "execution_count": null,
   "metadata": {},
   "outputs": [],
   "source": [
    "pca = PCA(10) # PCA with 3 principal components\n",
    "noun_fit = pca.fit(fishertransf.T.values) # get coordinates\n",
    "pca_nouns = noun_fit.transform(fishertransf.T.values)\n",
    "\n",
    "plt.figure(figsize=(8, 6))\n",
    "sns.barplot(x=np.arange(10)+1, y=noun_fit.explained_variance_ratio_[:10])\n",
    "plt.xlabel('Principle Component', size=20)\n",
    "plt.ylabel('Raio of Explained Variance', size=20)\n",
    "plt.title('Ratio of Explained Variance for Principle Components 1-10 (Scree Plot)', size=20)\n",
    "plt.show()"
   ]
  },
  {
   "cell_type": "markdown",
   "metadata": {},
   "source": [
    "Variance accounted for by PC1 and PC2:"
   ]
  },
  {
   "cell_type": "code",
   "execution_count": null,
   "metadata": {},
   "outputs": [],
   "source": [
    "noun_fit.explained_variance_ratio_[0]+noun_fit.explained_variance_ratio_[1]"
   ]
  },
  {
   "cell_type": "markdown",
   "metadata": {},
   "source": [
    "The plot above, also called a scree plot, tells us that the first two principle components only account for 12% of the total variance in the dataset. Thus the PCA noun space is rather noisy. This may be explained by the fact that we are combining many different kinds of syntactic contexts into one dataset. And it may also be due to the rather spread out nature of lexical data. \n",
    "\n",
    "Below we extract the top 25 features which are most influential for the first two principal components."
   ]
  },
  {
   "cell_type": "code",
   "execution_count": null,
   "metadata": {},
   "outputs": [],
   "source": [
    "loadings = noun_fit.components_.T * np.sqrt(noun_fit.explained_variance_)\n",
    "loadings = pd.DataFrame(loadings.T, index=np.arange(10)+1, columns=data.index)"
   ]
  },
  {
   "cell_type": "code",
   "execution_count": null,
   "metadata": {},
   "outputs": [],
   "source": [
    "pc1_loadings = pd.DataFrame(loadings.loc[1].sort_values(ascending=False))\n",
    "pc2_loadings = pd.DataFrame(loadings.loc[2].sort_values(ascending=False))\n",
    "\n",
    "pc1_loadings_above0 = pc1_loadings[pc1_loadings[1] > 0.1] # isolate loadings > 0\n",
    "\n",
    "# automatically detect elbow in graph:\n",
    "elbow = KneeLocator(x=np.arange(pc1_loadings_above0.shape[0]), \n",
    "                    y=pc1_loadings_above0[1].values, \n",
    "                    curve='convex', \n",
    "                    direction='decreasing').knee\n",
    "\n",
    "# plot it all\n",
    "plt.figure(figsize=(8, 6))\n",
    "plt.plot(pc1_loadings_above0.values)\n",
    "plt.title('Loading Scores >0 by Rank for Principle Component 1', size=20)\n",
    "plt.ylabel('Loading Score', size=20)\n",
    "plt.xlabel('Rank', size=20)\n",
    "plt.xticks(np.arange(pc1_loadings_above0.shape[0], step=20), size=20)\n",
    "plt.yticks(size=20)\n",
    "plt.axvline(elbow, color='red') # plot elbow with red line\n",
    "plt.show()"
   ]
  },
  {
   "cell_type": "markdown",
   "metadata": {},
   "source": [
    "#### Top PCX Loadings and Scores (for data exploration)"
   ]
  },
  {
   "cell_type": "code",
   "execution_count": null,
   "metadata": {},
   "outputs": [],
   "source": [
    "# pcx_loadings = pd.DataFrame(loadings.loc[4].sort_values(ascending=False)) # for experiments\n",
    "\n",
    "# pcx_loadings.head(25)"
   ]
  },
  {
   "cell_type": "markdown",
   "metadata": {},
   "source": [
    "#### Top 25 PC1 Loadings and Scores"
   ]
  },
  {
   "cell_type": "code",
   "execution_count": null,
   "metadata": {},
   "outputs": [],
   "source": [
    "pc1_loadings.round(2).head(25).to_csv('spreadsheets/PC1_loadings.csv')\n",
    "pc1_loadings.head(25)"
   ]
  },
  {
   "cell_type": "markdown",
   "metadata": {},
   "source": [
    "#### PC1 Verb Contexts and Loadings "
   ]
  },
  {
   "cell_type": "code",
   "execution_count": null,
   "metadata": {},
   "outputs": [],
   "source": [
    "pc1_loadings[pc1_loadings.index.str.contains('v1')].round(2).head(15).to_csv('spreadsheets/top15_animate_verbs.csv')\n",
    "\n",
    "top_pc1_loadings = pc1_loadings[pc1_loadings[1] >= 0.30]\n",
    "\n",
    "pc1_loadings[pc1_loadings.index.str.contains('v1')].head(15)"
   ]
  },
  {
   "cell_type": "markdown",
   "metadata": {},
   "source": [
    "#### Looking at T.ל.Cmpl→ לקח.v1.qal\n",
    "\n",
    "This is an interesting top verbal context. Is it related to marriage situations?"
   ]
  },
  {
   "cell_type": "code",
   "execution_count": null,
   "metadata": {},
   "outputs": [],
   "source": [
    "take_contexts = [r for r in counts.basis2result['T.ל.Cmpl→ לקח.v1.qal']]\n",
    "random.seed(213214) # shuffle random, preserve state\n",
    "random.shuffle(take_contexts)\n",
    "B.show(take_contexts, condenseType='clause', withNodes=True, end=5)\n",
    "display(HTML(f'<h4>...{len(take_contexts)-5} other results cutoff...'))"
   ]
  },
  {
   "cell_type": "code",
   "execution_count": null,
   "metadata": {},
   "outputs": [],
   "source": [
    "'; '.join(['{} {}:{}'.format(*T.sectionFromNode(r[0])) for r in sorted(take_contexts)])"
   ]
  },
  {
   "cell_type": "code",
   "execution_count": null,
   "metadata": {},
   "outputs": [],
   "source": [
    "len(take_contexts)"
   ]
  },
  {
   "cell_type": "markdown",
   "metadata": {},
   "source": [
    "#### PC2 Loadings, top 25"
   ]
  },
  {
   "cell_type": "code",
   "execution_count": null,
   "metadata": {},
   "outputs": [],
   "source": [
    "pc2_loadings.head(25)"
   ]
  },
  {
   "cell_type": "code",
   "execution_count": null,
   "metadata": {},
   "outputs": [],
   "source": [
    "def plot_PCA(pca_nouns, \n",
    "             zoom=tuple(), \n",
    "             noun_xy_dict=False, \n",
    "             save='', \n",
    "             annotate=True, \n",
    "             title='', \n",
    "             components=(pca_nouns[:,0], pca_nouns[:,1])):\n",
    "    '''\n",
    "    Plots a PCA noun space.\n",
    "    Function is useful for presenting various zooms on the data.\n",
    "    '''\n",
    "    \n",
    "    x, y = components\n",
    "    \n",
    "    # plot coordinates\n",
    "    plt.figure(figsize=(12, 10))\n",
    "    plt.scatter(x, y)\n",
    "\n",
    "    if zoom:\n",
    "        xmin, xmax, ymin, ymax = zoom\n",
    "        plt.xlim(xmin, xmax)\n",
    "        plt.ylim(ymin, ymax)\n",
    "    \n",
    "    if title:\n",
    "        plt.title(title, size=18)\n",
    "    plt.xlabel('PC1', size=18)\n",
    "    plt.ylabel('PC2', size=18)\n",
    "    plt.axhline(color='red', linestyle=':')\n",
    "    plt.axvline(color='red', linestyle=':')\n",
    "    \n",
    "    # annotate points\n",
    "    if annotate:\n",
    "        noun_xy = {} # for noun_dict\n",
    "        noun_lexs = [f'{reverse_hb(F.voc_lex_utf8.v(counts.target2lex[n]))}' for n in fishertransf.columns]\n",
    "        for i, noun in enumerate(noun_lexs):\n",
    "            noun_x, noun_y = x[i], y[i]\n",
    "            noun_xy[fishertransf.columns[i]] = (noun_x, noun_y)\n",
    "            if zoom: # to avoid annotating outside of field of view (makes plot small)\n",
    "                if any([noun_x < xmin, noun_x > xmax, noun_y < ymin, noun_y > ymax]):                \n",
    "                    continue # skip noun\n",
    "            plt.annotate(noun, xy=(noun_x, noun_y), size='18')\n",
    "    \n",
    "    if save:\n",
    "        plt.savefig(save, dpi=300, bbox_inches='tight')\n",
    "    \n",
    "    \n",
    "    plt.show()\n",
    "    \n",
    "    if noun_xy_dict:\n",
    "        return noun_xy\n",
    "\n",
    "test_components = (pca_nouns[:,0], pca_nouns[:,1])\n",
    "        "
   ]
  },
  {
   "cell_type": "markdown",
   "metadata": {},
   "source": [
    "#### Whole PCA Space"
   ]
  },
  {
   "cell_type": "code",
   "execution_count": null,
   "metadata": {},
   "outputs": [],
   "source": [
    "pca_nouns_xy = plot_PCA(pca_nouns, noun_xy_dict=True, save='plots/PCA_whole.png', components=test_components)"
   ]
  },
  {
   "cell_type": "markdown",
   "metadata": {},
   "source": [
    "We can already see some interesting tendencies in the data. קול and דבר are grouped in the same quadrant. In the upper right quadrant we see בן and בת. The lower left quadrant presents a particularly interesting match: יד \"hand\" and אלהים \"God\".\n",
    "\n",
    "We zoom in closer below to have a better look at the tendencies."
   ]
  },
  {
   "cell_type": "markdown",
   "metadata": {},
   "source": [
    "#### Main Cluster of PCA space"
   ]
  },
  {
   "cell_type": "code",
   "execution_count": null,
   "metadata": {},
   "outputs": [],
   "source": [
    "plot_PCA(pca_nouns, zoom=((-3, 3, -2.5, 1)), save='plots/PCA_main.png')"
   ]
  },
  {
   "cell_type": "markdown",
   "metadata": {},
   "source": [
    "### ~Animate Nouns"
   ]
  },
  {
   "cell_type": "markdown",
   "metadata": {},
   "source": [
    "Note that nouns in the lower right quadrant tend to be people, while on the lower left there are primarily things.\n",
    "\n",
    "The plot below shows person nouns."
   ]
  },
  {
   "cell_type": "code",
   "execution_count": null,
   "metadata": {},
   "outputs": [],
   "source": [
    "plot_PCA(pca_nouns, zoom=((-0.1, 5, -2.5, 0.1)), save='plots/PCA_~animates')"
   ]
  },
  {
   "cell_type": "markdown",
   "metadata": {},
   "source": [
    "Let's see what nouns to the right of the y axis have most in common. This could corroborate the intuition that the nouns on the right are personal.\n",
    "\n",
    "First we isolate the nouns with a x-axis value > 0. Those are shown below, they are obviously personal nouns."
   ]
  },
  {
   "cell_type": "code",
   "execution_count": null,
   "metadata": {},
   "outputs": [],
   "source": [
    "nouns_xy = pd.DataFrame.from_dict(pca_nouns_xy, orient='index', columns=['x', 'y'])\n",
    "possibly_animate = pd.DataFrame(nouns_xy[nouns_xy.x > 0])\n",
    "possibly_animate['gloss'] = [F.gloss.v(counts.target2lex[targ]) for targ in possibly_animate.index]\n",
    "possibly_animate = possibly_animate.reindex(['gloss', 'x', 'y'], axis=1)"
   ]
  },
  {
   "cell_type": "code",
   "execution_count": null,
   "metadata": {},
   "outputs": [],
   "source": [
    "x_animate = pd.DataFrame(possibly_animate.drop('y', axis=1).sort_values(ascending=False, by='x'))\n",
    "round(x_animate,2).to_csv('spreadsheets/animate_x.csv')\n",
    "print(f'total number of ~animate nouns {x_animate.shape[0]}')\n",
    "x_animate"
   ]
  },
  {
   "cell_type": "markdown",
   "metadata": {},
   "source": [
    "#### Why בגד?\n",
    "\n",
    "Why has בגד \"garment\" made it into the set? We compare the top loading scores against the top scores for בגד."
   ]
  },
  {
   "cell_type": "code",
   "execution_count": null,
   "metadata": {},
   "outputs": [],
   "source": [
    "def cf_PC_Noun(pc_loadings, noun_counts, noun, pc_name='PC1', ascending=False):\n",
    "    '''\n",
    "    Compares PC loadings and noun counts.\n",
    "    Returns a DF containing the top common\n",
    "    counts sorted on the PC.\n",
    "    '''\n",
    "    top_cts = noun_counts[noun][noun_counts[noun]>0] # isolate non-zero counts\n",
    "    pc_word = pc_loadings.copy() # make copy of PC loadings for modifications\n",
    "    pc_word.columns = [pc_name] # rename col to PCX\n",
    "    pc_word[noun] = top_cts[[i for i in top_cts.index if i in pc_word.index]] # add new column for noun\n",
    "    pc_word = pc_word[pc_word[noun] > 0].sort_values(by='PC1', ascending=ascending) # remove zero counts completely, sort\n",
    "    return pc_word\n",
    "    \n",
    "bgd_pc1 = cf_PC_Noun(pc1_loadings, fishertransf, 'בגד.n1')\n",
    "\n",
    "bgd_pc1[bgd_pc1.PC1 >= 0.3].round(2).to_csv('spreadsheets/BGD_pc1.csv')\n",
    "    \n",
    "bgd_pc1[bgd_pc1.PC1 >= 0.3]"
   ]
  },
  {
   "cell_type": "markdown",
   "metadata": {},
   "source": [
    "Show passages for coord relations for paper:"
   ]
  },
  {
   "cell_type": "code",
   "execution_count": null,
   "metadata": {},
   "outputs": [],
   "source": [
    "def collectPassages(contextslist, targetnoun):\n",
    "    '''\n",
    "    Collects and returns neatly \n",
    "    formatted passages\n",
    "    for use in the paper.\n",
    "    '''\n",
    "    # map the passages with dicts to avoid repeats\n",
    "    results = sorted(res for context in contextslist for res in counts.target2basis2result[targetnoun][context])\n",
    "    return formatPassages(results)\n",
    "    \n",
    "\n",
    "bgd_mixContexts = ['']\n",
    "collectPassages(bgd_pc1.head(4).index[bgd_pc1.head(4).index.str.contains('coord')], 'בגד.n1')"
   ]
  },
  {
   "cell_type": "code",
   "execution_count": null,
   "metadata": {},
   "outputs": [],
   "source": [
    "# B.show(counts.target2basis2result['בגד.n1']['T.coord→ אהרן.n1'], condenseType='phrase', withNodes=True)"
   ]
  },
  {
   "cell_type": "markdown",
   "metadata": {},
   "source": [
    "Now we find the context tags that are highest in the set. We pull the fourth quartile (75th percentile) of the context tags to see which ones are most shared accross these nouns."
   ]
  },
  {
   "cell_type": "code",
   "execution_count": null,
   "metadata": {},
   "outputs": [],
   "source": [
    "animate_context = fishertransf[possibly_animate.index].quantile(0.75, axis=1).sort_values(ascending=False)\n",
    "pd.DataFrame(animate_context.head(15))"
   ]
  },
  {
   "cell_type": "markdown",
   "metadata": {},
   "source": [
    "#### PCA Space: Focus on Bordering ~Animate Nouns"
   ]
  },
  {
   "cell_type": "code",
   "execution_count": null,
   "metadata": {},
   "outputs": [],
   "source": [
    "plot_PCA(pca_nouns, zoom=((-0.5, 0.5, -1.5, -1)), save='plots/PCA_~animate_border')"
   ]
  },
  {
   "cell_type": "code",
   "execution_count": null,
   "metadata": {},
   "outputs": [],
   "source": [
    "nouns_xy[(nouns_xy.x < 0) & (nouns_xy.x > -0.4)].sort_values(ascending=False, by='x')"
   ]
  },
  {
   "cell_type": "markdown",
   "metadata": {},
   "source": [
    "Verbs are the greatest distinguishing factor here, with אמר, בוא,נתן, לקח and others serving a big role. מות \"die\" also plays a role. These are definitely contexts we could expect with animate nouns."
   ]
  },
  {
   "cell_type": "markdown",
   "metadata": {},
   "source": [
    "### ~Inanimate Nouns\n",
    "\n",
    "The nouns to the left of the y axis appear to be mostly inanimate. "
   ]
  },
  {
   "cell_type": "code",
   "execution_count": null,
   "metadata": {},
   "outputs": [],
   "source": [
    "plot_PCA(pca_nouns, zoom=((-2, 0, -2.5, 0)), title='PCA Space: ~Inanimate Noun Cluster')"
   ]
  },
  {
   "cell_type": "markdown",
   "metadata": {},
   "source": [
    "Below we pull the tendencies for the nouns with a PC1 < 0. These nouns appear to be impersonal in nature."
   ]
  },
  {
   "cell_type": "code",
   "execution_count": null,
   "metadata": {},
   "outputs": [],
   "source": [
    "possibly_inanimate = pd.DataFrame(nouns_xy[(nouns_xy.x < 0) & (nouns_xy.y < 0)])\n",
    "possibly_inanimate['gloss'] = [F.gloss.v(counts.target2lex[targ]) for targ in possibly_inanimate.index]\n",
    "possibly_inanimate = possibly_inanimate.reindex(['gloss', 'x', 'y'], axis=1)\n",
    "\n",
    "x_inanimate = pd.DataFrame(possibly_inanimate.drop('y', axis=1).sort_values(by='x'))\n",
    "round(x_inanimate,2).head(x_animate.shape[0]).to_csv('spreadsheets/inanimate_x.csv')\n",
    "print(f'Number of total ~inanimates: {x_inanimate.shape[0]}')\n",
    "print(f'Top ~inanimates: ')\n",
    "x_inanimate.head(x_animate.shape[0])"
   ]
  },
  {
   "cell_type": "markdown",
   "metadata": {},
   "source": [
    "### Top Influencing ~inanimate Contexts"
   ]
  },
  {
   "cell_type": "code",
   "execution_count": null,
   "metadata": {},
   "outputs": [],
   "source": [
    "pc1_loadings.tail(25).sort_values(by=1).round(2).to_csv('spreadsheets//PC1_loadings_negative.csv')\n",
    "\n",
    "pc1_loadings.tail(25).sort_values(by=1)"
   ]
  },
  {
   "cell_type": "markdown",
   "metadata": {},
   "source": [
    "#### What about מלאך?\n",
    "\n",
    "Why is מלאך rated in this list of mostly \"inanimates\"?"
   ]
  },
  {
   "cell_type": "code",
   "execution_count": null,
   "metadata": {},
   "outputs": [],
   "source": [
    "pc_mlak = cf_PC_Noun(pc1_loadings, fishertransf, 'מלאך.n1', ascending=True)\n",
    "\n",
    "pc_mlak[pc_mlak.PC1 <= -0.2].round(2).to_csv('spreadsheets/MLAK_pc1.csv')\n",
    "\n",
    "pc_mlak.head(10)"
   ]
  },
  {
   "cell_type": "markdown",
   "metadata": {},
   "source": [
    "Note that several of the top 4 contexts are related to אלהים. We pull a few examples with אלהים out for use in the paper."
   ]
  },
  {
   "cell_type": "code",
   "execution_count": null,
   "metadata": {},
   "outputs": [],
   "source": [
    "collectPassages(['T.אחר.n1.Cmpl→ הלך.v1.qal'], 'אלהים.n1')"
   ]
  },
  {
   "cell_type": "code",
   "execution_count": null,
   "metadata": {},
   "outputs": [],
   "source": [
    "collectPassages(['T.אחר.n1.Cmpl→ הלך.v1.qal'], 'מלאך.n1')"
   ]
  },
  {
   "cell_type": "code",
   "execution_count": null,
   "metadata": {},
   "outputs": [],
   "source": [
    "collectPassages(['אחר.n2.atr→ T'], 'מלאך.n1')"
   ]
  },
  {
   "cell_type": "code",
   "execution_count": null,
   "metadata": {},
   "outputs": [],
   "source": [
    "collectPassages(['T.appo→ אלהים.n1'], 'מלאך.n1')"
   ]
  },
  {
   "cell_type": "markdown",
   "metadata": {},
   "source": [
    "The next plot shows nouns to the left of the y-origin. Note especially the terms between y(-0.5) and y(0.0.). These are more conceptual nouns. This same trajectory extends up into the far parts of the upper left quadrant through דבר and קול."
   ]
  },
  {
   "cell_type": "markdown",
   "metadata": {},
   "source": [
    "Here is a closer look at the larger cluster near the left side of the y-origin."
   ]
  },
  {
   "cell_type": "code",
   "execution_count": null,
   "metadata": {},
   "outputs": [],
   "source": [
    "plot_PCA(pca_nouns, zoom=((-0.5, -0.1, -1.5, -1)))"
   ]
  },
  {
   "cell_type": "markdown",
   "metadata": {},
   "source": [
    "Moving over one more notch:"
   ]
  },
  {
   "cell_type": "code",
   "execution_count": null,
   "metadata": {},
   "outputs": [],
   "source": [
    "plot_PCA(pca_nouns, zoom=((-1, -0.5, -2, -0.5)))"
   ]
  },
  {
   "cell_type": "markdown",
   "metadata": {},
   "source": [
    "### ~Perception Nouns?\n",
    "\n",
    "The first quandrant contains a number of interesting terms that appear to be mostly abstract. These nouns appear to be related in some sense to perceptions:"
   ]
  },
  {
   "cell_type": "code",
   "execution_count": null,
   "metadata": {},
   "outputs": [],
   "source": [
    "plot_PCA(pca_nouns, zoom=((-2, 0.05, -0.05, 1)), save='plots/PCA_~perception_nouns')"
   ]
  },
  {
   "cell_type": "markdown",
   "metadata": {},
   "source": [
    "Below are the most common contexts for these nouns."
   ]
  },
  {
   "cell_type": "code",
   "execution_count": null,
   "metadata": {},
   "outputs": [],
   "source": [
    "perceptions = nouns_xy[(nouns_xy.x < 0) & (nouns_xy.y > 0)]\n",
    "perception_contexts = fishertransf[perceptions.index].quantile(0.75, axis=1).sort_values(ascending=False).head(15)\n",
    "\n",
    "pd.DataFrame(perception_contexts)"
   ]
  },
  {
   "cell_type": "markdown",
   "metadata": {},
   "source": [
    "Many perceptional related contexts can be seen here, namely when the noun is a direct object to verbs such as שׁמע \"hear\", ידע \"know\", ראה \"see\", מצא \"find\", and שׁכח \"forget\"."
   ]
  },
  {
   "cell_type": "markdown",
   "metadata": {},
   "source": [
    "## Experiment in Metaphor Detection\n",
    "\n",
    "If the contexts of the animate nouns are queried against the inanimate nouns, is it possible to detect cases of metaphorical extension in the dataset?"
   ]
  },
  {
   "cell_type": "code",
   "execution_count": null,
   "metadata": {},
   "outputs": [],
   "source": [
    "# get top 25 animate verbal contexts with Subj roles:\n",
    "animate_verbal_contexts = pc1_loadings[pc1_loadings.index.str.contains('v') & pc1_loadings.index.str.contains('Subj')].head(25)\n",
    "print(f'number of verbal contexts searched: {animate_verbal_contexts.shape[0]}')\n",
    "\n",
    "metaphors = [] # metaphor data here\n",
    "\n",
    "for i, ia_noun in enumerate(x_inanimate[1:].head(40).index): # go through top 40\n",
    "    \n",
    "    # skip these nouns:\n",
    "    if ia_noun in {'אלהים.n1', 'מלאך.n1'}: \n",
    "        continue\n",
    "    \n",
    "    # find attested, common contexts\n",
    "    contexts = cf_PC_Noun(animate_verbal_contexts, fishertransf, ia_noun)\n",
    "    \n",
    "    if contexts.shape[0]: # a match is found\n",
    "        \n",
    "        # gather row data with columns of [noun, context, hits, passages, example]\n",
    "        for context in contexts.index:\n",
    "            results = counts.target2basis2result[ia_noun][context] # get results from searches\n",
    "            hits = len(results)\n",
    "            passages = formatPassages(results)\n",
    "            example = T.text(results[0][0])\n",
    "            metaphors.append([ia_noun, context, hits, passages, example, f'({formatPassages([(results[0][0],)])})'])\n",
    "\n",
    "metaphors = pd.DataFrame(metaphors, columns=['noun', 'context', 'hits', 'passages', 'example', ' '])\n",
    "metaphors.to_csv('spreadsheets/metaphors.csv')\n",
    "\n",
    "display(HTML('<h4>Detected Metaphors</h4>'))\n",
    "metaphors"
   ]
  },
  {
   "cell_type": "markdown",
   "metadata": {},
   "source": [
    "## Cosine Similarity Analysis"
   ]
  },
  {
   "cell_type": "code",
   "execution_count": null,
   "metadata": {},
   "outputs": [],
   "source": [
    "distances_raw = pairwise_distances(fishertransf.T.values, metric='cosine')\n",
    "distances = pd.DataFrame(distances_raw, columns=fishertransf.columns, index=fishertransf.columns)\n",
    "similarities = distances.apply(lambda n: 1-n) # convert distance matrix to similarities."
   ]
  },
  {
   "cell_type": "markdown",
   "metadata": {},
   "source": [
    "### Export Spreadsheet Similarity Data"
   ]
  },
  {
   "cell_type": "code",
   "execution_count": null,
   "metadata": {},
   "outputs": [],
   "source": [
    "for i, term in enumerate(data.sum().sort_values(ascending=False).index):\n",
    "    these_sims = pd.DataFrame(similarities[term].sort_values(ascending=False)[1:])                    \n",
    "    # export to simple data\n",
    "    these_sims.to_csv(f'../easydata/similarities/{i+1}Rank_{term}.csv')"
   ]
  },
  {
   "cell_type": "markdown",
   "metadata": {},
   "source": [
    "#### Export Big Table for Paper (top 20 terms)"
   ]
  },
  {
   "cell_type": "code",
   "execution_count": null,
   "metadata": {},
   "outputs": [],
   "source": [
    "sim_rows = []\n",
    "\n",
    "three_nouns = []\n",
    "for i, term in enumerate(data.sum().sort_values(ascending=False).head(20).index):\n",
    "    \n",
    "    if len(three_nouns) < 3:\n",
    "        three_nouns.append(term)\n",
    "    \n",
    "    elif len(three_nouns) == 3 or i == 20: # 3 per row\n",
    "        \n",
    "        # prep header with extra columns\n",
    "        header = [x for tup in zip(['']*3, three_nouns) for x in tup]\n",
    "        sim_rows.append(header)\n",
    "        \n",
    "        noun_scores = []\n",
    "        for noun in three_nouns:\n",
    "            top_sims = similarities[noun].sort_values(ascending=False)[1:].head(5)\n",
    "            noun_scores.append(list(zip(top_sims.index, top_sims.values)))\n",
    "        \n",
    "        score_rows = []\n",
    "        \n",
    "        for simdat1, simdat2, simdat3 in zip(*noun_scores):\n",
    "            score_rows.append([simdat1[0], simdat1[1], simdat2[0], simdat2[1], simdat3[0], simdat3[1]])\n",
    "    \n",
    "        sim_rows.extend(score_rows)\n",
    "        sim_rows.append([''])\n",
    "        three_nouns = []\n",
    "        \n",
    "with open('spreadsheets/top20_sims.csv', 'w') as outfile:\n",
    "    writer = csv.writer(outfile)\n",
    "    writer.writerows(sim_rows)"
   ]
  },
  {
   "cell_type": "markdown",
   "metadata": {},
   "source": [
    "### Plot Top 5 Similarity for all Terms\n",
    "\n",
    "Below we visualize the top 5 similarity scores for all of the nouns."
   ]
  },
  {
   "cell_type": "code",
   "execution_count": null,
   "metadata": {},
   "outputs": [],
   "source": [
    "plt.figure(figsize=(22, 210))\n",
    "\n",
    "for i, noun in enumerate(similarities.columns):\n",
    "    \n",
    "    sims = similarities[noun].sort_values(ascending=False).head(6)[1:]\n",
    "    sim_values = sims.values\n",
    "    lexemes = [reverse_hb(F.voc_lex_utf8.v(counts.target2lex[noun])) for noun in sims.index]\n",
    "    glosses = [counts.target2gloss[noun] for noun in sims.index]\n",
    "    lex_glosses = [f'{lex} \\'{gloss}\\'' for lex, gloss in zip(lexemes, glosses)]\n",
    "    sims_new = pd.DataFrame(sim_values, index=lex_glosses)\n",
    "    \n",
    "    # make plots\n",
    "    x = np.arange(sims.shape[0])\n",
    "    plt.subplot(50,4,i+1)\n",
    "    plt.plot(sims_new.values)\n",
    "    plt.scatter(x=x, y=sims_new.values, color='red')\n",
    "    plt.title(f'Top 5 Similar to {reverse_hb(F.voc_lex_utf8.v(counts.target2lex[noun]))}', size=30)\n",
    "    plt.xticks(x, lexemes, size=26)\n",
    "    plt.yticks(size=14)\n",
    "    plt.ylim(0, 1)\n",
    "    \n",
    "    \n",
    "plt.tight_layout()"
   ]
  },
  {
   "cell_type": "markdown",
   "metadata": {},
   "source": [
    "### Distribution Principle Example for Paper: מים and יין"
   ]
  },
  {
   "cell_type": "code",
   "execution_count": null,
   "metadata": {},
   "outputs": [],
   "source": [
    "pos_water = data['מים.n1'][data['מים.n1'] > 0] # get non-zero counts\n",
    "pos_wine = data['יין.n1'][data['יין.n1'] > 0] \n",
    "winewater_common = set(pos_water.index) & set(pos_wine.index) # retrieve data using non-zero indicies in common\n",
    "\n",
    "winewater = data.loc[winewater_common][['מים.n1', 'יין.n1']]\n",
    "winewater = winewater.sort_values(by=winewater.sum().sort_values(ascending=False).index[0], ascending=False) # sort on largest sum column\n",
    "\n",
    "winewater"
   ]
  },
  {
   "cell_type": "markdown",
   "metadata": {},
   "source": [
    "Where is \"washed WITH wine\"?"
   ]
  },
  {
   "cell_type": "code",
   "execution_count": null,
   "metadata": {},
   "outputs": [],
   "source": [
    "B.show(counts.target2basis2result['יין.n1']['T.ב.Cmpl→ כבס.v1.piel'], condenseType='clause')"
   ]
  },
  {
   "cell_type": "code",
   "execution_count": null,
   "metadata": {},
   "outputs": [],
   "source": [
    "T.text(L.u(counts.target2basis2result['יין.n1']['T.ב.Cmpl→ כבס.v1.piel'][0][0], 'verse')[0])"
   ]
  },
  {
   "cell_type": "markdown",
   "metadata": {},
   "source": [
    "But מים is much more frequent with the \"washing\" frame, using a different context:"
   ]
  },
  {
   "cell_type": "code",
   "execution_count": null,
   "metadata": {},
   "outputs": [],
   "source": [
    "data['מים.n1'].sort_values(ascending=False).head(10)"
   ]
  },
  {
   "cell_type": "markdown",
   "metadata": {},
   "source": [
    "### Build Toy Example to Illustrate Similarity Algorithms\n",
    "\n",
    "Select three words, two of which strongly related, a third which is only sort of related. I have manually selected לחם \"bread\", בשׂר \"flesh\", and זהב \"gold\", along with two contexts involving object use with אכל and נתן."
   ]
  },
  {
   "cell_type": "code",
   "execution_count": null,
   "metadata": {},
   "outputs": [],
   "source": [
    "ex_targets = ['לחם.n1', 'בשׂר.n1', 'זהב.n1']\n",
    "ex_contexts = ['T.Objc→ אכל.v1.qal', 'T.Objc→ נתן.v1.qal']\n",
    "sim_example = data[ex_targets].loc[ex_contexts]\n",
    "sim_example.to_csv('spreadsheets/sim_example.csv')\n",
    "sim_example"
   ]
  },
  {
   "cell_type": "markdown",
   "metadata": {},
   "source": [
    "#### Make Overly Simple Distance Matrix "
   ]
  },
  {
   "cell_type": "code",
   "execution_count": null,
   "metadata": {},
   "outputs": [],
   "source": [
    "sim_dist = collections.defaultdict(lambda: collections.defaultdict(int))\n",
    "\n",
    "for noun in sim_example:\n",
    "    for conoun in sim_example:\n",
    "        sim_dist[noun][conoun] = abs(sim_example[noun] - sim_example[conoun]).sum()\n",
    "        \n",
    "sim_dist = pd.DataFrame(sim_dist, columns=sim_example.columns, index=sim_example.columns)\n",
    "\n",
    "sim_dist.to_csv('spreadsheets/sim_ex_dist.csv')\n",
    "\n",
    "sim_dist"
   ]
  },
  {
   "cell_type": "markdown",
   "metadata": {},
   "source": [
    "#### Example Sorted Distances"
   ]
  },
  {
   "cell_type": "code",
   "execution_count": null,
   "metadata": {},
   "outputs": [],
   "source": [
    "pd.DataFrame(sim_dist['לחם.n1'].sort_values()).to_csv('spreadsheets/sim_ex_lxm.csv')\n",
    "pd.DataFrame(sim_dist['בשׂר.n1'].sort_values()).to_csv('spreadsheets/sim_ex_bfr.csv')"
   ]
  },
  {
   "cell_type": "markdown",
   "metadata": {},
   "source": [
    "#### Compare Attestations"
   ]
  },
  {
   "cell_type": "code",
   "execution_count": null,
   "metadata": {},
   "outputs": [],
   "source": [
    "data['לחם.n1'].sum()"
   ]
  },
  {
   "cell_type": "code",
   "execution_count": null,
   "metadata": {},
   "outputs": [],
   "source": [
    "data['בשׂר.n1'].sum()"
   ]
  },
  {
   "cell_type": "markdown",
   "metadata": {},
   "source": [
    "#### Build Cosine Similarity Example for Paper"
   ]
  },
  {
   "cell_type": "code",
   "execution_count": null,
   "metadata": {},
   "outputs": [],
   "source": [
    "plt.figure(figsize=(8, 6))\n",
    "\n",
    "x = sim_example.values[0]\n",
    "y = sim_example.values[1]\n",
    "labels = sim_example.columns\n",
    "\n",
    "plt.scatter(x, y)\n",
    "for xn, yn in zip(x, y):\n",
    "    plt.plot([0, xn], [0, yn], 'ro-', color='blue')\n",
    "\n",
    "for xn, yn, labeln in zip(x, y, labels):\n",
    "    plt.annotate(reverse_hb(labeln.split('.')[0])+'.n1', (xn, yn), size=22)\n",
    "\n",
    "#plt.xlabel(sim_example.index[0], size=22) # commented out because the Hebrew gets messed up\n",
    "#plt.ylabel(sim_example.index[1], size=22)\n",
    "\n",
    "plt.xticks(np.arange(90, step=10))\n",
    "plt.yticks(np.arange(24, step=2))\n",
    "plt.savefig('plots/sim_example.png', dpi=300,  bbox_inches='tight')\n",
    "plt.show()"
   ]
  },
  {
   "cell_type": "markdown",
   "metadata": {},
   "source": [
    "#### Angles\n",
    "\n",
    "Get angles to draw. Will do it manually to save time."
   ]
  },
  {
   "cell_type": "code",
   "execution_count": null,
   "metadata": {},
   "outputs": [],
   "source": [
    "# src: https://stackoverflow.com/questions/2827393/angles-between-two-n-dimensional-vectors-in-python\n",
    "def dotproduct(v1, v2):\n",
    "    return sum((a*b) for a, b in zip(v1, v2))\n",
    "\n",
    "def length(v):\n",
    "    return math.sqrt(dotproduct(v, v))\n",
    "\n",
    "def angle(v1, v2):\n",
    "    return math.acos(dotproduct(v1, v2) / (length(v1) * length(v2)))"
   ]
  },
  {
   "cell_type": "code",
   "execution_count": null,
   "metadata": {},
   "outputs": [],
   "source": [
    "for target in sim_example.columns:\n",
    "    for cotarget in sim_example.columns:\n",
    "        if target == cotarget:\n",
    "            continue\n",
    "        else:\n",
    "            print(f'{target} -> {cotarget}')\n",
    "            rad = angle(sim_example[target].values, sim_example[cotarget].values)\n",
    "            print(rad * 180 / math.pi)\n",
    "            print()"
   ]
  },
  {
   "cell_type": "markdown",
   "metadata": {},
   "source": [
    "Cosine Measure applied below."
   ]
  },
  {
   "cell_type": "code",
   "execution_count": null,
   "metadata": {},
   "outputs": [],
   "source": [
    "simex_dist = pairwise_distances(sim_example.T.values, metric='cosine')\n",
    "simex_dist = pd.DataFrame(simex_dist, columns=sim_example.columns, index=sim_example.columns)\n",
    "simex_dist.to_csv('spreadsheets/sim_ex_dist.csv')\n",
    "simex_dist"
   ]
  },
  {
   "cell_type": "code",
   "execution_count": null,
   "metadata": {},
   "outputs": [],
   "source": [
    "simex_sim = 1 - simex_dist\n",
    "simex_sim.to_csv('spreadsheets/sim_ex_sim.csv')\n",
    "simex_sim"
   ]
  },
  {
   "cell_type": "markdown",
   "metadata": {},
   "source": [
    "Export an example for the presentation, נחשׁת \"copper\", the result of which is improved in the semantic network experiment further below."
   ]
  },
  {
   "cell_type": "code",
   "execution_count": null,
   "metadata": {},
   "outputs": [],
   "source": [
    "save_figs = ['נחשׁת.n1', 'זהב.n1']\n",
    "\n",
    "for noun in save_figs:\n",
    "    sims = similarities[noun].sort_values(ascending=False).head(6)[1:]\n",
    "    sim_values = sims.values\n",
    "    lexemes = [reverse_hb(F.voc_lex_utf8.v(counts.target2lex[noun])) for noun in sims.index]\n",
    "    glosses = [counts.target2gloss[noun] for noun in sims.index]\n",
    "    lex_glosses = [f'{lex} \\'{gloss}\\'' for lex, gloss in zip(lexemes, glosses)]\n",
    "    noun_text = F.voc_lex_utf8.v(counts.target2lex[noun])\n",
    "    \n",
    "    # make plots\n",
    "    x = np.arange(sims.shape[0])\n",
    "    plt.plot(sim_values)\n",
    "    plt.scatter(x=x, y=sim_values, color='red')\n",
    "    plt.title(f'Top 5 Similarities for {reverse_hb(noun_text)}', size=30)\n",
    "    plt.xticks(x, lexemes, size=20)\n",
    "    plt.ylabel('% Similar', size=20)\n",
    "    plt.ylim(0, 1)\n",
    "    plt.savefig(f'plots/similarity_{noun_text}', dpi=300, bbox_inches='tight')\n",
    "    plt.show()"
   ]
  },
  {
   "cell_type": "markdown",
   "metadata": {},
   "source": [
    "Look at the commonalities between bronze and holiness, skin, and work."
   ]
  },
  {
   "cell_type": "code",
   "execution_count": null,
   "metadata": {},
   "outputs": [],
   "source": [
    "surprising_bronze = fishertransf[['נחשׁת.n1', 'קדשׁ.n1', 'עור.n2', 'עץ.n1']]\n",
    "\n",
    "surprising_bronze.quantile(0.75, axis=1).sort_values(ascending=False).head(15)"
   ]
  },
  {
   "cell_type": "code",
   "execution_count": null,
   "metadata": {},
   "outputs": [],
   "source": [
    "expected_bronze = fishertransf[['נחשׁת.n1', 'כסף.n1', 'זהב.n1']]\n",
    "\n",
    "expected_bronze.quantile(0.75, axis=1).sort_values(ascending=False).head(15)"
   ]
  },
  {
   "cell_type": "markdown",
   "metadata": {},
   "source": [
    "## Gephi Network Visualization\n",
    "\n",
    "The plots above are helpful for looking at individual words and their top similar terms, but they do not really give a sense of the bigger picture, nor of the connections between terms. For instance, רחב and ארך both share a connection as each others' top most common noun. But this relationship  between the terms, and their mutual relationship to other terms, cannot be clearly seen.\n",
    "\n",
    "We can better visualize word relationships by graphing them as nodes connected by edges in a semantic network. The similarity scores can be used to give weight to the edges. A visual plotting studio like [Gephi](www.gephi.org) can then be used to plot the nodes and edges into a visual space.\n",
    "\n",
    "There are a couple of challenges to overcome before the nodes and edges can be exported for Gephi. The most important issue is how to decide which edges are exported? It is not ideal to plot 199x199 edges, and at any rate not all noun x noun comparisons have positive similarities (indeed many have negative values). This simplifies, at least, one aspect of the edge selection: we weed out all relationships that have negative similarity scores. Below, the number of positive similarity ratings per noun are shown."
   ]
  },
  {
   "cell_type": "code",
   "execution_count": null,
   "metadata": {},
   "outputs": [],
   "source": [
    "for lex in similarities.columns:\n",
    "    positives = similarities[lex][similarities[lex] > 0]\n",
    "    print(lex, positives.shape[0])"
   ]
  },
  {
   "cell_type": "markdown",
   "metadata": {},
   "source": [
    "The best cut-off point for edge values is the point of maximum curvature, known as the \"knee\" or in this case, an \"elbow\". `kneed` is an algorithm that automatically detects this point ([here](https://github.com/arvkevi/kneed)). The detector is demonstrated below, where the red lines are the detected elbows. These points will be used as the cut-off point for edge exports."
   ]
  },
  {
   "cell_type": "code",
   "execution_count": null,
   "metadata": {},
   "outputs": [],
   "source": [
    "plt.figure(figsize=(22, 210))\n",
    "\n",
    "for i, noun in enumerate(similarities.columns):\n",
    "    \n",
    "    sims = similarities[noun][similarities[noun] > 0].sort_values(ascending=False)[1:]\n",
    "    \n",
    "    x = np.arange(sims.shape[0])\n",
    "    y = sims.values\n",
    "    \n",
    "    # detect elbow\n",
    "    elbow = KneeLocator(x, y, curve='convex', direction='decreasing').knee\n",
    "    \n",
    "    # make plots\n",
    "    plt.subplot(50,4,i+1)\n",
    "    plt.plot(x, y)\n",
    "    plt.title(f'{reverse_hb(F.voc_lex_utf8.v(counts.target2lex[noun]))}', size=30)\n",
    "    plt.ylim(0, 0.8)\n",
    "    plt.axvline(elbow, color='red')\n",
    "plt.tight_layout()"
   ]
  },
  {
   "cell_type": "markdown",
   "metadata": {},
   "source": [
    "### Export Elbow Edges\n",
    "\n",
    "Use `kneed` to detect the ideal edge cut-off point."
   ]
  },
  {
   "cell_type": "code",
   "execution_count": null,
   "metadata": {},
   "outputs": [],
   "source": [
    "node_maps = {}\n",
    "nodes = []\n",
    "edges = []\n",
    "\n",
    "# make nodes\n",
    "ID = 0\n",
    "for noun in similarities:\n",
    "    label = F.voc_lex_utf8.v(counts.target2lex[noun])\n",
    "    nodes.append([ID, label])\n",
    "    node_maps[noun] = ID\n",
    "    ID += 1\n",
    "\n",
    "# make edges\n",
    "for noun in similarities.columns:\n",
    "    positive_sims = similarities[noun][similarities[noun] > 0].sort_values(ascending=False)[1:]\n",
    "    \n",
    "    # detect elbow\n",
    "    x = np.arange(positive_sims.shape[0])\n",
    "    y = positive_sims.values\n",
    "    elbow = KneeLocator(x, y, curve='convex', direction='decreasing').knee   \n",
    "    edge_sims = positive_sims.head(elbow)\n",
    "    for conoun in edge_sims.index:\n",
    "        source = node_maps[noun]\n",
    "        target = node_maps[conoun]\n",
    "        weight = similarities[noun][conoun]\n",
    "        edges.append([source, target, weight])\n",
    "\n",
    "# export csv's\n",
    "with open('gephidata/sim_nodes_elbows.csv', 'w') as outfile:\n",
    "    writer = csv.writer(outfile)\n",
    "    writer.writerow(['ID', 'Label'])\n",
    "    writer.writerows(nodes)\n",
    "\n",
    "with open('gephidata/sim_edges_elbows.csv', 'w') as outfile:\n",
    "    writer = csv.writer(outfile)\n",
    "    writer.writerow(['Source', 'Target', 'Weight'])\n",
    "    writer.writerows(edges)"
   ]
  },
  {
   "cell_type": "markdown",
   "metadata": {},
   "source": [
    "# TODO: Re-run Gephi with corrected data and import new images\n",
    "\n",
    "The results presented below will change slightly since I have found some mistakes in the context parameters. To be fixed soon. -C, 29 Dec 2018"
   ]
  },
  {
   "cell_type": "markdown",
   "metadata": {},
   "source": [
    "## Gephi Results\n",
    "\n",
    "Below the results of the gephi graph are displayed. Force-Atlas was used to arrange the nodes. The results show discernible neighborhoods of similar nouns.\n",
    "\n",
    "<img src=\"gephidata/graphs/full_graph.png\">"
   ]
  },
  {
   "cell_type": "markdown",
   "metadata": {},
   "source": [
    "## Examining Semantic Networks\n",
    "\n",
    "Below we look closer at the neighborhoods found in the semantic network. Specifically, we want to see what features give rise to the similarities that are registered."
   ]
  },
  {
   "cell_type": "markdown",
   "metadata": {},
   "source": [
    "### Group 1\n",
    "\n",
    "<img src=\"gephidata/graphs/group1.png\">"
   ]
  },
  {
   "cell_type": "code",
   "execution_count": null,
   "metadata": {},
   "outputs": [],
   "source": [
    "group1_targets = ['חק.n1', 'שׁבת.n1', 'תורה.n1', 'מצוה.n1', \n",
    "                  'חקה.n1', 'עדות.n1', 'משׁפט.n1']\n",
    "\n",
    "group1_tendencies = fishertransf[group1_targets].quantile(0.75, axis=1).sort_values(ascending=False).head(15)\n",
    "\n",
    "pd.DataFrame(group1_tendencies)"
   ]
  },
  {
   "cell_type": "markdown",
   "metadata": {},
   "source": [
    "### Group 2\n",
    "\n",
    "<img src=\"gephidata/graphs/group2.png\">"
   ]
  },
  {
   "cell_type": "code",
   "execution_count": null,
   "metadata": {},
   "outputs": [],
   "source": [
    "group2_targets = ['מנחה.n1', 'אהל.n1', 'היכל.n1', 'עיר.n1', \n",
    "                  'בית.n1', 'חומה.n1', 'במה.n1', 'מזבח.n1']\n",
    "\n",
    "group2_tendencies = fishertransf[group2_targets].quantile(0.75, axis=1).sort_values(ascending=False).head(15)\n",
    "\n",
    "pd.DataFrame(group2_tendencies)"
   ]
  },
  {
   "cell_type": "markdown",
   "metadata": {},
   "source": [
    "### Group 3\n",
    "\n",
    "<img src=\"gephidata/graphs/group3.png\">"
   ]
  },
  {
   "cell_type": "code",
   "execution_count": null,
   "metadata": {},
   "outputs": [],
   "source": [
    "group3_targets = ['בת.n1', 'אח.n1', 'בן.n1']\n",
    "\n",
    "group3_tendencies = fishertransf[group3_targets].quantile(0.75, axis=1).sort_values(ascending=False).head(15)\n",
    "\n",
    "pd.DataFrame(group3_tendencies)"
   ]
  },
  {
   "cell_type": "markdown",
   "metadata": {},
   "source": [
    "<hr>"
   ]
  }
 ],
 "metadata": {
  "kernelspec": {
   "display_name": "Python 3",
   "language": "python",
   "name": "python3"
  },
  "language_info": {
   "codemirror_mode": {
    "name": "ipython",
    "version": 3
   },
   "file_extension": ".py",
   "mimetype": "text/x-python",
   "name": "python",
   "nbconvert_exporter": "python",
   "pygments_lexer": "ipython3",
   "version": "3.8.0"
  }
 },
 "nbformat": 4,
 "nbformat_minor": 4
}
