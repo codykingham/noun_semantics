{
 "cells": [
  {
   "cell_type": "markdown",
   "metadata": {},
   "source": [
    "Best viewed locally in a Jupyter notebook or online in <a href=\"https://nbviewer.jupyter.org/github/codykingham/noun_semantics/blob/master/analysis.ipynb\">Jupyter Notebook Viewer</a>\n",
    "\n",
    "# Analysis of Noun Semantics in the Hebrew Bible\n",
    "## Cody Kingham\n",
    "\n",
    "In this notebook, I compare the syntactic contexts of the top 200 most frequent nouns in the Hebrew Bible. This notebook essentially walks through my process and includes limited commentary throughout. Full descriptions borrowed from the paper will soon be transferred to here as well."
   ]
  },
  {
   "cell_type": "code",
   "execution_count": 64,
   "metadata": {},
   "outputs": [
    {
     "name": "stdout",
     "output_type": "stream",
     "text": [
      "last updated:\n",
      "Fri 29 May 2020 12:27:00 BST\n"
     ]
    }
   ],
   "source": [
    "! echo \"last updated:\"; date"
   ]
  },
  {
   "cell_type": "code",
   "execution_count": 567,
   "metadata": {},
   "outputs": [
    {
     "name": "stdout",
     "output_type": "stream",
     "text": [
      "This is Text-Fabric 8.1.2\n",
      "Api reference : https://annotation.github.io/text-fabric/cheatsheet.html\n",
      "\n",
      "124 features found and 0 ignored\n",
      "  0.00s loading features ...\n",
      "   |     0.00s Dataset without structure sections in otext:no structure functions in the T-API\n",
      "    14s All features loaded/computed - for details use loadLog()\n"
     ]
    },
    {
     "data": {
      "text/html": [
       "<style>tr.tf, td.tf, th.tf { text-align: left ! important;}@font-face {\n",
       "  font-family: \"Ezra SIL\";\n",
       "  src: local('Ezra SIL'), local('EzraSIL'),\n",
       "    url('/server/static/fonts/SILEOT.woff') format('woff'),\n",
       "    url('https://github.com/annotation/text-fabric/blob/master/tf/server/static/fonts/SILEOT.woff?raw=true') format('woff');\n",
       "}\n",
       "\n",
       "@font-face {\n",
       "  font-family: \"SBL Hebrew\";\n",
       "  src: local('SBL Hebrew'), local('SBLHebrew'),\n",
       "    url('/server/static/fonts/SBL_Hbrw.woff') format('woff'),\n",
       "    url('https://github.com/annotation/text-fabric/blob/master/tf/server/static/fonts/SBL_Hbrw.woff?raw=true') format('woff');\n",
       "}\n",
       "\n",
       "@font-face {\n",
       "  font-family: \"Estrangelo Edessa\";\n",
       "  src: local('Estrangelo Edessa'), local('EstrangeloEdessa');\n",
       "    url('/server/static/fonts/SyrCOMEdessa.woff') format('woff'),\n",
       "    url('https://github.com/annotation/text-fabric/blob/master/tf/server/static/fonts/SyrCOMEdessa.woff?raw=true') format('woff');\n",
       "}\n",
       "\n",
       "@font-face {\n",
       "  font-family: AmiriQuran;\n",
       "  font-style: normal;\n",
       "  font-weight: 400;\n",
       "  src: local('Amiri Quran'), local('AmiriQuran'),\n",
       "    url('/server/static/fonts/AmiriQuran.woff') format('woff'),\n",
       "    url('https://github.com/annotation/text-fabric/blob/master/tf/server/static/fonts/AmiriQuran.woff?raw=true') format('woff');\n",
       "}\n",
       "\n",
       "@font-face {\n",
       "  font-family: AmiriQuranColored;\n",
       "  font-style: normal;\n",
       "  font-weight: 400;\n",
       "  src: local('Amiri Quran Colored'), local('AmiriQuranColored'),\n",
       "    url('/server/static/fonts/AmiriQuranColored.woff') format('woff'),\n",
       "    url('https://github.com/annotation/text-fabric/blob/master/tf/server/static/fonts/AmiriQuranColored.woff?raw=true') format('woff');\n",
       "}\n",
       "\n",
       "@font-face {\n",
       "  font-family: \"Santakku\";\n",
       "  src: local('Santakku'),\n",
       "    url('/server/static/fonts/Santakku.woff') format('woff'),\n",
       "    url('https://github.com/annotation/text-fabric/blob/master/tf/server/static/fonts/Santakku.woff?raw=true') format('woff');\n",
       "}\n",
       "\n",
       "@font-face {\n",
       "  font-family: \"SantakkuM\";\n",
       "  src: local('SantakkuM'),\n",
       "    url('/server/static/fonts/SantakkuM.woff') format('woff'),\n",
       "    url('https://github.com/annotation/text-fabric/blob/master/tf/server/static/fonts/SantakkuM.woff?raw=true') format('woff');\n",
       "}\n",
       "/* bypassing some classical notebook settings */\n",
       "div#notebook {\n",
       "  line-height: unset;\n",
       "}\n",
       "/* neutral text */\n",
       ".txtn,.txtn a:visited,.txtn a:link {\n",
       "    font-family: sans-serif;\n",
       "    font-size: medium;\n",
       "    direction: ltr;\n",
       "    text-decoration: none;\n",
       "    color: var(--text-color);\n",
       "}\n",
       "/* transcription text */\n",
       ".txtt,.txtt a:visited,.txtt a:link {\n",
       "    font-family: monospace;\n",
       "    font-size: medium;\n",
       "    direction: ltr;\n",
       "    text-decoration: none;\n",
       "    color: var(--text-color);\n",
       "}\n",
       "/* source text */\n",
       ".txto,.txto a:visited,.txto a:link {\n",
       "    font-family: serif;\n",
       "    font-size: medium;\n",
       "    direction: ltr;\n",
       "    text-decoration: none;\n",
       "    color: var(--text-color);\n",
       "}\n",
       "/* phonetic text */\n",
       ".txtp,.txtp a:visited,.txtp a:link {\n",
       "    font-family: Gentium, sans-serif;\n",
       "    font-size: large;\n",
       "    direction: ltr;\n",
       "    text-decoration: none;\n",
       "    color: var(--text-color);\n",
       "}\n",
       "/* original script text */\n",
       ".txtu,.txtu a:visited,.txtu a:link {\n",
       "    font-family: Gentium, sans-serif;\n",
       "    font-size: large;\n",
       "    text-decoration: none;\n",
       "    color: var(--text-color);\n",
       "}\n",
       "/* hebrew */\n",
       ".txtu.hbo,.lex.hbo {\n",
       "    font-family: \"Ezra SIL\", \"SBL Hebrew\", sans-serif;\n",
       "    font-size: x-large;\n",
       "    direction: rtl ! important;\n",
       "    unicode-bidi: embed;\n",
       "}\n",
       "/* syriac */\n",
       ".txtu.syc,.lex.syc {\n",
       "    font-family: \"Estrangelo Edessa\", sans-serif;\n",
       "    font-size: large;\n",
       "    direction: rtl ! important;\n",
       "    unicode-bidi: embed;\n",
       "}\n",
       "/* neo aramaic */\n",
       ".txtu.cld,.lex.cld {\n",
       "    font-family: \"CharisSIL-R\", sans-serif;\n",
       "    font-size: medium;\n",
       "    direction: ltr ! important;\n",
       "    unicode-bidi: embed;\n",
       "}\n",
       "/* standard arabic */\n",
       ".txtu.ara,.lex.ara {\n",
       "    font-family: \"AmiriQuran\", sans-serif;\n",
       "    font-size: large;\n",
       "    direction: rtl ! important;\n",
       "    unicode-bidi: embed;\n",
       "}\n",
       "/* cuneiform */\n",
       ".txtu.akk,.lex.akk {\n",
       "    font-family: Santakku, sans-serif;\n",
       "    font-size: x-large;\n",
       "    direction: ltr ! important;\n",
       "    unicode-bidi: embed;\n",
       "}\n",
       "/* greek */\n",
       ".txtu.grc,.lex.grc a:link {\n",
       "    font-family: Gentium, sans-serif;\n",
       "    font-size: medium;\n",
       "    direction: ltr ! important;\n",
       "    unicode-bidi: embed;\n",
       "}\n",
       "a:hover {\n",
       "    text-decoration: underline | important;\n",
       "    color: #0000ff | important;\n",
       "}\n",
       ".ltr {\n",
       "    direction: ltr ! important;\n",
       "}\n",
       ".rtl {\n",
       "    direction: rtl ! important;\n",
       "}\n",
       "span.plain {\n",
       "    display: inline-block;\n",
       "    white-space: pre-wrap;\n",
       "    text-align: start;\n",
       "}\n",
       ".features {\n",
       "    font-family: monospace;\n",
       "    font-size: medium;\n",
       "    font-weight: bold;\n",
       "    color: var(--features);\n",
       "    display: flex;\n",
       "    flex-flow: column nowrap;\n",
       "    justify-content: flex-start;\n",
       "    align-items: flex-start;\n",
       "    align-content: flex-start;\n",
       "    padding: 0.1rem;\n",
       "    margin: 0.1rem;\n",
       "    direction: ltr;\n",
       "    border: var(--meta-width) solid var(--meta-color);\n",
       "    border-radius: var(--meta-width);\n",
       "}\n",
       ".features div,.features span {\n",
       "    padding: 0;\n",
       "    margin: -0.1rem 0;\n",
       "}\n",
       ".features .f {\n",
       "    font-family: sans-serif;\n",
       "    font-size: small;\n",
       "    font-weight: normal;\n",
       "    color: #5555bb;\n",
       "}\n",
       ".features .xft {\n",
       "  color: #000000;\n",
       "  background-color: #eeeeee;\n",
       "  font-size: medium;\n",
       "  margin: 0.1rem 0rem;\n",
       "}\n",
       ".features .xft .f {\n",
       "  color: #000000;\n",
       "  background-color: #eeeeee;\n",
       "  font-size: small;\n",
       "  font-weight: normal;\n",
       "}\n",
       ".section {\n",
       "    font-family: sans-serif;\n",
       "    font-size: small;\n",
       "    font-weight: bold;\n",
       "    color: var(--section);\n",
       "}\n",
       ".structure {\n",
       "    font-family: sans-serif;\n",
       "    font-size: small;\n",
       "    font-weight: bold;\n",
       "    color: var(--structure);\n",
       "}\n",
       ".comments {\n",
       "    display: flex;\n",
       "    justify-content: flex-start;\n",
       "    align-items: flex-start;\n",
       "    align-content: flex-start;\n",
       "    flex-flow: column nowrap;\n",
       "}\n",
       ".nd {\n",
       "    font-family: sans-serif;\n",
       "    font-size: small;\n",
       "    color: var(--node);\n",
       "    vertical-align: super;\n",
       "}\n",
       ".lex {\n",
       "  color: var(--lex-color);;\n",
       "}\n",
       ".children,.children.ltr {\n",
       "    display: flex;\n",
       "    border: 0;\n",
       "    background-color: #ffffff;\n",
       "    justify-content: flex-start;\n",
       "    align-items: flex-start;\n",
       "    align-content: flex-start;\n",
       "}\n",
       ".children.stretch {\n",
       "    align-items: stretch;\n",
       "}\n",
       ".children.hor {\n",
       "    flex-flow: row nowrap;\n",
       "}\n",
       ".children.hor.wrap {\n",
       "    flex-flow: row wrap;\n",
       "}\n",
       ".children.ver {\n",
       "    flex-flow: column nowrap;\n",
       "}\n",
       ".children.ver.wrap {\n",
       "    flex-flow: column wrap;\n",
       "}\n",
       ".contnr {\n",
       "    width: fit-content;\n",
       "    display: flex;\n",
       "    justify-content: flex-start;\n",
       "    align-items: flex-start;\n",
       "    align-content: flex-start;\n",
       "    flex-flow: column nowrap;\n",
       "    background: #ffffff none repeat scroll 0 0;\n",
       "    padding:  0.5rem 0.1rem 0.1rem 0.1rem;\n",
       "    margin: 0.8rem 0.1rem 0.1rem 0.1rem;\n",
       "    border-style: solid;\n",
       "    font-size: small;\n",
       "}\n",
       ".contnr.trm {\n",
       "    background-attachment: local;\n",
       "}\n",
       ".contnr.cnul {\n",
       "    padding:  0;\n",
       "    margin: 0;\n",
       "    border-style: solid;\n",
       "    font-size: xx-small;\n",
       "}\n",
       ".contnr.cnul,.lbl.cnul {\n",
       "    border-color: var(--border-color-nul);\n",
       "    border-width: var(--border-width-nul);\n",
       "    border-radius: var(--border-width-nul);\n",
       "}\n",
       ".contnr.c0,.lbl.c0 {\n",
       "    border-color: var(--border-color0);\n",
       "    border-width: var(--border-width0);\n",
       "    border-radius: var(--border-width0);\n",
       "}\n",
       ".contnr.c1,.lbl.c1 {\n",
       "    border-color: var(--border-color1);\n",
       "    border-width: var(--border-width1);\n",
       "    border-radius: var(--border-width1);\n",
       "}\n",
       ".contnr.c2,.lbl.c2 {\n",
       "    border-color: var(--border-color2);\n",
       "    border-width: var(--border-width2);\n",
       "    border-radius: var(--border-width2);\n",
       "}\n",
       ".contnr.c3,.lbl.c3 {\n",
       "    border-color: var(--border-color3);\n",
       "    border-width: var(--border-width3);\n",
       "    border-radius: var(--border-width3);\n",
       "}\n",
       ".contnr.c4,.lbl.c4 {\n",
       "    border-color: var(--border-color4);\n",
       "    border-width: var(--border-width4);\n",
       "    border-radius: var(--border-width4);\n",
       "}\n",
       ".contnr.l,.contnr.l>.lbl {\n",
       "    border-left-style: dotted\n",
       "}\n",
       ".contnr.r,.contnr.r>.lbl {\n",
       "    border-right-style: dotted\n",
       "}\n",
       ".contnr.lno,.contnr.lno>.lbl {\n",
       "    border-left-style: none\n",
       "}\n",
       ".contnr.rno,.contnr.rno>.lbl {\n",
       "    border-right-style: none\n",
       "}\n",
       ".lbl {\n",
       "    font-family: monospace;\n",
       "    margin-top: -1.2rem;\n",
       "    margin-left: 1rem;\n",
       "    background: #ffffff none repeat scroll 0 0;\n",
       "    padding: 0 0.3rem;\n",
       "    border-style: solid;\n",
       "    display: block;\n",
       "    color: var(--label)\n",
       "}\n",
       ".lbl.trm {\n",
       "    background-attachment: local;\n",
       "    margin-top: 0.1rem;\n",
       "    margin-left: 0.1rem;\n",
       "    padding: 0.1rem 0.1rem;\n",
       "    border-style: none;\n",
       "}\n",
       ".lbl.cnul {\n",
       "    font-size: xx-small;\n",
       "}\n",
       ".lbl.c0 {\n",
       "    font-size: small;\n",
       "}\n",
       ".lbl.c1 {\n",
       "    font-size: small;\n",
       "}\n",
       ".lbl.c2 {\n",
       "    font-size: medium;\n",
       "}\n",
       ".lbl.c3 {\n",
       "    font-size: medium;\n",
       "}\n",
       ".lbl.c4 {\n",
       "    font-size: large;\n",
       "}\n",
       ".occs {\n",
       "    font-size: small;\n",
       "}\n",
       "\n",
       "/* PROVENANCE */\n",
       "\n",
       "div.prov {\n",
       "\tmargin: 2rem;\n",
       "\tpadding: 1rem;\n",
       "\tborder: 0.1rem solid var(--fog-rim);\n",
       "}\n",
       "div.pline {\n",
       "\tdisplay: flex;\n",
       "\tflex-flow: row nowrap;\n",
       "\tjustify-content: stretch;\n",
       "\talign-items: baseline;\n",
       "}\n",
       "div.p2line {\n",
       "\tmargin-left: 2em;\n",
       "\tdisplay: flex;\n",
       "\tflex-flow: row nowrap;\n",
       "\tjustify-content: stretch;\n",
       "\talign-items: baseline;\n",
       "}\n",
       "div.psline {\n",
       "\tdisplay: flex;\n",
       "\tflex-flow: row nowrap;\n",
       "\tjustify-content: stretch;\n",
       "\talign-items: baseline;\n",
       "\tbackground-color: var(--gold-mist-back);\n",
       "}\n",
       "div.pname {\n",
       "\tflex: 0 0 5rem;\n",
       "\tfont-weight: bold;\n",
       "}\n",
       "div.pval {\n",
       "    flex: 1 1 auto;\n",
       "}\n",
       "\n",
       ":root {\n",
       "\t--node:             hsla(120, 100%,  20%, 1.0  );\n",
       "\t--label:            hsla(  0, 100%,  20%, 1.0  );\n",
       "\t--section:          hsla(  0, 100%,  25%, 1.0  );\n",
       "\t--structure:        hsla(120, 100%,  25%, 1.0  );\n",
       "\t--features:         hsla(  0,   0%,  30%, 1.0  );\n",
       "  --text-color:       hsla( 60,  80%,  10%, 1.0  );\n",
       "  --lex-color:        hsla(220,  90%,  60%, 1.0  );\n",
       "  --meta-color:       hsla(  0,   0%,  90%, 0.7  );\n",
       "  --meta-width:       0.15rem;\n",
       "  --border-color-nul: hsla(  0,   0%,  90%, 0.5  );\n",
       "  --border-color0:    hsla(  0,   0%,  90%, 0.9  );\n",
       "  --border-color1:    hsla(  0,   0%,  80%, 0.9  );\n",
       "  --border-color2:    hsla(  0,   0%,  70%, 0.9  );\n",
       "  --border-color3:    hsla(  0,   0%,  80%, 0.8  );\n",
       "  --border-color4:    hsla(  0,   0%,  60%, 0.9  );\n",
       "  --border-width-nul: 0.1rem;\n",
       "  --border-width0:    0.1rem;\n",
       "  --border-width1:    0.15rem;\n",
       "  --border-width2:    0.2rem;\n",
       "  --border-width3:    0.3rem;\n",
       "  --border-width4:    0.25rem;\n",
       "}\n",
       ".hl {\n",
       "  background-color: var(--hl-strong);\n",
       "}\n",
       "span.hl {\n",
       "\tbackground-color: var(--hl-strong);\n",
       "\tborder-width: 0;\n",
       "\tborder-radius: 0.1rem;\n",
       "\tborder-style: solid;\n",
       "}\n",
       "div.contnr.hl,div.lbl.hl {\n",
       "  background-color: var(--hl-strong);\n",
       "}\n",
       "div.contnr.hl {\n",
       "  border-color: var(--hl-rim) ! important;\n",
       "\tborder-width: 0.2rem ! important;\n",
       "}\n",
       "\n",
       "span.hlbx {\n",
       "\tborder-color: var(--hl-rim);\n",
       "\tborder-width: 0.2rem;\n",
       "\tborder-style: solid;\n",
       "\tborder-radius: 0.3rem;\n",
       "  padding: 0.2rem;\n",
       "  margin: 0.2rem;\n",
       "}\n",
       "\n",
       "span.plain {\n",
       "  display: inline-block;\n",
       "  white-space: pre-wrap;\n",
       "}\n",
       "\n",
       ":root {\n",
       "\t--hl-strong:        hsla( 60, 100%,  70%, 0.9  );\n",
       "\t--hl-rim:           hsla( 55,  80%,  50%, 1.0  );\n",
       "}\n",
       "</style>"
      ],
      "text/plain": [
       "<IPython.core.display.HTML object>"
      ]
     },
     "metadata": {},
     "output_type": "display_data"
    }
   ],
   "source": [
    "from pathlib import Path\n",
    "\n",
    "# ETCBC's BHSA data\n",
    "from tf.fabric import Fabric\n",
    "from tf.app import use\n",
    "\n",
    "# stats & data-containers\n",
    "import collections, math, re, random, csv\n",
    "import pandas as pd\n",
    "pd.set_option('display.max_rows', 100)\n",
    "import numpy as np\n",
    "from kneed import KneeLocator # https://github.com/arvkevi/kneed\n",
    "\n",
    "# data visualizations\n",
    "import seaborn as sns\n",
    "import matplotlib.pyplot as plt\n",
    "from matplotlib import rcParams\n",
    "rcParams['font.serif'] = ['Times New Roman']\n",
    "from bidi.algorithm import get_display\n",
    "\n",
    "from IPython.display import HTML, display, Image\n",
    "from adjustText import adjust_text # fixes overlapping scatterplot annotations\n",
    "\n",
    "# custom modules\n",
    "from pyscripts.contextparameters import deliver_params\n",
    "from pyscripts.deliver_data import deliver_data\n",
    "from pyscripts.pca import apply_pca, plot_PCA\n",
    "import pyscripts.significance as my_stats\n",
    "\n",
    "# prep the Hebrew syntax data\n",
    "name = 'noun_semantics'\n",
    "hebrew_data = ['~/github/etcbc/{}/tf/c'.format(direc) for direc in ('bhsa','lingo/heads', 'heads', 'phono')] # data dirs\n",
    "load_features = '''\n",
    "typ phono lex_utf8 lex\n",
    "voc_lex_utf8 voc_lex gloss\n",
    "freq_lex pdp sp ls\n",
    "language\n",
    "rela number function\n",
    "vs vt\n",
    "code label\n",
    "\n",
    "head obj_prep sem_set nhead\n",
    "heads noun_heads\n",
    "''' \n",
    "\n",
    "# Text Fabric load statements\n",
    "TF = Fabric(locations=hebrew_data)\n",
    "api = TF.load(load_features)\n",
    "B = use('bhsa', api=api, hoist=globals(), silent=True) # Bhsa functions for search and visualizing text"
   ]
  },
  {
   "cell_type": "code",
   "execution_count": 63,
   "metadata": {},
   "outputs": [],
   "source": [
    "# configure paths for figures and data\n",
    "plot_path = Path('results/plots/')\n",
    "table_path = Path('results/tables')\n",
    "fisher_data = table_path.joinpath('fisher_scores.csv')\n",
    "\n",
    "def savefig(name):\n",
    "    plt.savefig(plot_path.joinpath(name), format='svg', bbox_inches='tight')\n",
    "def savecsv(name, df):\n",
    "    df.to_csv(table_path.joinpath(name))"
   ]
  },
  {
   "cell_type": "code",
   "execution_count": 4,
   "metadata": {},
   "outputs": [],
   "source": [
    "def reverse_hb(heb_text):\n",
    "    '''\n",
    "    Reverses order of left-to-right text \n",
    "    for good matplotlib formatting.\n",
    "    '''\n",
    "    return ''.join(reversed(heb_text))\n",
    "\n",
    "def show_word_list(word_nodes, joiner='&nbsp;&nbsp;|', title=''):\n",
    "    '''\n",
    "    Displays Hebrew for a pipe-separated list of word nodes\n",
    "    Good for seeing lexemes without taking up screen space.\n",
    "    '''\n",
    "    formatted = joiner.join(T.text(node) for node in word_nodes)\n",
    "    display(HTML(formatted))\n",
    "    \n",
    "def show_subphrases(phrase, direction=L.d):\n",
    "    '''\n",
    "    A simple function to print subphrases\n",
    "    and their relations to each other.\n",
    "    '''\n",
    "    for sp in direction(phrase, 'subphrase'):\n",
    "        \n",
    "        mother = E.mother.f(sp)[0] if E.mother.f(sp) else ''\n",
    "        mother_text = T.text(mother)\n",
    "        \n",
    "        print('-'*7 + str(sp) + '-'*16)\n",
    "        print()\n",
    "        print(f'{T.text(sp)} -{F.rela.v(sp)}-> {mother_text}')\n",
    "        print(f'nodes:  {sp} -{F.rela.v(sp)}-> {mother}')\n",
    "        print(f'slots:  {L.d(sp, \"word\")} -{F.rela.v(sp)}-> {L.d(mother or 0, \"word\")}')\n",
    "        print('-'*30)"
   ]
  },
  {
   "cell_type": "markdown",
   "metadata": {},
   "source": [
    "## Corpus Size\n",
    "\n",
    "Below is the number of words included in the corpus of BHSA."
   ]
  },
  {
   "cell_type": "code",
   "execution_count": 5,
   "metadata": {},
   "outputs": [
    {
     "data": {
      "text/plain": [
       "426584"
      ]
     },
     "execution_count": 5,
     "metadata": {},
     "output_type": "execute_result"
    }
   ],
   "source": [
    "len(list(F.otype.s('word')))"
   ]
  },
  {
   "cell_type": "markdown",
   "metadata": {},
   "source": [
    "## Define a Target Noun Set\n",
    "\n",
    "*Insert discussion about the semantic relationship between iconicity and frequency with regards to the most frequent noun lexemes in the HB.*"
   ]
  },
  {
   "cell_type": "code",
   "execution_count": 6,
   "metadata": {},
   "outputs": [
    {
     "name": "stdout",
     "output_type": "stream",
     "text": [
      "  0.03s 3706 results\n"
     ]
    }
   ],
   "source": [
    "raw_search = '''\n",
    "\n",
    "lex language=Hebrew sp=subs\n",
    "\n",
    "'''\n",
    "\n",
    "raw_nouns = B.search(raw_search)"
   ]
  },
  {
   "cell_type": "markdown",
   "metadata": {},
   "source": [
    "Now we order the results on the basis of lexeme frequency."
   ]
  },
  {
   "cell_type": "code",
   "execution_count": 7,
   "metadata": {},
   "outputs": [],
   "source": [
    "raw_terms_ordered = sorted(((F.freq_lex.v(res[0]), res[0]) for res in raw_nouns), reverse=True)"
   ]
  },
  {
   "cell_type": "markdown",
   "metadata": {},
   "source": [
    "Below we have a look at the top 50 terms from the selected set. Pay attention to the feature `ls`, i.e. \"lexical set.\" This feature gives us some rudimentary semantic information about the nouns and their usual functions, and it suggests that some additional restrictions are necessary for the noun selection procedure. Note especially that several of these nouns are used in adjectival or prepositional roles (e.g.  כל ,אחד, אין, תחת)."
   ]
  },
  {
   "cell_type": "code",
   "execution_count": 8,
   "metadata": {},
   "outputs": [
    {
     "name": "stdout",
     "output_type": "stream",
     "text": [
      "כֹּל  | בֵּן  | אֱלֹהִים  | מֶלֶךְ  | אֶרֶץ  | יֹום  | אִישׁ  | פָּנֶה  | בַּיִת  | עַם  | יָד  | דָּבָר  | אָב  | עִיר  | אֶחָד  | עַיִן  | שָׁנָה  | שֵׁם  | עֶבֶד  | אַיִן  | אִשָּׁה  | שְׁנַיִם  | נֶפֶשׁ  | כֹּהֵן  | אַחַר  | דֶּרֶךְ  | אָח  | שָׁלֹשׁ  | לֵב  | רֹאשׁ  | בַּת  | מַיִם  | מֵאָה  | הַר  | גֹּוי  | אָדָם  | חָמֵשׁ  | קֹול  | תַּחַת  | פֶּה  | אֶלֶף  | עֹוד  | שֶׁבַע  | צָבָא  | קֹדֶשׁ  | אַרְבַּע  | עֹולָם  | מִשְׁפָּט  | שַׂר  | שָׁמַיִם  | "
     ]
    }
   ],
   "source": [
    "raw_nnodes = [res[1] for res in raw_terms_ordered] # isolate the word nodes of the sample\n",
    "B.displaySetup(extraFeatures={'ls', 'freq_lex'}) # config B to display ls and freq_lex\n",
    "\n",
    "# display lexeme data\n",
    "for i, node in enumerate(raw_nnodes[:50]):\n",
    "    print(T.text(node), end=' | ')"
   ]
  },
  {
   "cell_type": "markdown",
   "metadata": {},
   "source": [
    "Based on the nouns that are present, we should make some key exclusions. Many substantives have more functional or adjectival roles. Undesirable categories include copulative nouns (`nmcp`, e.g. אין), cardinal numbers (`card`), potential prepositions (`ppre`, e.g. תחת). The `ls` category of potential adverb (`padv`) contains desirable nouns like יום, but also more functionally adverbial-nouns like עוד. Thus we can see that there is a range of adverbial tendencies found in this category. Due to the potentially interesting possibility of seeing these tendencies play out in the data, we can decide to keep these instances. \n",
    "\n",
    "To be sure, the very phenomenon of \"functional\" versus \"nominal\" is worthy of further, quantitative investigation. The `ls` feature is an experimental and incomplete feature in the ETCBC, and this is precisely the kind of shortcoming this present work seeks to address. Nouns and adverbs likely sit along a sliding scale of adverbial tendencies, with adverbs nearly always functioning in such a role, and nouns exhibiting various statistical tendencies. But due to the scope of this investigation, we limit ourselves to mainly nominal words with a small inclusion of some adverbial-like substantives.\n",
    "\n",
    "We can eliminate more functional nouns by restricting the possible lexical set (`ls`) values. Below we apply those restrictions to the search template. In the case of certain quantifiers such as כל there is an `ls` feature of distributive noun (`nmdi`), yet this feature is likewise applied to nouns such as אח (\"brother\"). So it is undesirable to exclude all of these cases. Thus we depend, instead, on an additional filter list that excludes quantifiers.\n",
    "\n",
    "A few terms such as דרך and עבר are eliminated because the ETCBC labels it as a potential preposition. This is a speculative classification. So we define a seperate parameter in the template that saves this instance."
   ]
  },
  {
   "cell_type": "code",
   "execution_count": 9,
   "metadata": {},
   "outputs": [
    {
     "name": "stdout",
     "output_type": "stream",
     "text": [
      "  0.03s 3658 results\n",
      "\t48 results filtered out of raw noun list...\n",
      "\tfiltered lexemes shown below:\n"
     ]
    },
    {
     "data": {
      "text/html": [
       "כֹּל &nbsp;&nbsp;|אֶחָד &nbsp;&nbsp;|אַיִן &nbsp;&nbsp;|שְׁנַיִם &nbsp;&nbsp;|אַחַר &nbsp;&nbsp;|שָׁלֹשׁ &nbsp;&nbsp;|מֵאָה &nbsp;&nbsp;|חָמֵשׁ &nbsp;&nbsp;|תַּחַת &nbsp;&nbsp;|אֶלֶף &nbsp;&nbsp;|שֶׁבַע &nbsp;&nbsp;|אַרְבַּע &nbsp;&nbsp;|בַּיִן &nbsp;&nbsp;|עֶשְׂרִים &nbsp;&nbsp;|שֵׁשׁ &nbsp;&nbsp;|עָשָׂר &nbsp;&nbsp;|נֶגֶד &nbsp;&nbsp;|שְׁמֹנֶה &nbsp;&nbsp;|יֵשׁ &nbsp;&nbsp;|עֶשְׂרֵה &nbsp;&nbsp;|חֲצִי &nbsp;&nbsp;|עֲשָׂרָה &nbsp;&nbsp;|בֵּלֶת &nbsp;&nbsp;|בַּעַד &nbsp;&nbsp;|מְעַט &nbsp;&nbsp;|יַעַן &nbsp;&nbsp;|יֶתֶר &nbsp;&nbsp;|תֵּשַׁע &nbsp;&nbsp;|אֵצֶל &nbsp;&nbsp;|בְּלִי &nbsp;&nbsp;|עֶשֶׂר &nbsp;&nbsp;|טֶרֶם &nbsp;&nbsp;|עִמָּד &nbsp;&nbsp;|אֶפֶס &nbsp;&nbsp;|מוּל &nbsp;&nbsp;|מַעֲשֵׂר &nbsp;&nbsp;|נֹכַח &nbsp;&nbsp;|עַשְׁתֵּי &nbsp;&nbsp;|זוּלָה &nbsp;&nbsp;|רְבָבָה &nbsp;&nbsp;|עֵקֶב &nbsp;&nbsp;|אֶלֶף &nbsp;&nbsp;|רִבֹּוא &nbsp;&nbsp;|קִדְמָה &nbsp;&nbsp;|אִשׁ &nbsp;&nbsp;|חֵלֶף &nbsp;&nbsp;|קָבָלְ־ &nbsp;&nbsp;|מִסָּה "
      ],
      "text/plain": [
       "<IPython.core.display.HTML object>"
      ]
     },
     "metadata": {},
     "output_type": "display_data"
    }
   ],
   "source": [
    "exclude = '|'.join(('KL/', 'M<V/', 'JTR/', 'M<FR/', 'XYJ/')) # exclude quantifiers\n",
    "include = '|'.join(('padv', 'nmdi'))  # ok ls features\n",
    "keep = '|'.join(('DRK/', '<BR/'))\n",
    "\n",
    "'''\n",
    "Below is a TF search query for three cases:\n",
    "One is a lexeme with included ls features.\n",
    "The second is a lexeme with a null ls feature.\n",
    "The third is lexemes we want to prevent from being excluded.\n",
    "For all cases we exclude excluded lexemes.\n",
    "'''\n",
    "\n",
    "select_noun_search = f'''\n",
    "\n",
    "lex language=Hebrew\n",
    "/with/\n",
    "sp=subs ls={include} lex#{exclude}\n",
    "/or/\n",
    "sp=subs ls# lex#{exclude}\n",
    "/or/\n",
    "sp=subs lex={keep}\n",
    "/-/\n",
    "\n",
    "'''\n",
    "\n",
    "select_nouns = B.search(select_noun_search)\n",
    "noun_dat_ordered = sorted(((F.freq_lex.v(res[0]), res[0]) for res in select_nouns), reverse=True)\n",
    "nnodes_ordered = list(noun_dat[1] for noun_dat in noun_dat_ordered)\n",
    "filtered_lexs = list(node for node in raw_nnodes if node not in nnodes_ordered)\n",
    "\n",
    "print(f'\\t{len(raw_nouns) - len(select_nouns)} results filtered out of raw noun list...')\n",
    "print('\\tfiltered lexemes shown below:')\n",
    "show_word_list(filtered_lexs)"
   ]
  },
  {
   "cell_type": "markdown",
   "metadata": {},
   "source": [
    "### Plot the Nouns in Order of Frequency\n",
    "\n",
    "Now that we have obtained a filtered noun-set, we must decide a cut-off point at which to limit the present analysis. Below we plot the attested nouns and their respective frequencies."
   ]
  },
  {
   "cell_type": "code",
   "execution_count": 10,
   "metadata": {},
   "outputs": [
    {
     "data": {
      "image/png": "[encoded data removed]",
      "text/plain": [
       "<Figure size 288x288 with 1 Axes>"
      ]
     },
     "metadata": {
      "needs_background": "light"
     },
     "output_type": "display_data"
    }
   ],
   "source": [
    "# plot data\n",
    "y_freqs = [lex_data[0] for lex_data in noun_dat_ordered]\n",
    "x_rank = [i+1 for i in range(0, len(y_freqs))]\n",
    "title = 'noun frequencies in the Hebrew Bible'\n",
    "xlabel = 'noun rank'\n",
    "ylabel = 'noun frequency'\n",
    "\n",
    "# first plot\n",
    "plt.figure(figsize=(4, 4))\n",
    "plt.plot(x_rank, y_freqs, color='black', linewidth=1)\n",
    "plt.title(title + f' (ranks 1-{len(x_rank)})', size=10)\n",
    "plt.xlabel(xlabel, size=10)\n",
    "plt.ylabel(ylabel, size=10)\n",
    "plt.plot()\n",
    "plt.show()"
   ]
  },
  {
   "cell_type": "markdown",
   "metadata": {},
   "source": [
    "We zoom in closer to view ranks 1-1000...\n",
    "\n",
    "*Consider using a subplot here with 4 different zooms*"
   ]
  },
  {
   "cell_type": "code",
   "execution_count": 11,
   "metadata": {},
   "outputs": [
    {
     "data": {
      "image/png": "[encoded data removed]",
      "text/plain": [
       "<Figure size 360x288 with 1 Axes>"
      ]
     },
     "metadata": {
      "needs_background": "light"
     },
     "output_type": "display_data"
    }
   ],
   "source": [
    "# second plot\n",
    "plt.figure(figsize=(5, 4))\n",
    "plt.plot(x_rank[:1000], y_freqs[:1000], color='black', linewidth=1)\n",
    "plt.xlabel(xlabel, size=10)\n",
    "plt.ylabel(ylabel, size=10)\n",
    "plt.axvline(200, color='red', linewidth=0.8, linestyle='--')\n",
    "savefig('noun_frequencies1-1000.svg')\n",
    "plt.title(title + f' (ranks 1-1000)', size=10)\n",
    "plt.show()"
   ]
  },
  {
   "cell_type": "markdown",
   "metadata": {},
   "source": [
    "This curve is typical of Zipf's law:\n",
    "\n",
    "> Zipf's law states that given some corpus of natural language utterances, the frequency of any word is inversely proportional to its rank in the frequency table ([wikipedia](https://en.wikipedia.org/wiki/Zipf%27s_law))\n",
    "\n",
    "The curve sharply \"elbows\" at around rank 15. Between ranks 50-100 there is still an appreciable drop-off. The curve starts to significantly flatten after 200. We thus decide an arbitrary cut-off point at rank 200, based on the fact that the curve does not show any significant leveling after this point."
   ]
  },
  {
   "cell_type": "code",
   "execution_count": 12,
   "metadata": {},
   "outputs": [
    {
     "data": {
      "text/html": [
       "בֵּן &nbsp;&nbsp;|אֱלֹהִים &nbsp;&nbsp;|מֶלֶךְ &nbsp;&nbsp;|אֶרֶץ &nbsp;&nbsp;|יֹום &nbsp;&nbsp;|אִישׁ &nbsp;&nbsp;|פָּנֶה &nbsp;&nbsp;|בַּיִת &nbsp;&nbsp;|עַם &nbsp;&nbsp;|יָד &nbsp;&nbsp;|דָּבָר &nbsp;&nbsp;|אָב &nbsp;&nbsp;|עִיר &nbsp;&nbsp;|עַיִן &nbsp;&nbsp;|שָׁנָה &nbsp;&nbsp;|שֵׁם &nbsp;&nbsp;|עֶבֶד &nbsp;&nbsp;|אִשָּׁה &nbsp;&nbsp;|נֶפֶשׁ &nbsp;&nbsp;|כֹּהֵן &nbsp;&nbsp;|דֶּרֶךְ &nbsp;&nbsp;|אָח &nbsp;&nbsp;|לֵב &nbsp;&nbsp;|רֹאשׁ &nbsp;&nbsp;|בַּת &nbsp;&nbsp;|מַיִם &nbsp;&nbsp;|הַר &nbsp;&nbsp;|גֹּוי &nbsp;&nbsp;|אָדָם &nbsp;&nbsp;|קֹול &nbsp;&nbsp;|פֶּה &nbsp;&nbsp;|עֹוד &nbsp;&nbsp;|צָבָא &nbsp;&nbsp;|קֹדֶשׁ &nbsp;&nbsp;|עֹולָם &nbsp;&nbsp;|מִשְׁפָּט &nbsp;&nbsp;|שַׂר &nbsp;&nbsp;|שָׁמַיִם &nbsp;&nbsp;|תָּוֶךְ &nbsp;&nbsp;|חֶרֶב &nbsp;&nbsp;|כֶּסֶף &nbsp;&nbsp;|מִזְבֵּחַ &nbsp;&nbsp;|מָקֹום &nbsp;&nbsp;|יָם &nbsp;&nbsp;|זָהָב &nbsp;&nbsp;|אֵשׁ &nbsp;&nbsp;|רוּחַ &nbsp;&nbsp;|נְאֻם &nbsp;&nbsp;|שַׁעַר &nbsp;&nbsp;|דָּם &nbsp;&nbsp;|אֹהֶל &nbsp;&nbsp;|סָבִיב &nbsp;&nbsp;|אָדֹון &nbsp;&nbsp;|עֵץ &nbsp;&nbsp;|כְּלִי &nbsp;&nbsp;|שָׂדֶה &nbsp;&nbsp;|נָבִיא &nbsp;&nbsp;|רָעָה &nbsp;&nbsp;|מִלְחָמָה &nbsp;&nbsp;|מְאֹד &nbsp;&nbsp;|לֶחֶם &nbsp;&nbsp;|עֵת &nbsp;&nbsp;|חַטָּאת &nbsp;&nbsp;|עֹלָה &nbsp;&nbsp;|חֹדֶשׁ &nbsp;&nbsp;|בְּרִית &nbsp;&nbsp;|אַף &nbsp;&nbsp;|פַּרְעֹה &nbsp;&nbsp;|צֹאן &nbsp;&nbsp;|אֶבֶן &nbsp;&nbsp;|מִדְבָּר &nbsp;&nbsp;|בָּשָׂר &nbsp;&nbsp;|מַטֶּה &nbsp;&nbsp;|לֵבָב &nbsp;&nbsp;|רֶגֶל &nbsp;&nbsp;|אַמָּה &nbsp;&nbsp;|חֶסֶד &nbsp;&nbsp;|חַיִל &nbsp;&nbsp;|נַעַר &nbsp;&nbsp;|גְּבוּל &nbsp;&nbsp;|שָׁלֹום &nbsp;&nbsp;|אֵל &nbsp;&nbsp;|מַעֲשֶׂה &nbsp;&nbsp;|עָוֹן &nbsp;&nbsp;|זֶרַע &nbsp;&nbsp;|קֶרֶב &nbsp;&nbsp;|לַיְלָה &nbsp;&nbsp;|בַּד &nbsp;&nbsp;|נַחֲלָה &nbsp;&nbsp;|אֲדָמָה &nbsp;&nbsp;|מֹועֵד &nbsp;&nbsp;|תֹּורָה &nbsp;&nbsp;|אֵם &nbsp;&nbsp;|בֶּגֶד &nbsp;&nbsp;|מַחֲנֶה &nbsp;&nbsp;|בֹּקֶר &nbsp;&nbsp;|מַלְאָךְ &nbsp;&nbsp;|מִנְחָה &nbsp;&nbsp;|אֲרֹון &nbsp;&nbsp;|כָּבֹוד &nbsp;&nbsp;|חָצֵר &nbsp;&nbsp;|כַּף &nbsp;&nbsp;|שֶׁמֶן &nbsp;&nbsp;|שֵׁבֶט &nbsp;&nbsp;|בְּהֵמָה &nbsp;&nbsp;|מִשְׁפָּחָה &nbsp;&nbsp;|אֹזֶן &nbsp;&nbsp;|רֵעַ &nbsp;&nbsp;|סֵפֶר &nbsp;&nbsp;|בָּקָר &nbsp;&nbsp;|מִצְוָה &nbsp;&nbsp;|שָׂפָה &nbsp;&nbsp;|דֹּור &nbsp;&nbsp;|בַּעַל &nbsp;&nbsp;|חוּץ &nbsp;&nbsp;|פֶּתַח &nbsp;&nbsp;|אַיִל &nbsp;&nbsp;|זֶבַח &nbsp;&nbsp;|מָוֶת &nbsp;&nbsp;|גִּבֹּור &nbsp;&nbsp;|צְדָקָה &nbsp;&nbsp;|רֹב &nbsp;&nbsp;|צָפֹון &nbsp;&nbsp;|חָכְמָה &nbsp;&nbsp;|עֵדָה &nbsp;&nbsp;|חַיִּים &nbsp;&nbsp;|עֲבֹדָה &nbsp;&nbsp;|יַיִן &nbsp;&nbsp;|מַעַל &nbsp;&nbsp;|מִשְׁכָּן &nbsp;&nbsp;|נַחַל &nbsp;&nbsp;|יָמִין &nbsp;&nbsp;|נְחֹשֶׁת &nbsp;&nbsp;|סוּס &nbsp;&nbsp;|כִּסֵּא &nbsp;&nbsp;|שֶׁמֶשׁ &nbsp;&nbsp;|מִסְפָּר &nbsp;&nbsp;|עֶרֶב &nbsp;&nbsp;|חֹומָה &nbsp;&nbsp;|פַּר &nbsp;&nbsp;|נָשִׂיא &nbsp;&nbsp;|חֹק &nbsp;&nbsp;|אֶמֶת &nbsp;&nbsp;|חֵמָה &nbsp;&nbsp;|כֹּחַ &nbsp;&nbsp;|קָהָל &nbsp;&nbsp;|עֶצֶם &nbsp;&nbsp;|בְּכֹר &nbsp;&nbsp;|צֶדֶק &nbsp;&nbsp;|רֶכֶב &nbsp;&nbsp;|נָהָר &nbsp;&nbsp;|פְּרִי &nbsp;&nbsp;|פַּעַם &nbsp;&nbsp;|תֹּועֵבָה &nbsp;&nbsp;|לָשֹׁון &nbsp;&nbsp;|מִשְׁפַּחַת &nbsp;&nbsp;|אֹור &nbsp;&nbsp;|מִגְרָשׁ &nbsp;&nbsp;|אָחֹות &nbsp;&nbsp;|שֶׁקֶר &nbsp;&nbsp;|נֶגֶב &nbsp;&nbsp;|שַׁבָּת &nbsp;&nbsp;|עַמּוּד &nbsp;&nbsp;|עָפָר &nbsp;&nbsp;|כָּנָף &nbsp;&nbsp;|כֶּבֶשׂ &nbsp;&nbsp;|מְלָאכָה &nbsp;&nbsp;|תָּמִיד &nbsp;&nbsp;|חֻקָּה &nbsp;&nbsp;|בָּמָה &nbsp;&nbsp;|מַרְאֶה &nbsp;&nbsp;|רָעָב &nbsp;&nbsp;|רֹחַב &nbsp;&nbsp;|חַיָּה &nbsp;&nbsp;|עֹור &nbsp;&nbsp;|חֲמֹור &nbsp;&nbsp;|אֹרֶךְ &nbsp;&nbsp;|שִׂמְחָה &nbsp;&nbsp;|מַמְלָכָה &nbsp;&nbsp;|פֶּשַׁע &nbsp;&nbsp;|דַּעַת &nbsp;&nbsp;|גֵּר &nbsp;&nbsp;|כֶּרֶם &nbsp;&nbsp;|קָצֶה &nbsp;&nbsp;|חֵלֶב &nbsp;&nbsp;|מַלְכוּת &nbsp;&nbsp;|זְרֹועַ &nbsp;&nbsp;|כְּרוּב &nbsp;&nbsp;|עֵבֶר &nbsp;&nbsp;|יֶלֶד &nbsp;&nbsp;|שֶׁקֶל &nbsp;&nbsp;|שֶׁלֶם &nbsp;&nbsp;|דֶּלֶת &nbsp;&nbsp;|קֶדֶם &nbsp;&nbsp;|עֵצָה &nbsp;&nbsp;|עָנָן &nbsp;&nbsp;|פֵּאָה &nbsp;&nbsp;|הָמֹון &nbsp;&nbsp;|עֵדוּת &nbsp;&nbsp;|הֵיכָל "
      ],
      "text/plain": [
       "<IPython.core.display.HTML object>"
      ]
     },
     "metadata": {},
     "output_type": "display_data"
    },
    {
     "name": "stdout",
     "output_type": "stream",
     "text": [
      "\n",
      "73991 nouns ready for searches\n"
     ]
    }
   ],
   "source": [
    "target_nouns = nnodes_ordered[:200]\n",
    "tnoun_instances = set(word for lex in target_nouns for word in L.d(lex, 'word'))\n",
    "\n",
    "show_word_list(target_nouns) # temporary comment out while bug is fixed\n",
    "print(f'\\n{len(tnoun_instances)} nouns ready for searches')"
   ]
  },
  {
   "cell_type": "code",
   "execution_count": 13,
   "metadata": {},
   "outputs": [],
   "source": [
    "nouns_text_freqs = sorted(\n",
    "    ((F.voc_lex_utf8.v(L.d(noun,'word')[0]), F.freq_lex.v(noun)) \n",
    "         for noun in target_nouns), key=lambda k: k[-1], reverse=True\n",
    ")"
   ]
  },
  {
   "cell_type": "code",
   "execution_count": 14,
   "metadata": {},
   "outputs": [
    {
     "data": {
      "text/plain": [
       "'בֵּן, אֱלֹהִים, מֶלֶךְ, אֶרֶץ, יֹום, אִישׁ, פָּנֶה, בַּיִת, עַם, יָד, דָּבָר, אָב, עִיר, עַיִן, שָׁנָה, שֵׁם, עֶבֶד, אִשָּׁה, נֶפֶשׁ, כֹּהֵן, דֶּרֶךְ, אָח, לֵב, רֹאשׁ, בַּת, מַיִם, הַר, גֹּוי, אָדָם, קֹול, פֶּה, עֹוד, צָבָא, קֹדֶשׁ, עֹולָם, מִשְׁפָּט, שַׂר, שָׁמַיִם, תָּוֶךְ, חֶרֶב, כֶּסֶף, מִזְבֵּחַ, מָקֹום, יָם, זָהָב, אֵשׁ, רוּחַ, נְאֻם, שַׁעַר, דָּם, אֹהֶל, סָבִיב, אָדֹון, עֵץ, כְּלִי, שָׂדֶה, נָבִיא, רָעָה, מִלְחָמָה, מְאֹד, לֶחֶם, עֵת, חַטָּאת, עֹלָה, חֹדֶשׁ, בְּרִית, אַף, פַּרְעֹה, צֹאן, אֶבֶן, מִדְבָּר, בָּשָׂר, מַטֶּה, לֵבָב, רֶגֶל, אַמָּה, חֶסֶד, חַיִל, נַעַר, גְּבוּל, שָׁלֹום, אֵל, מַעֲשֶׂה, עָוֹן, זֶרַע, קֶרֶב, לַיְלָה, בַּד, נַחֲלָה, אֲדָמָה, מֹועֵד, תֹּורָה, אֵם, בֶּגֶד, מַחֲנֶה, בֹּקֶר, מַלְאָךְ, מִנְחָה, אֲרֹון, כָּבֹוד, חָצֵר, כַּף, שֶׁמֶן, שֵׁבֶט, בְּהֵמָה, מִשְׁפָּחָה, אֹזֶן, רֵעַ, סֵפֶר, בָּקָר, מִצְוָה, שָׂפָה, דֹּור, בַּעַל, חוּץ, פֶּתַח, אַיִל, זֶבַח, מָוֶת, גִּבֹּור, צְדָקָה, רֹב, צָפֹון, חָכְמָה, עֵדָה, חַיִּים, עֲבֹדָה, יַיִן, מַעַל, מִשְׁכָּן, נַחַל, יָמִין, נְחֹשֶׁת, סוּס, כִּסֵּא, שֶׁמֶשׁ, מִסְפָּר, עֶרֶב, חֹומָה, פַּר, נָשִׂיא, חֹק, אֶמֶת, חֵמָה, כֹּחַ, קָהָל, עֶצֶם, בְּכֹר, צֶדֶק, רֶכֶב, נָהָר, פְּרִי, פַּעַם, תֹּועֵבָה, לָשֹׁון, מִשְׁפַּחַת, אֹור, מִגְרָשׁ, אָחֹות, שֶׁקֶר, נֶגֶב, שַׁבָּת, עַמּוּד, עָפָר, כָּנָף, כֶּבֶשׂ, מְלָאכָה, תָּמִיד, חֻקָּה, בָּמָה, מַרְאֶה, רָעָב, רֹחַב, חַיָּה, עֹור, חֲמֹור, אֹרֶךְ, שִׂמְחָה, מַמְלָכָה, פֶּשַׁע, דַּעַת, גֵּר, כֶּרֶם, קָצֶה, חֵלֶב, מַלְכוּת, זְרֹועַ, כְּרוּב, עֵבֶר, יֶלֶד, שֶׁקֶל, שֶׁלֶם, דֶּלֶת, קֶדֶם, עֵצָה, עָנָן, פֵּאָה, הָמֹון, עֵדוּת, הֵיכָל'"
      ]
     },
     "execution_count": 14,
     "metadata": {},
     "output_type": "execute_result"
    }
   ],
   "source": [
    "', '.join(f'{noun}' for noun, freq in nouns_text_freqs)"
   ]
  },
  {
   "cell_type": "markdown",
   "metadata": {},
   "source": [
    "## Strategy for Context Selection\n",
    "\n",
    "See [pyscripts/contextparameters.py](pyscripts/contextparameters.py) for the full delineation of these patterns and to see how they've been selected and tokenized. "
   ]
  },
  {
   "cell_type": "code",
   "execution_count": 15,
   "metadata": {},
   "outputs": [
    {
     "name": "stdout",
     "output_type": "stream",
     "text": [
      "done!\n"
     ]
    }
   ],
   "source": [
    "contexts = deliver_params(tnoun_instances, tf=api)\n",
    "print('done!')"
   ]
  },
  {
   "cell_type": "code",
   "execution_count": 16,
   "metadata": {},
   "outputs": [
    {
     "name": "stdout",
     "output_type": "stream",
     "text": [
      "running query on template [ T.function→ st.verb.lex ]...\n",
      "\t19884 results found.\n",
      "running query on template [ T.prep.funct→ st.verb.lex ]...\n",
      "\t15009 results found.\n",
      "running query on template [ lex.PreC→ T.Subj ]...\n",
      "\t2525 results found.\n",
      "running query on template [ lex.prep.PreC→ T.Subj ]...\n",
      "\t1136 results found.\n",
      "running query on template [ T.PreC→ lex.Subj ]...\n",
      "\t930 results found.\n",
      "running query on template [ T.prep.PreC→ lex.Subj ]...\n",
      "\t1504 results found.\n",
      "running query on template [ lex.coord→ T ]...\n",
      "\t4217 results found.\n",
      "running query on template [ T.coord→ lex ]...\n",
      "\t4336 results found.\n",
      "running query on template [ lex.atr→ T ]...\n",
      "\t1588 results found.\n",
      "running query on template [ lex.coord→ T (phrase atoms) ]...\n",
      "\t704 results found.\n",
      "running query on template [ T.coord→ lex (phrase atoms) ]...\n",
      "\t600 results found.\n",
      "running query on template [ lex.appo→ T ]...\n",
      "\t1410 results found.\n",
      "running query on template [ T.appo→ lex ]...\n",
      "\t3640 results found.\n"
     ]
    }
   ],
   "source": [
    "data = deliver_data(contexts, tf=TF)"
   ]
  },
  {
   "cell_type": "markdown",
   "metadata": {},
   "source": [
    "Let's have a look at the first example..."
   ]
  },
  {
   "cell_type": "code",
   "execution_count": 17,
   "metadata": {},
   "outputs": [
    {
     "data": {
      "text/plain": [
       "{'clause': 427553,\n",
       " 'book': 'Gen',\n",
       " 'ref': 'Gen 1:1',\n",
       " 'clause_text': 'בְּרֵאשִׁ֖ית בָּרָ֣א אֱלֹהִ֑ים אֵ֥ת הַשָּׁמַ֖יִם וְאֵ֥ת הָאָֽרֶץ׃ ',\n",
       " 'target': 'אלהים.n1',\n",
       " 'target_node': 4,\n",
       " 'basis': 'T.Subj→ ברא.v1.qal',\n",
       " 'basis_nodes': (3, 651544),\n",
       " 'verse_text': 'בְּרֵאשִׁ֖ית בָּרָ֣א אֱלֹהִ֑ים אֵ֥ת הַשָּׁמַ֖יִם וְאֵ֥ת הָאָֽרֶץ׃ ',\n",
       " 'context_type': 'T.function→ st.verb.lex',\n",
       " 'function': 'Subj'}"
      ]
     },
     "execution_count": 17,
     "metadata": {},
     "output_type": "execute_result"
    }
   ],
   "source": [
    "data[0]"
   ]
  },
  {
   "cell_type": "markdown",
   "metadata": {},
   "source": [
    "Now we put the data into a dataframe. We also export the dataframe for reference."
   ]
  },
  {
   "cell_type": "code",
   "execution_count": 18,
   "metadata": {},
   "outputs": [
    {
     "data": {
      "text/html": [
       "<div>\n",
       "<style scoped>\n",
       "    .dataframe tbody tr th:only-of-type {\n",
       "        vertical-align: middle;\n",
       "    }\n",
       "\n",
       "    .dataframe tbody tr th {\n",
       "        vertical-align: top;\n",
       "    }\n",
       "\n",
       "    .dataframe thead th {\n",
       "        text-align: right;\n",
       "    }\n",
       "</style>\n",
       "<table border=\"1\" class=\"dataframe\">\n",
       "  <thead>\n",
       "    <tr style=\"text-align: right;\">\n",
       "      <th></th>\n",
       "      <th>book</th>\n",
       "      <th>ref</th>\n",
       "      <th>clause_text</th>\n",
       "      <th>target</th>\n",
       "      <th>target_node</th>\n",
       "      <th>basis</th>\n",
       "      <th>basis_nodes</th>\n",
       "      <th>verse_text</th>\n",
       "      <th>context_type</th>\n",
       "      <th>function</th>\n",
       "    </tr>\n",
       "    <tr>\n",
       "      <th>clause</th>\n",
       "      <th></th>\n",
       "      <th></th>\n",
       "      <th></th>\n",
       "      <th></th>\n",
       "      <th></th>\n",
       "      <th></th>\n",
       "      <th></th>\n",
       "      <th></th>\n",
       "      <th></th>\n",
       "      <th></th>\n",
       "    </tr>\n",
       "  </thead>\n",
       "  <tbody>\n",
       "    <tr>\n",
       "      <th>427553</th>\n",
       "      <td>Gen</td>\n",
       "      <td>Gen 1:1</td>\n",
       "      <td>בְּרֵאשִׁ֖ית בָּרָ֣א אֱלֹהִ֑ים אֵ֥ת הַשָּׁמַ֖י...</td>\n",
       "      <td>אלהים.n1</td>\n",
       "      <td>4</td>\n",
       "      <td>T.Subj→ ברא.v1.qal</td>\n",
       "      <td>(3, 651544)</td>\n",
       "      <td>בְּרֵאשִׁ֖ית בָּרָ֣א אֱלֹהִ֑ים אֵ֥ת הַשָּׁמַ֖י...</td>\n",
       "      <td>T.function→ st.verb.lex</td>\n",
       "      <td>Subj</td>\n",
       "    </tr>\n",
       "    <tr>\n",
       "      <th>427553</th>\n",
       "      <td>Gen</td>\n",
       "      <td>Gen 1:1</td>\n",
       "      <td>בְּרֵאשִׁ֖ית בָּרָ֣א אֱלֹהִ֑ים אֵ֥ת הַשָּׁמַ֖י...</td>\n",
       "      <td>שׁמים.n1</td>\n",
       "      <td>7</td>\n",
       "      <td>T.Objc→ ברא.v1.qal</td>\n",
       "      <td>(3, 651545)</td>\n",
       "      <td>בְּרֵאשִׁ֖ית בָּרָ֣א אֱלֹהִ֑ים אֵ֥ת הַשָּׁמַ֖י...</td>\n",
       "      <td>T.function→ st.verb.lex</td>\n",
       "      <td>Objc</td>\n",
       "    </tr>\n",
       "    <tr>\n",
       "      <th>427553</th>\n",
       "      <td>Gen</td>\n",
       "      <td>Gen 1:1</td>\n",
       "      <td>בְּרֵאשִׁ֖ית בָּרָ֣א אֱלֹהִ֑ים אֵ֥ת הַשָּׁמַ֖י...</td>\n",
       "      <td>ארץ.n1</td>\n",
       "      <td>11</td>\n",
       "      <td>T.Objc→ ברא.v1.qal</td>\n",
       "      <td>(3, 651545)</td>\n",
       "      <td>בְּרֵאשִׁ֖ית בָּרָ֣א אֱלֹהִ֑ים אֵ֥ת הַשָּׁמַ֖י...</td>\n",
       "      <td>T.function→ st.verb.lex</td>\n",
       "      <td>Objc</td>\n",
       "    </tr>\n",
       "    <tr>\n",
       "      <th>427557</th>\n",
       "      <td>Gen</td>\n",
       "      <td>Gen 1:3</td>\n",
       "      <td>וַיֹּ֥אמֶר אֱלֹהִ֖ים</td>\n",
       "      <td>אלהים.n1</td>\n",
       "      <td>34</td>\n",
       "      <td>T.Subj→ אמר.v1.qal</td>\n",
       "      <td>(33, 651559)</td>\n",
       "      <td>וַיֹּ֥אמֶר אֱלֹהִ֖ים יְהִ֣י אֹ֑ור וַֽיְהִי־אֹֽ...</td>\n",
       "      <td>T.function→ st.verb.lex</td>\n",
       "      <td>Subj</td>\n",
       "    </tr>\n",
       "    <tr>\n",
       "      <th>427560</th>\n",
       "      <td>Gen</td>\n",
       "      <td>Gen 1:4</td>\n",
       "      <td>וַיַּ֧רְא אֱלֹהִ֛ים אֶת־הָאֹ֖ור</td>\n",
       "      <td>אלהים.n1</td>\n",
       "      <td>42</td>\n",
       "      <td>T.Subj→ ראה.v1.qal</td>\n",
       "      <td>(41, 651567)</td>\n",
       "      <td>וַיַּ֧רְא אֱלֹהִ֛ים אֶת־הָאֹ֖ור כִּי־טֹ֑וב וַי...</td>\n",
       "      <td>T.function→ st.verb.lex</td>\n",
       "      <td>Subj</td>\n",
       "    </tr>\n",
       "  </tbody>\n",
       "</table>\n",
       "</div>"
      ],
      "text/plain": [
       "       book      ref                                        clause_text  \\\n",
       "clause                                                                    \n",
       "427553  Gen  Gen 1:1  בְּרֵאשִׁ֖ית בָּרָ֣א אֱלֹהִ֑ים אֵ֥ת הַשָּׁמַ֖י...   \n",
       "427553  Gen  Gen 1:1  בְּרֵאשִׁ֖ית בָּרָ֣א אֱלֹהִ֑ים אֵ֥ת הַשָּׁמַ֖י...   \n",
       "427553  Gen  Gen 1:1  בְּרֵאשִׁ֖ית בָּרָ֣א אֱלֹהִ֑ים אֵ֥ת הַשָּׁמַ֖י...   \n",
       "427557  Gen  Gen 1:3                              וַיֹּ֥אמֶר אֱלֹהִ֖ים    \n",
       "427560  Gen  Gen 1:4                   וַיַּ֧רְא אֱלֹהִ֛ים אֶת־הָאֹ֖ור    \n",
       "\n",
       "          target  target_node               basis   basis_nodes  \\\n",
       "clause                                                            \n",
       "427553  אלהים.n1            4  T.Subj→ ברא.v1.qal   (3, 651544)   \n",
       "427553  שׁמים.n1            7  T.Objc→ ברא.v1.qal   (3, 651545)   \n",
       "427553    ארץ.n1           11  T.Objc→ ברא.v1.qal   (3, 651545)   \n",
       "427557  אלהים.n1           34  T.Subj→ אמר.v1.qal  (33, 651559)   \n",
       "427560  אלהים.n1           42  T.Subj→ ראה.v1.qal  (41, 651567)   \n",
       "\n",
       "                                               verse_text  \\\n",
       "clause                                                      \n",
       "427553  בְּרֵאשִׁ֖ית בָּרָ֣א אֱלֹהִ֑ים אֵ֥ת הַשָּׁמַ֖י...   \n",
       "427553  בְּרֵאשִׁ֖ית בָּרָ֣א אֱלֹהִ֑ים אֵ֥ת הַשָּׁמַ֖י...   \n",
       "427553  בְּרֵאשִׁ֖ית בָּרָ֣א אֱלֹהִ֑ים אֵ֥ת הַשָּׁמַ֖י...   \n",
       "427557  וַיֹּ֥אמֶר אֱלֹהִ֖ים יְהִ֣י אֹ֑ור וַֽיְהִי־אֹֽ...   \n",
       "427560  וַיַּ֧רְא אֱלֹהִ֛ים אֶת־הָאֹ֖ור כִּי־טֹ֑וב וַי...   \n",
       "\n",
       "                   context_type function  \n",
       "clause                                    \n",
       "427553  T.function→ st.verb.lex     Subj  \n",
       "427553  T.function→ st.verb.lex     Objc  \n",
       "427553  T.function→ st.verb.lex     Objc  \n",
       "427557  T.function→ st.verb.lex     Subj  \n",
       "427560  T.function→ st.verb.lex     Subj  "
      ]
     },
     "execution_count": 18,
     "metadata": {},
     "output_type": "execute_result"
    }
   ],
   "source": [
    "data_df = pd.DataFrame(data)\n",
    "data_df.set_index('clause', inplace=True)\n",
    "data_df.to_csv('dataset.csv') # export dataset\n",
    "data_df.head()"
   ]
  },
  {
   "cell_type": "markdown",
   "metadata": {},
   "source": [
    "Now we'll build the co-occurrence counts."
   ]
  },
  {
   "cell_type": "code",
   "execution_count": 19,
   "metadata": {},
   "outputs": [
    {
     "data": {
      "text/html": [
       "<div>\n",
       "<style scoped>\n",
       "    .dataframe tbody tr th:only-of-type {\n",
       "        vertical-align: middle;\n",
       "    }\n",
       "\n",
       "    .dataframe tbody tr th {\n",
       "        vertical-align: top;\n",
       "    }\n",
       "\n",
       "    .dataframe thead th {\n",
       "        text-align: right;\n",
       "    }\n",
       "</style>\n",
       "<table border=\"1\" class=\"dataframe\">\n",
       "  <thead>\n",
       "    <tr style=\"text-align: right;\">\n",
       "      <th>basis</th>\n",
       "      <th>T.appo→ יהוה.n1</th>\n",
       "      <th>T.Objc→ נתן.v1.qal</th>\n",
       "      <th>T.Objc→ עשׂה.v1.qal</th>\n",
       "      <th>T.Objc→ לקח.v1.qal</th>\n",
       "      <th>T.Subj→ אמר.v1.qal</th>\n",
       "      <th>T.Subj→ בוא.v1.qal</th>\n",
       "      <th>T.coord→ בן.n1</th>\n",
       "      <th>T.ל.Cmpl→ נתן.v1.qal</th>\n",
       "      <th>T.Objc→ נשׂא.v1.qal</th>\n",
       "      <th>T.Objc→ שׂים.v1.qal</th>\n",
       "      <th>...</th>\n",
       "      <th>T.ל.Cmpl→ שׁנן.v2.piel</th>\n",
       "      <th>T.ל.Cmpl→ שׁמע.v1.piel</th>\n",
       "      <th>T.ל.Cmpl→ שׁמע.v1.nif</th>\n",
       "      <th>T.ל.Cmpl→ שׁלך.v1.hof</th>\n",
       "      <th>T.ל.Cmpl→ שׁכן.v1.hif</th>\n",
       "      <th>T.ל.Cmpl→ שׁיח.v1.qal</th>\n",
       "      <th>T.ל.Cmpl→ שׁחח.v1.qal</th>\n",
       "      <th>T.ל.Cmpl→ שׁור.v2.qal</th>\n",
       "      <th>T.ל.Cmpl→ שׁוב.v2.qal</th>\n",
       "      <th>T.Adju→ אכל.v1.pual</th>\n",
       "    </tr>\n",
       "    <tr>\n",
       "      <th>target</th>\n",
       "      <th></th>\n",
       "      <th></th>\n",
       "      <th></th>\n",
       "      <th></th>\n",
       "      <th></th>\n",
       "      <th></th>\n",
       "      <th></th>\n",
       "      <th></th>\n",
       "      <th></th>\n",
       "      <th></th>\n",
       "      <th></th>\n",
       "      <th></th>\n",
       "      <th></th>\n",
       "      <th></th>\n",
       "      <th></th>\n",
       "      <th></th>\n",
       "      <th></th>\n",
       "      <th></th>\n",
       "      <th></th>\n",
       "      <th></th>\n",
       "      <th></th>\n",
       "    </tr>\n",
       "  </thead>\n",
       "  <tbody>\n",
       "    <tr>\n",
       "      <th>בן.n1</th>\n",
       "      <td>0</td>\n",
       "      <td>15</td>\n",
       "      <td>1</td>\n",
       "      <td>23</td>\n",
       "      <td>24</td>\n",
       "      <td>34</td>\n",
       "      <td>144</td>\n",
       "      <td>32</td>\n",
       "      <td>4</td>\n",
       "      <td>2</td>\n",
       "      <td>...</td>\n",
       "      <td>1</td>\n",
       "      <td>0</td>\n",
       "      <td>0</td>\n",
       "      <td>0</td>\n",
       "      <td>0</td>\n",
       "      <td>0</td>\n",
       "      <td>0</td>\n",
       "      <td>0</td>\n",
       "      <td>0</td>\n",
       "      <td>0</td>\n",
       "    </tr>\n",
       "    <tr>\n",
       "      <th>מלך.n1</th>\n",
       "      <td>2</td>\n",
       "      <td>10</td>\n",
       "      <td>0</td>\n",
       "      <td>1</td>\n",
       "      <td>127</td>\n",
       "      <td>28</td>\n",
       "      <td>0</td>\n",
       "      <td>13</td>\n",
       "      <td>0</td>\n",
       "      <td>5</td>\n",
       "      <td>...</td>\n",
       "      <td>0</td>\n",
       "      <td>0</td>\n",
       "      <td>1</td>\n",
       "      <td>0</td>\n",
       "      <td>0</td>\n",
       "      <td>0</td>\n",
       "      <td>0</td>\n",
       "      <td>1</td>\n",
       "      <td>0</td>\n",
       "      <td>0</td>\n",
       "    </tr>\n",
       "    <tr>\n",
       "      <th>ארץ.n1</th>\n",
       "      <td>0</td>\n",
       "      <td>61</td>\n",
       "      <td>11</td>\n",
       "      <td>8</td>\n",
       "      <td>1</td>\n",
       "      <td>2</td>\n",
       "      <td>0</td>\n",
       "      <td>1</td>\n",
       "      <td>0</td>\n",
       "      <td>5</td>\n",
       "      <td>...</td>\n",
       "      <td>0</td>\n",
       "      <td>0</td>\n",
       "      <td>0</td>\n",
       "      <td>1</td>\n",
       "      <td>0</td>\n",
       "      <td>0</td>\n",
       "      <td>0</td>\n",
       "      <td>0</td>\n",
       "      <td>0</td>\n",
       "      <td>0</td>\n",
       "    </tr>\n",
       "    <tr>\n",
       "      <th>אלהים.n1</th>\n",
       "      <td>730</td>\n",
       "      <td>4</td>\n",
       "      <td>9</td>\n",
       "      <td>1</td>\n",
       "      <td>50</td>\n",
       "      <td>8</td>\n",
       "      <td>0</td>\n",
       "      <td>4</td>\n",
       "      <td>0</td>\n",
       "      <td>2</td>\n",
       "      <td>...</td>\n",
       "      <td>0</td>\n",
       "      <td>0</td>\n",
       "      <td>0</td>\n",
       "      <td>0</td>\n",
       "      <td>0</td>\n",
       "      <td>0</td>\n",
       "      <td>0</td>\n",
       "      <td>0</td>\n",
       "      <td>0</td>\n",
       "      <td>0</td>\n",
       "    </tr>\n",
       "    <tr>\n",
       "      <th>אישׁ.n1</th>\n",
       "      <td>0</td>\n",
       "      <td>6</td>\n",
       "      <td>1</td>\n",
       "      <td>24</td>\n",
       "      <td>42</td>\n",
       "      <td>34</td>\n",
       "      <td>1</td>\n",
       "      <td>14</td>\n",
       "      <td>0</td>\n",
       "      <td>1</td>\n",
       "      <td>...</td>\n",
       "      <td>0</td>\n",
       "      <td>0</td>\n",
       "      <td>0</td>\n",
       "      <td>0</td>\n",
       "      <td>0</td>\n",
       "      <td>0</td>\n",
       "      <td>0</td>\n",
       "      <td>0</td>\n",
       "      <td>0</td>\n",
       "      <td>0</td>\n",
       "    </tr>\n",
       "  </tbody>\n",
       "</table>\n",
       "<p>5 rows × 13108 columns</p>\n",
       "</div>"
      ],
      "text/plain": [
       "basis     T.appo→ יהוה.n1  T.Objc→ נתן.v1.qal  T.Objc→ עשׂה.v1.qal  \\\n",
       "target                                                               \n",
       "בן.n1                   0                  15                    1   \n",
       "מלך.n1                  2                  10                    0   \n",
       "ארץ.n1                  0                  61                   11   \n",
       "אלהים.n1              730                   4                    9   \n",
       "אישׁ.n1                 0                   6                    1   \n",
       "\n",
       "basis     T.Objc→ לקח.v1.qal  T.Subj→ אמר.v1.qal  T.Subj→ בוא.v1.qal  \\\n",
       "target                                                                 \n",
       "בן.n1                     23                  24                  34   \n",
       "מלך.n1                     1                 127                  28   \n",
       "ארץ.n1                     8                   1                   2   \n",
       "אלהים.n1                   1                  50                   8   \n",
       "אישׁ.n1                   24                  42                  34   \n",
       "\n",
       "basis     T.coord→ בן.n1  T.ל.Cmpl→ נתן.v1.qal  T.Objc→ נשׂא.v1.qal  \\\n",
       "target                                                                \n",
       "בן.n1                144                    32                    4   \n",
       "מלך.n1                 0                    13                    0   \n",
       "ארץ.n1                 0                     1                    0   \n",
       "אלהים.n1               0                     4                    0   \n",
       "אישׁ.n1                1                    14                    0   \n",
       "\n",
       "basis     T.Objc→ שׂים.v1.qal  ...  T.ל.Cmpl→ שׁנן.v2.piel  \\\n",
       "target                         ...                           \n",
       "בן.n1                       2  ...                       1   \n",
       "מלך.n1                      5  ...                       0   \n",
       "ארץ.n1                      5  ...                       0   \n",
       "אלהים.n1                    2  ...                       0   \n",
       "אישׁ.n1                     1  ...                       0   \n",
       "\n",
       "basis     T.ל.Cmpl→ שׁמע.v1.piel  T.ל.Cmpl→ שׁמע.v1.nif  \\\n",
       "target                                                    \n",
       "בן.n1                          0                      0   \n",
       "מלך.n1                         0                      1   \n",
       "ארץ.n1                         0                      0   \n",
       "אלהים.n1                       0                      0   \n",
       "אישׁ.n1                        0                      0   \n",
       "\n",
       "basis     T.ל.Cmpl→ שׁלך.v1.hof  T.ל.Cmpl→ שׁכן.v1.hif  T.ל.Cmpl→ שׁיח.v1.qal  \\\n",
       "target                                                                          \n",
       "בן.n1                         0                      0                      0   \n",
       "מלך.n1                        0                      0                      0   \n",
       "ארץ.n1                        1                      0                      0   \n",
       "אלהים.n1                      0                      0                      0   \n",
       "אישׁ.n1                       0                      0                      0   \n",
       "\n",
       "basis     T.ל.Cmpl→ שׁחח.v1.qal  T.ל.Cmpl→ שׁור.v2.qal  T.ל.Cmpl→ שׁוב.v2.qal  \\\n",
       "target                                                                          \n",
       "בן.n1                         0                      0                      0   \n",
       "מלך.n1                        0                      1                      0   \n",
       "ארץ.n1                        0                      0                      0   \n",
       "אלהים.n1                      0                      0                      0   \n",
       "אישׁ.n1                       0                      0                      0   \n",
       "\n",
       "basis     T.Adju→ אכל.v1.pual  \n",
       "target                         \n",
       "בן.n1                       0  \n",
       "מלך.n1                      0  \n",
       "ארץ.n1                      0  \n",
       "אלהים.n1                    0  \n",
       "אישׁ.n1                     0  \n",
       "\n",
       "[5 rows x 13108 columns]"
      ]
     },
     "execution_count": 19,
     "metadata": {},
     "output_type": "execute_result"
    }
   ],
   "source": [
    "raw_counts = pd.pivot_table(\n",
    "    data_df, \n",
    "    index='target', \n",
    "    columns='basis', \n",
    "    fill_value=0,\n",
    "    aggfunc='size'\n",
    ")\n",
    "\n",
    "# sort by size, first by noun sum, then by basis sum\n",
    "raw_counts = raw_counts.loc[raw_counts.sum(1).sort_values(ascending=False).index]\n",
    "raw_counts = raw_counts[raw_counts.sum().sort_values(ascending=False).index]\n",
    "\n",
    "raw_counts.head()"
   ]
  },
  {
   "cell_type": "markdown",
   "metadata": {},
   "source": [
    "## Removing Outliers\n",
    "\n",
    "We will apply two primary adjustments:\n",
    "\n",
    "1. We drop co-occurrences that are unique to a noun. The dropped observations will thus be considered outliers. While these items are useful for describing the uniqueness of a given lexeme, they are unhelpful for drawing comparisons between our sets. \n",
    "2. We convert the counts into a measure of statistical significance. For this we use Fisher's exact test, which is ideal for datasets that have counts that are less than 5. Our matrix is likely to have many such counts. The resulting p-values, of which <0.05 represents a statistically significant colexeme, will be log-transformed. Values that fall below expected frequencies will be negatively transformed."
   ]
  },
  {
   "cell_type": "code",
   "execution_count": 20,
   "metadata": {},
   "outputs": [
    {
     "data": {
      "text/plain": [
       "target\n",
       "נאם.n1       7\n",
       "פאה.n1      25\n",
       "מספר.n1     29\n",
       "רב.n2       29\n",
       "קדם.n1      37\n",
       "מעל.n1      40\n",
       "שׁקר.n1     43\n",
       "תמיד.n1     43\n",
       "מלכות.n1    43\n",
       "עבר.n1      45\n",
       "dtype: int64"
      ]
     },
     "execution_count": 20,
     "metadata": {},
     "output_type": "execute_result"
    }
   ],
   "source": [
    "raw_counts.sum(1).sort_values().head(10)"
   ]
  },
  {
   "cell_type": "markdown",
   "metadata": {},
   "source": [
    "We note that the term נאם only occurs 7 times in the entire dataset<br>\n",
    "compared with the other terms. We will therefore drop that term due to<br>\n",
    "a lack of representative examples."
   ]
  },
  {
   "cell_type": "markdown",
   "metadata": {},
   "source": [
    "### Remove Co-occurrence Outliers\n",
    "\n",
    "We will remove colexemes/bases that occur with only one target noun. This is done by subtracting<br> \n",
    "the row total from each item in the row. Any 0 value in a row means that that row has a unique <br>\n",
    "colexeme that only occurs with one target noun (we will call that a `hapax_colex` here). We will<br>\n",
    "remove these rows further down."
   ]
  },
  {
   "cell_type": "markdown",
   "metadata": {},
   "source": [
    "### Drop the outliers"
   ]
  },
  {
   "cell_type": "code",
   "execution_count": 21,
   "metadata": {},
   "outputs": [
    {
     "name": "stdout",
     "output_type": "stream",
     "text": [
      "New data dimensions: (199, 4181)\n",
      "New total observations: 44886\n",
      "Observations removed: 12597\n"
     ]
    }
   ],
   "source": [
    "# drop נאם and any context counts left empty as a result\n",
    "count_df = raw_counts.drop('נאם.n1', axis=0)\n",
    "empties = count_df.loc[:, (count_df == 0).all(0)]\n",
    "count_df = count_df.drop(empties.columns, axis=1)\n",
    "\n",
    "# drop all hapax legomena\n",
    "colex_counts = count_df.sum(0)\n",
    "remaining_counts = count_df.sub(colex_counts, axis=1) # subtract colex_counts\n",
    "hapax_colex = remaining_counts.loc[:,(remaining_counts == 0).any(0)] # select columns that have a 0 value anywhere\n",
    "count_df = count_df.drop(labels=hapax_colex.columns, axis=1)\n",
    "\n",
    "print(f'New data dimensions: {count_df.shape}')\n",
    "print(f'New total observations: {count_df.sum().sum()}')\n",
    "print(f'Observations removed: {raw_counts.sum().sum() - count_df.sum().sum()}')"
   ]
  },
  {
   "cell_type": "markdown",
   "metadata": {},
   "source": [
    "Let's look at the sorted minimum values to make sure no terms have been left featureless."
   ]
  },
  {
   "cell_type": "code",
   "execution_count": 23,
   "metadata": {},
   "outputs": [
    {
     "data": {
      "text/plain": [
       "basis\n",
       "T.Subj→ כתת.v1.hof        2\n",
       "T.ל.PreC→ גאון.n1.Subj    2\n",
       "T.ל.PreC→ אחד.n1.Subj     2\n",
       "T.coord→ חמאה.n1          2\n",
       "T.appo→ אברם.n1           2\n",
       "dtype: int64"
      ]
     },
     "execution_count": 23,
     "metadata": {},
     "output_type": "execute_result"
    }
   ],
   "source": [
    "count_df.sum().sort_values().head(5)"
   ]
  },
  {
   "cell_type": "code",
   "execution_count": 24,
   "metadata": {},
   "outputs": [
    {
     "data": {
      "text/plain": [
       "target\n",
       "פאה.n1     18\n",
       "מספר.n1    18\n",
       "שׁקל.n1    18\n",
       "מעל.n1     20\n",
       "רב.n2      21\n",
       "dtype: int64"
      ]
     },
     "execution_count": 24,
     "metadata": {},
     "output_type": "execute_result"
    }
   ],
   "source": [
    "count_df.sum(1).sort_values().head(5)"
   ]
  },
  {
   "cell_type": "markdown",
   "metadata": {},
   "source": [
    "### How many zero counts are there?\n",
    "\n",
    "The raw count matrix has a lot of sparsity. Here's how many zeros there are. We also count other values."
   ]
  },
  {
   "cell_type": "code",
   "execution_count": 25,
   "metadata": {},
   "outputs": [],
   "source": [
    "# unique_values, value_counts = np.unique(data.values, return_counts=True)\n",
    "# unique_counts = pd.DataFrame.from_dict(dict(zip(unique_values, value_counts)), orient='index', columns=['count'])\n",
    "# display(HTML('<h5>Top 10 Unique Values and Their Counts in Dataset</h5>'))\n",
    "# unique_counts.head(10)"
   ]
  },
  {
   "cell_type": "code",
   "execution_count": 26,
   "metadata": {},
   "outputs": [],
   "source": [
    "# zero = unique_counts.loc[0.0][0]\n",
    "# non_zero = unique_counts[unique_counts.index > 0].sum()[0]\n",
    "# non_zero_ratio, zero_ratio = non_zero / (non_zero+zero), zero / (non_zero+zero)\n",
    "\n",
    "# print(f'Number of zero count variables: {zero} ({round(zero_ratio, 2)})')\n",
    "# print(f'Number of non-zero count variables: {non_zero} ({round(non_zero_ratio, 2)})')"
   ]
  },
  {
   "cell_type": "markdown",
   "metadata": {},
   "source": [
    "Below the number of observed counts is given:"
   ]
  },
  {
   "cell_type": "code",
   "execution_count": 27,
   "metadata": {},
   "outputs": [
    {
     "data": {
      "text/plain": [
       "44886"
      ]
     },
     "execution_count": 27,
     "metadata": {},
     "output_type": "execute_result"
    }
   ],
   "source": [
    "count_df.sum().sum()"
   ]
  },
  {
   "cell_type": "markdown",
   "metadata": {},
   "source": [
    "## Data Distribution\n",
    "\n",
    "The basic unit of analysis is the level of the clause. We have selected a <br>\n",
    "subset of all clauses from the Hebrew Bible. Let's see if the observed <br>\n",
    "frequencies within the dataset exist above or below the expected frequencies.<br>\n",
    "If they are below, then how much so?"
   ]
  },
  {
   "cell_type": "code",
   "execution_count": 28,
   "metadata": {},
   "outputs": [],
   "source": [
    "from pyscripts.feature_formatting import book2sbl"
   ]
  },
  {
   "cell_type": "code",
   "execution_count": 29,
   "metadata": {},
   "outputs": [
    {
     "data": {
      "text/plain": [
       "Gen     5987\n",
       "Exod    4326\n",
       "Lev     3077\n",
       "Num     3925\n",
       "Deut    3859\n",
       "dtype: int64"
      ]
     },
     "execution_count": 29,
     "metadata": {},
     "output_type": "execute_result"
    }
   ],
   "source": [
    "all_clauses = collections.Counter()\n",
    "for cl in F.otype.s('clause'):\n",
    "    lang = F.language.v(L.d(cl,'word')[0])\n",
    "    if lang != 'Hebrew':\n",
    "        continue\n",
    "    book, chapter, verse = T.sectionFromNode(cl)\n",
    "    book = book2sbl[book]\n",
    "    all_clauses[book] += 1\n",
    "expected_freq = pd.Series(all_clauses)\n",
    "expected_freq.head()"
   ]
  },
  {
   "cell_type": "code",
   "execution_count": 30,
   "metadata": {},
   "outputs": [],
   "source": [
    "# get samples from dataset\n",
    "sample_df = data_df.loc[\n",
    "    (data_df.target.isin(count_df.index)) & (data_df.basis.isin(count_df.columns))\n",
    "]"
   ]
  },
  {
   "cell_type": "code",
   "execution_count": 31,
   "metadata": {},
   "outputs": [],
   "source": [
    "# calculate deviation of proportions (Gries 2008; Levshina 2015)\n",
    "# for observed frequencies, we only want to consider each clause once\n",
    "# thus we create a dataframe that only keeps the first clause entry\n",
    "non_duplicated_clauses = sample_df[~sample_df.index.duplicated(keep='first')]\n",
    "observed_freq = non_duplicated_clauses.book.value_counts()\n",
    "observed_prop = observed_freq.div(observed_freq.sum())\n",
    "expected_prop = expected_freq.div(expected_freq.sum())\n",
    "deviation_prop = observed_prop - expected_prop"
   ]
  },
  {
   "cell_type": "markdown",
   "metadata": {},
   "source": [
    "Let's compare the overall number of clauses with observed clauses."
   ]
  },
  {
   "cell_type": "code",
   "execution_count": 32,
   "metadata": {},
   "outputs": [
    {
     "data": {
      "text/plain": [
       "86828"
      ]
     },
     "execution_count": 32,
     "metadata": {},
     "output_type": "execute_result"
    }
   ],
   "source": [
    "# overall clauses\n",
    "expected_freq.sum()"
   ]
  },
  {
   "cell_type": "code",
   "execution_count": 33,
   "metadata": {},
   "outputs": [
    {
     "data": {
      "text/plain": [
       "28226"
      ]
     },
     "execution_count": 33,
     "metadata": {},
     "output_type": "execute_result"
    }
   ],
   "source": [
    "# observed clauses\n",
    "observed_freq.sum()"
   ]
  },
  {
   "cell_type": "markdown",
   "metadata": {},
   "source": [
    "Let's make that a proportion..."
   ]
  },
  {
   "cell_type": "code",
   "execution_count": 34,
   "metadata": {},
   "outputs": [
    {
     "data": {
      "text/plain": [
       "0.3250794674528954"
      ]
     },
     "execution_count": 34,
     "metadata": {},
     "output_type": "execute_result"
    }
   ],
   "source": [
    "observed_freq.sum() / expected_freq.sum()"
   ]
  },
  {
   "cell_type": "markdown",
   "metadata": {},
   "source": [
    "We see that our dataset consists of 32% of all clauses in the Hebrew Bible. This raises the<br>\n",
    "further question. Have any particular books become over/under represented in the sample?<br>\n",
    "We can answer this question by calculating the deviation of proportions (above), which tells<br>\n",
    "how much the observed proportions differ from the expected proportions.<br>\n",
    "\n",
    "In this case, let total number of clauses in the Hebrew Bible be $NC$ and let the total number<br>\n",
    "of clauses in the sample be $SC$. We can obtain the deviation of proportions by doing the following:\n",
    "\n",
    "[add formula]"
   ]
  },
  {
   "cell_type": "markdown",
   "metadata": {},
   "source": [
    "### Plot Book Representations in Sample"
   ]
  },
  {
   "cell_type": "code",
   "execution_count": 35,
   "metadata": {},
   "outputs": [
    {
     "data": {
      "image/png": "[encoded data removed]",
      "text/plain": [
       "<Figure size 576x360 with 1 Axes>"
      ]
     },
     "metadata": {
      "needs_background": "light"
     },
     "output_type": "display_data"
    }
   ],
   "source": [
    "fig, ax = plt.subplots(figsize=(8, 5))\n",
    "\n",
    "observed_prop.sort_values().plot(kind='bar', ax=ax, color='lightgrey', edgecolor='black', linewidth=0.8)\n",
    "ax.grid(axis='y')\n",
    "ax.set_axisbelow(True)\n",
    "ax.axhline(0, color='black', linewidth=0.5)\n",
    "ax.set_ylim((0, 0.1))\n",
    "ax.set_ylabel('observed ratio')\n",
    "ax.set_xlabel('book')\n",
    "\n",
    "savefig('sample_book_proportions.svg')"
   ]
  },
  {
   "cell_type": "markdown",
   "metadata": {},
   "source": [
    "### Plot deviated proportions in sample from expected proportion (entire Hebrew Bible)\n"
   ]
  },
  {
   "cell_type": "code",
   "execution_count": 36,
   "metadata": {},
   "outputs": [
    {
     "data": {
      "image/png": "[encoded data removed]",
      "text/plain": [
       "<Figure size 1296x216 with 2 Axes>"
      ]
     },
     "metadata": {
      "needs_background": "light"
     },
     "output_type": "display_data"
    }
   ],
   "source": [
    "fig, (ax1, ax2) = plt.subplots(1, 2, figsize=(18, 3))\n",
    "\n",
    "for ax in (ax1, ax2):\n",
    "    deviation_prop.sort_values().plot(kind='bar', ax=ax, color='lightgrey', edgecolor='black', linewidth=0.8)\n",
    "    ax.grid(axis='y')\n",
    "    ax.set_axisbelow(True)\n",
    "    ax.axhline(0, color='black', linewidth=0.5)\n",
    "    ax.set_ylabel('deviation of sample ratio')\n",
    "    ax.set_xlabel('book')\n",
    "    \n",
    "ax1.set_title('sample deviation from expected ratio (at scale)')\n",
    "ax1.set_ylim((-1, 1))\n",
    "ax2.set_title('sample deviation from expected ratio (zoomed)')\n",
    "\n",
    "savefig('sample_deviation_proportions.svg')"
   ]
  },
  {
   "cell_type": "code",
   "execution_count": 37,
   "metadata": {},
   "outputs": [
    {
     "data": {
      "text/plain": [
       "Isa    -0.019663\n",
       "Job    -0.010938\n",
       "Ps     -0.010093\n",
       "Prov   -0.006010\n",
       "Song   -0.003516\n",
       "Jer    -0.003439\n",
       "Zech   -0.002663\n",
       "Eccl   -0.002424\n",
       "Hos    -0.002096\n",
       "Ruth   -0.002038\n",
       "dtype: float64"
      ]
     },
     "execution_count": 37,
     "metadata": {},
     "output_type": "execute_result"
    }
   ],
   "source": [
    "deviation_prop.sort_values().head(10)"
   ]
  },
  {
   "cell_type": "code",
   "execution_count": 38,
   "metadata": {},
   "outputs": [
    {
     "data": {
      "text/plain": [
       "2 Chr    0.013134\n",
       "1 Kgs    0.010098\n",
       "Deut     0.009974\n",
       "Exod     0.009307\n",
       "Josh     0.006054\n",
       "Lev      0.005411\n",
       "2 Sam    0.004238\n",
       "2 Kgs    0.004100\n",
       "Gen      0.003073\n",
       "Judg     0.002651\n",
       "dtype: float64"
      ]
     },
     "execution_count": 38,
     "metadata": {},
     "output_type": "execute_result"
    }
   ],
   "source": [
    "deviation_prop.sort_values(ascending=False).head(10)"
   ]
  },
  {
   "cell_type": "markdown",
   "metadata": {},
   "source": [
    "Here we see 2% underpresentation of Isaiah, as well as some smaller representation<br>\n",
    "of Psalms, Job, and Proverbs.\n",
    "\n",
    "In general, the underepresented portions are more poetic/prophetic in nature while more<br>\n",
    "narratival books are represented very slightly higher.\n",
    "\n",
    "Meanwhile there is a slightly higher sample of 2 Chronicles (1.3%) 1 Kings (1%) and Deuteronomy<br>\n",
    "(1%).\n",
    "\n",
    "These differences are very small, and thus we can say that the sample dataset is essentially as<br>\n",
    "evenly distributed as the original sample across the Hebrew Bible."
   ]
  },
  {
   "cell_type": "markdown",
   "metadata": {},
   "source": [
    "## Context Type Distribution\n",
    "\n",
    "Looking at the distribution of the various contexts"
   ]
  },
  {
   "cell_type": "code",
   "execution_count": 40,
   "metadata": {},
   "outputs": [
    {
     "data": {
      "text/plain": [
       "T.function→ st.verb.lex        17539\n",
       "T.prep.funct→ st.verb.lex      11216\n",
       "T.coord→ lex                    3681\n",
       "lex.coord→ T                    3564\n",
       "T.appo→ lex                     2557\n",
       "lex.PreC→ T.Subj                1330\n",
       "lex.atr→ T                      1297\n",
       "lex.appo→ T                      961\n",
       "lex.coord→ T (phrase atoms)      616\n",
       "T.prep.PreC→ lex.Subj            569\n",
       "lex.prep.PreC→ T.Subj            540\n",
       "T.coord→ lex (phrase atoms)      526\n",
       "T.PreC→ lex.Subj                 490\n",
       "Name: context_type, dtype: int64"
      ]
     },
     "execution_count": 40,
     "metadata": {},
     "output_type": "execute_result"
    }
   ],
   "source": [
    "context_counts = sample_df.context_type.value_counts()\n",
    "context_props = context_counts.div(context_counts.sum())\n",
    "\n",
    "context_counts"
   ]
  },
  {
   "cell_type": "code",
   "execution_count": 41,
   "metadata": {},
   "outputs": [
    {
     "data": {
      "text/plain": [
       "T.function→ st.verb.lex        0.390745\n",
       "T.prep.funct→ st.verb.lex      0.249877\n",
       "T.coord→ lex                   0.082008\n",
       "lex.coord→ T                   0.079401\n",
       "T.appo→ lex                    0.056967\n",
       "lex.PreC→ T.Subj               0.029631\n",
       "lex.atr→ T                     0.028895\n",
       "lex.appo→ T                    0.021410\n",
       "lex.coord→ T (phrase atoms)    0.013724\n",
       "T.prep.PreC→ lex.Subj          0.012677\n",
       "lex.prep.PreC→ T.Subj          0.012030\n",
       "T.coord→ lex (phrase atoms)    0.011719\n",
       "T.PreC→ lex.Subj               0.010917\n",
       "Name: context_type, dtype: float64"
      ]
     },
     "execution_count": 41,
     "metadata": {},
     "output_type": "execute_result"
    }
   ],
   "source": [
    "context_props"
   ]
  },
  {
   "cell_type": "code",
   "execution_count": 43,
   "metadata": {},
   "outputs": [
    {
     "data": {
      "image/png": "[encoded data removed]",
      "text/plain": [
       "<Figure size 864x360 with 2 Axes>"
      ]
     },
     "metadata": {
      "needs_background": "light"
     },
     "output_type": "display_data"
    }
   ],
   "source": [
    "fig, (ax1, ax2) = plt.subplots(1, 2, figsize=(12, 5))\n",
    "\n",
    "for ax, data in zip((ax1, ax2), (context_counts, context_props)):\n",
    "    data.plot(kind='bar', ax=ax, color='lightgrey', edgecolor='black', linewidth=0.8, width=0.7)\n",
    "    ax.grid(axis='y')\n",
    "    ax.set_axisbelow(True)\n",
    "    ax.axhline(0, color='black', linewidth=0.5)\n",
    "    ax.set_xlabel('context')\n",
    "    \n",
    "ax1.set_ylabel('count')\n",
    "ax2.set_ylabel('ratio')\n",
    "\n",
    "savefig('context_counts.svg')"
   ]
  },
  {
   "cell_type": "markdown",
   "metadata": {},
   "source": [
    "### Look at function distribution"
   ]
  },
  {
   "cell_type": "code",
   "execution_count": 44,
   "metadata": {},
   "outputs": [
    {
     "data": {
      "text/plain": [
       "Objc    9986\n",
       "Cmpl    8328\n",
       "Subj    6350\n",
       "Adju    2104\n",
       "Time    1188\n",
       "Loca     536\n",
       "Modi     248\n",
       "PrAd      15\n",
       "Name: function, dtype: int64"
      ]
     },
     "execution_count": 44,
     "metadata": {},
     "output_type": "execute_result"
    }
   ],
   "source": [
    "function_count = sample_df.function.value_counts()\n",
    "function_prop = function_count.div(function_count.sum())\n",
    "\n",
    "function_count"
   ]
  },
  {
   "cell_type": "code",
   "execution_count": 45,
   "metadata": {},
   "outputs": [
    {
     "data": {
      "text/plain": [
       "Objc    0.347279\n",
       "Cmpl    0.289619\n",
       "Subj    0.220831\n",
       "Adju    0.073170\n",
       "Time    0.041315\n",
       "Loca    0.018640\n",
       "Modi    0.008625\n",
       "PrAd    0.000522\n",
       "Name: function, dtype: float64"
      ]
     },
     "execution_count": 45,
     "metadata": {},
     "output_type": "execute_result"
    }
   ],
   "source": [
    "function_prop"
   ]
  },
  {
   "cell_type": "code",
   "execution_count": 46,
   "metadata": {},
   "outputs": [
    {
     "data": {
      "image/png": "[encoded data removed]",
      "text/plain": [
       "<Figure size 720x360 with 2 Axes>"
      ]
     },
     "metadata": {
      "needs_background": "light"
     },
     "output_type": "display_data"
    }
   ],
   "source": [
    "fig, (ax1, ax2) = plt.subplots(1, 2, figsize=(10, 5))\n",
    "\n",
    "for ax, data in zip((ax1, ax2), (function_count, function_prop)):\n",
    "    data.plot(kind='bar', ax=ax, color='lightgrey', edgecolor='black', linewidth=0.8, width=0.6)\n",
    "    ax.grid(axis='y')\n",
    "    ax.set_axisbelow(True)\n",
    "    ax.axhline(0, color='black', linewidth=0.5)\n",
    "    ax.set_xlabel('context')\n",
    "    \n",
    "ax1.set_ylabel('count')\n",
    "ax2.set_ylabel('ratio')\n",
    "savefig('function_counts.svg')"
   ]
  },
  {
   "cell_type": "markdown",
   "metadata": {},
   "source": [
    "<hr>"
   ]
  },
  {
   "cell_type": "markdown",
   "metadata": {},
   "source": [
    "#### Examining the Dataset\n",
    "\n",
    "Below we look at the number of dimensions in the data:"
   ]
  },
  {
   "cell_type": "code",
   "execution_count": 51,
   "metadata": {},
   "outputs": [
    {
     "data": {
      "text/plain": [
       "(199, 4181)"
      ]
     },
     "execution_count": 51,
     "metadata": {},
     "output_type": "execute_result"
    }
   ],
   "source": [
    "count_df.shape"
   ]
  },
  {
   "cell_type": "markdown",
   "metadata": {},
   "source": [
    "And number of observations.."
   ]
  },
  {
   "cell_type": "code",
   "execution_count": 50,
   "metadata": {},
   "outputs": [
    {
     "data": {
      "text/plain": [
       "832019"
      ]
     },
     "execution_count": 50,
     "metadata": {},
     "output_type": "execute_result"
    }
   ],
   "source": [
    "count_df.size"
   ]
  },
  {
   "cell_type": "markdown",
   "metadata": {},
   "source": [
    "### Apply Fisher's Exact Test\n",
    "\n",
    "Now we apply the Fisher's exact test to the data set. This involves supplying values to a 2x2 contingency table that is fed to `scipy.stats.fisher_exact`"
   ]
  },
  {
   "cell_type": "markdown",
   "metadata": {},
   "source": [
    "#### Number of Datapoints To Iterate Over\n",
    "\n",
    "The Fisher's exact test takes some time to run. That is because it must iterate over a lot of pairs. The number is printed below."
   ]
  },
  {
   "cell_type": "code",
   "execution_count": 54,
   "metadata": {},
   "outputs": [
    {
     "data": {
      "text/plain": [
       "832019"
      ]
     },
     "execution_count": 54,
     "metadata": {},
     "output_type": "execute_result"
    }
   ],
   "source": [
    "count_df.size"
   ]
  },
  {
   "cell_type": "markdown",
   "metadata": {},
   "source": [
    "#### Apply the Tests\n",
    "\n",
    "The whole run takes 5.5-6.0 minutes on a 2017 Macbook pro."
   ]
  },
  {
   "cell_type": "code",
   "execution_count": 609,
   "metadata": {},
   "outputs": [],
   "source": [
    "run = False\n",
    "\n",
    "if run:\n",
    "    fisherdata, odds_ratios = my_stats.apply_fishers(count_df, sample_axis=0, feature_axis=1)\n",
    "    fisherdata.to_csv(fisher_data)\n",
    "else:\n",
    "    fisherdata = pd.read_csv(fisher_data, index_col=0)\n",
    "    odds_ratios = pd.read_csv('results/tables/fisher_odds.csv')"
   ]
  },
  {
   "cell_type": "code",
   "execution_count": 610,
   "metadata": {},
   "outputs": [
    {
     "data": {
      "text/html": [
       "<div>\n",
       "<style scoped>\n",
       "    .dataframe tbody tr th:only-of-type {\n",
       "        vertical-align: middle;\n",
       "    }\n",
       "\n",
       "    .dataframe tbody tr th {\n",
       "        vertical-align: top;\n",
       "    }\n",
       "\n",
       "    .dataframe thead th {\n",
       "        text-align: right;\n",
       "    }\n",
       "</style>\n",
       "<table border=\"1\" class=\"dataframe\">\n",
       "  <thead>\n",
       "    <tr style=\"text-align: right;\">\n",
       "      <th></th>\n",
       "      <th>T.appo→ יהוה.n1</th>\n",
       "      <th>T.Objc→ נתן.v1.qal</th>\n",
       "      <th>T.Objc→ עשׂה.v1.qal</th>\n",
       "      <th>T.Objc→ לקח.v1.qal</th>\n",
       "      <th>T.Subj→ אמר.v1.qal</th>\n",
       "      <th>T.Subj→ בוא.v1.qal</th>\n",
       "      <th>T.coord→ בן.n1</th>\n",
       "      <th>T.ל.Cmpl→ נתן.v1.qal</th>\n",
       "      <th>T.Objc→ נשׂא.v1.qal</th>\n",
       "      <th>T.Objc→ שׂים.v1.qal</th>\n",
       "      <th>...</th>\n",
       "      <th>T.על.Cmpl→ כבד.v1.qal</th>\n",
       "      <th>T.Subj→ כלם.v1.hif</th>\n",
       "      <th>חרפה.n1.coord→ T</th>\n",
       "      <th>רך.n1.PreC→ T.Subj</th>\n",
       "      <th>חרץ.v1.PreC→ T.Subj</th>\n",
       "      <th>חתם.v1.PreC→ T.Subj</th>\n",
       "      <th>T.עד.Time→ עמד.v1.hif</th>\n",
       "      <th>T.Objc→ שׁלם.v1.hif</th>\n",
       "      <th>T.Objc→ שׁלל.v1.qal</th>\n",
       "      <th>T.Subj→ כתת.v1.hof</th>\n",
       "    </tr>\n",
       "  </thead>\n",
       "  <tbody>\n",
       "    <tr>\n",
       "      <th>בן.n1</th>\n",
       "      <td>-22.506257</td>\n",
       "      <td>-6.579793</td>\n",
       "      <td>-16.256213</td>\n",
       "      <td>-0.732143</td>\n",
       "      <td>-0.530153</td>\n",
       "      <td>1.123235</td>\n",
       "      <td>74.015168</td>\n",
       "      <td>1.963515</td>\n",
       "      <td>-4.088860</td>\n",
       "      <td>-5.296022</td>\n",
       "      <td>...</td>\n",
       "      <td>0.000000</td>\n",
       "      <td>0.0</td>\n",
       "      <td>0.879459</td>\n",
       "      <td>0.0</td>\n",
       "      <td>0.000000</td>\n",
       "      <td>0.0</td>\n",
       "      <td>0.0</td>\n",
       "      <td>0.0</td>\n",
       "      <td>0.0</td>\n",
       "      <td>0.0</td>\n",
       "    </tr>\n",
       "    <tr>\n",
       "      <th>מלך.n1</th>\n",
       "      <td>-8.701775</td>\n",
       "      <td>-2.451740</td>\n",
       "      <td>-8.926695</td>\n",
       "      <td>-5.459739</td>\n",
       "      <td>78.217023</td>\n",
       "      <td>3.860716</td>\n",
       "      <td>-5.200123</td>\n",
       "      <td>0.370243</td>\n",
       "      <td>-3.806548</td>\n",
       "      <td>-0.635022</td>\n",
       "      <td>...</td>\n",
       "      <td>0.000000</td>\n",
       "      <td>0.0</td>\n",
       "      <td>0.000000</td>\n",
       "      <td>0.0</td>\n",
       "      <td>0.000000</td>\n",
       "      <td>0.0</td>\n",
       "      <td>0.0</td>\n",
       "      <td>0.0</td>\n",
       "      <td>0.0</td>\n",
       "      <td>0.0</td>\n",
       "    </tr>\n",
       "    <tr>\n",
       "      <th>ארץ.n1</th>\n",
       "      <td>-10.056006</td>\n",
       "      <td>13.048434</td>\n",
       "      <td>-1.126735</td>\n",
       "      <td>-0.989002</td>\n",
       "      <td>-4.605041</td>\n",
       "      <td>-2.867567</td>\n",
       "      <td>-4.681587</td>\n",
       "      <td>-2.875867</td>\n",
       "      <td>-3.480049</td>\n",
       "      <td>-0.431153</td>\n",
       "      <td>...</td>\n",
       "      <td>0.000000</td>\n",
       "      <td>0.0</td>\n",
       "      <td>0.000000</td>\n",
       "      <td>0.0</td>\n",
       "      <td>0.000000</td>\n",
       "      <td>0.0</td>\n",
       "      <td>0.0</td>\n",
       "      <td>0.0</td>\n",
       "      <td>0.0</td>\n",
       "      <td>0.0</td>\n",
       "    </tr>\n",
       "    <tr>\n",
       "      <th>אלהים.n1</th>\n",
       "      <td>inf</td>\n",
       "      <td>-5.766333</td>\n",
       "      <td>-2.196198</td>\n",
       "      <td>-5.458588</td>\n",
       "      <td>12.373411</td>\n",
       "      <td>-0.702152</td>\n",
       "      <td>-5.197390</td>\n",
       "      <td>-1.411536</td>\n",
       "      <td>-4.015970</td>\n",
       "      <td>-1.995487</td>\n",
       "      <td>...</td>\n",
       "      <td>0.000000</td>\n",
       "      <td>0.0</td>\n",
       "      <td>0.000000</td>\n",
       "      <td>0.0</td>\n",
       "      <td>0.000000</td>\n",
       "      <td>0.0</td>\n",
       "      <td>0.0</td>\n",
       "      <td>0.0</td>\n",
       "      <td>0.0</td>\n",
       "      <td>0.0</td>\n",
       "    </tr>\n",
       "    <tr>\n",
       "      <th>אישׁ.n1</th>\n",
       "      <td>-10.269249</td>\n",
       "      <td>-3.725940</td>\n",
       "      <td>-6.745259</td>\n",
       "      <td>1.865083</td>\n",
       "      <td>9.407068</td>\n",
       "      <td>7.438862</td>\n",
       "      <td>-3.500331</td>\n",
       "      <td>0.862503</td>\n",
       "      <td>-3.471931</td>\n",
       "      <td>-2.405216</td>\n",
       "      <td>...</td>\n",
       "      <td>1.200033</td>\n",
       "      <td>0.0</td>\n",
       "      <td>0.000000</td>\n",
       "      <td>0.0</td>\n",
       "      <td>0.000000</td>\n",
       "      <td>0.0</td>\n",
       "      <td>0.0</td>\n",
       "      <td>0.0</td>\n",
       "      <td>0.0</td>\n",
       "      <td>0.0</td>\n",
       "    </tr>\n",
       "    <tr>\n",
       "      <th>יום.n1</th>\n",
       "      <td>-7.020936</td>\n",
       "      <td>-4.940696</td>\n",
       "      <td>-2.175071</td>\n",
       "      <td>-3.948764</td>\n",
       "      <td>-3.969073</td>\n",
       "      <td>1.332199</td>\n",
       "      <td>-3.137104</td>\n",
       "      <td>-2.627612</td>\n",
       "      <td>-2.269489</td>\n",
       "      <td>-2.295491</td>\n",
       "      <td>...</td>\n",
       "      <td>0.000000</td>\n",
       "      <td>0.0</td>\n",
       "      <td>0.000000</td>\n",
       "      <td>0.0</td>\n",
       "      <td>1.358093</td>\n",
       "      <td>0.0</td>\n",
       "      <td>0.0</td>\n",
       "      <td>0.0</td>\n",
       "      <td>0.0</td>\n",
       "      <td>0.0</td>\n",
       "    </tr>\n",
       "    <tr>\n",
       "      <th>עם.n1</th>\n",
       "      <td>-10.444091</td>\n",
       "      <td>-1.131409</td>\n",
       "      <td>-8.236013</td>\n",
       "      <td>-2.173010</td>\n",
       "      <td>4.532914</td>\n",
       "      <td>2.579546</td>\n",
       "      <td>-2.225901</td>\n",
       "      <td>0.732160</td>\n",
       "      <td>-1.843644</td>\n",
       "      <td>-1.278042</td>\n",
       "      <td>...</td>\n",
       "      <td>1.194137</td>\n",
       "      <td>0.0</td>\n",
       "      <td>0.000000</td>\n",
       "      <td>0.0</td>\n",
       "      <td>0.000000</td>\n",
       "      <td>0.0</td>\n",
       "      <td>0.0</td>\n",
       "      <td>0.0</td>\n",
       "      <td>0.0</td>\n",
       "      <td>0.0</td>\n",
       "    </tr>\n",
       "    <tr>\n",
       "      <th>בית.n1</th>\n",
       "      <td>-8.853672</td>\n",
       "      <td>-0.820445</td>\n",
       "      <td>-0.503091</td>\n",
       "      <td>-3.330368</td>\n",
       "      <td>-2.487866</td>\n",
       "      <td>-1.409670</td>\n",
       "      <td>-1.150665</td>\n",
       "      <td>0.138360</td>\n",
       "      <td>-3.152582</td>\n",
       "      <td>-1.421100</td>\n",
       "      <td>...</td>\n",
       "      <td>0.000000</td>\n",
       "      <td>0.0</td>\n",
       "      <td>0.000000</td>\n",
       "      <td>0.0</td>\n",
       "      <td>0.000000</td>\n",
       "      <td>0.0</td>\n",
       "      <td>0.0</td>\n",
       "      <td>0.0</td>\n",
       "      <td>0.0</td>\n",
       "      <td>0.0</td>\n",
       "    </tr>\n",
       "    <tr>\n",
       "      <th>פנה.n1</th>\n",
       "      <td>-7.018551</td>\n",
       "      <td>-0.374947</td>\n",
       "      <td>-5.495001</td>\n",
       "      <td>-4.152851</td>\n",
       "      <td>-3.963040</td>\n",
       "      <td>-3.303389</td>\n",
       "      <td>-3.134563</td>\n",
       "      <td>24.286097</td>\n",
       "      <td>6.657481</td>\n",
       "      <td>7.614609</td>\n",
       "      <td>...</td>\n",
       "      <td>0.000000</td>\n",
       "      <td>0.0</td>\n",
       "      <td>0.000000</td>\n",
       "      <td>0.0</td>\n",
       "      <td>0.000000</td>\n",
       "      <td>0.0</td>\n",
       "      <td>0.0</td>\n",
       "      <td>0.0</td>\n",
       "      <td>0.0</td>\n",
       "      <td>0.0</td>\n",
       "    </tr>\n",
       "    <tr>\n",
       "      <th>יד.n1</th>\n",
       "      <td>-8.211783</td>\n",
       "      <td>-0.769171</td>\n",
       "      <td>-6.311712</td>\n",
       "      <td>-4.834211</td>\n",
       "      <td>-4.634769</td>\n",
       "      <td>-2.869457</td>\n",
       "      <td>-3.633232</td>\n",
       "      <td>-3.144858</td>\n",
       "      <td>5.589620</td>\n",
       "      <td>1.328457</td>\n",
       "      <td>...</td>\n",
       "      <td>0.000000</td>\n",
       "      <td>0.0</td>\n",
       "      <td>0.000000</td>\n",
       "      <td>0.0</td>\n",
       "      <td>0.000000</td>\n",
       "      <td>0.0</td>\n",
       "      <td>0.0</td>\n",
       "      <td>0.0</td>\n",
       "      <td>0.0</td>\n",
       "      <td>0.0</td>\n",
       "    </tr>\n",
       "  </tbody>\n",
       "</table>\n",
       "<p>10 rows × 4181 columns</p>\n",
       "</div>"
      ],
      "text/plain": [
       "          T.appo→ יהוה.n1  T.Objc→ נתן.v1.qal  T.Objc→ עשׂה.v1.qal  \\\n",
       "בן.n1          -22.506257           -6.579793           -16.256213   \n",
       "מלך.n1          -8.701775           -2.451740            -8.926695   \n",
       "ארץ.n1         -10.056006           13.048434            -1.126735   \n",
       "אלהים.n1              inf           -5.766333            -2.196198   \n",
       "אישׁ.n1        -10.269249           -3.725940            -6.745259   \n",
       "יום.n1          -7.020936           -4.940696            -2.175071   \n",
       "עם.n1          -10.444091           -1.131409            -8.236013   \n",
       "בית.n1          -8.853672           -0.820445            -0.503091   \n",
       "פנה.n1          -7.018551           -0.374947            -5.495001   \n",
       "יד.n1           -8.211783           -0.769171            -6.311712   \n",
       "\n",
       "          T.Objc→ לקח.v1.qal  T.Subj→ אמר.v1.qal  T.Subj→ בוא.v1.qal  \\\n",
       "בן.n1              -0.732143           -0.530153            1.123235   \n",
       "מלך.n1             -5.459739           78.217023            3.860716   \n",
       "ארץ.n1             -0.989002           -4.605041           -2.867567   \n",
       "אלהים.n1           -5.458588           12.373411           -0.702152   \n",
       "אישׁ.n1             1.865083            9.407068            7.438862   \n",
       "יום.n1             -3.948764           -3.969073            1.332199   \n",
       "עם.n1              -2.173010            4.532914            2.579546   \n",
       "בית.n1             -3.330368           -2.487866           -1.409670   \n",
       "פנה.n1             -4.152851           -3.963040           -3.303389   \n",
       "יד.n1              -4.834211           -4.634769           -2.869457   \n",
       "\n",
       "          T.coord→ בן.n1  T.ל.Cmpl→ נתן.v1.qal  T.Objc→ נשׂא.v1.qal  \\\n",
       "בן.n1          74.015168              1.963515            -4.088860   \n",
       "מלך.n1         -5.200123              0.370243            -3.806548   \n",
       "ארץ.n1         -4.681587             -2.875867            -3.480049   \n",
       "אלהים.n1       -5.197390             -1.411536            -4.015970   \n",
       "אישׁ.n1        -3.500331              0.862503            -3.471931   \n",
       "יום.n1         -3.137104             -2.627612            -2.269489   \n",
       "עם.n1          -2.225901              0.732160            -1.843644   \n",
       "בית.n1         -1.150665              0.138360            -3.152582   \n",
       "פנה.n1         -3.134563             24.286097             6.657481   \n",
       "יד.n1          -3.633232             -3.144858             5.589620   \n",
       "\n",
       "          T.Objc→ שׂים.v1.qal  ...  T.על.Cmpl→ כבד.v1.qal  T.Subj→ כלם.v1.hif  \\\n",
       "בן.n1               -5.296022  ...               0.000000                 0.0   \n",
       "מלך.n1              -0.635022  ...               0.000000                 0.0   \n",
       "ארץ.n1              -0.431153  ...               0.000000                 0.0   \n",
       "אלהים.n1            -1.995487  ...               0.000000                 0.0   \n",
       "אישׁ.n1             -2.405216  ...               1.200033                 0.0   \n",
       "יום.n1              -2.295491  ...               0.000000                 0.0   \n",
       "עם.n1               -1.278042  ...               1.194137                 0.0   \n",
       "בית.n1              -1.421100  ...               0.000000                 0.0   \n",
       "פנה.n1               7.614609  ...               0.000000                 0.0   \n",
       "יד.n1                1.328457  ...               0.000000                 0.0   \n",
       "\n",
       "          חרפה.n1.coord→ T  רך.n1.PreC→ T.Subj  חרץ.v1.PreC→ T.Subj  \\\n",
       "בן.n1             0.879459                 0.0             0.000000   \n",
       "מלך.n1            0.000000                 0.0             0.000000   \n",
       "ארץ.n1            0.000000                 0.0             0.000000   \n",
       "אלהים.n1          0.000000                 0.0             0.000000   \n",
       "אישׁ.n1           0.000000                 0.0             0.000000   \n",
       "יום.n1            0.000000                 0.0             1.358093   \n",
       "עם.n1             0.000000                 0.0             0.000000   \n",
       "בית.n1            0.000000                 0.0             0.000000   \n",
       "פנה.n1            0.000000                 0.0             0.000000   \n",
       "יד.n1             0.000000                 0.0             0.000000   \n",
       "\n",
       "          חתם.v1.PreC→ T.Subj  T.עד.Time→ עמד.v1.hif  T.Objc→ שׁלם.v1.hif  \\\n",
       "בן.n1                     0.0                    0.0                  0.0   \n",
       "מלך.n1                    0.0                    0.0                  0.0   \n",
       "ארץ.n1                    0.0                    0.0                  0.0   \n",
       "אלהים.n1                  0.0                    0.0                  0.0   \n",
       "אישׁ.n1                   0.0                    0.0                  0.0   \n",
       "יום.n1                    0.0                    0.0                  0.0   \n",
       "עם.n1                     0.0                    0.0                  0.0   \n",
       "בית.n1                    0.0                    0.0                  0.0   \n",
       "פנה.n1                    0.0                    0.0                  0.0   \n",
       "יד.n1                     0.0                    0.0                  0.0   \n",
       "\n",
       "          T.Objc→ שׁלל.v1.qal  T.Subj→ כתת.v1.hof  \n",
       "בן.n1                     0.0                 0.0  \n",
       "מלך.n1                    0.0                 0.0  \n",
       "ארץ.n1                    0.0                 0.0  \n",
       "אלהים.n1                  0.0                 0.0  \n",
       "אישׁ.n1                   0.0                 0.0  \n",
       "יום.n1                    0.0                 0.0  \n",
       "עם.n1                     0.0                 0.0  \n",
       "בית.n1                    0.0                 0.0  \n",
       "פנה.n1                    0.0                 0.0  \n",
       "יד.n1                     0.0                 0.0  \n",
       "\n",
       "[10 rows x 4181 columns]"
      ]
     },
     "execution_count": 610,
     "metadata": {},
     "output_type": "execute_result"
    }
   ],
   "source": [
    "fisherdata.head(10)"
   ]
  },
  {
   "cell_type": "markdown",
   "metadata": {},
   "source": [
    "The Fisher's test has produced p-vales of 0, indicating a very high degree of attraction between lexemes and a colexemes. A log-transformed zero equals `infinity`. Below those values are isolated."
   ]
  },
  {
   "cell_type": "code",
   "execution_count": 611,
   "metadata": {},
   "outputs": [
    {
     "data": {
      "text/html": [
       "<div>\n",
       "<style scoped>\n",
       "    .dataframe tbody tr th:only-of-type {\n",
       "        vertical-align: middle;\n",
       "    }\n",
       "\n",
       "    .dataframe tbody tr th {\n",
       "        vertical-align: top;\n",
       "    }\n",
       "\n",
       "    .dataframe thead th {\n",
       "        text-align: right;\n",
       "    }\n",
       "</style>\n",
       "<table border=\"1\" class=\"dataframe\">\n",
       "  <thead>\n",
       "    <tr style=\"text-align: right;\">\n",
       "      <th></th>\n",
       "      <th>T.appo→ יהוה.n1</th>\n",
       "      <th>T.Objc→ נתן.v1.qal</th>\n",
       "      <th>T.Objc→ עשׂה.v1.qal</th>\n",
       "      <th>T.Objc→ לקח.v1.qal</th>\n",
       "      <th>T.Subj→ אמר.v1.qal</th>\n",
       "      <th>T.Subj→ בוא.v1.qal</th>\n",
       "      <th>T.coord→ בן.n1</th>\n",
       "      <th>T.ל.Cmpl→ נתן.v1.qal</th>\n",
       "      <th>T.Objc→ נשׂא.v1.qal</th>\n",
       "      <th>T.Objc→ שׂים.v1.qal</th>\n",
       "      <th>...</th>\n",
       "      <th>T.על.Cmpl→ כבד.v1.qal</th>\n",
       "      <th>T.Subj→ כלם.v1.hif</th>\n",
       "      <th>חרפה.n1.coord→ T</th>\n",
       "      <th>רך.n1.PreC→ T.Subj</th>\n",
       "      <th>חרץ.v1.PreC→ T.Subj</th>\n",
       "      <th>חתם.v1.PreC→ T.Subj</th>\n",
       "      <th>T.עד.Time→ עמד.v1.hif</th>\n",
       "      <th>T.Objc→ שׁלם.v1.hif</th>\n",
       "      <th>T.Objc→ שׁלל.v1.qal</th>\n",
       "      <th>T.Subj→ כתת.v1.hof</th>\n",
       "    </tr>\n",
       "  </thead>\n",
       "  <tbody>\n",
       "    <tr>\n",
       "      <th>אלהים.n1</th>\n",
       "      <td>inf</td>\n",
       "      <td>-5.766333</td>\n",
       "      <td>-2.196198</td>\n",
       "      <td>-5.458588</td>\n",
       "      <td>12.373411</td>\n",
       "      <td>-0.702152</td>\n",
       "      <td>-5.19739</td>\n",
       "      <td>-1.411536</td>\n",
       "      <td>-4.01597</td>\n",
       "      <td>-1.995487</td>\n",
       "      <td>...</td>\n",
       "      <td>0.0</td>\n",
       "      <td>0.0</td>\n",
       "      <td>0.0</td>\n",
       "      <td>0.0</td>\n",
       "      <td>0.0</td>\n",
       "      <td>0.0</td>\n",
       "      <td>0.0</td>\n",
       "      <td>0.0</td>\n",
       "      <td>0.0</td>\n",
       "      <td>0.0</td>\n",
       "    </tr>\n",
       "  </tbody>\n",
       "</table>\n",
       "<p>1 rows × 4181 columns</p>\n",
       "</div>"
      ],
      "text/plain": [
       "          T.appo→ יהוה.n1  T.Objc→ נתן.v1.qal  T.Objc→ עשׂה.v1.qal  \\\n",
       "אלהים.n1              inf           -5.766333            -2.196198   \n",
       "\n",
       "          T.Objc→ לקח.v1.qal  T.Subj→ אמר.v1.qal  T.Subj→ בוא.v1.qal  \\\n",
       "אלהים.n1           -5.458588           12.373411           -0.702152   \n",
       "\n",
       "          T.coord→ בן.n1  T.ל.Cmpl→ נתן.v1.qal  T.Objc→ נשׂא.v1.qal  \\\n",
       "אלהים.n1        -5.19739             -1.411536             -4.01597   \n",
       "\n",
       "          T.Objc→ שׂים.v1.qal  ...  T.על.Cmpl→ כבד.v1.qal  T.Subj→ כלם.v1.hif  \\\n",
       "אלהים.n1            -1.995487  ...                    0.0                 0.0   \n",
       "\n",
       "          חרפה.n1.coord→ T  רך.n1.PreC→ T.Subj  חרץ.v1.PreC→ T.Subj  \\\n",
       "אלהים.n1               0.0                 0.0                  0.0   \n",
       "\n",
       "          חתם.v1.PreC→ T.Subj  T.עד.Time→ עמד.v1.hif  T.Objc→ שׁלם.v1.hif  \\\n",
       "אלהים.n1                  0.0                    0.0                  0.0   \n",
       "\n",
       "          T.Objc→ שׁלל.v1.qal  T.Subj→ כתת.v1.hof  \n",
       "אלהים.n1                  0.0                 0.0  \n",
       "\n",
       "[1 rows x 4181 columns]"
      ]
     },
     "execution_count": 611,
     "metadata": {},
     "output_type": "execute_result"
    }
   ],
   "source": [
    "inf_nouns = fisherdata[(fisherdata == np.inf).any(1) | (fisherdata == -np.inf).any(1)]\n",
    "\n",
    "inf_nouns"
   ]
  },
  {
   "cell_type": "markdown",
   "metadata": {},
   "source": [
    "In this case the Fisher's has returned a zero value. A p-value of 0 means that the likelihood אלהים and יהוה are *not* dependent variables is essentially null. We can thus reject the null hypothesis that the two values are not related. There is, rather, a maximum level of confidence that these two values *are* interrelated. The `np.inf` value that resulted from `log10(0)` is not viable for calculating vector distances. Thus, we need to substitute an arbitrary, but appropriate value. Below we access the lowest non-zero p-values in the dataset."
   ]
  },
  {
   "cell_type": "code",
   "execution_count": 85,
   "metadata": {},
   "outputs": [
    {
     "data": {
      "text/plain": [
       "T.appo→ יהוה.n1                 inf\n",
       "T.ב.Cmpl→ שׁמע.v1.qal    188.689499\n",
       "T.ב.Cmpl→ נתן.v1.qal     171.121843\n",
       "T.Objc→ קרא.v1.qal       160.234309\n",
       "T.Objc→ כרת.v1.qal       130.292934\n",
       "                            ...    \n",
       "T.Subj→ אמן.v1.hif         1.030917\n",
       "T.Subj→ פדה.v1.qal         1.030917\n",
       "T.Subj→ בזז.v1.qal         1.030917\n",
       "T.את.Adju→ עלה.v1.qal      1.030917\n",
       "T.Subj→ פרץ.v1.qal         1.022598\n",
       "Length: 4181, dtype: float64"
      ]
     },
     "execution_count": 85,
     "metadata": {},
     "output_type": "execute_result"
    }
   ],
   "source": [
    "fisherdata.max().sort_values(ascending=False)"
   ]
  },
  {
   "cell_type": "markdown",
   "metadata": {},
   "source": [
    "The largest non-infinite value is ~189. We make the substitution below."
   ]
  },
  {
   "cell_type": "code",
   "execution_count": 89,
   "metadata": {},
   "outputs": [],
   "source": [
    "# set the infinite context equal to max non-infinite value\n",
    "fisherdata.loc['אלהים.n1']['T.appo→ יהוה.n1'] = fisherdata.max().sort_values(ascending=False)[1]"
   ]
  },
  {
   "cell_type": "markdown",
   "metadata": {},
   "source": [
    "Below we double to check to ensure that all infinitive values have been removed. The test should read `False`."
   ]
  },
  {
   "cell_type": "code",
   "execution_count": 91,
   "metadata": {},
   "outputs": [
    {
     "data": {
      "text/plain": [
       "False"
      ]
     },
     "execution_count": 91,
     "metadata": {},
     "output_type": "execute_result"
    }
   ],
   "source": [
    "# infinites in dataset?\n",
    "bool(len(fisherdata[(fisherdata == np.inf).any(1)].index))"
   ]
  },
  {
   "cell_type": "code",
   "execution_count": 291,
   "metadata": {},
   "outputs": [
    {
     "data": {
      "text/html": [
       "<div>\n",
       "<style scoped>\n",
       "    .dataframe tbody tr th:only-of-type {\n",
       "        vertical-align: middle;\n",
       "    }\n",
       "\n",
       "    .dataframe tbody tr th {\n",
       "        vertical-align: top;\n",
       "    }\n",
       "\n",
       "    .dataframe thead th {\n",
       "        text-align: right;\n",
       "    }\n",
       "</style>\n",
       "<table border=\"1\" class=\"dataframe\">\n",
       "  <thead>\n",
       "    <tr style=\"text-align: right;\">\n",
       "      <th></th>\n",
       "      <th>T.appo→ יהוה.n1</th>\n",
       "      <th>T.Subj→ אמר.v1.qal</th>\n",
       "      <th>T.coord→ בן.n1</th>\n",
       "      <th>T.ב.Cmpl→ נתן.v1.qal</th>\n",
       "      <th>T.appo→ בן.n1</th>\n",
       "      <th>בן.n1.appo→ T</th>\n",
       "      <th>T.Objc→ שׁמע.v1.qal</th>\n",
       "      <th>T.Objc→ שׁמר.v1.qal</th>\n",
       "      <th>בן.n1.coord→ T</th>\n",
       "      <th>T.Objc→ אכל.v1.qal</th>\n",
       "      <th>...</th>\n",
       "      <th>נסך.n1.coord→ T</th>\n",
       "      <th>T.Objc→ כבס.v1.piel</th>\n",
       "      <th>סביב.n1.coord→ T</th>\n",
       "      <th>T.coord→ אדם.n1</th>\n",
       "      <th>T.coord→ סביב.n1</th>\n",
       "      <th>T.ב.Cmpl→ רחץ.v1.qal</th>\n",
       "      <th>פרשׁ.n1.coord→ T</th>\n",
       "      <th>T.coord→ חרב.n1</th>\n",
       "      <th>דור.n1.coord→ T</th>\n",
       "      <th>מטה.n1.coord→ T</th>\n",
       "    </tr>\n",
       "  </thead>\n",
       "  <tbody>\n",
       "    <tr>\n",
       "      <th>בן.n1</th>\n",
       "      <td>-22.506257</td>\n",
       "      <td>-0.530153</td>\n",
       "      <td>74.015168</td>\n",
       "      <td>-5.927069</td>\n",
       "      <td>91.050580</td>\n",
       "      <td>92.150457</td>\n",
       "      <td>-6.196238</td>\n",
       "      <td>-6.196238</td>\n",
       "      <td>120.530272</td>\n",
       "      <td>-3.560009</td>\n",
       "      <td>...</td>\n",
       "      <td>-0.771271</td>\n",
       "      <td>-0.774392</td>\n",
       "      <td>-0.775124</td>\n",
       "      <td>-0.775124</td>\n",
       "      <td>-0.568654</td>\n",
       "      <td>-0.568654</td>\n",
       "      <td>-0.583030</td>\n",
       "      <td>-0.583030</td>\n",
       "      <td>-0.587630</td>\n",
       "      <td>-0.384717</td>\n",
       "    </tr>\n",
       "    <tr>\n",
       "      <th>מלך.n1</th>\n",
       "      <td>-8.701775</td>\n",
       "      <td>78.217023</td>\n",
       "      <td>-5.200123</td>\n",
       "      <td>-3.502371</td>\n",
       "      <td>5.622628</td>\n",
       "      <td>-2.100684</td>\n",
       "      <td>-2.994093</td>\n",
       "      <td>-2.994093</td>\n",
       "      <td>-1.945279</td>\n",
       "      <td>-2.827395</td>\n",
       "      <td>...</td>\n",
       "      <td>-0.198711</td>\n",
       "      <td>-0.200197</td>\n",
       "      <td>-0.201461</td>\n",
       "      <td>-0.201461</td>\n",
       "      <td>-0.202482</td>\n",
       "      <td>-0.202482</td>\n",
       "      <td>-0.203712</td>\n",
       "      <td>-0.203712</td>\n",
       "      <td>-0.203875</td>\n",
       "      <td>0.000000</td>\n",
       "    </tr>\n",
       "    <tr>\n",
       "      <th>ארץ.n1</th>\n",
       "      <td>-10.056006</td>\n",
       "      <td>-4.605041</td>\n",
       "      <td>-4.681587</td>\n",
       "      <td>0.236182</td>\n",
       "      <td>-2.821058</td>\n",
       "      <td>-2.622991</td>\n",
       "      <td>-2.638327</td>\n",
       "      <td>-2.638327</td>\n",
       "      <td>-2.453291</td>\n",
       "      <td>-0.270582</td>\n",
       "      <td>...</td>\n",
       "      <td>-0.202199</td>\n",
       "      <td>-0.202857</td>\n",
       "      <td>0.565824</td>\n",
       "      <td>-0.203278</td>\n",
       "      <td>-0.000000</td>\n",
       "      <td>-0.203447</td>\n",
       "      <td>0.000000</td>\n",
       "      <td>0.000000</td>\n",
       "      <td>0.000000</td>\n",
       "      <td>0.000000</td>\n",
       "    </tr>\n",
       "    <tr>\n",
       "      <th>אלהים.n1</th>\n",
       "      <td>188.689499</td>\n",
       "      <td>12.373411</td>\n",
       "      <td>-5.197390</td>\n",
       "      <td>-3.498212</td>\n",
       "      <td>-2.955884</td>\n",
       "      <td>-2.977101</td>\n",
       "      <td>-2.991086</td>\n",
       "      <td>-2.991086</td>\n",
       "      <td>-2.813521</td>\n",
       "      <td>-2.827538</td>\n",
       "      <td>...</td>\n",
       "      <td>-0.198418</td>\n",
       "      <td>-0.199954</td>\n",
       "      <td>-0.201269</td>\n",
       "      <td>-0.201269</td>\n",
       "      <td>-0.202343</td>\n",
       "      <td>-0.202343</td>\n",
       "      <td>-0.203680</td>\n",
       "      <td>-0.203680</td>\n",
       "      <td>-0.203897</td>\n",
       "      <td>0.000000</td>\n",
       "    </tr>\n",
       "    <tr>\n",
       "      <th>אישׁ.n1</th>\n",
       "      <td>-10.269249</td>\n",
       "      <td>9.407068</td>\n",
       "      <td>-3.500331</td>\n",
       "      <td>-1.566124</td>\n",
       "      <td>-0.767762</td>\n",
       "      <td>-0.159067</td>\n",
       "      <td>-1.782764</td>\n",
       "      <td>-1.782764</td>\n",
       "      <td>-0.373516</td>\n",
       "      <td>-1.002987</td>\n",
       "      <td>...</td>\n",
       "      <td>-0.202070</td>\n",
       "      <td>-0.202774</td>\n",
       "      <td>-0.203243</td>\n",
       "      <td>0.000000</td>\n",
       "      <td>-0.203460</td>\n",
       "      <td>-0.203460</td>\n",
       "      <td>0.000000</td>\n",
       "      <td>0.000000</td>\n",
       "      <td>0.000000</td>\n",
       "      <td>0.000000</td>\n",
       "    </tr>\n",
       "    <tr>\n",
       "      <th>...</th>\n",
       "      <td>...</td>\n",
       "      <td>...</td>\n",
       "      <td>...</td>\n",
       "      <td>...</td>\n",
       "      <td>...</td>\n",
       "      <td>...</td>\n",
       "      <td>...</td>\n",
       "      <td>...</td>\n",
       "      <td>...</td>\n",
       "      <td>...</td>\n",
       "      <td>...</td>\n",
       "      <td>...</td>\n",
       "      <td>...</td>\n",
       "      <td>...</td>\n",
       "      <td>...</td>\n",
       "      <td>...</td>\n",
       "      <td>...</td>\n",
       "      <td>...</td>\n",
       "      <td>...</td>\n",
       "      <td>...</td>\n",
       "      <td>...</td>\n",
       "    </tr>\n",
       "    <tr>\n",
       "      <th>מעל.n1</th>\n",
       "      <td>0.000000</td>\n",
       "      <td>0.000000</td>\n",
       "      <td>0.000000</td>\n",
       "      <td>0.000000</td>\n",
       "      <td>0.000000</td>\n",
       "      <td>0.000000</td>\n",
       "      <td>0.000000</td>\n",
       "      <td>0.000000</td>\n",
       "      <td>0.000000</td>\n",
       "      <td>0.000000</td>\n",
       "      <td>...</td>\n",
       "      <td>0.000000</td>\n",
       "      <td>0.000000</td>\n",
       "      <td>0.000000</td>\n",
       "      <td>0.000000</td>\n",
       "      <td>0.000000</td>\n",
       "      <td>0.000000</td>\n",
       "      <td>0.000000</td>\n",
       "      <td>0.000000</td>\n",
       "      <td>0.000000</td>\n",
       "      <td>0.000000</td>\n",
       "    </tr>\n",
       "    <tr>\n",
       "      <th>קדם.n1</th>\n",
       "      <td>0.000000</td>\n",
       "      <td>0.000000</td>\n",
       "      <td>0.000000</td>\n",
       "      <td>0.000000</td>\n",
       "      <td>0.000000</td>\n",
       "      <td>0.000000</td>\n",
       "      <td>0.000000</td>\n",
       "      <td>0.000000</td>\n",
       "      <td>0.000000</td>\n",
       "      <td>0.000000</td>\n",
       "      <td>...</td>\n",
       "      <td>0.000000</td>\n",
       "      <td>0.000000</td>\n",
       "      <td>0.000000</td>\n",
       "      <td>0.000000</td>\n",
       "      <td>0.000000</td>\n",
       "      <td>0.000000</td>\n",
       "      <td>0.000000</td>\n",
       "      <td>0.000000</td>\n",
       "      <td>0.000000</td>\n",
       "      <td>0.000000</td>\n",
       "    </tr>\n",
       "    <tr>\n",
       "      <th>מספר.n1</th>\n",
       "      <td>0.000000</td>\n",
       "      <td>0.000000</td>\n",
       "      <td>0.000000</td>\n",
       "      <td>0.000000</td>\n",
       "      <td>0.000000</td>\n",
       "      <td>0.000000</td>\n",
       "      <td>0.000000</td>\n",
       "      <td>0.000000</td>\n",
       "      <td>0.000000</td>\n",
       "      <td>0.000000</td>\n",
       "      <td>...</td>\n",
       "      <td>0.000000</td>\n",
       "      <td>0.000000</td>\n",
       "      <td>0.000000</td>\n",
       "      <td>0.000000</td>\n",
       "      <td>0.000000</td>\n",
       "      <td>0.000000</td>\n",
       "      <td>0.000000</td>\n",
       "      <td>0.000000</td>\n",
       "      <td>0.000000</td>\n",
       "      <td>0.000000</td>\n",
       "    </tr>\n",
       "    <tr>\n",
       "      <th>רב.n2</th>\n",
       "      <td>0.000000</td>\n",
       "      <td>0.000000</td>\n",
       "      <td>0.000000</td>\n",
       "      <td>0.000000</td>\n",
       "      <td>0.000000</td>\n",
       "      <td>0.000000</td>\n",
       "      <td>0.000000</td>\n",
       "      <td>0.000000</td>\n",
       "      <td>0.000000</td>\n",
       "      <td>0.000000</td>\n",
       "      <td>...</td>\n",
       "      <td>0.000000</td>\n",
       "      <td>0.000000</td>\n",
       "      <td>0.000000</td>\n",
       "      <td>0.000000</td>\n",
       "      <td>0.000000</td>\n",
       "      <td>0.000000</td>\n",
       "      <td>0.000000</td>\n",
       "      <td>0.000000</td>\n",
       "      <td>0.000000</td>\n",
       "      <td>0.000000</td>\n",
       "    </tr>\n",
       "    <tr>\n",
       "      <th>פאה.n1</th>\n",
       "      <td>0.000000</td>\n",
       "      <td>0.000000</td>\n",
       "      <td>0.000000</td>\n",
       "      <td>0.000000</td>\n",
       "      <td>0.000000</td>\n",
       "      <td>0.000000</td>\n",
       "      <td>0.000000</td>\n",
       "      <td>0.000000</td>\n",
       "      <td>0.000000</td>\n",
       "      <td>1.122686</td>\n",
       "      <td>...</td>\n",
       "      <td>0.000000</td>\n",
       "      <td>0.000000</td>\n",
       "      <td>0.000000</td>\n",
       "      <td>0.000000</td>\n",
       "      <td>0.000000</td>\n",
       "      <td>0.000000</td>\n",
       "      <td>0.000000</td>\n",
       "      <td>0.000000</td>\n",
       "      <td>0.000000</td>\n",
       "      <td>0.000000</td>\n",
       "    </tr>\n",
       "  </tbody>\n",
       "</table>\n",
       "<p>199 rows × 73 columns</p>\n",
       "</div>"
      ],
      "text/plain": [
       "          T.appo→ יהוה.n1  T.Subj→ אמר.v1.qal  T.coord→ בן.n1  \\\n",
       "בן.n1          -22.506257           -0.530153       74.015168   \n",
       "מלך.n1          -8.701775           78.217023       -5.200123   \n",
       "ארץ.n1         -10.056006           -4.605041       -4.681587   \n",
       "אלהים.n1       188.689499           12.373411       -5.197390   \n",
       "אישׁ.n1        -10.269249            9.407068       -3.500331   \n",
       "...                   ...                 ...             ...   \n",
       "מעל.n1           0.000000            0.000000        0.000000   \n",
       "קדם.n1           0.000000            0.000000        0.000000   \n",
       "מספר.n1          0.000000            0.000000        0.000000   \n",
       "רב.n2            0.000000            0.000000        0.000000   \n",
       "פאה.n1           0.000000            0.000000        0.000000   \n",
       "\n",
       "          T.ב.Cmpl→ נתן.v1.qal  T.appo→ בן.n1  בן.n1.appo→ T  \\\n",
       "בן.n1                -5.927069      91.050580      92.150457   \n",
       "מלך.n1               -3.502371       5.622628      -2.100684   \n",
       "ארץ.n1                0.236182      -2.821058      -2.622991   \n",
       "אלהים.n1             -3.498212      -2.955884      -2.977101   \n",
       "אישׁ.n1              -1.566124      -0.767762      -0.159067   \n",
       "...                        ...            ...            ...   \n",
       "מעל.n1                0.000000       0.000000       0.000000   \n",
       "קדם.n1                0.000000       0.000000       0.000000   \n",
       "מספר.n1               0.000000       0.000000       0.000000   \n",
       "רב.n2                 0.000000       0.000000       0.000000   \n",
       "פאה.n1                0.000000       0.000000       0.000000   \n",
       "\n",
       "          T.Objc→ שׁמע.v1.qal  T.Objc→ שׁמר.v1.qal  בן.n1.coord→ T  \\\n",
       "בן.n1               -6.196238            -6.196238      120.530272   \n",
       "מלך.n1              -2.994093            -2.994093       -1.945279   \n",
       "ארץ.n1              -2.638327            -2.638327       -2.453291   \n",
       "אלהים.n1            -2.991086            -2.991086       -2.813521   \n",
       "אישׁ.n1             -1.782764            -1.782764       -0.373516   \n",
       "...                       ...                  ...             ...   \n",
       "מעל.n1               0.000000             0.000000        0.000000   \n",
       "קדם.n1               0.000000             0.000000        0.000000   \n",
       "מספר.n1              0.000000             0.000000        0.000000   \n",
       "רב.n2                0.000000             0.000000        0.000000   \n",
       "פאה.n1               0.000000             0.000000        0.000000   \n",
       "\n",
       "          T.Objc→ אכל.v1.qal  ...  נסך.n1.coord→ T  T.Objc→ כבס.v1.piel  \\\n",
       "בן.n1              -3.560009  ...        -0.771271            -0.774392   \n",
       "מלך.n1             -2.827395  ...        -0.198711            -0.200197   \n",
       "ארץ.n1             -0.270582  ...        -0.202199            -0.202857   \n",
       "אלהים.n1           -2.827538  ...        -0.198418            -0.199954   \n",
       "אישׁ.n1            -1.002987  ...        -0.202070            -0.202774   \n",
       "...                      ...  ...              ...                  ...   \n",
       "מעל.n1              0.000000  ...         0.000000             0.000000   \n",
       "קדם.n1              0.000000  ...         0.000000             0.000000   \n",
       "מספר.n1             0.000000  ...         0.000000             0.000000   \n",
       "רב.n2               0.000000  ...         0.000000             0.000000   \n",
       "פאה.n1              1.122686  ...         0.000000             0.000000   \n",
       "\n",
       "          סביב.n1.coord→ T  T.coord→ אדם.n1  T.coord→ סביב.n1  \\\n",
       "בן.n1            -0.775124        -0.775124         -0.568654   \n",
       "מלך.n1           -0.201461        -0.201461         -0.202482   \n",
       "ארץ.n1            0.565824        -0.203278         -0.000000   \n",
       "אלהים.n1         -0.201269        -0.201269         -0.202343   \n",
       "אישׁ.n1          -0.203243         0.000000         -0.203460   \n",
       "...                    ...              ...               ...   \n",
       "מעל.n1            0.000000         0.000000          0.000000   \n",
       "קדם.n1            0.000000         0.000000          0.000000   \n",
       "מספר.n1           0.000000         0.000000          0.000000   \n",
       "רב.n2             0.000000         0.000000          0.000000   \n",
       "פאה.n1            0.000000         0.000000          0.000000   \n",
       "\n",
       "          T.ב.Cmpl→ רחץ.v1.qal  פרשׁ.n1.coord→ T  T.coord→ חרב.n1  \\\n",
       "בן.n1                -0.568654         -0.583030        -0.583030   \n",
       "מלך.n1               -0.202482         -0.203712        -0.203712   \n",
       "ארץ.n1               -0.203447          0.000000         0.000000   \n",
       "אלהים.n1             -0.202343         -0.203680        -0.203680   \n",
       "אישׁ.n1              -0.203460          0.000000         0.000000   \n",
       "...                        ...               ...              ...   \n",
       "מעל.n1                0.000000          0.000000         0.000000   \n",
       "קדם.n1                0.000000          0.000000         0.000000   \n",
       "מספר.n1               0.000000          0.000000         0.000000   \n",
       "רב.n2                 0.000000          0.000000         0.000000   \n",
       "פאה.n1                0.000000          0.000000         0.000000   \n",
       "\n",
       "          דור.n1.coord→ T  מטה.n1.coord→ T  \n",
       "בן.n1           -0.587630        -0.384717  \n",
       "מלך.n1          -0.203875         0.000000  \n",
       "ארץ.n1           0.000000         0.000000  \n",
       "אלהים.n1        -0.203897         0.000000  \n",
       "אישׁ.n1          0.000000         0.000000  \n",
       "...                   ...              ...  \n",
       "מעל.n1           0.000000         0.000000  \n",
       "קדם.n1           0.000000         0.000000  \n",
       "מספר.n1          0.000000         0.000000  \n",
       "רב.n2            0.000000         0.000000  \n",
       "פאה.n1           0.000000         0.000000  \n",
       "\n",
       "[199 rows x 73 columns]"
      ]
     },
     "execution_count": 291,
     "metadata": {},
     "output_type": "execute_result"
    }
   ],
   "source": [
    "fisherdata.loc[:, (fisherdata > 50).any()]"
   ]
  },
  {
   "cell_type": "markdown",
   "metadata": {},
   "source": [
    "## Examine the Spread of Fisher Scores"
   ]
  },
  {
   "cell_type": "code",
   "execution_count": 335,
   "metadata": {},
   "outputs": [
    {
     "data": {
      "text/plain": [
       "(21622,)"
      ]
     },
     "execution_count": 335,
     "metadata": {},
     "output_type": "execute_result"
    }
   ],
   "source": [
    "scores = pd.Series(fisherdata.values.flatten())\n",
    "scores = scores[scores != 0]\n",
    "scores.shape"
   ]
  },
  {
   "cell_type": "code",
   "execution_count": 591,
   "metadata": {},
   "outputs": [
    {
     "data": {
      "text/plain": [
       "[Text(0, 0, 'Fisher score')]"
      ]
     },
     "execution_count": 591,
     "metadata": {},
     "output_type": "execute_result"
    },
    {
     "data": {
      "image/png": "[encoded data removed]",
      "text/plain": [
       "<Figure size 576x360 with 1 Axes>"
      ]
     },
     "metadata": {
      "needs_background": "light"
     },
     "output_type": "display_data"
    }
   ],
   "source": [
    "fig, ax = plt.subplots(figsize=(8, 5))\n",
    "scores.plot(kind='box', ax=ax)\n",
    "ax1.set_xticklabels(['Fisher score'])"
   ]
  },
  {
   "cell_type": "code",
   "execution_count": 402,
   "metadata": {},
   "outputs": [
    {
     "data": {
      "image/png": "[encoded data removed]",
      "text/plain": [
       "<Figure size 576x360 with 1 Axes>"
      ]
     },
     "metadata": {
      "needs_background": "light"
     },
     "output_type": "display_data"
    }
   ],
   "source": [
    "fig, ax = plt.subplots(figsize=(8, 5))\n",
    "scores[(scores > -2) & (scores < 4)].plot(kind='box', ax=ax)\n",
    "ax.set_xticklabels(['Fisher score'])\n",
    "plt.show()"
   ]
  },
  {
   "cell_type": "code",
   "execution_count": 600,
   "metadata": {},
   "outputs": [
    {
     "data": {
      "image/png": "[encoded data removed]",
      "text/plain": [
       "<Figure size 720x360 with 2 Axes>"
      ]
     },
     "metadata": {
      "needs_background": "light"
     },
     "output_type": "display_data"
    }
   ],
   "source": [
    "fig, (ax1, ax2) = plt.subplots(1, 2, figsize=(10, 5))\n",
    "sns.distplot(scores, ax=ax1)\n",
    "scores[scores < 10].plot(kind='box', ax=ax2)\n",
    "ax1.set_xlabel('log10 Fisher scores')\n",
    "ax2.set_xticklabels(['log10 Fisher score < 10'])\n",
    "savefig('fisher_score_dist.svg')\n",
    "plt.show()"
   ]
  },
  {
   "cell_type": "markdown",
   "metadata": {},
   "source": [
    "Note that the vast majority of the data falls between a score of $-2$ to $4$."
   ]
  },
  {
   "cell_type": "code",
   "execution_count": 596,
   "metadata": {},
   "outputs": [],
   "source": [
    "extreme_values = ((fisherdata > -2) & (fisherdata < 4)).any()"
   ]
  },
  {
   "cell_type": "code",
   "execution_count": 597,
   "metadata": {},
   "outputs": [
    {
     "data": {
      "text/plain": [
       "4181"
      ]
     },
     "execution_count": 597,
     "metadata": {},
     "output_type": "execute_result"
    }
   ],
   "source": [
    "extreme_values.size"
   ]
  },
  {
   "cell_type": "code",
   "execution_count": 598,
   "metadata": {},
   "outputs": [
    {
     "data": {
      "text/plain": [
       "4181"
      ]
     },
     "execution_count": 598,
     "metadata": {},
     "output_type": "execute_result"
    }
   ],
   "source": [
    "fisherdata.columns.size"
   ]
  },
  {
   "cell_type": "code",
   "execution_count": 491,
   "metadata": {},
   "outputs": [],
   "source": [
    "fish_mean = fisherdata.copy()\n",
    "\n",
    "def replace_score(score):\n",
    "    if score < -2:\n",
    "        return -2\n",
    "    elif score > 4:\n",
    "        return 4\n",
    "    else:\n",
    "        return score\n",
    "    \n",
    "fish_mean = fish_mean.apply(lambda x: pd.Series(replace_score(y) for y in x), result_type='broadcast')"
   ]
  },
  {
   "cell_type": "code",
   "execution_count": 492,
   "metadata": {},
   "outputs": [
    {
     "data": {
      "text/html": [
       "<div>\n",
       "<style scoped>\n",
       "    .dataframe tbody tr th:only-of-type {\n",
       "        vertical-align: middle;\n",
       "    }\n",
       "\n",
       "    .dataframe tbody tr th {\n",
       "        vertical-align: top;\n",
       "    }\n",
       "\n",
       "    .dataframe thead th {\n",
       "        text-align: right;\n",
       "    }\n",
       "</style>\n",
       "<table border=\"1\" class=\"dataframe\">\n",
       "  <thead>\n",
       "    <tr style=\"text-align: right;\">\n",
       "      <th></th>\n",
       "      <th>T.appo→ יהוה.n1</th>\n",
       "      <th>T.Objc→ נתן.v1.qal</th>\n",
       "      <th>T.Objc→ עשׂה.v1.qal</th>\n",
       "      <th>T.Objc→ לקח.v1.qal</th>\n",
       "      <th>T.Subj→ אמר.v1.qal</th>\n",
       "      <th>T.Subj→ בוא.v1.qal</th>\n",
       "      <th>T.coord→ בן.n1</th>\n",
       "      <th>T.ל.Cmpl→ נתן.v1.qal</th>\n",
       "      <th>T.Objc→ נשׂא.v1.qal</th>\n",
       "      <th>T.Objc→ שׂים.v1.qal</th>\n",
       "      <th>...</th>\n",
       "      <th>T.על.Cmpl→ כבד.v1.qal</th>\n",
       "      <th>T.Subj→ כלם.v1.hif</th>\n",
       "      <th>חרפה.n1.coord→ T</th>\n",
       "      <th>רך.n1.PreC→ T.Subj</th>\n",
       "      <th>חרץ.v1.PreC→ T.Subj</th>\n",
       "      <th>חתם.v1.PreC→ T.Subj</th>\n",
       "      <th>T.עד.Time→ עמד.v1.hif</th>\n",
       "      <th>T.Objc→ שׁלם.v1.hif</th>\n",
       "      <th>T.Objc→ שׁלל.v1.qal</th>\n",
       "      <th>T.Subj→ כתת.v1.hof</th>\n",
       "    </tr>\n",
       "  </thead>\n",
       "  <tbody>\n",
       "    <tr>\n",
       "      <th>בן.n1</th>\n",
       "      <td>-2.0</td>\n",
       "      <td>-2.0</td>\n",
       "      <td>-2.000000</td>\n",
       "      <td>-0.732143</td>\n",
       "      <td>-0.530153</td>\n",
       "      <td>1.123235</td>\n",
       "      <td>4.0</td>\n",
       "      <td>1.963515</td>\n",
       "      <td>-2.000000</td>\n",
       "      <td>-2.000000</td>\n",
       "      <td>...</td>\n",
       "      <td>0.000000</td>\n",
       "      <td>0.0</td>\n",
       "      <td>0.879459</td>\n",
       "      <td>0.0</td>\n",
       "      <td>0.0</td>\n",
       "      <td>0.0</td>\n",
       "      <td>0.0</td>\n",
       "      <td>0.0</td>\n",
       "      <td>0.0</td>\n",
       "      <td>0.0</td>\n",
       "    </tr>\n",
       "    <tr>\n",
       "      <th>מלך.n1</th>\n",
       "      <td>-2.0</td>\n",
       "      <td>-2.0</td>\n",
       "      <td>-2.000000</td>\n",
       "      <td>-2.000000</td>\n",
       "      <td>4.000000</td>\n",
       "      <td>3.860716</td>\n",
       "      <td>-2.0</td>\n",
       "      <td>0.370243</td>\n",
       "      <td>-2.000000</td>\n",
       "      <td>-0.635022</td>\n",
       "      <td>...</td>\n",
       "      <td>0.000000</td>\n",
       "      <td>0.0</td>\n",
       "      <td>0.000000</td>\n",
       "      <td>0.0</td>\n",
       "      <td>0.0</td>\n",
       "      <td>0.0</td>\n",
       "      <td>0.0</td>\n",
       "      <td>0.0</td>\n",
       "      <td>0.0</td>\n",
       "      <td>0.0</td>\n",
       "    </tr>\n",
       "    <tr>\n",
       "      <th>ארץ.n1</th>\n",
       "      <td>-2.0</td>\n",
       "      <td>4.0</td>\n",
       "      <td>-1.126735</td>\n",
       "      <td>-0.989002</td>\n",
       "      <td>-2.000000</td>\n",
       "      <td>-2.000000</td>\n",
       "      <td>-2.0</td>\n",
       "      <td>-2.000000</td>\n",
       "      <td>-2.000000</td>\n",
       "      <td>-0.431153</td>\n",
       "      <td>...</td>\n",
       "      <td>0.000000</td>\n",
       "      <td>0.0</td>\n",
       "      <td>0.000000</td>\n",
       "      <td>0.0</td>\n",
       "      <td>0.0</td>\n",
       "      <td>0.0</td>\n",
       "      <td>0.0</td>\n",
       "      <td>0.0</td>\n",
       "      <td>0.0</td>\n",
       "      <td>0.0</td>\n",
       "    </tr>\n",
       "    <tr>\n",
       "      <th>אלהים.n1</th>\n",
       "      <td>4.0</td>\n",
       "      <td>-2.0</td>\n",
       "      <td>-2.000000</td>\n",
       "      <td>-2.000000</td>\n",
       "      <td>4.000000</td>\n",
       "      <td>-0.702152</td>\n",
       "      <td>-2.0</td>\n",
       "      <td>-1.411536</td>\n",
       "      <td>-2.000000</td>\n",
       "      <td>-1.995487</td>\n",
       "      <td>...</td>\n",
       "      <td>0.000000</td>\n",
       "      <td>0.0</td>\n",
       "      <td>0.000000</td>\n",
       "      <td>0.0</td>\n",
       "      <td>0.0</td>\n",
       "      <td>0.0</td>\n",
       "      <td>0.0</td>\n",
       "      <td>0.0</td>\n",
       "      <td>0.0</td>\n",
       "      <td>0.0</td>\n",
       "    </tr>\n",
       "    <tr>\n",
       "      <th>אישׁ.n1</th>\n",
       "      <td>-2.0</td>\n",
       "      <td>-2.0</td>\n",
       "      <td>-2.000000</td>\n",
       "      <td>1.865083</td>\n",
       "      <td>4.000000</td>\n",
       "      <td>4.000000</td>\n",
       "      <td>-2.0</td>\n",
       "      <td>0.862503</td>\n",
       "      <td>-2.000000</td>\n",
       "      <td>-2.000000</td>\n",
       "      <td>...</td>\n",
       "      <td>1.200033</td>\n",
       "      <td>0.0</td>\n",
       "      <td>0.000000</td>\n",
       "      <td>0.0</td>\n",
       "      <td>0.0</td>\n",
       "      <td>0.0</td>\n",
       "      <td>0.0</td>\n",
       "      <td>0.0</td>\n",
       "      <td>0.0</td>\n",
       "      <td>0.0</td>\n",
       "    </tr>\n",
       "    <tr>\n",
       "      <th>...</th>\n",
       "      <td>...</td>\n",
       "      <td>...</td>\n",
       "      <td>...</td>\n",
       "      <td>...</td>\n",
       "      <td>...</td>\n",
       "      <td>...</td>\n",
       "      <td>...</td>\n",
       "      <td>...</td>\n",
       "      <td>...</td>\n",
       "      <td>...</td>\n",
       "      <td>...</td>\n",
       "      <td>...</td>\n",
       "      <td>...</td>\n",
       "      <td>...</td>\n",
       "      <td>...</td>\n",
       "      <td>...</td>\n",
       "      <td>...</td>\n",
       "      <td>...</td>\n",
       "      <td>...</td>\n",
       "      <td>...</td>\n",
       "      <td>...</td>\n",
       "    </tr>\n",
       "    <tr>\n",
       "      <th>מעל.n1</th>\n",
       "      <td>0.0</td>\n",
       "      <td>0.0</td>\n",
       "      <td>0.000000</td>\n",
       "      <td>0.000000</td>\n",
       "      <td>0.000000</td>\n",
       "      <td>0.000000</td>\n",
       "      <td>0.0</td>\n",
       "      <td>0.000000</td>\n",
       "      <td>0.000000</td>\n",
       "      <td>0.000000</td>\n",
       "      <td>...</td>\n",
       "      <td>0.000000</td>\n",
       "      <td>0.0</td>\n",
       "      <td>0.000000</td>\n",
       "      <td>0.0</td>\n",
       "      <td>0.0</td>\n",
       "      <td>0.0</td>\n",
       "      <td>0.0</td>\n",
       "      <td>0.0</td>\n",
       "      <td>0.0</td>\n",
       "      <td>0.0</td>\n",
       "    </tr>\n",
       "    <tr>\n",
       "      <th>קדם.n1</th>\n",
       "      <td>0.0</td>\n",
       "      <td>0.0</td>\n",
       "      <td>0.000000</td>\n",
       "      <td>0.000000</td>\n",
       "      <td>0.000000</td>\n",
       "      <td>0.000000</td>\n",
       "      <td>0.0</td>\n",
       "      <td>0.000000</td>\n",
       "      <td>0.000000</td>\n",
       "      <td>0.000000</td>\n",
       "      <td>...</td>\n",
       "      <td>0.000000</td>\n",
       "      <td>0.0</td>\n",
       "      <td>0.000000</td>\n",
       "      <td>0.0</td>\n",
       "      <td>0.0</td>\n",
       "      <td>0.0</td>\n",
       "      <td>0.0</td>\n",
       "      <td>0.0</td>\n",
       "      <td>0.0</td>\n",
       "      <td>0.0</td>\n",
       "    </tr>\n",
       "    <tr>\n",
       "      <th>מספר.n1</th>\n",
       "      <td>0.0</td>\n",
       "      <td>0.0</td>\n",
       "      <td>0.000000</td>\n",
       "      <td>0.000000</td>\n",
       "      <td>0.000000</td>\n",
       "      <td>0.000000</td>\n",
       "      <td>0.0</td>\n",
       "      <td>0.000000</td>\n",
       "      <td>0.987456</td>\n",
       "      <td>0.000000</td>\n",
       "      <td>...</td>\n",
       "      <td>0.000000</td>\n",
       "      <td>0.0</td>\n",
       "      <td>0.000000</td>\n",
       "      <td>0.0</td>\n",
       "      <td>0.0</td>\n",
       "      <td>0.0</td>\n",
       "      <td>0.0</td>\n",
       "      <td>0.0</td>\n",
       "      <td>0.0</td>\n",
       "      <td>0.0</td>\n",
       "    </tr>\n",
       "    <tr>\n",
       "      <th>רב.n2</th>\n",
       "      <td>0.0</td>\n",
       "      <td>0.0</td>\n",
       "      <td>0.000000</td>\n",
       "      <td>0.000000</td>\n",
       "      <td>0.000000</td>\n",
       "      <td>0.000000</td>\n",
       "      <td>0.0</td>\n",
       "      <td>0.000000</td>\n",
       "      <td>0.000000</td>\n",
       "      <td>0.000000</td>\n",
       "      <td>...</td>\n",
       "      <td>0.000000</td>\n",
       "      <td>0.0</td>\n",
       "      <td>0.000000</td>\n",
       "      <td>0.0</td>\n",
       "      <td>0.0</td>\n",
       "      <td>0.0</td>\n",
       "      <td>0.0</td>\n",
       "      <td>0.0</td>\n",
       "      <td>0.0</td>\n",
       "      <td>0.0</td>\n",
       "    </tr>\n",
       "    <tr>\n",
       "      <th>פאה.n1</th>\n",
       "      <td>0.0</td>\n",
       "      <td>0.0</td>\n",
       "      <td>0.000000</td>\n",
       "      <td>0.000000</td>\n",
       "      <td>0.000000</td>\n",
       "      <td>0.000000</td>\n",
       "      <td>0.0</td>\n",
       "      <td>0.000000</td>\n",
       "      <td>0.000000</td>\n",
       "      <td>0.000000</td>\n",
       "      <td>...</td>\n",
       "      <td>0.000000</td>\n",
       "      <td>0.0</td>\n",
       "      <td>0.000000</td>\n",
       "      <td>0.0</td>\n",
       "      <td>0.0</td>\n",
       "      <td>0.0</td>\n",
       "      <td>0.0</td>\n",
       "      <td>0.0</td>\n",
       "      <td>0.0</td>\n",
       "      <td>0.0</td>\n",
       "    </tr>\n",
       "  </tbody>\n",
       "</table>\n",
       "<p>199 rows × 4181 columns</p>\n",
       "</div>"
      ],
      "text/plain": [
       "          T.appo→ יהוה.n1  T.Objc→ נתן.v1.qal  T.Objc→ עשׂה.v1.qal  \\\n",
       "בן.n1                -2.0                -2.0            -2.000000   \n",
       "מלך.n1               -2.0                -2.0            -2.000000   \n",
       "ארץ.n1               -2.0                 4.0            -1.126735   \n",
       "אלהים.n1              4.0                -2.0            -2.000000   \n",
       "אישׁ.n1              -2.0                -2.0            -2.000000   \n",
       "...                   ...                 ...                  ...   \n",
       "מעל.n1                0.0                 0.0             0.000000   \n",
       "קדם.n1                0.0                 0.0             0.000000   \n",
       "מספר.n1               0.0                 0.0             0.000000   \n",
       "רב.n2                 0.0                 0.0             0.000000   \n",
       "פאה.n1                0.0                 0.0             0.000000   \n",
       "\n",
       "          T.Objc→ לקח.v1.qal  T.Subj→ אמר.v1.qal  T.Subj→ בוא.v1.qal  \\\n",
       "בן.n1              -0.732143           -0.530153            1.123235   \n",
       "מלך.n1             -2.000000            4.000000            3.860716   \n",
       "ארץ.n1             -0.989002           -2.000000           -2.000000   \n",
       "אלהים.n1           -2.000000            4.000000           -0.702152   \n",
       "אישׁ.n1             1.865083            4.000000            4.000000   \n",
       "...                      ...                 ...                 ...   \n",
       "מעל.n1              0.000000            0.000000            0.000000   \n",
       "קדם.n1              0.000000            0.000000            0.000000   \n",
       "מספר.n1             0.000000            0.000000            0.000000   \n",
       "רב.n2               0.000000            0.000000            0.000000   \n",
       "פאה.n1              0.000000            0.000000            0.000000   \n",
       "\n",
       "          T.coord→ בן.n1  T.ל.Cmpl→ נתן.v1.qal  T.Objc→ נשׂא.v1.qal  \\\n",
       "בן.n1                4.0              1.963515            -2.000000   \n",
       "מלך.n1              -2.0              0.370243            -2.000000   \n",
       "ארץ.n1              -2.0             -2.000000            -2.000000   \n",
       "אלהים.n1            -2.0             -1.411536            -2.000000   \n",
       "אישׁ.n1             -2.0              0.862503            -2.000000   \n",
       "...                  ...                   ...                  ...   \n",
       "מעל.n1               0.0              0.000000             0.000000   \n",
       "קדם.n1               0.0              0.000000             0.000000   \n",
       "מספר.n1              0.0              0.000000             0.987456   \n",
       "רב.n2                0.0              0.000000             0.000000   \n",
       "פאה.n1               0.0              0.000000             0.000000   \n",
       "\n",
       "          T.Objc→ שׂים.v1.qal  ...  T.על.Cmpl→ כבד.v1.qal  T.Subj→ כלם.v1.hif  \\\n",
       "בן.n1               -2.000000  ...               0.000000                 0.0   \n",
       "מלך.n1              -0.635022  ...               0.000000                 0.0   \n",
       "ארץ.n1              -0.431153  ...               0.000000                 0.0   \n",
       "אלהים.n1            -1.995487  ...               0.000000                 0.0   \n",
       "אישׁ.n1             -2.000000  ...               1.200033                 0.0   \n",
       "...                       ...  ...                    ...                 ...   \n",
       "מעל.n1               0.000000  ...               0.000000                 0.0   \n",
       "קדם.n1               0.000000  ...               0.000000                 0.0   \n",
       "מספר.n1              0.000000  ...               0.000000                 0.0   \n",
       "רב.n2                0.000000  ...               0.000000                 0.0   \n",
       "פאה.n1               0.000000  ...               0.000000                 0.0   \n",
       "\n",
       "          חרפה.n1.coord→ T  רך.n1.PreC→ T.Subj  חרץ.v1.PreC→ T.Subj  \\\n",
       "בן.n1             0.879459                 0.0                  0.0   \n",
       "מלך.n1            0.000000                 0.0                  0.0   \n",
       "ארץ.n1            0.000000                 0.0                  0.0   \n",
       "אלהים.n1          0.000000                 0.0                  0.0   \n",
       "אישׁ.n1           0.000000                 0.0                  0.0   \n",
       "...                    ...                 ...                  ...   \n",
       "מעל.n1            0.000000                 0.0                  0.0   \n",
       "קדם.n1            0.000000                 0.0                  0.0   \n",
       "מספר.n1           0.000000                 0.0                  0.0   \n",
       "רב.n2             0.000000                 0.0                  0.0   \n",
       "פאה.n1            0.000000                 0.0                  0.0   \n",
       "\n",
       "          חתם.v1.PreC→ T.Subj  T.עד.Time→ עמד.v1.hif  T.Objc→ שׁלם.v1.hif  \\\n",
       "בן.n1                     0.0                    0.0                  0.0   \n",
       "מלך.n1                    0.0                    0.0                  0.0   \n",
       "ארץ.n1                    0.0                    0.0                  0.0   \n",
       "אלהים.n1                  0.0                    0.0                  0.0   \n",
       "אישׁ.n1                   0.0                    0.0                  0.0   \n",
       "...                       ...                    ...                  ...   \n",
       "מעל.n1                    0.0                    0.0                  0.0   \n",
       "קדם.n1                    0.0                    0.0                  0.0   \n",
       "מספר.n1                   0.0                    0.0                  0.0   \n",
       "רב.n2                     0.0                    0.0                  0.0   \n",
       "פאה.n1                    0.0                    0.0                  0.0   \n",
       "\n",
       "          T.Objc→ שׁלל.v1.qal  T.Subj→ כתת.v1.hof  \n",
       "בן.n1                     0.0                 0.0  \n",
       "מלך.n1                    0.0                 0.0  \n",
       "ארץ.n1                    0.0                 0.0  \n",
       "אלהים.n1                  0.0                 0.0  \n",
       "אישׁ.n1                   0.0                 0.0  \n",
       "...                       ...                 ...  \n",
       "מעל.n1                    0.0                 0.0  \n",
       "קדם.n1                    0.0                 0.0  \n",
       "מספר.n1                   0.0                 0.0  \n",
       "רב.n2                     0.0                 0.0  \n",
       "פאה.n1                    0.0                 0.0  \n",
       "\n",
       "[199 rows x 4181 columns]"
      ]
     },
     "execution_count": 492,
     "metadata": {},
     "output_type": "execute_result"
    }
   ],
   "source": [
    "fish_mean"
   ]
  },
  {
   "cell_type": "code",
   "execution_count": 448,
   "metadata": {},
   "outputs": [
    {
     "data": {
      "text/plain": [
       "T.ל.PreC→ עיר.n1.Subj    3.987793\n",
       "T.appo→ חנון.n2          3.987793\n",
       "T.appo→ אלחנן.n1         3.987793\n",
       "שׁמעי.n2.PreC→ T.Subj    3.987793\n",
       "T.appo→ אלישׁמע.n1       3.987793\n",
       "T.appo→ יונדב.n1         3.987793\n",
       "T.Subj→ יסף.v1.hif       3.725115\n",
       "T.appo→ אבישׁי.n1        3.534995\n",
       "T.appo→ שׂריה.n1         3.534995\n",
       "T.coord→ יהושׁע.n1       3.534995\n",
       "T.appo→ נתנאל.n1         3.534995\n",
       "T.appo→ יואל.n1          3.534995\n",
       "T.Subj→ זרק.v1.qal       3.534995\n",
       "T.Subj→ אסף.v1.nif       3.326448\n",
       "T.Subj→ ישׁב.v1.qal      3.206796\n",
       "T.appo→ צדקיהו.n1        3.195114\n",
       "T.appo→ יאשׁיהו.n1       3.191280\n",
       "T.appo→ עזריה.n1         3.191280\n",
       "T.ל.Cmpl→ יטב.v1.qal     3.191280\n",
       "T.appo→ יהויקים.n1       3.187603\n",
       "Name: בן.n1, dtype: float64"
      ]
     },
     "execution_count": 448,
     "metadata": {},
     "output_type": "execute_result"
    }
   ],
   "source": [
    "fish_mean.loc['בן.n1'].sort_values(ascending=False).head(20)"
   ]
  },
  {
   "cell_type": "markdown",
   "metadata": {},
   "source": [
    "## Comparing the Nouns\n",
    "\n",
    "The nouns are now ready to be compared.\n",
    "\n",
    "Principle Component Analysis — We have a semantic space with ~4k dimensions. That is a lot of potential angles from which to compare the vectors. One method that is commonly used in semantic space analysis is principle component analysis or **PCA**. PCA is a dimensionality reduction method that reduce a multi-dimensional vector to the two points in an imagined space that show the most distance between the nouns. We can visualize said space by plotting the two points on an X and Y axis."
   ]
  },
  {
   "cell_type": "markdown",
   "metadata": {},
   "source": [
    "### PCA Analysis\n",
    "\n",
    "We want to apply PCA in order to plot nouns in an imaginary space. The goal is to use the visualization to identify patterns and groups amongst the 199 target nouns. Nouns that are more similar should fall within the same general areas relative to the origin (0, 0). PCA seeks to identify the maximum variance amongst the vector spaces. "
   ]
  },
  {
   "cell_type": "markdown",
   "metadata": {},
   "source": [
    "## Fisher with adjusted max/min scores"
   ]
  },
  {
   "cell_type": "code",
   "execution_count": 601,
   "metadata": {},
   "outputs": [],
   "source": [
    "def plot_nouns(df, ax, family='serif', weight='heavy', **kwargs):\n",
    "    for noun in df.index:\n",
    "        x,y = df.loc[noun]\n",
    "        lex, sp = noun.split('.')\n",
    "        noun_text = get_display(lex).replace('\\u05C1','')\n",
    "        ax.text(x, y, noun_text, family=family, weight=weight, **kwargs)"
   ]
  },
  {
   "cell_type": "code",
   "execution_count": 493,
   "metadata": {},
   "outputs": [
    {
     "data": {
      "image/png": "[encoded data removed]",
      "text/plain": [
       "<Figure size 576x432 with 1 Axes>"
      ]
     },
     "metadata": {
      "needs_background": "light"
     },
     "output_type": "display_data"
    }
   ],
   "source": [
    "pca_df2, loadings_df2 = apply_pca(\n",
    "    fish_mean,\n",
    "    sample_axis=0,\n",
    "    feature_axis=1,\n",
    "    components=10\n",
    ")\n",
    "\n",
    "pca_df2 = pca_df2.loc[:, :'PC2']\n",
    "loadings_df2 = loadings_df2.iloc[:2].T"
   ]
  },
  {
   "cell_type": "code",
   "execution_count": 562,
   "metadata": {},
   "outputs": [],
   "source": [
    "# plot_loadings = loadings_df2.abs().sum(1).sort_values(ascending=False).head(10).index\n",
    "\n",
    "# for feature in plot_loadings:\n",
    "#     fx, fy = loadings_df2.loc[feature][:2] * 10\n",
    "#     ax.arrow(0, 0, fx, fy, color='red', linewidth=1, head_width=0)\n",
    "#     ax.text(fx, fy, feature, color='red', size=10) "
   ]
  },
  {
   "cell_type": "code",
   "execution_count": 563,
   "metadata": {},
   "outputs": [
    {
     "data": {
      "text/plain": [
       "<matplotlib.lines.Line2D at 0x1f4a23130>"
      ]
     },
     "execution_count": 563,
     "metadata": {},
     "output_type": "execute_result"
    },
    {
     "data": {
      "image/png": "[encoded data removed]",
      "text/plain": [
       "<Figure size 576x576 with 1 Axes>"
      ]
     },
     "metadata": {
      "needs_background": "light"
     },
     "output_type": "display_data"
    }
   ],
   "source": [
    "fig, ax = plt.subplots(figsize=(8,8))\n",
    "ax.scatter(pca_df2['PC1'], pca_df2['PC2'], s=11, color='', edgecolor='black')\n",
    "ax.axhline(0, linewidth=0.7)\n",
    "ax.axvline(0, linewidth=0.7)"
   ]
  },
  {
   "cell_type": "code",
   "execution_count": 587,
   "metadata": {},
   "outputs": [
    {
     "data": {
      "image/png": "[encoded data removed]",
      "text/plain": [
       "<Figure size 576x576 with 1 Axes>"
      ]
     },
     "metadata": {
      "needs_background": "light"
     },
     "output_type": "display_data"
    }
   ],
   "source": [
    "plot_group = pca_df2.loc[pca_df2.abs().max(1) < 11]\n",
    "\n",
    "fig, ax = plt.subplots(figsize=(8,8))\n",
    "ax.scatter(plot_group['PC1'], plot_group['PC2'], s=11, color='')\n",
    "plot_nouns(plot_group, ax)\n",
    "ax.axhline(0, linewidth=0.7)\n",
    "ax.axvline(0, linewidth=0.7)\n",
    "savefig('pca_majority.svg')"
   ]
  },
  {
   "cell_type": "markdown",
   "metadata": {},
   "source": [
    "### Quadrant I"
   ]
  },
  {
   "cell_type": "code",
   "execution_count": 507,
   "metadata": {},
   "outputs": [
    {
     "data": {
      "text/html": [
       "<div>\n",
       "<style scoped>\n",
       "    .dataframe tbody tr th:only-of-type {\n",
       "        vertical-align: middle;\n",
       "    }\n",
       "\n",
       "    .dataframe tbody tr th {\n",
       "        vertical-align: top;\n",
       "    }\n",
       "\n",
       "    .dataframe thead th {\n",
       "        text-align: right;\n",
       "    }\n",
       "</style>\n",
       "<table border=\"1\" class=\"dataframe\">\n",
       "  <thead>\n",
       "    <tr style=\"text-align: right;\">\n",
       "      <th></th>\n",
       "      <th>PC1</th>\n",
       "      <th>PC2</th>\n",
       "    </tr>\n",
       "  </thead>\n",
       "  <tbody>\n",
       "    <tr>\n",
       "      <th>מלך.n1</th>\n",
       "      <td>21.034039</td>\n",
       "      <td>6.497384</td>\n",
       "    </tr>\n",
       "    <tr>\n",
       "      <th>אישׁ.n1</th>\n",
       "      <td>19.354935</td>\n",
       "      <td>4.209164</td>\n",
       "    </tr>\n",
       "    <tr>\n",
       "      <th>עם.n1</th>\n",
       "      <td>16.688398</td>\n",
       "      <td>9.879721</td>\n",
       "    </tr>\n",
       "    <tr>\n",
       "      <th>אב.n1</th>\n",
       "      <td>10.228416</td>\n",
       "      <td>2.403068</td>\n",
       "    </tr>\n",
       "    <tr>\n",
       "      <th>כהן.n1</th>\n",
       "      <td>10.084452</td>\n",
       "      <td>1.859933</td>\n",
       "    </tr>\n",
       "    <tr>\n",
       "      <th>עבד.n1</th>\n",
       "      <td>9.570510</td>\n",
       "      <td>1.518127</td>\n",
       "    </tr>\n",
       "    <tr>\n",
       "      <th>שׂר.n1</th>\n",
       "      <td>6.888756</td>\n",
       "      <td>1.153600</td>\n",
       "    </tr>\n",
       "    <tr>\n",
       "      <th>אלהים.n1</th>\n",
       "      <td>6.549084</td>\n",
       "      <td>2.408427</td>\n",
       "    </tr>\n",
       "    <tr>\n",
       "      <th>פרעה.n1</th>\n",
       "      <td>4.485193</td>\n",
       "      <td>1.279904</td>\n",
       "    </tr>\n",
       "    <tr>\n",
       "      <th>אדון.n1</th>\n",
       "      <td>3.982610</td>\n",
       "      <td>0.995186</td>\n",
       "    </tr>\n",
       "    <tr>\n",
       "      <th>נביא.n1</th>\n",
       "      <td>3.688287</td>\n",
       "      <td>0.719367</td>\n",
       "    </tr>\n",
       "    <tr>\n",
       "      <th>אם.n1</th>\n",
       "      <td>2.585677</td>\n",
       "      <td>0.101286</td>\n",
       "    </tr>\n",
       "    <tr>\n",
       "      <th>גוי.n1</th>\n",
       "      <td>1.729602</td>\n",
       "      <td>3.666441</td>\n",
       "    </tr>\n",
       "    <tr>\n",
       "      <th>נפשׁ.n1</th>\n",
       "      <td>0.381288</td>\n",
       "      <td>1.280102</td>\n",
       "    </tr>\n",
       "  </tbody>\n",
       "</table>\n",
       "</div>"
      ],
      "text/plain": [
       "                PC1       PC2\n",
       "מלך.n1    21.034039  6.497384\n",
       "אישׁ.n1   19.354935  4.209164\n",
       "עם.n1     16.688398  9.879721\n",
       "אב.n1     10.228416  2.403068\n",
       "כהן.n1    10.084452  1.859933\n",
       "עבד.n1     9.570510  1.518127\n",
       "שׂר.n1     6.888756  1.153600\n",
       "אלהים.n1   6.549084  2.408427\n",
       "פרעה.n1    4.485193  1.279904\n",
       "אדון.n1    3.982610  0.995186\n",
       "נביא.n1    3.688287  0.719367\n",
       "אם.n1      2.585677  0.101286\n",
       "גוי.n1     1.729602  3.666441\n",
       "נפשׁ.n1    0.381288  1.280102"
      ]
     },
     "execution_count": 507,
     "metadata": {},
     "output_type": "execute_result"
    }
   ],
   "source": [
    "pca_df2[(pca_df2.PC1 > 0) & (pca_df2.PC2 > 0)].sort_values(by='PC1', ascending=False)"
   ]
  },
  {
   "cell_type": "markdown",
   "metadata": {},
   "source": [
    "### Quadrant IV"
   ]
  },
  {
   "cell_type": "code",
   "execution_count": 508,
   "metadata": {},
   "outputs": [
    {
     "data": {
      "text/html": [
       "<div>\n",
       "<style scoped>\n",
       "    .dataframe tbody tr th:only-of-type {\n",
       "        vertical-align: middle;\n",
       "    }\n",
       "\n",
       "    .dataframe tbody tr th {\n",
       "        vertical-align: top;\n",
       "    }\n",
       "\n",
       "    .dataframe thead th {\n",
       "        text-align: right;\n",
       "    }\n",
       "</style>\n",
       "<table border=\"1\" class=\"dataframe\">\n",
       "  <thead>\n",
       "    <tr style=\"text-align: right;\">\n",
       "      <th></th>\n",
       "      <th>PC1</th>\n",
       "      <th>PC2</th>\n",
       "    </tr>\n",
       "  </thead>\n",
       "  <tbody>\n",
       "    <tr>\n",
       "      <th>בן.n1</th>\n",
       "      <td>36.129155</td>\n",
       "      <td>-4.057602</td>\n",
       "    </tr>\n",
       "    <tr>\n",
       "      <th>אשׁה.n1</th>\n",
       "      <td>7.352847</td>\n",
       "      <td>-0.076554</td>\n",
       "    </tr>\n",
       "    <tr>\n",
       "      <th>אח.n1</th>\n",
       "      <td>7.282421</td>\n",
       "      <td>-0.144072</td>\n",
       "    </tr>\n",
       "    <tr>\n",
       "      <th>נער.n1</th>\n",
       "      <td>4.429634</td>\n",
       "      <td>-0.304135</td>\n",
       "    </tr>\n",
       "    <tr>\n",
       "      <th>בת.n1</th>\n",
       "      <td>3.998107</td>\n",
       "      <td>-0.059413</td>\n",
       "    </tr>\n",
       "    <tr>\n",
       "      <th>מלאך.n1</th>\n",
       "      <td>3.946697</td>\n",
       "      <td>-0.560456</td>\n",
       "    </tr>\n",
       "    <tr>\n",
       "      <th>עדה.n1</th>\n",
       "      <td>2.986341</td>\n",
       "      <td>-0.268559</td>\n",
       "    </tr>\n",
       "    <tr>\n",
       "      <th>נשׂיא.n1</th>\n",
       "      <td>2.609354</td>\n",
       "      <td>-1.193233</td>\n",
       "    </tr>\n",
       "    <tr>\n",
       "      <th>אדם.n1</th>\n",
       "      <td>1.864154</td>\n",
       "      <td>-0.248760</td>\n",
       "    </tr>\n",
       "    <tr>\n",
       "      <th>גבור.n1</th>\n",
       "      <td>1.813739</td>\n",
       "      <td>-0.283338</td>\n",
       "    </tr>\n",
       "    <tr>\n",
       "      <th>גר.n1</th>\n",
       "      <td>1.737009</td>\n",
       "      <td>-0.827528</td>\n",
       "    </tr>\n",
       "    <tr>\n",
       "      <th>קהל.n1</th>\n",
       "      <td>1.574912</td>\n",
       "      <td>-0.117555</td>\n",
       "    </tr>\n",
       "    <tr>\n",
       "      <th>רע.n2</th>\n",
       "      <td>1.567352</td>\n",
       "      <td>-0.130369</td>\n",
       "    </tr>\n",
       "    <tr>\n",
       "      <th>בכר.n1</th>\n",
       "      <td>1.148913</td>\n",
       "      <td>-1.099346</td>\n",
       "    </tr>\n",
       "    <tr>\n",
       "      <th>שׁבט.n1</th>\n",
       "      <td>1.089216</td>\n",
       "      <td>-0.089228</td>\n",
       "    </tr>\n",
       "    <tr>\n",
       "      <th>זרע.n1</th>\n",
       "      <td>1.034577</td>\n",
       "      <td>-0.391690</td>\n",
       "    </tr>\n",
       "    <tr>\n",
       "      <th>בעל.n1</th>\n",
       "      <td>0.848086</td>\n",
       "      <td>-0.114719</td>\n",
       "    </tr>\n",
       "    <tr>\n",
       "      <th>אל.n1</th>\n",
       "      <td>0.844351</td>\n",
       "      <td>-0.026477</td>\n",
       "    </tr>\n",
       "    <tr>\n",
       "      <th>ילד.n1</th>\n",
       "      <td>0.822803</td>\n",
       "      <td>-1.289595</td>\n",
       "    </tr>\n",
       "    <tr>\n",
       "      <th>דור.n1</th>\n",
       "      <td>0.687701</td>\n",
       "      <td>-0.448363</td>\n",
       "    </tr>\n",
       "    <tr>\n",
       "      <th>שׁמשׁ.n1</th>\n",
       "      <td>0.662816</td>\n",
       "      <td>-0.622974</td>\n",
       "    </tr>\n",
       "    <tr>\n",
       "      <th>אחות.n1</th>\n",
       "      <td>0.575669</td>\n",
       "      <td>-0.891984</td>\n",
       "    </tr>\n",
       "    <tr>\n",
       "      <th>חיה.n1</th>\n",
       "      <td>0.532051</td>\n",
       "      <td>-0.854474</td>\n",
       "    </tr>\n",
       "    <tr>\n",
       "      <th>בהמה.n1</th>\n",
       "      <td>0.482778</td>\n",
       "      <td>-0.450465</td>\n",
       "    </tr>\n",
       "    <tr>\n",
       "      <th>רכב.n1</th>\n",
       "      <td>0.455496</td>\n",
       "      <td>-0.436013</td>\n",
       "    </tr>\n",
       "    <tr>\n",
       "      <th>משׁפחה.n1</th>\n",
       "      <td>0.431627</td>\n",
       "      <td>-0.717093</td>\n",
       "    </tr>\n",
       "    <tr>\n",
       "      <th>חמור.n1</th>\n",
       "      <td>0.394909</td>\n",
       "      <td>-1.323380</td>\n",
       "    </tr>\n",
       "    <tr>\n",
       "      <th>צאן.n1</th>\n",
       "      <td>0.199330</td>\n",
       "      <td>-1.570156</td>\n",
       "    </tr>\n",
       "    <tr>\n",
       "      <th>לשׁון.n1</th>\n",
       "      <td>0.002069</td>\n",
       "      <td>-1.025336</td>\n",
       "    </tr>\n",
       "  </tbody>\n",
       "</table>\n",
       "</div>"
      ],
      "text/plain": [
       "                 PC1       PC2\n",
       "בן.n1      36.129155 -4.057602\n",
       "אשׁה.n1     7.352847 -0.076554\n",
       "אח.n1       7.282421 -0.144072\n",
       "נער.n1      4.429634 -0.304135\n",
       "בת.n1       3.998107 -0.059413\n",
       "מלאך.n1     3.946697 -0.560456\n",
       "עדה.n1      2.986341 -0.268559\n",
       "נשׂיא.n1    2.609354 -1.193233\n",
       "אדם.n1      1.864154 -0.248760\n",
       "גבור.n1     1.813739 -0.283338\n",
       "גר.n1       1.737009 -0.827528\n",
       "קהל.n1      1.574912 -0.117555\n",
       "רע.n2       1.567352 -0.130369\n",
       "בכר.n1      1.148913 -1.099346\n",
       "שׁבט.n1     1.089216 -0.089228\n",
       "זרע.n1      1.034577 -0.391690\n",
       "בעל.n1      0.848086 -0.114719\n",
       "אל.n1       0.844351 -0.026477\n",
       "ילד.n1      0.822803 -1.289595\n",
       "דור.n1      0.687701 -0.448363\n",
       "שׁמשׁ.n1    0.662816 -0.622974\n",
       "אחות.n1     0.575669 -0.891984\n",
       "חיה.n1      0.532051 -0.854474\n",
       "בהמה.n1     0.482778 -0.450465\n",
       "רכב.n1      0.455496 -0.436013\n",
       "משׁפחה.n1   0.431627 -0.717093\n",
       "חמור.n1     0.394909 -1.323380\n",
       "צאן.n1      0.199330 -1.570156\n",
       "לשׁון.n1    0.002069 -1.025336"
      ]
     },
     "execution_count": 508,
     "metadata": {},
     "output_type": "execute_result"
    }
   ],
   "source": [
    "pca_df2[(pca_df2.PC1 > 0) & (pca_df2.PC2 < 0)].sort_values(by='PC1', ascending=False)"
   ]
  },
  {
   "cell_type": "markdown",
   "metadata": {},
   "source": [
    "### Quadrant II"
   ]
  },
  {
   "cell_type": "code",
   "execution_count": 548,
   "metadata": {},
   "outputs": [
    {
     "data": {
      "text/html": [
       "<div>\n",
       "<style scoped>\n",
       "    .dataframe tbody tr th:only-of-type {\n",
       "        vertical-align: middle;\n",
       "    }\n",
       "\n",
       "    .dataframe tbody tr th {\n",
       "        vertical-align: top;\n",
       "    }\n",
       "\n",
       "    .dataframe thead th {\n",
       "        text-align: right;\n",
       "    }\n",
       "</style>\n",
       "<table border=\"1\" class=\"dataframe\">\n",
       "  <thead>\n",
       "    <tr style=\"text-align: right;\">\n",
       "      <th></th>\n",
       "      <th>PC1</th>\n",
       "      <th>PC2</th>\n",
       "    </tr>\n",
       "  </thead>\n",
       "  <tbody>\n",
       "    <tr>\n",
       "      <th>ארץ.n1</th>\n",
       "      <td>-9.462864</td>\n",
       "      <td>31.482637</td>\n",
       "    </tr>\n",
       "    <tr>\n",
       "      <th>יד.n1</th>\n",
       "      <td>-4.769850</td>\n",
       "      <td>0.625610</td>\n",
       "    </tr>\n",
       "    <tr>\n",
       "      <th>עיר.n1</th>\n",
       "      <td>-4.512512</td>\n",
       "      <td>16.794170</td>\n",
       "    </tr>\n",
       "    <tr>\n",
       "      <th>דרך.n1</th>\n",
       "      <td>-3.978207</td>\n",
       "      <td>1.086462</td>\n",
       "    </tr>\n",
       "    <tr>\n",
       "      <th>תוך.n1</th>\n",
       "      <td>-3.246247</td>\n",
       "      <td>6.039194</td>\n",
       "    </tr>\n",
       "    <tr>\n",
       "      <th>פנה.n1</th>\n",
       "      <td>-2.983701</td>\n",
       "      <td>8.080367</td>\n",
       "    </tr>\n",
       "    <tr>\n",
       "      <th>מדבר.n1</th>\n",
       "      <td>-2.845795</td>\n",
       "      <td>4.776599</td>\n",
       "    </tr>\n",
       "    <tr>\n",
       "      <th>אהל.n1</th>\n",
       "      <td>-2.244790</td>\n",
       "      <td>3.961988</td>\n",
       "    </tr>\n",
       "    <tr>\n",
       "      <th>שׁמים.n1</th>\n",
       "      <td>-2.168509</td>\n",
       "      <td>1.965551</td>\n",
       "    </tr>\n",
       "    <tr>\n",
       "      <th>הר.n1</th>\n",
       "      <td>-2.157190</td>\n",
       "      <td>7.144240</td>\n",
       "    </tr>\n",
       "    <tr>\n",
       "      <th>מקום.n1</th>\n",
       "      <td>-2.005840</td>\n",
       "      <td>5.970651</td>\n",
       "    </tr>\n",
       "    <tr>\n",
       "      <th>ים.n1</th>\n",
       "      <td>-1.803223</td>\n",
       "      <td>1.507775</td>\n",
       "    </tr>\n",
       "    <tr>\n",
       "      <th>שׁער.n1</th>\n",
       "      <td>-1.798026</td>\n",
       "      <td>2.783486</td>\n",
       "    </tr>\n",
       "    <tr>\n",
       "      <th>פה.n1</th>\n",
       "      <td>-1.782352</td>\n",
       "      <td>1.875762</td>\n",
       "    </tr>\n",
       "    <tr>\n",
       "      <th>לב.n1</th>\n",
       "      <td>-1.477338</td>\n",
       "      <td>2.481586</td>\n",
       "    </tr>\n",
       "    <tr>\n",
       "      <th>בית.n1</th>\n",
       "      <td>-1.462003</td>\n",
       "      <td>18.283002</td>\n",
       "    </tr>\n",
       "    <tr>\n",
       "      <th>עין.n1</th>\n",
       "      <td>-1.125785</td>\n",
       "      <td>1.230439</td>\n",
       "    </tr>\n",
       "    <tr>\n",
       "      <th>סביב.n1</th>\n",
       "      <td>-0.855756</td>\n",
       "      <td>0.992189</td>\n",
       "    </tr>\n",
       "    <tr>\n",
       "      <th>ראשׁ.n1</th>\n",
       "      <td>-0.662267</td>\n",
       "      <td>0.730358</td>\n",
       "    </tr>\n",
       "    <tr>\n",
       "      <th>מים.n1</th>\n",
       "      <td>-0.600430</td>\n",
       "      <td>0.914008</td>\n",
       "    </tr>\n",
       "  </tbody>\n",
       "</table>\n",
       "</div>"
      ],
      "text/plain": [
       "               PC1        PC2\n",
       "ארץ.n1   -9.462864  31.482637\n",
       "יד.n1    -4.769850   0.625610\n",
       "עיר.n1   -4.512512  16.794170\n",
       "דרך.n1   -3.978207   1.086462\n",
       "תוך.n1   -3.246247   6.039194\n",
       "פנה.n1   -2.983701   8.080367\n",
       "מדבר.n1  -2.845795   4.776599\n",
       "אהל.n1   -2.244790   3.961988\n",
       "שׁמים.n1 -2.168509   1.965551\n",
       "הר.n1    -2.157190   7.144240\n",
       "מקום.n1  -2.005840   5.970651\n",
       "ים.n1    -1.803223   1.507775\n",
       "שׁער.n1  -1.798026   2.783486\n",
       "פה.n1    -1.782352   1.875762\n",
       "לב.n1    -1.477338   2.481586\n",
       "בית.n1   -1.462003  18.283002\n",
       "עין.n1   -1.125785   1.230439\n",
       "סביב.n1  -0.855756   0.992189\n",
       "ראשׁ.n1  -0.662267   0.730358\n",
       "מים.n1   -0.600430   0.914008"
      ]
     },
     "execution_count": 548,
     "metadata": {},
     "output_type": "execute_result"
    }
   ],
   "source": [
    "pca_df2[(pca_df2.PC1 < 0) & (pca_df2.PC2 > 0)].head(20).sort_values(by='PC1', ascending=True)"
   ]
  },
  {
   "cell_type": "markdown",
   "metadata": {},
   "source": [
    "### Quadrant III"
   ]
  },
  {
   "cell_type": "code",
   "execution_count": 602,
   "metadata": {},
   "outputs": [
    {
     "data": {
      "text/html": [
       "<div>\n",
       "<style scoped>\n",
       "    .dataframe tbody tr th:only-of-type {\n",
       "        vertical-align: middle;\n",
       "    }\n",
       "\n",
       "    .dataframe tbody tr th {\n",
       "        vertical-align: top;\n",
       "    }\n",
       "\n",
       "    .dataframe thead th {\n",
       "        text-align: right;\n",
       "    }\n",
       "</style>\n",
       "<table border=\"1\" class=\"dataframe\">\n",
       "  <thead>\n",
       "    <tr style=\"text-align: right;\">\n",
       "      <th></th>\n",
       "      <th>PC1</th>\n",
       "      <th>PC2</th>\n",
       "    </tr>\n",
       "  </thead>\n",
       "  <tbody>\n",
       "    <tr>\n",
       "      <th>דבר.n1</th>\n",
       "      <td>-4.476310</td>\n",
       "      <td>-4.241496</td>\n",
       "    </tr>\n",
       "    <tr>\n",
       "      <th>יום.n1</th>\n",
       "      <td>-3.904547</td>\n",
       "      <td>-1.953555</td>\n",
       "    </tr>\n",
       "    <tr>\n",
       "      <th>משׁפט.n1</th>\n",
       "      <td>-3.708688</td>\n",
       "      <td>-2.971524</td>\n",
       "    </tr>\n",
       "    <tr>\n",
       "      <th>כלי.n1</th>\n",
       "      <td>-2.872705</td>\n",
       "      <td>-2.350848</td>\n",
       "    </tr>\n",
       "    <tr>\n",
       "      <th>מזבח.n1</th>\n",
       "      <td>-2.725077</td>\n",
       "      <td>-0.278345</td>\n",
       "    </tr>\n",
       "    <tr>\n",
       "      <th>זהב.n1</th>\n",
       "      <td>-2.518633</td>\n",
       "      <td>-2.811111</td>\n",
       "    </tr>\n",
       "    <tr>\n",
       "      <th>קול.n1</th>\n",
       "      <td>-2.362351</td>\n",
       "      <td>-0.872464</td>\n",
       "    </tr>\n",
       "    <tr>\n",
       "      <th>כסף.n1</th>\n",
       "      <td>-2.261898</td>\n",
       "      <td>-2.166406</td>\n",
       "    </tr>\n",
       "    <tr>\n",
       "      <th>עלה.n1</th>\n",
       "      <td>-2.189538</td>\n",
       "      <td>-3.494149</td>\n",
       "    </tr>\n",
       "    <tr>\n",
       "      <th>דם.n1</th>\n",
       "      <td>-2.100872</td>\n",
       "      <td>-0.893076</td>\n",
       "    </tr>\n",
       "    <tr>\n",
       "      <th>שׁם.n1</th>\n",
       "      <td>-2.027491</td>\n",
       "      <td>-0.776511</td>\n",
       "    </tr>\n",
       "    <tr>\n",
       "      <th>עץ.n1</th>\n",
       "      <td>-1.932569</td>\n",
       "      <td>-2.300171</td>\n",
       "    </tr>\n",
       "    <tr>\n",
       "      <th>אבן.n1</th>\n",
       "      <td>-1.874319</td>\n",
       "      <td>-2.247176</td>\n",
       "    </tr>\n",
       "    <tr>\n",
       "      <th>לחם.n1</th>\n",
       "      <td>-1.593657</td>\n",
       "      <td>-1.602197</td>\n",
       "    </tr>\n",
       "    <tr>\n",
       "      <th>שׁנה.n1</th>\n",
       "      <td>-1.475306</td>\n",
       "      <td>-0.977151</td>\n",
       "    </tr>\n",
       "    <tr>\n",
       "      <th>חרב.n1</th>\n",
       "      <td>-0.643303</td>\n",
       "      <td>-1.684670</td>\n",
       "    </tr>\n",
       "    <tr>\n",
       "      <th>עוד.n1</th>\n",
       "      <td>-0.483894</td>\n",
       "      <td>-0.895856</td>\n",
       "    </tr>\n",
       "    <tr>\n",
       "      <th>עולם.n1</th>\n",
       "      <td>-0.449036</td>\n",
       "      <td>-0.841055</td>\n",
       "    </tr>\n",
       "    <tr>\n",
       "      <th>אשׁ.n1</th>\n",
       "      <td>-0.290605</td>\n",
       "      <td>-0.247465</td>\n",
       "    </tr>\n",
       "    <tr>\n",
       "      <th>רוח.n1</th>\n",
       "      <td>-0.041631</td>\n",
       "      <td>-0.251107</td>\n",
       "    </tr>\n",
       "  </tbody>\n",
       "</table>\n",
       "</div>"
      ],
      "text/plain": [
       "               PC1       PC2\n",
       "דבר.n1   -4.476310 -4.241496\n",
       "יום.n1   -3.904547 -1.953555\n",
       "משׁפט.n1 -3.708688 -2.971524\n",
       "כלי.n1   -2.872705 -2.350848\n",
       "מזבח.n1  -2.725077 -0.278345\n",
       "זהב.n1   -2.518633 -2.811111\n",
       "קול.n1   -2.362351 -0.872464\n",
       "כסף.n1   -2.261898 -2.166406\n",
       "עלה.n1   -2.189538 -3.494149\n",
       "דם.n1    -2.100872 -0.893076\n",
       "שׁם.n1   -2.027491 -0.776511\n",
       "עץ.n1    -1.932569 -2.300171\n",
       "אבן.n1   -1.874319 -2.247176\n",
       "לחם.n1   -1.593657 -1.602197\n",
       "שׁנה.n1  -1.475306 -0.977151\n",
       "חרב.n1   -0.643303 -1.684670\n",
       "עוד.n1   -0.483894 -0.895856\n",
       "עולם.n1  -0.449036 -0.841055\n",
       "אשׁ.n1   -0.290605 -0.247465\n",
       "רוח.n1   -0.041631 -0.251107"
      ]
     },
     "execution_count": 602,
     "metadata": {},
     "output_type": "execute_result"
    }
   ],
   "source": [
    "pca_df2[(pca_df2.PC1 < 0) & (pca_df2.PC2 < 0)].head(20).sort_values(by='PC1')"
   ]
  }
 ],
 "metadata": {
  "kernelspec": {
   "display_name": "Python 3",
   "language": "python",
   "name": "python3"
  },
  "language_info": {
   "codemirror_mode": {
    "name": "ipython",
    "version": 3
   },
   "file_extension": ".py",
   "mimetype": "text/x-python",
   "name": "python",
   "nbconvert_exporter": "python",
   "pygments_lexer": "ipython3",
   "version": "3.8.0"
  }
 },
 "nbformat": 4,
 "nbformat_minor": 4
}
