{
 "cells": [
  {
   "cell_type": "markdown",
   "metadata": {},
   "source": [
    "<h2>Best viewed in <a href=\"https://nbviewer.jupyter.org/github/codykingham/noun_semantics_SBL18/blob/master/noun_semantics.ipynb?flush_cache=true?\">Jupyter Notebook Viewer</a></h2>\n",
    "\n",
    "# Noun Semantics in the Hebrew Bible\n",
    "\n",
    "*This notebook will contain the descriptions and analysis for the presentation on noun semantics in the Hebrew Bible.*"
   ]
  },
  {
   "cell_type": "code",
   "execution_count": 1,
   "metadata": {},
   "outputs": [
    {
     "name": "stdout",
     "output_type": "stream",
     "text": [
      "This is Text-Fabric 6.4.4\n",
      "Api reference : https://dans-labs.github.io/text-fabric/Api/General/\n",
      "Tutorial      : https://github.com/Dans-labs/text-fabric/blob/master/docs/tutorial.ipynb\n",
      "Example data  : https://github.com/Dans-labs/text-fabric-data\n",
      "\n",
      "120 features found and 0 ignored\n",
      "  0.00s loading features ...\n",
      "   |     0.16s B lex_utf8             from /Users/cody/github/etcbc/bhsa/tf/c\n",
      "   |     0.19s B phono                from /Users/cody/github/etcbc/phono/tf/c\n",
      "   |     0.67s B heads                from /Users/cody/github/etcbc/lingo/heads/tf/c\n",
      "   |     0.18s B typ                  from /Users/cody/github/etcbc/bhsa/tf/c\n",
      "   |     0.08s B freq_lex             from /Users/cody/github/etcbc/bhsa/tf/c\n",
      "   |     0.10s B pdp                  from /Users/cody/github/etcbc/bhsa/tf/c\n",
      "   |     0.10s B sp                   from /Users/cody/github/etcbc/bhsa/tf/c\n",
      "   |     0.10s B ls                   from /Users/cody/github/etcbc/bhsa/tf/c\n",
      "   |     0.19s B prep_obj             from /Users/cody/github/etcbc/lingo/heads/tf/c\n",
      "   |     0.18s B rela                 from /Users/cody/github/etcbc/bhsa/tf/c\n",
      "  6.61s All features loaded/computed - for details use loadLog()\n"
     ]
    },
    {
     "data": {
      "text/html": [
       "\n",
       "<style>\n",
       "@font-face {\n",
       "  font-family: \"Ezra SIL\";\n",
       "  src: url('https://github.com/Dans-labs/text-fabric/blob/master/tf/server/static/fonts/SILEOT.ttf?raw=true');\n",
       "  src: url('https://github.com/Dans-labs/text-fabric/blob/master/tf/server/static/fonts/SILEOT.woff?raw=true') format('woff');\n",
       "}\n",
       "</style>\n",
       "\n",
       "<style type=\"text/css\">\n",
       ".verse {\n",
       "    display: flex;\n",
       "    flex-flow: row wrap;\n",
       "    direction: rtl;\n",
       "}\n",
       ".vl {\n",
       "    display: flex;\n",
       "    flex-flow: column nowrap;\n",
       "    justify-content: flex-end;\n",
       "    align-items: flex-end;\n",
       "    direction: ltr;\n",
       "    width: 100%;\n",
       "}\n",
       ".outeritem {\n",
       "    display: flex;\n",
       "    flex-flow: row wrap;\n",
       "    direction: rtl;\n",
       "}\n",
       ".sentence,.clause,.phrase {\n",
       "    margin-top: -1.2em;\n",
       "    margin-left: 1em;\n",
       "    background: #ffffff none repeat scroll 0 0;\n",
       "    padding: 0 0.3em;\n",
       "    border-style: solid;\n",
       "    border-radius: 0.2em;\n",
       "    font-size: small;\n",
       "    display: block;\n",
       "    width: fit-content;\n",
       "    max-width: fit-content;\n",
       "    direction: ltr;\n",
       "}\n",
       ".atoms {\n",
       "    display: flex;\n",
       "    flex-flow: row wrap;\n",
       "    margin: 0.3em;\n",
       "    padding: 0.3em;\n",
       "    direction: rtl;\n",
       "    background-color: #ffffff;\n",
       "}\n",
       ".satom,.catom,.patom {\n",
       "    margin: 0.3em;\n",
       "    padding: 0.3em;\n",
       "    border-radius: 0.3em;\n",
       "    border-style: solid;\n",
       "    display: flex;\n",
       "    flex-flow: column nowrap;\n",
       "    direction: rtl;\n",
       "    background-color: #ffffff;\n",
       "}\n",
       ".sentence {\n",
       "    border-color: #aa3333;\n",
       "    border-width: 1px;\n",
       "}\n",
       ".clause {\n",
       "    border-color: #aaaa33;\n",
       "    border-width: 1px;\n",
       "}\n",
       ".phrase {\n",
       "    border-color: #33aaaa;\n",
       "    border-width: 1px;\n",
       "}\n",
       ".satom {\n",
       "    border-color: #aa3333;\n",
       "    border-width: 4px;\n",
       "}\n",
       ".catom {\n",
       "    border-color: #aaaa33;\n",
       "    border-width: 3px;\n",
       "}\n",
       ".patom {\n",
       "    border-color: #33aaaa;\n",
       "    border-width: 3px;\n",
       "}\n",
       ".word {\n",
       "    padding: 0.1em;\n",
       "    margin: 0.1em;\n",
       "    border-radius: 0.1em;\n",
       "    border: 1px solid #cccccc;\n",
       "    display: flex;\n",
       "    flex-flow: column nowrap;\n",
       "    direction: rtl;\n",
       "    background-color: #ffffff;\n",
       "}\n",
       ".lextp {\n",
       "    padding: 0.1em;\n",
       "    margin: 0.1em;\n",
       "    border-radius: 0.1em;\n",
       "    border: 2px solid #888888;\n",
       "    width: fit-content;\n",
       "    display: flex;\n",
       "    flex-flow: column nowrap;\n",
       "    direction: rtl;\n",
       "    background-color: #ffffff;\n",
       "}\n",
       ".occs {\n",
       "    font-size: x-small;\n",
       "}\n",
       ".satom.l,.catom.l,.patom.l {\n",
       "    border-left-style: dotted\n",
       "}\n",
       ".satom.r,.catom.r,.patom.r {\n",
       "    border-right-style: dotted\n",
       "}\n",
       ".satom.L,.catom.L,.patom.L {\n",
       "    border-left-style: none\n",
       "}\n",
       ".satom.R,.catom.R,.patom.R {\n",
       "    border-right-style: none\n",
       "}\n",
       ".tr,.tr a:visited,.tr a:link {\n",
       "    font-family: sans-serif;\n",
       "    font-size: large;\n",
       "    color: #000044;\n",
       "    direction: ltr;\n",
       "    text-decoration: none;\n",
       "}\n",
       ".trb,.trb a:visited,.trb a:link {\n",
       "    font-family: sans-serif;\n",
       "    font-size: normal;\n",
       "    direction: ltr;\n",
       "    text-decoration: none;\n",
       "}\n",
       ".prb,.prb a:visited,.prb a:link {\n",
       "    font-family: sans-serif;\n",
       "    font-size: large;\n",
       "    direction: ltr;\n",
       "    text-decoration: none;\n",
       "}\n",
       ".h,.h a:visited,.h a:link {\n",
       "    font-family: \"Ezra SIL\", \"SBL Hebrew\", sans-serif;\n",
       "    font-size: large;\n",
       "    color: #000044;\n",
       "    direction: rtl;\n",
       "    text-decoration: none;\n",
       "}\n",
       ".hb,.hb a:visited,.hb a:link {\n",
       "    font-family: \"Ezra SIL\", \"SBL Hebrew\", sans-serif;\n",
       "    font-size: large;\n",
       "    line-height: 1.8;\n",
       "    direction: rtl;\n",
       "    text-decoration: none;\n",
       "}\n",
       ".vn {\n",
       "  font-size: small !important;\n",
       "  padding-right: 1em;\n",
       "}\n",
       ".rela,.function,.typ {\n",
       "    font-family: monospace;\n",
       "    font-size: small;\n",
       "    color: #0000bb;\n",
       "}\n",
       ".pdp,.pdp a:visited,.pdp a:link {\n",
       "    font-family: monospace;\n",
       "    font-size: medium;\n",
       "    color: #0000bb;\n",
       "    text-decoration: none;\n",
       "}\n",
       ".voc_lex {\n",
       "    font-family: monospace;\n",
       "    font-size: medium;\n",
       "    color: #0000bb;\n",
       "}\n",
       ".vs {\n",
       "    font-family: monospace;\n",
       "    font-size: medium;\n",
       "    font-weight: bold;\n",
       "    color: #0000bb;\n",
       "}\n",
       ".vt {\n",
       "    font-family: monospace;\n",
       "    font-size: medium;\n",
       "    font-weight: bold;\n",
       "    color: #0000bb;\n",
       "}\n",
       ".gloss {\n",
       "    font-family: sans-serif;\n",
       "    font-size: small;\n",
       "    font-weight: normal;\n",
       "    color: #444444;\n",
       "}\n",
       ".vrs {\n",
       "    font-family: sans-serif;\n",
       "    font-size: small;\n",
       "    font-weight: bold;\n",
       "    color: #444444;\n",
       "}\n",
       ".nd {\n",
       "    font-family: monospace;\n",
       "    font-size: x-small;\n",
       "    color: #999999;\n",
       "}\n",
       ".features {\n",
       "    font-family: monospace;\n",
       "    font-size: medium;\n",
       "    font-weight: bold;\n",
       "    color: #0a6611;\n",
       "    display: flex;\n",
       "    flex-flow: column nowrap;\n",
       "    padding: 0.1em;\n",
       "    margin: 0.1em;\n",
       "    direction: ltr;\n",
       "}\n",
       ".features .f {\n",
       "    font-family: sans-serif;\n",
       "    font-size: x-small;\n",
       "    font-weight: normal;\n",
       "    color: #5555bb;\n",
       "}\n",
       ".word .features div,.word .features span {\n",
       "    padding: 0;\n",
       "    margin: -0.1rem 0;\n",
       "}\n",
       "\n",
       ".hl {\n",
       "    background-color: #ffee66;\n",
       "}\n",
       "</style>\n"
      ],
      "text/plain": [
       "<IPython.core.display.HTML object>"
      ]
     },
     "metadata": {},
     "output_type": "display_data"
    }
   ],
   "source": [
    "# ETCBC's BHSA data\n",
    "from tf.fabric import Fabric\n",
    "from tf.extra.bhsa import Bhsa\n",
    "\n",
    "# stats & data-containers\n",
    "import collections\n",
    "import pandas as pd\n",
    "import numpy as np\n",
    "import scipy.stats as stats\n",
    "\n",
    "# data visualizations\n",
    "import seaborn as sns\n",
    "sns.set(style=\"whitegrid\")\n",
    "import matplotlib.pyplot as plt\n",
    "from IPython.display import HTML, display\n",
    "\n",
    "# custom modules\n",
    "from pyscripts.contextcount import ContextCounter, ContextTester\n",
    "from pyscripts.contextparameters import deliver_params\n",
    "\n",
    "# prep the data\n",
    "name = 'noun_semantics'\n",
    "hebrew_data = ['~/github/etcbc/{}/tf/c'.format(direc) for direc in ('bhsa','lingo/heads', 'phono')] # data dirs\n",
    "load_features = '''\n",
    "heads typ phono lex_utf8 freq_lex pdp sp ls\n",
    "prep_obj rela\n",
    "''' \n",
    "\n",
    "# TF load statements\n",
    "TF = Fabric(locations=hebrew_data)\n",
    "api = TF.load(load_features)\n",
    "B = Bhsa(api=api, hoist=globals(), silent=True, name=name) # Bhsa functions for search and visualizing text"
   ]
  },
  {
   "cell_type": "code",
   "execution_count": 2,
   "metadata": {},
   "outputs": [],
   "source": [
    "def reverse_hb(heb_text):\n",
    "    '''\n",
    "    Reverses order of left-to-right text \n",
    "    for good matplotlib formatting.\n",
    "    '''\n",
    "    return ''.join(reversed(heb_text))\n",
    "\n",
    "def show_word_list(word_nodes, title=''):\n",
    "    '''\n",
    "    Displays Hebrew for a pipe-separated list of word nodes\n",
    "    Good for seeing lexemes without taking up screen space.\n",
    "    '''\n",
    "    formatted = '&nbsp;&nbsp;|'.join(B.plain(node, asString=True) for node in word_nodes)\n",
    "    display(HTML(formatted))"
   ]
  },
  {
   "cell_type": "markdown",
   "metadata": {},
   "source": [
    "## Define a Target Noun Set\n",
    "\n",
    "*Insert discussion about the semantic relationship between iconicity and frequency with regards to the most frequent noun lexemes in the HB.*"
   ]
  },
  {
   "cell_type": "code",
   "execution_count": 3,
   "metadata": {},
   "outputs": [
    {
     "name": "stdout",
     "output_type": "stream",
     "text": [
      "  0.02s 3706 results\n"
     ]
    }
   ],
   "source": [
    "raw_search = '''\n",
    "\n",
    "lex language=Hebrew sp=subs\n",
    "\n",
    "'''\n",
    "\n",
    "raw_nouns = B.search(raw_search)"
   ]
  },
  {
   "cell_type": "markdown",
   "metadata": {},
   "source": [
    "Now we order the results on the basis of lexeme frequency."
   ]
  },
  {
   "cell_type": "code",
   "execution_count": 4,
   "metadata": {},
   "outputs": [],
   "source": [
    "raw_terms_ordered = sorted(((F.freq_lex.v(res[0]), res[0]) for res in raw_nouns), reverse=True)"
   ]
  },
  {
   "cell_type": "markdown",
   "metadata": {},
   "source": [
    "Below we have a look at the top 50 terms from the selected set. Pay attention to the feature `ls`, i.e. \"lexical set.\" This feature gives us some rudimentary semantic information about the nouns and their usual functions, and it suggests that some additional restrictions are necessary for the noun selection procedure. Note especially that several of these nouns are used in adjectival or prepositional roles (e.g.  כל ,אחד, אין, תחת)."
   ]
  },
  {
   "cell_type": "code",
   "execution_count": 5,
   "metadata": {},
   "outputs": [
    {
     "data": {
      "text/markdown": [
       "\n",
       "\n",
       "**Result** *0*\n",
       "\n"
      ],
      "text/plain": [
       "<IPython.core.display.Markdown object>"
      ]
     },
     "metadata": {},
     "output_type": "display_data"
    },
    {
     "data": {
      "text/html": [
       "<div class=\"outeritem\">\n",
       "<div class=\"lextp \" style=\"background-color: None;\">\n",
       "<div class=\"h\">כֹּל</div>\n",
       "<div class=\"features\"> <span class=\"voc_lex\"><a target=\"_blank\" href=\"https://shebanq.ancient-data.org/hebrew/word?version=c&id=1KLn\" title=\"show this lexeme in SHEBANQ\">K.OL</a></span> <span class=\"gloss\">whole</span> <span class=\"ls\"><span class=\"f\">ls=</span>nmdi</span> <span class=\"freq_lex\"><span class=\"f\">freq_lex=</span>5412</span></div>\n",
       "<div class=\"occs\"><a href=\"https://shebanq.ancient-data.org/hebrew/text?book=Genesis&chapter=1&verse=21&version=c&mr=m&qw=q&tp=txt_p&tr=hb&wget=v&qget=v&nget=vt\" title=\"show this passage in SHEBANQ\" sec=\"Genesis 1:21\">Genesis 1:21</a> - <a href=\"https://shebanq.ancient-data.org/hebrew/text?book=Chronica_II&chapter=36&verse=23&version=c&mr=m&qw=q&tp=txt_p&tr=hb&wget=v&qget=v&nget=vt\" title=\"show this passage in SHEBANQ\" sec=\"2_Chronicles 36:23\">2_Chronicles 36:23</a></div>\n",
       "\n",
       "</div>\n",
       "\n",
       "</div>"
      ],
      "text/plain": [
       "<IPython.core.display.HTML object>"
      ]
     },
     "metadata": {},
     "output_type": "display_data"
    },
    {
     "data": {
      "text/markdown": [
       "\n",
       "\n",
       "**Result** *1*\n",
       "\n"
      ],
      "text/plain": [
       "<IPython.core.display.Markdown object>"
      ]
     },
     "metadata": {},
     "output_type": "display_data"
    },
    {
     "data": {
      "text/html": [
       "<div class=\"outeritem\">\n",
       "<div class=\"lextp \" style=\"background-color: None;\">\n",
       "<div class=\"h\">בֵּן</div>\n",
       "<div class=\"features\"> <span class=\"voc_lex\"><a target=\"_blank\" href=\"https://shebanq.ancient-data.org/hebrew/word?version=c&id=1BNn\" title=\"show this lexeme in SHEBANQ\">B.;N</a></span> <span class=\"gloss\">son</span> <span class=\"freq_lex\"><span class=\"f\">freq_lex=</span>4937</span></div>\n",
       "<div class=\"occs\"><a href=\"https://shebanq.ancient-data.org/hebrew/text?book=Genesis&chapter=3&verse=16&version=c&mr=m&qw=q&tp=txt_p&tr=hb&wget=v&qget=v&nget=vt\" title=\"show this passage in SHEBANQ\" sec=\"Genesis 3:16\">Genesis 3:16</a> - <a href=\"https://shebanq.ancient-data.org/hebrew/text?book=Chronica_II&chapter=36&verse=20&version=c&mr=m&qw=q&tp=txt_p&tr=hb&wget=v&qget=v&nget=vt\" title=\"show this passage in SHEBANQ\" sec=\"2_Chronicles 36:20\">2_Chronicles 36:20</a></div>\n",
       "\n",
       "</div>\n",
       "\n",
       "</div>"
      ],
      "text/plain": [
       "<IPython.core.display.HTML object>"
      ]
     },
     "metadata": {},
     "output_type": "display_data"
    },
    {
     "data": {
      "text/markdown": [
       "\n",
       "\n",
       "**Result** *2*\n",
       "\n"
      ],
      "text/plain": [
       "<IPython.core.display.Markdown object>"
      ]
     },
     "metadata": {},
     "output_type": "display_data"
    },
    {
     "data": {
      "text/html": [
       "<div class=\"outeritem\">\n",
       "<div class=\"lextp \" style=\"background-color: None;\">\n",
       "<div class=\"h\">אֱלֹהִים</div>\n",
       "<div class=\"features\"> <span class=\"voc_lex\"><a target=\"_blank\" href=\"https://shebanq.ancient-data.org/hebrew/word?version=c&id=1ALHJMn\" title=\"show this lexeme in SHEBANQ\">>:ELOHIJM</a></span> <span class=\"gloss\">god(s)</span> <span class=\"freq_lex\"><span class=\"f\">freq_lex=</span>2601</span></div>\n",
       "<div class=\"occs\"><a href=\"https://shebanq.ancient-data.org/hebrew/text?book=Genesis&chapter=1&verse=1&version=c&mr=m&qw=q&tp=txt_p&tr=hb&wget=v&qget=v&nget=vt\" title=\"show this passage in SHEBANQ\" sec=\"Genesis 1:1\">Genesis 1:1</a> - <a href=\"https://shebanq.ancient-data.org/hebrew/text?book=Chronica_II&chapter=36&verse=23&version=c&mr=m&qw=q&tp=txt_p&tr=hb&wget=v&qget=v&nget=vt\" title=\"show this passage in SHEBANQ\" sec=\"2_Chronicles 36:23\">2_Chronicles 36:23</a></div>\n",
       "\n",
       "</div>\n",
       "\n",
       "</div>"
      ],
      "text/plain": [
       "<IPython.core.display.HTML object>"
      ]
     },
     "metadata": {},
     "output_type": "display_data"
    },
    {
     "data": {
      "text/markdown": [
       "\n",
       "\n",
       "**Result** *3*\n",
       "\n"
      ],
      "text/plain": [
       "<IPython.core.display.Markdown object>"
      ]
     },
     "metadata": {},
     "output_type": "display_data"
    },
    {
     "data": {
      "text/html": [
       "<div class=\"outeritem\">\n",
       "<div class=\"lextp \" style=\"background-color: None;\">\n",
       "<div class=\"h\">מֶלֶךְ</div>\n",
       "<div class=\"features\"> <span class=\"voc_lex\"><a target=\"_blank\" href=\"https://shebanq.ancient-data.org/hebrew/word?version=c&id=1MLKn\" title=\"show this lexeme in SHEBANQ\">MELEK:</a></span> <span class=\"gloss\">king</span> <span class=\"freq_lex\"><span class=\"f\">freq_lex=</span>2523</span></div>\n",
       "<div class=\"occs\"><a href=\"https://shebanq.ancient-data.org/hebrew/text?book=Genesis&chapter=14&verse=1&version=c&mr=m&qw=q&tp=txt_p&tr=hb&wget=v&qget=v&nget=vt\" title=\"show this passage in SHEBANQ\" sec=\"Genesis 14:1\">Genesis 14:1</a> - <a href=\"https://shebanq.ancient-data.org/hebrew/text?book=Chronica_II&chapter=36&verse=23&version=c&mr=m&qw=q&tp=txt_p&tr=hb&wget=v&qget=v&nget=vt\" title=\"show this passage in SHEBANQ\" sec=\"2_Chronicles 36:23\">2_Chronicles 36:23</a></div>\n",
       "\n",
       "</div>\n",
       "\n",
       "</div>"
      ],
      "text/plain": [
       "<IPython.core.display.HTML object>"
      ]
     },
     "metadata": {},
     "output_type": "display_data"
    },
    {
     "data": {
      "text/markdown": [
       "\n",
       "\n",
       "**Result** *4*\n",
       "\n"
      ],
      "text/plain": [
       "<IPython.core.display.Markdown object>"
      ]
     },
     "metadata": {},
     "output_type": "display_data"
    },
    {
     "data": {
      "text/html": [
       "<div class=\"outeritem\">\n",
       "<div class=\"lextp \" style=\"background-color: None;\">\n",
       "<div class=\"h\">אֶרֶץ</div>\n",
       "<div class=\"features\"> <span class=\"voc_lex\"><a target=\"_blank\" href=\"https://shebanq.ancient-data.org/hebrew/word?version=c&id=1ARYn\" title=\"show this lexeme in SHEBANQ\">>EREY</a></span> <span class=\"gloss\">earth</span> <span class=\"freq_lex\"><span class=\"f\">freq_lex=</span>2504</span></div>\n",
       "<div class=\"occs\"><a href=\"https://shebanq.ancient-data.org/hebrew/text?book=Genesis&chapter=1&verse=1&version=c&mr=m&qw=q&tp=txt_p&tr=hb&wget=v&qget=v&nget=vt\" title=\"show this passage in SHEBANQ\" sec=\"Genesis 1:1\">Genesis 1:1</a> - <a href=\"https://shebanq.ancient-data.org/hebrew/text?book=Chronica_II&chapter=36&verse=23&version=c&mr=m&qw=q&tp=txt_p&tr=hb&wget=v&qget=v&nget=vt\" title=\"show this passage in SHEBANQ\" sec=\"2_Chronicles 36:23\">2_Chronicles 36:23</a></div>\n",
       "\n",
       "</div>\n",
       "\n",
       "</div>"
      ],
      "text/plain": [
       "<IPython.core.display.HTML object>"
      ]
     },
     "metadata": {},
     "output_type": "display_data"
    },
    {
     "data": {
      "text/markdown": [
       "\n",
       "\n",
       "**Result** *5*\n",
       "\n"
      ],
      "text/plain": [
       "<IPython.core.display.Markdown object>"
      ]
     },
     "metadata": {},
     "output_type": "display_data"
    },
    {
     "data": {
      "text/html": [
       "<div class=\"outeritem\">\n",
       "<div class=\"lextp \" style=\"background-color: None;\">\n",
       "<div class=\"h\">יֹום</div>\n",
       "<div class=\"features\"> <span class=\"voc_lex\"><a target=\"_blank\" href=\"https://shebanq.ancient-data.org/hebrew/word?version=c&id=1JWMn\" title=\"show this lexeme in SHEBANQ\">JOWM</a></span> <span class=\"gloss\">day</span> <span class=\"ls\"><span class=\"f\">ls=</span>padv</span> <span class=\"freq_lex\"><span class=\"f\">freq_lex=</span>2304</span></div>\n",
       "<div class=\"occs\"><a href=\"https://shebanq.ancient-data.org/hebrew/text?book=Genesis&chapter=1&verse=5&version=c&mr=m&qw=q&tp=txt_p&tr=hb&wget=v&qget=v&nget=vt\" title=\"show this passage in SHEBANQ\" sec=\"Genesis 1:5\">Genesis 1:5</a> - <a href=\"https://shebanq.ancient-data.org/hebrew/text?book=Chronica_II&chapter=36&verse=21&version=c&mr=m&qw=q&tp=txt_p&tr=hb&wget=v&qget=v&nget=vt\" title=\"show this passage in SHEBANQ\" sec=\"2_Chronicles 36:21\">2_Chronicles 36:21</a></div>\n",
       "\n",
       "</div>\n",
       "\n",
       "</div>"
      ],
      "text/plain": [
       "<IPython.core.display.HTML object>"
      ]
     },
     "metadata": {},
     "output_type": "display_data"
    },
    {
     "data": {
      "text/markdown": [
       "\n",
       "\n",
       "**Result** *6*\n",
       "\n"
      ],
      "text/plain": [
       "<IPython.core.display.Markdown object>"
      ]
     },
     "metadata": {},
     "output_type": "display_data"
    },
    {
     "data": {
      "text/html": [
       "<div class=\"outeritem\">\n",
       "<div class=\"lextp \" style=\"background-color: None;\">\n",
       "<div class=\"h\">אִישׁ</div>\n",
       "<div class=\"features\"> <span class=\"voc_lex\"><a target=\"_blank\" href=\"https://shebanq.ancient-data.org/hebrew/word?version=c&id=1AJCn\" title=\"show this lexeme in SHEBANQ\">>IJC</a></span> <span class=\"gloss\">man</span> <span class=\"ls\"><span class=\"f\">ls=</span>nmdi</span> <span class=\"freq_lex\"><span class=\"f\">freq_lex=</span>2186</span></div>\n",
       "<div class=\"occs\"><a href=\"https://shebanq.ancient-data.org/hebrew/text?book=Genesis&chapter=2&verse=23&version=c&mr=m&qw=q&tp=txt_p&tr=hb&wget=v&qget=v&nget=vt\" title=\"show this passage in SHEBANQ\" sec=\"Genesis 2:23\">Genesis 2:23</a> - <a href=\"https://shebanq.ancient-data.org/hebrew/text?book=Chronica_II&chapter=34&verse=30&version=c&mr=m&qw=q&tp=txt_p&tr=hb&wget=v&qget=v&nget=vt\" title=\"show this passage in SHEBANQ\" sec=\"2_Chronicles 34:30\">2_Chronicles 34:30</a></div>\n",
       "\n",
       "</div>\n",
       "\n",
       "</div>"
      ],
      "text/plain": [
       "<IPython.core.display.HTML object>"
      ]
     },
     "metadata": {},
     "output_type": "display_data"
    },
    {
     "data": {
      "text/markdown": [
       "\n",
       "\n",
       "**Result** *7*\n",
       "\n"
      ],
      "text/plain": [
       "<IPython.core.display.Markdown object>"
      ]
     },
     "metadata": {},
     "output_type": "display_data"
    },
    {
     "data": {
      "text/html": [
       "<div class=\"outeritem\">\n",
       "<div class=\"lextp \" style=\"background-color: None;\">\n",
       "<div class=\"h\">פָּנֶה</div>\n",
       "<div class=\"features\"> <span class=\"voc_lex\"><a target=\"_blank\" href=\"https://shebanq.ancient-data.org/hebrew/word?version=c&id=1PNHn\" title=\"show this lexeme in SHEBANQ\">P.@NEH</a></span> <span class=\"gloss\">face</span> <span class=\"freq_lex\"><span class=\"f\">freq_lex=</span>2127</span></div>\n",
       "<div class=\"occs\"><a href=\"https://shebanq.ancient-data.org/hebrew/text?book=Genesis&chapter=1&verse=2&version=c&mr=m&qw=q&tp=txt_p&tr=hb&wget=v&qget=v&nget=vt\" title=\"show this passage in SHEBANQ\" sec=\"Genesis 1:2\">Genesis 1:2</a> - <a href=\"https://shebanq.ancient-data.org/hebrew/text?book=Chronica_II&chapter=36&verse=12&version=c&mr=m&qw=q&tp=txt_p&tr=hb&wget=v&qget=v&nget=vt\" title=\"show this passage in SHEBANQ\" sec=\"2_Chronicles 36:12\">2_Chronicles 36:12</a></div>\n",
       "\n",
       "</div>\n",
       "\n",
       "</div>"
      ],
      "text/plain": [
       "<IPython.core.display.HTML object>"
      ]
     },
     "metadata": {},
     "output_type": "display_data"
    },
    {
     "data": {
      "text/markdown": [
       "\n",
       "\n",
       "**Result** *8*\n",
       "\n"
      ],
      "text/plain": [
       "<IPython.core.display.Markdown object>"
      ]
     },
     "metadata": {},
     "output_type": "display_data"
    },
    {
     "data": {
      "text/html": [
       "<div class=\"outeritem\">\n",
       "<div class=\"lextp \" style=\"background-color: None;\">\n",
       "<div class=\"h\">בַּיִת</div>\n",
       "<div class=\"features\"> <span class=\"voc_lex\"><a target=\"_blank\" href=\"https://shebanq.ancient-data.org/hebrew/word?version=c&id=1BJTn\" title=\"show this lexeme in SHEBANQ\">B.AJIT</a></span> <span class=\"gloss\">house</span> <span class=\"freq_lex\"><span class=\"f\">freq_lex=</span>2063</span></div>\n",
       "<div class=\"occs\"><a href=\"https://shebanq.ancient-data.org/hebrew/text?book=Genesis&chapter=6&verse=14&version=c&mr=m&qw=q&tp=txt_p&tr=hb&wget=v&qget=v&nget=vt\" title=\"show this passage in SHEBANQ\" sec=\"Genesis 6:14\">Genesis 6:14</a> - <a href=\"https://shebanq.ancient-data.org/hebrew/text?book=Chronica_II&chapter=36&verse=23&version=c&mr=m&qw=q&tp=txt_p&tr=hb&wget=v&qget=v&nget=vt\" title=\"show this passage in SHEBANQ\" sec=\"2_Chronicles 36:23\">2_Chronicles 36:23</a></div>\n",
       "\n",
       "</div>\n",
       "\n",
       "</div>"
      ],
      "text/plain": [
       "<IPython.core.display.HTML object>"
      ]
     },
     "metadata": {},
     "output_type": "display_data"
    },
    {
     "data": {
      "text/markdown": [
       "\n",
       "\n",
       "**Result** *9*\n",
       "\n"
      ],
      "text/plain": [
       "<IPython.core.display.Markdown object>"
      ]
     },
     "metadata": {},
     "output_type": "display_data"
    },
    {
     "data": {
      "text/html": [
       "<div class=\"outeritem\">\n",
       "<div class=\"lextp \" style=\"background-color: None;\">\n",
       "<div class=\"h\">עַם</div>\n",
       "<div class=\"features\"> <span class=\"voc_lex\"><a target=\"_blank\" href=\"https://shebanq.ancient-data.org/hebrew/word?version=c&id=1OMn\" title=\"show this lexeme in SHEBANQ\">&lt;AM</a></span> <span class=\"gloss\">people</span> <span class=\"freq_lex\"><span class=\"f\">freq_lex=</span>1866</span></div>\n",
       "<div class=\"occs\"><a href=\"https://shebanq.ancient-data.org/hebrew/text?book=Genesis&chapter=11&verse=6&version=c&mr=m&qw=q&tp=txt_p&tr=hb&wget=v&qget=v&nget=vt\" title=\"show this passage in SHEBANQ\" sec=\"Genesis 11:6\">Genesis 11:6</a> - <a href=\"https://shebanq.ancient-data.org/hebrew/text?book=Chronica_II&chapter=36&verse=23&version=c&mr=m&qw=q&tp=txt_p&tr=hb&wget=v&qget=v&nget=vt\" title=\"show this passage in SHEBANQ\" sec=\"2_Chronicles 36:23\">2_Chronicles 36:23</a></div>\n",
       "\n",
       "</div>\n",
       "\n",
       "</div>"
      ],
      "text/plain": [
       "<IPython.core.display.HTML object>"
      ]
     },
     "metadata": {},
     "output_type": "display_data"
    },
    {
     "data": {
      "text/markdown": [
       "\n",
       "\n",
       "**Result** *10*\n",
       "\n"
      ],
      "text/plain": [
       "<IPython.core.display.Markdown object>"
      ]
     },
     "metadata": {},
     "output_type": "display_data"
    },
    {
     "data": {
      "text/html": [
       "<div class=\"outeritem\">\n",
       "<div class=\"lextp \" style=\"background-color: None;\">\n",
       "<div class=\"h\">יָד</div>\n",
       "<div class=\"features\"> <span class=\"voc_lex\"><a target=\"_blank\" href=\"https://shebanq.ancient-data.org/hebrew/word?version=c&id=1JDn\" title=\"show this lexeme in SHEBANQ\">J@D</a></span> <span class=\"gloss\">hand</span> <span class=\"freq_lex\"><span class=\"f\">freq_lex=</span>1618</span></div>\n",
       "<div class=\"occs\"><a href=\"https://shebanq.ancient-data.org/hebrew/text?book=Genesis&chapter=3&verse=22&version=c&mr=m&qw=q&tp=txt_p&tr=hb&wget=v&qget=v&nget=vt\" title=\"show this passage in SHEBANQ\" sec=\"Genesis 3:22\">Genesis 3:22</a> - <a href=\"https://shebanq.ancient-data.org/hebrew/text?book=Chronica_II&chapter=36&verse=17&version=c&mr=m&qw=q&tp=txt_p&tr=hb&wget=v&qget=v&nget=vt\" title=\"show this passage in SHEBANQ\" sec=\"2_Chronicles 36:17\">2_Chronicles 36:17</a></div>\n",
       "\n",
       "</div>\n",
       "\n",
       "</div>"
      ],
      "text/plain": [
       "<IPython.core.display.HTML object>"
      ]
     },
     "metadata": {},
     "output_type": "display_data"
    },
    {
     "data": {
      "text/markdown": [
       "\n",
       "\n",
       "**Result** *11*\n",
       "\n"
      ],
      "text/plain": [
       "<IPython.core.display.Markdown object>"
      ]
     },
     "metadata": {},
     "output_type": "display_data"
    },
    {
     "data": {
      "text/html": [
       "<div class=\"outeritem\">\n",
       "<div class=\"lextp \" style=\"background-color: None;\">\n",
       "<div class=\"h\">דָּבָר</div>\n",
       "<div class=\"features\"> <span class=\"voc_lex\"><a target=\"_blank\" href=\"https://shebanq.ancient-data.org/hebrew/word?version=c&id=1DBRn\" title=\"show this lexeme in SHEBANQ\">D.@B@R</a></span> <span class=\"gloss\">word</span> <span class=\"freq_lex\"><span class=\"f\">freq_lex=</span>1441</span></div>\n",
       "<div class=\"occs\"><a href=\"https://shebanq.ancient-data.org/hebrew/text?book=Genesis&chapter=11&verse=1&version=c&mr=m&qw=q&tp=txt_p&tr=hb&wget=v&qget=v&nget=vt\" title=\"show this passage in SHEBANQ\" sec=\"Genesis 11:1\">Genesis 11:1</a> - <a href=\"https://shebanq.ancient-data.org/hebrew/text?book=Chronica_II&chapter=36&verse=22&version=c&mr=m&qw=q&tp=txt_p&tr=hb&wget=v&qget=v&nget=vt\" title=\"show this passage in SHEBANQ\" sec=\"2_Chronicles 36:22\">2_Chronicles 36:22</a></div>\n",
       "\n",
       "</div>\n",
       "\n",
       "</div>"
      ],
      "text/plain": [
       "<IPython.core.display.HTML object>"
      ]
     },
     "metadata": {},
     "output_type": "display_data"
    },
    {
     "data": {
      "text/markdown": [
       "\n",
       "\n",
       "**Result** *12*\n",
       "\n"
      ],
      "text/plain": [
       "<IPython.core.display.Markdown object>"
      ]
     },
     "metadata": {},
     "output_type": "display_data"
    },
    {
     "data": {
      "text/html": [
       "<div class=\"outeritem\">\n",
       "<div class=\"lextp \" style=\"background-color: None;\">\n",
       "<div class=\"h\">אָב</div>\n",
       "<div class=\"features\"> <span class=\"voc_lex\"><a target=\"_blank\" href=\"https://shebanq.ancient-data.org/hebrew/word?version=c&id=1ABn\" title=\"show this lexeme in SHEBANQ\">>@B</a></span> <span class=\"gloss\">father</span> <span class=\"freq_lex\"><span class=\"f\">freq_lex=</span>1217</span></div>\n",
       "<div class=\"occs\"><a href=\"https://shebanq.ancient-data.org/hebrew/text?book=Genesis&chapter=2&verse=24&version=c&mr=m&qw=q&tp=txt_p&tr=hb&wget=v&qget=v&nget=vt\" title=\"show this passage in SHEBANQ\" sec=\"Genesis 2:24\">Genesis 2:24</a> - <a href=\"https://shebanq.ancient-data.org/hebrew/text?book=Chronica_II&chapter=36&verse=15&version=c&mr=m&qw=q&tp=txt_p&tr=hb&wget=v&qget=v&nget=vt\" title=\"show this passage in SHEBANQ\" sec=\"2_Chronicles 36:15\">2_Chronicles 36:15</a></div>\n",
       "\n",
       "</div>\n",
       "\n",
       "</div>"
      ],
      "text/plain": [
       "<IPython.core.display.HTML object>"
      ]
     },
     "metadata": {},
     "output_type": "display_data"
    },
    {
     "data": {
      "text/markdown": [
       "\n",
       "\n",
       "**Result** *13*\n",
       "\n"
      ],
      "text/plain": [
       "<IPython.core.display.Markdown object>"
      ]
     },
     "metadata": {},
     "output_type": "display_data"
    },
    {
     "data": {
      "text/html": [
       "<div class=\"outeritem\">\n",
       "<div class=\"lextp \" style=\"background-color: None;\">\n",
       "<div class=\"h\">עִיר</div>\n",
       "<div class=\"features\"> <span class=\"voc_lex\"><a target=\"_blank\" href=\"https://shebanq.ancient-data.org/hebrew/word?version=c&id=1OJRn\" title=\"show this lexeme in SHEBANQ\">&lt;IJR</a></span> <span class=\"gloss\">town</span> <span class=\"freq_lex\"><span class=\"f\">freq_lex=</span>1090</span></div>\n",
       "<div class=\"occs\"><a href=\"https://shebanq.ancient-data.org/hebrew/text?book=Genesis&chapter=4&verse=17&version=c&mr=m&qw=q&tp=txt_p&tr=hb&wget=v&qget=v&nget=vt\" title=\"show this passage in SHEBANQ\" sec=\"Genesis 4:17\">Genesis 4:17</a> - <a href=\"https://shebanq.ancient-data.org/hebrew/text?book=Chronica_II&chapter=34&verse=8&version=c&mr=m&qw=q&tp=txt_p&tr=hb&wget=v&qget=v&nget=vt\" title=\"show this passage in SHEBANQ\" sec=\"2_Chronicles 34:8\">2_Chronicles 34:8</a></div>\n",
       "\n",
       "</div>\n",
       "\n",
       "</div>"
      ],
      "text/plain": [
       "<IPython.core.display.HTML object>"
      ]
     },
     "metadata": {},
     "output_type": "display_data"
    },
    {
     "data": {
      "text/markdown": [
       "\n",
       "\n",
       "**Result** *14*\n",
       "\n"
      ],
      "text/plain": [
       "<IPython.core.display.Markdown object>"
      ]
     },
     "metadata": {},
     "output_type": "display_data"
    },
    {
     "data": {
      "text/html": [
       "<div class=\"outeritem\">\n",
       "<div class=\"lextp \" style=\"background-color: None;\">\n",
       "<div class=\"h\">אֶחָד</div>\n",
       "<div class=\"features\"> <span class=\"voc_lex\"><a target=\"_blank\" href=\"https://shebanq.ancient-data.org/hebrew/word?version=c&id=1AXDn\" title=\"show this lexeme in SHEBANQ\">>EX@D</a></span> <span class=\"gloss\">one</span> <span class=\"ls\"><span class=\"f\">ls=</span>card</span> <span class=\"freq_lex\"><span class=\"f\">freq_lex=</span>970</span></div>\n",
       "<div class=\"occs\"><a href=\"https://shebanq.ancient-data.org/hebrew/text?book=Genesis&chapter=1&verse=5&version=c&mr=m&qw=q&tp=txt_p&tr=hb&wget=v&qget=v&nget=vt\" title=\"show this passage in SHEBANQ\" sec=\"Genesis 1:5\">Genesis 1:5</a> - <a href=\"https://shebanq.ancient-data.org/hebrew/text?book=Chronica_II&chapter=36&verse=22&version=c&mr=m&qw=q&tp=txt_p&tr=hb&wget=v&qget=v&nget=vt\" title=\"show this passage in SHEBANQ\" sec=\"2_Chronicles 36:22\">2_Chronicles 36:22</a></div>\n",
       "\n",
       "</div>\n",
       "\n",
       "</div>"
      ],
      "text/plain": [
       "<IPython.core.display.HTML object>"
      ]
     },
     "metadata": {},
     "output_type": "display_data"
    },
    {
     "data": {
      "text/markdown": [
       "\n",
       "\n",
       "**Result** *15*\n",
       "\n"
      ],
      "text/plain": [
       "<IPython.core.display.Markdown object>"
      ]
     },
     "metadata": {},
     "output_type": "display_data"
    },
    {
     "data": {
      "text/html": [
       "<div class=\"outeritem\">\n",
       "<div class=\"lextp \" style=\"background-color: None;\">\n",
       "<div class=\"h\">עַיִן</div>\n",
       "<div class=\"features\"> <span class=\"voc_lex\"><a target=\"_blank\" href=\"https://shebanq.ancient-data.org/hebrew/word?version=c&id=1OJNn\" title=\"show this lexeme in SHEBANQ\">&lt;AJIN</a></span> <span class=\"gloss\">eye</span> <span class=\"freq_lex\"><span class=\"f\">freq_lex=</span>887</span></div>\n",
       "<div class=\"occs\"><a href=\"https://shebanq.ancient-data.org/hebrew/text?book=Genesis&chapter=3&verse=5&version=c&mr=m&qw=q&tp=txt_p&tr=hb&wget=v&qget=v&nget=vt\" title=\"show this passage in SHEBANQ\" sec=\"Genesis 3:5\">Genesis 3:5</a> - <a href=\"https://shebanq.ancient-data.org/hebrew/text?book=Chronica_II&chapter=36&verse=12&version=c&mr=m&qw=q&tp=txt_p&tr=hb&wget=v&qget=v&nget=vt\" title=\"show this passage in SHEBANQ\" sec=\"2_Chronicles 36:12\">2_Chronicles 36:12</a></div>\n",
       "\n",
       "</div>\n",
       "\n",
       "</div>"
      ],
      "text/plain": [
       "<IPython.core.display.HTML object>"
      ]
     },
     "metadata": {},
     "output_type": "display_data"
    },
    {
     "data": {
      "text/markdown": [
       "\n",
       "\n",
       "**Result** *16*\n",
       "\n"
      ],
      "text/plain": [
       "<IPython.core.display.Markdown object>"
      ]
     },
     "metadata": {},
     "output_type": "display_data"
    },
    {
     "data": {
      "text/html": [
       "<div class=\"outeritem\">\n",
       "<div class=\"lextp \" style=\"background-color: None;\">\n",
       "<div class=\"h\">שָׁנָה</div>\n",
       "<div class=\"features\"> <span class=\"voc_lex\"><a target=\"_blank\" href=\"https://shebanq.ancient-data.org/hebrew/word?version=c&id=1CNHn\" title=\"show this lexeme in SHEBANQ\">C@N@H</a></span> <span class=\"gloss\">year</span> <span class=\"freq_lex\"><span class=\"f\">freq_lex=</span>876</span></div>\n",
       "<div class=\"occs\"><a href=\"https://shebanq.ancient-data.org/hebrew/text?book=Genesis&chapter=1&verse=14&version=c&mr=m&qw=q&tp=txt_p&tr=hb&wget=v&qget=v&nget=vt\" title=\"show this passage in SHEBANQ\" sec=\"Genesis 1:14\">Genesis 1:14</a> - <a href=\"https://shebanq.ancient-data.org/hebrew/text?book=Chronica_II&chapter=36&verse=22&version=c&mr=m&qw=q&tp=txt_p&tr=hb&wget=v&qget=v&nget=vt\" title=\"show this passage in SHEBANQ\" sec=\"2_Chronicles 36:22\">2_Chronicles 36:22</a></div>\n",
       "\n",
       "</div>\n",
       "\n",
       "</div>"
      ],
      "text/plain": [
       "<IPython.core.display.HTML object>"
      ]
     },
     "metadata": {},
     "output_type": "display_data"
    },
    {
     "data": {
      "text/markdown": [
       "\n",
       "\n",
       "**Result** *17*\n",
       "\n"
      ],
      "text/plain": [
       "<IPython.core.display.Markdown object>"
      ]
     },
     "metadata": {},
     "output_type": "display_data"
    },
    {
     "data": {
      "text/html": [
       "<div class=\"outeritem\">\n",
       "<div class=\"lextp \" style=\"background-color: None;\">\n",
       "<div class=\"h\">שֵׁם</div>\n",
       "<div class=\"features\"> <span class=\"voc_lex\"><a target=\"_blank\" href=\"https://shebanq.ancient-data.org/hebrew/word?version=c&id=1CMn\" title=\"show this lexeme in SHEBANQ\">C;M</a></span> <span class=\"gloss\">name</span> <span class=\"freq_lex\"><span class=\"f\">freq_lex=</span>864</span></div>\n",
       "<div class=\"occs\"><a href=\"https://shebanq.ancient-data.org/hebrew/text?book=Genesis&chapter=2&verse=11&version=c&mr=m&qw=q&tp=txt_p&tr=hb&wget=v&qget=v&nget=vt\" title=\"show this passage in SHEBANQ\" sec=\"Genesis 2:11\">Genesis 2:11</a> - <a href=\"https://shebanq.ancient-data.org/hebrew/text?book=Chronica_II&chapter=36&verse=4&version=c&mr=m&qw=q&tp=txt_p&tr=hb&wget=v&qget=v&nget=vt\" title=\"show this passage in SHEBANQ\" sec=\"2_Chronicles 36:4\">2_Chronicles 36:4</a></div>\n",
       "\n",
       "</div>\n",
       "\n",
       "</div>"
      ],
      "text/plain": [
       "<IPython.core.display.HTML object>"
      ]
     },
     "metadata": {},
     "output_type": "display_data"
    },
    {
     "data": {
      "text/markdown": [
       "\n",
       "\n",
       "**Result** *18*\n",
       "\n"
      ],
      "text/plain": [
       "<IPython.core.display.Markdown object>"
      ]
     },
     "metadata": {},
     "output_type": "display_data"
    },
    {
     "data": {
      "text/html": [
       "<div class=\"outeritem\">\n",
       "<div class=\"lextp \" style=\"background-color: None;\">\n",
       "<div class=\"h\">עֶבֶד</div>\n",
       "<div class=\"features\"> <span class=\"voc_lex\"><a target=\"_blank\" href=\"https://shebanq.ancient-data.org/hebrew/word?version=c&id=1OBDn\" title=\"show this lexeme in SHEBANQ\">&lt;EBED</a></span> <span class=\"gloss\">servant</span> <span class=\"freq_lex\"><span class=\"f\">freq_lex=</span>800</span></div>\n",
       "<div class=\"occs\"><a href=\"https://shebanq.ancient-data.org/hebrew/text?book=Genesis&chapter=9&verse=25&version=c&mr=m&qw=q&tp=txt_p&tr=hb&wget=v&qget=v&nget=vt\" title=\"show this passage in SHEBANQ\" sec=\"Genesis 9:25\">Genesis 9:25</a> - <a href=\"https://shebanq.ancient-data.org/hebrew/text?book=Chronica_II&chapter=36&verse=20&version=c&mr=m&qw=q&tp=txt_p&tr=hb&wget=v&qget=v&nget=vt\" title=\"show this passage in SHEBANQ\" sec=\"2_Chronicles 36:20\">2_Chronicles 36:20</a></div>\n",
       "\n",
       "</div>\n",
       "\n",
       "</div>"
      ],
      "text/plain": [
       "<IPython.core.display.HTML object>"
      ]
     },
     "metadata": {},
     "output_type": "display_data"
    },
    {
     "data": {
      "text/markdown": [
       "\n",
       "\n",
       "**Result** *19*\n",
       "\n"
      ],
      "text/plain": [
       "<IPython.core.display.Markdown object>"
      ]
     },
     "metadata": {},
     "output_type": "display_data"
    },
    {
     "data": {
      "text/html": [
       "<div class=\"outeritem\">\n",
       "<div class=\"lextp \" style=\"background-color: None;\">\n",
       "<div class=\"h\">אַיִן</div>\n",
       "<div class=\"features\"> <span class=\"voc_lex\"><a target=\"_blank\" href=\"https://shebanq.ancient-data.org/hebrew/word?version=c&id=1AJNn\" title=\"show this lexeme in SHEBANQ\">>AJIN</a></span> <span class=\"gloss\">&lt;NEG></span> <span class=\"ls\"><span class=\"f\">ls=</span>nmcp</span> <span class=\"freq_lex\"><span class=\"f\">freq_lex=</span>788</span></div>\n",
       "<div class=\"occs\"><a href=\"https://shebanq.ancient-data.org/hebrew/text?book=Genesis&chapter=2&verse=5&version=c&mr=m&qw=q&tp=txt_p&tr=hb&wget=v&qget=v&nget=vt\" title=\"show this passage in SHEBANQ\" sec=\"Genesis 2:5\">Genesis 2:5</a> - <a href=\"https://shebanq.ancient-data.org/hebrew/text?book=Chronica_II&chapter=36&verse=16&version=c&mr=m&qw=q&tp=txt_p&tr=hb&wget=v&qget=v&nget=vt\" title=\"show this passage in SHEBANQ\" sec=\"2_Chronicles 36:16\">2_Chronicles 36:16</a></div>\n",
       "\n",
       "</div>\n",
       "\n",
       "</div>"
      ],
      "text/plain": [
       "<IPython.core.display.HTML object>"
      ]
     },
     "metadata": {},
     "output_type": "display_data"
    },
    {
     "data": {
      "text/markdown": [
       "\n",
       "\n",
       "**Result** *20*\n",
       "\n"
      ],
      "text/plain": [
       "<IPython.core.display.Markdown object>"
      ]
     },
     "metadata": {},
     "output_type": "display_data"
    },
    {
     "data": {
      "text/html": [
       "<div class=\"outeritem\">\n",
       "<div class=\"lextp \" style=\"background-color: None;\">\n",
       "<div class=\"h\">אִשָּׁה</div>\n",
       "<div class=\"features\"> <span class=\"voc_lex\"><a target=\"_blank\" href=\"https://shebanq.ancient-data.org/hebrew/word?version=c&id=1ACHn\" title=\"show this lexeme in SHEBANQ\">>IC.@H</a></span> <span class=\"gloss\">woman</span> <span class=\"ls\"><span class=\"f\">ls=</span>nmdi</span> <span class=\"freq_lex\"><span class=\"f\">freq_lex=</span>781</span></div>\n",
       "<div class=\"occs\"><a href=\"https://shebanq.ancient-data.org/hebrew/text?book=Genesis&chapter=2&verse=22&version=c&mr=m&qw=q&tp=txt_p&tr=hb&wget=v&qget=v&nget=vt\" title=\"show this passage in SHEBANQ\" sec=\"Genesis 2:22\">Genesis 2:22</a> - <a href=\"https://shebanq.ancient-data.org/hebrew/text?book=Chronica_II&chapter=34&verse=22&version=c&mr=m&qw=q&tp=txt_p&tr=hb&wget=v&qget=v&nget=vt\" title=\"show this passage in SHEBANQ\" sec=\"2_Chronicles 34:22\">2_Chronicles 34:22</a></div>\n",
       "\n",
       "</div>\n",
       "\n",
       "</div>"
      ],
      "text/plain": [
       "<IPython.core.display.HTML object>"
      ]
     },
     "metadata": {},
     "output_type": "display_data"
    },
    {
     "data": {
      "text/markdown": [
       "\n",
       "\n",
       "**Result** *21*\n",
       "\n"
      ],
      "text/plain": [
       "<IPython.core.display.Markdown object>"
      ]
     },
     "metadata": {},
     "output_type": "display_data"
    },
    {
     "data": {
      "text/html": [
       "<div class=\"outeritem\">\n",
       "<div class=\"lextp \" style=\"background-color: None;\">\n",
       "<div class=\"h\">שְׁנַיִם</div>\n",
       "<div class=\"features\"> <span class=\"voc_lex\"><a target=\"_blank\" href=\"https://shebanq.ancient-data.org/hebrew/word?version=c&id=1CNJMn\" title=\"show this lexeme in SHEBANQ\">C:NAJIM</a></span> <span class=\"gloss\">two</span> <span class=\"ls\"><span class=\"f\">ls=</span>card</span> <span class=\"freq_lex\"><span class=\"f\">freq_lex=</span>768</span></div>\n",
       "<div class=\"occs\"><a href=\"https://shebanq.ancient-data.org/hebrew/text?book=Genesis&chapter=1&verse=16&version=c&mr=m&qw=q&tp=txt_p&tr=hb&wget=v&qget=v&nget=vt\" title=\"show this passage in SHEBANQ\" sec=\"Genesis 1:16\">Genesis 1:16</a> - <a href=\"https://shebanq.ancient-data.org/hebrew/text?book=Chronica_II&chapter=34&verse=3&version=c&mr=m&qw=q&tp=txt_p&tr=hb&wget=v&qget=v&nget=vt\" title=\"show this passage in SHEBANQ\" sec=\"2_Chronicles 34:3\">2_Chronicles 34:3</a></div>\n",
       "\n",
       "</div>\n",
       "\n",
       "</div>"
      ],
      "text/plain": [
       "<IPython.core.display.HTML object>"
      ]
     },
     "metadata": {},
     "output_type": "display_data"
    },
    {
     "data": {
      "text/markdown": [
       "\n",
       "\n",
       "**Result** *22*\n",
       "\n"
      ],
      "text/plain": [
       "<IPython.core.display.Markdown object>"
      ]
     },
     "metadata": {},
     "output_type": "display_data"
    },
    {
     "data": {
      "text/html": [
       "<div class=\"outeritem\">\n",
       "<div class=\"lextp \" style=\"background-color: None;\">\n",
       "<div class=\"h\">נֶפֶשׁ</div>\n",
       "<div class=\"features\"> <span class=\"voc_lex\"><a target=\"_blank\" href=\"https://shebanq.ancient-data.org/hebrew/word?version=c&id=1NPCn\" title=\"show this lexeme in SHEBANQ\">NEPEC</a></span> <span class=\"gloss\">soul</span> <span class=\"freq_lex\"><span class=\"f\">freq_lex=</span>754</span></div>\n",
       "<div class=\"occs\"><a href=\"https://shebanq.ancient-data.org/hebrew/text?book=Genesis&chapter=1&verse=20&version=c&mr=m&qw=q&tp=txt_p&tr=hb&wget=v&qget=v&nget=vt\" title=\"show this passage in SHEBANQ\" sec=\"Genesis 1:20\">Genesis 1:20</a> - <a href=\"https://shebanq.ancient-data.org/hebrew/text?book=Chronica_II&chapter=34&verse=31&version=c&mr=m&qw=q&tp=txt_p&tr=hb&wget=v&qget=v&nget=vt\" title=\"show this passage in SHEBANQ\" sec=\"2_Chronicles 34:31\">2_Chronicles 34:31</a></div>\n",
       "\n",
       "</div>\n",
       "\n",
       "</div>"
      ],
      "text/plain": [
       "<IPython.core.display.HTML object>"
      ]
     },
     "metadata": {},
     "output_type": "display_data"
    },
    {
     "data": {
      "text/markdown": [
       "\n",
       "\n",
       "**Result** *23*\n",
       "\n"
      ],
      "text/plain": [
       "<IPython.core.display.Markdown object>"
      ]
     },
     "metadata": {},
     "output_type": "display_data"
    },
    {
     "data": {
      "text/html": [
       "<div class=\"outeritem\">\n",
       "<div class=\"lextp \" style=\"background-color: None;\">\n",
       "<div class=\"h\">כֹּהֵן</div>\n",
       "<div class=\"features\"> <span class=\"voc_lex\"><a target=\"_blank\" href=\"https://shebanq.ancient-data.org/hebrew/word?version=c&id=1KHNn\" title=\"show this lexeme in SHEBANQ\">K.OH;N</a></span> <span class=\"gloss\">priest</span> <span class=\"freq_lex\"><span class=\"f\">freq_lex=</span>750</span></div>\n",
       "<div class=\"occs\"><a href=\"https://shebanq.ancient-data.org/hebrew/text?book=Genesis&chapter=14&verse=18&version=c&mr=m&qw=q&tp=txt_p&tr=hb&wget=v&qget=v&nget=vt\" title=\"show this passage in SHEBANQ\" sec=\"Genesis 14:18\">Genesis 14:18</a> - <a href=\"https://shebanq.ancient-data.org/hebrew/text?book=Chronica_II&chapter=36&verse=14&version=c&mr=m&qw=q&tp=txt_p&tr=hb&wget=v&qget=v&nget=vt\" title=\"show this passage in SHEBANQ\" sec=\"2_Chronicles 36:14\">2_Chronicles 36:14</a></div>\n",
       "\n",
       "</div>\n",
       "\n",
       "</div>"
      ],
      "text/plain": [
       "<IPython.core.display.HTML object>"
      ]
     },
     "metadata": {},
     "output_type": "display_data"
    },
    {
     "data": {
      "text/markdown": [
       "\n",
       "\n",
       "**Result** *24*\n",
       "\n"
      ],
      "text/plain": [
       "<IPython.core.display.Markdown object>"
      ]
     },
     "metadata": {},
     "output_type": "display_data"
    },
    {
     "data": {
      "text/html": [
       "<div class=\"outeritem\">\n",
       "<div class=\"lextp \" style=\"background-color: None;\">\n",
       "<div class=\"h\">אַחַר</div>\n",
       "<div class=\"features\"> <span class=\"voc_lex\"><a target=\"_blank\" href=\"https://shebanq.ancient-data.org/hebrew/word?version=c&id=1AXRn\" title=\"show this lexeme in SHEBANQ\">>AXAR</a></span> <span class=\"gloss\">after</span> <span class=\"ls\"><span class=\"f\">ls=</span>ppre</span> <span class=\"freq_lex\"><span class=\"f\">freq_lex=</span>715</span></div>\n",
       "<div class=\"occs\"><a href=\"https://shebanq.ancient-data.org/hebrew/text?book=Genesis&chapter=5&verse=4&version=c&mr=m&qw=q&tp=txt_p&tr=hb&wget=v&qget=v&nget=vt\" title=\"show this passage in SHEBANQ\" sec=\"Genesis 5:4\">Genesis 5:4</a> - <a href=\"https://shebanq.ancient-data.org/hebrew/text?book=Chronica_II&chapter=35&verse=20&version=c&mr=m&qw=q&tp=txt_p&tr=hb&wget=v&qget=v&nget=vt\" title=\"show this passage in SHEBANQ\" sec=\"2_Chronicles 35:20\">2_Chronicles 35:20</a></div>\n",
       "\n",
       "</div>\n",
       "\n",
       "</div>"
      ],
      "text/plain": [
       "<IPython.core.display.HTML object>"
      ]
     },
     "metadata": {},
     "output_type": "display_data"
    },
    {
     "data": {
      "text/markdown": [
       "\n",
       "\n",
       "**Result** *25*\n",
       "\n"
      ],
      "text/plain": [
       "<IPython.core.display.Markdown object>"
      ]
     },
     "metadata": {},
     "output_type": "display_data"
    },
    {
     "data": {
      "text/html": [
       "<div class=\"outeritem\">\n",
       "<div class=\"lextp \" style=\"background-color: None;\">\n",
       "<div class=\"h\">דֶּרֶךְ</div>\n",
       "<div class=\"features\"> <span class=\"voc_lex\"><a target=\"_blank\" href=\"https://shebanq.ancient-data.org/hebrew/word?version=c&id=1DRKn\" title=\"show this lexeme in SHEBANQ\">D.EREK:</a></span> <span class=\"gloss\">way</span> <span class=\"ls\"><span class=\"f\">ls=</span>ppre</span> <span class=\"freq_lex\"><span class=\"f\">freq_lex=</span>706</span></div>\n",
       "<div class=\"occs\"><a href=\"https://shebanq.ancient-data.org/hebrew/text?book=Genesis&chapter=3&verse=24&version=c&mr=m&qw=q&tp=txt_p&tr=hb&wget=v&qget=v&nget=vt\" title=\"show this passage in SHEBANQ\" sec=\"Genesis 3:24\">Genesis 3:24</a> - <a href=\"https://shebanq.ancient-data.org/hebrew/text?book=Chronica_II&chapter=34&verse=2&version=c&mr=m&qw=q&tp=txt_p&tr=hb&wget=v&qget=v&nget=vt\" title=\"show this passage in SHEBANQ\" sec=\"2_Chronicles 34:2\">2_Chronicles 34:2</a></div>\n",
       "\n",
       "</div>\n",
       "\n",
       "</div>"
      ],
      "text/plain": [
       "<IPython.core.display.HTML object>"
      ]
     },
     "metadata": {},
     "output_type": "display_data"
    },
    {
     "data": {
      "text/markdown": [
       "\n",
       "\n",
       "**Result** *26*\n",
       "\n"
      ],
      "text/plain": [
       "<IPython.core.display.Markdown object>"
      ]
     },
     "metadata": {},
     "output_type": "display_data"
    },
    {
     "data": {
      "text/html": [
       "<div class=\"outeritem\">\n",
       "<div class=\"lextp \" style=\"background-color: None;\">\n",
       "<div class=\"h\">אָח</div>\n",
       "<div class=\"features\"> <span class=\"voc_lex\"><a target=\"_blank\" href=\"https://shebanq.ancient-data.org/hebrew/word?version=c&id=1AXn\" title=\"show this lexeme in SHEBANQ\">>@X</a></span> <span class=\"gloss\">brother</span> <span class=\"ls\"><span class=\"f\">ls=</span>nmdi</span> <span class=\"freq_lex\"><span class=\"f\">freq_lex=</span>629</span></div>\n",
       "<div class=\"occs\"><a href=\"https://shebanq.ancient-data.org/hebrew/text?book=Genesis&chapter=4&verse=2&version=c&mr=m&qw=q&tp=txt_p&tr=hb&wget=v&qget=v&nget=vt\" title=\"show this passage in SHEBANQ\" sec=\"Genesis 4:2\">Genesis 4:2</a> - <a href=\"https://shebanq.ancient-data.org/hebrew/text?book=Chronica_II&chapter=36&verse=10&version=c&mr=m&qw=q&tp=txt_p&tr=hb&wget=v&qget=v&nget=vt\" title=\"show this passage in SHEBANQ\" sec=\"2_Chronicles 36:10\">2_Chronicles 36:10</a></div>\n",
       "\n",
       "</div>\n",
       "\n",
       "</div>"
      ],
      "text/plain": [
       "<IPython.core.display.HTML object>"
      ]
     },
     "metadata": {},
     "output_type": "display_data"
    },
    {
     "data": {
      "text/markdown": [
       "\n",
       "\n",
       "**Result** *27*\n",
       "\n"
      ],
      "text/plain": [
       "<IPython.core.display.Markdown object>"
      ]
     },
     "metadata": {},
     "output_type": "display_data"
    },
    {
     "data": {
      "text/html": [
       "<div class=\"outeritem\">\n",
       "<div class=\"lextp \" style=\"background-color: None;\">\n",
       "<div class=\"h\">שָׁלֹשׁ</div>\n",
       "<div class=\"features\"> <span class=\"voc_lex\"><a target=\"_blank\" href=\"https://shebanq.ancient-data.org/hebrew/word?version=c&id=1CLCn\" title=\"show this lexeme in SHEBANQ\">C@LOC</a></span> <span class=\"gloss\">three</span> <span class=\"ls\"><span class=\"f\">ls=</span>card</span> <span class=\"freq_lex\"><span class=\"f\">freq_lex=</span>602</span></div>\n",
       "<div class=\"occs\"><a href=\"https://shebanq.ancient-data.org/hebrew/text?book=Genesis&chapter=5&verse=3&version=c&mr=m&qw=q&tp=txt_p&tr=hb&wget=v&qget=v&nget=vt\" title=\"show this passage in SHEBANQ\" sec=\"Genesis 5:3\">Genesis 5:3</a> - <a href=\"https://shebanq.ancient-data.org/hebrew/text?book=Chronica_II&chapter=36&verse=9&version=c&mr=m&qw=q&tp=txt_p&tr=hb&wget=v&qget=v&nget=vt\" title=\"show this passage in SHEBANQ\" sec=\"2_Chronicles 36:9\">2_Chronicles 36:9</a></div>\n",
       "\n",
       "</div>\n",
       "\n",
       "</div>"
      ],
      "text/plain": [
       "<IPython.core.display.HTML object>"
      ]
     },
     "metadata": {},
     "output_type": "display_data"
    },
    {
     "data": {
      "text/markdown": [
       "\n",
       "\n",
       "**Result** *28*\n",
       "\n"
      ],
      "text/plain": [
       "<IPython.core.display.Markdown object>"
      ]
     },
     "metadata": {},
     "output_type": "display_data"
    },
    {
     "data": {
      "text/html": [
       "<div class=\"outeritem\">\n",
       "<div class=\"lextp \" style=\"background-color: None;\">\n",
       "<div class=\"h\">לֵב</div>\n",
       "<div class=\"features\"> <span class=\"voc_lex\"><a target=\"_blank\" href=\"https://shebanq.ancient-data.org/hebrew/word?version=c&id=1LBn\" title=\"show this lexeme in SHEBANQ\">L;B</a></span> <span class=\"gloss\">heart</span> <span class=\"freq_lex\"><span class=\"f\">freq_lex=</span>601</span></div>\n",
       "<div class=\"occs\"><a href=\"https://shebanq.ancient-data.org/hebrew/text?book=Genesis&chapter=6&verse=5&version=c&mr=m&qw=q&tp=txt_p&tr=hb&wget=v&qget=v&nget=vt\" title=\"show this passage in SHEBANQ\" sec=\"Genesis 6:5\">Genesis 6:5</a> - <a href=\"https://shebanq.ancient-data.org/hebrew/text?book=Chronica_II&chapter=32&verse=26&version=c&mr=m&qw=q&tp=txt_p&tr=hb&wget=v&qget=v&nget=vt\" title=\"show this passage in SHEBANQ\" sec=\"2_Chronicles 32:26\">2_Chronicles 32:26</a></div>\n",
       "\n",
       "</div>\n",
       "\n",
       "</div>"
      ],
      "text/plain": [
       "<IPython.core.display.HTML object>"
      ]
     },
     "metadata": {},
     "output_type": "display_data"
    },
    {
     "data": {
      "text/markdown": [
       "\n",
       "\n",
       "**Result** *29*\n",
       "\n"
      ],
      "text/plain": [
       "<IPython.core.display.Markdown object>"
      ]
     },
     "metadata": {},
     "output_type": "display_data"
    },
    {
     "data": {
      "text/html": [
       "<div class=\"outeritem\">\n",
       "<div class=\"lextp \" style=\"background-color: None;\">\n",
       "<div class=\"h\">רֹאשׁ</div>\n",
       "<div class=\"features\"> <span class=\"voc_lex\"><a target=\"_blank\" href=\"https://shebanq.ancient-data.org/hebrew/word?version=c&id=1RACn\" title=\"show this lexeme in SHEBANQ\">RO>C</a></span> <span class=\"gloss\">head</span> <span class=\"freq_lex\"><span class=\"f\">freq_lex=</span>599</span></div>\n",
       "<div class=\"occs\"><a href=\"https://shebanq.ancient-data.org/hebrew/text?book=Genesis&chapter=2&verse=10&version=c&mr=m&qw=q&tp=txt_p&tr=hb&wget=v&qget=v&nget=vt\" title=\"show this passage in SHEBANQ\" sec=\"Genesis 2:10\">Genesis 2:10</a> - <a href=\"https://shebanq.ancient-data.org/hebrew/text?book=Chronica_II&chapter=31&verse=10&version=c&mr=m&qw=q&tp=txt_p&tr=hb&wget=v&qget=v&nget=vt\" title=\"show this passage in SHEBANQ\" sec=\"2_Chronicles 31:10\">2_Chronicles 31:10</a></div>\n",
       "\n",
       "</div>\n",
       "\n",
       "</div>"
      ],
      "text/plain": [
       "<IPython.core.display.HTML object>"
      ]
     },
     "metadata": {},
     "output_type": "display_data"
    },
    {
     "data": {
      "text/markdown": [
       "\n",
       "\n",
       "**Result** *30*\n",
       "\n"
      ],
      "text/plain": [
       "<IPython.core.display.Markdown object>"
      ]
     },
     "metadata": {},
     "output_type": "display_data"
    },
    {
     "data": {
      "text/html": [
       "<div class=\"outeritem\">\n",
       "<div class=\"lextp \" style=\"background-color: None;\">\n",
       "<div class=\"h\">בַּת</div>\n",
       "<div class=\"features\"> <span class=\"voc_lex\"><a target=\"_blank\" href=\"https://shebanq.ancient-data.org/hebrew/word?version=c&id=1BTn\" title=\"show this lexeme in SHEBANQ\">B.AT</a></span> <span class=\"gloss\">daughter</span> <span class=\"freq_lex\"><span class=\"f\">freq_lex=</span>588</span></div>\n",
       "<div class=\"occs\"><a href=\"https://shebanq.ancient-data.org/hebrew/text?book=Genesis&chapter=5&verse=4&version=c&mr=m&qw=q&tp=txt_p&tr=hb&wget=v&qget=v&nget=vt\" title=\"show this passage in SHEBANQ\" sec=\"Genesis 5:4\">Genesis 5:4</a> - <a href=\"https://shebanq.ancient-data.org/hebrew/text?book=Chronica_II&chapter=31&verse=18&version=c&mr=m&qw=q&tp=txt_p&tr=hb&wget=v&qget=v&nget=vt\" title=\"show this passage in SHEBANQ\" sec=\"2_Chronicles 31:18\">2_Chronicles 31:18</a></div>\n",
       "\n",
       "</div>\n",
       "\n",
       "</div>"
      ],
      "text/plain": [
       "<IPython.core.display.HTML object>"
      ]
     },
     "metadata": {},
     "output_type": "display_data"
    },
    {
     "data": {
      "text/markdown": [
       "\n",
       "\n",
       "**Result** *31*\n",
       "\n"
      ],
      "text/plain": [
       "<IPython.core.display.Markdown object>"
      ]
     },
     "metadata": {},
     "output_type": "display_data"
    },
    {
     "data": {
      "text/html": [
       "<div class=\"outeritem\">\n",
       "<div class=\"lextp \" style=\"background-color: None;\">\n",
       "<div class=\"h\">מַיִם</div>\n",
       "<div class=\"features\"> <span class=\"voc_lex\"><a target=\"_blank\" href=\"https://shebanq.ancient-data.org/hebrew/word?version=c&id=1MJMn\" title=\"show this lexeme in SHEBANQ\">MAJIM</a></span> <span class=\"gloss\">water</span> <span class=\"freq_lex\"><span class=\"f\">freq_lex=</span>582</span></div>\n",
       "<div class=\"occs\"><a href=\"https://shebanq.ancient-data.org/hebrew/text?book=Genesis&chapter=1&verse=2&version=c&mr=m&qw=q&tp=txt_p&tr=hb&wget=v&qget=v&nget=vt\" title=\"show this passage in SHEBANQ\" sec=\"Genesis 1:2\">Genesis 1:2</a> - <a href=\"https://shebanq.ancient-data.org/hebrew/text?book=Chronica_II&chapter=32&verse=30&version=c&mr=m&qw=q&tp=txt_p&tr=hb&wget=v&qget=v&nget=vt\" title=\"show this passage in SHEBANQ\" sec=\"2_Chronicles 32:30\">2_Chronicles 32:30</a></div>\n",
       "\n",
       "</div>\n",
       "\n",
       "</div>"
      ],
      "text/plain": [
       "<IPython.core.display.HTML object>"
      ]
     },
     "metadata": {},
     "output_type": "display_data"
    },
    {
     "data": {
      "text/markdown": [
       "\n",
       "\n",
       "**Result** *32*\n",
       "\n"
      ],
      "text/plain": [
       "<IPython.core.display.Markdown object>"
      ]
     },
     "metadata": {},
     "output_type": "display_data"
    },
    {
     "data": {
      "text/html": [
       "<div class=\"outeritem\">\n",
       "<div class=\"lextp \" style=\"background-color: None;\">\n",
       "<div class=\"h\">מֵאָה</div>\n",
       "<div class=\"features\"> <span class=\"voc_lex\"><a target=\"_blank\" href=\"https://shebanq.ancient-data.org/hebrew/word?version=c&id=1MAHn\" title=\"show this lexeme in SHEBANQ\">M;>@H</a></span> <span class=\"gloss\">hundred</span> <span class=\"ls\"><span class=\"f\">ls=</span>card</span> <span class=\"freq_lex\"><span class=\"f\">freq_lex=</span>579</span></div>\n",
       "<div class=\"occs\"><a href=\"https://shebanq.ancient-data.org/hebrew/text?book=Genesis&chapter=5&verse=3&version=c&mr=m&qw=q&tp=txt_p&tr=hb&wget=v&qget=v&nget=vt\" title=\"show this passage in SHEBANQ\" sec=\"Genesis 5:3\">Genesis 5:3</a> - <a href=\"https://shebanq.ancient-data.org/hebrew/text?book=Chronica_II&chapter=36&verse=3&version=c&mr=m&qw=q&tp=txt_p&tr=hb&wget=v&qget=v&nget=vt\" title=\"show this passage in SHEBANQ\" sec=\"2_Chronicles 36:3\">2_Chronicles 36:3</a></div>\n",
       "\n",
       "</div>\n",
       "\n",
       "</div>"
      ],
      "text/plain": [
       "<IPython.core.display.HTML object>"
      ]
     },
     "metadata": {},
     "output_type": "display_data"
    },
    {
     "data": {
      "text/markdown": [
       "\n",
       "\n",
       "**Result** *33*\n",
       "\n"
      ],
      "text/plain": [
       "<IPython.core.display.Markdown object>"
      ]
     },
     "metadata": {},
     "output_type": "display_data"
    },
    {
     "data": {
      "text/html": [
       "<div class=\"outeritem\">\n",
       "<div class=\"lextp \" style=\"background-color: None;\">\n",
       "<div class=\"h\">הַר</div>\n",
       "<div class=\"features\"> <span class=\"voc_lex\"><a target=\"_blank\" href=\"https://shebanq.ancient-data.org/hebrew/word?version=c&id=1HRn\" title=\"show this lexeme in SHEBANQ\">HAR</a></span> <span class=\"gloss\">mountain</span> <span class=\"freq_lex\"><span class=\"f\">freq_lex=</span>558</span></div>\n",
       "<div class=\"occs\"><a href=\"https://shebanq.ancient-data.org/hebrew/text?book=Genesis&chapter=7&verse=19&version=c&mr=m&qw=q&tp=txt_p&tr=hb&wget=v&qget=v&nget=vt\" title=\"show this passage in SHEBANQ\" sec=\"Genesis 7:19\">Genesis 7:19</a> - <a href=\"https://shebanq.ancient-data.org/hebrew/text?book=Chronica_II&chapter=33&verse=15&version=c&mr=m&qw=q&tp=txt_p&tr=hb&wget=v&qget=v&nget=vt\" title=\"show this passage in SHEBANQ\" sec=\"2_Chronicles 33:15\">2_Chronicles 33:15</a></div>\n",
       "\n",
       "</div>\n",
       "\n",
       "</div>"
      ],
      "text/plain": [
       "<IPython.core.display.HTML object>"
      ]
     },
     "metadata": {},
     "output_type": "display_data"
    },
    {
     "data": {
      "text/markdown": [
       "\n",
       "\n",
       "**Result** *34*\n",
       "\n"
      ],
      "text/plain": [
       "<IPython.core.display.Markdown object>"
      ]
     },
     "metadata": {},
     "output_type": "display_data"
    },
    {
     "data": {
      "text/html": [
       "<div class=\"outeritem\">\n",
       "<div class=\"lextp \" style=\"background-color: None;\">\n",
       "<div class=\"h\">גֹּוי</div>\n",
       "<div class=\"features\"> <span class=\"voc_lex\"><a target=\"_blank\" href=\"https://shebanq.ancient-data.org/hebrew/word?version=c&id=1GWJn\" title=\"show this lexeme in SHEBANQ\">G.OWJ</a></span> <span class=\"gloss\">people</span> <span class=\"freq_lex\"><span class=\"f\">freq_lex=</span>555</span></div>\n",
       "<div class=\"occs\"><a href=\"https://shebanq.ancient-data.org/hebrew/text?book=Genesis&chapter=10&verse=5&version=c&mr=m&qw=q&tp=txt_p&tr=hb&wget=v&qget=v&nget=vt\" title=\"show this passage in SHEBANQ\" sec=\"Genesis 10:5\">Genesis 10:5</a> - <a href=\"https://shebanq.ancient-data.org/hebrew/text?book=Chronica_II&chapter=36&verse=14&version=c&mr=m&qw=q&tp=txt_p&tr=hb&wget=v&qget=v&nget=vt\" title=\"show this passage in SHEBANQ\" sec=\"2_Chronicles 36:14\">2_Chronicles 36:14</a></div>\n",
       "\n",
       "</div>\n",
       "\n",
       "</div>"
      ],
      "text/plain": [
       "<IPython.core.display.HTML object>"
      ]
     },
     "metadata": {},
     "output_type": "display_data"
    },
    {
     "data": {
      "text/markdown": [
       "\n",
       "\n",
       "**Result** *35*\n",
       "\n"
      ],
      "text/plain": [
       "<IPython.core.display.Markdown object>"
      ]
     },
     "metadata": {},
     "output_type": "display_data"
    },
    {
     "data": {
      "text/html": [
       "<div class=\"outeritem\">\n",
       "<div class=\"lextp \" style=\"background-color: None;\">\n",
       "<div class=\"h\">אָדָם</div>\n",
       "<div class=\"features\"> <span class=\"voc_lex\"><a target=\"_blank\" href=\"https://shebanq.ancient-data.org/hebrew/word?version=c&id=1ADMn\" title=\"show this lexeme in SHEBANQ\">>@D@M</a></span> <span class=\"gloss\">human, mankind</span> <span class=\"freq_lex\"><span class=\"f\">freq_lex=</span>553</span></div>\n",
       "<div class=\"occs\"><a href=\"https://shebanq.ancient-data.org/hebrew/text?book=Genesis&chapter=1&verse=26&version=c&mr=m&qw=q&tp=txt_p&tr=hb&wget=v&qget=v&nget=vt\" title=\"show this passage in SHEBANQ\" sec=\"Genesis 1:26\">Genesis 1:26</a> - <a href=\"https://shebanq.ancient-data.org/hebrew/text?book=Chronica_II&chapter=32&verse=19&version=c&mr=m&qw=q&tp=txt_p&tr=hb&wget=v&qget=v&nget=vt\" title=\"show this passage in SHEBANQ\" sec=\"2_Chronicles 32:19\">2_Chronicles 32:19</a></div>\n",
       "\n",
       "</div>\n",
       "\n",
       "</div>"
      ],
      "text/plain": [
       "<IPython.core.display.HTML object>"
      ]
     },
     "metadata": {},
     "output_type": "display_data"
    },
    {
     "data": {
      "text/markdown": [
       "\n",
       "\n",
       "**Result** *36*\n",
       "\n"
      ],
      "text/plain": [
       "<IPython.core.display.Markdown object>"
      ]
     },
     "metadata": {},
     "output_type": "display_data"
    },
    {
     "data": {
      "text/html": [
       "<div class=\"outeritem\">\n",
       "<div class=\"lextp \" style=\"background-color: None;\">\n",
       "<div class=\"h\">חָמֵשׁ</div>\n",
       "<div class=\"features\"> <span class=\"voc_lex\"><a target=\"_blank\" href=\"https://shebanq.ancient-data.org/hebrew/word?version=c&id=1XMCn\" title=\"show this lexeme in SHEBANQ\">X@M;C</a></span> <span class=\"gloss\">five</span> <span class=\"ls\"><span class=\"f\">ls=</span>card</span> <span class=\"freq_lex\"><span class=\"f\">freq_lex=</span>506</span></div>\n",
       "<div class=\"occs\"><a href=\"https://shebanq.ancient-data.org/hebrew/text?book=Genesis&chapter=5&verse=6&version=c&mr=m&qw=q&tp=txt_p&tr=hb&wget=v&qget=v&nget=vt\" title=\"show this passage in SHEBANQ\" sec=\"Genesis 5:6\">Genesis 5:6</a> - <a href=\"https://shebanq.ancient-data.org/hebrew/text?book=Chronica_II&chapter=36&verse=5&version=c&mr=m&qw=q&tp=txt_p&tr=hb&wget=v&qget=v&nget=vt\" title=\"show this passage in SHEBANQ\" sec=\"2_Chronicles 36:5\">2_Chronicles 36:5</a></div>\n",
       "\n",
       "</div>\n",
       "\n",
       "</div>"
      ],
      "text/plain": [
       "<IPython.core.display.HTML object>"
      ]
     },
     "metadata": {},
     "output_type": "display_data"
    },
    {
     "data": {
      "text/markdown": [
       "\n",
       "\n",
       "**Result** *37*\n",
       "\n"
      ],
      "text/plain": [
       "<IPython.core.display.Markdown object>"
      ]
     },
     "metadata": {},
     "output_type": "display_data"
    },
    {
     "data": {
      "text/html": [
       "<div class=\"outeritem\">\n",
       "<div class=\"lextp \" style=\"background-color: None;\">\n",
       "<div class=\"h\">קֹול</div>\n",
       "<div class=\"features\"> <span class=\"voc_lex\"><a target=\"_blank\" href=\"https://shebanq.ancient-data.org/hebrew/word?version=c&id=1QWLn\" title=\"show this lexeme in SHEBANQ\">QOWL</a></span> <span class=\"gloss\">sound</span> <span class=\"freq_lex\"><span class=\"f\">freq_lex=</span>505</span></div>\n",
       "<div class=\"occs\"><a href=\"https://shebanq.ancient-data.org/hebrew/text?book=Genesis&chapter=3&verse=8&version=c&mr=m&qw=q&tp=txt_p&tr=hb&wget=v&qget=v&nget=vt\" title=\"show this passage in SHEBANQ\" sec=\"Genesis 3:8\">Genesis 3:8</a> - <a href=\"https://shebanq.ancient-data.org/hebrew/text?book=Chronica_II&chapter=36&verse=22&version=c&mr=m&qw=q&tp=txt_p&tr=hb&wget=v&qget=v&nget=vt\" title=\"show this passage in SHEBANQ\" sec=\"2_Chronicles 36:22\">2_Chronicles 36:22</a></div>\n",
       "\n",
       "</div>\n",
       "\n",
       "</div>"
      ],
      "text/plain": [
       "<IPython.core.display.HTML object>"
      ]
     },
     "metadata": {},
     "output_type": "display_data"
    },
    {
     "data": {
      "text/markdown": [
       "\n",
       "\n",
       "**Result** *38*\n",
       "\n"
      ],
      "text/plain": [
       "<IPython.core.display.Markdown object>"
      ]
     },
     "metadata": {},
     "output_type": "display_data"
    },
    {
     "data": {
      "text/html": [
       "<div class=\"outeritem\">\n",
       "<div class=\"lextp \" style=\"background-color: None;\">\n",
       "<div class=\"h\">תַּחַת</div>\n",
       "<div class=\"features\"> <span class=\"voc_lex\"><a target=\"_blank\" href=\"https://shebanq.ancient-data.org/hebrew/word?version=c&id=1TXTn\" title=\"show this lexeme in SHEBANQ\">T.AXAT</a></span> <span class=\"gloss\">under part</span> <span class=\"ls\"><span class=\"f\">ls=</span>ppre</span> <span class=\"freq_lex\"><span class=\"f\">freq_lex=</span>505</span></div>\n",
       "<div class=\"occs\"><a href=\"https://shebanq.ancient-data.org/hebrew/text?book=Genesis&chapter=1&verse=7&version=c&mr=m&qw=q&tp=txt_p&tr=hb&wget=v&qget=v&nget=vt\" title=\"show this passage in SHEBANQ\" sec=\"Genesis 1:7\">Genesis 1:7</a> - <a href=\"https://shebanq.ancient-data.org/hebrew/text?book=Chronica_II&chapter=36&verse=8&version=c&mr=m&qw=q&tp=txt_p&tr=hb&wget=v&qget=v&nget=vt\" title=\"show this passage in SHEBANQ\" sec=\"2_Chronicles 36:8\">2_Chronicles 36:8</a></div>\n",
       "\n",
       "</div>\n",
       "\n",
       "</div>"
      ],
      "text/plain": [
       "<IPython.core.display.HTML object>"
      ]
     },
     "metadata": {},
     "output_type": "display_data"
    },
    {
     "data": {
      "text/markdown": [
       "\n",
       "\n",
       "**Result** *39*\n",
       "\n"
      ],
      "text/plain": [
       "<IPython.core.display.Markdown object>"
      ]
     },
     "metadata": {},
     "output_type": "display_data"
    },
    {
     "data": {
      "text/html": [
       "<div class=\"outeritem\">\n",
       "<div class=\"lextp \" style=\"background-color: None;\">\n",
       "<div class=\"h\">פֶּה</div>\n",
       "<div class=\"features\"> <span class=\"voc_lex\"><a target=\"_blank\" href=\"https://shebanq.ancient-data.org/hebrew/word?version=c&id=1PHn\" title=\"show this lexeme in SHEBANQ\">P.EH</a></span> <span class=\"gloss\">mouth</span> <span class=\"freq_lex\"><span class=\"f\">freq_lex=</span>498</span></div>\n",
       "<div class=\"occs\"><a href=\"https://shebanq.ancient-data.org/hebrew/text?book=Genesis&chapter=4&verse=11&version=c&mr=m&qw=q&tp=txt_p&tr=hb&wget=v&qget=v&nget=vt\" title=\"show this passage in SHEBANQ\" sec=\"Genesis 4:11\">Genesis 4:11</a> - <a href=\"https://shebanq.ancient-data.org/hebrew/text?book=Chronica_II&chapter=36&verse=22&version=c&mr=m&qw=q&tp=txt_p&tr=hb&wget=v&qget=v&nget=vt\" title=\"show this passage in SHEBANQ\" sec=\"2_Chronicles 36:22\">2_Chronicles 36:22</a></div>\n",
       "\n",
       "</div>\n",
       "\n",
       "</div>"
      ],
      "text/plain": [
       "<IPython.core.display.HTML object>"
      ]
     },
     "metadata": {},
     "output_type": "display_data"
    },
    {
     "data": {
      "text/markdown": [
       "\n",
       "\n",
       "**Result** *40*\n",
       "\n"
      ],
      "text/plain": [
       "<IPython.core.display.Markdown object>"
      ]
     },
     "metadata": {},
     "output_type": "display_data"
    },
    {
     "data": {
      "text/html": [
       "<div class=\"outeritem\">\n",
       "<div class=\"lextp \" style=\"background-color: None;\">\n",
       "<div class=\"h\">אֶלֶף</div>\n",
       "<div class=\"features\"> <span class=\"voc_lex\"><a target=\"_blank\" href=\"https://shebanq.ancient-data.org/hebrew/word?version=c&id=1ALPin\" title=\"show this lexeme in SHEBANQ\">>ELEP</a></span> <span class=\"gloss\">thousand</span> <span class=\"ls\"><span class=\"f\">ls=</span>card</span> <span class=\"freq_lex\"><span class=\"f\">freq_lex=</span>492</span></div>\n",
       "<div class=\"occs\"><a href=\"https://shebanq.ancient-data.org/hebrew/text?book=Genesis&chapter=20&verse=16&version=c&mr=m&qw=q&tp=txt_p&tr=hb&wget=v&qget=v&nget=vt\" title=\"show this passage in SHEBANQ\" sec=\"Genesis 20:16\">Genesis 20:16</a> - <a href=\"https://shebanq.ancient-data.org/hebrew/text?book=Chronica_II&chapter=35&verse=9&version=c&mr=m&qw=q&tp=txt_p&tr=hb&wget=v&qget=v&nget=vt\" title=\"show this passage in SHEBANQ\" sec=\"2_Chronicles 35:9\">2_Chronicles 35:9</a></div>\n",
       "\n",
       "</div>\n",
       "\n",
       "</div>"
      ],
      "text/plain": [
       "<IPython.core.display.HTML object>"
      ]
     },
     "metadata": {},
     "output_type": "display_data"
    },
    {
     "data": {
      "text/markdown": [
       "\n",
       "\n",
       "**Result** *41*\n",
       "\n"
      ],
      "text/plain": [
       "<IPython.core.display.Markdown object>"
      ]
     },
     "metadata": {},
     "output_type": "display_data"
    },
    {
     "data": {
      "text/html": [
       "<div class=\"outeritem\">\n",
       "<div class=\"lextp \" style=\"background-color: None;\">\n",
       "<div class=\"h\">עֹוד</div>\n",
       "<div class=\"features\"> <span class=\"voc_lex\"><a target=\"_blank\" href=\"https://shebanq.ancient-data.org/hebrew/word?version=c&id=1OWDn\" title=\"show this lexeme in SHEBANQ\">&lt;OWD</a></span> <span class=\"gloss\">duration</span> <span class=\"ls\"><span class=\"f\">ls=</span>padv</span> <span class=\"freq_lex\"><span class=\"f\">freq_lex=</span>490</span></div>\n",
       "<div class=\"occs\"><a href=\"https://shebanq.ancient-data.org/hebrew/text?book=Genesis&chapter=4&verse=25&version=c&mr=m&qw=q&tp=txt_p&tr=hb&wget=v&qget=v&nget=vt\" title=\"show this passage in SHEBANQ\" sec=\"Genesis 4:25\">Genesis 4:25</a> - <a href=\"https://shebanq.ancient-data.org/hebrew/text?book=Chronica_II&chapter=34&verse=16&version=c&mr=m&qw=q&tp=txt_p&tr=hb&wget=v&qget=v&nget=vt\" title=\"show this passage in SHEBANQ\" sec=\"2_Chronicles 34:16\">2_Chronicles 34:16</a></div>\n",
       "\n",
       "</div>\n",
       "\n",
       "</div>"
      ],
      "text/plain": [
       "<IPython.core.display.HTML object>"
      ]
     },
     "metadata": {},
     "output_type": "display_data"
    },
    {
     "data": {
      "text/markdown": [
       "\n",
       "\n",
       "**Result** *42*\n",
       "\n"
      ],
      "text/plain": [
       "<IPython.core.display.Markdown object>"
      ]
     },
     "metadata": {},
     "output_type": "display_data"
    },
    {
     "data": {
      "text/html": [
       "<div class=\"outeritem\">\n",
       "<div class=\"lextp \" style=\"background-color: None;\">\n",
       "<div class=\"h\">שֶׁבַע</div>\n",
       "<div class=\"features\"> <span class=\"voc_lex\"><a target=\"_blank\" href=\"https://shebanq.ancient-data.org/hebrew/word?version=c&id=1CBOn\" title=\"show this lexeme in SHEBANQ\">CEBA&lt;</a></span> <span class=\"gloss\">seven</span> <span class=\"ls\"><span class=\"f\">ls=</span>card</span> <span class=\"freq_lex\"><span class=\"f\">freq_lex=</span>490</span></div>\n",
       "<div class=\"occs\"><a href=\"https://shebanq.ancient-data.org/hebrew/text?book=Genesis&chapter=4&verse=15&version=c&mr=m&qw=q&tp=txt_p&tr=hb&wget=v&qget=v&nget=vt\" title=\"show this passage in SHEBANQ\" sec=\"Genesis 4:15\">Genesis 4:15</a> - <a href=\"https://shebanq.ancient-data.org/hebrew/text?book=Chronica_II&chapter=36&verse=21&version=c&mr=m&qw=q&tp=txt_p&tr=hb&wget=v&qget=v&nget=vt\" title=\"show this passage in SHEBANQ\" sec=\"2_Chronicles 36:21\">2_Chronicles 36:21</a></div>\n",
       "\n",
       "</div>\n",
       "\n",
       "</div>"
      ],
      "text/plain": [
       "<IPython.core.display.HTML object>"
      ]
     },
     "metadata": {},
     "output_type": "display_data"
    },
    {
     "data": {
      "text/markdown": [
       "\n",
       "\n",
       "**Result** *43*\n",
       "\n"
      ],
      "text/plain": [
       "<IPython.core.display.Markdown object>"
      ]
     },
     "metadata": {},
     "output_type": "display_data"
    },
    {
     "data": {
      "text/html": [
       "<div class=\"outeritem\">\n",
       "<div class=\"lextp \" style=\"background-color: None;\">\n",
       "<div class=\"h\">צָבָא</div>\n",
       "<div class=\"features\"> <span class=\"voc_lex\"><a target=\"_blank\" href=\"https://shebanq.ancient-data.org/hebrew/word?version=c&id=1YBAn\" title=\"show this lexeme in SHEBANQ\">Y@B@></a></span> <span class=\"gloss\">service</span> <span class=\"freq_lex\"><span class=\"f\">freq_lex=</span>486</span></div>\n",
       "<div class=\"occs\"><a href=\"https://shebanq.ancient-data.org/hebrew/text?book=Genesis&chapter=2&verse=1&version=c&mr=m&qw=q&tp=txt_p&tr=hb&wget=v&qget=v&nget=vt\" title=\"show this passage in SHEBANQ\" sec=\"Genesis 2:1\">Genesis 2:1</a> - <a href=\"https://shebanq.ancient-data.org/hebrew/text?book=Chronica_II&chapter=33&verse=11&version=c&mr=m&qw=q&tp=txt_p&tr=hb&wget=v&qget=v&nget=vt\" title=\"show this passage in SHEBANQ\" sec=\"2_Chronicles 33:11\">2_Chronicles 33:11</a></div>\n",
       "\n",
       "</div>\n",
       "\n",
       "</div>"
      ],
      "text/plain": [
       "<IPython.core.display.HTML object>"
      ]
     },
     "metadata": {},
     "output_type": "display_data"
    },
    {
     "data": {
      "text/markdown": [
       "\n",
       "\n",
       "**Result** *44*\n",
       "\n"
      ],
      "text/plain": [
       "<IPython.core.display.Markdown object>"
      ]
     },
     "metadata": {},
     "output_type": "display_data"
    },
    {
     "data": {
      "text/html": [
       "<div class=\"outeritem\">\n",
       "<div class=\"lextp \" style=\"background-color: None;\">\n",
       "<div class=\"h\">קֹדֶשׁ</div>\n",
       "<div class=\"features\"> <span class=\"voc_lex\"><a target=\"_blank\" href=\"https://shebanq.ancient-data.org/hebrew/word?version=c&id=1QDCn\" title=\"show this lexeme in SHEBANQ\">QODEC</a></span> <span class=\"gloss\">holiness</span> <span class=\"freq_lex\"><span class=\"f\">freq_lex=</span>469</span></div>\n",
       "<div class=\"occs\"><a href=\"https://shebanq.ancient-data.org/hebrew/text?book=Exodus&chapter=3&verse=5&version=c&mr=m&qw=q&tp=txt_p&tr=hb&wget=v&qget=v&nget=vt\" title=\"show this passage in SHEBANQ\" sec=\"Exodus 3:5\">Exodus 3:5</a> - <a href=\"https://shebanq.ancient-data.org/hebrew/text?book=Chronica_II&chapter=35&verse=13&version=c&mr=m&qw=q&tp=txt_p&tr=hb&wget=v&qget=v&nget=vt\" title=\"show this passage in SHEBANQ\" sec=\"2_Chronicles 35:13\">2_Chronicles 35:13</a></div>\n",
       "\n",
       "</div>\n",
       "\n",
       "</div>"
      ],
      "text/plain": [
       "<IPython.core.display.HTML object>"
      ]
     },
     "metadata": {},
     "output_type": "display_data"
    },
    {
     "data": {
      "text/markdown": [
       "\n",
       "\n",
       "**Result** *45*\n",
       "\n"
      ],
      "text/plain": [
       "<IPython.core.display.Markdown object>"
      ]
     },
     "metadata": {},
     "output_type": "display_data"
    },
    {
     "data": {
      "text/html": [
       "<div class=\"outeritem\">\n",
       "<div class=\"lextp \" style=\"background-color: None;\">\n",
       "<div class=\"h\">אַרְבַּע</div>\n",
       "<div class=\"features\"> <span class=\"voc_lex\"><a target=\"_blank\" href=\"https://shebanq.ancient-data.org/hebrew/word?version=c&id=1ARBOn\" title=\"show this lexeme in SHEBANQ\">>AR:B.A&lt;</a></span> <span class=\"gloss\">four</span> <span class=\"ls\"><span class=\"f\">ls=</span>card</span> <span class=\"freq_lex\"><span class=\"f\">freq_lex=</span>454</span></div>\n",
       "<div class=\"occs\"><a href=\"https://shebanq.ancient-data.org/hebrew/text?book=Genesis&chapter=2&verse=10&version=c&mr=m&qw=q&tp=txt_p&tr=hb&wget=v&qget=v&nget=vt\" title=\"show this passage in SHEBANQ\" sec=\"Genesis 2:10\">Genesis 2:10</a> - <a href=\"https://shebanq.ancient-data.org/hebrew/text?book=Chronica_II&chapter=35&verse=1&version=c&mr=m&qw=q&tp=txt_p&tr=hb&wget=v&qget=v&nget=vt\" title=\"show this passage in SHEBANQ\" sec=\"2_Chronicles 35:1\">2_Chronicles 35:1</a></div>\n",
       "\n",
       "</div>\n",
       "\n",
       "</div>"
      ],
      "text/plain": [
       "<IPython.core.display.HTML object>"
      ]
     },
     "metadata": {},
     "output_type": "display_data"
    },
    {
     "data": {
      "text/markdown": [
       "\n",
       "\n",
       "**Result** *46*\n",
       "\n"
      ],
      "text/plain": [
       "<IPython.core.display.Markdown object>"
      ]
     },
     "metadata": {},
     "output_type": "display_data"
    },
    {
     "data": {
      "text/html": [
       "<div class=\"outeritem\">\n",
       "<div class=\"lextp \" style=\"background-color: None;\">\n",
       "<div class=\"h\">עֹולָם</div>\n",
       "<div class=\"features\"> <span class=\"voc_lex\"><a target=\"_blank\" href=\"https://shebanq.ancient-data.org/hebrew/word?version=c&id=1OWLMn\" title=\"show this lexeme in SHEBANQ\">&lt;OWL@M</a></span> <span class=\"gloss\">eternity</span> <span class=\"freq_lex\"><span class=\"f\">freq_lex=</span>438</span></div>\n",
       "<div class=\"occs\"><a href=\"https://shebanq.ancient-data.org/hebrew/text?book=Genesis&chapter=3&verse=22&version=c&mr=m&qw=q&tp=txt_p&tr=hb&wget=v&qget=v&nget=vt\" title=\"show this passage in SHEBANQ\" sec=\"Genesis 3:22\">Genesis 3:22</a> - <a href=\"https://shebanq.ancient-data.org/hebrew/text?book=Chronica_II&chapter=33&verse=4&version=c&mr=m&qw=q&tp=txt_p&tr=hb&wget=v&qget=v&nget=vt\" title=\"show this passage in SHEBANQ\" sec=\"2_Chronicles 33:4\">2_Chronicles 33:4</a></div>\n",
       "\n",
       "</div>\n",
       "\n",
       "</div>"
      ],
      "text/plain": [
       "<IPython.core.display.HTML object>"
      ]
     },
     "metadata": {},
     "output_type": "display_data"
    },
    {
     "data": {
      "text/markdown": [
       "\n",
       "\n",
       "**Result** *47*\n",
       "\n"
      ],
      "text/plain": [
       "<IPython.core.display.Markdown object>"
      ]
     },
     "metadata": {},
     "output_type": "display_data"
    },
    {
     "data": {
      "text/html": [
       "<div class=\"outeritem\">\n",
       "<div class=\"lextp \" style=\"background-color: None;\">\n",
       "<div class=\"h\">מִשְׁפָּט</div>\n",
       "<div class=\"features\"> <span class=\"voc_lex\"><a target=\"_blank\" href=\"https://shebanq.ancient-data.org/hebrew/word?version=c&id=1MCPVn\" title=\"show this lexeme in SHEBANQ\">MIC:P.@V</a></span> <span class=\"gloss\">justice</span> <span class=\"freq_lex\"><span class=\"f\">freq_lex=</span>422</span></div>\n",
       "<div class=\"occs\"><a href=\"https://shebanq.ancient-data.org/hebrew/text?book=Genesis&chapter=18&verse=19&version=c&mr=m&qw=q&tp=txt_p&tr=hb&wget=v&qget=v&nget=vt\" title=\"show this passage in SHEBANQ\" sec=\"Genesis 18:19\">Genesis 18:19</a> - <a href=\"https://shebanq.ancient-data.org/hebrew/text?book=Chronica_II&chapter=35&verse=13&version=c&mr=m&qw=q&tp=txt_p&tr=hb&wget=v&qget=v&nget=vt\" title=\"show this passage in SHEBANQ\" sec=\"2_Chronicles 35:13\">2_Chronicles 35:13</a></div>\n",
       "\n",
       "</div>\n",
       "\n",
       "</div>"
      ],
      "text/plain": [
       "<IPython.core.display.HTML object>"
      ]
     },
     "metadata": {},
     "output_type": "display_data"
    },
    {
     "data": {
      "text/markdown": [
       "\n",
       "\n",
       "**Result** *48*\n",
       "\n"
      ],
      "text/plain": [
       "<IPython.core.display.Markdown object>"
      ]
     },
     "metadata": {},
     "output_type": "display_data"
    },
    {
     "data": {
      "text/html": [
       "<div class=\"outeritem\">\n",
       "<div class=\"lextp \" style=\"background-color: None;\">\n",
       "<div class=\"h\">שַׂר</div>\n",
       "<div class=\"features\"> <span class=\"voc_lex\"><a target=\"_blank\" href=\"https://shebanq.ancient-data.org/hebrew/word?version=c&id=1FRn\" title=\"show this lexeme in SHEBANQ\">FAR</a></span> <span class=\"gloss\">chief</span> <span class=\"freq_lex\"><span class=\"f\">freq_lex=</span>421</span></div>\n",
       "<div class=\"occs\"><a href=\"https://shebanq.ancient-data.org/hebrew/text?book=Genesis&chapter=12&verse=15&version=c&mr=m&qw=q&tp=txt_p&tr=hb&wget=v&qget=v&nget=vt\" title=\"show this passage in SHEBANQ\" sec=\"Genesis 12:15\">Genesis 12:15</a> - <a href=\"https://shebanq.ancient-data.org/hebrew/text?book=Chronica_II&chapter=36&verse=18&version=c&mr=m&qw=q&tp=txt_p&tr=hb&wget=v&qget=v&nget=vt\" title=\"show this passage in SHEBANQ\" sec=\"2_Chronicles 36:18\">2_Chronicles 36:18</a></div>\n",
       "\n",
       "</div>\n",
       "\n",
       "</div>"
      ],
      "text/plain": [
       "<IPython.core.display.HTML object>"
      ]
     },
     "metadata": {},
     "output_type": "display_data"
    },
    {
     "data": {
      "text/markdown": [
       "\n",
       "\n",
       "**Result** *49*\n",
       "\n"
      ],
      "text/plain": [
       "<IPython.core.display.Markdown object>"
      ]
     },
     "metadata": {},
     "output_type": "display_data"
    },
    {
     "data": {
      "text/html": [
       "<div class=\"outeritem\">\n",
       "<div class=\"lextp \" style=\"background-color: None;\">\n",
       "<div class=\"h\">שָׁמַיִם</div>\n",
       "<div class=\"features\"> <span class=\"voc_lex\"><a target=\"_blank\" href=\"https://shebanq.ancient-data.org/hebrew/word?version=c&id=1CMJMn\" title=\"show this lexeme in SHEBANQ\">C@MAJIM</a></span> <span class=\"gloss\">heavens</span> <span class=\"freq_lex\"><span class=\"f\">freq_lex=</span>421</span></div>\n",
       "<div class=\"occs\"><a href=\"https://shebanq.ancient-data.org/hebrew/text?book=Genesis&chapter=1&verse=1&version=c&mr=m&qw=q&tp=txt_p&tr=hb&wget=v&qget=v&nget=vt\" title=\"show this passage in SHEBANQ\" sec=\"Genesis 1:1\">Genesis 1:1</a> - <a href=\"https://shebanq.ancient-data.org/hebrew/text?book=Chronica_II&chapter=36&verse=23&version=c&mr=m&qw=q&tp=txt_p&tr=hb&wget=v&qget=v&nget=vt\" title=\"show this passage in SHEBANQ\" sec=\"2_Chronicles 36:23\">2_Chronicles 36:23</a></div>\n",
       "\n",
       "</div>\n",
       "\n",
       "</div>"
      ],
      "text/plain": [
       "<IPython.core.display.HTML object>"
      ]
     },
     "metadata": {},
     "output_type": "display_data"
    }
   ],
   "source": [
    "raw_nnodes = [res[1] for res in raw_terms_ordered] # isolate the word nodes of the sample\n",
    "B.prettySetup(features={'ls', 'freq_lex'}) # config B to display ls and freq_lex\n",
    "\n",
    "# display lexeme data\n",
    "for i, node in enumerate(raw_nnodes[:50]):\n",
    "    B.prettyTuple((node,), seqNumber=i)"
   ]
  },
  {
   "cell_type": "markdown",
   "metadata": {},
   "source": [
    "Based on the nouns that are present, we should make some key exclusions. Many substantives have more functional or adjectival roles. Undesirable categories include copulative nouns (`nmcp`, e.g. אין), cardinal numbers (`card`), potential prepositions (`ppre`, e.g. תחת). The `ls` category of potential adverb (`padv`) contains desirable nouns like יום, but also more functionally adverbial-nouns like עוד. Thus we can see that there is a range of adverbial tendencies found in this category. Due to the potentially interesting possibility of seeing these tendencies play out in the data, we can decide to keep these instances. \n",
    "\n",
    "To be sure, the very phenomenon of \"functional\" versus \"nominal\" is worthy of further, quantitative investigation. The `ls` feature is an experimental and incomplete feature in the ETCBC, and this is precisely the kind of shortcoming this present work seeks to address. Nouns and adverbs likely sit along a sliding scale of adverbial tendencies, with adverbs nearly always functioning in such a role, and nouns exhibiting various statistical tendencies. But due to the scope of this investigation, we limit ourselves to mainly nominal words with a small inclusion of some adverbial-like substantives.\n",
    "\n",
    "We can eliminate more functional nouns by restricting the possible lexical set (`ls`) values. Below we apply those restrictions to the search template. In the case of certain quantifiers such as כל there is an `ls` feature of distributive noun (`nmdi`), yet this feature is likewise applied to nouns such as אח (\"brother\"). So it is undesirable to exclude all of these cases. Thus we depend, instead, on an additional filter list that excludes quantifiers.\n",
    "\n",
    "A few terms such as דרך and עבר are eliminated because the ETCBC labels it as a potential preposition. This is a speculative classification. So we define a seperate parameter in the template that saves this instance."
   ]
  },
  {
   "cell_type": "code",
   "execution_count": 6,
   "metadata": {},
   "outputs": [
    {
     "name": "stdout",
     "output_type": "stream",
     "text": [
      "  0.02s 3658 results\n",
      "\t48 results filtered out of raw noun list...\n",
      "\tfiltered lexemes shown below:\n"
     ]
    },
    {
     "data": {
      "text/html": [
       "<span class=\"hb\"><a target=\"_blank\" href=\"https://shebanq.ancient-data.org/hebrew/word?version=c&id=1KLn\" title=\"show this lexeme in SHEBANQ\">כֹּל</a></span>&nbsp;&nbsp;|<span class=\"hb\"><a target=\"_blank\" href=\"https://shebanq.ancient-data.org/hebrew/word?version=c&id=1AXDn\" title=\"show this lexeme in SHEBANQ\">אֶחָד</a></span>&nbsp;&nbsp;|<span class=\"hb\"><a target=\"_blank\" href=\"https://shebanq.ancient-data.org/hebrew/word?version=c&id=1AJNn\" title=\"show this lexeme in SHEBANQ\">אַיִן</a></span>&nbsp;&nbsp;|<span class=\"hb\"><a target=\"_blank\" href=\"https://shebanq.ancient-data.org/hebrew/word?version=c&id=1CNJMn\" title=\"show this lexeme in SHEBANQ\">שְׁנַיִם</a></span>&nbsp;&nbsp;|<span class=\"hb\"><a target=\"_blank\" href=\"https://shebanq.ancient-data.org/hebrew/word?version=c&id=1AXRn\" title=\"show this lexeme in SHEBANQ\">אַחַר</a></span>&nbsp;&nbsp;|<span class=\"hb\"><a target=\"_blank\" href=\"https://shebanq.ancient-data.org/hebrew/word?version=c&id=1CLCn\" title=\"show this lexeme in SHEBANQ\">שָׁלֹשׁ</a></span>&nbsp;&nbsp;|<span class=\"hb\"><a target=\"_blank\" href=\"https://shebanq.ancient-data.org/hebrew/word?version=c&id=1MAHn\" title=\"show this lexeme in SHEBANQ\">מֵאָה</a></span>&nbsp;&nbsp;|<span class=\"hb\"><a target=\"_blank\" href=\"https://shebanq.ancient-data.org/hebrew/word?version=c&id=1XMCn\" title=\"show this lexeme in SHEBANQ\">חָמֵשׁ</a></span>&nbsp;&nbsp;|<span class=\"hb\"><a target=\"_blank\" href=\"https://shebanq.ancient-data.org/hebrew/word?version=c&id=1TXTn\" title=\"show this lexeme in SHEBANQ\">תַּחַת</a></span>&nbsp;&nbsp;|<span class=\"hb\"><a target=\"_blank\" href=\"https://shebanq.ancient-data.org/hebrew/word?version=c&id=1ALPin\" title=\"show this lexeme in SHEBANQ\">אֶלֶף</a></span>&nbsp;&nbsp;|<span class=\"hb\"><a target=\"_blank\" href=\"https://shebanq.ancient-data.org/hebrew/word?version=c&id=1CBOn\" title=\"show this lexeme in SHEBANQ\">שֶׁבַע</a></span>&nbsp;&nbsp;|<span class=\"hb\"><a target=\"_blank\" href=\"https://shebanq.ancient-data.org/hebrew/word?version=c&id=1ARBOn\" title=\"show this lexeme in SHEBANQ\">אַרְבַּע</a></span>&nbsp;&nbsp;|<span class=\"hb\"><a target=\"_blank\" href=\"https://shebanq.ancient-data.org/hebrew/word?version=c&id=1BJNn\" title=\"show this lexeme in SHEBANQ\">בַּיִן</a></span>&nbsp;&nbsp;|<span class=\"hb\"><a target=\"_blank\" href=\"https://shebanq.ancient-data.org/hebrew/word?version=c&id=1OFRJMn\" title=\"show this lexeme in SHEBANQ\">עֶשְׂרִים</a></span>&nbsp;&nbsp;|<span class=\"hb\"><a target=\"_blank\" href=\"https://shebanq.ancient-data.org/hebrew/word?version=c&id=1CCn\" title=\"show this lexeme in SHEBANQ\">שֵׁשׁ</a></span>&nbsp;&nbsp;|<span class=\"hb\"><a target=\"_blank\" href=\"https://shebanq.ancient-data.org/hebrew/word?version=c&id=1OFRn\" title=\"show this lexeme in SHEBANQ\">עָשָׂר</a></span>&nbsp;&nbsp;|<span class=\"hb\"><a target=\"_blank\" href=\"https://shebanq.ancient-data.org/hebrew/word?version=c&id=1NGDn\" title=\"show this lexeme in SHEBANQ\">נֶגֶד</a></span>&nbsp;&nbsp;|<span class=\"hb\"><a target=\"_blank\" href=\"https://shebanq.ancient-data.org/hebrew/word?version=c&id=1CMNHn\" title=\"show this lexeme in SHEBANQ\">שְׁמֹנֶה</a></span>&nbsp;&nbsp;|<span class=\"hb\"><a target=\"_blank\" href=\"https://shebanq.ancient-data.org/hebrew/word?version=c&id=1JCn\" title=\"show this lexeme in SHEBANQ\">יֵשׁ</a></span>&nbsp;&nbsp;|<span class=\"hb\"><a target=\"_blank\" href=\"https://shebanq.ancient-data.org/hebrew/word?version=c&id=1OFRHn\" title=\"show this lexeme in SHEBANQ\">עֶשְׂרֵה</a></span>&nbsp;&nbsp;|<span class=\"hb\"><a target=\"_blank\" href=\"https://shebanq.ancient-data.org/hebrew/word?version=c&id=1XYJn\" title=\"show this lexeme in SHEBANQ\">חֲצִי</a></span>&nbsp;&nbsp;|<span class=\"hb\"><a target=\"_blank\" href=\"https://shebanq.ancient-data.org/hebrew/word?version=c&id=1OFRHin\" title=\"show this lexeme in SHEBANQ\">עֲשָׂרָה</a></span>&nbsp;&nbsp;|<span class=\"hb\"><a target=\"_blank\" href=\"https://shebanq.ancient-data.org/hebrew/word?version=c&id=1BLTn\" title=\"show this lexeme in SHEBANQ\">בֵּלֶת</a></span>&nbsp;&nbsp;|<span class=\"hb\"><a target=\"_blank\" href=\"https://shebanq.ancient-data.org/hebrew/word?version=c&id=1BODn\" title=\"show this lexeme in SHEBANQ\">בַּעַד</a></span>&nbsp;&nbsp;|<span class=\"hb\"><a target=\"_blank\" href=\"https://shebanq.ancient-data.org/hebrew/word?version=c&id=1MOVn\" title=\"show this lexeme in SHEBANQ\">מְעַט</a></span>&nbsp;&nbsp;|<span class=\"hb\"><a target=\"_blank\" href=\"https://shebanq.ancient-data.org/hebrew/word?version=c&id=1JONn\" title=\"show this lexeme in SHEBANQ\">יַעַן</a></span>&nbsp;&nbsp;|<span class=\"hb\"><a target=\"_blank\" href=\"https://shebanq.ancient-data.org/hebrew/word?version=c&id=1JTRn\" title=\"show this lexeme in SHEBANQ\">יֶתֶר</a></span>&nbsp;&nbsp;|<span class=\"hb\"><a target=\"_blank\" href=\"https://shebanq.ancient-data.org/hebrew/word?version=c&id=1TCOn\" title=\"show this lexeme in SHEBANQ\">תֵּשַׁע</a></span>&nbsp;&nbsp;|<span class=\"hb\"><a target=\"_blank\" href=\"https://shebanq.ancient-data.org/hebrew/word?version=c&id=1AYLn\" title=\"show this lexeme in SHEBANQ\">אֵצֶל</a></span>&nbsp;&nbsp;|<span class=\"hb\"><a target=\"_blank\" href=\"https://shebanq.ancient-data.org/hebrew/word?version=c&id=1BLJn\" title=\"show this lexeme in SHEBANQ\">בְּלִי</a></span>&nbsp;&nbsp;|<span class=\"hb\"><a target=\"_blank\" href=\"https://shebanq.ancient-data.org/hebrew/word?version=c&id=1OFRin\" title=\"show this lexeme in SHEBANQ\">עֶשֶׂר</a></span>&nbsp;&nbsp;|<span class=\"hb\"><a target=\"_blank\" href=\"https://shebanq.ancient-data.org/hebrew/word?version=c&id=1VRMn\" title=\"show this lexeme in SHEBANQ\">טֶרֶם</a></span>&nbsp;&nbsp;|<span class=\"hb\"><a target=\"_blank\" href=\"https://shebanq.ancient-data.org/hebrew/word?version=c&id=1OMDn\" title=\"show this lexeme in SHEBANQ\">עִמָּד</a></span>&nbsp;&nbsp;|<span class=\"hb\"><a target=\"_blank\" href=\"https://shebanq.ancient-data.org/hebrew/word?version=c&id=1APSn\" title=\"show this lexeme in SHEBANQ\">אֶפֶס</a></span>&nbsp;&nbsp;|<span class=\"hb\"><a target=\"_blank\" href=\"https://shebanq.ancient-data.org/hebrew/word?version=c&id=1MWLn\" title=\"show this lexeme in SHEBANQ\">מוּל</a></span>&nbsp;&nbsp;|<span class=\"hb\"><a target=\"_blank\" href=\"https://shebanq.ancient-data.org/hebrew/word?version=c&id=1MOFRn\" title=\"show this lexeme in SHEBANQ\">מַעֲשֵׂר</a></span>&nbsp;&nbsp;|<span class=\"hb\"><a target=\"_blank\" href=\"https://shebanq.ancient-data.org/hebrew/word?version=c&id=1NKXin\" title=\"show this lexeme in SHEBANQ\">נֹכַח</a></span>&nbsp;&nbsp;|<span class=\"hb\"><a target=\"_blank\" href=\"https://shebanq.ancient-data.org/hebrew/word?version=c&id=1OCTJn\" title=\"show this lexeme in SHEBANQ\">עַשְׁתֵּי</a></span>&nbsp;&nbsp;|<span class=\"hb\"><a target=\"_blank\" href=\"https://shebanq.ancient-data.org/hebrew/word?version=c&id=1ZWLHn\" title=\"show this lexeme in SHEBANQ\">זוּלָה</a></span>&nbsp;&nbsp;|<span class=\"hb\"><a target=\"_blank\" href=\"https://shebanq.ancient-data.org/hebrew/word?version=c&id=1RBBHn\" title=\"show this lexeme in SHEBANQ\">רְבָבָה</a></span>&nbsp;&nbsp;|<span class=\"hb\"><a target=\"_blank\" href=\"https://shebanq.ancient-data.org/hebrew/word?version=c&id=1OQBn\" title=\"show this lexeme in SHEBANQ\">עֵקֶב</a></span>&nbsp;&nbsp;|<span class=\"hb\"><a target=\"_blank\" href=\"https://shebanq.ancient-data.org/hebrew/word?version=c&id=1ALPiin\" title=\"show this lexeme in SHEBANQ\">אֶלֶף</a></span>&nbsp;&nbsp;|<span class=\"hb\"><a target=\"_blank\" href=\"https://shebanq.ancient-data.org/hebrew/word?version=c&id=1RBWAn\" title=\"show this lexeme in SHEBANQ\">רִבֹּוא</a></span>&nbsp;&nbsp;|<span class=\"hb\"><a target=\"_blank\" href=\"https://shebanq.ancient-data.org/hebrew/word?version=c&id=1QDMHn\" title=\"show this lexeme in SHEBANQ\">קִדְמָה</a></span>&nbsp;&nbsp;|<span class=\"hb\"><a target=\"_blank\" href=\"https://shebanq.ancient-data.org/hebrew/word?version=c&id=1ACin\" title=\"show this lexeme in SHEBANQ\">אִשׁ</a></span>&nbsp;&nbsp;|<span class=\"hb\"><a target=\"_blank\" href=\"https://shebanq.ancient-data.org/hebrew/word?version=c&id=1XLPn\" title=\"show this lexeme in SHEBANQ\">חֵלֶף</a></span>&nbsp;&nbsp;|<span class=\"hb\"><a target=\"_blank\" href=\"https://shebanq.ancient-data.org/hebrew/word?version=c&id=1QBLin\" title=\"show this lexeme in SHEBANQ\">קָבָלְ־</a></span>&nbsp;&nbsp;|<span class=\"hb\"><a target=\"_blank\" href=\"https://shebanq.ancient-data.org/hebrew/word?version=c&id=1MSHin\" title=\"show this lexeme in SHEBANQ\">מִסָּה</a></span>"
      ],
      "text/plain": [
       "<IPython.core.display.HTML object>"
      ]
     },
     "metadata": {},
     "output_type": "display_data"
    }
   ],
   "source": [
    "exclude = '|'.join(('KL/', 'M<V/', 'JTR/', 'M<FR/', 'XYJ/')) # exclude quantifiers\n",
    "include = '|'.join(('padv', 'nmdi'))  # ok ls features\n",
    "keep = '|'.join(('DRK/', '<BR/'))\n",
    "\n",
    "'''\n",
    "Below is a TF search query for three cases:\n",
    "One is a lexeme with included ls features.\n",
    "The second is a lexeme with a null ls feature.\n",
    "The third is lexemes we want to prevent from being excluded.\n",
    "For all cases we exclude excluded lexemes.\n",
    "'''\n",
    "\n",
    "select_noun_search = f'''\n",
    "\n",
    "lex language=Hebrew\n",
    "/with/\n",
    "sp=subs ls={include} lex#{exclude}\n",
    "/or/\n",
    "sp=subs ls# lex#{exclude}\n",
    "/or/\n",
    "sp=subs lex={keep}\n",
    "/-/\n",
    "\n",
    "'''\n",
    "\n",
    "select_nouns = B.search(select_noun_search)\n",
    "noun_dat_ordered = sorted(((F.freq_lex.v(res[0]), res[0]) for res in select_nouns), reverse=True)\n",
    "nnodes_ordered = list(noun_dat[1] for noun_dat in noun_dat_ordered)\n",
    "filtered_lexs = list(node for node in raw_nnodes if node not in nnodes_ordered)\n",
    "\n",
    "print(f'\\t{len(raw_nouns) - len(select_nouns)} results filtered out of raw noun list...')\n",
    "print('\\tfiltered lexemes shown below:')\n",
    "show_word_list(filtered_lexs)"
   ]
  },
  {
   "cell_type": "markdown",
   "metadata": {},
   "source": [
    "### Plot the Nouns in Order of Frequency\n",
    "\n",
    "Now that we have obtained a filtered noun-set, we must decide a cut-off point at which to limit the present analysis. Below we plot the attested nouns and their respective frequencies."
   ]
  },
  {
   "cell_type": "code",
   "execution_count": 7,
   "metadata": {},
   "outputs": [
    {
     "data": {
      "text/plain": [
       "[]"
      ]
     },
     "execution_count": 7,
     "metadata": {},
     "output_type": "execute_result"
    },
    {
     "data": {
      "image/png": "[encoded data removed]",
      "text/plain": [
       "<Figure size 864x432 with 1 Axes>"
      ]
     },
     "metadata": {
      "needs_background": "light"
     },
     "output_type": "display_data"
    }
   ],
   "source": [
    "# plot data\n",
    "y_freqs = [lex_data[0] for lex_data in noun_dat_ordered]\n",
    "x_rank = [i+1 for i in range(0, len(y_freqs))]\n",
    "title = 'Noun Frequencies in the Hebrew Bible'\n",
    "xlabel = 'Rank'\n",
    "ylabel = 'Frequency'\n",
    "\n",
    "# first plot\n",
    "plt.figure(figsize=(12, 6))\n",
    "plt.plot(x_rank, y_freqs)\n",
    "plt.title(title + f' (ranks 1-{len(x_rank)})', size=18)\n",
    "plt.xlabel(xlabel, size=18)\n",
    "plt.ylabel(ylabel, size=18)\n",
    "plt.plot()"
   ]
  },
  {
   "cell_type": "markdown",
   "metadata": {},
   "source": [
    "We zoom in closer to view ranks 1-1000...\n",
    "\n",
    "*Consider using a subplot here with 4 different zooms*"
   ]
  },
  {
   "cell_type": "code",
   "execution_count": 8,
   "metadata": {},
   "outputs": [
    {
     "data": {
      "text/plain": [
       "[]"
      ]
     },
     "execution_count": 8,
     "metadata": {},
     "output_type": "execute_result"
    },
    {
     "data": {
      "image/png": "[encoded data removed]",
      "text/plain": [
       "<Figure size 864x432 with 1 Axes>"
      ]
     },
     "metadata": {
      "needs_background": "light"
     },
     "output_type": "display_data"
    }
   ],
   "source": [
    "# second plot\n",
    "plt.figure(figsize=(12, 6))\n",
    "plt.plot(x_rank[:1000], y_freqs[:1000])\n",
    "plt.title(title + f' (ranks 1-1000)', size=18)\n",
    "plt.xlabel(xlabel, size=18)\n",
    "plt.ylabel(ylabel, size=18)\n",
    "plt.plot()"
   ]
  },
  {
   "cell_type": "markdown",
   "metadata": {},
   "source": [
    "This curve is typical of Zipf's law:\n",
    "\n",
    "> Zipf's law states that given some corpus of natural language utterances, the frequency of any word is inversely proportional to its rank in the frequency table ([wikipedia](https://en.wikipedia.org/wiki/Zipf%27s_law))\n",
    "\n",
    "The curve sharply \"elbows\" at around rank 15. Between ranks 50-100 there is still an appreciable drop-off. The curve starts to significantly flatten after 200. We thus decide an arbitrary cut-off point at rank 200, based on the fact that the curve does not show any significant leveling after this point."
   ]
  },
  {
   "cell_type": "code",
   "execution_count": 9,
   "metadata": {},
   "outputs": [
    {
     "data": {
      "text/html": [
       "<span class=\"hb\"><a target=\"_blank\" href=\"https://shebanq.ancient-data.org/hebrew/word?version=c&id=1BNn\" title=\"show this lexeme in SHEBANQ\">בֵּן</a></span>&nbsp;&nbsp;|<span class=\"hb\"><a target=\"_blank\" href=\"https://shebanq.ancient-data.org/hebrew/word?version=c&id=1ALHJMn\" title=\"show this lexeme in SHEBANQ\">אֱלֹהִים</a></span>&nbsp;&nbsp;|<span class=\"hb\"><a target=\"_blank\" href=\"https://shebanq.ancient-data.org/hebrew/word?version=c&id=1MLKn\" title=\"show this lexeme in SHEBANQ\">מֶלֶךְ</a></span>&nbsp;&nbsp;|<span class=\"hb\"><a target=\"_blank\" href=\"https://shebanq.ancient-data.org/hebrew/word?version=c&id=1ARYn\" title=\"show this lexeme in SHEBANQ\">אֶרֶץ</a></span>&nbsp;&nbsp;|<span class=\"hb\"><a target=\"_blank\" href=\"https://shebanq.ancient-data.org/hebrew/word?version=c&id=1JWMn\" title=\"show this lexeme in SHEBANQ\">יֹום</a></span>&nbsp;&nbsp;|<span class=\"hb\"><a target=\"_blank\" href=\"https://shebanq.ancient-data.org/hebrew/word?version=c&id=1AJCn\" title=\"show this lexeme in SHEBANQ\">אִישׁ</a></span>&nbsp;&nbsp;|<span class=\"hb\"><a target=\"_blank\" href=\"https://shebanq.ancient-data.org/hebrew/word?version=c&id=1PNHn\" title=\"show this lexeme in SHEBANQ\">פָּנֶה</a></span>&nbsp;&nbsp;|<span class=\"hb\"><a target=\"_blank\" href=\"https://shebanq.ancient-data.org/hebrew/word?version=c&id=1BJTn\" title=\"show this lexeme in SHEBANQ\">בַּיִת</a></span>&nbsp;&nbsp;|<span class=\"hb\"><a target=\"_blank\" href=\"https://shebanq.ancient-data.org/hebrew/word?version=c&id=1OMn\" title=\"show this lexeme in SHEBANQ\">עַם</a></span>&nbsp;&nbsp;|<span class=\"hb\"><a target=\"_blank\" href=\"https://shebanq.ancient-data.org/hebrew/word?version=c&id=1JDn\" title=\"show this lexeme in SHEBANQ\">יָד</a></span>&nbsp;&nbsp;|<span class=\"hb\"><a target=\"_blank\" href=\"https://shebanq.ancient-data.org/hebrew/word?version=c&id=1DBRn\" title=\"show this lexeme in SHEBANQ\">דָּבָר</a></span>&nbsp;&nbsp;|<span class=\"hb\"><a target=\"_blank\" href=\"https://shebanq.ancient-data.org/hebrew/word?version=c&id=1ABn\" title=\"show this lexeme in SHEBANQ\">אָב</a></span>&nbsp;&nbsp;|<span class=\"hb\"><a target=\"_blank\" href=\"https://shebanq.ancient-data.org/hebrew/word?version=c&id=1OJRn\" title=\"show this lexeme in SHEBANQ\">עִיר</a></span>&nbsp;&nbsp;|<span class=\"hb\"><a target=\"_blank\" href=\"https://shebanq.ancient-data.org/hebrew/word?version=c&id=1OJNn\" title=\"show this lexeme in SHEBANQ\">עַיִן</a></span>&nbsp;&nbsp;|<span class=\"hb\"><a target=\"_blank\" href=\"https://shebanq.ancient-data.org/hebrew/word?version=c&id=1CNHn\" title=\"show this lexeme in SHEBANQ\">שָׁנָה</a></span>&nbsp;&nbsp;|<span class=\"hb\"><a target=\"_blank\" href=\"https://shebanq.ancient-data.org/hebrew/word?version=c&id=1CMn\" title=\"show this lexeme in SHEBANQ\">שֵׁם</a></span>&nbsp;&nbsp;|<span class=\"hb\"><a target=\"_blank\" href=\"https://shebanq.ancient-data.org/hebrew/word?version=c&id=1OBDn\" title=\"show this lexeme in SHEBANQ\">עֶבֶד</a></span>&nbsp;&nbsp;|<span class=\"hb\"><a target=\"_blank\" href=\"https://shebanq.ancient-data.org/hebrew/word?version=c&id=1ACHn\" title=\"show this lexeme in SHEBANQ\">אִשָּׁה</a></span>&nbsp;&nbsp;|<span class=\"hb\"><a target=\"_blank\" href=\"https://shebanq.ancient-data.org/hebrew/word?version=c&id=1NPCn\" title=\"show this lexeme in SHEBANQ\">נֶפֶשׁ</a></span>&nbsp;&nbsp;|<span class=\"hb\"><a target=\"_blank\" href=\"https://shebanq.ancient-data.org/hebrew/word?version=c&id=1KHNn\" title=\"show this lexeme in SHEBANQ\">כֹּהֵן</a></span>&nbsp;&nbsp;|<span class=\"hb\"><a target=\"_blank\" href=\"https://shebanq.ancient-data.org/hebrew/word?version=c&id=1DRKn\" title=\"show this lexeme in SHEBANQ\">דֶּרֶךְ</a></span>&nbsp;&nbsp;|<span class=\"hb\"><a target=\"_blank\" href=\"https://shebanq.ancient-data.org/hebrew/word?version=c&id=1AXn\" title=\"show this lexeme in SHEBANQ\">אָח</a></span>&nbsp;&nbsp;|<span class=\"hb\"><a target=\"_blank\" href=\"https://shebanq.ancient-data.org/hebrew/word?version=c&id=1LBn\" title=\"show this lexeme in SHEBANQ\">לֵב</a></span>&nbsp;&nbsp;|<span class=\"hb\"><a target=\"_blank\" href=\"https://shebanq.ancient-data.org/hebrew/word?version=c&id=1RACn\" title=\"show this lexeme in SHEBANQ\">רֹאשׁ</a></span>&nbsp;&nbsp;|<span class=\"hb\"><a target=\"_blank\" href=\"https://shebanq.ancient-data.org/hebrew/word?version=c&id=1BTn\" title=\"show this lexeme in SHEBANQ\">בַּת</a></span>&nbsp;&nbsp;|<span class=\"hb\"><a target=\"_blank\" href=\"https://shebanq.ancient-data.org/hebrew/word?version=c&id=1MJMn\" title=\"show this lexeme in SHEBANQ\">מַיִם</a></span>&nbsp;&nbsp;|<span class=\"hb\"><a target=\"_blank\" href=\"https://shebanq.ancient-data.org/hebrew/word?version=c&id=1HRn\" title=\"show this lexeme in SHEBANQ\">הַר</a></span>&nbsp;&nbsp;|<span class=\"hb\"><a target=\"_blank\" href=\"https://shebanq.ancient-data.org/hebrew/word?version=c&id=1GWJn\" title=\"show this lexeme in SHEBANQ\">גֹּוי</a></span>&nbsp;&nbsp;|<span class=\"hb\"><a target=\"_blank\" href=\"https://shebanq.ancient-data.org/hebrew/word?version=c&id=1ADMn\" title=\"show this lexeme in SHEBANQ\">אָדָם</a></span>&nbsp;&nbsp;|<span class=\"hb\"><a target=\"_blank\" href=\"https://shebanq.ancient-data.org/hebrew/word?version=c&id=1QWLn\" title=\"show this lexeme in SHEBANQ\">קֹול</a></span>&nbsp;&nbsp;|<span class=\"hb\"><a target=\"_blank\" href=\"https://shebanq.ancient-data.org/hebrew/word?version=c&id=1PHn\" title=\"show this lexeme in SHEBANQ\">פֶּה</a></span>&nbsp;&nbsp;|<span class=\"hb\"><a target=\"_blank\" href=\"https://shebanq.ancient-data.org/hebrew/word?version=c&id=1OWDn\" title=\"show this lexeme in SHEBANQ\">עֹוד</a></span>&nbsp;&nbsp;|<span class=\"hb\"><a target=\"_blank\" href=\"https://shebanq.ancient-data.org/hebrew/word?version=c&id=1YBAn\" title=\"show this lexeme in SHEBANQ\">צָבָא</a></span>&nbsp;&nbsp;|<span class=\"hb\"><a target=\"_blank\" href=\"https://shebanq.ancient-data.org/hebrew/word?version=c&id=1QDCn\" title=\"show this lexeme in SHEBANQ\">קֹדֶשׁ</a></span>&nbsp;&nbsp;|<span class=\"hb\"><a target=\"_blank\" href=\"https://shebanq.ancient-data.org/hebrew/word?version=c&id=1OWLMn\" title=\"show this lexeme in SHEBANQ\">עֹולָם</a></span>&nbsp;&nbsp;|<span class=\"hb\"><a target=\"_blank\" href=\"https://shebanq.ancient-data.org/hebrew/word?version=c&id=1MCPVn\" title=\"show this lexeme in SHEBANQ\">מִשְׁפָּט</a></span>&nbsp;&nbsp;|<span class=\"hb\"><a target=\"_blank\" href=\"https://shebanq.ancient-data.org/hebrew/word?version=c&id=1FRn\" title=\"show this lexeme in SHEBANQ\">שַׂר</a></span>&nbsp;&nbsp;|<span class=\"hb\"><a target=\"_blank\" href=\"https://shebanq.ancient-data.org/hebrew/word?version=c&id=1CMJMn\" title=\"show this lexeme in SHEBANQ\">שָׁמַיִם</a></span>&nbsp;&nbsp;|<span class=\"hb\"><a target=\"_blank\" href=\"https://shebanq.ancient-data.org/hebrew/word?version=c&id=1TWKn\" title=\"show this lexeme in SHEBANQ\">תָּוֶךְ</a></span>&nbsp;&nbsp;|<span class=\"hb\"><a target=\"_blank\" href=\"https://shebanq.ancient-data.org/hebrew/word?version=c&id=1XRBn\" title=\"show this lexeme in SHEBANQ\">חֶרֶב</a></span>&nbsp;&nbsp;|<span class=\"hb\"><a target=\"_blank\" href=\"https://shebanq.ancient-data.org/hebrew/word?version=c&id=1KSPn\" title=\"show this lexeme in SHEBANQ\">כֶּסֶף</a></span>&nbsp;&nbsp;|<span class=\"hb\"><a target=\"_blank\" href=\"https://shebanq.ancient-data.org/hebrew/word?version=c&id=1MZBXn\" title=\"show this lexeme in SHEBANQ\">מִזְבֵּחַ</a></span>&nbsp;&nbsp;|<span class=\"hb\"><a target=\"_blank\" href=\"https://shebanq.ancient-data.org/hebrew/word?version=c&id=1MQWMn\" title=\"show this lexeme in SHEBANQ\">מָקֹום</a></span>&nbsp;&nbsp;|<span class=\"hb\"><a target=\"_blank\" href=\"https://shebanq.ancient-data.org/hebrew/word?version=c&id=1JMn\" title=\"show this lexeme in SHEBANQ\">יָם</a></span>&nbsp;&nbsp;|<span class=\"hb\"><a target=\"_blank\" href=\"https://shebanq.ancient-data.org/hebrew/word?version=c&id=1ZHBn\" title=\"show this lexeme in SHEBANQ\">זָהָב</a></span>&nbsp;&nbsp;|<span class=\"hb\"><a target=\"_blank\" href=\"https://shebanq.ancient-data.org/hebrew/word?version=c&id=1ACn\" title=\"show this lexeme in SHEBANQ\">אֵשׁ</a></span>&nbsp;&nbsp;|<span class=\"hb\"><a target=\"_blank\" href=\"https://shebanq.ancient-data.org/hebrew/word?version=c&id=1RWXn\" title=\"show this lexeme in SHEBANQ\">רוּחַ</a></span>&nbsp;&nbsp;|<span class=\"hb\"><a target=\"_blank\" href=\"https://shebanq.ancient-data.org/hebrew/word?version=c&id=1NAMn\" title=\"show this lexeme in SHEBANQ\">נְאֻם</a></span>&nbsp;&nbsp;|<span class=\"hb\"><a target=\"_blank\" href=\"https://shebanq.ancient-data.org/hebrew/word?version=c&id=1CORn\" title=\"show this lexeme in SHEBANQ\">שַׁעַר</a></span>&nbsp;&nbsp;|<span class=\"hb\"><a target=\"_blank\" href=\"https://shebanq.ancient-data.org/hebrew/word?version=c&id=1DMn\" title=\"show this lexeme in SHEBANQ\">דָּם</a></span>&nbsp;&nbsp;|<span class=\"hb\"><a target=\"_blank\" href=\"https://shebanq.ancient-data.org/hebrew/word?version=c&id=1AHLn\" title=\"show this lexeme in SHEBANQ\">אֹהֶל</a></span>&nbsp;&nbsp;|<span class=\"hb\"><a target=\"_blank\" href=\"https://shebanq.ancient-data.org/hebrew/word?version=c&id=1SBJBn\" title=\"show this lexeme in SHEBANQ\">סָבִיב</a></span>&nbsp;&nbsp;|<span class=\"hb\"><a target=\"_blank\" href=\"https://shebanq.ancient-data.org/hebrew/word?version=c&id=1ADWNn\" title=\"show this lexeme in SHEBANQ\">אָדֹון</a></span>&nbsp;&nbsp;|<span class=\"hb\"><a target=\"_blank\" href=\"https://shebanq.ancient-data.org/hebrew/word?version=c&id=1OYn\" title=\"show this lexeme in SHEBANQ\">עֵץ</a></span>&nbsp;&nbsp;|<span class=\"hb\"><a target=\"_blank\" href=\"https://shebanq.ancient-data.org/hebrew/word?version=c&id=1KLJn\" title=\"show this lexeme in SHEBANQ\">כְּלִי</a></span>&nbsp;&nbsp;|<span class=\"hb\"><a target=\"_blank\" href=\"https://shebanq.ancient-data.org/hebrew/word?version=c&id=1FDHn\" title=\"show this lexeme in SHEBANQ\">שָׂדֶה</a></span>&nbsp;&nbsp;|<span class=\"hb\"><a target=\"_blank\" href=\"https://shebanq.ancient-data.org/hebrew/word?version=c&id=1NBJAn\" title=\"show this lexeme in SHEBANQ\">נָבִיא</a></span>&nbsp;&nbsp;|<span class=\"hb\"><a target=\"_blank\" href=\"https://shebanq.ancient-data.org/hebrew/word?version=c&id=1ROHn\" title=\"show this lexeme in SHEBANQ\">רָעָה</a></span>&nbsp;&nbsp;|<span class=\"hb\"><a target=\"_blank\" href=\"https://shebanq.ancient-data.org/hebrew/word?version=c&id=1MLXMHn\" title=\"show this lexeme in SHEBANQ\">מִלְחָמָה</a></span>&nbsp;&nbsp;|<span class=\"hb\"><a target=\"_blank\" href=\"https://shebanq.ancient-data.org/hebrew/word?version=c&id=1MADn\" title=\"show this lexeme in SHEBANQ\">מְאֹד</a></span>&nbsp;&nbsp;|<span class=\"hb\"><a target=\"_blank\" href=\"https://shebanq.ancient-data.org/hebrew/word?version=c&id=1LXMn\" title=\"show this lexeme in SHEBANQ\">לֶחֶם</a></span>&nbsp;&nbsp;|<span class=\"hb\"><a target=\"_blank\" href=\"https://shebanq.ancient-data.org/hebrew/word?version=c&id=1OTn\" title=\"show this lexeme in SHEBANQ\">עֵת</a></span>&nbsp;&nbsp;|<span class=\"hb\"><a target=\"_blank\" href=\"https://shebanq.ancient-data.org/hebrew/word?version=c&id=1XVATn\" title=\"show this lexeme in SHEBANQ\">חַטָּאת</a></span>&nbsp;&nbsp;|<span class=\"hb\"><a target=\"_blank\" href=\"https://shebanq.ancient-data.org/hebrew/word?version=c&id=1OLHn\" title=\"show this lexeme in SHEBANQ\">עֹלָה</a></span>&nbsp;&nbsp;|<span class=\"hb\"><a target=\"_blank\" href=\"https://shebanq.ancient-data.org/hebrew/word?version=c&id=1XDCin\" title=\"show this lexeme in SHEBANQ\">חֹדֶשׁ</a></span>&nbsp;&nbsp;|<span class=\"hb\"><a target=\"_blank\" href=\"https://shebanq.ancient-data.org/hebrew/word?version=c&id=1BRJTn\" title=\"show this lexeme in SHEBANQ\">בְּרִית</a></span>&nbsp;&nbsp;|<span class=\"hb\"><a target=\"_blank\" href=\"https://shebanq.ancient-data.org/hebrew/word?version=c&id=1APn\" title=\"show this lexeme in SHEBANQ\">אַף</a></span>&nbsp;&nbsp;|<span class=\"hb\"><a target=\"_blank\" href=\"https://shebanq.ancient-data.org/hebrew/word?version=c&id=1PROHn\" title=\"show this lexeme in SHEBANQ\">פַּרְעֹה</a></span>&nbsp;&nbsp;|<span class=\"hb\"><a target=\"_blank\" href=\"https://shebanq.ancient-data.org/hebrew/word?version=c&id=1YANn\" title=\"show this lexeme in SHEBANQ\">צֹאן</a></span>&nbsp;&nbsp;|<span class=\"hb\"><a target=\"_blank\" href=\"https://shebanq.ancient-data.org/hebrew/word?version=c&id=1ABNn\" title=\"show this lexeme in SHEBANQ\">אֶבֶן</a></span>&nbsp;&nbsp;|<span class=\"hb\"><a target=\"_blank\" href=\"https://shebanq.ancient-data.org/hebrew/word?version=c&id=1MDBRn\" title=\"show this lexeme in SHEBANQ\">מִדְבָּר</a></span>&nbsp;&nbsp;|<span class=\"hb\"><a target=\"_blank\" href=\"https://shebanq.ancient-data.org/hebrew/word?version=c&id=1BFRn\" title=\"show this lexeme in SHEBANQ\">בָּשָׂר</a></span>&nbsp;&nbsp;|<span class=\"hb\"><a target=\"_blank\" href=\"https://shebanq.ancient-data.org/hebrew/word?version=c&id=1MVHn\" title=\"show this lexeme in SHEBANQ\">מַטֶּה</a></span>&nbsp;&nbsp;|<span class=\"hb\"><a target=\"_blank\" href=\"https://shebanq.ancient-data.org/hebrew/word?version=c&id=1LBBn\" title=\"show this lexeme in SHEBANQ\">לֵבָב</a></span>&nbsp;&nbsp;|<span class=\"hb\"><a target=\"_blank\" href=\"https://shebanq.ancient-data.org/hebrew/word?version=c&id=1RGLn\" title=\"show this lexeme in SHEBANQ\">רֶגֶל</a></span>&nbsp;&nbsp;|<span class=\"hb\"><a target=\"_blank\" href=\"https://shebanq.ancient-data.org/hebrew/word?version=c&id=1AMHin\" title=\"show this lexeme in SHEBANQ\">אַמָּה</a></span>&nbsp;&nbsp;|<span class=\"hb\"><a target=\"_blank\" href=\"https://shebanq.ancient-data.org/hebrew/word?version=c&id=1XSDn\" title=\"show this lexeme in SHEBANQ\">חֶסֶד</a></span>&nbsp;&nbsp;|<span class=\"hb\"><a target=\"_blank\" href=\"https://shebanq.ancient-data.org/hebrew/word?version=c&id=1XJLn\" title=\"show this lexeme in SHEBANQ\">חַיִל</a></span>&nbsp;&nbsp;|<span class=\"hb\"><a target=\"_blank\" href=\"https://shebanq.ancient-data.org/hebrew/word?version=c&id=1NORn\" title=\"show this lexeme in SHEBANQ\">נַעַר</a></span>&nbsp;&nbsp;|<span class=\"hb\"><a target=\"_blank\" href=\"https://shebanq.ancient-data.org/hebrew/word?version=c&id=1GBWLn\" title=\"show this lexeme in SHEBANQ\">גְּבוּל</a></span>&nbsp;&nbsp;|<span class=\"hb\"><a target=\"_blank\" href=\"https://shebanq.ancient-data.org/hebrew/word?version=c&id=1CLWMn\" title=\"show this lexeme in SHEBANQ\">שָׁלֹום</a></span>&nbsp;&nbsp;|<span class=\"hb\"><a target=\"_blank\" href=\"https://shebanq.ancient-data.org/hebrew/word?version=c&id=1ALn\" title=\"show this lexeme in SHEBANQ\">אֵל</a></span>&nbsp;&nbsp;|<span class=\"hb\"><a target=\"_blank\" href=\"https://shebanq.ancient-data.org/hebrew/word?version=c&id=1MOFHn\" title=\"show this lexeme in SHEBANQ\">מַעֲשֶׂה</a></span>&nbsp;&nbsp;|<span class=\"hb\"><a target=\"_blank\" href=\"https://shebanq.ancient-data.org/hebrew/word?version=c&id=1OWNn\" title=\"show this lexeme in SHEBANQ\">עָוֹן</a></span>&nbsp;&nbsp;|<span class=\"hb\"><a target=\"_blank\" href=\"https://shebanq.ancient-data.org/hebrew/word?version=c&id=1ZROn\" title=\"show this lexeme in SHEBANQ\">זֶרַע</a></span>&nbsp;&nbsp;|<span class=\"hb\"><a target=\"_blank\" href=\"https://shebanq.ancient-data.org/hebrew/word?version=c&id=1QRBn\" title=\"show this lexeme in SHEBANQ\">קֶרֶב</a></span>&nbsp;&nbsp;|<span class=\"hb\"><a target=\"_blank\" href=\"https://shebanq.ancient-data.org/hebrew/word?version=c&id=1LJLHn\" title=\"show this lexeme in SHEBANQ\">לַיְלָה</a></span>&nbsp;&nbsp;|<span class=\"hb\"><a target=\"_blank\" href=\"https://shebanq.ancient-data.org/hebrew/word?version=c&id=1BDn\" title=\"show this lexeme in SHEBANQ\">בַּד</a></span>&nbsp;&nbsp;|<span class=\"hb\"><a target=\"_blank\" href=\"https://shebanq.ancient-data.org/hebrew/word?version=c&id=1NXLHn\" title=\"show this lexeme in SHEBANQ\">נַחֲלָה</a></span>&nbsp;&nbsp;|<span class=\"hb\"><a target=\"_blank\" href=\"https://shebanq.ancient-data.org/hebrew/word?version=c&id=1ADMHn\" title=\"show this lexeme in SHEBANQ\">אֲדָמָה</a></span>&nbsp;&nbsp;|<span class=\"hb\"><a target=\"_blank\" href=\"https://shebanq.ancient-data.org/hebrew/word?version=c&id=1MWODn\" title=\"show this lexeme in SHEBANQ\">מֹועֵד</a></span>&nbsp;&nbsp;|<span class=\"hb\"><a target=\"_blank\" href=\"https://shebanq.ancient-data.org/hebrew/word?version=c&id=1TWRHn\" title=\"show this lexeme in SHEBANQ\">תֹּורָה</a></span>&nbsp;&nbsp;|<span class=\"hb\"><a target=\"_blank\" href=\"https://shebanq.ancient-data.org/hebrew/word?version=c&id=1AMn\" title=\"show this lexeme in SHEBANQ\">אֵם</a></span>&nbsp;&nbsp;|<span class=\"hb\"><a target=\"_blank\" href=\"https://shebanq.ancient-data.org/hebrew/word?version=c&id=1BGDn\" title=\"show this lexeme in SHEBANQ\">בֶּגֶד</a></span>&nbsp;&nbsp;|<span class=\"hb\"><a target=\"_blank\" href=\"https://shebanq.ancient-data.org/hebrew/word?version=c&id=1MXNHn\" title=\"show this lexeme in SHEBANQ\">מַחֲנֶה</a></span>&nbsp;&nbsp;|<span class=\"hb\"><a target=\"_blank\" href=\"https://shebanq.ancient-data.org/hebrew/word?version=c&id=1BQRin\" title=\"show this lexeme in SHEBANQ\">בֹּקֶר</a></span>&nbsp;&nbsp;|<span class=\"hb\"><a target=\"_blank\" href=\"https://shebanq.ancient-data.org/hebrew/word?version=c&id=1MLAKn\" title=\"show this lexeme in SHEBANQ\">מַלְאָךְ</a></span>&nbsp;&nbsp;|<span class=\"hb\"><a target=\"_blank\" href=\"https://shebanq.ancient-data.org/hebrew/word?version=c&id=1MNXHn\" title=\"show this lexeme in SHEBANQ\">מִנְחָה</a></span>&nbsp;&nbsp;|<span class=\"hb\"><a target=\"_blank\" href=\"https://shebanq.ancient-data.org/hebrew/word?version=c&id=1ARWNn\" title=\"show this lexeme in SHEBANQ\">אֲרֹון</a></span>&nbsp;&nbsp;|<span class=\"hb\"><a target=\"_blank\" href=\"https://shebanq.ancient-data.org/hebrew/word?version=c&id=1KBWDn\" title=\"show this lexeme in SHEBANQ\">כָּבֹוד</a></span>&nbsp;&nbsp;|<span class=\"hb\"><a target=\"_blank\" href=\"https://shebanq.ancient-data.org/hebrew/word?version=c&id=1XYRn\" title=\"show this lexeme in SHEBANQ\">חָצֵר</a></span>&nbsp;&nbsp;|<span class=\"hb\"><a target=\"_blank\" href=\"https://shebanq.ancient-data.org/hebrew/word?version=c&id=1KPn\" title=\"show this lexeme in SHEBANQ\">כַּף</a></span>&nbsp;&nbsp;|<span class=\"hb\"><a target=\"_blank\" href=\"https://shebanq.ancient-data.org/hebrew/word?version=c&id=1CMNn\" title=\"show this lexeme in SHEBANQ\">שֶׁמֶן</a></span>&nbsp;&nbsp;|<span class=\"hb\"><a target=\"_blank\" href=\"https://shebanq.ancient-data.org/hebrew/word?version=c&id=1CBVn\" title=\"show this lexeme in SHEBANQ\">שֵׁבֶט</a></span>&nbsp;&nbsp;|<span class=\"hb\"><a target=\"_blank\" href=\"https://shebanq.ancient-data.org/hebrew/word?version=c&id=1BHMHn\" title=\"show this lexeme in SHEBANQ\">בְּהֵמָה</a></span>&nbsp;&nbsp;|<span class=\"hb\"><a target=\"_blank\" href=\"https://shebanq.ancient-data.org/hebrew/word?version=c&id=1MCPXHn\" title=\"show this lexeme in SHEBANQ\">מִשְׁפָּחָה</a></span>&nbsp;&nbsp;|<span class=\"hb\"><a target=\"_blank\" href=\"https://shebanq.ancient-data.org/hebrew/word?version=c&id=1AZNn\" title=\"show this lexeme in SHEBANQ\">אֹזֶן</a></span>&nbsp;&nbsp;|<span class=\"hb\"><a target=\"_blank\" href=\"https://shebanq.ancient-data.org/hebrew/word?version=c&id=1ROin\" title=\"show this lexeme in SHEBANQ\">רֵעַ</a></span>&nbsp;&nbsp;|<span class=\"hb\"><a target=\"_blank\" href=\"https://shebanq.ancient-data.org/hebrew/word?version=c&id=1SPRn\" title=\"show this lexeme in SHEBANQ\">סֵפֶר</a></span>&nbsp;&nbsp;|<span class=\"hb\"><a target=\"_blank\" href=\"https://shebanq.ancient-data.org/hebrew/word?version=c&id=1BQRn\" title=\"show this lexeme in SHEBANQ\">בָּקָר</a></span>&nbsp;&nbsp;|<span class=\"hb\"><a target=\"_blank\" href=\"https://shebanq.ancient-data.org/hebrew/word?version=c&id=1MYWHn\" title=\"show this lexeme in SHEBANQ\">מִצְוָה</a></span>&nbsp;&nbsp;|<span class=\"hb\"><a target=\"_blank\" href=\"https://shebanq.ancient-data.org/hebrew/word?version=c&id=1FPHn\" title=\"show this lexeme in SHEBANQ\">שָׂפָה</a></span>&nbsp;&nbsp;|<span class=\"hb\"><a target=\"_blank\" href=\"https://shebanq.ancient-data.org/hebrew/word?version=c&id=1DWRn\" title=\"show this lexeme in SHEBANQ\">דֹּור</a></span>&nbsp;&nbsp;|<span class=\"hb\"><a target=\"_blank\" href=\"https://shebanq.ancient-data.org/hebrew/word?version=c&id=1BOLn\" title=\"show this lexeme in SHEBANQ\">בַּעַל</a></span>&nbsp;&nbsp;|<span class=\"hb\"><a target=\"_blank\" href=\"https://shebanq.ancient-data.org/hebrew/word?version=c&id=1XWYn\" title=\"show this lexeme in SHEBANQ\">חוּץ</a></span>&nbsp;&nbsp;|<span class=\"hb\"><a target=\"_blank\" href=\"https://shebanq.ancient-data.org/hebrew/word?version=c&id=1PTXn\" title=\"show this lexeme in SHEBANQ\">פֶּתַח</a></span>&nbsp;&nbsp;|<span class=\"hb\"><a target=\"_blank\" href=\"https://shebanq.ancient-data.org/hebrew/word?version=c&id=1AJLin\" title=\"show this lexeme in SHEBANQ\">אַיִל</a></span>&nbsp;&nbsp;|<span class=\"hb\"><a target=\"_blank\" href=\"https://shebanq.ancient-data.org/hebrew/word?version=c&id=1ZBXn\" title=\"show this lexeme in SHEBANQ\">זֶבַח</a></span>&nbsp;&nbsp;|<span class=\"hb\"><a target=\"_blank\" href=\"https://shebanq.ancient-data.org/hebrew/word?version=c&id=1MWTn\" title=\"show this lexeme in SHEBANQ\">מָוֶת</a></span>&nbsp;&nbsp;|<span class=\"hb\"><a target=\"_blank\" href=\"https://shebanq.ancient-data.org/hebrew/word?version=c&id=1GBWRn\" title=\"show this lexeme in SHEBANQ\">גִּבֹּור</a></span>&nbsp;&nbsp;|<span class=\"hb\"><a target=\"_blank\" href=\"https://shebanq.ancient-data.org/hebrew/word?version=c&id=1YDQHn\" title=\"show this lexeme in SHEBANQ\">צְדָקָה</a></span>&nbsp;&nbsp;|<span class=\"hb\"><a target=\"_blank\" href=\"https://shebanq.ancient-data.org/hebrew/word?version=c&id=1RBin\" title=\"show this lexeme in SHEBANQ\">רֹב</a></span>&nbsp;&nbsp;|<span class=\"hb\"><a target=\"_blank\" href=\"https://shebanq.ancient-data.org/hebrew/word?version=c&id=1YPWNn\" title=\"show this lexeme in SHEBANQ\">צָפֹון</a></span>&nbsp;&nbsp;|<span class=\"hb\"><a target=\"_blank\" href=\"https://shebanq.ancient-data.org/hebrew/word?version=c&id=1XKMHn\" title=\"show this lexeme in SHEBANQ\">חָכְמָה</a></span>&nbsp;&nbsp;|<span class=\"hb\"><a target=\"_blank\" href=\"https://shebanq.ancient-data.org/hebrew/word?version=c&id=1ODHn\" title=\"show this lexeme in SHEBANQ\">עֵדָה</a></span>&nbsp;&nbsp;|<span class=\"hb\"><a target=\"_blank\" href=\"https://shebanq.ancient-data.org/hebrew/word?version=c&id=1XJJMn\" title=\"show this lexeme in SHEBANQ\">חַיִּים</a></span>&nbsp;&nbsp;|<span class=\"hb\"><a target=\"_blank\" href=\"https://shebanq.ancient-data.org/hebrew/word?version=c&id=1OBDHn\" title=\"show this lexeme in SHEBANQ\">עֲבֹדָה</a></span>&nbsp;&nbsp;|<span class=\"hb\"><a target=\"_blank\" href=\"https://shebanq.ancient-data.org/hebrew/word?version=c&id=1JJNn\" title=\"show this lexeme in SHEBANQ\">יַיִן</a></span>&nbsp;&nbsp;|<span class=\"hb\"><a target=\"_blank\" href=\"https://shebanq.ancient-data.org/hebrew/word?version=c&id=1MOLn\" title=\"show this lexeme in SHEBANQ\">מַעַל</a></span>&nbsp;&nbsp;|<span class=\"hb\"><a target=\"_blank\" href=\"https://shebanq.ancient-data.org/hebrew/word?version=c&id=1MCKNn\" title=\"show this lexeme in SHEBANQ\">מִשְׁכָּן</a></span>&nbsp;&nbsp;|<span class=\"hb\"><a target=\"_blank\" href=\"https://shebanq.ancient-data.org/hebrew/word?version=c&id=1NXLn\" title=\"show this lexeme in SHEBANQ\">נַחַל</a></span>&nbsp;&nbsp;|<span class=\"hb\"><a target=\"_blank\" href=\"https://shebanq.ancient-data.org/hebrew/word?version=c&id=1JMJNn\" title=\"show this lexeme in SHEBANQ\">יָמִין</a></span>&nbsp;&nbsp;|<span class=\"hb\"><a target=\"_blank\" href=\"https://shebanq.ancient-data.org/hebrew/word?version=c&id=1NXCTn\" title=\"show this lexeme in SHEBANQ\">נְחֹשֶׁת</a></span>&nbsp;&nbsp;|<span class=\"hb\"><a target=\"_blank\" href=\"https://shebanq.ancient-data.org/hebrew/word?version=c&id=1SWSn\" title=\"show this lexeme in SHEBANQ\">סוּס</a></span>&nbsp;&nbsp;|<span class=\"hb\"><a target=\"_blank\" href=\"https://shebanq.ancient-data.org/hebrew/word?version=c&id=1KSAn\" title=\"show this lexeme in SHEBANQ\">כִּסֵּא</a></span>&nbsp;&nbsp;|<span class=\"hb\"><a target=\"_blank\" href=\"https://shebanq.ancient-data.org/hebrew/word?version=c&id=1CMCn\" title=\"show this lexeme in SHEBANQ\">שֶׁמֶשׁ</a></span>&nbsp;&nbsp;|<span class=\"hb\"><a target=\"_blank\" href=\"https://shebanq.ancient-data.org/hebrew/word?version=c&id=1MSPRn\" title=\"show this lexeme in SHEBANQ\">מִסְפָּר</a></span>&nbsp;&nbsp;|<span class=\"hb\"><a target=\"_blank\" href=\"https://shebanq.ancient-data.org/hebrew/word?version=c&id=1ORBn\" title=\"show this lexeme in SHEBANQ\">עֶרֶב</a></span>&nbsp;&nbsp;|<span class=\"hb\"><a target=\"_blank\" href=\"https://shebanq.ancient-data.org/hebrew/word?version=c&id=1XWMHn\" title=\"show this lexeme in SHEBANQ\">חֹומָה</a></span>&nbsp;&nbsp;|<span class=\"hb\"><a target=\"_blank\" href=\"https://shebanq.ancient-data.org/hebrew/word?version=c&id=1PRn\" title=\"show this lexeme in SHEBANQ\">פַּר</a></span>&nbsp;&nbsp;|<span class=\"hb\"><a target=\"_blank\" href=\"https://shebanq.ancient-data.org/hebrew/word?version=c&id=1NFJAn\" title=\"show this lexeme in SHEBANQ\">נָשִׂיא</a></span>&nbsp;&nbsp;|<span class=\"hb\"><a target=\"_blank\" href=\"https://shebanq.ancient-data.org/hebrew/word?version=c&id=1XQn\" title=\"show this lexeme in SHEBANQ\">חֹק</a></span>&nbsp;&nbsp;|<span class=\"hb\"><a target=\"_blank\" href=\"https://shebanq.ancient-data.org/hebrew/word?version=c&id=1AMTn\" title=\"show this lexeme in SHEBANQ\">אֶמֶת</a></span>&nbsp;&nbsp;|<span class=\"hb\"><a target=\"_blank\" href=\"https://shebanq.ancient-data.org/hebrew/word?version=c&id=1XMHn\" title=\"show this lexeme in SHEBANQ\">חֵמָה</a></span>&nbsp;&nbsp;|<span class=\"hb\"><a target=\"_blank\" href=\"https://shebanq.ancient-data.org/hebrew/word?version=c&id=1KXn\" title=\"show this lexeme in SHEBANQ\">כֹּחַ</a></span>&nbsp;&nbsp;|<span class=\"hb\"><a target=\"_blank\" href=\"https://shebanq.ancient-data.org/hebrew/word?version=c&id=1QHLn\" title=\"show this lexeme in SHEBANQ\">קָהָל</a></span>&nbsp;&nbsp;|<span class=\"hb\"><a target=\"_blank\" href=\"https://shebanq.ancient-data.org/hebrew/word?version=c&id=1OYMn\" title=\"show this lexeme in SHEBANQ\">עֶצֶם</a></span>&nbsp;&nbsp;|<span class=\"hb\"><a target=\"_blank\" href=\"https://shebanq.ancient-data.org/hebrew/word?version=c&id=1BKRn\" title=\"show this lexeme in SHEBANQ\">בְּכֹר</a></span>&nbsp;&nbsp;|<span class=\"hb\"><a target=\"_blank\" href=\"https://shebanq.ancient-data.org/hebrew/word?version=c&id=1YDQn\" title=\"show this lexeme in SHEBANQ\">צֶדֶק</a></span>&nbsp;&nbsp;|<span class=\"hb\"><a target=\"_blank\" href=\"https://shebanq.ancient-data.org/hebrew/word?version=c&id=1RKBn\" title=\"show this lexeme in SHEBANQ\">רֶכֶב</a></span>&nbsp;&nbsp;|<span class=\"hb\"><a target=\"_blank\" href=\"https://shebanq.ancient-data.org/hebrew/word?version=c&id=1NHRn\" title=\"show this lexeme in SHEBANQ\">נָהָר</a></span>&nbsp;&nbsp;|<span class=\"hb\"><a target=\"_blank\" href=\"https://shebanq.ancient-data.org/hebrew/word?version=c&id=1PRJn\" title=\"show this lexeme in SHEBANQ\">פְּרִי</a></span>&nbsp;&nbsp;|<span class=\"hb\"><a target=\"_blank\" href=\"https://shebanq.ancient-data.org/hebrew/word?version=c&id=1POMn\" title=\"show this lexeme in SHEBANQ\">פַּעַם</a></span>&nbsp;&nbsp;|<span class=\"hb\"><a target=\"_blank\" href=\"https://shebanq.ancient-data.org/hebrew/word?version=c&id=1TWOBHn\" title=\"show this lexeme in SHEBANQ\">תֹּועֵבָה</a></span>&nbsp;&nbsp;|<span class=\"hb\"><a target=\"_blank\" href=\"https://shebanq.ancient-data.org/hebrew/word?version=c&id=1LCWNn\" title=\"show this lexeme in SHEBANQ\">לָשֹׁון</a></span>&nbsp;&nbsp;|<span class=\"hb\"><a target=\"_blank\" href=\"https://shebanq.ancient-data.org/hebrew/word?version=c&id=1MCPXTn\" title=\"show this lexeme in SHEBANQ\">מִשְׁפַּחַת</a></span>&nbsp;&nbsp;|<span class=\"hb\"><a target=\"_blank\" href=\"https://shebanq.ancient-data.org/hebrew/word?version=c&id=1AWRn\" title=\"show this lexeme in SHEBANQ\">אֹור</a></span>&nbsp;&nbsp;|<span class=\"hb\"><a target=\"_blank\" href=\"https://shebanq.ancient-data.org/hebrew/word?version=c&id=1MGRCn\" title=\"show this lexeme in SHEBANQ\">מִגְרָשׁ</a></span>&nbsp;&nbsp;|<span class=\"hb\"><a target=\"_blank\" href=\"https://shebanq.ancient-data.org/hebrew/word?version=c&id=1AXWTn\" title=\"show this lexeme in SHEBANQ\">אָחֹות</a></span>&nbsp;&nbsp;|<span class=\"hb\"><a target=\"_blank\" href=\"https://shebanq.ancient-data.org/hebrew/word?version=c&id=1CQRn\" title=\"show this lexeme in SHEBANQ\">שֶׁקֶר</a></span>&nbsp;&nbsp;|<span class=\"hb\"><a target=\"_blank\" href=\"https://shebanq.ancient-data.org/hebrew/word?version=c&id=1NGBn\" title=\"show this lexeme in SHEBANQ\">נֶגֶב</a></span>&nbsp;&nbsp;|<span class=\"hb\"><a target=\"_blank\" href=\"https://shebanq.ancient-data.org/hebrew/word?version=c&id=1CBTn\" title=\"show this lexeme in SHEBANQ\">שַׁבָּת</a></span>&nbsp;&nbsp;|<span class=\"hb\"><a target=\"_blank\" href=\"https://shebanq.ancient-data.org/hebrew/word?version=c&id=1OMWDn\" title=\"show this lexeme in SHEBANQ\">עַמּוּד</a></span>&nbsp;&nbsp;|<span class=\"hb\"><a target=\"_blank\" href=\"https://shebanq.ancient-data.org/hebrew/word?version=c&id=1OPRn\" title=\"show this lexeme in SHEBANQ\">עָפָר</a></span>&nbsp;&nbsp;|<span class=\"hb\"><a target=\"_blank\" href=\"https://shebanq.ancient-data.org/hebrew/word?version=c&id=1KNPn\" title=\"show this lexeme in SHEBANQ\">כָּנָף</a></span>&nbsp;&nbsp;|<span class=\"hb\"><a target=\"_blank\" href=\"https://shebanq.ancient-data.org/hebrew/word?version=c&id=1KBFn\" title=\"show this lexeme in SHEBANQ\">כֶּבֶשׂ</a></span>&nbsp;&nbsp;|<span class=\"hb\"><a target=\"_blank\" href=\"https://shebanq.ancient-data.org/hebrew/word?version=c&id=1MLAKHn\" title=\"show this lexeme in SHEBANQ\">מְלָאכָה</a></span>&nbsp;&nbsp;|<span class=\"hb\"><a target=\"_blank\" href=\"https://shebanq.ancient-data.org/hebrew/word?version=c&id=1TMJDn\" title=\"show this lexeme in SHEBANQ\">תָּמִיד</a></span>&nbsp;&nbsp;|<span class=\"hb\"><a target=\"_blank\" href=\"https://shebanq.ancient-data.org/hebrew/word?version=c&id=1XQHn\" title=\"show this lexeme in SHEBANQ\">חֻקָּה</a></span>&nbsp;&nbsp;|<span class=\"hb\"><a target=\"_blank\" href=\"https://shebanq.ancient-data.org/hebrew/word?version=c&id=1BMHn\" title=\"show this lexeme in SHEBANQ\">בָּמָה</a></span>&nbsp;&nbsp;|<span class=\"hb\"><a target=\"_blank\" href=\"https://shebanq.ancient-data.org/hebrew/word?version=c&id=1MRAHn\" title=\"show this lexeme in SHEBANQ\">מַרְאֶה</a></span>&nbsp;&nbsp;|<span class=\"hb\"><a target=\"_blank\" href=\"https://shebanq.ancient-data.org/hebrew/word?version=c&id=1ROBn\" title=\"show this lexeme in SHEBANQ\">רָעָב</a></span>&nbsp;&nbsp;|<span class=\"hb\"><a target=\"_blank\" href=\"https://shebanq.ancient-data.org/hebrew/word?version=c&id=1RXBin\" title=\"show this lexeme in SHEBANQ\">רֹחַב</a></span>&nbsp;&nbsp;|<span class=\"hb\"><a target=\"_blank\" href=\"https://shebanq.ancient-data.org/hebrew/word?version=c&id=1XJHn\" title=\"show this lexeme in SHEBANQ\">חַיָּה</a></span>&nbsp;&nbsp;|<span class=\"hb\"><a target=\"_blank\" href=\"https://shebanq.ancient-data.org/hebrew/word?version=c&id=1OWRin\" title=\"show this lexeme in SHEBANQ\">עֹור</a></span>&nbsp;&nbsp;|<span class=\"hb\"><a target=\"_blank\" href=\"https://shebanq.ancient-data.org/hebrew/word?version=c&id=1XMWRn\" title=\"show this lexeme in SHEBANQ\">חֲמֹור</a></span>&nbsp;&nbsp;|<span class=\"hb\"><a target=\"_blank\" href=\"https://shebanq.ancient-data.org/hebrew/word?version=c&id=1ARKin\" title=\"show this lexeme in SHEBANQ\">אֹרֶךְ</a></span>&nbsp;&nbsp;|<span class=\"hb\"><a target=\"_blank\" href=\"https://shebanq.ancient-data.org/hebrew/word?version=c&id=1FMXHn\" title=\"show this lexeme in SHEBANQ\">שִׂמְחָה</a></span>&nbsp;&nbsp;|<span class=\"hb\"><a target=\"_blank\" href=\"https://shebanq.ancient-data.org/hebrew/word?version=c&id=1MMLKHn\" title=\"show this lexeme in SHEBANQ\">מַמְלָכָה</a></span>&nbsp;&nbsp;|<span class=\"hb\"><a target=\"_blank\" href=\"https://shebanq.ancient-data.org/hebrew/word?version=c&id=1PCOn\" title=\"show this lexeme in SHEBANQ\">פֶּשַׁע</a></span>&nbsp;&nbsp;|<span class=\"hb\"><a target=\"_blank\" href=\"https://shebanq.ancient-data.org/hebrew/word?version=c&id=1DOTn\" title=\"show this lexeme in SHEBANQ\">דַּעַת</a></span>&nbsp;&nbsp;|<span class=\"hb\"><a target=\"_blank\" href=\"https://shebanq.ancient-data.org/hebrew/word?version=c&id=1GRn\" title=\"show this lexeme in SHEBANQ\">גֵּר</a></span>&nbsp;&nbsp;|<span class=\"hb\"><a target=\"_blank\" href=\"https://shebanq.ancient-data.org/hebrew/word?version=c&id=1KRMn\" title=\"show this lexeme in SHEBANQ\">כֶּרֶם</a></span>&nbsp;&nbsp;|<span class=\"hb\"><a target=\"_blank\" href=\"https://shebanq.ancient-data.org/hebrew/word?version=c&id=1QYHin\" title=\"show this lexeme in SHEBANQ\">קָצֶה</a></span>&nbsp;&nbsp;|<span class=\"hb\"><a target=\"_blank\" href=\"https://shebanq.ancient-data.org/hebrew/word?version=c&id=1XLBin\" title=\"show this lexeme in SHEBANQ\">חֵלֶב</a></span>&nbsp;&nbsp;|<span class=\"hb\"><a target=\"_blank\" href=\"https://shebanq.ancient-data.org/hebrew/word?version=c&id=1MLKWTn\" title=\"show this lexeme in SHEBANQ\">מַלְכוּת</a></span>&nbsp;&nbsp;|<span class=\"hb\"><a target=\"_blank\" href=\"https://shebanq.ancient-data.org/hebrew/word?version=c&id=1ZRWOn\" title=\"show this lexeme in SHEBANQ\">זְרֹועַ</a></span>&nbsp;&nbsp;|<span class=\"hb\"><a target=\"_blank\" href=\"https://shebanq.ancient-data.org/hebrew/word?version=c&id=1KRWBn\" title=\"show this lexeme in SHEBANQ\">כְּרוּב</a></span>&nbsp;&nbsp;|<span class=\"hb\"><a target=\"_blank\" href=\"https://shebanq.ancient-data.org/hebrew/word?version=c&id=1OBRn\" title=\"show this lexeme in SHEBANQ\">עֵבֶר</a></span>&nbsp;&nbsp;|<span class=\"hb\"><a target=\"_blank\" href=\"https://shebanq.ancient-data.org/hebrew/word?version=c&id=1JLDn\" title=\"show this lexeme in SHEBANQ\">יֶלֶד</a></span>&nbsp;&nbsp;|<span class=\"hb\"><a target=\"_blank\" href=\"https://shebanq.ancient-data.org/hebrew/word?version=c&id=1CQLn\" title=\"show this lexeme in SHEBANQ\">שֶׁקֶל</a></span>&nbsp;&nbsp;|<span class=\"hb\"><a target=\"_blank\" href=\"https://shebanq.ancient-data.org/hebrew/word?version=c&id=1CLMn\" title=\"show this lexeme in SHEBANQ\">שֶׁלֶם</a></span>&nbsp;&nbsp;|<span class=\"hb\"><a target=\"_blank\" href=\"https://shebanq.ancient-data.org/hebrew/word?version=c&id=1DLTn\" title=\"show this lexeme in SHEBANQ\">דֶּלֶת</a></span>&nbsp;&nbsp;|<span class=\"hb\"><a target=\"_blank\" href=\"https://shebanq.ancient-data.org/hebrew/word?version=c&id=1QDMn\" title=\"show this lexeme in SHEBANQ\">קֶדֶם</a></span>&nbsp;&nbsp;|<span class=\"hb\"><a target=\"_blank\" href=\"https://shebanq.ancient-data.org/hebrew/word?version=c&id=1OYHn\" title=\"show this lexeme in SHEBANQ\">עֵצָה</a></span>&nbsp;&nbsp;|<span class=\"hb\"><a target=\"_blank\" href=\"https://shebanq.ancient-data.org/hebrew/word?version=c&id=1ONNn\" title=\"show this lexeme in SHEBANQ\">עָנָן</a></span>&nbsp;&nbsp;|<span class=\"hb\"><a target=\"_blank\" href=\"https://shebanq.ancient-data.org/hebrew/word?version=c&id=1PAHn\" title=\"show this lexeme in SHEBANQ\">פֵּאָה</a></span>&nbsp;&nbsp;|<span class=\"hb\"><a target=\"_blank\" href=\"https://shebanq.ancient-data.org/hebrew/word?version=c&id=1HMWNn\" title=\"show this lexeme in SHEBANQ\">הָמֹון</a></span>&nbsp;&nbsp;|<span class=\"hb\"><a target=\"_blank\" href=\"https://shebanq.ancient-data.org/hebrew/word?version=c&id=1ODWTn\" title=\"show this lexeme in SHEBANQ\">עֵדוּת</a></span>&nbsp;&nbsp;|<span class=\"hb\"><a target=\"_blank\" href=\"https://shebanq.ancient-data.org/hebrew/word?version=c&id=1HJKLn\" title=\"show this lexeme in SHEBANQ\">הֵיכָל</a></span>"
      ],
      "text/plain": [
       "<IPython.core.display.HTML object>"
      ]
     },
     "metadata": {},
     "output_type": "display_data"
    },
    {
     "name": "stdout",
     "output_type": "stream",
     "text": [
      "\n",
      "73991 nouns ready for searches\n"
     ]
    }
   ],
   "source": [
    "target_nouns = nnodes_ordered[:200]\n",
    "tnoun_instances = set(word for lex in target_nouns for word in L.d(lex, 'word'))\n",
    "\n",
    "show_word_list(target_nouns) # temporary comment out while bug is fixed\n",
    "print(f'\\n{len(tnoun_instances)} nouns ready for searches')"
   ]
  },
  {
   "cell_type": "markdown",
   "metadata": {},
   "source": [
    "## Strategy for Context Selection\n",
    "\n",
    "See [pyscripts/contextparameters.py](pyscripts/contextparameters.py) for the full delineation of these patterns and to see how they've been selected and tokenized. **This is a work in progress.**\n",
    "\n",
    "* phrase-type relations\n",
    "    * PP and their objcs\n",
    "\n",
    "* subphrase relations\n",
    "    * parallel (`par`) — syndetic connections\n",
    "    * regens/rectum (`rec`) — nomen regens/rectum relations\n",
    "    * adjunct (`adj`)\n",
    "    * attribute (`atr`)\n",
    "    \n",
    "\n",
    "* phrase_atom relations\n",
    "    * apposition (`appo`) — re-identification relations\n",
    "    * parallel and link, what is the difference here?\n",
    "    * specification, what is it?\n",
    "    \n",
    "    \n",
    "* clause-constituent relations\n",
    "    * \"is a\" relations with היה (subjects || predicate complements)\n",
    "    * all other predicate / function roles — FRAMES"
   ]
  },
  {
   "cell_type": "code",
   "execution_count": 10,
   "metadata": {},
   "outputs": [],
   "source": [
    "contexts = deliver_params(tnoun_instances, tf=api)"
   ]
  },
  {
   "cell_type": "code",
   "execution_count": 11,
   "metadata": {},
   "outputs": [
    {
     "name": "stdout",
     "output_type": "stream",
     "text": [
      "The following contextual relations will be queried (. without lex = target noun; -> = relation):\n",
      "1. funct.-> st.verb.lex\n",
      "2. funct.prep-> st.verb.lex\n",
      "3. PreC.lex-> Subj.\n",
      "4. PreC.prep.lex-> Subj.\n",
      "5. PreC.-> Subj.lex\n",
      "6. PreC.-> Subj.prep.lex\n",
      "7. par.lex-> .\n",
      "8. par.-> lex\n",
      "9. atr.lex -> .\n",
      "10. rec.lex -> .\n",
      "11. rec.-> lex\n",
      "12. Para.lex-> .\n",
      "13. Para.-> lex\n",
      "14. Appo.lex-> .\n",
      "15. Appo.-> lex\n"
     ]
    }
   ],
   "source": [
    "print('The following contextual relations will be queried (. without lex = target noun; -> = relation):')\n",
    "for i, param in enumerate(contexts):\n",
    "    name = param['name']\n",
    "    print(f'{i+1}. {name}')"
   ]
  },
  {
   "cell_type": "code",
   "execution_count": 12,
   "metadata": {},
   "outputs": [
    {
     "name": "stdout",
     "output_type": "stream",
     "text": [
      "running query on template [ funct.-> st.verb.lex ]...\n",
      "\t19276 results found.\n",
      "running query on template [ funct.prep-> st.verb.lex ]...\n",
      "\t14935 results found.\n",
      "running query on template [ PreC.lex-> Subj. ]...\n",
      "\t2559 results found.\n",
      "running query on template [ PreC.prep.lex-> Subj. ]...\n",
      "\t1125 results found.\n",
      "running query on template [ PreC.-> Subj.lex ]...\n",
      "\t964 results found.\n",
      "running query on template [ PreC.-> Subj.prep.lex ]...\n",
      "\t4 results found.\n",
      "running query on template [ par.lex-> . ]...\n",
      "\t2121 results found.\n",
      "running query on template [ par.-> lex ]...\n",
      "\t2037 results found.\n",
      "running query on template [ atr.lex -> . ]...\n",
      "\t1507 results found.\n",
      "running query on template [ rec.lex -> . ]...\n",
      "\t1435 results found.\n",
      "running query on template [ rec.-> lex ]...\n",
      "\t1692 results found.\n",
      "running query on template [ Para.lex-> . ]...\n",
      "\t669 results found.\n",
      "running query on template [ Para.-> lex ]...\n",
      "\t596 results found.\n",
      "running query on template [ Appo.lex-> . ]...\n",
      "\t1410 results found.\n",
      "running query on template [ Appo.-> lex ]...\n",
      "\t3644 results found.\n",
      "<><> Tests Done with 53974 results <><>\n"
     ]
    }
   ],
   "source": [
    "counts = ContextCounter(contexts, tf=api, report=True)"
   ]
  },
  {
   "cell_type": "markdown",
   "metadata": {},
   "source": [
    "Below we look at the number of dimensions in the data:"
   ]
  },
  {
   "cell_type": "code",
   "execution_count": 13,
   "metadata": {},
   "outputs": [
    {
     "data": {
      "text/plain": [
       "(12202, 199)"
      ]
     },
     "execution_count": 13,
     "metadata": {},
     "output_type": "execute_result"
    }
   ],
   "source": [
    "counts.data.shape"
   ]
  },
  {
   "cell_type": "markdown",
   "metadata": {},
   "source": [
    "And a sample of the data is below:"
   ]
  },
  {
   "cell_type": "code",
   "execution_count": 14,
   "metadata": {},
   "outputs": [
    {
     "data": {
      "text/html": [
       "<div>\n",
       "<style scoped>\n",
       "    .dataframe tbody tr th:only-of-type {\n",
       "        vertical-align: middle;\n",
       "    }\n",
       "\n",
       "    .dataframe tbody tr th {\n",
       "        vertical-align: top;\n",
       "    }\n",
       "\n",
       "    .dataframe thead th {\n",
       "        text-align: right;\n",
       "    }\n",
       "</style>\n",
       "<table border=\"1\" class=\"dataframe\">\n",
       "  <thead>\n",
       "    <tr style=\"text-align: right;\">\n",
       "      <th></th>\n",
       "      <th>&gt;LHJM/</th>\n",
       "      <th>&gt;RY/</th>\n",
       "      <th>&gt;WR/</th>\n",
       "      <th>JWM/</th>\n",
       "      <th>LJLH/</th>\n",
       "      <th>CMJM/</th>\n",
       "      <th>MJM/</th>\n",
       "      <th>JM/</th>\n",
       "      <th>&lt;Y/</th>\n",
       "      <th>NPC/</th>\n",
       "      <th>...</th>\n",
       "      <th>MMLKH/</th>\n",
       "      <th>D&lt;T/</th>\n",
       "      <th>&lt;WLM/</th>\n",
       "      <th>TWK/</th>\n",
       "      <th>FMXH/</th>\n",
       "      <th>HJKL/</th>\n",
       "      <th>&lt;T/</th>\n",
       "      <th>RXB=/</th>\n",
       "      <th>&gt;RK=/</th>\n",
       "      <th>RB=/</th>\n",
       "    </tr>\n",
       "  </thead>\n",
       "  <tbody>\n",
       "    <tr>\n",
       "      <th>Adju.-&gt; hif.&lt;LH[</th>\n",
       "      <td>0.0</td>\n",
       "      <td>0.0</td>\n",
       "      <td>0.0</td>\n",
       "      <td>0.0</td>\n",
       "      <td>0.0</td>\n",
       "      <td>0.0</td>\n",
       "      <td>0.0</td>\n",
       "      <td>0.0</td>\n",
       "      <td>0.0</td>\n",
       "      <td>0.0</td>\n",
       "      <td>...</td>\n",
       "      <td>0.0</td>\n",
       "      <td>0.0</td>\n",
       "      <td>0.0</td>\n",
       "      <td>0.0</td>\n",
       "      <td>0.0</td>\n",
       "      <td>0.0</td>\n",
       "      <td>0.0</td>\n",
       "      <td>0.0</td>\n",
       "      <td>0.0</td>\n",
       "      <td>0.0</td>\n",
       "    </tr>\n",
       "    <tr>\n",
       "      <th>Adju.-&gt; hif.&lt;TR[</th>\n",
       "      <td>0.0</td>\n",
       "      <td>0.0</td>\n",
       "      <td>0.0</td>\n",
       "      <td>0.0</td>\n",
       "      <td>0.0</td>\n",
       "      <td>0.0</td>\n",
       "      <td>0.0</td>\n",
       "      <td>0.0</td>\n",
       "      <td>0.0</td>\n",
       "      <td>0.0</td>\n",
       "      <td>...</td>\n",
       "      <td>0.0</td>\n",
       "      <td>0.0</td>\n",
       "      <td>0.0</td>\n",
       "      <td>0.0</td>\n",
       "      <td>0.0</td>\n",
       "      <td>0.0</td>\n",
       "      <td>0.0</td>\n",
       "      <td>0.0</td>\n",
       "      <td>0.0</td>\n",
       "      <td>0.0</td>\n",
       "    </tr>\n",
       "    <tr>\n",
       "      <th>Adju.-&gt; hif.BW&gt;[</th>\n",
       "      <td>0.0</td>\n",
       "      <td>0.0</td>\n",
       "      <td>0.0</td>\n",
       "      <td>0.0</td>\n",
       "      <td>0.0</td>\n",
       "      <td>0.0</td>\n",
       "      <td>0.0</td>\n",
       "      <td>0.0</td>\n",
       "      <td>0.0</td>\n",
       "      <td>0.0</td>\n",
       "      <td>...</td>\n",
       "      <td>0.0</td>\n",
       "      <td>0.0</td>\n",
       "      <td>0.0</td>\n",
       "      <td>0.0</td>\n",
       "      <td>0.0</td>\n",
       "      <td>0.0</td>\n",
       "      <td>0.0</td>\n",
       "      <td>0.0</td>\n",
       "      <td>0.0</td>\n",
       "      <td>0.0</td>\n",
       "    </tr>\n",
       "    <tr>\n",
       "      <th>Adju.-&gt; hif.CLK[</th>\n",
       "      <td>0.0</td>\n",
       "      <td>0.0</td>\n",
       "      <td>0.0</td>\n",
       "      <td>0.0</td>\n",
       "      <td>0.0</td>\n",
       "      <td>0.0</td>\n",
       "      <td>0.0</td>\n",
       "      <td>0.0</td>\n",
       "      <td>0.0</td>\n",
       "      <td>0.0</td>\n",
       "      <td>...</td>\n",
       "      <td>0.0</td>\n",
       "      <td>0.0</td>\n",
       "      <td>0.0</td>\n",
       "      <td>0.0</td>\n",
       "      <td>0.0</td>\n",
       "      <td>0.0</td>\n",
       "      <td>0.0</td>\n",
       "      <td>0.0</td>\n",
       "      <td>0.0</td>\n",
       "      <td>0.0</td>\n",
       "    </tr>\n",
       "    <tr>\n",
       "      <th>Adju.-&gt; hif.JBL[</th>\n",
       "      <td>0.0</td>\n",
       "      <td>0.0</td>\n",
       "      <td>0.0</td>\n",
       "      <td>0.0</td>\n",
       "      <td>0.0</td>\n",
       "      <td>0.0</td>\n",
       "      <td>0.0</td>\n",
       "      <td>0.0</td>\n",
       "      <td>0.0</td>\n",
       "      <td>0.0</td>\n",
       "      <td>...</td>\n",
       "      <td>0.0</td>\n",
       "      <td>0.0</td>\n",
       "      <td>0.0</td>\n",
       "      <td>0.0</td>\n",
       "      <td>0.0</td>\n",
       "      <td>0.0</td>\n",
       "      <td>0.0</td>\n",
       "      <td>0.0</td>\n",
       "      <td>0.0</td>\n",
       "      <td>0.0</td>\n",
       "    </tr>\n",
       "  </tbody>\n",
       "</table>\n",
       "<p>5 rows × 199 columns</p>\n",
       "</div>"
      ],
      "text/plain": [
       "                  >LHJM/  >RY/  >WR/  JWM/  LJLH/  CMJM/  MJM/  JM/  <Y/  \\\n",
       "Adju.-> hif.<LH[     0.0   0.0   0.0   0.0    0.0    0.0   0.0  0.0  0.0   \n",
       "Adju.-> hif.<TR[     0.0   0.0   0.0   0.0    0.0    0.0   0.0  0.0  0.0   \n",
       "Adju.-> hif.BW>[     0.0   0.0   0.0   0.0    0.0    0.0   0.0  0.0  0.0   \n",
       "Adju.-> hif.CLK[     0.0   0.0   0.0   0.0    0.0    0.0   0.0  0.0  0.0   \n",
       "Adju.-> hif.JBL[     0.0   0.0   0.0   0.0    0.0    0.0   0.0  0.0  0.0   \n",
       "\n",
       "                  NPC/  ...   MMLKH/  D<T/  <WLM/  TWK/  FMXH/  HJKL/  <T/  \\\n",
       "Adju.-> hif.<LH[   0.0  ...      0.0   0.0    0.0   0.0    0.0    0.0  0.0   \n",
       "Adju.-> hif.<TR[   0.0  ...      0.0   0.0    0.0   0.0    0.0    0.0  0.0   \n",
       "Adju.-> hif.BW>[   0.0  ...      0.0   0.0    0.0   0.0    0.0    0.0  0.0   \n",
       "Adju.-> hif.CLK[   0.0  ...      0.0   0.0    0.0   0.0    0.0    0.0  0.0   \n",
       "Adju.-> hif.JBL[   0.0  ...      0.0   0.0    0.0   0.0    0.0    0.0  0.0   \n",
       "\n",
       "                  RXB=/  >RK=/  RB=/  \n",
       "Adju.-> hif.<LH[    0.0    0.0   0.0  \n",
       "Adju.-> hif.<TR[    0.0    0.0   0.0  \n",
       "Adju.-> hif.BW>[    0.0    0.0   0.0  \n",
       "Adju.-> hif.CLK[    0.0    0.0   0.0  \n",
       "Adju.-> hif.JBL[    0.0    0.0   0.0  \n",
       "\n",
       "[5 rows x 199 columns]"
      ]
     },
     "execution_count": 14,
     "metadata": {},
     "output_type": "execute_result"
    }
   ],
   "source": [
    "counts.data.head()"
   ]
  },
  {
   "cell_type": "markdown",
   "metadata": {},
   "source": [
    "We can see that one of the original target lexemes have been omitted because they fell below the 10 observation threshold. Let's see which ones they are."
   ]
  },
  {
   "cell_type": "code",
   "execution_count": 15,
   "metadata": {},
   "outputs": [
    {
     "data": {
      "text/plain": [
       "{'N>M/'}"
      ]
     },
     "execution_count": 15,
     "metadata": {},
     "output_type": "execute_result"
    }
   ],
   "source": [
    "set(F.lex.v(w) for w in tnoun_instances) - set(F.lex.v(counts.target2node[token]) for token in counts.data.columns)"
   ]
  },
  {
   "cell_type": "markdown",
   "metadata": {},
   "source": [
    "The noun נאֻם is omitted due to lack of relevant data. We thus continue with **199 target nouns.**\n",
    "\n",
    "Next we look at a few example counts:"
   ]
  },
  {
   "cell_type": "code",
   "execution_count": 16,
   "metadata": {},
   "outputs": [
    {
     "data": {
      "text/plain": [
       "Appo.-> JHWH/           730.0\n",
       "atr.>XR=/-> .            61.0\n",
       "Subj.-> qal.>MR[         50.0\n",
       "Subj.-> qal.NTN[         32.0\n",
       "Objc.-> qal.<BD[         29.0\n",
       "Subj.-> qal.<FH[         23.0\n",
       "Appo.>LHJM/-> .          18.0\n",
       "Appo.-> >LHJM/           18.0\n",
       "Cmpl.>XR/-> qal.HLK[     15.0\n",
       "Subj.-> qal.R>H[         13.0\n",
       "Objc.-> qal.JR>[         13.0\n",
       "Subj.-> piel.DBR[        12.0\n",
       "PreC.B-> Subj.           11.0\n",
       "PreC.-> Subj.JHWH/       11.0\n",
       "Subj.-> qal.CM<[         10.0\n",
       "Subj.-> piel.BRK[         9.0\n",
       "Objc.-> qal.<FH[          9.0\n",
       "Subj.-> qal.BW>[          8.0\n",
       "Appo.-> PNH/              8.0\n",
       "Cmpl.>L-> qal.>MR[        8.0\n",
       "Subj.-> hif.NYL[          8.0\n",
       "Subj.-> piel.YWH[         7.0\n",
       "Objc.-> qal.DRC[          7.0\n",
       "Cmpl.L-> piel.QVR[        7.0\n",
       "Cmpl.B-> qal.C>L[         7.0\n",
       "Subj.-> qal.CLX[          7.0\n",
       "Objc.-> piel.BRK[         7.0\n",
       "Subj.-> qal.BR>[          6.0\n",
       "Cmpl.L-> qal.ZBX[         6.0\n",
       "Objc.-> qal.R>H[          6.0\n",
       "                        ...  \n",
       "Subj.-> hif.NKH[          1.0\n",
       "Subj.-> hif.NWX[          1.0\n",
       "Subj.-> hif.PRH[          1.0\n",
       "Subj.-> hif.PRR[          1.0\n",
       "Subj.-> hif.PTH=[         1.0\n",
       "Subj.-> hif.QWM[          1.0\n",
       "Subj.-> hif.RC<[          1.0\n",
       "Subj.-> hif.SBB[          1.0\n",
       "Subj.-> hif.SWT[          1.0\n",
       "Subj.-> hif.T<H[          1.0\n",
       "Subj.-> hif.YLX[          1.0\n",
       "Subj.-> hif.JRH=[         1.0\n",
       "Subj.-> hif.JP<[          1.0\n",
       "Subj.-> hif.JD<[          1.0\n",
       "PreC.VWB/-> Subj.         1.0\n",
       "PreC.MCL[-> Subj.         1.0\n",
       "PreC.MHR[-> Subj.         1.0\n",
       "PreC.MSPR/-> Subj.        1.0\n",
       "PreC.NTN[-> Subj.         1.0\n",
       "PreC.NYB[-> Subj.         1.0\n",
       "PreC.RXM[-> Subj.         1.0\n",
       "PreC.XLQ/-> Subj.         1.0\n",
       "Subj.-> hif.JC<[          1.0\n",
       "Subj.-> hif.<BR[          1.0\n",
       "Subj.-> hif.>WR[          1.0\n",
       "Subj.-> hif.BJN[          1.0\n",
       "Subj.-> hif.CLV[          1.0\n",
       "Subj.-> hif.CMD[          1.0\n",
       "Subj.-> hif.CQP[          1.0\n",
       "Adju.<M-> qal.<FH[        1.0\n",
       "Name: >LHJM/, Length: 390, dtype: float64"
      ]
     },
     "execution_count": 16,
     "metadata": {},
     "output_type": "execute_result"
    }
   ],
   "source": [
    "counts.data['>LHJM/'][counts.data['>LHJM/'] > 0].sort_values(ascending=False)"
   ]
  },
  {
   "cell_type": "markdown",
   "metadata": {},
   "source": [
    "This gives a good idea of the content of the co-occurrence counts."
   ]
  },
  {
   "cell_type": "markdown",
   "metadata": {},
   "source": [
    "## Count Adjustments\n",
    "\n",
    "We will apply two primary adjustments:\n",
    "\n",
    "1. We drop co-occurrences that are unique to a noun. The dropped observations will thus be considered outliers. While these items are useful for describing the uniqueness of a given lexeme, they are unhelpful for drawing comparisons between our sets. \n",
    "2. We convert the counts into a measure of statistical significance. For this we use Fisher's exact test, which is ideal for datasets that have counts that are less than 5. Our matrix is likely to have many such counts. "
   ]
  },
  {
   "cell_type": "markdown",
   "metadata": {},
   "source": [
    "### Remove Unique Co-occurrences\n",
    "\n",
    "We select colexemes/basis counts that only occur with one target noun. This is done by subtracting the row total from each item in the row. Any 0 value in a row means that that row has a unique colexeme that only occurs with one target noun (we will call that a `hapax_colex` here). We will remove these rows further down."
   ]
  },
  {
   "cell_type": "code",
   "execution_count": 17,
   "metadata": {},
   "outputs": [],
   "source": [
    "colex_counts = counts.data.sum(1)\n",
    "remaining_counts = counts.data.sub(colex_counts, axis=0) # subtract colex_counts\n",
    "hapax_colex = remaining_counts[(remaining_counts == 0).any(1)] # select rows that have a 0 value anywhere"
   ]
  },
  {
   "cell_type": "markdown",
   "metadata": {},
   "source": [
    "Below is an example just to make sure we've selected the right indices. The value has been manually chosen from `hapax_colex`."
   ]
  },
  {
   "cell_type": "code",
   "execution_count": 18,
   "metadata": {},
   "outputs": [
    {
     "data": {
      "text/plain": [
       "QWL/     8.0\n",
       "RB=/     0.0\n",
       "JJN/     0.0\n",
       ">B/      0.0\n",
       "ML>K/    0.0\n",
       "Name: rec.XTN/-> ., dtype: float64"
      ]
     },
     "execution_count": 18,
     "metadata": {},
     "output_type": "execute_result"
    }
   ],
   "source": [
    "counts.data.loc['rec.XTN/-> .'].sort_values(ascending=False).head()"
   ]
  },
  {
   "cell_type": "markdown",
   "metadata": {},
   "source": [
    "Below we see that `8191` colexemes only occur with one given noun. This is a significant amount. We drop these rows in the next cell and name our dataset `data`."
   ]
  },
  {
   "cell_type": "code",
   "execution_count": 19,
   "metadata": {},
   "outputs": [
    {
     "data": {
      "text/plain": [
       "(8191, 199)"
      ]
     },
     "execution_count": 19,
     "metadata": {},
     "output_type": "execute_result"
    }
   ],
   "source": [
    "hapax_colex.shape"
   ]
  },
  {
   "cell_type": "code",
   "execution_count": 20,
   "metadata": {},
   "outputs": [
    {
     "name": "stdout",
     "output_type": "stream",
     "text": [
      "New data dimensions: (4011, 199)\n",
      "New total observations: 42097.0\n",
      "Observations removed: 11870.0\n"
     ]
    }
   ],
   "source": [
    "data = counts.data.drop(labels=hapax_colex.index, axis=0)\n",
    "\n",
    "print(f'New data dimensions: {data.shape}')\n",
    "print(f'New total observations: {data.sum().sum()}')\n",
    "print(f'Observations removed: {counts.data.sum().sum() - data.sum().sum()}')"
   ]
  },
  {
   "cell_type": "markdown",
   "metadata": {},
   "source": [
    "Random example to make sure there are no unique colexemes in the new dataset:"
   ]
  },
  {
   "cell_type": "code",
   "execution_count": 21,
   "metadata": {},
   "outputs": [
    {
     "data": {
      "text/plain": [
       "KLJ/     1.0\n",
       "ZHB/     1.0\n",
       ">JL=/    1.0\n",
       "KSP/     1.0\n",
       "RB=/     0.0\n",
       "Name: Adju.-> hif.BW>[, dtype: float64"
      ]
     },
     "execution_count": 21,
     "metadata": {},
     "output_type": "execute_result"
    }
   ],
   "source": [
    "data.loc['Adju.-> hif.BW>['].sort_values(ascending=False).head(5)"
   ]
  },
  {
   "cell_type": "markdown",
   "metadata": {},
   "source": [
    "#### Check for Orphaned Target Nouns\n",
    "\n",
    "There is one additional test. We want to see if any target nouns in the dataset have been orphaned by these changes: i.e. do any target nouns have zero co-occurrence data after the changes?"
   ]
  },
  {
   "cell_type": "code",
   "execution_count": 22,
   "metadata": {},
   "outputs": [
    {
     "data": {
      "text/plain": [
       "(4011, 0)"
      ]
     },
     "execution_count": 22,
     "metadata": {},
     "output_type": "execute_result"
    }
   ],
   "source": [
    "data.loc[:, (data == 0).all(0)].shape"
   ]
  },
  {
   "cell_type": "markdown",
   "metadata": {},
   "source": [
    "There are no columns (i.e. target nouns) with 0 observations, and hence no orphans. Thus we move ahead with the count adjustments."
   ]
  },
  {
   "cell_type": "markdown",
   "metadata": {},
   "source": [
    "### Apply Fisher's Exact Test\n",
    "\n",
    "Now we apply the Fisher's exact test to the data set. This involves supplying values to a 2x2 contingency table that is fed to `scipy.stats.fisher_exact`"
   ]
  },
  {
   "cell_type": "code",
   "execution_count": 69,
   "metadata": {},
   "outputs": [
    {
     "name": "stdout",
     "output_type": "stream",
     "text": [
      "finished iteration 100000...\n",
      "finished iteration 200000...\n",
      "finished iteration 300000...\n",
      "finished iteration 400000...\n",
      "finished iteration 500000...\n",
      "finished iteration 600000...\n",
      "finished iteration 700000...\n",
      "done!\n"
     ]
    }
   ],
   "source": [
    "# data for contingency tables\n",
    "target_obs = data.apply(lambda col: col.sum(), axis=0, result_type='broadcast') # total target lexeme observations\n",
    "colex_obs = data.apply(lambda col: col.sum(), axis=1, result_type='broadcast') # total colexeme/basis observations\n",
    "total_obs = data.sum().sum() # total observations\n",
    "\n",
    "# parts of contingency formula; a=data\n",
    "b_matrix = target_obs.sub(data)\n",
    "c_matrix = colex_obs.sub(data)\n",
    "d_matrix = pd.DataFrame.copy(data, deep=True)\n",
    "d_matrix[:] = total_obs\n",
    "d_matrix = d_matrix.sub(data+b+c)\n",
    "\n",
    "fisher_transformed = collections.defaultdict(lambda: collections.defaultdict(float))\n",
    "\n",
    "i = 0\n",
    "for lex in data.columns:\n",
    "    for colex in data.index:\n",
    "        a = data[lex][colex]\n",
    "        b = b_matrix[lex][colex]\n",
    "        c = c_matrix[lex][colex]\n",
    "        d = d_matrix[lex][colex]\n",
    "        contingency = np.matrix([[a, b], [c, d]])\n",
    "        oddsratio, pvalue = stats.fisher_exact(contingency)\n",
    "        fisher_transformed[lex][colex] = pvalue\n",
    "        i += 1\n",
    "        if i % 100000 == 0: # update every 100,000 iterations; should be 798,189 total (4011x199)\n",
    "            print(f'finished iteration {i}...')\n",
    "print('done!')\n",
    "\n",
    "#fisherdata = pd.DataFrame(fisher_transformed)"
   ]
  },
  {
   "cell_type": "code",
   "execution_count": 71,
   "metadata": {},
   "outputs": [],
   "source": [
    "fisherdata = pd.DataFrame(fisher_transformed)"
   ]
  },
  {
   "cell_type": "code",
   "execution_count": 72,
   "metadata": {},
   "outputs": [
    {
     "data": {
      "text/html": [
       "<div>\n",
       "<style scoped>\n",
       "    .dataframe tbody tr th:only-of-type {\n",
       "        vertical-align: middle;\n",
       "    }\n",
       "\n",
       "    .dataframe tbody tr th {\n",
       "        vertical-align: top;\n",
       "    }\n",
       "\n",
       "    .dataframe thead th {\n",
       "        text-align: right;\n",
       "    }\n",
       "</style>\n",
       "<table border=\"1\" class=\"dataframe\">\n",
       "  <thead>\n",
       "    <tr style=\"text-align: right;\">\n",
       "      <th></th>\n",
       "      <th>&gt;LHJM/</th>\n",
       "      <th>&gt;RY/</th>\n",
       "      <th>&gt;WR/</th>\n",
       "      <th>JWM/</th>\n",
       "      <th>LJLH/</th>\n",
       "      <th>CMJM/</th>\n",
       "      <th>MJM/</th>\n",
       "      <th>JM/</th>\n",
       "      <th>&lt;Y/</th>\n",
       "      <th>NPC/</th>\n",
       "      <th>...</th>\n",
       "      <th>MMLKH/</th>\n",
       "      <th>D&lt;T/</th>\n",
       "      <th>&lt;WLM/</th>\n",
       "      <th>TWK/</th>\n",
       "      <th>FMXH/</th>\n",
       "      <th>HJKL/</th>\n",
       "      <th>&lt;T/</th>\n",
       "      <th>RXB=/</th>\n",
       "      <th>&gt;RK=/</th>\n",
       "      <th>RB=/</th>\n",
       "    </tr>\n",
       "  </thead>\n",
       "  <tbody>\n",
       "    <tr>\n",
       "      <th>Adju.-&gt; hif.BW&gt;[</th>\n",
       "      <td>1.000000</td>\n",
       "      <td>1.000000</td>\n",
       "      <td>1.000000</td>\n",
       "      <td>1.000000e+00</td>\n",
       "      <td>1.0</td>\n",
       "      <td>1.0</td>\n",
       "      <td>1.0</td>\n",
       "      <td>1.0</td>\n",
       "      <td>1.000000</td>\n",
       "      <td>1.000000</td>\n",
       "      <td>...</td>\n",
       "      <td>1.0</td>\n",
       "      <td>1.0</td>\n",
       "      <td>1.0</td>\n",
       "      <td>1.0</td>\n",
       "      <td>1.0</td>\n",
       "      <td>1.0</td>\n",
       "      <td>1.000000</td>\n",
       "      <td>1.0</td>\n",
       "      <td>1.0</td>\n",
       "      <td>1.000000</td>\n",
       "    </tr>\n",
       "    <tr>\n",
       "      <th>Adju.-&gt; hif.NKH[</th>\n",
       "      <td>1.000000</td>\n",
       "      <td>1.000000</td>\n",
       "      <td>1.000000</td>\n",
       "      <td>1.000000e+00</td>\n",
       "      <td>1.0</td>\n",
       "      <td>1.0</td>\n",
       "      <td>1.0</td>\n",
       "      <td>1.0</td>\n",
       "      <td>1.000000</td>\n",
       "      <td>1.000000</td>\n",
       "      <td>...</td>\n",
       "      <td>1.0</td>\n",
       "      <td>1.0</td>\n",
       "      <td>1.0</td>\n",
       "      <td>1.0</td>\n",
       "      <td>1.0</td>\n",
       "      <td>1.0</td>\n",
       "      <td>1.000000</td>\n",
       "      <td>1.0</td>\n",
       "      <td>1.0</td>\n",
       "      <td>1.000000</td>\n",
       "    </tr>\n",
       "    <tr>\n",
       "      <th>Adju.-&gt; nif.&gt;SP[</th>\n",
       "      <td>1.000000</td>\n",
       "      <td>1.000000</td>\n",
       "      <td>1.000000</td>\n",
       "      <td>1.000000e+00</td>\n",
       "      <td>1.0</td>\n",
       "      <td>1.0</td>\n",
       "      <td>1.0</td>\n",
       "      <td>1.0</td>\n",
       "      <td>1.000000</td>\n",
       "      <td>1.000000</td>\n",
       "      <td>...</td>\n",
       "      <td>1.0</td>\n",
       "      <td>1.0</td>\n",
       "      <td>1.0</td>\n",
       "      <td>1.0</td>\n",
       "      <td>1.0</td>\n",
       "      <td>1.0</td>\n",
       "      <td>1.000000</td>\n",
       "      <td>1.0</td>\n",
       "      <td>1.0</td>\n",
       "      <td>1.000000</td>\n",
       "    </tr>\n",
       "    <tr>\n",
       "      <th>Adju.-&gt; nif.CMM[</th>\n",
       "      <td>1.000000</td>\n",
       "      <td>1.000000</td>\n",
       "      <td>1.000000</td>\n",
       "      <td>1.000000e+00</td>\n",
       "      <td>1.0</td>\n",
       "      <td>1.0</td>\n",
       "      <td>1.0</td>\n",
       "      <td>1.0</td>\n",
       "      <td>1.000000</td>\n",
       "      <td>1.000000</td>\n",
       "      <td>...</td>\n",
       "      <td>1.0</td>\n",
       "      <td>1.0</td>\n",
       "      <td>1.0</td>\n",
       "      <td>1.0</td>\n",
       "      <td>1.0</td>\n",
       "      <td>1.0</td>\n",
       "      <td>1.000000</td>\n",
       "      <td>1.0</td>\n",
       "      <td>1.0</td>\n",
       "      <td>1.000000</td>\n",
       "    </tr>\n",
       "    <tr>\n",
       "      <th>Adju.-&gt; piel.DBR[</th>\n",
       "      <td>1.000000</td>\n",
       "      <td>1.000000</td>\n",
       "      <td>1.000000</td>\n",
       "      <td>1.000000e+00</td>\n",
       "      <td>1.0</td>\n",
       "      <td>1.0</td>\n",
       "      <td>1.0</td>\n",
       "      <td>1.0</td>\n",
       "      <td>1.000000</td>\n",
       "      <td>1.000000</td>\n",
       "      <td>...</td>\n",
       "      <td>1.0</td>\n",
       "      <td>1.0</td>\n",
       "      <td>1.0</td>\n",
       "      <td>1.0</td>\n",
       "      <td>1.0</td>\n",
       "      <td>1.0</td>\n",
       "      <td>1.000000</td>\n",
       "      <td>1.0</td>\n",
       "      <td>1.0</td>\n",
       "      <td>1.000000</td>\n",
       "    </tr>\n",
       "    <tr>\n",
       "      <th>Adju.-&gt; qal.&lt;BD[</th>\n",
       "      <td>1.000000</td>\n",
       "      <td>1.000000</td>\n",
       "      <td>1.000000</td>\n",
       "      <td>1.000000e+00</td>\n",
       "      <td>1.0</td>\n",
       "      <td>1.0</td>\n",
       "      <td>1.0</td>\n",
       "      <td>1.0</td>\n",
       "      <td>0.022142</td>\n",
       "      <td>1.000000</td>\n",
       "      <td>...</td>\n",
       "      <td>1.0</td>\n",
       "      <td>1.0</td>\n",
       "      <td>1.0</td>\n",
       "      <td>1.0</td>\n",
       "      <td>1.0</td>\n",
       "      <td>1.0</td>\n",
       "      <td>1.000000</td>\n",
       "      <td>1.0</td>\n",
       "      <td>1.0</td>\n",
       "      <td>1.000000</td>\n",
       "    </tr>\n",
       "    <tr>\n",
       "      <th>Adju.-&gt; qal.&lt;FH[</th>\n",
       "      <td>1.000000</td>\n",
       "      <td>1.000000</td>\n",
       "      <td>1.000000</td>\n",
       "      <td>1.000000e+00</td>\n",
       "      <td>1.0</td>\n",
       "      <td>1.0</td>\n",
       "      <td>1.0</td>\n",
       "      <td>1.0</td>\n",
       "      <td>1.000000</td>\n",
       "      <td>1.000000</td>\n",
       "      <td>...</td>\n",
       "      <td>1.0</td>\n",
       "      <td>1.0</td>\n",
       "      <td>1.0</td>\n",
       "      <td>1.0</td>\n",
       "      <td>1.0</td>\n",
       "      <td>1.0</td>\n",
       "      <td>1.000000</td>\n",
       "      <td>1.0</td>\n",
       "      <td>1.0</td>\n",
       "      <td>1.000000</td>\n",
       "    </tr>\n",
       "    <tr>\n",
       "      <th>Adju.-&gt; qal.HLK[</th>\n",
       "      <td>1.000000</td>\n",
       "      <td>1.000000</td>\n",
       "      <td>1.000000</td>\n",
       "      <td>1.000000e+00</td>\n",
       "      <td>1.0</td>\n",
       "      <td>1.0</td>\n",
       "      <td>1.0</td>\n",
       "      <td>1.0</td>\n",
       "      <td>1.000000</td>\n",
       "      <td>1.000000</td>\n",
       "      <td>...</td>\n",
       "      <td>1.0</td>\n",
       "      <td>1.0</td>\n",
       "      <td>1.0</td>\n",
       "      <td>1.0</td>\n",
       "      <td>1.0</td>\n",
       "      <td>1.0</td>\n",
       "      <td>1.000000</td>\n",
       "      <td>1.0</td>\n",
       "      <td>1.0</td>\n",
       "      <td>1.000000</td>\n",
       "    </tr>\n",
       "    <tr>\n",
       "      <th>Adju.-&gt; qal.JCB[</th>\n",
       "      <td>1.000000</td>\n",
       "      <td>1.000000</td>\n",
       "      <td>1.000000</td>\n",
       "      <td>1.000000e+00</td>\n",
       "      <td>1.0</td>\n",
       "      <td>1.0</td>\n",
       "      <td>1.0</td>\n",
       "      <td>1.0</td>\n",
       "      <td>1.000000</td>\n",
       "      <td>1.000000</td>\n",
       "      <td>...</td>\n",
       "      <td>1.0</td>\n",
       "      <td>1.0</td>\n",
       "      <td>1.0</td>\n",
       "      <td>1.0</td>\n",
       "      <td>1.0</td>\n",
       "      <td>1.0</td>\n",
       "      <td>1.000000</td>\n",
       "      <td>1.0</td>\n",
       "      <td>1.0</td>\n",
       "      <td>1.000000</td>\n",
       "    </tr>\n",
       "    <tr>\n",
       "      <th>Adju.-&gt; qal.JLD[</th>\n",
       "      <td>1.000000</td>\n",
       "      <td>1.000000</td>\n",
       "      <td>1.000000</td>\n",
       "      <td>1.000000e+00</td>\n",
       "      <td>1.0</td>\n",
       "      <td>1.0</td>\n",
       "      <td>1.0</td>\n",
       "      <td>1.0</td>\n",
       "      <td>1.000000</td>\n",
       "      <td>0.030615</td>\n",
       "      <td>...</td>\n",
       "      <td>1.0</td>\n",
       "      <td>1.0</td>\n",
       "      <td>1.0</td>\n",
       "      <td>1.0</td>\n",
       "      <td>1.0</td>\n",
       "      <td>1.0</td>\n",
       "      <td>1.000000</td>\n",
       "      <td>1.0</td>\n",
       "      <td>1.0</td>\n",
       "      <td>1.000000</td>\n",
       "    </tr>\n",
       "    <tr>\n",
       "      <th>Adju.-&gt; qal.JY&gt;[</th>\n",
       "      <td>1.000000</td>\n",
       "      <td>1.000000</td>\n",
       "      <td>1.000000</td>\n",
       "      <td>1.000000e+00</td>\n",
       "      <td>1.0</td>\n",
       "      <td>1.0</td>\n",
       "      <td>1.0</td>\n",
       "      <td>1.0</td>\n",
       "      <td>1.000000</td>\n",
       "      <td>1.000000</td>\n",
       "      <td>...</td>\n",
       "      <td>1.0</td>\n",
       "      <td>1.0</td>\n",
       "      <td>1.0</td>\n",
       "      <td>1.0</td>\n",
       "      <td>1.0</td>\n",
       "      <td>1.0</td>\n",
       "      <td>1.000000</td>\n",
       "      <td>1.0</td>\n",
       "      <td>1.0</td>\n",
       "      <td>1.000000</td>\n",
       "    </tr>\n",
       "    <tr>\n",
       "      <th>Adju.-&gt; qal.LQX[</th>\n",
       "      <td>1.000000</td>\n",
       "      <td>1.000000</td>\n",
       "      <td>1.000000</td>\n",
       "      <td>1.000000e+00</td>\n",
       "      <td>1.0</td>\n",
       "      <td>1.0</td>\n",
       "      <td>1.0</td>\n",
       "      <td>1.0</td>\n",
       "      <td>1.000000</td>\n",
       "      <td>1.000000</td>\n",
       "      <td>...</td>\n",
       "      <td>1.0</td>\n",
       "      <td>1.0</td>\n",
       "      <td>1.0</td>\n",
       "      <td>1.0</td>\n",
       "      <td>1.0</td>\n",
       "      <td>1.0</td>\n",
       "      <td>1.000000</td>\n",
       "      <td>1.0</td>\n",
       "      <td>1.0</td>\n",
       "      <td>1.000000</td>\n",
       "    </tr>\n",
       "    <tr>\n",
       "      <th>Adju.-&gt; qal.MWT[</th>\n",
       "      <td>1.000000</td>\n",
       "      <td>1.000000</td>\n",
       "      <td>1.000000</td>\n",
       "      <td>1.000000e+00</td>\n",
       "      <td>1.0</td>\n",
       "      <td>1.0</td>\n",
       "      <td>1.0</td>\n",
       "      <td>1.0</td>\n",
       "      <td>1.000000</td>\n",
       "      <td>1.000000</td>\n",
       "      <td>...</td>\n",
       "      <td>1.0</td>\n",
       "      <td>1.0</td>\n",
       "      <td>1.0</td>\n",
       "      <td>1.0</td>\n",
       "      <td>1.0</td>\n",
       "      <td>1.0</td>\n",
       "      <td>1.000000</td>\n",
       "      <td>1.0</td>\n",
       "      <td>1.0</td>\n",
       "      <td>1.000000</td>\n",
       "    </tr>\n",
       "    <tr>\n",
       "      <th>Adju.-&gt; qal.QR&gt;[</th>\n",
       "      <td>1.000000</td>\n",
       "      <td>1.000000</td>\n",
       "      <td>1.000000</td>\n",
       "      <td>1.000000e+00</td>\n",
       "      <td>1.0</td>\n",
       "      <td>1.0</td>\n",
       "      <td>1.0</td>\n",
       "      <td>1.0</td>\n",
       "      <td>1.000000</td>\n",
       "      <td>1.000000</td>\n",
       "      <td>...</td>\n",
       "      <td>1.0</td>\n",
       "      <td>1.0</td>\n",
       "      <td>1.0</td>\n",
       "      <td>1.0</td>\n",
       "      <td>1.0</td>\n",
       "      <td>1.0</td>\n",
       "      <td>1.000000</td>\n",
       "      <td>1.0</td>\n",
       "      <td>1.0</td>\n",
       "      <td>1.000000</td>\n",
       "    </tr>\n",
       "    <tr>\n",
       "      <th>Adju.-&gt; qal.ZBX[</th>\n",
       "      <td>1.000000</td>\n",
       "      <td>1.000000</td>\n",
       "      <td>1.000000</td>\n",
       "      <td>1.000000e+00</td>\n",
       "      <td>1.0</td>\n",
       "      <td>1.0</td>\n",
       "      <td>1.0</td>\n",
       "      <td>1.0</td>\n",
       "      <td>1.000000</td>\n",
       "      <td>1.000000</td>\n",
       "      <td>...</td>\n",
       "      <td>1.0</td>\n",
       "      <td>1.0</td>\n",
       "      <td>1.0</td>\n",
       "      <td>1.0</td>\n",
       "      <td>1.0</td>\n",
       "      <td>1.0</td>\n",
       "      <td>1.000000</td>\n",
       "      <td>1.0</td>\n",
       "      <td>1.0</td>\n",
       "      <td>1.000000</td>\n",
       "    </tr>\n",
       "    <tr>\n",
       "      <th>Adju.&lt;D-&gt; hif.XZQ[</th>\n",
       "      <td>1.000000</td>\n",
       "      <td>1.000000</td>\n",
       "      <td>1.000000</td>\n",
       "      <td>1.000000e+00</td>\n",
       "      <td>1.0</td>\n",
       "      <td>1.0</td>\n",
       "      <td>1.0</td>\n",
       "      <td>1.0</td>\n",
       "      <td>1.000000</td>\n",
       "      <td>1.000000</td>\n",
       "      <td>...</td>\n",
       "      <td>1.0</td>\n",
       "      <td>1.0</td>\n",
       "      <td>1.0</td>\n",
       "      <td>1.0</td>\n",
       "      <td>1.0</td>\n",
       "      <td>1.0</td>\n",
       "      <td>1.000000</td>\n",
       "      <td>1.0</td>\n",
       "      <td>1.0</td>\n",
       "      <td>1.000000</td>\n",
       "    </tr>\n",
       "    <tr>\n",
       "      <th>Adju.&lt;L-&gt; hif.JDH[</th>\n",
       "      <td>1.000000</td>\n",
       "      <td>1.000000</td>\n",
       "      <td>1.000000</td>\n",
       "      <td>1.000000e+00</td>\n",
       "      <td>1.0</td>\n",
       "      <td>1.0</td>\n",
       "      <td>1.0</td>\n",
       "      <td>1.0</td>\n",
       "      <td>1.000000</td>\n",
       "      <td>1.000000</td>\n",
       "      <td>...</td>\n",
       "      <td>1.0</td>\n",
       "      <td>1.0</td>\n",
       "      <td>1.0</td>\n",
       "      <td>1.0</td>\n",
       "      <td>1.0</td>\n",
       "      <td>1.0</td>\n",
       "      <td>1.000000</td>\n",
       "      <td>1.0</td>\n",
       "      <td>1.0</td>\n",
       "      <td>1.000000</td>\n",
       "    </tr>\n",
       "    <tr>\n",
       "      <th>Adju.&lt;L-&gt; hif.JY&gt;[</th>\n",
       "      <td>1.000000</td>\n",
       "      <td>1.000000</td>\n",
       "      <td>1.000000</td>\n",
       "      <td>1.000000e+00</td>\n",
       "      <td>1.0</td>\n",
       "      <td>1.0</td>\n",
       "      <td>1.0</td>\n",
       "      <td>1.0</td>\n",
       "      <td>1.000000</td>\n",
       "      <td>1.000000</td>\n",
       "      <td>...</td>\n",
       "      <td>1.0</td>\n",
       "      <td>1.0</td>\n",
       "      <td>1.0</td>\n",
       "      <td>1.0</td>\n",
       "      <td>1.0</td>\n",
       "      <td>1.0</td>\n",
       "      <td>1.000000</td>\n",
       "      <td>1.0</td>\n",
       "      <td>1.0</td>\n",
       "      <td>1.000000</td>\n",
       "    </tr>\n",
       "    <tr>\n",
       "      <th>Adju.&lt;L-&gt; hif.NKH[</th>\n",
       "      <td>1.000000</td>\n",
       "      <td>1.000000</td>\n",
       "      <td>1.000000</td>\n",
       "      <td>1.000000e+00</td>\n",
       "      <td>1.0</td>\n",
       "      <td>1.0</td>\n",
       "      <td>1.0</td>\n",
       "      <td>1.0</td>\n",
       "      <td>1.000000</td>\n",
       "      <td>1.000000</td>\n",
       "      <td>...</td>\n",
       "      <td>1.0</td>\n",
       "      <td>1.0</td>\n",
       "      <td>1.0</td>\n",
       "      <td>1.0</td>\n",
       "      <td>1.0</td>\n",
       "      <td>1.0</td>\n",
       "      <td>1.000000</td>\n",
       "      <td>1.0</td>\n",
       "      <td>1.0</td>\n",
       "      <td>0.004269</td>\n",
       "    </tr>\n",
       "    <tr>\n",
       "      <th>Adju.&lt;L-&gt; hif.NWP[</th>\n",
       "      <td>1.000000</td>\n",
       "      <td>1.000000</td>\n",
       "      <td>1.000000</td>\n",
       "      <td>1.000000e+00</td>\n",
       "      <td>1.0</td>\n",
       "      <td>1.0</td>\n",
       "      <td>1.0</td>\n",
       "      <td>1.0</td>\n",
       "      <td>1.000000</td>\n",
       "      <td>1.000000</td>\n",
       "      <td>...</td>\n",
       "      <td>1.0</td>\n",
       "      <td>1.0</td>\n",
       "      <td>1.0</td>\n",
       "      <td>1.0</td>\n",
       "      <td>1.0</td>\n",
       "      <td>1.0</td>\n",
       "      <td>1.000000</td>\n",
       "      <td>1.0</td>\n",
       "      <td>1.0</td>\n",
       "      <td>1.000000</td>\n",
       "    </tr>\n",
       "    <tr>\n",
       "      <th>Adju.&lt;L-&gt; hif.QRB[</th>\n",
       "      <td>1.000000</td>\n",
       "      <td>1.000000</td>\n",
       "      <td>1.000000</td>\n",
       "      <td>1.000000e+00</td>\n",
       "      <td>1.0</td>\n",
       "      <td>1.0</td>\n",
       "      <td>1.0</td>\n",
       "      <td>1.0</td>\n",
       "      <td>1.000000</td>\n",
       "      <td>1.000000</td>\n",
       "      <td>...</td>\n",
       "      <td>1.0</td>\n",
       "      <td>1.0</td>\n",
       "      <td>1.0</td>\n",
       "      <td>1.0</td>\n",
       "      <td>1.0</td>\n",
       "      <td>1.0</td>\n",
       "      <td>1.000000</td>\n",
       "      <td>1.0</td>\n",
       "      <td>1.0</td>\n",
       "      <td>1.000000</td>\n",
       "    </tr>\n",
       "    <tr>\n",
       "      <th>Adju.&lt;L-&gt; hof.MWT[</th>\n",
       "      <td>1.000000</td>\n",
       "      <td>1.000000</td>\n",
       "      <td>1.000000</td>\n",
       "      <td>1.000000e+00</td>\n",
       "      <td>1.0</td>\n",
       "      <td>1.0</td>\n",
       "      <td>1.0</td>\n",
       "      <td>1.0</td>\n",
       "      <td>1.000000</td>\n",
       "      <td>1.000000</td>\n",
       "      <td>...</td>\n",
       "      <td>1.0</td>\n",
       "      <td>1.0</td>\n",
       "      <td>1.0</td>\n",
       "      <td>1.0</td>\n",
       "      <td>1.0</td>\n",
       "      <td>1.0</td>\n",
       "      <td>1.000000</td>\n",
       "      <td>1.0</td>\n",
       "      <td>1.0</td>\n",
       "      <td>1.000000</td>\n",
       "    </tr>\n",
       "    <tr>\n",
       "      <th>Adju.&lt;L-&gt; nif.CPV[</th>\n",
       "      <td>1.000000</td>\n",
       "      <td>1.000000</td>\n",
       "      <td>1.000000</td>\n",
       "      <td>1.000000e+00</td>\n",
       "      <td>1.0</td>\n",
       "      <td>1.0</td>\n",
       "      <td>1.0</td>\n",
       "      <td>1.0</td>\n",
       "      <td>1.000000</td>\n",
       "      <td>1.000000</td>\n",
       "      <td>...</td>\n",
       "      <td>1.0</td>\n",
       "      <td>1.0</td>\n",
       "      <td>1.0</td>\n",
       "      <td>1.0</td>\n",
       "      <td>1.0</td>\n",
       "      <td>1.0</td>\n",
       "      <td>1.000000</td>\n",
       "      <td>1.0</td>\n",
       "      <td>1.0</td>\n",
       "      <td>1.000000</td>\n",
       "    </tr>\n",
       "    <tr>\n",
       "      <th>Adju.&lt;L-&gt; piel.DBR[</th>\n",
       "      <td>1.000000</td>\n",
       "      <td>1.000000</td>\n",
       "      <td>1.000000</td>\n",
       "      <td>1.000000e+00</td>\n",
       "      <td>1.0</td>\n",
       "      <td>1.0</td>\n",
       "      <td>1.0</td>\n",
       "      <td>1.0</td>\n",
       "      <td>1.000000</td>\n",
       "      <td>1.000000</td>\n",
       "      <td>...</td>\n",
       "      <td>1.0</td>\n",
       "      <td>1.0</td>\n",
       "      <td>1.0</td>\n",
       "      <td>1.0</td>\n",
       "      <td>1.0</td>\n",
       "      <td>1.0</td>\n",
       "      <td>1.000000</td>\n",
       "      <td>1.0</td>\n",
       "      <td>1.0</td>\n",
       "      <td>1.000000</td>\n",
       "    </tr>\n",
       "    <tr>\n",
       "      <th>Adju.&lt;L-&gt; piel.QWM[</th>\n",
       "      <td>1.000000</td>\n",
       "      <td>1.000000</td>\n",
       "      <td>1.000000</td>\n",
       "      <td>1.000000e+00</td>\n",
       "      <td>1.0</td>\n",
       "      <td>1.0</td>\n",
       "      <td>1.0</td>\n",
       "      <td>1.0</td>\n",
       "      <td>1.000000</td>\n",
       "      <td>0.020516</td>\n",
       "      <td>...</td>\n",
       "      <td>1.0</td>\n",
       "      <td>1.0</td>\n",
       "      <td>1.0</td>\n",
       "      <td>1.0</td>\n",
       "      <td>1.0</td>\n",
       "      <td>1.0</td>\n",
       "      <td>1.000000</td>\n",
       "      <td>1.0</td>\n",
       "      <td>1.0</td>\n",
       "      <td>1.000000</td>\n",
       "    </tr>\n",
       "    <tr>\n",
       "      <th>Adju.&lt;L-&gt; piel.YWH[</th>\n",
       "      <td>1.000000</td>\n",
       "      <td>1.000000</td>\n",
       "      <td>1.000000</td>\n",
       "      <td>1.000000e+00</td>\n",
       "      <td>1.0</td>\n",
       "      <td>1.0</td>\n",
       "      <td>1.0</td>\n",
       "      <td>1.0</td>\n",
       "      <td>1.000000</td>\n",
       "      <td>1.000000</td>\n",
       "      <td>...</td>\n",
       "      <td>1.0</td>\n",
       "      <td>1.0</td>\n",
       "      <td>1.0</td>\n",
       "      <td>1.0</td>\n",
       "      <td>1.0</td>\n",
       "      <td>1.0</td>\n",
       "      <td>1.000000</td>\n",
       "      <td>1.0</td>\n",
       "      <td>1.0</td>\n",
       "      <td>1.000000</td>\n",
       "    </tr>\n",
       "    <tr>\n",
       "      <th>Adju.&lt;L-&gt; qal.&lt;FH[</th>\n",
       "      <td>1.000000</td>\n",
       "      <td>1.000000</td>\n",
       "      <td>1.000000</td>\n",
       "      <td>1.000000e+00</td>\n",
       "      <td>1.0</td>\n",
       "      <td>1.0</td>\n",
       "      <td>1.0</td>\n",
       "      <td>1.0</td>\n",
       "      <td>1.000000</td>\n",
       "      <td>1.000000</td>\n",
       "      <td>...</td>\n",
       "      <td>1.0</td>\n",
       "      <td>1.0</td>\n",
       "      <td>1.0</td>\n",
       "      <td>1.0</td>\n",
       "      <td>1.0</td>\n",
       "      <td>1.0</td>\n",
       "      <td>1.000000</td>\n",
       "      <td>1.0</td>\n",
       "      <td>1.0</td>\n",
       "      <td>0.014159</td>\n",
       "    </tr>\n",
       "    <tr>\n",
       "      <th>Adju.&lt;L-&gt; qal.&gt;KL[</th>\n",
       "      <td>1.000000</td>\n",
       "      <td>1.000000</td>\n",
       "      <td>1.000000</td>\n",
       "      <td>1.000000e+00</td>\n",
       "      <td>1.0</td>\n",
       "      <td>1.0</td>\n",
       "      <td>1.0</td>\n",
       "      <td>1.0</td>\n",
       "      <td>1.000000</td>\n",
       "      <td>1.000000</td>\n",
       "      <td>...</td>\n",
       "      <td>1.0</td>\n",
       "      <td>1.0</td>\n",
       "      <td>1.0</td>\n",
       "      <td>1.0</td>\n",
       "      <td>1.0</td>\n",
       "      <td>1.0</td>\n",
       "      <td>1.000000</td>\n",
       "      <td>1.0</td>\n",
       "      <td>1.0</td>\n",
       "      <td>1.000000</td>\n",
       "    </tr>\n",
       "    <tr>\n",
       "      <th>Adju.&lt;L-&gt; qal.BW&gt;[</th>\n",
       "      <td>1.000000</td>\n",
       "      <td>1.000000</td>\n",
       "      <td>1.000000</td>\n",
       "      <td>1.000000e+00</td>\n",
       "      <td>1.0</td>\n",
       "      <td>1.0</td>\n",
       "      <td>1.0</td>\n",
       "      <td>1.0</td>\n",
       "      <td>1.000000</td>\n",
       "      <td>1.000000</td>\n",
       "      <td>...</td>\n",
       "      <td>1.0</td>\n",
       "      <td>1.0</td>\n",
       "      <td>1.0</td>\n",
       "      <td>1.0</td>\n",
       "      <td>1.0</td>\n",
       "      <td>1.0</td>\n",
       "      <td>1.000000</td>\n",
       "      <td>1.0</td>\n",
       "      <td>1.0</td>\n",
       "      <td>1.000000</td>\n",
       "    </tr>\n",
       "    <tr>\n",
       "      <th>Adju.&lt;L-&gt; qal.CJR[</th>\n",
       "      <td>1.000000</td>\n",
       "      <td>1.000000</td>\n",
       "      <td>1.000000</td>\n",
       "      <td>1.000000e+00</td>\n",
       "      <td>1.0</td>\n",
       "      <td>1.0</td>\n",
       "      <td>1.0</td>\n",
       "      <td>1.0</td>\n",
       "      <td>1.000000</td>\n",
       "      <td>1.000000</td>\n",
       "      <td>...</td>\n",
       "      <td>1.0</td>\n",
       "      <td>1.0</td>\n",
       "      <td>1.0</td>\n",
       "      <td>1.0</td>\n",
       "      <td>1.0</td>\n",
       "      <td>1.0</td>\n",
       "      <td>1.000000</td>\n",
       "      <td>1.0</td>\n",
       "      <td>1.0</td>\n",
       "      <td>1.000000</td>\n",
       "    </tr>\n",
       "    <tr>\n",
       "      <th>...</th>\n",
       "      <td>...</td>\n",
       "      <td>...</td>\n",
       "      <td>...</td>\n",
       "      <td>...</td>\n",
       "      <td>...</td>\n",
       "      <td>...</td>\n",
       "      <td>...</td>\n",
       "      <td>...</td>\n",
       "      <td>...</td>\n",
       "      <td>...</td>\n",
       "      <td>...</td>\n",
       "      <td>...</td>\n",
       "      <td>...</td>\n",
       "      <td>...</td>\n",
       "      <td>...</td>\n",
       "      <td>...</td>\n",
       "      <td>...</td>\n",
       "      <td>...</td>\n",
       "      <td>...</td>\n",
       "      <td>...</td>\n",
       "      <td>...</td>\n",
       "    </tr>\n",
       "    <tr>\n",
       "      <th>rec.PNH/-&gt; .</th>\n",
       "      <td>1.000000</td>\n",
       "      <td>1.000000</td>\n",
       "      <td>0.005475</td>\n",
       "      <td>1.000000e+00</td>\n",
       "      <td>1.0</td>\n",
       "      <td>1.0</td>\n",
       "      <td>1.0</td>\n",
       "      <td>1.0</td>\n",
       "      <td>1.000000</td>\n",
       "      <td>1.000000</td>\n",
       "      <td>...</td>\n",
       "      <td>1.0</td>\n",
       "      <td>1.0</td>\n",
       "      <td>1.0</td>\n",
       "      <td>1.0</td>\n",
       "      <td>1.0</td>\n",
       "      <td>1.0</td>\n",
       "      <td>1.000000</td>\n",
       "      <td>1.0</td>\n",
       "      <td>1.0</td>\n",
       "      <td>1.000000</td>\n",
       "    </tr>\n",
       "    <tr>\n",
       "      <th>rec.PR/-&gt; .</th>\n",
       "      <td>1.000000</td>\n",
       "      <td>1.000000</td>\n",
       "      <td>1.000000</td>\n",
       "      <td>1.000000e+00</td>\n",
       "      <td>1.0</td>\n",
       "      <td>1.0</td>\n",
       "      <td>1.0</td>\n",
       "      <td>1.0</td>\n",
       "      <td>1.000000</td>\n",
       "      <td>1.000000</td>\n",
       "      <td>...</td>\n",
       "      <td>1.0</td>\n",
       "      <td>1.0</td>\n",
       "      <td>1.0</td>\n",
       "      <td>1.0</td>\n",
       "      <td>1.0</td>\n",
       "      <td>1.0</td>\n",
       "      <td>1.000000</td>\n",
       "      <td>1.0</td>\n",
       "      <td>1.0</td>\n",
       "      <td>1.000000</td>\n",
       "    </tr>\n",
       "    <tr>\n",
       "      <th>rec.PR&lt;H/-&gt; .</th>\n",
       "      <td>1.000000</td>\n",
       "      <td>1.000000</td>\n",
       "      <td>1.000000</td>\n",
       "      <td>1.000000e+00</td>\n",
       "      <td>1.0</td>\n",
       "      <td>1.0</td>\n",
       "      <td>1.0</td>\n",
       "      <td>1.0</td>\n",
       "      <td>1.000000</td>\n",
       "      <td>1.000000</td>\n",
       "      <td>...</td>\n",
       "      <td>1.0</td>\n",
       "      <td>1.0</td>\n",
       "      <td>1.0</td>\n",
       "      <td>1.0</td>\n",
       "      <td>1.0</td>\n",
       "      <td>1.0</td>\n",
       "      <td>1.000000</td>\n",
       "      <td>1.0</td>\n",
       "      <td>1.0</td>\n",
       "      <td>1.000000</td>\n",
       "    </tr>\n",
       "    <tr>\n",
       "      <th>rec.PRC/-&gt; .</th>\n",
       "      <td>1.000000</td>\n",
       "      <td>1.000000</td>\n",
       "      <td>1.000000</td>\n",
       "      <td>1.000000e+00</td>\n",
       "      <td>1.0</td>\n",
       "      <td>1.0</td>\n",
       "      <td>1.0</td>\n",
       "      <td>1.0</td>\n",
       "      <td>1.000000</td>\n",
       "      <td>1.000000</td>\n",
       "      <td>...</td>\n",
       "      <td>1.0</td>\n",
       "      <td>1.0</td>\n",
       "      <td>1.0</td>\n",
       "      <td>1.0</td>\n",
       "      <td>1.0</td>\n",
       "      <td>1.0</td>\n",
       "      <td>1.000000</td>\n",
       "      <td>1.0</td>\n",
       "      <td>1.0</td>\n",
       "      <td>1.000000</td>\n",
       "    </tr>\n",
       "    <tr>\n",
       "      <th>rec.PWR/-&gt; .</th>\n",
       "      <td>1.000000</td>\n",
       "      <td>1.000000</td>\n",
       "      <td>1.000000</td>\n",
       "      <td>1.614582e-03</td>\n",
       "      <td>1.0</td>\n",
       "      <td>1.0</td>\n",
       "      <td>1.0</td>\n",
       "      <td>1.0</td>\n",
       "      <td>1.000000</td>\n",
       "      <td>1.000000</td>\n",
       "      <td>...</td>\n",
       "      <td>1.0</td>\n",
       "      <td>1.0</td>\n",
       "      <td>1.0</td>\n",
       "      <td>1.0</td>\n",
       "      <td>1.0</td>\n",
       "      <td>1.0</td>\n",
       "      <td>1.000000</td>\n",
       "      <td>1.0</td>\n",
       "      <td>1.0</td>\n",
       "      <td>1.000000</td>\n",
       "    </tr>\n",
       "    <tr>\n",
       "      <th>rec.QDC/-&gt; .</th>\n",
       "      <td>1.000000</td>\n",
       "      <td>1.000000</td>\n",
       "      <td>1.000000</td>\n",
       "      <td>3.770657e-01</td>\n",
       "      <td>1.0</td>\n",
       "      <td>1.0</td>\n",
       "      <td>1.0</td>\n",
       "      <td>1.0</td>\n",
       "      <td>1.000000</td>\n",
       "      <td>1.000000</td>\n",
       "      <td>...</td>\n",
       "      <td>1.0</td>\n",
       "      <td>1.0</td>\n",
       "      <td>1.0</td>\n",
       "      <td>1.0</td>\n",
       "      <td>1.0</td>\n",
       "      <td>1.0</td>\n",
       "      <td>1.000000</td>\n",
       "      <td>1.0</td>\n",
       "      <td>1.0</td>\n",
       "      <td>1.000000</td>\n",
       "    </tr>\n",
       "    <tr>\n",
       "      <th>rec.QDJM/-&gt; .</th>\n",
       "      <td>1.000000</td>\n",
       "      <td>1.000000</td>\n",
       "      <td>1.000000</td>\n",
       "      <td>1.000000e+00</td>\n",
       "      <td>1.0</td>\n",
       "      <td>1.0</td>\n",
       "      <td>1.0</td>\n",
       "      <td>1.0</td>\n",
       "      <td>1.000000</td>\n",
       "      <td>1.000000</td>\n",
       "      <td>...</td>\n",
       "      <td>1.0</td>\n",
       "      <td>1.0</td>\n",
       "      <td>1.0</td>\n",
       "      <td>1.0</td>\n",
       "      <td>1.0</td>\n",
       "      <td>1.0</td>\n",
       "      <td>1.000000</td>\n",
       "      <td>1.0</td>\n",
       "      <td>1.0</td>\n",
       "      <td>1.000000</td>\n",
       "    </tr>\n",
       "    <tr>\n",
       "      <th>rec.QDM/-&gt; .</th>\n",
       "      <td>1.000000</td>\n",
       "      <td>1.000000</td>\n",
       "      <td>1.000000</td>\n",
       "      <td>1.000000e+00</td>\n",
       "      <td>1.0</td>\n",
       "      <td>1.0</td>\n",
       "      <td>1.0</td>\n",
       "      <td>1.0</td>\n",
       "      <td>1.000000</td>\n",
       "      <td>1.000000</td>\n",
       "      <td>...</td>\n",
       "      <td>1.0</td>\n",
       "      <td>1.0</td>\n",
       "      <td>1.0</td>\n",
       "      <td>1.0</td>\n",
       "      <td>1.0</td>\n",
       "      <td>1.0</td>\n",
       "      <td>1.000000</td>\n",
       "      <td>1.0</td>\n",
       "      <td>1.0</td>\n",
       "      <td>1.000000</td>\n",
       "    </tr>\n",
       "    <tr>\n",
       "      <th>rec.QHL/-&gt; .</th>\n",
       "      <td>1.000000</td>\n",
       "      <td>1.000000</td>\n",
       "      <td>1.000000</td>\n",
       "      <td>1.000000e+00</td>\n",
       "      <td>1.0</td>\n",
       "      <td>1.0</td>\n",
       "      <td>1.0</td>\n",
       "      <td>1.0</td>\n",
       "      <td>1.000000</td>\n",
       "      <td>1.000000</td>\n",
       "      <td>...</td>\n",
       "      <td>1.0</td>\n",
       "      <td>1.0</td>\n",
       "      <td>1.0</td>\n",
       "      <td>1.0</td>\n",
       "      <td>1.0</td>\n",
       "      <td>1.0</td>\n",
       "      <td>1.000000</td>\n",
       "      <td>1.0</td>\n",
       "      <td>1.0</td>\n",
       "      <td>1.000000</td>\n",
       "    </tr>\n",
       "    <tr>\n",
       "      <th>rec.R&lt;/-&gt; .</th>\n",
       "      <td>1.000000</td>\n",
       "      <td>1.000000</td>\n",
       "      <td>1.000000</td>\n",
       "      <td>1.000000e+00</td>\n",
       "      <td>1.0</td>\n",
       "      <td>1.0</td>\n",
       "      <td>1.0</td>\n",
       "      <td>1.0</td>\n",
       "      <td>1.000000</td>\n",
       "      <td>1.000000</td>\n",
       "      <td>...</td>\n",
       "      <td>1.0</td>\n",
       "      <td>1.0</td>\n",
       "      <td>1.0</td>\n",
       "      <td>1.0</td>\n",
       "      <td>1.0</td>\n",
       "      <td>1.0</td>\n",
       "      <td>1.000000</td>\n",
       "      <td>1.0</td>\n",
       "      <td>1.0</td>\n",
       "      <td>1.000000</td>\n",
       "    </tr>\n",
       "    <tr>\n",
       "      <th>rec.RC&lt;/-&gt; .</th>\n",
       "      <td>1.000000</td>\n",
       "      <td>1.000000</td>\n",
       "      <td>0.005475</td>\n",
       "      <td>6.854865e-02</td>\n",
       "      <td>1.0</td>\n",
       "      <td>1.0</td>\n",
       "      <td>1.0</td>\n",
       "      <td>1.0</td>\n",
       "      <td>1.000000</td>\n",
       "      <td>1.000000</td>\n",
       "      <td>...</td>\n",
       "      <td>1.0</td>\n",
       "      <td>1.0</td>\n",
       "      <td>1.0</td>\n",
       "      <td>1.0</td>\n",
       "      <td>1.0</td>\n",
       "      <td>1.0</td>\n",
       "      <td>1.000000</td>\n",
       "      <td>1.0</td>\n",
       "      <td>1.0</td>\n",
       "      <td>1.000000</td>\n",
       "    </tr>\n",
       "    <tr>\n",
       "      <th>rec.RKB/-&gt; .</th>\n",
       "      <td>1.000000</td>\n",
       "      <td>1.000000</td>\n",
       "      <td>1.000000</td>\n",
       "      <td>1.000000e+00</td>\n",
       "      <td>1.0</td>\n",
       "      <td>1.0</td>\n",
       "      <td>1.0</td>\n",
       "      <td>1.0</td>\n",
       "      <td>1.000000</td>\n",
       "      <td>1.000000</td>\n",
       "      <td>...</td>\n",
       "      <td>1.0</td>\n",
       "      <td>1.0</td>\n",
       "      <td>1.0</td>\n",
       "      <td>1.0</td>\n",
       "      <td>1.0</td>\n",
       "      <td>1.0</td>\n",
       "      <td>1.000000</td>\n",
       "      <td>1.0</td>\n",
       "      <td>1.0</td>\n",
       "      <td>1.000000</td>\n",
       "    </tr>\n",
       "    <tr>\n",
       "      <th>rec.TMJD/-&gt; .</th>\n",
       "      <td>1.000000</td>\n",
       "      <td>1.000000</td>\n",
       "      <td>1.000000</td>\n",
       "      <td>1.000000e+00</td>\n",
       "      <td>1.0</td>\n",
       "      <td>1.0</td>\n",
       "      <td>1.0</td>\n",
       "      <td>1.0</td>\n",
       "      <td>1.000000</td>\n",
       "      <td>1.000000</td>\n",
       "      <td>...</td>\n",
       "      <td>1.0</td>\n",
       "      <td>1.0</td>\n",
       "      <td>1.0</td>\n",
       "      <td>1.0</td>\n",
       "      <td>1.0</td>\n",
       "      <td>1.0</td>\n",
       "      <td>1.000000</td>\n",
       "      <td>1.0</td>\n",
       "      <td>1.0</td>\n",
       "      <td>1.000000</td>\n",
       "    </tr>\n",
       "    <tr>\n",
       "      <th>rec.TWRH/-&gt; .</th>\n",
       "      <td>1.000000</td>\n",
       "      <td>1.000000</td>\n",
       "      <td>1.000000</td>\n",
       "      <td>1.000000e+00</td>\n",
       "      <td>1.0</td>\n",
       "      <td>1.0</td>\n",
       "      <td>1.0</td>\n",
       "      <td>1.0</td>\n",
       "      <td>1.000000</td>\n",
       "      <td>1.000000</td>\n",
       "      <td>...</td>\n",
       "      <td>1.0</td>\n",
       "      <td>1.0</td>\n",
       "      <td>1.0</td>\n",
       "      <td>1.0</td>\n",
       "      <td>1.0</td>\n",
       "      <td>1.0</td>\n",
       "      <td>1.000000</td>\n",
       "      <td>1.0</td>\n",
       "      <td>1.0</td>\n",
       "      <td>1.000000</td>\n",
       "    </tr>\n",
       "    <tr>\n",
       "      <th>rec.VM&gt;H/-&gt; .</th>\n",
       "      <td>1.000000</td>\n",
       "      <td>1.000000</td>\n",
       "      <td>1.000000</td>\n",
       "      <td>6.854865e-02</td>\n",
       "      <td>1.0</td>\n",
       "      <td>1.0</td>\n",
       "      <td>1.0</td>\n",
       "      <td>1.0</td>\n",
       "      <td>1.000000</td>\n",
       "      <td>1.000000</td>\n",
       "      <td>...</td>\n",
       "      <td>1.0</td>\n",
       "      <td>1.0</td>\n",
       "      <td>1.0</td>\n",
       "      <td>1.0</td>\n",
       "      <td>1.0</td>\n",
       "      <td>1.0</td>\n",
       "      <td>1.000000</td>\n",
       "      <td>1.0</td>\n",
       "      <td>1.0</td>\n",
       "      <td>1.000000</td>\n",
       "    </tr>\n",
       "    <tr>\n",
       "      <th>rec.XJJM/-&gt; .</th>\n",
       "      <td>1.000000</td>\n",
       "      <td>1.000000</td>\n",
       "      <td>1.000000</td>\n",
       "      <td>5.917079e-35</td>\n",
       "      <td>1.0</td>\n",
       "      <td>1.0</td>\n",
       "      <td>1.0</td>\n",
       "      <td>1.0</td>\n",
       "      <td>0.135414</td>\n",
       "      <td>1.000000</td>\n",
       "      <td>...</td>\n",
       "      <td>1.0</td>\n",
       "      <td>1.0</td>\n",
       "      <td>1.0</td>\n",
       "      <td>1.0</td>\n",
       "      <td>1.0</td>\n",
       "      <td>1.0</td>\n",
       "      <td>1.000000</td>\n",
       "      <td>1.0</td>\n",
       "      <td>1.0</td>\n",
       "      <td>1.000000</td>\n",
       "    </tr>\n",
       "    <tr>\n",
       "      <th>rec.XJL/-&gt; .</th>\n",
       "      <td>0.630221</td>\n",
       "      <td>0.626164</td>\n",
       "      <td>1.000000</td>\n",
       "      <td>1.000000e+00</td>\n",
       "      <td>1.0</td>\n",
       "      <td>1.0</td>\n",
       "      <td>1.0</td>\n",
       "      <td>1.0</td>\n",
       "      <td>1.000000</td>\n",
       "      <td>1.000000</td>\n",
       "      <td>...</td>\n",
       "      <td>1.0</td>\n",
       "      <td>1.0</td>\n",
       "      <td>1.0</td>\n",
       "      <td>1.0</td>\n",
       "      <td>1.0</td>\n",
       "      <td>1.0</td>\n",
       "      <td>1.000000</td>\n",
       "      <td>1.0</td>\n",
       "      <td>1.0</td>\n",
       "      <td>1.000000</td>\n",
       "    </tr>\n",
       "    <tr>\n",
       "      <th>rec.XRWN/-&gt; .</th>\n",
       "      <td>1.000000</td>\n",
       "      <td>1.000000</td>\n",
       "      <td>1.000000</td>\n",
       "      <td>4.623831e-02</td>\n",
       "      <td>1.0</td>\n",
       "      <td>1.0</td>\n",
       "      <td>1.0</td>\n",
       "      <td>1.0</td>\n",
       "      <td>1.000000</td>\n",
       "      <td>1.000000</td>\n",
       "      <td>...</td>\n",
       "      <td>1.0</td>\n",
       "      <td>1.0</td>\n",
       "      <td>1.0</td>\n",
       "      <td>1.0</td>\n",
       "      <td>1.0</td>\n",
       "      <td>1.0</td>\n",
       "      <td>1.000000</td>\n",
       "      <td>1.0</td>\n",
       "      <td>1.0</td>\n",
       "      <td>1.000000</td>\n",
       "    </tr>\n",
       "    <tr>\n",
       "      <th>rec.XV&gt;T/-&gt; .</th>\n",
       "      <td>1.000000</td>\n",
       "      <td>1.000000</td>\n",
       "      <td>1.000000</td>\n",
       "      <td>1.000000e+00</td>\n",
       "      <td>1.0</td>\n",
       "      <td>1.0</td>\n",
       "      <td>1.0</td>\n",
       "      <td>1.0</td>\n",
       "      <td>1.000000</td>\n",
       "      <td>1.000000</td>\n",
       "      <td>...</td>\n",
       "      <td>1.0</td>\n",
       "      <td>1.0</td>\n",
       "      <td>1.0</td>\n",
       "      <td>1.0</td>\n",
       "      <td>1.0</td>\n",
       "      <td>1.0</td>\n",
       "      <td>1.000000</td>\n",
       "      <td>1.0</td>\n",
       "      <td>1.0</td>\n",
       "      <td>1.000000</td>\n",
       "    </tr>\n",
       "    <tr>\n",
       "      <th>rec.Y&gt;N/-&gt; .</th>\n",
       "      <td>1.000000</td>\n",
       "      <td>1.000000</td>\n",
       "      <td>1.000000</td>\n",
       "      <td>1.000000e+00</td>\n",
       "      <td>1.0</td>\n",
       "      <td>1.0</td>\n",
       "      <td>1.0</td>\n",
       "      <td>1.0</td>\n",
       "      <td>1.000000</td>\n",
       "      <td>1.000000</td>\n",
       "      <td>...</td>\n",
       "      <td>1.0</td>\n",
       "      <td>1.0</td>\n",
       "      <td>1.0</td>\n",
       "      <td>1.0</td>\n",
       "      <td>1.0</td>\n",
       "      <td>1.0</td>\n",
       "      <td>1.000000</td>\n",
       "      <td>1.0</td>\n",
       "      <td>1.0</td>\n",
       "      <td>1.000000</td>\n",
       "    </tr>\n",
       "    <tr>\n",
       "      <th>rec.YB&gt;/-&gt; .</th>\n",
       "      <td>1.000000</td>\n",
       "      <td>1.000000</td>\n",
       "      <td>1.000000</td>\n",
       "      <td>9.033661e-02</td>\n",
       "      <td>1.0</td>\n",
       "      <td>1.0</td>\n",
       "      <td>1.0</td>\n",
       "      <td>1.0</td>\n",
       "      <td>1.000000</td>\n",
       "      <td>1.000000</td>\n",
       "      <td>...</td>\n",
       "      <td>1.0</td>\n",
       "      <td>1.0</td>\n",
       "      <td>1.0</td>\n",
       "      <td>1.0</td>\n",
       "      <td>1.0</td>\n",
       "      <td>1.0</td>\n",
       "      <td>1.000000</td>\n",
       "      <td>1.0</td>\n",
       "      <td>1.0</td>\n",
       "      <td>1.000000</td>\n",
       "    </tr>\n",
       "    <tr>\n",
       "      <th>rec.YDQ/-&gt; .</th>\n",
       "      <td>1.000000</td>\n",
       "      <td>1.000000</td>\n",
       "      <td>1.000000</td>\n",
       "      <td>1.000000e+00</td>\n",
       "      <td>1.0</td>\n",
       "      <td>1.0</td>\n",
       "      <td>1.0</td>\n",
       "      <td>1.0</td>\n",
       "      <td>1.000000</td>\n",
       "      <td>1.000000</td>\n",
       "      <td>...</td>\n",
       "      <td>1.0</td>\n",
       "      <td>1.0</td>\n",
       "      <td>1.0</td>\n",
       "      <td>1.0</td>\n",
       "      <td>1.0</td>\n",
       "      <td>1.0</td>\n",
       "      <td>1.000000</td>\n",
       "      <td>1.0</td>\n",
       "      <td>1.0</td>\n",
       "      <td>1.000000</td>\n",
       "    </tr>\n",
       "    <tr>\n",
       "      <th>rec.YPWN/-&gt; .</th>\n",
       "      <td>1.000000</td>\n",
       "      <td>1.000000</td>\n",
       "      <td>1.000000</td>\n",
       "      <td>1.000000e+00</td>\n",
       "      <td>1.0</td>\n",
       "      <td>1.0</td>\n",
       "      <td>1.0</td>\n",
       "      <td>1.0</td>\n",
       "      <td>1.000000</td>\n",
       "      <td>1.000000</td>\n",
       "      <td>...</td>\n",
       "      <td>1.0</td>\n",
       "      <td>1.0</td>\n",
       "      <td>1.0</td>\n",
       "      <td>1.0</td>\n",
       "      <td>1.0</td>\n",
       "      <td>1.0</td>\n",
       "      <td>1.000000</td>\n",
       "      <td>1.0</td>\n",
       "      <td>1.0</td>\n",
       "      <td>1.000000</td>\n",
       "    </tr>\n",
       "    <tr>\n",
       "      <th>rec.YRH/-&gt; .</th>\n",
       "      <td>1.000000</td>\n",
       "      <td>1.000000</td>\n",
       "      <td>1.000000</td>\n",
       "      <td>1.461148e-06</td>\n",
       "      <td>1.0</td>\n",
       "      <td>1.0</td>\n",
       "      <td>1.0</td>\n",
       "      <td>1.0</td>\n",
       "      <td>1.000000</td>\n",
       "      <td>1.000000</td>\n",
       "      <td>...</td>\n",
       "      <td>1.0</td>\n",
       "      <td>1.0</td>\n",
       "      <td>1.0</td>\n",
       "      <td>1.0</td>\n",
       "      <td>1.0</td>\n",
       "      <td>1.0</td>\n",
       "      <td>0.015085</td>\n",
       "      <td>1.0</td>\n",
       "      <td>1.0</td>\n",
       "      <td>1.000000</td>\n",
       "    </tr>\n",
       "    <tr>\n",
       "      <th>rec.ZBX/-&gt; .</th>\n",
       "      <td>1.000000</td>\n",
       "      <td>1.000000</td>\n",
       "      <td>1.000000</td>\n",
       "      <td>1.000000e+00</td>\n",
       "      <td>1.0</td>\n",
       "      <td>1.0</td>\n",
       "      <td>1.0</td>\n",
       "      <td>1.0</td>\n",
       "      <td>1.000000</td>\n",
       "      <td>1.000000</td>\n",
       "      <td>...</td>\n",
       "      <td>1.0</td>\n",
       "      <td>1.0</td>\n",
       "      <td>1.0</td>\n",
       "      <td>1.0</td>\n",
       "      <td>1.0</td>\n",
       "      <td>1.0</td>\n",
       "      <td>1.000000</td>\n",
       "      <td>1.0</td>\n",
       "      <td>1.0</td>\n",
       "      <td>1.000000</td>\n",
       "    </tr>\n",
       "    <tr>\n",
       "      <th>rec.ZHB/-&gt; .</th>\n",
       "      <td>1.000000</td>\n",
       "      <td>1.000000</td>\n",
       "      <td>1.000000</td>\n",
       "      <td>1.000000e+00</td>\n",
       "      <td>1.0</td>\n",
       "      <td>1.0</td>\n",
       "      <td>1.0</td>\n",
       "      <td>1.0</td>\n",
       "      <td>1.000000</td>\n",
       "      <td>1.000000</td>\n",
       "      <td>...</td>\n",
       "      <td>1.0</td>\n",
       "      <td>1.0</td>\n",
       "      <td>1.0</td>\n",
       "      <td>1.0</td>\n",
       "      <td>1.0</td>\n",
       "      <td>1.0</td>\n",
       "      <td>1.000000</td>\n",
       "      <td>1.0</td>\n",
       "      <td>1.0</td>\n",
       "      <td>1.000000</td>\n",
       "    </tr>\n",
       "    <tr>\n",
       "      <th>rec.ZJT/-&gt; .</th>\n",
       "      <td>1.000000</td>\n",
       "      <td>1.000000</td>\n",
       "      <td>1.000000</td>\n",
       "      <td>1.000000e+00</td>\n",
       "      <td>1.0</td>\n",
       "      <td>1.0</td>\n",
       "      <td>1.0</td>\n",
       "      <td>1.0</td>\n",
       "      <td>1.000000</td>\n",
       "      <td>1.000000</td>\n",
       "      <td>...</td>\n",
       "      <td>1.0</td>\n",
       "      <td>1.0</td>\n",
       "      <td>1.0</td>\n",
       "      <td>1.0</td>\n",
       "      <td>1.0</td>\n",
       "      <td>1.0</td>\n",
       "      <td>1.000000</td>\n",
       "      <td>1.0</td>\n",
       "      <td>1.0</td>\n",
       "      <td>1.000000</td>\n",
       "    </tr>\n",
       "    <tr>\n",
       "      <th>rec.ZNWNJM/-&gt; .</th>\n",
       "      <td>1.000000</td>\n",
       "      <td>1.000000</td>\n",
       "      <td>1.000000</td>\n",
       "      <td>1.000000e+00</td>\n",
       "      <td>1.0</td>\n",
       "      <td>1.0</td>\n",
       "      <td>1.0</td>\n",
       "      <td>1.0</td>\n",
       "      <td>1.000000</td>\n",
       "      <td>1.000000</td>\n",
       "      <td>...</td>\n",
       "      <td>1.0</td>\n",
       "      <td>1.0</td>\n",
       "      <td>1.0</td>\n",
       "      <td>1.0</td>\n",
       "      <td>1.0</td>\n",
       "      <td>1.0</td>\n",
       "      <td>1.000000</td>\n",
       "      <td>1.0</td>\n",
       "      <td>1.0</td>\n",
       "      <td>1.000000</td>\n",
       "    </tr>\n",
       "    <tr>\n",
       "      <th>rec.ZQN/-&gt; .</th>\n",
       "      <td>1.000000</td>\n",
       "      <td>1.000000</td>\n",
       "      <td>1.000000</td>\n",
       "      <td>1.461148e-06</td>\n",
       "      <td>1.0</td>\n",
       "      <td>1.0</td>\n",
       "      <td>1.0</td>\n",
       "      <td>1.0</td>\n",
       "      <td>1.000000</td>\n",
       "      <td>1.000000</td>\n",
       "      <td>...</td>\n",
       "      <td>1.0</td>\n",
       "      <td>1.0</td>\n",
       "      <td>1.0</td>\n",
       "      <td>1.0</td>\n",
       "      <td>1.0</td>\n",
       "      <td>1.0</td>\n",
       "      <td>1.000000</td>\n",
       "      <td>1.0</td>\n",
       "      <td>1.0</td>\n",
       "      <td>1.000000</td>\n",
       "    </tr>\n",
       "    <tr>\n",
       "      <th>rec.ZR&lt;/-&gt; .</th>\n",
       "      <td>1.000000</td>\n",
       "      <td>1.000000</td>\n",
       "      <td>1.000000</td>\n",
       "      <td>1.000000e+00</td>\n",
       "      <td>1.0</td>\n",
       "      <td>1.0</td>\n",
       "      <td>1.0</td>\n",
       "      <td>1.0</td>\n",
       "      <td>1.000000</td>\n",
       "      <td>1.000000</td>\n",
       "      <td>...</td>\n",
       "      <td>1.0</td>\n",
       "      <td>1.0</td>\n",
       "      <td>1.0</td>\n",
       "      <td>1.0</td>\n",
       "      <td>1.0</td>\n",
       "      <td>1.0</td>\n",
       "      <td>1.000000</td>\n",
       "      <td>1.0</td>\n",
       "      <td>1.0</td>\n",
       "      <td>1.000000</td>\n",
       "    </tr>\n",
       "  </tbody>\n",
       "</table>\n",
       "<p>4011 rows × 199 columns</p>\n",
       "</div>"
      ],
      "text/plain": [
       "                       >LHJM/      >RY/      >WR/          JWM/  LJLH/  CMJM/  \\\n",
       "Adju.-> hif.BW>[     1.000000  1.000000  1.000000  1.000000e+00    1.0    1.0   \n",
       "Adju.-> hif.NKH[     1.000000  1.000000  1.000000  1.000000e+00    1.0    1.0   \n",
       "Adju.-> nif.>SP[     1.000000  1.000000  1.000000  1.000000e+00    1.0    1.0   \n",
       "Adju.-> nif.CMM[     1.000000  1.000000  1.000000  1.000000e+00    1.0    1.0   \n",
       "Adju.-> piel.DBR[    1.000000  1.000000  1.000000  1.000000e+00    1.0    1.0   \n",
       "Adju.-> qal.<BD[     1.000000  1.000000  1.000000  1.000000e+00    1.0    1.0   \n",
       "Adju.-> qal.<FH[     1.000000  1.000000  1.000000  1.000000e+00    1.0    1.0   \n",
       "Adju.-> qal.HLK[     1.000000  1.000000  1.000000  1.000000e+00    1.0    1.0   \n",
       "Adju.-> qal.JCB[     1.000000  1.000000  1.000000  1.000000e+00    1.0    1.0   \n",
       "Adju.-> qal.JLD[     1.000000  1.000000  1.000000  1.000000e+00    1.0    1.0   \n",
       "Adju.-> qal.JY>[     1.000000  1.000000  1.000000  1.000000e+00    1.0    1.0   \n",
       "Adju.-> qal.LQX[     1.000000  1.000000  1.000000  1.000000e+00    1.0    1.0   \n",
       "Adju.-> qal.MWT[     1.000000  1.000000  1.000000  1.000000e+00    1.0    1.0   \n",
       "Adju.-> qal.QR>[     1.000000  1.000000  1.000000  1.000000e+00    1.0    1.0   \n",
       "Adju.-> qal.ZBX[     1.000000  1.000000  1.000000  1.000000e+00    1.0    1.0   \n",
       "Adju.<D-> hif.XZQ[   1.000000  1.000000  1.000000  1.000000e+00    1.0    1.0   \n",
       "Adju.<L-> hif.JDH[   1.000000  1.000000  1.000000  1.000000e+00    1.0    1.0   \n",
       "Adju.<L-> hif.JY>[   1.000000  1.000000  1.000000  1.000000e+00    1.0    1.0   \n",
       "Adju.<L-> hif.NKH[   1.000000  1.000000  1.000000  1.000000e+00    1.0    1.0   \n",
       "Adju.<L-> hif.NWP[   1.000000  1.000000  1.000000  1.000000e+00    1.0    1.0   \n",
       "Adju.<L-> hif.QRB[   1.000000  1.000000  1.000000  1.000000e+00    1.0    1.0   \n",
       "Adju.<L-> hof.MWT[   1.000000  1.000000  1.000000  1.000000e+00    1.0    1.0   \n",
       "Adju.<L-> nif.CPV[   1.000000  1.000000  1.000000  1.000000e+00    1.0    1.0   \n",
       "Adju.<L-> piel.DBR[  1.000000  1.000000  1.000000  1.000000e+00    1.0    1.0   \n",
       "Adju.<L-> piel.QWM[  1.000000  1.000000  1.000000  1.000000e+00    1.0    1.0   \n",
       "Adju.<L-> piel.YWH[  1.000000  1.000000  1.000000  1.000000e+00    1.0    1.0   \n",
       "Adju.<L-> qal.<FH[   1.000000  1.000000  1.000000  1.000000e+00    1.0    1.0   \n",
       "Adju.<L-> qal.>KL[   1.000000  1.000000  1.000000  1.000000e+00    1.0    1.0   \n",
       "Adju.<L-> qal.BW>[   1.000000  1.000000  1.000000  1.000000e+00    1.0    1.0   \n",
       "Adju.<L-> qal.CJR[   1.000000  1.000000  1.000000  1.000000e+00    1.0    1.0   \n",
       "...                       ...       ...       ...           ...    ...    ...   \n",
       "rec.PNH/-> .         1.000000  1.000000  0.005475  1.000000e+00    1.0    1.0   \n",
       "rec.PR/-> .          1.000000  1.000000  1.000000  1.000000e+00    1.0    1.0   \n",
       "rec.PR<H/-> .        1.000000  1.000000  1.000000  1.000000e+00    1.0    1.0   \n",
       "rec.PRC/-> .         1.000000  1.000000  1.000000  1.000000e+00    1.0    1.0   \n",
       "rec.PWR/-> .         1.000000  1.000000  1.000000  1.614582e-03    1.0    1.0   \n",
       "rec.QDC/-> .         1.000000  1.000000  1.000000  3.770657e-01    1.0    1.0   \n",
       "rec.QDJM/-> .        1.000000  1.000000  1.000000  1.000000e+00    1.0    1.0   \n",
       "rec.QDM/-> .         1.000000  1.000000  1.000000  1.000000e+00    1.0    1.0   \n",
       "rec.QHL/-> .         1.000000  1.000000  1.000000  1.000000e+00    1.0    1.0   \n",
       "rec.R</-> .          1.000000  1.000000  1.000000  1.000000e+00    1.0    1.0   \n",
       "rec.RC</-> .         1.000000  1.000000  0.005475  6.854865e-02    1.0    1.0   \n",
       "rec.RKB/-> .         1.000000  1.000000  1.000000  1.000000e+00    1.0    1.0   \n",
       "rec.TMJD/-> .        1.000000  1.000000  1.000000  1.000000e+00    1.0    1.0   \n",
       "rec.TWRH/-> .        1.000000  1.000000  1.000000  1.000000e+00    1.0    1.0   \n",
       "rec.VM>H/-> .        1.000000  1.000000  1.000000  6.854865e-02    1.0    1.0   \n",
       "rec.XJJM/-> .        1.000000  1.000000  1.000000  5.917079e-35    1.0    1.0   \n",
       "rec.XJL/-> .         0.630221  0.626164  1.000000  1.000000e+00    1.0    1.0   \n",
       "rec.XRWN/-> .        1.000000  1.000000  1.000000  4.623831e-02    1.0    1.0   \n",
       "rec.XV>T/-> .        1.000000  1.000000  1.000000  1.000000e+00    1.0    1.0   \n",
       "rec.Y>N/-> .         1.000000  1.000000  1.000000  1.000000e+00    1.0    1.0   \n",
       "rec.YB>/-> .         1.000000  1.000000  1.000000  9.033661e-02    1.0    1.0   \n",
       "rec.YDQ/-> .         1.000000  1.000000  1.000000  1.000000e+00    1.0    1.0   \n",
       "rec.YPWN/-> .        1.000000  1.000000  1.000000  1.000000e+00    1.0    1.0   \n",
       "rec.YRH/-> .         1.000000  1.000000  1.000000  1.461148e-06    1.0    1.0   \n",
       "rec.ZBX/-> .         1.000000  1.000000  1.000000  1.000000e+00    1.0    1.0   \n",
       "rec.ZHB/-> .         1.000000  1.000000  1.000000  1.000000e+00    1.0    1.0   \n",
       "rec.ZJT/-> .         1.000000  1.000000  1.000000  1.000000e+00    1.0    1.0   \n",
       "rec.ZNWNJM/-> .      1.000000  1.000000  1.000000  1.000000e+00    1.0    1.0   \n",
       "rec.ZQN/-> .         1.000000  1.000000  1.000000  1.461148e-06    1.0    1.0   \n",
       "rec.ZR</-> .         1.000000  1.000000  1.000000  1.000000e+00    1.0    1.0   \n",
       "\n",
       "                     MJM/  JM/       <Y/      NPC/    ...     MMLKH/  D<T/  \\\n",
       "Adju.-> hif.BW>[      1.0  1.0  1.000000  1.000000    ...        1.0   1.0   \n",
       "Adju.-> hif.NKH[      1.0  1.0  1.000000  1.000000    ...        1.0   1.0   \n",
       "Adju.-> nif.>SP[      1.0  1.0  1.000000  1.000000    ...        1.0   1.0   \n",
       "Adju.-> nif.CMM[      1.0  1.0  1.000000  1.000000    ...        1.0   1.0   \n",
       "Adju.-> piel.DBR[     1.0  1.0  1.000000  1.000000    ...        1.0   1.0   \n",
       "Adju.-> qal.<BD[      1.0  1.0  0.022142  1.000000    ...        1.0   1.0   \n",
       "Adju.-> qal.<FH[      1.0  1.0  1.000000  1.000000    ...        1.0   1.0   \n",
       "Adju.-> qal.HLK[      1.0  1.0  1.000000  1.000000    ...        1.0   1.0   \n",
       "Adju.-> qal.JCB[      1.0  1.0  1.000000  1.000000    ...        1.0   1.0   \n",
       "Adju.-> qal.JLD[      1.0  1.0  1.000000  0.030615    ...        1.0   1.0   \n",
       "Adju.-> qal.JY>[      1.0  1.0  1.000000  1.000000    ...        1.0   1.0   \n",
       "Adju.-> qal.LQX[      1.0  1.0  1.000000  1.000000    ...        1.0   1.0   \n",
       "Adju.-> qal.MWT[      1.0  1.0  1.000000  1.000000    ...        1.0   1.0   \n",
       "Adju.-> qal.QR>[      1.0  1.0  1.000000  1.000000    ...        1.0   1.0   \n",
       "Adju.-> qal.ZBX[      1.0  1.0  1.000000  1.000000    ...        1.0   1.0   \n",
       "Adju.<D-> hif.XZQ[    1.0  1.0  1.000000  1.000000    ...        1.0   1.0   \n",
       "Adju.<L-> hif.JDH[    1.0  1.0  1.000000  1.000000    ...        1.0   1.0   \n",
       "Adju.<L-> hif.JY>[    1.0  1.0  1.000000  1.000000    ...        1.0   1.0   \n",
       "Adju.<L-> hif.NKH[    1.0  1.0  1.000000  1.000000    ...        1.0   1.0   \n",
       "Adju.<L-> hif.NWP[    1.0  1.0  1.000000  1.000000    ...        1.0   1.0   \n",
       "Adju.<L-> hif.QRB[    1.0  1.0  1.000000  1.000000    ...        1.0   1.0   \n",
       "Adju.<L-> hof.MWT[    1.0  1.0  1.000000  1.000000    ...        1.0   1.0   \n",
       "Adju.<L-> nif.CPV[    1.0  1.0  1.000000  1.000000    ...        1.0   1.0   \n",
       "Adju.<L-> piel.DBR[   1.0  1.0  1.000000  1.000000    ...        1.0   1.0   \n",
       "Adju.<L-> piel.QWM[   1.0  1.0  1.000000  0.020516    ...        1.0   1.0   \n",
       "Adju.<L-> piel.YWH[   1.0  1.0  1.000000  1.000000    ...        1.0   1.0   \n",
       "Adju.<L-> qal.<FH[    1.0  1.0  1.000000  1.000000    ...        1.0   1.0   \n",
       "Adju.<L-> qal.>KL[    1.0  1.0  1.000000  1.000000    ...        1.0   1.0   \n",
       "Adju.<L-> qal.BW>[    1.0  1.0  1.000000  1.000000    ...        1.0   1.0   \n",
       "Adju.<L-> qal.CJR[    1.0  1.0  1.000000  1.000000    ...        1.0   1.0   \n",
       "...                   ...  ...       ...       ...    ...        ...   ...   \n",
       "rec.PNH/-> .          1.0  1.0  1.000000  1.000000    ...        1.0   1.0   \n",
       "rec.PR/-> .           1.0  1.0  1.000000  1.000000    ...        1.0   1.0   \n",
       "rec.PR<H/-> .         1.0  1.0  1.000000  1.000000    ...        1.0   1.0   \n",
       "rec.PRC/-> .          1.0  1.0  1.000000  1.000000    ...        1.0   1.0   \n",
       "rec.PWR/-> .          1.0  1.0  1.000000  1.000000    ...        1.0   1.0   \n",
       "rec.QDC/-> .          1.0  1.0  1.000000  1.000000    ...        1.0   1.0   \n",
       "rec.QDJM/-> .         1.0  1.0  1.000000  1.000000    ...        1.0   1.0   \n",
       "rec.QDM/-> .          1.0  1.0  1.000000  1.000000    ...        1.0   1.0   \n",
       "rec.QHL/-> .          1.0  1.0  1.000000  1.000000    ...        1.0   1.0   \n",
       "rec.R</-> .           1.0  1.0  1.000000  1.000000    ...        1.0   1.0   \n",
       "rec.RC</-> .          1.0  1.0  1.000000  1.000000    ...        1.0   1.0   \n",
       "rec.RKB/-> .          1.0  1.0  1.000000  1.000000    ...        1.0   1.0   \n",
       "rec.TMJD/-> .         1.0  1.0  1.000000  1.000000    ...        1.0   1.0   \n",
       "rec.TWRH/-> .         1.0  1.0  1.000000  1.000000    ...        1.0   1.0   \n",
       "rec.VM>H/-> .         1.0  1.0  1.000000  1.000000    ...        1.0   1.0   \n",
       "rec.XJJM/-> .         1.0  1.0  0.135414  1.000000    ...        1.0   1.0   \n",
       "rec.XJL/-> .          1.0  1.0  1.000000  1.000000    ...        1.0   1.0   \n",
       "rec.XRWN/-> .         1.0  1.0  1.000000  1.000000    ...        1.0   1.0   \n",
       "rec.XV>T/-> .         1.0  1.0  1.000000  1.000000    ...        1.0   1.0   \n",
       "rec.Y>N/-> .          1.0  1.0  1.000000  1.000000    ...        1.0   1.0   \n",
       "rec.YB>/-> .          1.0  1.0  1.000000  1.000000    ...        1.0   1.0   \n",
       "rec.YDQ/-> .          1.0  1.0  1.000000  1.000000    ...        1.0   1.0   \n",
       "rec.YPWN/-> .         1.0  1.0  1.000000  1.000000    ...        1.0   1.0   \n",
       "rec.YRH/-> .          1.0  1.0  1.000000  1.000000    ...        1.0   1.0   \n",
       "rec.ZBX/-> .          1.0  1.0  1.000000  1.000000    ...        1.0   1.0   \n",
       "rec.ZHB/-> .          1.0  1.0  1.000000  1.000000    ...        1.0   1.0   \n",
       "rec.ZJT/-> .          1.0  1.0  1.000000  1.000000    ...        1.0   1.0   \n",
       "rec.ZNWNJM/-> .       1.0  1.0  1.000000  1.000000    ...        1.0   1.0   \n",
       "rec.ZQN/-> .          1.0  1.0  1.000000  1.000000    ...        1.0   1.0   \n",
       "rec.ZR</-> .          1.0  1.0  1.000000  1.000000    ...        1.0   1.0   \n",
       "\n",
       "                     <WLM/  TWK/  FMXH/  HJKL/       <T/  RXB=/  >RK=/  \\\n",
       "Adju.-> hif.BW>[       1.0   1.0    1.0    1.0  1.000000    1.0    1.0   \n",
       "Adju.-> hif.NKH[       1.0   1.0    1.0    1.0  1.000000    1.0    1.0   \n",
       "Adju.-> nif.>SP[       1.0   1.0    1.0    1.0  1.000000    1.0    1.0   \n",
       "Adju.-> nif.CMM[       1.0   1.0    1.0    1.0  1.000000    1.0    1.0   \n",
       "Adju.-> piel.DBR[      1.0   1.0    1.0    1.0  1.000000    1.0    1.0   \n",
       "Adju.-> qal.<BD[       1.0   1.0    1.0    1.0  1.000000    1.0    1.0   \n",
       "Adju.-> qal.<FH[       1.0   1.0    1.0    1.0  1.000000    1.0    1.0   \n",
       "Adju.-> qal.HLK[       1.0   1.0    1.0    1.0  1.000000    1.0    1.0   \n",
       "Adju.-> qal.JCB[       1.0   1.0    1.0    1.0  1.000000    1.0    1.0   \n",
       "Adju.-> qal.JLD[       1.0   1.0    1.0    1.0  1.000000    1.0    1.0   \n",
       "Adju.-> qal.JY>[       1.0   1.0    1.0    1.0  1.000000    1.0    1.0   \n",
       "Adju.-> qal.LQX[       1.0   1.0    1.0    1.0  1.000000    1.0    1.0   \n",
       "Adju.-> qal.MWT[       1.0   1.0    1.0    1.0  1.000000    1.0    1.0   \n",
       "Adju.-> qal.QR>[       1.0   1.0    1.0    1.0  1.000000    1.0    1.0   \n",
       "Adju.-> qal.ZBX[       1.0   1.0    1.0    1.0  1.000000    1.0    1.0   \n",
       "Adju.<D-> hif.XZQ[     1.0   1.0    1.0    1.0  1.000000    1.0    1.0   \n",
       "Adju.<L-> hif.JDH[     1.0   1.0    1.0    1.0  1.000000    1.0    1.0   \n",
       "Adju.<L-> hif.JY>[     1.0   1.0    1.0    1.0  1.000000    1.0    1.0   \n",
       "Adju.<L-> hif.NKH[     1.0   1.0    1.0    1.0  1.000000    1.0    1.0   \n",
       "Adju.<L-> hif.NWP[     1.0   1.0    1.0    1.0  1.000000    1.0    1.0   \n",
       "Adju.<L-> hif.QRB[     1.0   1.0    1.0    1.0  1.000000    1.0    1.0   \n",
       "Adju.<L-> hof.MWT[     1.0   1.0    1.0    1.0  1.000000    1.0    1.0   \n",
       "Adju.<L-> nif.CPV[     1.0   1.0    1.0    1.0  1.000000    1.0    1.0   \n",
       "Adju.<L-> piel.DBR[    1.0   1.0    1.0    1.0  1.000000    1.0    1.0   \n",
       "Adju.<L-> piel.QWM[    1.0   1.0    1.0    1.0  1.000000    1.0    1.0   \n",
       "Adju.<L-> piel.YWH[    1.0   1.0    1.0    1.0  1.000000    1.0    1.0   \n",
       "Adju.<L-> qal.<FH[     1.0   1.0    1.0    1.0  1.000000    1.0    1.0   \n",
       "Adju.<L-> qal.>KL[     1.0   1.0    1.0    1.0  1.000000    1.0    1.0   \n",
       "Adju.<L-> qal.BW>[     1.0   1.0    1.0    1.0  1.000000    1.0    1.0   \n",
       "Adju.<L-> qal.CJR[     1.0   1.0    1.0    1.0  1.000000    1.0    1.0   \n",
       "...                    ...   ...    ...    ...       ...    ...    ...   \n",
       "rec.PNH/-> .           1.0   1.0    1.0    1.0  1.000000    1.0    1.0   \n",
       "rec.PR/-> .            1.0   1.0    1.0    1.0  1.000000    1.0    1.0   \n",
       "rec.PR<H/-> .          1.0   1.0    1.0    1.0  1.000000    1.0    1.0   \n",
       "rec.PRC/-> .           1.0   1.0    1.0    1.0  1.000000    1.0    1.0   \n",
       "rec.PWR/-> .           1.0   1.0    1.0    1.0  1.000000    1.0    1.0   \n",
       "rec.QDC/-> .           1.0   1.0    1.0    1.0  1.000000    1.0    1.0   \n",
       "rec.QDJM/-> .          1.0   1.0    1.0    1.0  1.000000    1.0    1.0   \n",
       "rec.QDM/-> .           1.0   1.0    1.0    1.0  1.000000    1.0    1.0   \n",
       "rec.QHL/-> .           1.0   1.0    1.0    1.0  1.000000    1.0    1.0   \n",
       "rec.R</-> .            1.0   1.0    1.0    1.0  1.000000    1.0    1.0   \n",
       "rec.RC</-> .           1.0   1.0    1.0    1.0  1.000000    1.0    1.0   \n",
       "rec.RKB/-> .           1.0   1.0    1.0    1.0  1.000000    1.0    1.0   \n",
       "rec.TMJD/-> .          1.0   1.0    1.0    1.0  1.000000    1.0    1.0   \n",
       "rec.TWRH/-> .          1.0   1.0    1.0    1.0  1.000000    1.0    1.0   \n",
       "rec.VM>H/-> .          1.0   1.0    1.0    1.0  1.000000    1.0    1.0   \n",
       "rec.XJJM/-> .          1.0   1.0    1.0    1.0  1.000000    1.0    1.0   \n",
       "rec.XJL/-> .           1.0   1.0    1.0    1.0  1.000000    1.0    1.0   \n",
       "rec.XRWN/-> .          1.0   1.0    1.0    1.0  1.000000    1.0    1.0   \n",
       "rec.XV>T/-> .          1.0   1.0    1.0    1.0  1.000000    1.0    1.0   \n",
       "rec.Y>N/-> .           1.0   1.0    1.0    1.0  1.000000    1.0    1.0   \n",
       "rec.YB>/-> .           1.0   1.0    1.0    1.0  1.000000    1.0    1.0   \n",
       "rec.YDQ/-> .           1.0   1.0    1.0    1.0  1.000000    1.0    1.0   \n",
       "rec.YPWN/-> .          1.0   1.0    1.0    1.0  1.000000    1.0    1.0   \n",
       "rec.YRH/-> .           1.0   1.0    1.0    1.0  0.015085    1.0    1.0   \n",
       "rec.ZBX/-> .           1.0   1.0    1.0    1.0  1.000000    1.0    1.0   \n",
       "rec.ZHB/-> .           1.0   1.0    1.0    1.0  1.000000    1.0    1.0   \n",
       "rec.ZJT/-> .           1.0   1.0    1.0    1.0  1.000000    1.0    1.0   \n",
       "rec.ZNWNJM/-> .        1.0   1.0    1.0    1.0  1.000000    1.0    1.0   \n",
       "rec.ZQN/-> .           1.0   1.0    1.0    1.0  1.000000    1.0    1.0   \n",
       "rec.ZR</-> .           1.0   1.0    1.0    1.0  1.000000    1.0    1.0   \n",
       "\n",
       "                         RB=/  \n",
       "Adju.-> hif.BW>[     1.000000  \n",
       "Adju.-> hif.NKH[     1.000000  \n",
       "Adju.-> nif.>SP[     1.000000  \n",
       "Adju.-> nif.CMM[     1.000000  \n",
       "Adju.-> piel.DBR[    1.000000  \n",
       "Adju.-> qal.<BD[     1.000000  \n",
       "Adju.-> qal.<FH[     1.000000  \n",
       "Adju.-> qal.HLK[     1.000000  \n",
       "Adju.-> qal.JCB[     1.000000  \n",
       "Adju.-> qal.JLD[     1.000000  \n",
       "Adju.-> qal.JY>[     1.000000  \n",
       "Adju.-> qal.LQX[     1.000000  \n",
       "Adju.-> qal.MWT[     1.000000  \n",
       "Adju.-> qal.QR>[     1.000000  \n",
       "Adju.-> qal.ZBX[     1.000000  \n",
       "Adju.<D-> hif.XZQ[   1.000000  \n",
       "Adju.<L-> hif.JDH[   1.000000  \n",
       "Adju.<L-> hif.JY>[   1.000000  \n",
       "Adju.<L-> hif.NKH[   0.004269  \n",
       "Adju.<L-> hif.NWP[   1.000000  \n",
       "Adju.<L-> hif.QRB[   1.000000  \n",
       "Adju.<L-> hof.MWT[   1.000000  \n",
       "Adju.<L-> nif.CPV[   1.000000  \n",
       "Adju.<L-> piel.DBR[  1.000000  \n",
       "Adju.<L-> piel.QWM[  1.000000  \n",
       "Adju.<L-> piel.YWH[  1.000000  \n",
       "Adju.<L-> qal.<FH[   0.014159  \n",
       "Adju.<L-> qal.>KL[   1.000000  \n",
       "Adju.<L-> qal.BW>[   1.000000  \n",
       "Adju.<L-> qal.CJR[   1.000000  \n",
       "...                       ...  \n",
       "rec.PNH/-> .         1.000000  \n",
       "rec.PR/-> .          1.000000  \n",
       "rec.PR<H/-> .        1.000000  \n",
       "rec.PRC/-> .         1.000000  \n",
       "rec.PWR/-> .         1.000000  \n",
       "rec.QDC/-> .         1.000000  \n",
       "rec.QDJM/-> .        1.000000  \n",
       "rec.QDM/-> .         1.000000  \n",
       "rec.QHL/-> .         1.000000  \n",
       "rec.R</-> .          1.000000  \n",
       "rec.RC</-> .         1.000000  \n",
       "rec.RKB/-> .         1.000000  \n",
       "rec.TMJD/-> .        1.000000  \n",
       "rec.TWRH/-> .        1.000000  \n",
       "rec.VM>H/-> .        1.000000  \n",
       "rec.XJJM/-> .        1.000000  \n",
       "rec.XJL/-> .         1.000000  \n",
       "rec.XRWN/-> .        1.000000  \n",
       "rec.XV>T/-> .        1.000000  \n",
       "rec.Y>N/-> .         1.000000  \n",
       "rec.YB>/-> .         1.000000  \n",
       "rec.YDQ/-> .         1.000000  \n",
       "rec.YPWN/-> .        1.000000  \n",
       "rec.YRH/-> .         1.000000  \n",
       "rec.ZBX/-> .         1.000000  \n",
       "rec.ZHB/-> .         1.000000  \n",
       "rec.ZJT/-> .         1.000000  \n",
       "rec.ZNWNJM/-> .      1.000000  \n",
       "rec.ZQN/-> .         1.000000  \n",
       "rec.ZR</-> .         1.000000  \n",
       "\n",
       "[4011 rows x 199 columns]"
      ]
     },
     "execution_count": 72,
     "metadata": {},
     "output_type": "execute_result"
    }
   ],
   "source": [
    "fisherdata"
   ]
  },
  {
   "cell_type": "markdown",
   "metadata": {},
   "source": [
    "<hr>\n",
    "<br>\n",
    "<br>\n",
    "<br>"
   ]
  }
 ],
 "metadata": {
  "kernelspec": {
   "display_name": "Python 3",
   "language": "python",
   "name": "python3"
  },
  "language_info": {
   "codemirror_mode": {
    "name": "ipython",
    "version": 3
   },
   "file_extension": ".py",
   "mimetype": "text/x-python",
   "name": "python",
   "nbconvert_exporter": "python",
   "pygments_lexer": "ipython3",
   "version": "3.7.0"
  }
 },
 "nbformat": 4,
 "nbformat_minor": 2
}
