{
 "cells": [
  {
   "cell_type": "markdown",
   "metadata": {},
   "source": [
    "# Noun Semantics in the Hebrew Bible\n",
    "\n",
    "*This notebook will contain the descriptions and analysis for the presentation on noun semantics in the Hebrew Bible.*"
   ]
  },
  {
   "cell_type": "code",
   "execution_count": 20,
   "metadata": {},
   "outputs": [
    {
     "name": "stdout",
     "output_type": "stream",
     "text": [
      "  0.00s loading features ...\n",
      "   |     0.16s B lex_utf8             from /Users/cody/github/etcbc/bhsa/tf/c\n",
      "   |     0.19s B phono                from /Users/cody/github/etcbc/phono/tf/c\n",
      "   |     2.38s B heads                from /Users/cody/github/etcbc/lingo/heads/tf/c\n",
      "   |     0.18s B typ                  from /Users/cody/github/etcbc/bhsa/tf/c\n",
      "   |     0.08s B freq_lex             from /Users/cody/github/etcbc/bhsa/tf/c\n",
      "   |     0.10s B pdp                  from /Users/cody/github/etcbc/bhsa/tf/c\n",
      "   |     0.10s B sp                   from /Users/cody/github/etcbc/bhsa/tf/c\n",
      "   |     0.10s B ls                   from /Users/cody/github/etcbc/bhsa/tf/c\n",
      "  8.65s All features loaded/computed - for details use loadLog()\n"
     ]
    },
    {
     "data": {
      "text/html": [
       "\n",
       "<style>\n",
       "@font-face {\n",
       "  font-family: \"Ezra SIL\";\n",
       "  src: url('https://github.com/Dans-labs/text-fabric/blob/master/tf/server/static/fonts/SILEOT.ttf?raw=true');\n",
       "  src: url('https://github.com/Dans-labs/text-fabric/blob/master/tf/server/static/fonts/SILEOT.woff?raw=true') format('woff');\n",
       "}\n",
       "</style>\n",
       "\n",
       "<style type=\"text/css\">\n",
       ".verse {\n",
       "    display: flex;\n",
       "    flex-flow: row wrap;\n",
       "    direction: rtl;\n",
       "}\n",
       ".vl {\n",
       "    display: flex;\n",
       "    flex-flow: column nowrap;\n",
       "    justify-content: flex-end;\n",
       "    align-items: flex-end;\n",
       "    direction: ltr;\n",
       "    width: 100%;\n",
       "}\n",
       ".outeritem {\n",
       "    display: flex;\n",
       "    flex-flow: row wrap;\n",
       "    direction: rtl;\n",
       "}\n",
       ".sentence,.clause,.phrase {\n",
       "    margin-top: -1.2em;\n",
       "    margin-left: 1em;\n",
       "    background: #ffffff none repeat scroll 0 0;\n",
       "    padding: 0 0.3em;\n",
       "    border-style: solid;\n",
       "    border-radius: 0.2em;\n",
       "    font-size: small;\n",
       "    display: block;\n",
       "    width: fit-content;\n",
       "    max-width: fit-content;\n",
       "    direction: ltr;\n",
       "}\n",
       ".atoms {\n",
       "    display: flex;\n",
       "    flex-flow: row wrap;\n",
       "    margin: 0.3em;\n",
       "    padding: 0.3em;\n",
       "    direction: rtl;\n",
       "    background-color: #ffffff;\n",
       "}\n",
       ".satom,.catom,.patom {\n",
       "    margin: 0.3em;\n",
       "    padding: 0.3em;\n",
       "    border-radius: 0.3em;\n",
       "    border-style: solid;\n",
       "    display: flex;\n",
       "    flex-flow: column nowrap;\n",
       "    direction: rtl;\n",
       "    background-color: #ffffff;\n",
       "}\n",
       ".sentence {\n",
       "    border-color: #aa3333;\n",
       "    border-width: 1px;\n",
       "}\n",
       ".clause {\n",
       "    border-color: #aaaa33;\n",
       "    border-width: 1px;\n",
       "}\n",
       ".phrase {\n",
       "    border-color: #33aaaa;\n",
       "    border-width: 1px;\n",
       "}\n",
       ".satom {\n",
       "    border-color: #aa3333;\n",
       "    border-width: 4px;\n",
       "}\n",
       ".catom {\n",
       "    border-color: #aaaa33;\n",
       "    border-width: 3px;\n",
       "}\n",
       ".patom {\n",
       "    border-color: #33aaaa;\n",
       "    border-width: 3px;\n",
       "}\n",
       ".word {\n",
       "    padding: 0.1em;\n",
       "    margin: 0.1em;\n",
       "    border-radius: 0.1em;\n",
       "    border: 1px solid #cccccc;\n",
       "    display: flex;\n",
       "    flex-flow: column nowrap;\n",
       "    direction: rtl;\n",
       "    background-color: #ffffff;\n",
       "}\n",
       ".lextp {\n",
       "    padding: 0.1em;\n",
       "    margin: 0.1em;\n",
       "    border-radius: 0.1em;\n",
       "    border: 2px solid #888888;\n",
       "    width: fit-content;\n",
       "    display: flex;\n",
       "    flex-flow: column nowrap;\n",
       "    direction: rtl;\n",
       "    background-color: #ffffff;\n",
       "}\n",
       ".occs {\n",
       "    font-size: x-small;\n",
       "}\n",
       ".satom.l,.catom.l,.patom.l {\n",
       "    border-left-style: dotted\n",
       "}\n",
       ".satom.r,.catom.r,.patom.r {\n",
       "    border-right-style: dotted\n",
       "}\n",
       ".satom.L,.catom.L,.patom.L {\n",
       "    border-left-style: none\n",
       "}\n",
       ".satom.R,.catom.R,.patom.R {\n",
       "    border-right-style: none\n",
       "}\n",
       ".tr,.tr a:visited,.tr a:link {\n",
       "    font-family: sans-serif;\n",
       "    font-size: large;\n",
       "    color: #000044;\n",
       "    direction: ltr;\n",
       "    text-decoration: none;\n",
       "}\n",
       ".trb,.trb a:visited,.trb a:link {\n",
       "    font-family: sans-serif;\n",
       "    font-size: large;\n",
       "    direction: ltr;\n",
       "    text-decoration: none;\n",
       "}\n",
       ".h,.h a:visited,.h a:link {\n",
       "    font-family: \"Ezra SIL\", \"SBL Hebrew\", sans-serif;\n",
       "    font-size: large;\n",
       "    color: #000044;\n",
       "    direction: rtl;\n",
       "    text-decoration: none;\n",
       "}\n",
       ".hb,.hb a:visited,.hb a:link {\n",
       "    font-family: \"Ezra SIL\", \"SBL Hebrew\", sans-serif;\n",
       "    font-size: large;\n",
       "    direction: rtl;\n",
       "    text-decoration: none;\n",
       "}\n",
       ".rela,.function,.typ {\n",
       "    font-family: monospace;\n",
       "    font-size: small;\n",
       "    color: #0000bb;\n",
       "}\n",
       ".pdp,.pdp a:visited,.pdp a:link {\n",
       "    font-family: monospace;\n",
       "    font-size: medium;\n",
       "    color: #0000bb;\n",
       "    text-decoration: none;\n",
       "}\n",
       ".voc_lex {\n",
       "    font-family: monospace;\n",
       "    font-size: medium;\n",
       "    color: #0000bb;\n",
       "}\n",
       ".vs {\n",
       "    font-family: monospace;\n",
       "    font-size: medium;\n",
       "    font-weight: bold;\n",
       "    color: #0000bb;\n",
       "}\n",
       ".vt {\n",
       "    font-family: monospace;\n",
       "    font-size: medium;\n",
       "    font-weight: bold;\n",
       "    color: #0000bb;\n",
       "}\n",
       ".gloss {\n",
       "    font-family: sans-serif;\n",
       "    font-size: small;\n",
       "    font-weight: normal;\n",
       "    color: #444444;\n",
       "}\n",
       ".vrs {\n",
       "    font-family: sans-serif;\n",
       "    font-size: small;\n",
       "    font-weight: bold;\n",
       "    color: #444444;\n",
       "}\n",
       ".nd {\n",
       "    font-family: monospace;\n",
       "    font-size: x-small;\n",
       "    color: #999999;\n",
       "}\n",
       ".features {\n",
       "    font-family: monospace;\n",
       "    font-size: medium;\n",
       "    font-weight: bold;\n",
       "    color: #0a6611;\n",
       "    display: flex;\n",
       "    flex-flow: column nowrap;\n",
       "    padding: 0.1em;\n",
       "    margin: 0.1em;\n",
       "    direction: ltr;\n",
       "}\n",
       ".features .f {\n",
       "    font-family: sans-serif;\n",
       "    font-size: x-small;\n",
       "    font-weight: normal;\n",
       "    color: #5555bb;\n",
       "}\n",
       ".word .features div,.word .features span {\n",
       "    padding: 0;\n",
       "    margin: -0.1rem 0;\n",
       "}\n",
       "\n",
       ".hl {\n",
       "    background-color: #ffee66;\n",
       "}\n",
       "</style>\n"
      ],
      "text/plain": [
       "<IPython.core.display.HTML object>"
      ]
     },
     "metadata": {},
     "output_type": "display_data"
    }
   ],
   "source": [
    "# ETCBC's BHSA data\n",
    "from tf.fabric import Fabric\n",
    "from tf.extra.bhsa import Bhsa\n",
    "\n",
    "# stats & data-containers\n",
    "import collections\n",
    "import pandas as pd\n",
    "import numpy as np\n",
    "import scipy.stats as stats\n",
    "\n",
    "# data visualizations\n",
    "import seaborn as sns\n",
    "sns.set(style=\"whitegrid\")\n",
    "import matplotlib.pyplot as plt\n",
    "\n",
    "# prep the data\n",
    "name = 'noun_semantics'\n",
    "hebrew_data = ['~/github/etcbc/{}/tf/c'.format(direc) for direc in ('bhsa','lingo/heads', 'phono')] # data dirs\n",
    "load_features = '''\n",
    "heads typ phono lex_utf8 freq_lex pdp sp ls\n",
    "''' \n",
    "\n",
    "# TF load statements\n",
    "TF = Fabric(locations=hebrew_data, silent=True)\n",
    "api = TF.load(load_features)\n",
    "B = Bhsa(api=api, hoist=globals(), silent=True, name=name) # Bhsa functions for search and visualizing text"
   ]
  },
  {
   "cell_type": "code",
   "execution_count": 2,
   "metadata": {},
   "outputs": [],
   "source": [
    "def reverse_hb(heb_text):\n",
    "    return ''.join(reversed(heb_text))"
   ]
  },
  {
   "cell_type": "markdown",
   "metadata": {},
   "source": [
    "## Define a Target Noun Set\n",
    "\n",
    "*Insert discussion about the semantic relationship between iconicity and frequency with regards to the most frequent noun lexemes in the HB.*\n",
    "\n",
    "*Also some discussion about Zipfian curves. "
   ]
  },
  {
   "cell_type": "code",
   "execution_count": 3,
   "metadata": {},
   "outputs": [
    {
     "name": "stdout",
     "output_type": "stream",
     "text": [
      "  0.11s 4076 results\n"
     ]
    }
   ],
   "source": [
    "search_set = 'lex sp=subs'\n",
    "\n",
    "all_nouns = B.search(search_set)"
   ]
  },
  {
   "cell_type": "markdown",
   "metadata": {},
   "source": [
    "### Plot the Nouns in Order of Frequency"
   ]
  },
  {
   "cell_type": "code",
   "execution_count": 10,
   "metadata": {},
   "outputs": [
    {
     "data": {
      "text/plain": [
       "[]"
      ]
     },
     "execution_count": 10,
     "metadata": {},
     "output_type": "execute_result"
    },
    {
     "data": {
      "image/png": "[encoded data removed]",
      "text/plain": [
       "<Figure size 864x432 with 1 Axes>"
      ]
     },
     "metadata": {
      "needs_background": "light"
     },
     "output_type": "display_data"
    }
   ],
   "source": [
    "ordered = sorted(((F.freq_lex.v(res[0]), res[0]) for res in all_nouns), reverse=True)\n",
    "y_freqs = [lex_data[0] for lex_data in ordered]\n",
    "x_count = [i+1 for i in range(0, len(y_freqs))]\n",
    "terms = [F.lex_utf8.v(L.d(lex_data[1], 'word')[0]) for lex_data in ordered]\n",
    "\n",
    "title = 'Noun Frequencies in the Hebrew Bible'\n",
    "xlabel = 'Rank'\n",
    "ylabel = 'Frequency'\n",
    "\n",
    "plt.figure(figsize=(12, 6))\n",
    "plt.plot(x_count, y_freqs)\n",
    "plt.title(title + f' (ranks 1-{len(x_count)})', size=18)\n",
    "plt.xlabel(xlabel, size=18)\n",
    "plt.ylabel(ylabel, size=18)\n",
    "plt.plot()"
   ]
  },
  {
   "cell_type": "code",
   "execution_count": 11,
   "metadata": {},
   "outputs": [
    {
     "data": {
      "text/plain": [
       "[]"
      ]
     },
     "execution_count": 11,
     "metadata": {},
     "output_type": "execute_result"
    },
    {
     "data": {
      "image/png": "[encoded data removed]",
      "text/plain": [
       "<Figure size 864x432 with 1 Axes>"
      ]
     },
     "metadata": {
      "needs_background": "light"
     },
     "output_type": "display_data"
    }
   ],
   "source": [
    "plt.figure(figsize=(12, 6))\n",
    "plt.plot(x_count[:300], y_freqs[:300])\n",
    "plt.title(title + f' (ranks 1-300)', size=18)\n",
    "plt.xlabel(xlabel, size=18)\n",
    "plt.ylabel(ylabel, size=18)\n",
    "plt.plot()"
   ]
  },
  {
   "cell_type": "markdown",
   "metadata": {},
   "source": [
    "This curve is typical of Zipf's law:\n",
    "\n",
    "> Zipf's law states that given some corpus of natural language utterances, the frequency of any word is inversely proportional to its rank in the frequency table ([wikipedia](https://en.wikipedia.org/wiki/Zipf%27s_law))\n",
    "\n",
    "The curve \"elbows\" at around rank 15, and the terms in ranks 1-50 show the sharpest drop-off in frequency. Between ranks 50-100 there is still an appreciable curve. The curve flattens out around rank 150. Thus, we decide an arbitrary cut-off point at rank 150.\n",
    "\n",
    "Below we have a look at the selected set and display the lexeme frequency. A key feature that we can examine alongside the terms is the ETCBC feature lexical set (`ls`). This feature gives us some rudimentary semantic information about the nouns and the way they are used. Note that some of these nouns are frequently used in adjectival or prepositional roles. These may ultimately be undesirable in the analysis set due to their primarily functional role. "
   ]
  },
  {
   "cell_type": "code",
   "execution_count": 57,
   "metadata": {},
   "outputs": [
    {
     "data": {
      "text/markdown": [
       "\n",
       "\n",
       "**Result** *1*\n",
       "\n"
      ],
      "text/plain": [
       "<IPython.core.display.Markdown object>"
      ]
     },
     "metadata": {},
     "output_type": "display_data"
    },
    {
     "data": {
      "text/html": [
       "<div class=\"outeritem\">\n",
       "<div class=\"lextp \" style=\"background-color: None;\">\n",
       "<div class=\"h\">כֹּל</div>\n",
       "<div class=\"features\"> <span class=\"voc_lex\"><a target=\"_blank\" href=\"https://shebanq.ancient-data.org/hebrew/word?version=c&id=1KLn\" title=\"show this lexeme in SHEBANQ\">K.OL</a></span> <span class=\"gloss\">whole</span> <span class=\"freq_lex\"><span class=\"f\">freq_lex=</span>5412</span> <span class=\"ls\"><span class=\"f\">ls=</span>nmdi</span></div>\n",
       "<div class=\"occs\"><a href=\"https://shebanq.ancient-data.org/hebrew/text?book=Genesis&chapter=1&verse=21&version=c&mr=m&qw=q&tp=txt_p&tr=hb&wget=v&qget=v&nget=vt\" title=\"show this passage in SHEBANQ\">Genesis 1:21</a> - <a href=\"https://shebanq.ancient-data.org/hebrew/text?book=Chronica_II&chapter=36&verse=23&version=c&mr=m&qw=q&tp=txt_p&tr=hb&wget=v&qget=v&nget=vt\" title=\"show this passage in SHEBANQ\">2_Chronicles 36:23</a></div>\n",
       "\n",
       "</div>\n",
       "\n",
       "</div>"
      ],
      "text/plain": [
       "<IPython.core.display.HTML object>"
      ]
     },
     "metadata": {},
     "output_type": "display_data"
    },
    {
     "data": {
      "text/markdown": [
       "\n",
       "\n",
       "**Result** *2*\n",
       "\n"
      ],
      "text/plain": [
       "<IPython.core.display.Markdown object>"
      ]
     },
     "metadata": {},
     "output_type": "display_data"
    },
    {
     "data": {
      "text/html": [
       "<div class=\"outeritem\">\n",
       "<div class=\"lextp \" style=\"background-color: None;\">\n",
       "<div class=\"h\">בֵּן</div>\n",
       "<div class=\"features\"> <span class=\"voc_lex\"><a target=\"_blank\" href=\"https://shebanq.ancient-data.org/hebrew/word?version=c&id=1BNn\" title=\"show this lexeme in SHEBANQ\">B.;N</a></span> <span class=\"gloss\">son</span> <span class=\"freq_lex\"><span class=\"f\">freq_lex=</span>4937</span></div>\n",
       "<div class=\"occs\"><a href=\"https://shebanq.ancient-data.org/hebrew/text?book=Genesis&chapter=3&verse=16&version=c&mr=m&qw=q&tp=txt_p&tr=hb&wget=v&qget=v&nget=vt\" title=\"show this passage in SHEBANQ\">Genesis 3:16</a> - <a href=\"https://shebanq.ancient-data.org/hebrew/text?book=Chronica_II&chapter=36&verse=20&version=c&mr=m&qw=q&tp=txt_p&tr=hb&wget=v&qget=v&nget=vt\" title=\"show this passage in SHEBANQ\">2_Chronicles 36:20</a></div>\n",
       "\n",
       "</div>\n",
       "\n",
       "</div>"
      ],
      "text/plain": [
       "<IPython.core.display.HTML object>"
      ]
     },
     "metadata": {},
     "output_type": "display_data"
    },
    {
     "data": {
      "text/markdown": [
       "\n",
       "\n",
       "**Result** *3*\n",
       "\n"
      ],
      "text/plain": [
       "<IPython.core.display.Markdown object>"
      ]
     },
     "metadata": {},
     "output_type": "display_data"
    },
    {
     "data": {
      "text/html": [
       "<div class=\"outeritem\">\n",
       "<div class=\"lextp \" style=\"background-color: None;\">\n",
       "<div class=\"h\">אֱלֹהִים</div>\n",
       "<div class=\"features\"> <span class=\"voc_lex\"><a target=\"_blank\" href=\"https://shebanq.ancient-data.org/hebrew/word?version=c&id=1ALHJMn\" title=\"show this lexeme in SHEBANQ\">>:ELOHIJM</a></span> <span class=\"gloss\">god(s)</span> <span class=\"freq_lex\"><span class=\"f\">freq_lex=</span>2601</span></div>\n",
       "<div class=\"occs\"><a href=\"https://shebanq.ancient-data.org/hebrew/text?book=Genesis&chapter=1&verse=1&version=c&mr=m&qw=q&tp=txt_p&tr=hb&wget=v&qget=v&nget=vt\" title=\"show this passage in SHEBANQ\">Genesis 1:1</a> - <a href=\"https://shebanq.ancient-data.org/hebrew/text?book=Chronica_II&chapter=36&verse=23&version=c&mr=m&qw=q&tp=txt_p&tr=hb&wget=v&qget=v&nget=vt\" title=\"show this passage in SHEBANQ\">2_Chronicles 36:23</a></div>\n",
       "\n",
       "</div>\n",
       "\n",
       "</div>"
      ],
      "text/plain": [
       "<IPython.core.display.HTML object>"
      ]
     },
     "metadata": {},
     "output_type": "display_data"
    },
    {
     "data": {
      "text/markdown": [
       "\n",
       "\n",
       "**Result** *4*\n",
       "\n"
      ],
      "text/plain": [
       "<IPython.core.display.Markdown object>"
      ]
     },
     "metadata": {},
     "output_type": "display_data"
    },
    {
     "data": {
      "text/html": [
       "<div class=\"outeritem\">\n",
       "<div class=\"lextp \" style=\"background-color: None;\">\n",
       "<div class=\"h\">מֶלֶךְ</div>\n",
       "<div class=\"features\"> <span class=\"voc_lex\"><a target=\"_blank\" href=\"https://shebanq.ancient-data.org/hebrew/word?version=c&id=1MLKn\" title=\"show this lexeme in SHEBANQ\">MELEK:</a></span> <span class=\"gloss\">king</span> <span class=\"freq_lex\"><span class=\"f\">freq_lex=</span>2523</span></div>\n",
       "<div class=\"occs\"><a href=\"https://shebanq.ancient-data.org/hebrew/text?book=Genesis&chapter=14&verse=1&version=c&mr=m&qw=q&tp=txt_p&tr=hb&wget=v&qget=v&nget=vt\" title=\"show this passage in SHEBANQ\">Genesis 14:1</a> - <a href=\"https://shebanq.ancient-data.org/hebrew/text?book=Chronica_II&chapter=36&verse=23&version=c&mr=m&qw=q&tp=txt_p&tr=hb&wget=v&qget=v&nget=vt\" title=\"show this passage in SHEBANQ\">2_Chronicles 36:23</a></div>\n",
       "\n",
       "</div>\n",
       "\n",
       "</div>"
      ],
      "text/plain": [
       "<IPython.core.display.HTML object>"
      ]
     },
     "metadata": {},
     "output_type": "display_data"
    },
    {
     "data": {
      "text/markdown": [
       "\n",
       "\n",
       "**Result** *5*\n",
       "\n"
      ],
      "text/plain": [
       "<IPython.core.display.Markdown object>"
      ]
     },
     "metadata": {},
     "output_type": "display_data"
    },
    {
     "data": {
      "text/html": [
       "<div class=\"outeritem\">\n",
       "<div class=\"lextp \" style=\"background-color: None;\">\n",
       "<div class=\"h\">אֶרֶץ</div>\n",
       "<div class=\"features\"> <span class=\"voc_lex\"><a target=\"_blank\" href=\"https://shebanq.ancient-data.org/hebrew/word?version=c&id=1ARYn\" title=\"show this lexeme in SHEBANQ\">>EREY</a></span> <span class=\"gloss\">earth</span> <span class=\"freq_lex\"><span class=\"f\">freq_lex=</span>2504</span></div>\n",
       "<div class=\"occs\"><a href=\"https://shebanq.ancient-data.org/hebrew/text?book=Genesis&chapter=1&verse=1&version=c&mr=m&qw=q&tp=txt_p&tr=hb&wget=v&qget=v&nget=vt\" title=\"show this passage in SHEBANQ\">Genesis 1:1</a> - <a href=\"https://shebanq.ancient-data.org/hebrew/text?book=Chronica_II&chapter=36&verse=23&version=c&mr=m&qw=q&tp=txt_p&tr=hb&wget=v&qget=v&nget=vt\" title=\"show this passage in SHEBANQ\">2_Chronicles 36:23</a></div>\n",
       "\n",
       "</div>\n",
       "\n",
       "</div>"
      ],
      "text/plain": [
       "<IPython.core.display.HTML object>"
      ]
     },
     "metadata": {},
     "output_type": "display_data"
    },
    {
     "data": {
      "text/markdown": [
       "\n",
       "\n",
       "**Result** *6*\n",
       "\n"
      ],
      "text/plain": [
       "<IPython.core.display.Markdown object>"
      ]
     },
     "metadata": {},
     "output_type": "display_data"
    },
    {
     "data": {
      "text/html": [
       "<div class=\"outeritem\">\n",
       "<div class=\"lextp \" style=\"background-color: None;\">\n",
       "<div class=\"h\">יֹום</div>\n",
       "<div class=\"features\"> <span class=\"voc_lex\"><a target=\"_blank\" href=\"https://shebanq.ancient-data.org/hebrew/word?version=c&id=1JWMn\" title=\"show this lexeme in SHEBANQ\">JOWM</a></span> <span class=\"gloss\">day</span> <span class=\"freq_lex\"><span class=\"f\">freq_lex=</span>2304</span> <span class=\"ls\"><span class=\"f\">ls=</span>padv</span></div>\n",
       "<div class=\"occs\"><a href=\"https://shebanq.ancient-data.org/hebrew/text?book=Genesis&chapter=1&verse=5&version=c&mr=m&qw=q&tp=txt_p&tr=hb&wget=v&qget=v&nget=vt\" title=\"show this passage in SHEBANQ\">Genesis 1:5</a> - <a href=\"https://shebanq.ancient-data.org/hebrew/text?book=Chronica_II&chapter=36&verse=21&version=c&mr=m&qw=q&tp=txt_p&tr=hb&wget=v&qget=v&nget=vt\" title=\"show this passage in SHEBANQ\">2_Chronicles 36:21</a></div>\n",
       "\n",
       "</div>\n",
       "\n",
       "</div>"
      ],
      "text/plain": [
       "<IPython.core.display.HTML object>"
      ]
     },
     "metadata": {},
     "output_type": "display_data"
    },
    {
     "data": {
      "text/markdown": [
       "\n",
       "\n",
       "**Result** *7*\n",
       "\n"
      ],
      "text/plain": [
       "<IPython.core.display.Markdown object>"
      ]
     },
     "metadata": {},
     "output_type": "display_data"
    },
    {
     "data": {
      "text/html": [
       "<div class=\"outeritem\">\n",
       "<div class=\"lextp \" style=\"background-color: None;\">\n",
       "<div class=\"h\">אִישׁ</div>\n",
       "<div class=\"features\"> <span class=\"voc_lex\"><a target=\"_blank\" href=\"https://shebanq.ancient-data.org/hebrew/word?version=c&id=1AJCn\" title=\"show this lexeme in SHEBANQ\">>IJC</a></span> <span class=\"gloss\">man</span> <span class=\"freq_lex\"><span class=\"f\">freq_lex=</span>2186</span> <span class=\"ls\"><span class=\"f\">ls=</span>nmdi</span></div>\n",
       "<div class=\"occs\"><a href=\"https://shebanq.ancient-data.org/hebrew/text?book=Genesis&chapter=2&verse=23&version=c&mr=m&qw=q&tp=txt_p&tr=hb&wget=v&qget=v&nget=vt\" title=\"show this passage in SHEBANQ\">Genesis 2:23</a> - <a href=\"https://shebanq.ancient-data.org/hebrew/text?book=Chronica_II&chapter=34&verse=30&version=c&mr=m&qw=q&tp=txt_p&tr=hb&wget=v&qget=v&nget=vt\" title=\"show this passage in SHEBANQ\">2_Chronicles 34:30</a></div>\n",
       "\n",
       "</div>\n",
       "\n",
       "</div>"
      ],
      "text/plain": [
       "<IPython.core.display.HTML object>"
      ]
     },
     "metadata": {},
     "output_type": "display_data"
    },
    {
     "data": {
      "text/markdown": [
       "\n",
       "\n",
       "**Result** *8*\n",
       "\n"
      ],
      "text/plain": [
       "<IPython.core.display.Markdown object>"
      ]
     },
     "metadata": {},
     "output_type": "display_data"
    },
    {
     "data": {
      "text/html": [
       "<div class=\"outeritem\">\n",
       "<div class=\"lextp \" style=\"background-color: None;\">\n",
       "<div class=\"h\">פָּנֶה</div>\n",
       "<div class=\"features\"> <span class=\"voc_lex\"><a target=\"_blank\" href=\"https://shebanq.ancient-data.org/hebrew/word?version=c&id=1PNHn\" title=\"show this lexeme in SHEBANQ\">P.@NEH</a></span> <span class=\"gloss\">face</span> <span class=\"freq_lex\"><span class=\"f\">freq_lex=</span>2127</span></div>\n",
       "<div class=\"occs\"><a href=\"https://shebanq.ancient-data.org/hebrew/text?book=Genesis&chapter=1&verse=2&version=c&mr=m&qw=q&tp=txt_p&tr=hb&wget=v&qget=v&nget=vt\" title=\"show this passage in SHEBANQ\">Genesis 1:2</a> - <a href=\"https://shebanq.ancient-data.org/hebrew/text?book=Chronica_II&chapter=36&verse=12&version=c&mr=m&qw=q&tp=txt_p&tr=hb&wget=v&qget=v&nget=vt\" title=\"show this passage in SHEBANQ\">2_Chronicles 36:12</a></div>\n",
       "\n",
       "</div>\n",
       "\n",
       "</div>"
      ],
      "text/plain": [
       "<IPython.core.display.HTML object>"
      ]
     },
     "metadata": {},
     "output_type": "display_data"
    },
    {
     "data": {
      "text/markdown": [
       "\n",
       "\n",
       "**Result** *9*\n",
       "\n"
      ],
      "text/plain": [
       "<IPython.core.display.Markdown object>"
      ]
     },
     "metadata": {},
     "output_type": "display_data"
    },
    {
     "data": {
      "text/html": [
       "<div class=\"outeritem\">\n",
       "<div class=\"lextp \" style=\"background-color: None;\">\n",
       "<div class=\"h\">בַּיִת</div>\n",
       "<div class=\"features\"> <span class=\"voc_lex\"><a target=\"_blank\" href=\"https://shebanq.ancient-data.org/hebrew/word?version=c&id=1BJTn\" title=\"show this lexeme in SHEBANQ\">B.AJIT</a></span> <span class=\"gloss\">house</span> <span class=\"freq_lex\"><span class=\"f\">freq_lex=</span>2063</span></div>\n",
       "<div class=\"occs\"><a href=\"https://shebanq.ancient-data.org/hebrew/text?book=Genesis&chapter=6&verse=14&version=c&mr=m&qw=q&tp=txt_p&tr=hb&wget=v&qget=v&nget=vt\" title=\"show this passage in SHEBANQ\">Genesis 6:14</a> - <a href=\"https://shebanq.ancient-data.org/hebrew/text?book=Chronica_II&chapter=36&verse=23&version=c&mr=m&qw=q&tp=txt_p&tr=hb&wget=v&qget=v&nget=vt\" title=\"show this passage in SHEBANQ\">2_Chronicles 36:23</a></div>\n",
       "\n",
       "</div>\n",
       "\n",
       "</div>"
      ],
      "text/plain": [
       "<IPython.core.display.HTML object>"
      ]
     },
     "metadata": {},
     "output_type": "display_data"
    },
    {
     "data": {
      "text/markdown": [
       "\n",
       "\n",
       "**Result** *10*\n",
       "\n"
      ],
      "text/plain": [
       "<IPython.core.display.Markdown object>"
      ]
     },
     "metadata": {},
     "output_type": "display_data"
    },
    {
     "data": {
      "text/html": [
       "<div class=\"outeritem\">\n",
       "<div class=\"lextp \" style=\"background-color: None;\">\n",
       "<div class=\"h\">עַם</div>\n",
       "<div class=\"features\"> <span class=\"voc_lex\"><a target=\"_blank\" href=\"https://shebanq.ancient-data.org/hebrew/word?version=c&id=1OMn\" title=\"show this lexeme in SHEBANQ\">&lt;AM</a></span> <span class=\"gloss\">people</span> <span class=\"freq_lex\"><span class=\"f\">freq_lex=</span>1866</span></div>\n",
       "<div class=\"occs\"><a href=\"https://shebanq.ancient-data.org/hebrew/text?book=Genesis&chapter=11&verse=6&version=c&mr=m&qw=q&tp=txt_p&tr=hb&wget=v&qget=v&nget=vt\" title=\"show this passage in SHEBANQ\">Genesis 11:6</a> - <a href=\"https://shebanq.ancient-data.org/hebrew/text?book=Chronica_II&chapter=36&verse=23&version=c&mr=m&qw=q&tp=txt_p&tr=hb&wget=v&qget=v&nget=vt\" title=\"show this passage in SHEBANQ\">2_Chronicles 36:23</a></div>\n",
       "\n",
       "</div>\n",
       "\n",
       "</div>"
      ],
      "text/plain": [
       "<IPython.core.display.HTML object>"
      ]
     },
     "metadata": {},
     "output_type": "display_data"
    },
    {
     "data": {
      "text/markdown": [
       "\n",
       "\n",
       "**Result** *11*\n",
       "\n"
      ],
      "text/plain": [
       "<IPython.core.display.Markdown object>"
      ]
     },
     "metadata": {},
     "output_type": "display_data"
    },
    {
     "data": {
      "text/html": [
       "<div class=\"outeritem\">\n",
       "<div class=\"lextp \" style=\"background-color: None;\">\n",
       "<div class=\"h\">יָד</div>\n",
       "<div class=\"features\"> <span class=\"voc_lex\"><a target=\"_blank\" href=\"https://shebanq.ancient-data.org/hebrew/word?version=c&id=1JDn\" title=\"show this lexeme in SHEBANQ\">J@D</a></span> <span class=\"gloss\">hand</span> <span class=\"freq_lex\"><span class=\"f\">freq_lex=</span>1618</span></div>\n",
       "<div class=\"occs\"><a href=\"https://shebanq.ancient-data.org/hebrew/text?book=Genesis&chapter=3&verse=22&version=c&mr=m&qw=q&tp=txt_p&tr=hb&wget=v&qget=v&nget=vt\" title=\"show this passage in SHEBANQ\">Genesis 3:22</a> - <a href=\"https://shebanq.ancient-data.org/hebrew/text?book=Chronica_II&chapter=36&verse=17&version=c&mr=m&qw=q&tp=txt_p&tr=hb&wget=v&qget=v&nget=vt\" title=\"show this passage in SHEBANQ\">2_Chronicles 36:17</a></div>\n",
       "\n",
       "</div>\n",
       "\n",
       "</div>"
      ],
      "text/plain": [
       "<IPython.core.display.HTML object>"
      ]
     },
     "metadata": {},
     "output_type": "display_data"
    },
    {
     "data": {
      "text/markdown": [
       "\n",
       "\n",
       "**Result** *12*\n",
       "\n"
      ],
      "text/plain": [
       "<IPython.core.display.Markdown object>"
      ]
     },
     "metadata": {},
     "output_type": "display_data"
    },
    {
     "data": {
      "text/html": [
       "<div class=\"outeritem\">\n",
       "<div class=\"lextp \" style=\"background-color: None;\">\n",
       "<div class=\"h\">דָּבָר</div>\n",
       "<div class=\"features\"> <span class=\"voc_lex\"><a target=\"_blank\" href=\"https://shebanq.ancient-data.org/hebrew/word?version=c&id=1DBRn\" title=\"show this lexeme in SHEBANQ\">D.@B@R</a></span> <span class=\"gloss\">word</span> <span class=\"freq_lex\"><span class=\"f\">freq_lex=</span>1441</span></div>\n",
       "<div class=\"occs\"><a href=\"https://shebanq.ancient-data.org/hebrew/text?book=Genesis&chapter=11&verse=1&version=c&mr=m&qw=q&tp=txt_p&tr=hb&wget=v&qget=v&nget=vt\" title=\"show this passage in SHEBANQ\">Genesis 11:1</a> - <a href=\"https://shebanq.ancient-data.org/hebrew/text?book=Chronica_II&chapter=36&verse=22&version=c&mr=m&qw=q&tp=txt_p&tr=hb&wget=v&qget=v&nget=vt\" title=\"show this passage in SHEBANQ\">2_Chronicles 36:22</a></div>\n",
       "\n",
       "</div>\n",
       "\n",
       "</div>"
      ],
      "text/plain": [
       "<IPython.core.display.HTML object>"
      ]
     },
     "metadata": {},
     "output_type": "display_data"
    },
    {
     "data": {
      "text/markdown": [
       "\n",
       "\n",
       "**Result** *13*\n",
       "\n"
      ],
      "text/plain": [
       "<IPython.core.display.Markdown object>"
      ]
     },
     "metadata": {},
     "output_type": "display_data"
    },
    {
     "data": {
      "text/html": [
       "<div class=\"outeritem\">\n",
       "<div class=\"lextp \" style=\"background-color: None;\">\n",
       "<div class=\"h\">אָב</div>\n",
       "<div class=\"features\"> <span class=\"voc_lex\"><a target=\"_blank\" href=\"https://shebanq.ancient-data.org/hebrew/word?version=c&id=1ABn\" title=\"show this lexeme in SHEBANQ\">>@B</a></span> <span class=\"gloss\">father</span> <span class=\"freq_lex\"><span class=\"f\">freq_lex=</span>1217</span></div>\n",
       "<div class=\"occs\"><a href=\"https://shebanq.ancient-data.org/hebrew/text?book=Genesis&chapter=2&verse=24&version=c&mr=m&qw=q&tp=txt_p&tr=hb&wget=v&qget=v&nget=vt\" title=\"show this passage in SHEBANQ\">Genesis 2:24</a> - <a href=\"https://shebanq.ancient-data.org/hebrew/text?book=Chronica_II&chapter=36&verse=15&version=c&mr=m&qw=q&tp=txt_p&tr=hb&wget=v&qget=v&nget=vt\" title=\"show this passage in SHEBANQ\">2_Chronicles 36:15</a></div>\n",
       "\n",
       "</div>\n",
       "\n",
       "</div>"
      ],
      "text/plain": [
       "<IPython.core.display.HTML object>"
      ]
     },
     "metadata": {},
     "output_type": "display_data"
    },
    {
     "data": {
      "text/markdown": [
       "\n",
       "\n",
       "**Result** *14*\n",
       "\n"
      ],
      "text/plain": [
       "<IPython.core.display.Markdown object>"
      ]
     },
     "metadata": {},
     "output_type": "display_data"
    },
    {
     "data": {
      "text/html": [
       "<div class=\"outeritem\">\n",
       "<div class=\"lextp \" style=\"background-color: None;\">\n",
       "<div class=\"h\">עִיר</div>\n",
       "<div class=\"features\"> <span class=\"voc_lex\"><a target=\"_blank\" href=\"https://shebanq.ancient-data.org/hebrew/word?version=c&id=1OJRn\" title=\"show this lexeme in SHEBANQ\">&lt;IJR</a></span> <span class=\"gloss\">town</span> <span class=\"freq_lex\"><span class=\"f\">freq_lex=</span>1090</span></div>\n",
       "<div class=\"occs\"><a href=\"https://shebanq.ancient-data.org/hebrew/text?book=Genesis&chapter=4&verse=17&version=c&mr=m&qw=q&tp=txt_p&tr=hb&wget=v&qget=v&nget=vt\" title=\"show this passage in SHEBANQ\">Genesis 4:17</a> - <a href=\"https://shebanq.ancient-data.org/hebrew/text?book=Chronica_II&chapter=34&verse=8&version=c&mr=m&qw=q&tp=txt_p&tr=hb&wget=v&qget=v&nget=vt\" title=\"show this passage in SHEBANQ\">2_Chronicles 34:8</a></div>\n",
       "\n",
       "</div>\n",
       "\n",
       "</div>"
      ],
      "text/plain": [
       "<IPython.core.display.HTML object>"
      ]
     },
     "metadata": {},
     "output_type": "display_data"
    },
    {
     "data": {
      "text/markdown": [
       "\n",
       "\n",
       "**Result** *15*\n",
       "\n"
      ],
      "text/plain": [
       "<IPython.core.display.Markdown object>"
      ]
     },
     "metadata": {},
     "output_type": "display_data"
    },
    {
     "data": {
      "text/html": [
       "<div class=\"outeritem\">\n",
       "<div class=\"lextp \" style=\"background-color: None;\">\n",
       "<div class=\"h\">אֶחָד</div>\n",
       "<div class=\"features\"> <span class=\"voc_lex\"><a target=\"_blank\" href=\"https://shebanq.ancient-data.org/hebrew/word?version=c&id=1AXDn\" title=\"show this lexeme in SHEBANQ\">>EX@D</a></span> <span class=\"gloss\">one</span> <span class=\"freq_lex\"><span class=\"f\">freq_lex=</span>970</span> <span class=\"ls\"><span class=\"f\">ls=</span>card</span></div>\n",
       "<div class=\"occs\"><a href=\"https://shebanq.ancient-data.org/hebrew/text?book=Genesis&chapter=1&verse=5&version=c&mr=m&qw=q&tp=txt_p&tr=hb&wget=v&qget=v&nget=vt\" title=\"show this passage in SHEBANQ\">Genesis 1:5</a> - <a href=\"https://shebanq.ancient-data.org/hebrew/text?book=Chronica_II&chapter=36&verse=22&version=c&mr=m&qw=q&tp=txt_p&tr=hb&wget=v&qget=v&nget=vt\" title=\"show this passage in SHEBANQ\">2_Chronicles 36:22</a></div>\n",
       "\n",
       "</div>\n",
       "\n",
       "</div>"
      ],
      "text/plain": [
       "<IPython.core.display.HTML object>"
      ]
     },
     "metadata": {},
     "output_type": "display_data"
    },
    {
     "data": {
      "text/markdown": [
       "\n",
       "\n",
       "**Result** *16*\n",
       "\n"
      ],
      "text/plain": [
       "<IPython.core.display.Markdown object>"
      ]
     },
     "metadata": {},
     "output_type": "display_data"
    },
    {
     "data": {
      "text/html": [
       "<div class=\"outeritem\">\n",
       "<div class=\"lextp \" style=\"background-color: None;\">\n",
       "<div class=\"h\">עַיִן</div>\n",
       "<div class=\"features\"> <span class=\"voc_lex\"><a target=\"_blank\" href=\"https://shebanq.ancient-data.org/hebrew/word?version=c&id=1OJNn\" title=\"show this lexeme in SHEBANQ\">&lt;AJIN</a></span> <span class=\"gloss\">eye</span> <span class=\"freq_lex\"><span class=\"f\">freq_lex=</span>887</span></div>\n",
       "<div class=\"occs\"><a href=\"https://shebanq.ancient-data.org/hebrew/text?book=Genesis&chapter=3&verse=5&version=c&mr=m&qw=q&tp=txt_p&tr=hb&wget=v&qget=v&nget=vt\" title=\"show this passage in SHEBANQ\">Genesis 3:5</a> - <a href=\"https://shebanq.ancient-data.org/hebrew/text?book=Chronica_II&chapter=36&verse=12&version=c&mr=m&qw=q&tp=txt_p&tr=hb&wget=v&qget=v&nget=vt\" title=\"show this passage in SHEBANQ\">2_Chronicles 36:12</a></div>\n",
       "\n",
       "</div>\n",
       "\n",
       "</div>"
      ],
      "text/plain": [
       "<IPython.core.display.HTML object>"
      ]
     },
     "metadata": {},
     "output_type": "display_data"
    },
    {
     "data": {
      "text/markdown": [
       "\n",
       "\n",
       "**Result** *17*\n",
       "\n"
      ],
      "text/plain": [
       "<IPython.core.display.Markdown object>"
      ]
     },
     "metadata": {},
     "output_type": "display_data"
    },
    {
     "data": {
      "text/html": [
       "<div class=\"outeritem\">\n",
       "<div class=\"lextp \" style=\"background-color: None;\">\n",
       "<div class=\"h\">שָׁנָה</div>\n",
       "<div class=\"features\"> <span class=\"voc_lex\"><a target=\"_blank\" href=\"https://shebanq.ancient-data.org/hebrew/word?version=c&id=1CNHn\" title=\"show this lexeme in SHEBANQ\">C@N@H</a></span> <span class=\"gloss\">year</span> <span class=\"freq_lex\"><span class=\"f\">freq_lex=</span>876</span></div>\n",
       "<div class=\"occs\"><a href=\"https://shebanq.ancient-data.org/hebrew/text?book=Genesis&chapter=1&verse=14&version=c&mr=m&qw=q&tp=txt_p&tr=hb&wget=v&qget=v&nget=vt\" title=\"show this passage in SHEBANQ\">Genesis 1:14</a> - <a href=\"https://shebanq.ancient-data.org/hebrew/text?book=Chronica_II&chapter=36&verse=22&version=c&mr=m&qw=q&tp=txt_p&tr=hb&wget=v&qget=v&nget=vt\" title=\"show this passage in SHEBANQ\">2_Chronicles 36:22</a></div>\n",
       "\n",
       "</div>\n",
       "\n",
       "</div>"
      ],
      "text/plain": [
       "<IPython.core.display.HTML object>"
      ]
     },
     "metadata": {},
     "output_type": "display_data"
    },
    {
     "data": {
      "text/markdown": [
       "\n",
       "\n",
       "**Result** *18*\n",
       "\n"
      ],
      "text/plain": [
       "<IPython.core.display.Markdown object>"
      ]
     },
     "metadata": {},
     "output_type": "display_data"
    },
    {
     "data": {
      "text/html": [
       "<div class=\"outeritem\">\n",
       "<div class=\"lextp \" style=\"background-color: None;\">\n",
       "<div class=\"h\">שֵׁם</div>\n",
       "<div class=\"features\"> <span class=\"voc_lex\"><a target=\"_blank\" href=\"https://shebanq.ancient-data.org/hebrew/word?version=c&id=1CMn\" title=\"show this lexeme in SHEBANQ\">C;M</a></span> <span class=\"gloss\">name</span> <span class=\"freq_lex\"><span class=\"f\">freq_lex=</span>864</span></div>\n",
       "<div class=\"occs\"><a href=\"https://shebanq.ancient-data.org/hebrew/text?book=Genesis&chapter=2&verse=11&version=c&mr=m&qw=q&tp=txt_p&tr=hb&wget=v&qget=v&nget=vt\" title=\"show this passage in SHEBANQ\">Genesis 2:11</a> - <a href=\"https://shebanq.ancient-data.org/hebrew/text?book=Chronica_II&chapter=36&verse=4&version=c&mr=m&qw=q&tp=txt_p&tr=hb&wget=v&qget=v&nget=vt\" title=\"show this passage in SHEBANQ\">2_Chronicles 36:4</a></div>\n",
       "\n",
       "</div>\n",
       "\n",
       "</div>"
      ],
      "text/plain": [
       "<IPython.core.display.HTML object>"
      ]
     },
     "metadata": {},
     "output_type": "display_data"
    },
    {
     "data": {
      "text/markdown": [
       "\n",
       "\n",
       "**Result** *19*\n",
       "\n"
      ],
      "text/plain": [
       "<IPython.core.display.Markdown object>"
      ]
     },
     "metadata": {},
     "output_type": "display_data"
    },
    {
     "data": {
      "text/html": [
       "<div class=\"outeritem\">\n",
       "<div class=\"lextp \" style=\"background-color: None;\">\n",
       "<div class=\"h\">עֶבֶד</div>\n",
       "<div class=\"features\"> <span class=\"voc_lex\"><a target=\"_blank\" href=\"https://shebanq.ancient-data.org/hebrew/word?version=c&id=1OBDn\" title=\"show this lexeme in SHEBANQ\">&lt;EBED</a></span> <span class=\"gloss\">servant</span> <span class=\"freq_lex\"><span class=\"f\">freq_lex=</span>800</span></div>\n",
       "<div class=\"occs\"><a href=\"https://shebanq.ancient-data.org/hebrew/text?book=Genesis&chapter=9&verse=25&version=c&mr=m&qw=q&tp=txt_p&tr=hb&wget=v&qget=v&nget=vt\" title=\"show this passage in SHEBANQ\">Genesis 9:25</a> - <a href=\"https://shebanq.ancient-data.org/hebrew/text?book=Chronica_II&chapter=36&verse=20&version=c&mr=m&qw=q&tp=txt_p&tr=hb&wget=v&qget=v&nget=vt\" title=\"show this passage in SHEBANQ\">2_Chronicles 36:20</a></div>\n",
       "\n",
       "</div>\n",
       "\n",
       "</div>"
      ],
      "text/plain": [
       "<IPython.core.display.HTML object>"
      ]
     },
     "metadata": {},
     "output_type": "display_data"
    },
    {
     "data": {
      "text/markdown": [
       "\n",
       "\n",
       "**Result** *20*\n",
       "\n"
      ],
      "text/plain": [
       "<IPython.core.display.Markdown object>"
      ]
     },
     "metadata": {},
     "output_type": "display_data"
    },
    {
     "data": {
      "text/html": [
       "<div class=\"outeritem\">\n",
       "<div class=\"lextp \" style=\"background-color: None;\">\n",
       "<div class=\"h\">אַיִן</div>\n",
       "<div class=\"features\"> <span class=\"voc_lex\"><a target=\"_blank\" href=\"https://shebanq.ancient-data.org/hebrew/word?version=c&id=1AJNn\" title=\"show this lexeme in SHEBANQ\">>AJIN</a></span> <span class=\"gloss\">&lt;NEG></span> <span class=\"freq_lex\"><span class=\"f\">freq_lex=</span>788</span> <span class=\"ls\"><span class=\"f\">ls=</span>nmcp</span></div>\n",
       "<div class=\"occs\"><a href=\"https://shebanq.ancient-data.org/hebrew/text?book=Genesis&chapter=2&verse=5&version=c&mr=m&qw=q&tp=txt_p&tr=hb&wget=v&qget=v&nget=vt\" title=\"show this passage in SHEBANQ\">Genesis 2:5</a> - <a href=\"https://shebanq.ancient-data.org/hebrew/text?book=Chronica_II&chapter=36&verse=16&version=c&mr=m&qw=q&tp=txt_p&tr=hb&wget=v&qget=v&nget=vt\" title=\"show this passage in SHEBANQ\">2_Chronicles 36:16</a></div>\n",
       "\n",
       "</div>\n",
       "\n",
       "</div>"
      ],
      "text/plain": [
       "<IPython.core.display.HTML object>"
      ]
     },
     "metadata": {},
     "output_type": "display_data"
    },
    {
     "data": {
      "text/markdown": [
       "\n",
       "\n",
       "**Result** *21*\n",
       "\n"
      ],
      "text/plain": [
       "<IPython.core.display.Markdown object>"
      ]
     },
     "metadata": {},
     "output_type": "display_data"
    },
    {
     "data": {
      "text/html": [
       "<div class=\"outeritem\">\n",
       "<div class=\"lextp \" style=\"background-color: None;\">\n",
       "<div class=\"h\">אִשָּׁה</div>\n",
       "<div class=\"features\"> <span class=\"voc_lex\"><a target=\"_blank\" href=\"https://shebanq.ancient-data.org/hebrew/word?version=c&id=1ACHn\" title=\"show this lexeme in SHEBANQ\">>IC.@H</a></span> <span class=\"gloss\">woman</span> <span class=\"freq_lex\"><span class=\"f\">freq_lex=</span>781</span> <span class=\"ls\"><span class=\"f\">ls=</span>nmdi</span></div>\n",
       "<div class=\"occs\"><a href=\"https://shebanq.ancient-data.org/hebrew/text?book=Genesis&chapter=2&verse=22&version=c&mr=m&qw=q&tp=txt_p&tr=hb&wget=v&qget=v&nget=vt\" title=\"show this passage in SHEBANQ\">Genesis 2:22</a> - <a href=\"https://shebanq.ancient-data.org/hebrew/text?book=Chronica_II&chapter=34&verse=22&version=c&mr=m&qw=q&tp=txt_p&tr=hb&wget=v&qget=v&nget=vt\" title=\"show this passage in SHEBANQ\">2_Chronicles 34:22</a></div>\n",
       "\n",
       "</div>\n",
       "\n",
       "</div>"
      ],
      "text/plain": [
       "<IPython.core.display.HTML object>"
      ]
     },
     "metadata": {},
     "output_type": "display_data"
    },
    {
     "data": {
      "text/markdown": [
       "\n",
       "\n",
       "**Result** *22*\n",
       "\n"
      ],
      "text/plain": [
       "<IPython.core.display.Markdown object>"
      ]
     },
     "metadata": {},
     "output_type": "display_data"
    },
    {
     "data": {
      "text/html": [
       "<div class=\"outeritem\">\n",
       "<div class=\"lextp \" style=\"background-color: None;\">\n",
       "<div class=\"h\">שְׁנַיִם</div>\n",
       "<div class=\"features\"> <span class=\"voc_lex\"><a target=\"_blank\" href=\"https://shebanq.ancient-data.org/hebrew/word?version=c&id=1CNJMn\" title=\"show this lexeme in SHEBANQ\">C:NAJIM</a></span> <span class=\"gloss\">two</span> <span class=\"freq_lex\"><span class=\"f\">freq_lex=</span>768</span> <span class=\"ls\"><span class=\"f\">ls=</span>card</span></div>\n",
       "<div class=\"occs\"><a href=\"https://shebanq.ancient-data.org/hebrew/text?book=Genesis&chapter=1&verse=16&version=c&mr=m&qw=q&tp=txt_p&tr=hb&wget=v&qget=v&nget=vt\" title=\"show this passage in SHEBANQ\">Genesis 1:16</a> - <a href=\"https://shebanq.ancient-data.org/hebrew/text?book=Chronica_II&chapter=34&verse=3&version=c&mr=m&qw=q&tp=txt_p&tr=hb&wget=v&qget=v&nget=vt\" title=\"show this passage in SHEBANQ\">2_Chronicles 34:3</a></div>\n",
       "\n",
       "</div>\n",
       "\n",
       "</div>"
      ],
      "text/plain": [
       "<IPython.core.display.HTML object>"
      ]
     },
     "metadata": {},
     "output_type": "display_data"
    },
    {
     "data": {
      "text/markdown": [
       "\n",
       "\n",
       "**Result** *23*\n",
       "\n"
      ],
      "text/plain": [
       "<IPython.core.display.Markdown object>"
      ]
     },
     "metadata": {},
     "output_type": "display_data"
    },
    {
     "data": {
      "text/html": [
       "<div class=\"outeritem\">\n",
       "<div class=\"lextp \" style=\"background-color: None;\">\n",
       "<div class=\"h\">נֶפֶשׁ</div>\n",
       "<div class=\"features\"> <span class=\"voc_lex\"><a target=\"_blank\" href=\"https://shebanq.ancient-data.org/hebrew/word?version=c&id=1NPCn\" title=\"show this lexeme in SHEBANQ\">NEPEC</a></span> <span class=\"gloss\">soul</span> <span class=\"freq_lex\"><span class=\"f\">freq_lex=</span>754</span></div>\n",
       "<div class=\"occs\"><a href=\"https://shebanq.ancient-data.org/hebrew/text?book=Genesis&chapter=1&verse=20&version=c&mr=m&qw=q&tp=txt_p&tr=hb&wget=v&qget=v&nget=vt\" title=\"show this passage in SHEBANQ\">Genesis 1:20</a> - <a href=\"https://shebanq.ancient-data.org/hebrew/text?book=Chronica_II&chapter=34&verse=31&version=c&mr=m&qw=q&tp=txt_p&tr=hb&wget=v&qget=v&nget=vt\" title=\"show this passage in SHEBANQ\">2_Chronicles 34:31</a></div>\n",
       "\n",
       "</div>\n",
       "\n",
       "</div>"
      ],
      "text/plain": [
       "<IPython.core.display.HTML object>"
      ]
     },
     "metadata": {},
     "output_type": "display_data"
    },
    {
     "data": {
      "text/markdown": [
       "\n",
       "\n",
       "**Result** *24*\n",
       "\n"
      ],
      "text/plain": [
       "<IPython.core.display.Markdown object>"
      ]
     },
     "metadata": {},
     "output_type": "display_data"
    },
    {
     "data": {
      "text/html": [
       "<div class=\"outeritem\">\n",
       "<div class=\"lextp \" style=\"background-color: None;\">\n",
       "<div class=\"h\">כֹּהֵן</div>\n",
       "<div class=\"features\"> <span class=\"voc_lex\"><a target=\"_blank\" href=\"https://shebanq.ancient-data.org/hebrew/word?version=c&id=1KHNn\" title=\"show this lexeme in SHEBANQ\">K.OH;N</a></span> <span class=\"gloss\">priest</span> <span class=\"freq_lex\"><span class=\"f\">freq_lex=</span>750</span></div>\n",
       "<div class=\"occs\"><a href=\"https://shebanq.ancient-data.org/hebrew/text?book=Genesis&chapter=14&verse=18&version=c&mr=m&qw=q&tp=txt_p&tr=hb&wget=v&qget=v&nget=vt\" title=\"show this passage in SHEBANQ\">Genesis 14:18</a> - <a href=\"https://shebanq.ancient-data.org/hebrew/text?book=Chronica_II&chapter=36&verse=14&version=c&mr=m&qw=q&tp=txt_p&tr=hb&wget=v&qget=v&nget=vt\" title=\"show this passage in SHEBANQ\">2_Chronicles 36:14</a></div>\n",
       "\n",
       "</div>\n",
       "\n",
       "</div>"
      ],
      "text/plain": [
       "<IPython.core.display.HTML object>"
      ]
     },
     "metadata": {},
     "output_type": "display_data"
    },
    {
     "data": {
      "text/markdown": [
       "\n",
       "\n",
       "**Result** *25*\n",
       "\n"
      ],
      "text/plain": [
       "<IPython.core.display.Markdown object>"
      ]
     },
     "metadata": {},
     "output_type": "display_data"
    },
    {
     "data": {
      "text/html": [
       "<div class=\"outeritem\">\n",
       "<div class=\"lextp \" style=\"background-color: None;\">\n",
       "<div class=\"h\">אַחַר</div>\n",
       "<div class=\"features\"> <span class=\"voc_lex\"><a target=\"_blank\" href=\"https://shebanq.ancient-data.org/hebrew/word?version=c&id=1AXRn\" title=\"show this lexeme in SHEBANQ\">>AXAR</a></span> <span class=\"gloss\">after</span> <span class=\"freq_lex\"><span class=\"f\">freq_lex=</span>715</span> <span class=\"ls\"><span class=\"f\">ls=</span>ppre</span></div>\n",
       "<div class=\"occs\"><a href=\"https://shebanq.ancient-data.org/hebrew/text?book=Genesis&chapter=5&verse=4&version=c&mr=m&qw=q&tp=txt_p&tr=hb&wget=v&qget=v&nget=vt\" title=\"show this passage in SHEBANQ\">Genesis 5:4</a> - <a href=\"https://shebanq.ancient-data.org/hebrew/text?book=Chronica_II&chapter=35&verse=20&version=c&mr=m&qw=q&tp=txt_p&tr=hb&wget=v&qget=v&nget=vt\" title=\"show this passage in SHEBANQ\">2_Chronicles 35:20</a></div>\n",
       "\n",
       "</div>\n",
       "\n",
       "</div>"
      ],
      "text/plain": [
       "<IPython.core.display.HTML object>"
      ]
     },
     "metadata": {},
     "output_type": "display_data"
    },
    {
     "data": {
      "text/markdown": [
       "\n",
       "\n",
       "**Result** *26*\n",
       "\n"
      ],
      "text/plain": [
       "<IPython.core.display.Markdown object>"
      ]
     },
     "metadata": {},
     "output_type": "display_data"
    },
    {
     "data": {
      "text/html": [
       "<div class=\"outeritem\">\n",
       "<div class=\"lextp \" style=\"background-color: None;\">\n",
       "<div class=\"h\">דֶּרֶךְ</div>\n",
       "<div class=\"features\"> <span class=\"voc_lex\"><a target=\"_blank\" href=\"https://shebanq.ancient-data.org/hebrew/word?version=c&id=1DRKn\" title=\"show this lexeme in SHEBANQ\">D.EREK:</a></span> <span class=\"gloss\">way</span> <span class=\"freq_lex\"><span class=\"f\">freq_lex=</span>706</span> <span class=\"ls\"><span class=\"f\">ls=</span>ppre</span></div>\n",
       "<div class=\"occs\"><a href=\"https://shebanq.ancient-data.org/hebrew/text?book=Genesis&chapter=3&verse=24&version=c&mr=m&qw=q&tp=txt_p&tr=hb&wget=v&qget=v&nget=vt\" title=\"show this passage in SHEBANQ\">Genesis 3:24</a> - <a href=\"https://shebanq.ancient-data.org/hebrew/text?book=Chronica_II&chapter=34&verse=2&version=c&mr=m&qw=q&tp=txt_p&tr=hb&wget=v&qget=v&nget=vt\" title=\"show this passage in SHEBANQ\">2_Chronicles 34:2</a></div>\n",
       "\n",
       "</div>\n",
       "\n",
       "</div>"
      ],
      "text/plain": [
       "<IPython.core.display.HTML object>"
      ]
     },
     "metadata": {},
     "output_type": "display_data"
    },
    {
     "data": {
      "text/markdown": [
       "\n",
       "\n",
       "**Result** *27*\n",
       "\n"
      ],
      "text/plain": [
       "<IPython.core.display.Markdown object>"
      ]
     },
     "metadata": {},
     "output_type": "display_data"
    },
    {
     "data": {
      "text/html": [
       "<div class=\"outeritem\">\n",
       "<div class=\"lextp \" style=\"background-color: None;\">\n",
       "<div class=\"h\">אָח</div>\n",
       "<div class=\"features\"> <span class=\"voc_lex\"><a target=\"_blank\" href=\"https://shebanq.ancient-data.org/hebrew/word?version=c&id=1AXn\" title=\"show this lexeme in SHEBANQ\">>@X</a></span> <span class=\"gloss\">brother</span> <span class=\"freq_lex\"><span class=\"f\">freq_lex=</span>629</span> <span class=\"ls\"><span class=\"f\">ls=</span>nmdi</span></div>\n",
       "<div class=\"occs\"><a href=\"https://shebanq.ancient-data.org/hebrew/text?book=Genesis&chapter=4&verse=2&version=c&mr=m&qw=q&tp=txt_p&tr=hb&wget=v&qget=v&nget=vt\" title=\"show this passage in SHEBANQ\">Genesis 4:2</a> - <a href=\"https://shebanq.ancient-data.org/hebrew/text?book=Chronica_II&chapter=36&verse=10&version=c&mr=m&qw=q&tp=txt_p&tr=hb&wget=v&qget=v&nget=vt\" title=\"show this passage in SHEBANQ\">2_Chronicles 36:10</a></div>\n",
       "\n",
       "</div>\n",
       "\n",
       "</div>"
      ],
      "text/plain": [
       "<IPython.core.display.HTML object>"
      ]
     },
     "metadata": {},
     "output_type": "display_data"
    },
    {
     "data": {
      "text/markdown": [
       "\n",
       "\n",
       "**Result** *28*\n",
       "\n"
      ],
      "text/plain": [
       "<IPython.core.display.Markdown object>"
      ]
     },
     "metadata": {},
     "output_type": "display_data"
    },
    {
     "data": {
      "text/html": [
       "<div class=\"outeritem\">\n",
       "<div class=\"lextp \" style=\"background-color: None;\">\n",
       "<div class=\"h\">שָׁלֹשׁ</div>\n",
       "<div class=\"features\"> <span class=\"voc_lex\"><a target=\"_blank\" href=\"https://shebanq.ancient-data.org/hebrew/word?version=c&id=1CLCn\" title=\"show this lexeme in SHEBANQ\">C@LOC</a></span> <span class=\"gloss\">three</span> <span class=\"freq_lex\"><span class=\"f\">freq_lex=</span>602</span> <span class=\"ls\"><span class=\"f\">ls=</span>card</span></div>\n",
       "<div class=\"occs\"><a href=\"https://shebanq.ancient-data.org/hebrew/text?book=Genesis&chapter=5&verse=3&version=c&mr=m&qw=q&tp=txt_p&tr=hb&wget=v&qget=v&nget=vt\" title=\"show this passage in SHEBANQ\">Genesis 5:3</a> - <a href=\"https://shebanq.ancient-data.org/hebrew/text?book=Chronica_II&chapter=36&verse=9&version=c&mr=m&qw=q&tp=txt_p&tr=hb&wget=v&qget=v&nget=vt\" title=\"show this passage in SHEBANQ\">2_Chronicles 36:9</a></div>\n",
       "\n",
       "</div>\n",
       "\n",
       "</div>"
      ],
      "text/plain": [
       "<IPython.core.display.HTML object>"
      ]
     },
     "metadata": {},
     "output_type": "display_data"
    },
    {
     "data": {
      "text/markdown": [
       "\n",
       "\n",
       "**Result** *29*\n",
       "\n"
      ],
      "text/plain": [
       "<IPython.core.display.Markdown object>"
      ]
     },
     "metadata": {},
     "output_type": "display_data"
    },
    {
     "data": {
      "text/html": [
       "<div class=\"outeritem\">\n",
       "<div class=\"lextp \" style=\"background-color: None;\">\n",
       "<div class=\"h\">לֵב</div>\n",
       "<div class=\"features\"> <span class=\"voc_lex\"><a target=\"_blank\" href=\"https://shebanq.ancient-data.org/hebrew/word?version=c&id=1LBn\" title=\"show this lexeme in SHEBANQ\">L;B</a></span> <span class=\"gloss\">heart</span> <span class=\"freq_lex\"><span class=\"f\">freq_lex=</span>601</span></div>\n",
       "<div class=\"occs\"><a href=\"https://shebanq.ancient-data.org/hebrew/text?book=Genesis&chapter=6&verse=5&version=c&mr=m&qw=q&tp=txt_p&tr=hb&wget=v&qget=v&nget=vt\" title=\"show this passage in SHEBANQ\">Genesis 6:5</a> - <a href=\"https://shebanq.ancient-data.org/hebrew/text?book=Chronica_II&chapter=32&verse=26&version=c&mr=m&qw=q&tp=txt_p&tr=hb&wget=v&qget=v&nget=vt\" title=\"show this passage in SHEBANQ\">2_Chronicles 32:26</a></div>\n",
       "\n",
       "</div>\n",
       "\n",
       "</div>"
      ],
      "text/plain": [
       "<IPython.core.display.HTML object>"
      ]
     },
     "metadata": {},
     "output_type": "display_data"
    },
    {
     "data": {
      "text/markdown": [
       "\n",
       "\n",
       "**Result** *30*\n",
       "\n"
      ],
      "text/plain": [
       "<IPython.core.display.Markdown object>"
      ]
     },
     "metadata": {},
     "output_type": "display_data"
    },
    {
     "data": {
      "text/html": [
       "<div class=\"outeritem\">\n",
       "<div class=\"lextp \" style=\"background-color: None;\">\n",
       "<div class=\"h\">רֹאשׁ</div>\n",
       "<div class=\"features\"> <span class=\"voc_lex\"><a target=\"_blank\" href=\"https://shebanq.ancient-data.org/hebrew/word?version=c&id=1RACn\" title=\"show this lexeme in SHEBANQ\">RO>C</a></span> <span class=\"gloss\">head</span> <span class=\"freq_lex\"><span class=\"f\">freq_lex=</span>599</span></div>\n",
       "<div class=\"occs\"><a href=\"https://shebanq.ancient-data.org/hebrew/text?book=Genesis&chapter=2&verse=10&version=c&mr=m&qw=q&tp=txt_p&tr=hb&wget=v&qget=v&nget=vt\" title=\"show this passage in SHEBANQ\">Genesis 2:10</a> - <a href=\"https://shebanq.ancient-data.org/hebrew/text?book=Chronica_II&chapter=31&verse=10&version=c&mr=m&qw=q&tp=txt_p&tr=hb&wget=v&qget=v&nget=vt\" title=\"show this passage in SHEBANQ\">2_Chronicles 31:10</a></div>\n",
       "\n",
       "</div>\n",
       "\n",
       "</div>"
      ],
      "text/plain": [
       "<IPython.core.display.HTML object>"
      ]
     },
     "metadata": {},
     "output_type": "display_data"
    },
    {
     "data": {
      "text/markdown": [
       "\n",
       "\n",
       "**Result** *31*\n",
       "\n"
      ],
      "text/plain": [
       "<IPython.core.display.Markdown object>"
      ]
     },
     "metadata": {},
     "output_type": "display_data"
    },
    {
     "data": {
      "text/html": [
       "<div class=\"outeritem\">\n",
       "<div class=\"lextp \" style=\"background-color: None;\">\n",
       "<div class=\"h\">בַּת</div>\n",
       "<div class=\"features\"> <span class=\"voc_lex\"><a target=\"_blank\" href=\"https://shebanq.ancient-data.org/hebrew/word?version=c&id=1BTn\" title=\"show this lexeme in SHEBANQ\">B.AT</a></span> <span class=\"gloss\">daughter</span> <span class=\"freq_lex\"><span class=\"f\">freq_lex=</span>588</span></div>\n",
       "<div class=\"occs\"><a href=\"https://shebanq.ancient-data.org/hebrew/text?book=Genesis&chapter=5&verse=4&version=c&mr=m&qw=q&tp=txt_p&tr=hb&wget=v&qget=v&nget=vt\" title=\"show this passage in SHEBANQ\">Genesis 5:4</a> - <a href=\"https://shebanq.ancient-data.org/hebrew/text?book=Chronica_II&chapter=31&verse=18&version=c&mr=m&qw=q&tp=txt_p&tr=hb&wget=v&qget=v&nget=vt\" title=\"show this passage in SHEBANQ\">2_Chronicles 31:18</a></div>\n",
       "\n",
       "</div>\n",
       "\n",
       "</div>"
      ],
      "text/plain": [
       "<IPython.core.display.HTML object>"
      ]
     },
     "metadata": {},
     "output_type": "display_data"
    },
    {
     "data": {
      "text/markdown": [
       "\n",
       "\n",
       "**Result** *32*\n",
       "\n"
      ],
      "text/plain": [
       "<IPython.core.display.Markdown object>"
      ]
     },
     "metadata": {},
     "output_type": "display_data"
    },
    {
     "data": {
      "text/html": [
       "<div class=\"outeritem\">\n",
       "<div class=\"lextp \" style=\"background-color: None;\">\n",
       "<div class=\"h\">מַיִם</div>\n",
       "<div class=\"features\"> <span class=\"voc_lex\"><a target=\"_blank\" href=\"https://shebanq.ancient-data.org/hebrew/word?version=c&id=1MJMn\" title=\"show this lexeme in SHEBANQ\">MAJIM</a></span> <span class=\"gloss\">water</span> <span class=\"freq_lex\"><span class=\"f\">freq_lex=</span>582</span></div>\n",
       "<div class=\"occs\"><a href=\"https://shebanq.ancient-data.org/hebrew/text?book=Genesis&chapter=1&verse=2&version=c&mr=m&qw=q&tp=txt_p&tr=hb&wget=v&qget=v&nget=vt\" title=\"show this passage in SHEBANQ\">Genesis 1:2</a> - <a href=\"https://shebanq.ancient-data.org/hebrew/text?book=Chronica_II&chapter=32&verse=30&version=c&mr=m&qw=q&tp=txt_p&tr=hb&wget=v&qget=v&nget=vt\" title=\"show this passage in SHEBANQ\">2_Chronicles 32:30</a></div>\n",
       "\n",
       "</div>\n",
       "\n",
       "</div>"
      ],
      "text/plain": [
       "<IPython.core.display.HTML object>"
      ]
     },
     "metadata": {},
     "output_type": "display_data"
    },
    {
     "data": {
      "text/markdown": [
       "\n",
       "\n",
       "**Result** *33*\n",
       "\n"
      ],
      "text/plain": [
       "<IPython.core.display.Markdown object>"
      ]
     },
     "metadata": {},
     "output_type": "display_data"
    },
    {
     "data": {
      "text/html": [
       "<div class=\"outeritem\">\n",
       "<div class=\"lextp \" style=\"background-color: None;\">\n",
       "<div class=\"h\">מֵאָה</div>\n",
       "<div class=\"features\"> <span class=\"voc_lex\"><a target=\"_blank\" href=\"https://shebanq.ancient-data.org/hebrew/word?version=c&id=1MAHn\" title=\"show this lexeme in SHEBANQ\">M;>@H</a></span> <span class=\"gloss\">hundred</span> <span class=\"freq_lex\"><span class=\"f\">freq_lex=</span>579</span> <span class=\"ls\"><span class=\"f\">ls=</span>card</span></div>\n",
       "<div class=\"occs\"><a href=\"https://shebanq.ancient-data.org/hebrew/text?book=Genesis&chapter=5&verse=3&version=c&mr=m&qw=q&tp=txt_p&tr=hb&wget=v&qget=v&nget=vt\" title=\"show this passage in SHEBANQ\">Genesis 5:3</a> - <a href=\"https://shebanq.ancient-data.org/hebrew/text?book=Chronica_II&chapter=36&verse=3&version=c&mr=m&qw=q&tp=txt_p&tr=hb&wget=v&qget=v&nget=vt\" title=\"show this passage in SHEBANQ\">2_Chronicles 36:3</a></div>\n",
       "\n",
       "</div>\n",
       "\n",
       "</div>"
      ],
      "text/plain": [
       "<IPython.core.display.HTML object>"
      ]
     },
     "metadata": {},
     "output_type": "display_data"
    },
    {
     "data": {
      "text/markdown": [
       "\n",
       "\n",
       "**Result** *34*\n",
       "\n"
      ],
      "text/plain": [
       "<IPython.core.display.Markdown object>"
      ]
     },
     "metadata": {},
     "output_type": "display_data"
    },
    {
     "data": {
      "text/html": [
       "<div class=\"outeritem\">\n",
       "<div class=\"lextp \" style=\"background-color: None;\">\n",
       "<div class=\"h\">הַר</div>\n",
       "<div class=\"features\"> <span class=\"voc_lex\"><a target=\"_blank\" href=\"https://shebanq.ancient-data.org/hebrew/word?version=c&id=1HRn\" title=\"show this lexeme in SHEBANQ\">HAR</a></span> <span class=\"gloss\">mountain</span> <span class=\"freq_lex\"><span class=\"f\">freq_lex=</span>558</span></div>\n",
       "<div class=\"occs\"><a href=\"https://shebanq.ancient-data.org/hebrew/text?book=Genesis&chapter=7&verse=19&version=c&mr=m&qw=q&tp=txt_p&tr=hb&wget=v&qget=v&nget=vt\" title=\"show this passage in SHEBANQ\">Genesis 7:19</a> - <a href=\"https://shebanq.ancient-data.org/hebrew/text?book=Chronica_II&chapter=33&verse=15&version=c&mr=m&qw=q&tp=txt_p&tr=hb&wget=v&qget=v&nget=vt\" title=\"show this passage in SHEBANQ\">2_Chronicles 33:15</a></div>\n",
       "\n",
       "</div>\n",
       "\n",
       "</div>"
      ],
      "text/plain": [
       "<IPython.core.display.HTML object>"
      ]
     },
     "metadata": {},
     "output_type": "display_data"
    },
    {
     "data": {
      "text/markdown": [
       "\n",
       "\n",
       "**Result** *35*\n",
       "\n"
      ],
      "text/plain": [
       "<IPython.core.display.Markdown object>"
      ]
     },
     "metadata": {},
     "output_type": "display_data"
    },
    {
     "data": {
      "text/html": [
       "<div class=\"outeritem\">\n",
       "<div class=\"lextp \" style=\"background-color: None;\">\n",
       "<div class=\"h\">גֹּוי</div>\n",
       "<div class=\"features\"> <span class=\"voc_lex\"><a target=\"_blank\" href=\"https://shebanq.ancient-data.org/hebrew/word?version=c&id=1GWJn\" title=\"show this lexeme in SHEBANQ\">G.OWJ</a></span> <span class=\"gloss\">people</span> <span class=\"freq_lex\"><span class=\"f\">freq_lex=</span>555</span></div>\n",
       "<div class=\"occs\"><a href=\"https://shebanq.ancient-data.org/hebrew/text?book=Genesis&chapter=10&verse=5&version=c&mr=m&qw=q&tp=txt_p&tr=hb&wget=v&qget=v&nget=vt\" title=\"show this passage in SHEBANQ\">Genesis 10:5</a> - <a href=\"https://shebanq.ancient-data.org/hebrew/text?book=Chronica_II&chapter=36&verse=14&version=c&mr=m&qw=q&tp=txt_p&tr=hb&wget=v&qget=v&nget=vt\" title=\"show this passage in SHEBANQ\">2_Chronicles 36:14</a></div>\n",
       "\n",
       "</div>\n",
       "\n",
       "</div>"
      ],
      "text/plain": [
       "<IPython.core.display.HTML object>"
      ]
     },
     "metadata": {},
     "output_type": "display_data"
    },
    {
     "data": {
      "text/markdown": [
       "\n",
       "\n",
       "**Result** *36*\n",
       "\n"
      ],
      "text/plain": [
       "<IPython.core.display.Markdown object>"
      ]
     },
     "metadata": {},
     "output_type": "display_data"
    },
    {
     "data": {
      "text/html": [
       "<div class=\"outeritem\">\n",
       "<div class=\"lextp \" style=\"background-color: None;\">\n",
       "<div class=\"h\">אָדָם</div>\n",
       "<div class=\"features\"> <span class=\"voc_lex\"><a target=\"_blank\" href=\"https://shebanq.ancient-data.org/hebrew/word?version=c&id=1ADMn\" title=\"show this lexeme in SHEBANQ\">>@D@M</a></span> <span class=\"gloss\">human, mankind</span> <span class=\"freq_lex\"><span class=\"f\">freq_lex=</span>553</span></div>\n",
       "<div class=\"occs\"><a href=\"https://shebanq.ancient-data.org/hebrew/text?book=Genesis&chapter=1&verse=26&version=c&mr=m&qw=q&tp=txt_p&tr=hb&wget=v&qget=v&nget=vt\" title=\"show this passage in SHEBANQ\">Genesis 1:26</a> - <a href=\"https://shebanq.ancient-data.org/hebrew/text?book=Chronica_II&chapter=32&verse=19&version=c&mr=m&qw=q&tp=txt_p&tr=hb&wget=v&qget=v&nget=vt\" title=\"show this passage in SHEBANQ\">2_Chronicles 32:19</a></div>\n",
       "\n",
       "</div>\n",
       "\n",
       "</div>"
      ],
      "text/plain": [
       "<IPython.core.display.HTML object>"
      ]
     },
     "metadata": {},
     "output_type": "display_data"
    },
    {
     "data": {
      "text/markdown": [
       "\n",
       "\n",
       "**Result** *37*\n",
       "\n"
      ],
      "text/plain": [
       "<IPython.core.display.Markdown object>"
      ]
     },
     "metadata": {},
     "output_type": "display_data"
    },
    {
     "data": {
      "text/html": [
       "<div class=\"outeritem\">\n",
       "<div class=\"lextp \" style=\"background-color: None;\">\n",
       "<div class=\"h\">חָמֵשׁ</div>\n",
       "<div class=\"features\"> <span class=\"voc_lex\"><a target=\"_blank\" href=\"https://shebanq.ancient-data.org/hebrew/word?version=c&id=1XMCn\" title=\"show this lexeme in SHEBANQ\">X@M;C</a></span> <span class=\"gloss\">five</span> <span class=\"freq_lex\"><span class=\"f\">freq_lex=</span>506</span> <span class=\"ls\"><span class=\"f\">ls=</span>card</span></div>\n",
       "<div class=\"occs\"><a href=\"https://shebanq.ancient-data.org/hebrew/text?book=Genesis&chapter=5&verse=6&version=c&mr=m&qw=q&tp=txt_p&tr=hb&wget=v&qget=v&nget=vt\" title=\"show this passage in SHEBANQ\">Genesis 5:6</a> - <a href=\"https://shebanq.ancient-data.org/hebrew/text?book=Chronica_II&chapter=36&verse=5&version=c&mr=m&qw=q&tp=txt_p&tr=hb&wget=v&qget=v&nget=vt\" title=\"show this passage in SHEBANQ\">2_Chronicles 36:5</a></div>\n",
       "\n",
       "</div>\n",
       "\n",
       "</div>"
      ],
      "text/plain": [
       "<IPython.core.display.HTML object>"
      ]
     },
     "metadata": {},
     "output_type": "display_data"
    },
    {
     "data": {
      "text/markdown": [
       "\n",
       "\n",
       "**Result** *38*\n",
       "\n"
      ],
      "text/plain": [
       "<IPython.core.display.Markdown object>"
      ]
     },
     "metadata": {},
     "output_type": "display_data"
    },
    {
     "data": {
      "text/html": [
       "<div class=\"outeritem\">\n",
       "<div class=\"lextp \" style=\"background-color: None;\">\n",
       "<div class=\"h\">קֹול</div>\n",
       "<div class=\"features\"> <span class=\"voc_lex\"><a target=\"_blank\" href=\"https://shebanq.ancient-data.org/hebrew/word?version=c&id=1QWLn\" title=\"show this lexeme in SHEBANQ\">QOWL</a></span> <span class=\"gloss\">sound</span> <span class=\"freq_lex\"><span class=\"f\">freq_lex=</span>505</span></div>\n",
       "<div class=\"occs\"><a href=\"https://shebanq.ancient-data.org/hebrew/text?book=Genesis&chapter=3&verse=8&version=c&mr=m&qw=q&tp=txt_p&tr=hb&wget=v&qget=v&nget=vt\" title=\"show this passage in SHEBANQ\">Genesis 3:8</a> - <a href=\"https://shebanq.ancient-data.org/hebrew/text?book=Chronica_II&chapter=36&verse=22&version=c&mr=m&qw=q&tp=txt_p&tr=hb&wget=v&qget=v&nget=vt\" title=\"show this passage in SHEBANQ\">2_Chronicles 36:22</a></div>\n",
       "\n",
       "</div>\n",
       "\n",
       "</div>"
      ],
      "text/plain": [
       "<IPython.core.display.HTML object>"
      ]
     },
     "metadata": {},
     "output_type": "display_data"
    },
    {
     "data": {
      "text/markdown": [
       "\n",
       "\n",
       "**Result** *39*\n",
       "\n"
      ],
      "text/plain": [
       "<IPython.core.display.Markdown object>"
      ]
     },
     "metadata": {},
     "output_type": "display_data"
    },
    {
     "data": {
      "text/html": [
       "<div class=\"outeritem\">\n",
       "<div class=\"lextp \" style=\"background-color: None;\">\n",
       "<div class=\"h\">תַּחַת</div>\n",
       "<div class=\"features\"> <span class=\"voc_lex\"><a target=\"_blank\" href=\"https://shebanq.ancient-data.org/hebrew/word?version=c&id=1TXTn\" title=\"show this lexeme in SHEBANQ\">T.AXAT</a></span> <span class=\"gloss\">under part</span> <span class=\"freq_lex\"><span class=\"f\">freq_lex=</span>505</span> <span class=\"ls\"><span class=\"f\">ls=</span>ppre</span></div>\n",
       "<div class=\"occs\"><a href=\"https://shebanq.ancient-data.org/hebrew/text?book=Genesis&chapter=1&verse=7&version=c&mr=m&qw=q&tp=txt_p&tr=hb&wget=v&qget=v&nget=vt\" title=\"show this passage in SHEBANQ\">Genesis 1:7</a> - <a href=\"https://shebanq.ancient-data.org/hebrew/text?book=Chronica_II&chapter=36&verse=8&version=c&mr=m&qw=q&tp=txt_p&tr=hb&wget=v&qget=v&nget=vt\" title=\"show this passage in SHEBANQ\">2_Chronicles 36:8</a></div>\n",
       "\n",
       "</div>\n",
       "\n",
       "</div>"
      ],
      "text/plain": [
       "<IPython.core.display.HTML object>"
      ]
     },
     "metadata": {},
     "output_type": "display_data"
    },
    {
     "data": {
      "text/markdown": [
       "\n",
       "\n",
       "**Result** *40*\n",
       "\n"
      ],
      "text/plain": [
       "<IPython.core.display.Markdown object>"
      ]
     },
     "metadata": {},
     "output_type": "display_data"
    },
    {
     "data": {
      "text/html": [
       "<div class=\"outeritem\">\n",
       "<div class=\"lextp \" style=\"background-color: None;\">\n",
       "<div class=\"h\">פֶּה</div>\n",
       "<div class=\"features\"> <span class=\"voc_lex\"><a target=\"_blank\" href=\"https://shebanq.ancient-data.org/hebrew/word?version=c&id=1PHn\" title=\"show this lexeme in SHEBANQ\">P.EH</a></span> <span class=\"gloss\">mouth</span> <span class=\"freq_lex\"><span class=\"f\">freq_lex=</span>498</span></div>\n",
       "<div class=\"occs\"><a href=\"https://shebanq.ancient-data.org/hebrew/text?book=Genesis&chapter=4&verse=11&version=c&mr=m&qw=q&tp=txt_p&tr=hb&wget=v&qget=v&nget=vt\" title=\"show this passage in SHEBANQ\">Genesis 4:11</a> - <a href=\"https://shebanq.ancient-data.org/hebrew/text?book=Chronica_II&chapter=36&verse=22&version=c&mr=m&qw=q&tp=txt_p&tr=hb&wget=v&qget=v&nget=vt\" title=\"show this passage in SHEBANQ\">2_Chronicles 36:22</a></div>\n",
       "\n",
       "</div>\n",
       "\n",
       "</div>"
      ],
      "text/plain": [
       "<IPython.core.display.HTML object>"
      ]
     },
     "metadata": {},
     "output_type": "display_data"
    },
    {
     "data": {
      "text/markdown": [
       "\n",
       "\n",
       "**Result** *41*\n",
       "\n"
      ],
      "text/plain": [
       "<IPython.core.display.Markdown object>"
      ]
     },
     "metadata": {},
     "output_type": "display_data"
    },
    {
     "data": {
      "text/html": [
       "<div class=\"outeritem\">\n",
       "<div class=\"lextp \" style=\"background-color: None;\">\n",
       "<div class=\"h\">אֶלֶף</div>\n",
       "<div class=\"features\"> <span class=\"voc_lex\"><a target=\"_blank\" href=\"https://shebanq.ancient-data.org/hebrew/word?version=c&id=1ALPin\" title=\"show this lexeme in SHEBANQ\">>ELEP</a></span> <span class=\"gloss\">thousand</span> <span class=\"freq_lex\"><span class=\"f\">freq_lex=</span>492</span> <span class=\"ls\"><span class=\"f\">ls=</span>card</span></div>\n",
       "<div class=\"occs\"><a href=\"https://shebanq.ancient-data.org/hebrew/text?book=Genesis&chapter=20&verse=16&version=c&mr=m&qw=q&tp=txt_p&tr=hb&wget=v&qget=v&nget=vt\" title=\"show this passage in SHEBANQ\">Genesis 20:16</a> - <a href=\"https://shebanq.ancient-data.org/hebrew/text?book=Chronica_II&chapter=35&verse=9&version=c&mr=m&qw=q&tp=txt_p&tr=hb&wget=v&qget=v&nget=vt\" title=\"show this passage in SHEBANQ\">2_Chronicles 35:9</a></div>\n",
       "\n",
       "</div>\n",
       "\n",
       "</div>"
      ],
      "text/plain": [
       "<IPython.core.display.HTML object>"
      ]
     },
     "metadata": {},
     "output_type": "display_data"
    },
    {
     "data": {
      "text/markdown": [
       "\n",
       "\n",
       "**Result** *42*\n",
       "\n"
      ],
      "text/plain": [
       "<IPython.core.display.Markdown object>"
      ]
     },
     "metadata": {},
     "output_type": "display_data"
    },
    {
     "data": {
      "text/html": [
       "<div class=\"outeritem\">\n",
       "<div class=\"lextp \" style=\"background-color: None;\">\n",
       "<div class=\"h\">עֹוד</div>\n",
       "<div class=\"features\"> <span class=\"voc_lex\"><a target=\"_blank\" href=\"https://shebanq.ancient-data.org/hebrew/word?version=c&id=1OWDn\" title=\"show this lexeme in SHEBANQ\">&lt;OWD</a></span> <span class=\"gloss\">duration</span> <span class=\"freq_lex\"><span class=\"f\">freq_lex=</span>490</span> <span class=\"ls\"><span class=\"f\">ls=</span>padv</span></div>\n",
       "<div class=\"occs\"><a href=\"https://shebanq.ancient-data.org/hebrew/text?book=Genesis&chapter=4&verse=25&version=c&mr=m&qw=q&tp=txt_p&tr=hb&wget=v&qget=v&nget=vt\" title=\"show this passage in SHEBANQ\">Genesis 4:25</a> - <a href=\"https://shebanq.ancient-data.org/hebrew/text?book=Chronica_II&chapter=34&verse=16&version=c&mr=m&qw=q&tp=txt_p&tr=hb&wget=v&qget=v&nget=vt\" title=\"show this passage in SHEBANQ\">2_Chronicles 34:16</a></div>\n",
       "\n",
       "</div>\n",
       "\n",
       "</div>"
      ],
      "text/plain": [
       "<IPython.core.display.HTML object>"
      ]
     },
     "metadata": {},
     "output_type": "display_data"
    },
    {
     "data": {
      "text/markdown": [
       "\n",
       "\n",
       "**Result** *43*\n",
       "\n"
      ],
      "text/plain": [
       "<IPython.core.display.Markdown object>"
      ]
     },
     "metadata": {},
     "output_type": "display_data"
    },
    {
     "data": {
      "text/html": [
       "<div class=\"outeritem\">\n",
       "<div class=\"lextp \" style=\"background-color: None;\">\n",
       "<div class=\"h\">שֶׁבַע</div>\n",
       "<div class=\"features\"> <span class=\"voc_lex\"><a target=\"_blank\" href=\"https://shebanq.ancient-data.org/hebrew/word?version=c&id=1CBOn\" title=\"show this lexeme in SHEBANQ\">CEBA&lt;</a></span> <span class=\"gloss\">seven</span> <span class=\"freq_lex\"><span class=\"f\">freq_lex=</span>490</span> <span class=\"ls\"><span class=\"f\">ls=</span>card</span></div>\n",
       "<div class=\"occs\"><a href=\"https://shebanq.ancient-data.org/hebrew/text?book=Genesis&chapter=4&verse=15&version=c&mr=m&qw=q&tp=txt_p&tr=hb&wget=v&qget=v&nget=vt\" title=\"show this passage in SHEBANQ\">Genesis 4:15</a> - <a href=\"https://shebanq.ancient-data.org/hebrew/text?book=Chronica_II&chapter=36&verse=21&version=c&mr=m&qw=q&tp=txt_p&tr=hb&wget=v&qget=v&nget=vt\" title=\"show this passage in SHEBANQ\">2_Chronicles 36:21</a></div>\n",
       "\n",
       "</div>\n",
       "\n",
       "</div>"
      ],
      "text/plain": [
       "<IPython.core.display.HTML object>"
      ]
     },
     "metadata": {},
     "output_type": "display_data"
    },
    {
     "data": {
      "text/markdown": [
       "\n",
       "\n",
       "**Result** *44*\n",
       "\n"
      ],
      "text/plain": [
       "<IPython.core.display.Markdown object>"
      ]
     },
     "metadata": {},
     "output_type": "display_data"
    },
    {
     "data": {
      "text/html": [
       "<div class=\"outeritem\">\n",
       "<div class=\"lextp \" style=\"background-color: None;\">\n",
       "<div class=\"h\">צָבָא</div>\n",
       "<div class=\"features\"> <span class=\"voc_lex\"><a target=\"_blank\" href=\"https://shebanq.ancient-data.org/hebrew/word?version=c&id=1YBAn\" title=\"show this lexeme in SHEBANQ\">Y@B@></a></span> <span class=\"gloss\">service</span> <span class=\"freq_lex\"><span class=\"f\">freq_lex=</span>486</span></div>\n",
       "<div class=\"occs\"><a href=\"https://shebanq.ancient-data.org/hebrew/text?book=Genesis&chapter=2&verse=1&version=c&mr=m&qw=q&tp=txt_p&tr=hb&wget=v&qget=v&nget=vt\" title=\"show this passage in SHEBANQ\">Genesis 2:1</a> - <a href=\"https://shebanq.ancient-data.org/hebrew/text?book=Chronica_II&chapter=33&verse=11&version=c&mr=m&qw=q&tp=txt_p&tr=hb&wget=v&qget=v&nget=vt\" title=\"show this passage in SHEBANQ\">2_Chronicles 33:11</a></div>\n",
       "\n",
       "</div>\n",
       "\n",
       "</div>"
      ],
      "text/plain": [
       "<IPython.core.display.HTML object>"
      ]
     },
     "metadata": {},
     "output_type": "display_data"
    },
    {
     "data": {
      "text/markdown": [
       "\n",
       "\n",
       "**Result** *45*\n",
       "\n"
      ],
      "text/plain": [
       "<IPython.core.display.Markdown object>"
      ]
     },
     "metadata": {},
     "output_type": "display_data"
    },
    {
     "data": {
      "text/html": [
       "<div class=\"outeritem\">\n",
       "<div class=\"lextp \" style=\"background-color: None;\">\n",
       "<div class=\"h\">קֹדֶשׁ</div>\n",
       "<div class=\"features\"> <span class=\"voc_lex\"><a target=\"_blank\" href=\"https://shebanq.ancient-data.org/hebrew/word?version=c&id=1QDCn\" title=\"show this lexeme in SHEBANQ\">QODEC</a></span> <span class=\"gloss\">holiness</span> <span class=\"freq_lex\"><span class=\"f\">freq_lex=</span>469</span></div>\n",
       "<div class=\"occs\"><a href=\"https://shebanq.ancient-data.org/hebrew/text?book=Exodus&chapter=3&verse=5&version=c&mr=m&qw=q&tp=txt_p&tr=hb&wget=v&qget=v&nget=vt\" title=\"show this passage in SHEBANQ\">Exodus 3:5</a> - <a href=\"https://shebanq.ancient-data.org/hebrew/text?book=Chronica_II&chapter=35&verse=13&version=c&mr=m&qw=q&tp=txt_p&tr=hb&wget=v&qget=v&nget=vt\" title=\"show this passage in SHEBANQ\">2_Chronicles 35:13</a></div>\n",
       "\n",
       "</div>\n",
       "\n",
       "</div>"
      ],
      "text/plain": [
       "<IPython.core.display.HTML object>"
      ]
     },
     "metadata": {},
     "output_type": "display_data"
    },
    {
     "data": {
      "text/markdown": [
       "\n",
       "\n",
       "**Result** *46*\n",
       "\n"
      ],
      "text/plain": [
       "<IPython.core.display.Markdown object>"
      ]
     },
     "metadata": {},
     "output_type": "display_data"
    },
    {
     "data": {
      "text/html": [
       "<div class=\"outeritem\">\n",
       "<div class=\"lextp \" style=\"background-color: None;\">\n",
       "<div class=\"h\">אַרְבַּע</div>\n",
       "<div class=\"features\"> <span class=\"voc_lex\"><a target=\"_blank\" href=\"https://shebanq.ancient-data.org/hebrew/word?version=c&id=1ARBOn\" title=\"show this lexeme in SHEBANQ\">>AR:B.A&lt;</a></span> <span class=\"gloss\">four</span> <span class=\"freq_lex\"><span class=\"f\">freq_lex=</span>454</span> <span class=\"ls\"><span class=\"f\">ls=</span>card</span></div>\n",
       "<div class=\"occs\"><a href=\"https://shebanq.ancient-data.org/hebrew/text?book=Genesis&chapter=2&verse=10&version=c&mr=m&qw=q&tp=txt_p&tr=hb&wget=v&qget=v&nget=vt\" title=\"show this passage in SHEBANQ\">Genesis 2:10</a> - <a href=\"https://shebanq.ancient-data.org/hebrew/text?book=Chronica_II&chapter=35&verse=1&version=c&mr=m&qw=q&tp=txt_p&tr=hb&wget=v&qget=v&nget=vt\" title=\"show this passage in SHEBANQ\">2_Chronicles 35:1</a></div>\n",
       "\n",
       "</div>\n",
       "\n",
       "</div>"
      ],
      "text/plain": [
       "<IPython.core.display.HTML object>"
      ]
     },
     "metadata": {},
     "output_type": "display_data"
    },
    {
     "data": {
      "text/markdown": [
       "\n",
       "\n",
       "**Result** *47*\n",
       "\n"
      ],
      "text/plain": [
       "<IPython.core.display.Markdown object>"
      ]
     },
     "metadata": {},
     "output_type": "display_data"
    },
    {
     "data": {
      "text/html": [
       "<div class=\"outeritem\">\n",
       "<div class=\"lextp \" style=\"background-color: None;\">\n",
       "<div class=\"h\">עֹולָם</div>\n",
       "<div class=\"features\"> <span class=\"voc_lex\"><a target=\"_blank\" href=\"https://shebanq.ancient-data.org/hebrew/word?version=c&id=1OWLMn\" title=\"show this lexeme in SHEBANQ\">&lt;OWL@M</a></span> <span class=\"gloss\">eternity</span> <span class=\"freq_lex\"><span class=\"f\">freq_lex=</span>438</span></div>\n",
       "<div class=\"occs\"><a href=\"https://shebanq.ancient-data.org/hebrew/text?book=Genesis&chapter=3&verse=22&version=c&mr=m&qw=q&tp=txt_p&tr=hb&wget=v&qget=v&nget=vt\" title=\"show this passage in SHEBANQ\">Genesis 3:22</a> - <a href=\"https://shebanq.ancient-data.org/hebrew/text?book=Chronica_II&chapter=33&verse=4&version=c&mr=m&qw=q&tp=txt_p&tr=hb&wget=v&qget=v&nget=vt\" title=\"show this passage in SHEBANQ\">2_Chronicles 33:4</a></div>\n",
       "\n",
       "</div>\n",
       "\n",
       "</div>"
      ],
      "text/plain": [
       "<IPython.core.display.HTML object>"
      ]
     },
     "metadata": {},
     "output_type": "display_data"
    },
    {
     "data": {
      "text/markdown": [
       "\n",
       "\n",
       "**Result** *48*\n",
       "\n"
      ],
      "text/plain": [
       "<IPython.core.display.Markdown object>"
      ]
     },
     "metadata": {},
     "output_type": "display_data"
    },
    {
     "data": {
      "text/html": [
       "<div class=\"outeritem\">\n",
       "<div class=\"lextp \" style=\"background-color: None;\">\n",
       "<div class=\"h\">מִשְׁפָּט</div>\n",
       "<div class=\"features\"> <span class=\"voc_lex\"><a target=\"_blank\" href=\"https://shebanq.ancient-data.org/hebrew/word?version=c&id=1MCPVn\" title=\"show this lexeme in SHEBANQ\">MIC:P.@V</a></span> <span class=\"gloss\">justice</span> <span class=\"freq_lex\"><span class=\"f\">freq_lex=</span>422</span></div>\n",
       "<div class=\"occs\"><a href=\"https://shebanq.ancient-data.org/hebrew/text?book=Genesis&chapter=18&verse=19&version=c&mr=m&qw=q&tp=txt_p&tr=hb&wget=v&qget=v&nget=vt\" title=\"show this passage in SHEBANQ\">Genesis 18:19</a> - <a href=\"https://shebanq.ancient-data.org/hebrew/text?book=Chronica_II&chapter=35&verse=13&version=c&mr=m&qw=q&tp=txt_p&tr=hb&wget=v&qget=v&nget=vt\" title=\"show this passage in SHEBANQ\">2_Chronicles 35:13</a></div>\n",
       "\n",
       "</div>\n",
       "\n",
       "</div>"
      ],
      "text/plain": [
       "<IPython.core.display.HTML object>"
      ]
     },
     "metadata": {},
     "output_type": "display_data"
    },
    {
     "data": {
      "text/markdown": [
       "\n",
       "\n",
       "**Result** *49*\n",
       "\n"
      ],
      "text/plain": [
       "<IPython.core.display.Markdown object>"
      ]
     },
     "metadata": {},
     "output_type": "display_data"
    },
    {
     "data": {
      "text/html": [
       "<div class=\"outeritem\">\n",
       "<div class=\"lextp \" style=\"background-color: None;\">\n",
       "<div class=\"h\">שַׂר</div>\n",
       "<div class=\"features\"> <span class=\"voc_lex\"><a target=\"_blank\" href=\"https://shebanq.ancient-data.org/hebrew/word?version=c&id=1FRn\" title=\"show this lexeme in SHEBANQ\">FAR</a></span> <span class=\"gloss\">chief</span> <span class=\"freq_lex\"><span class=\"f\">freq_lex=</span>421</span></div>\n",
       "<div class=\"occs\"><a href=\"https://shebanq.ancient-data.org/hebrew/text?book=Genesis&chapter=12&verse=15&version=c&mr=m&qw=q&tp=txt_p&tr=hb&wget=v&qget=v&nget=vt\" title=\"show this passage in SHEBANQ\">Genesis 12:15</a> - <a href=\"https://shebanq.ancient-data.org/hebrew/text?book=Chronica_II&chapter=36&verse=18&version=c&mr=m&qw=q&tp=txt_p&tr=hb&wget=v&qget=v&nget=vt\" title=\"show this passage in SHEBANQ\">2_Chronicles 36:18</a></div>\n",
       "\n",
       "</div>\n",
       "\n",
       "</div>"
      ],
      "text/plain": [
       "<IPython.core.display.HTML object>"
      ]
     },
     "metadata": {},
     "output_type": "display_data"
    },
    {
     "data": {
      "text/markdown": [
       "\n",
       "\n",
       "**Result** *50*\n",
       "\n"
      ],
      "text/plain": [
       "<IPython.core.display.Markdown object>"
      ]
     },
     "metadata": {},
     "output_type": "display_data"
    },
    {
     "data": {
      "text/html": [
       "<div class=\"outeritem\">\n",
       "<div class=\"lextp \" style=\"background-color: None;\">\n",
       "<div class=\"h\">שָׁמַיִם</div>\n",
       "<div class=\"features\"> <span class=\"voc_lex\"><a target=\"_blank\" href=\"https://shebanq.ancient-data.org/hebrew/word?version=c&id=1CMJMn\" title=\"show this lexeme in SHEBANQ\">C@MAJIM</a></span> <span class=\"gloss\">heavens</span> <span class=\"freq_lex\"><span class=\"f\">freq_lex=</span>421</span></div>\n",
       "<div class=\"occs\"><a href=\"https://shebanq.ancient-data.org/hebrew/text?book=Genesis&chapter=1&verse=1&version=c&mr=m&qw=q&tp=txt_p&tr=hb&wget=v&qget=v&nget=vt\" title=\"show this passage in SHEBANQ\">Genesis 1:1</a> - <a href=\"https://shebanq.ancient-data.org/hebrew/text?book=Chronica_II&chapter=36&verse=23&version=c&mr=m&qw=q&tp=txt_p&tr=hb&wget=v&qget=v&nget=vt\" title=\"show this passage in SHEBANQ\">2_Chronicles 36:23</a></div>\n",
       "\n",
       "</div>\n",
       "\n",
       "</div>"
      ],
      "text/plain": [
       "<IPython.core.display.HTML object>"
      ]
     },
     "metadata": {},
     "output_type": "display_data"
    },
    {
     "data": {
      "text/markdown": [
       "\n",
       "\n",
       "**Result** *51*\n",
       "\n"
      ],
      "text/plain": [
       "<IPython.core.display.Markdown object>"
      ]
     },
     "metadata": {},
     "output_type": "display_data"
    },
    {
     "data": {
      "text/html": [
       "<div class=\"outeritem\">\n",
       "<div class=\"lextp \" style=\"background-color: None;\">\n",
       "<div class=\"h\">תָּוֶךְ</div>\n",
       "<div class=\"features\"> <span class=\"voc_lex\"><a target=\"_blank\" href=\"https://shebanq.ancient-data.org/hebrew/word?version=c&id=1TWKn\" title=\"show this lexeme in SHEBANQ\">T.@WEK:</a></span> <span class=\"gloss\">midst</span> <span class=\"freq_lex\"><span class=\"f\">freq_lex=</span>418</span></div>\n",
       "<div class=\"occs\"><a href=\"https://shebanq.ancient-data.org/hebrew/text?book=Genesis&chapter=1&verse=6&version=c&mr=m&qw=q&tp=txt_p&tr=hb&wget=v&qget=v&nget=vt\" title=\"show this passage in SHEBANQ\">Genesis 1:6</a> - <a href=\"https://shebanq.ancient-data.org/hebrew/text?book=Chronica_II&chapter=32&verse=4&version=c&mr=m&qw=q&tp=txt_p&tr=hb&wget=v&qget=v&nget=vt\" title=\"show this passage in SHEBANQ\">2_Chronicles 32:4</a></div>\n",
       "\n",
       "</div>\n",
       "\n",
       "</div>"
      ],
      "text/plain": [
       "<IPython.core.display.HTML object>"
      ]
     },
     "metadata": {},
     "output_type": "display_data"
    },
    {
     "data": {
      "text/markdown": [
       "\n",
       "\n",
       "**Result** *52*\n",
       "\n"
      ],
      "text/plain": [
       "<IPython.core.display.Markdown object>"
      ]
     },
     "metadata": {},
     "output_type": "display_data"
    },
    {
     "data": {
      "text/html": [
       "<div class=\"outeritem\">\n",
       "<div class=\"lextp \" style=\"background-color: None;\">\n",
       "<div class=\"h\">חֶרֶב</div>\n",
       "<div class=\"features\"> <span class=\"voc_lex\"><a target=\"_blank\" href=\"https://shebanq.ancient-data.org/hebrew/word?version=c&id=1XRBn\" title=\"show this lexeme in SHEBANQ\">XEREB</a></span> <span class=\"gloss\">dagger</span> <span class=\"freq_lex\"><span class=\"f\">freq_lex=</span>412</span></div>\n",
       "<div class=\"occs\"><a href=\"https://shebanq.ancient-data.org/hebrew/text?book=Genesis&chapter=3&verse=24&version=c&mr=m&qw=q&tp=txt_p&tr=hb&wget=v&qget=v&nget=vt\" title=\"show this passage in SHEBANQ\">Genesis 3:24</a> - <a href=\"https://shebanq.ancient-data.org/hebrew/text?book=Chronica_II&chapter=36&verse=20&version=c&mr=m&qw=q&tp=txt_p&tr=hb&wget=v&qget=v&nget=vt\" title=\"show this passage in SHEBANQ\">2_Chronicles 36:20</a></div>\n",
       "\n",
       "</div>\n",
       "\n",
       "</div>"
      ],
      "text/plain": [
       "<IPython.core.display.HTML object>"
      ]
     },
     "metadata": {},
     "output_type": "display_data"
    },
    {
     "data": {
      "text/markdown": [
       "\n",
       "\n",
       "**Result** *53*\n",
       "\n"
      ],
      "text/plain": [
       "<IPython.core.display.Markdown object>"
      ]
     },
     "metadata": {},
     "output_type": "display_data"
    },
    {
     "data": {
      "text/html": [
       "<div class=\"outeritem\">\n",
       "<div class=\"lextp \" style=\"background-color: None;\">\n",
       "<div class=\"h\">בַּיִן</div>\n",
       "<div class=\"features\"> <span class=\"voc_lex\"><a target=\"_blank\" href=\"https://shebanq.ancient-data.org/hebrew/word?version=c&id=1BJNn\" title=\"show this lexeme in SHEBANQ\">B.AJIN</a></span> <span class=\"gloss\">interval</span> <span class=\"freq_lex\"><span class=\"f\">freq_lex=</span>407</span> <span class=\"ls\"><span class=\"f\">ls=</span>ppre</span></div>\n",
       "<div class=\"occs\"><a href=\"https://shebanq.ancient-data.org/hebrew/text?book=Genesis&chapter=1&verse=4&version=c&mr=m&qw=q&tp=txt_p&tr=hb&wget=v&qget=v&nget=vt\" title=\"show this passage in SHEBANQ\">Genesis 1:4</a> - <a href=\"https://shebanq.ancient-data.org/hebrew/text?book=Chronica_II&chapter=23&verse=16&version=c&mr=m&qw=q&tp=txt_p&tr=hb&wget=v&qget=v&nget=vt\" title=\"show this passage in SHEBANQ\">2_Chronicles 23:16</a></div>\n",
       "\n",
       "</div>\n",
       "\n",
       "</div>"
      ],
      "text/plain": [
       "<IPython.core.display.HTML object>"
      ]
     },
     "metadata": {},
     "output_type": "display_data"
    },
    {
     "data": {
      "text/markdown": [
       "\n",
       "\n",
       "**Result** *54*\n",
       "\n"
      ],
      "text/plain": [
       "<IPython.core.display.Markdown object>"
      ]
     },
     "metadata": {},
     "output_type": "display_data"
    },
    {
     "data": {
      "text/html": [
       "<div class=\"outeritem\">\n",
       "<div class=\"lextp \" style=\"background-color: None;\">\n",
       "<div class=\"h\">כֶּסֶף</div>\n",
       "<div class=\"features\"> <span class=\"voc_lex\"><a target=\"_blank\" href=\"https://shebanq.ancient-data.org/hebrew/word?version=c&id=1KSPn\" title=\"show this lexeme in SHEBANQ\">K.ESEP</a></span> <span class=\"gloss\">silver</span> <span class=\"freq_lex\"><span class=\"f\">freq_lex=</span>403</span></div>\n",
       "<div class=\"occs\"><a href=\"https://shebanq.ancient-data.org/hebrew/text?book=Genesis&chapter=13&verse=2&version=c&mr=m&qw=q&tp=txt_p&tr=hb&wget=v&qget=v&nget=vt\" title=\"show this passage in SHEBANQ\">Genesis 13:2</a> - <a href=\"https://shebanq.ancient-data.org/hebrew/text?book=Chronica_II&chapter=36&verse=3&version=c&mr=m&qw=q&tp=txt_p&tr=hb&wget=v&qget=v&nget=vt\" title=\"show this passage in SHEBANQ\">2_Chronicles 36:3</a></div>\n",
       "\n",
       "</div>\n",
       "\n",
       "</div>"
      ],
      "text/plain": [
       "<IPython.core.display.HTML object>"
      ]
     },
     "metadata": {},
     "output_type": "display_data"
    },
    {
     "data": {
      "text/markdown": [
       "\n",
       "\n",
       "**Result** *55*\n",
       "\n"
      ],
      "text/plain": [
       "<IPython.core.display.Markdown object>"
      ]
     },
     "metadata": {},
     "output_type": "display_data"
    },
    {
     "data": {
      "text/html": [
       "<div class=\"outeritem\">\n",
       "<div class=\"lextp \" style=\"background-color: None;\">\n",
       "<div class=\"h\">מִזְבֵּחַ</div>\n",
       "<div class=\"features\"> <span class=\"voc_lex\"><a target=\"_blank\" href=\"https://shebanq.ancient-data.org/hebrew/word?version=c&id=1MZBXn\" title=\"show this lexeme in SHEBANQ\">MIZ:B.;XA</a></span> <span class=\"gloss\">altar</span> <span class=\"freq_lex\"><span class=\"f\">freq_lex=</span>401</span></div>\n",
       "<div class=\"occs\"><a href=\"https://shebanq.ancient-data.org/hebrew/text?book=Genesis&chapter=8&verse=20&version=c&mr=m&qw=q&tp=txt_p&tr=hb&wget=v&qget=v&nget=vt\" title=\"show this passage in SHEBANQ\">Genesis 8:20</a> - <a href=\"https://shebanq.ancient-data.org/hebrew/text?book=Chronica_II&chapter=35&verse=16&version=c&mr=m&qw=q&tp=txt_p&tr=hb&wget=v&qget=v&nget=vt\" title=\"show this passage in SHEBANQ\">2_Chronicles 35:16</a></div>\n",
       "\n",
       "</div>\n",
       "\n",
       "</div>"
      ],
      "text/plain": [
       "<IPython.core.display.HTML object>"
      ]
     },
     "metadata": {},
     "output_type": "display_data"
    },
    {
     "data": {
      "text/markdown": [
       "\n",
       "\n",
       "**Result** *56*\n",
       "\n"
      ],
      "text/plain": [
       "<IPython.core.display.Markdown object>"
      ]
     },
     "metadata": {},
     "output_type": "display_data"
    },
    {
     "data": {
      "text/html": [
       "<div class=\"outeritem\">\n",
       "<div class=\"lextp \" style=\"background-color: None;\">\n",
       "<div class=\"h\">מָקֹום</div>\n",
       "<div class=\"features\"> <span class=\"voc_lex\"><a target=\"_blank\" href=\"https://shebanq.ancient-data.org/hebrew/word?version=c&id=1MQWMn\" title=\"show this lexeme in SHEBANQ\">M@QOWM</a></span> <span class=\"gloss\">place</span> <span class=\"freq_lex\"><span class=\"f\">freq_lex=</span>401</span></div>\n",
       "<div class=\"occs\"><a href=\"https://shebanq.ancient-data.org/hebrew/text?book=Genesis&chapter=1&verse=9&version=c&mr=m&qw=q&tp=txt_p&tr=hb&wget=v&qget=v&nget=vt\" title=\"show this passage in SHEBANQ\">Genesis 1:9</a> - <a href=\"https://shebanq.ancient-data.org/hebrew/text?book=Chronica_II&chapter=34&verse=28&version=c&mr=m&qw=q&tp=txt_p&tr=hb&wget=v&qget=v&nget=vt\" title=\"show this passage in SHEBANQ\">2_Chronicles 34:28</a></div>\n",
       "\n",
       "</div>\n",
       "\n",
       "</div>"
      ],
      "text/plain": [
       "<IPython.core.display.HTML object>"
      ]
     },
     "metadata": {},
     "output_type": "display_data"
    },
    {
     "data": {
      "text/markdown": [
       "\n",
       "\n",
       "**Result** *57*\n",
       "\n"
      ],
      "text/plain": [
       "<IPython.core.display.Markdown object>"
      ]
     },
     "metadata": {},
     "output_type": "display_data"
    },
    {
     "data": {
      "text/html": [
       "<div class=\"outeritem\">\n",
       "<div class=\"lextp \" style=\"background-color: None;\">\n",
       "<div class=\"h\">יָם</div>\n",
       "<div class=\"features\"> <span class=\"voc_lex\"><a target=\"_blank\" href=\"https://shebanq.ancient-data.org/hebrew/word?version=c&id=1JMn\" title=\"show this lexeme in SHEBANQ\">J@M</a></span> <span class=\"gloss\">sea</span> <span class=\"freq_lex\"><span class=\"f\">freq_lex=</span>396</span></div>\n",
       "<div class=\"occs\"><a href=\"https://shebanq.ancient-data.org/hebrew/text?book=Genesis&chapter=1&verse=10&version=c&mr=m&qw=q&tp=txt_p&tr=hb&wget=v&qget=v&nget=vt\" title=\"show this passage in SHEBANQ\">Genesis 1:10</a> - <a href=\"https://shebanq.ancient-data.org/hebrew/text?book=Chronica_II&chapter=20&verse=2&version=c&mr=m&qw=q&tp=txt_p&tr=hb&wget=v&qget=v&nget=vt\" title=\"show this passage in SHEBANQ\">2_Chronicles 20:2</a></div>\n",
       "\n",
       "</div>\n",
       "\n",
       "</div>"
      ],
      "text/plain": [
       "<IPython.core.display.HTML object>"
      ]
     },
     "metadata": {},
     "output_type": "display_data"
    },
    {
     "data": {
      "text/markdown": [
       "\n",
       "\n",
       "**Result** *58*\n",
       "\n"
      ],
      "text/plain": [
       "<IPython.core.display.Markdown object>"
      ]
     },
     "metadata": {},
     "output_type": "display_data"
    },
    {
     "data": {
      "text/html": [
       "<div class=\"outeritem\">\n",
       "<div class=\"lextp \" style=\"background-color: None;\">\n",
       "<div class=\"h\">זָהָב</div>\n",
       "<div class=\"features\"> <span class=\"voc_lex\"><a target=\"_blank\" href=\"https://shebanq.ancient-data.org/hebrew/word?version=c&id=1ZHBn\" title=\"show this lexeme in SHEBANQ\">Z@H@B</a></span> <span class=\"gloss\">gold</span> <span class=\"freq_lex\"><span class=\"f\">freq_lex=</span>389</span></div>\n",
       "<div class=\"occs\"><a href=\"https://shebanq.ancient-data.org/hebrew/text?book=Genesis&chapter=2&verse=11&version=c&mr=m&qw=q&tp=txt_p&tr=hb&wget=v&qget=v&nget=vt\" title=\"show this passage in SHEBANQ\">Genesis 2:11</a> - <a href=\"https://shebanq.ancient-data.org/hebrew/text?book=Chronica_II&chapter=36&verse=3&version=c&mr=m&qw=q&tp=txt_p&tr=hb&wget=v&qget=v&nget=vt\" title=\"show this passage in SHEBANQ\">2_Chronicles 36:3</a></div>\n",
       "\n",
       "</div>\n",
       "\n",
       "</div>"
      ],
      "text/plain": [
       "<IPython.core.display.HTML object>"
      ]
     },
     "metadata": {},
     "output_type": "display_data"
    },
    {
     "data": {
      "text/markdown": [
       "\n",
       "\n",
       "**Result** *59*\n",
       "\n"
      ],
      "text/plain": [
       "<IPython.core.display.Markdown object>"
      ]
     },
     "metadata": {},
     "output_type": "display_data"
    },
    {
     "data": {
      "text/html": [
       "<div class=\"outeritem\">\n",
       "<div class=\"lextp \" style=\"background-color: None;\">\n",
       "<div class=\"h\">אֵשׁ</div>\n",
       "<div class=\"features\"> <span class=\"voc_lex\"><a target=\"_blank\" href=\"https://shebanq.ancient-data.org/hebrew/word?version=c&id=1ACn\" title=\"show this lexeme in SHEBANQ\">>;C</a></span> <span class=\"gloss\">fire</span> <span class=\"freq_lex\"><span class=\"f\">freq_lex=</span>378</span></div>\n",
       "<div class=\"occs\"><a href=\"https://shebanq.ancient-data.org/hebrew/text?book=Genesis&chapter=15&verse=17&version=c&mr=m&qw=q&tp=txt_p&tr=hb&wget=v&qget=v&nget=vt\" title=\"show this passage in SHEBANQ\">Genesis 15:17</a> - <a href=\"https://shebanq.ancient-data.org/hebrew/text?book=Chronica_II&chapter=36&verse=19&version=c&mr=m&qw=q&tp=txt_p&tr=hb&wget=v&qget=v&nget=vt\" title=\"show this passage in SHEBANQ\">2_Chronicles 36:19</a></div>\n",
       "\n",
       "</div>\n",
       "\n",
       "</div>"
      ],
      "text/plain": [
       "<IPython.core.display.HTML object>"
      ]
     },
     "metadata": {},
     "output_type": "display_data"
    },
    {
     "data": {
      "text/markdown": [
       "\n",
       "\n",
       "**Result** *60*\n",
       "\n"
      ],
      "text/plain": [
       "<IPython.core.display.Markdown object>"
      ]
     },
     "metadata": {},
     "output_type": "display_data"
    },
    {
     "data": {
      "text/html": [
       "<div class=\"outeritem\">\n",
       "<div class=\"lextp \" style=\"background-color: None;\">\n",
       "<div class=\"h\">רוּחַ</div>\n",
       "<div class=\"features\"> <span class=\"voc_lex\"><a target=\"_blank\" href=\"https://shebanq.ancient-data.org/hebrew/word?version=c&id=1RWXn\" title=\"show this lexeme in SHEBANQ\">RW.XA</a></span> <span class=\"gloss\">wind</span> <span class=\"freq_lex\"><span class=\"f\">freq_lex=</span>378</span></div>\n",
       "<div class=\"occs\"><a href=\"https://shebanq.ancient-data.org/hebrew/text?book=Genesis&chapter=1&verse=2&version=c&mr=m&qw=q&tp=txt_p&tr=hb&wget=v&qget=v&nget=vt\" title=\"show this passage in SHEBANQ\">Genesis 1:2</a> - <a href=\"https://shebanq.ancient-data.org/hebrew/text?book=Chronica_II&chapter=36&verse=22&version=c&mr=m&qw=q&tp=txt_p&tr=hb&wget=v&qget=v&nget=vt\" title=\"show this passage in SHEBANQ\">2_Chronicles 36:22</a></div>\n",
       "\n",
       "</div>\n",
       "\n",
       "</div>"
      ],
      "text/plain": [
       "<IPython.core.display.HTML object>"
      ]
     },
     "metadata": {},
     "output_type": "display_data"
    },
    {
     "data": {
      "text/markdown": [
       "\n",
       "\n",
       "**Result** *61*\n",
       "\n"
      ],
      "text/plain": [
       "<IPython.core.display.Markdown object>"
      ]
     },
     "metadata": {},
     "output_type": "display_data"
    },
    {
     "data": {
      "text/html": [
       "<div class=\"outeritem\">\n",
       "<div class=\"lextp \" style=\"background-color: None;\">\n",
       "<div class=\"h\">נְאֻם</div>\n",
       "<div class=\"features\"> <span class=\"voc_lex\"><a target=\"_blank\" href=\"https://shebanq.ancient-data.org/hebrew/word?version=c&id=1NAMn\" title=\"show this lexeme in SHEBANQ\">N:>UM</a></span> <span class=\"gloss\">speech</span> <span class=\"freq_lex\"><span class=\"f\">freq_lex=</span>376</span></div>\n",
       "<div class=\"occs\"><a href=\"https://shebanq.ancient-data.org/hebrew/text?book=Genesis&chapter=22&verse=16&version=c&mr=m&qw=q&tp=txt_p&tr=hb&wget=v&qget=v&nget=vt\" title=\"show this passage in SHEBANQ\">Genesis 22:16</a> - <a href=\"https://shebanq.ancient-data.org/hebrew/text?book=Chronica_II&chapter=34&verse=27&version=c&mr=m&qw=q&tp=txt_p&tr=hb&wget=v&qget=v&nget=vt\" title=\"show this passage in SHEBANQ\">2_Chronicles 34:27</a></div>\n",
       "\n",
       "</div>\n",
       "\n",
       "</div>"
      ],
      "text/plain": [
       "<IPython.core.display.HTML object>"
      ]
     },
     "metadata": {},
     "output_type": "display_data"
    },
    {
     "data": {
      "text/markdown": [
       "\n",
       "\n",
       "**Result** *62*\n",
       "\n"
      ],
      "text/plain": [
       "<IPython.core.display.Markdown object>"
      ]
     },
     "metadata": {},
     "output_type": "display_data"
    },
    {
     "data": {
      "text/html": [
       "<div class=\"outeritem\">\n",
       "<div class=\"lextp \" style=\"background-color: None;\">\n",
       "<div class=\"h\">שַׁעַר</div>\n",
       "<div class=\"features\"> <span class=\"voc_lex\"><a target=\"_blank\" href=\"https://shebanq.ancient-data.org/hebrew/word?version=c&id=1CORn\" title=\"show this lexeme in SHEBANQ\">CA&lt;AR</a></span> <span class=\"gloss\">gate</span> <span class=\"freq_lex\"><span class=\"f\">freq_lex=</span>374</span></div>\n",
       "<div class=\"occs\"><a href=\"https://shebanq.ancient-data.org/hebrew/text?book=Genesis&chapter=19&verse=1&version=c&mr=m&qw=q&tp=txt_p&tr=hb&wget=v&qget=v&nget=vt\" title=\"show this passage in SHEBANQ\">Genesis 19:1</a> - <a href=\"https://shebanq.ancient-data.org/hebrew/text?book=Chronica_II&chapter=35&verse=15&version=c&mr=m&qw=q&tp=txt_p&tr=hb&wget=v&qget=v&nget=vt\" title=\"show this passage in SHEBANQ\">2_Chronicles 35:15</a></div>\n",
       "\n",
       "</div>\n",
       "\n",
       "</div>"
      ],
      "text/plain": [
       "<IPython.core.display.HTML object>"
      ]
     },
     "metadata": {},
     "output_type": "display_data"
    },
    {
     "data": {
      "text/markdown": [
       "\n",
       "\n",
       "**Result** *63*\n",
       "\n"
      ],
      "text/plain": [
       "<IPython.core.display.Markdown object>"
      ]
     },
     "metadata": {},
     "output_type": "display_data"
    },
    {
     "data": {
      "text/html": [
       "<div class=\"outeritem\">\n",
       "<div class=\"lextp \" style=\"background-color: None;\">\n",
       "<div class=\"h\">דָּם</div>\n",
       "<div class=\"features\"> <span class=\"voc_lex\"><a target=\"_blank\" href=\"https://shebanq.ancient-data.org/hebrew/word?version=c&id=1DMn\" title=\"show this lexeme in SHEBANQ\">D.@M</a></span> <span class=\"gloss\">blood</span> <span class=\"freq_lex\"><span class=\"f\">freq_lex=</span>360</span></div>\n",
       "<div class=\"occs\"><a href=\"https://shebanq.ancient-data.org/hebrew/text?book=Genesis&chapter=4&verse=10&version=c&mr=m&qw=q&tp=txt_p&tr=hb&wget=v&qget=v&nget=vt\" title=\"show this passage in SHEBANQ\">Genesis 4:10</a> - <a href=\"https://shebanq.ancient-data.org/hebrew/text?book=Chronica_II&chapter=30&verse=16&version=c&mr=m&qw=q&tp=txt_p&tr=hb&wget=v&qget=v&nget=vt\" title=\"show this passage in SHEBANQ\">2_Chronicles 30:16</a></div>\n",
       "\n",
       "</div>\n",
       "\n",
       "</div>"
      ],
      "text/plain": [
       "<IPython.core.display.HTML object>"
      ]
     },
     "metadata": {},
     "output_type": "display_data"
    },
    {
     "data": {
      "text/markdown": [
       "\n",
       "\n",
       "**Result** *64*\n",
       "\n"
      ],
      "text/plain": [
       "<IPython.core.display.Markdown object>"
      ]
     },
     "metadata": {},
     "output_type": "display_data"
    },
    {
     "data": {
      "text/html": [
       "<div class=\"outeritem\">\n",
       "<div class=\"lextp \" style=\"background-color: None;\">\n",
       "<div class=\"h\">אֹהֶל</div>\n",
       "<div class=\"features\"> <span class=\"voc_lex\"><a target=\"_blank\" href=\"https://shebanq.ancient-data.org/hebrew/word?version=c&id=1AHLn\" title=\"show this lexeme in SHEBANQ\">>OHEL</a></span> <span class=\"gloss\">tent</span> <span class=\"freq_lex\"><span class=\"f\">freq_lex=</span>345</span></div>\n",
       "<div class=\"occs\"><a href=\"https://shebanq.ancient-data.org/hebrew/text?book=Genesis&chapter=4&verse=20&version=c&mr=m&qw=q&tp=txt_p&tr=hb&wget=v&qget=v&nget=vt\" title=\"show this passage in SHEBANQ\">Genesis 4:20</a> - <a href=\"https://shebanq.ancient-data.org/hebrew/text?book=Chronica_II&chapter=25&verse=22&version=c&mr=m&qw=q&tp=txt_p&tr=hb&wget=v&qget=v&nget=vt\" title=\"show this passage in SHEBANQ\">2_Chronicles 25:22</a></div>\n",
       "\n",
       "</div>\n",
       "\n",
       "</div>"
      ],
      "text/plain": [
       "<IPython.core.display.HTML object>"
      ]
     },
     "metadata": {},
     "output_type": "display_data"
    },
    {
     "data": {
      "text/markdown": [
       "\n",
       "\n",
       "**Result** *65*\n",
       "\n"
      ],
      "text/plain": [
       "<IPython.core.display.Markdown object>"
      ]
     },
     "metadata": {},
     "output_type": "display_data"
    },
    {
     "data": {
      "text/html": [
       "<div class=\"outeritem\">\n",
       "<div class=\"lextp \" style=\"background-color: None;\">\n",
       "<div class=\"h\">סָבִיב</div>\n",
       "<div class=\"features\"> <span class=\"voc_lex\"><a target=\"_blank\" href=\"https://shebanq.ancient-data.org/hebrew/word?version=c&id=1SBJBn\" title=\"show this lexeme in SHEBANQ\">S@BIJB</a></span> <span class=\"gloss\">surrounding</span> <span class=\"freq_lex\"><span class=\"f\">freq_lex=</span>336</span> <span class=\"ls\"><span class=\"f\">ls=</span>padv</span></div>\n",
       "<div class=\"occs\"><a href=\"https://shebanq.ancient-data.org/hebrew/text?book=Genesis&chapter=23&verse=17&version=c&mr=m&qw=q&tp=txt_p&tr=hb&wget=v&qget=v&nget=vt\" title=\"show this passage in SHEBANQ\">Genesis 23:17</a> - <a href=\"https://shebanq.ancient-data.org/hebrew/text?book=Chronica_II&chapter=34&verse=6&version=c&mr=m&qw=q&tp=txt_p&tr=hb&wget=v&qget=v&nget=vt\" title=\"show this passage in SHEBANQ\">2_Chronicles 34:6</a></div>\n",
       "\n",
       "</div>\n",
       "\n",
       "</div>"
      ],
      "text/plain": [
       "<IPython.core.display.HTML object>"
      ]
     },
     "metadata": {},
     "output_type": "display_data"
    },
    {
     "data": {
      "text/markdown": [
       "\n",
       "\n",
       "**Result** *66*\n",
       "\n"
      ],
      "text/plain": [
       "<IPython.core.display.Markdown object>"
      ]
     },
     "metadata": {},
     "output_type": "display_data"
    },
    {
     "data": {
      "text/html": [
       "<div class=\"outeritem\">\n",
       "<div class=\"lextp \" style=\"background-color: None;\">\n",
       "<div class=\"h\">אָדֹון</div>\n",
       "<div class=\"features\"> <span class=\"voc_lex\"><a target=\"_blank\" href=\"https://shebanq.ancient-data.org/hebrew/word?version=c&id=1ADWNn\" title=\"show this lexeme in SHEBANQ\">>@DOWN</a></span> <span class=\"gloss\">lord</span> <span class=\"freq_lex\"><span class=\"f\">freq_lex=</span>335</span></div>\n",
       "<div class=\"occs\"><a href=\"https://shebanq.ancient-data.org/hebrew/text?book=Genesis&chapter=18&verse=12&version=c&mr=m&qw=q&tp=txt_p&tr=hb&wget=v&qget=v&nget=vt\" title=\"show this passage in SHEBANQ\">Genesis 18:12</a> - <a href=\"https://shebanq.ancient-data.org/hebrew/text?book=Chronica_II&chapter=18&verse=16&version=c&mr=m&qw=q&tp=txt_p&tr=hb&wget=v&qget=v&nget=vt\" title=\"show this passage in SHEBANQ\">2_Chronicles 18:16</a></div>\n",
       "\n",
       "</div>\n",
       "\n",
       "</div>"
      ],
      "text/plain": [
       "<IPython.core.display.HTML object>"
      ]
     },
     "metadata": {},
     "output_type": "display_data"
    },
    {
     "data": {
      "text/markdown": [
       "\n",
       "\n",
       "**Result** *67*\n",
       "\n"
      ],
      "text/plain": [
       "<IPython.core.display.Markdown object>"
      ]
     },
     "metadata": {},
     "output_type": "display_data"
    },
    {
     "data": {
      "text/html": [
       "<div class=\"outeritem\">\n",
       "<div class=\"lextp \" style=\"background-color: None;\">\n",
       "<div class=\"h\">עֵץ</div>\n",
       "<div class=\"features\"> <span class=\"voc_lex\"><a target=\"_blank\" href=\"https://shebanq.ancient-data.org/hebrew/word?version=c&id=1OYn\" title=\"show this lexeme in SHEBANQ\">&lt;;Y</a></span> <span class=\"gloss\">tree</span> <span class=\"freq_lex\"><span class=\"f\">freq_lex=</span>330</span></div>\n",
       "<div class=\"occs\"><a href=\"https://shebanq.ancient-data.org/hebrew/text?book=Genesis&chapter=1&verse=11&version=c&mr=m&qw=q&tp=txt_p&tr=hb&wget=v&qget=v&nget=vt\" title=\"show this passage in SHEBANQ\">Genesis 1:11</a> - <a href=\"https://shebanq.ancient-data.org/hebrew/text?book=Chronica_II&chapter=34&verse=11&version=c&mr=m&qw=q&tp=txt_p&tr=hb&wget=v&qget=v&nget=vt\" title=\"show this passage in SHEBANQ\">2_Chronicles 34:11</a></div>\n",
       "\n",
       "</div>\n",
       "\n",
       "</div>"
      ],
      "text/plain": [
       "<IPython.core.display.HTML object>"
      ]
     },
     "metadata": {},
     "output_type": "display_data"
    },
    {
     "data": {
      "text/markdown": [
       "\n",
       "\n",
       "**Result** *68*\n",
       "\n"
      ],
      "text/plain": [
       "<IPython.core.display.Markdown object>"
      ]
     },
     "metadata": {},
     "output_type": "display_data"
    },
    {
     "data": {
      "text/html": [
       "<div class=\"outeritem\">\n",
       "<div class=\"lextp \" style=\"background-color: None;\">\n",
       "<div class=\"h\">כְּלִי</div>\n",
       "<div class=\"features\"> <span class=\"voc_lex\"><a target=\"_blank\" href=\"https://shebanq.ancient-data.org/hebrew/word?version=c&id=1KLJn\" title=\"show this lexeme in SHEBANQ\">K.:LIJ</a></span> <span class=\"gloss\">tool</span> <span class=\"freq_lex\"><span class=\"f\">freq_lex=</span>325</span></div>\n",
       "<div class=\"occs\"><a href=\"https://shebanq.ancient-data.org/hebrew/text?book=Genesis&chapter=24&verse=53&version=c&mr=m&qw=q&tp=txt_p&tr=hb&wget=v&qget=v&nget=vt\" title=\"show this passage in SHEBANQ\">Genesis 24:53</a> - <a href=\"https://shebanq.ancient-data.org/hebrew/text?book=Chronica_II&chapter=36&verse=19&version=c&mr=m&qw=q&tp=txt_p&tr=hb&wget=v&qget=v&nget=vt\" title=\"show this passage in SHEBANQ\">2_Chronicles 36:19</a></div>\n",
       "\n",
       "</div>\n",
       "\n",
       "</div>"
      ],
      "text/plain": [
       "<IPython.core.display.HTML object>"
      ]
     },
     "metadata": {},
     "output_type": "display_data"
    },
    {
     "data": {
      "text/markdown": [
       "\n",
       "\n",
       "**Result** *69*\n",
       "\n"
      ],
      "text/plain": [
       "<IPython.core.display.Markdown object>"
      ]
     },
     "metadata": {},
     "output_type": "display_data"
    },
    {
     "data": {
      "text/html": [
       "<div class=\"outeritem\">\n",
       "<div class=\"lextp \" style=\"background-color: None;\">\n",
       "<div class=\"h\">שָׂדֶה</div>\n",
       "<div class=\"features\"> <span class=\"voc_lex\"><a target=\"_blank\" href=\"https://shebanq.ancient-data.org/hebrew/word?version=c&id=1FDHn\" title=\"show this lexeme in SHEBANQ\">F@DEH</a></span> <span class=\"gloss\">open field</span> <span class=\"freq_lex\"><span class=\"f\">freq_lex=</span>320</span></div>\n",
       "<div class=\"occs\"><a href=\"https://shebanq.ancient-data.org/hebrew/text?book=Genesis&chapter=2&verse=5&version=c&mr=m&qw=q&tp=txt_p&tr=hb&wget=v&qget=v&nget=vt\" title=\"show this passage in SHEBANQ\">Genesis 2:5</a> - <a href=\"https://shebanq.ancient-data.org/hebrew/text?book=Chronica_II&chapter=31&verse=19&version=c&mr=m&qw=q&tp=txt_p&tr=hb&wget=v&qget=v&nget=vt\" title=\"show this passage in SHEBANQ\">2_Chronicles 31:19</a></div>\n",
       "\n",
       "</div>\n",
       "\n",
       "</div>"
      ],
      "text/plain": [
       "<IPython.core.display.HTML object>"
      ]
     },
     "metadata": {},
     "output_type": "display_data"
    },
    {
     "data": {
      "text/markdown": [
       "\n",
       "\n",
       "**Result** *70*\n",
       "\n"
      ],
      "text/plain": [
       "<IPython.core.display.Markdown object>"
      ]
     },
     "metadata": {},
     "output_type": "display_data"
    },
    {
     "data": {
      "text/html": [
       "<div class=\"outeritem\">\n",
       "<div class=\"lextp \" style=\"background-color: None;\">\n",
       "<div class=\"h\">נָבִיא</div>\n",
       "<div class=\"features\"> <span class=\"voc_lex\"><a target=\"_blank\" href=\"https://shebanq.ancient-data.org/hebrew/word?version=c&id=1NBJAn\" title=\"show this lexeme in SHEBANQ\">N@BIJ></a></span> <span class=\"gloss\">prophet</span> <span class=\"freq_lex\"><span class=\"f\">freq_lex=</span>315</span></div>\n",
       "<div class=\"occs\"><a href=\"https://shebanq.ancient-data.org/hebrew/text?book=Genesis&chapter=20&verse=7&version=c&mr=m&qw=q&tp=txt_p&tr=hb&wget=v&qget=v&nget=vt\" title=\"show this passage in SHEBANQ\">Genesis 20:7</a> - <a href=\"https://shebanq.ancient-data.org/hebrew/text?book=Chronica_II&chapter=36&verse=16&version=c&mr=m&qw=q&tp=txt_p&tr=hb&wget=v&qget=v&nget=vt\" title=\"show this passage in SHEBANQ\">2_Chronicles 36:16</a></div>\n",
       "\n",
       "</div>\n",
       "\n",
       "</div>"
      ],
      "text/plain": [
       "<IPython.core.display.HTML object>"
      ]
     },
     "metadata": {},
     "output_type": "display_data"
    },
    {
     "data": {
      "text/markdown": [
       "\n",
       "\n",
       "**Result** *71*\n",
       "\n"
      ],
      "text/plain": [
       "<IPython.core.display.Markdown object>"
      ]
     },
     "metadata": {},
     "output_type": "display_data"
    },
    {
     "data": {
      "text/html": [
       "<div class=\"outeritem\">\n",
       "<div class=\"lextp \" style=\"background-color: None;\">\n",
       "<div class=\"h\">עֶשְׂרִים</div>\n",
       "<div class=\"features\"> <span class=\"voc_lex\"><a target=\"_blank\" href=\"https://shebanq.ancient-data.org/hebrew/word?version=c&id=1OFRJMn\" title=\"show this lexeme in SHEBANQ\">&lt;EF:RIJM</a></span> <span class=\"gloss\">twenty</span> <span class=\"freq_lex\"><span class=\"f\">freq_lex=</span>315</span> <span class=\"ls\"><span class=\"f\">ls=</span>card</span></div>\n",
       "<div class=\"occs\"><a href=\"https://shebanq.ancient-data.org/hebrew/text?book=Genesis&chapter=6&verse=3&version=c&mr=m&qw=q&tp=txt_p&tr=hb&wget=v&qget=v&nget=vt\" title=\"show this passage in SHEBANQ\">Genesis 6:3</a> - <a href=\"https://shebanq.ancient-data.org/hebrew/text?book=Chronica_II&chapter=36&verse=11&version=c&mr=m&qw=q&tp=txt_p&tr=hb&wget=v&qget=v&nget=vt\" title=\"show this passage in SHEBANQ\">2_Chronicles 36:11</a></div>\n",
       "\n",
       "</div>\n",
       "\n",
       "</div>"
      ],
      "text/plain": [
       "<IPython.core.display.HTML object>"
      ]
     },
     "metadata": {},
     "output_type": "display_data"
    },
    {
     "data": {
      "text/markdown": [
       "\n",
       "\n",
       "**Result** *72*\n",
       "\n"
      ],
      "text/plain": [
       "<IPython.core.display.Markdown object>"
      ]
     },
     "metadata": {},
     "output_type": "display_data"
    },
    {
     "data": {
      "text/html": [
       "<div class=\"outeritem\">\n",
       "<div class=\"lextp \" style=\"background-color: None;\">\n",
       "<div class=\"h\">רָעָה</div>\n",
       "<div class=\"features\"> <span class=\"voc_lex\"><a target=\"_blank\" href=\"https://shebanq.ancient-data.org/hebrew/word?version=c&id=1ROHn\" title=\"show this lexeme in SHEBANQ\">R@&lt;@H</a></span> <span class=\"gloss\">evil</span> <span class=\"freq_lex\"><span class=\"f\">freq_lex=</span>313</span></div>\n",
       "<div class=\"occs\"><a href=\"https://shebanq.ancient-data.org/hebrew/text?book=Genesis&chapter=6&verse=5&version=c&mr=m&qw=q&tp=txt_p&tr=hb&wget=v&qget=v&nget=vt\" title=\"show this passage in SHEBANQ\">Genesis 6:5</a> - <a href=\"https://shebanq.ancient-data.org/hebrew/text?book=Chronica_II&chapter=34&verse=28&version=c&mr=m&qw=q&tp=txt_p&tr=hb&wget=v&qget=v&nget=vt\" title=\"show this passage in SHEBANQ\">2_Chronicles 34:28</a></div>\n",
       "\n",
       "</div>\n",
       "\n",
       "</div>"
      ],
      "text/plain": [
       "<IPython.core.display.HTML object>"
      ]
     },
     "metadata": {},
     "output_type": "display_data"
    },
    {
     "data": {
      "text/markdown": [
       "\n",
       "\n",
       "**Result** *73*\n",
       "\n"
      ],
      "text/plain": [
       "<IPython.core.display.Markdown object>"
      ]
     },
     "metadata": {},
     "output_type": "display_data"
    },
    {
     "data": {
      "text/html": [
       "<div class=\"outeritem\">\n",
       "<div class=\"lextp \" style=\"background-color: None;\">\n",
       "<div class=\"h\">מִלְחָמָה</div>\n",
       "<div class=\"features\"> <span class=\"voc_lex\"><a target=\"_blank\" href=\"https://shebanq.ancient-data.org/hebrew/word?version=c&id=1MLXMHn\" title=\"show this lexeme in SHEBANQ\">MIL:X@M@H</a></span> <span class=\"gloss\">war</span> <span class=\"freq_lex\"><span class=\"f\">freq_lex=</span>308</span></div>\n",
       "<div class=\"occs\"><a href=\"https://shebanq.ancient-data.org/hebrew/text?book=Genesis&chapter=14&verse=2&version=c&mr=m&qw=q&tp=txt_p&tr=hb&wget=v&qget=v&nget=vt\" title=\"show this passage in SHEBANQ\">Genesis 14:2</a> - <a href=\"https://shebanq.ancient-data.org/hebrew/text?book=Chronica_II&chapter=32&verse=8&version=c&mr=m&qw=q&tp=txt_p&tr=hb&wget=v&qget=v&nget=vt\" title=\"show this passage in SHEBANQ\">2_Chronicles 32:8</a></div>\n",
       "\n",
       "</div>\n",
       "\n",
       "</div>"
      ],
      "text/plain": [
       "<IPython.core.display.HTML object>"
      ]
     },
     "metadata": {},
     "output_type": "display_data"
    },
    {
     "data": {
      "text/markdown": [
       "\n",
       "\n",
       "**Result** *74*\n",
       "\n"
      ],
      "text/plain": [
       "<IPython.core.display.Markdown object>"
      ]
     },
     "metadata": {},
     "output_type": "display_data"
    },
    {
     "data": {
      "text/html": [
       "<div class=\"outeritem\">\n",
       "<div class=\"lextp \" style=\"background-color: None;\">\n",
       "<div class=\"h\">מְאֹד</div>\n",
       "<div class=\"features\"> <span class=\"voc_lex\"><a target=\"_blank\" href=\"https://shebanq.ancient-data.org/hebrew/word?version=c&id=1MADn\" title=\"show this lexeme in SHEBANQ\">M:>OD</a></span> <span class=\"gloss\">might</span> <span class=\"freq_lex\"><span class=\"f\">freq_lex=</span>300</span> <span class=\"ls\"><span class=\"f\">ls=</span>padv</span></div>\n",
       "<div class=\"occs\"><a href=\"https://shebanq.ancient-data.org/hebrew/text?book=Genesis&chapter=1&verse=31&version=c&mr=m&qw=q&tp=txt_p&tr=hb&wget=v&qget=v&nget=vt\" title=\"show this passage in SHEBANQ\">Genesis 1:31</a> - <a href=\"https://shebanq.ancient-data.org/hebrew/text?book=Chronica_II&chapter=35&verse=23&version=c&mr=m&qw=q&tp=txt_p&tr=hb&wget=v&qget=v&nget=vt\" title=\"show this passage in SHEBANQ\">2_Chronicles 35:23</a></div>\n",
       "\n",
       "</div>\n",
       "\n",
       "</div>"
      ],
      "text/plain": [
       "<IPython.core.display.HTML object>"
      ]
     },
     "metadata": {},
     "output_type": "display_data"
    },
    {
     "data": {
      "text/markdown": [
       "\n",
       "\n",
       "**Result** *75*\n",
       "\n"
      ],
      "text/plain": [
       "<IPython.core.display.Markdown object>"
      ]
     },
     "metadata": {},
     "output_type": "display_data"
    },
    {
     "data": {
      "text/html": [
       "<div class=\"outeritem\">\n",
       "<div class=\"lextp \" style=\"background-color: None;\">\n",
       "<div class=\"h\">לֶחֶם</div>\n",
       "<div class=\"features\"> <span class=\"voc_lex\"><a target=\"_blank\" href=\"https://shebanq.ancient-data.org/hebrew/word?version=c&id=1LXMn\" title=\"show this lexeme in SHEBANQ\">LEXEM</a></span> <span class=\"gloss\">bread</span> <span class=\"freq_lex\"><span class=\"f\">freq_lex=</span>298</span></div>\n",
       "<div class=\"occs\"><a href=\"https://shebanq.ancient-data.org/hebrew/text?book=Genesis&chapter=3&verse=19&version=c&mr=m&qw=q&tp=txt_p&tr=hb&wget=v&qget=v&nget=vt\" title=\"show this passage in SHEBANQ\">Genesis 3:19</a> - <a href=\"https://shebanq.ancient-data.org/hebrew/text?book=Chronica_II&chapter=18&verse=26&version=c&mr=m&qw=q&tp=txt_p&tr=hb&wget=v&qget=v&nget=vt\" title=\"show this passage in SHEBANQ\">2_Chronicles 18:26</a></div>\n",
       "\n",
       "</div>\n",
       "\n",
       "</div>"
      ],
      "text/plain": [
       "<IPython.core.display.HTML object>"
      ]
     },
     "metadata": {},
     "output_type": "display_data"
    },
    {
     "data": {
      "text/markdown": [
       "\n",
       "\n",
       "**Result** *76*\n",
       "\n"
      ],
      "text/plain": [
       "<IPython.core.display.Markdown object>"
      ]
     },
     "metadata": {},
     "output_type": "display_data"
    },
    {
     "data": {
      "text/html": [
       "<div class=\"outeritem\">\n",
       "<div class=\"lextp \" style=\"background-color: None;\">\n",
       "<div class=\"h\">עֵת</div>\n",
       "<div class=\"features\"> <span class=\"voc_lex\"><a target=\"_blank\" href=\"https://shebanq.ancient-data.org/hebrew/word?version=c&id=1OTn\" title=\"show this lexeme in SHEBANQ\">&lt;;T</a></span> <span class=\"gloss\">time</span> <span class=\"freq_lex\"><span class=\"f\">freq_lex=</span>297</span></div>\n",
       "<div class=\"occs\"><a href=\"https://shebanq.ancient-data.org/hebrew/text?book=Genesis&chapter=8&verse=11&version=c&mr=m&qw=q&tp=txt_p&tr=hb&wget=v&qget=v&nget=vt\" title=\"show this passage in SHEBANQ\">Genesis 8:11</a> - <a href=\"https://shebanq.ancient-data.org/hebrew/text?book=Chronica_II&chapter=35&verse=17&version=c&mr=m&qw=q&tp=txt_p&tr=hb&wget=v&qget=v&nget=vt\" title=\"show this passage in SHEBANQ\">2_Chronicles 35:17</a></div>\n",
       "\n",
       "</div>\n",
       "\n",
       "</div>"
      ],
      "text/plain": [
       "<IPython.core.display.HTML object>"
      ]
     },
     "metadata": {},
     "output_type": "display_data"
    },
    {
     "data": {
      "text/markdown": [
       "\n",
       "\n",
       "**Result** *77*\n",
       "\n"
      ],
      "text/plain": [
       "<IPython.core.display.Markdown object>"
      ]
     },
     "metadata": {},
     "output_type": "display_data"
    },
    {
     "data": {
      "text/html": [
       "<div class=\"outeritem\">\n",
       "<div class=\"lextp \" style=\"background-color: None;\">\n",
       "<div class=\"h\">חַטָּאת</div>\n",
       "<div class=\"features\"> <span class=\"voc_lex\"><a target=\"_blank\" href=\"https://shebanq.ancient-data.org/hebrew/word?version=c&id=1XVATn\" title=\"show this lexeme in SHEBANQ\">XAV.@>T</a></span> <span class=\"gloss\">sin</span> <span class=\"freq_lex\"><span class=\"f\">freq_lex=</span>293</span></div>\n",
       "<div class=\"occs\"><a href=\"https://shebanq.ancient-data.org/hebrew/text?book=Genesis&chapter=4&verse=7&version=c&mr=m&qw=q&tp=txt_p&tr=hb&wget=v&qget=v&nget=vt\" title=\"show this passage in SHEBANQ\">Genesis 4:7</a> - <a href=\"https://shebanq.ancient-data.org/hebrew/text?book=Chronica_II&chapter=33&verse=19&version=c&mr=m&qw=q&tp=txt_p&tr=hb&wget=v&qget=v&nget=vt\" title=\"show this passage in SHEBANQ\">2_Chronicles 33:19</a></div>\n",
       "\n",
       "</div>\n",
       "\n",
       "</div>"
      ],
      "text/plain": [
       "<IPython.core.display.HTML object>"
      ]
     },
     "metadata": {},
     "output_type": "display_data"
    },
    {
     "data": {
      "text/markdown": [
       "\n",
       "\n",
       "**Result** *78*\n",
       "\n"
      ],
      "text/plain": [
       "<IPython.core.display.Markdown object>"
      ]
     },
     "metadata": {},
     "output_type": "display_data"
    },
    {
     "data": {
      "text/html": [
       "<div class=\"outeritem\">\n",
       "<div class=\"lextp \" style=\"background-color: None;\">\n",
       "<div class=\"h\">עֹלָה</div>\n",
       "<div class=\"features\"> <span class=\"voc_lex\"><a target=\"_blank\" href=\"https://shebanq.ancient-data.org/hebrew/word?version=c&id=1OLHn\" title=\"show this lexeme in SHEBANQ\">&lt;OL@H</a></span> <span class=\"gloss\">burnt-offering</span> <span class=\"freq_lex\"><span class=\"f\">freq_lex=</span>286</span></div>\n",
       "<div class=\"occs\"><a href=\"https://shebanq.ancient-data.org/hebrew/text?book=Genesis&chapter=8&verse=20&version=c&mr=m&qw=q&tp=txt_p&tr=hb&wget=v&qget=v&nget=vt\" title=\"show this passage in SHEBANQ\">Genesis 8:20</a> - <a href=\"https://shebanq.ancient-data.org/hebrew/text?book=Chronica_II&chapter=35&verse=16&version=c&mr=m&qw=q&tp=txt_p&tr=hb&wget=v&qget=v&nget=vt\" title=\"show this passage in SHEBANQ\">2_Chronicles 35:16</a></div>\n",
       "\n",
       "</div>\n",
       "\n",
       "</div>"
      ],
      "text/plain": [
       "<IPython.core.display.HTML object>"
      ]
     },
     "metadata": {},
     "output_type": "display_data"
    },
    {
     "data": {
      "text/markdown": [
       "\n",
       "\n",
       "**Result** *79*\n",
       "\n"
      ],
      "text/plain": [
       "<IPython.core.display.Markdown object>"
      ]
     },
     "metadata": {},
     "output_type": "display_data"
    },
    {
     "data": {
      "text/html": [
       "<div class=\"outeritem\">\n",
       "<div class=\"lextp \" style=\"background-color: None;\">\n",
       "<div class=\"h\">חֹדֶשׁ</div>\n",
       "<div class=\"features\"> <span class=\"voc_lex\"><a target=\"_blank\" href=\"https://shebanq.ancient-data.org/hebrew/word?version=c&id=1XDCin\" title=\"show this lexeme in SHEBANQ\">XODEC</a></span> <span class=\"gloss\">month</span> <span class=\"freq_lex\"><span class=\"f\">freq_lex=</span>284</span></div>\n",
       "<div class=\"occs\"><a href=\"https://shebanq.ancient-data.org/hebrew/text?book=Genesis&chapter=7&verse=11&version=c&mr=m&qw=q&tp=txt_p&tr=hb&wget=v&qget=v&nget=vt\" title=\"show this passage in SHEBANQ\">Genesis 7:11</a> - <a href=\"https://shebanq.ancient-data.org/hebrew/text?book=Chronica_II&chapter=36&verse=9&version=c&mr=m&qw=q&tp=txt_p&tr=hb&wget=v&qget=v&nget=vt\" title=\"show this passage in SHEBANQ\">2_Chronicles 36:9</a></div>\n",
       "\n",
       "</div>\n",
       "\n",
       "</div>"
      ],
      "text/plain": [
       "<IPython.core.display.HTML object>"
      ]
     },
     "metadata": {},
     "output_type": "display_data"
    },
    {
     "data": {
      "text/markdown": [
       "\n",
       "\n",
       "**Result** *80*\n",
       "\n"
      ],
      "text/plain": [
       "<IPython.core.display.Markdown object>"
      ]
     },
     "metadata": {},
     "output_type": "display_data"
    },
    {
     "data": {
      "text/html": [
       "<div class=\"outeritem\">\n",
       "<div class=\"lextp \" style=\"background-color: None;\">\n",
       "<div class=\"h\">בְּרִית</div>\n",
       "<div class=\"features\"> <span class=\"voc_lex\"><a target=\"_blank\" href=\"https://shebanq.ancient-data.org/hebrew/word?version=c&id=1BRJTn\" title=\"show this lexeme in SHEBANQ\">B.:RIJT</a></span> <span class=\"gloss\">covenant</span> <span class=\"freq_lex\"><span class=\"f\">freq_lex=</span>284</span></div>\n",
       "<div class=\"occs\"><a href=\"https://shebanq.ancient-data.org/hebrew/text?book=Genesis&chapter=6&verse=18&version=c&mr=m&qw=q&tp=txt_p&tr=hb&wget=v&qget=v&nget=vt\" title=\"show this passage in SHEBANQ\">Genesis 6:18</a> - <a href=\"https://shebanq.ancient-data.org/hebrew/text?book=Chronica_II&chapter=34&verse=32&version=c&mr=m&qw=q&tp=txt_p&tr=hb&wget=v&qget=v&nget=vt\" title=\"show this passage in SHEBANQ\">2_Chronicles 34:32</a></div>\n",
       "\n",
       "</div>\n",
       "\n",
       "</div>"
      ],
      "text/plain": [
       "<IPython.core.display.HTML object>"
      ]
     },
     "metadata": {},
     "output_type": "display_data"
    },
    {
     "data": {
      "text/markdown": [
       "\n",
       "\n",
       "**Result** *81*\n",
       "\n"
      ],
      "text/plain": [
       "<IPython.core.display.Markdown object>"
      ]
     },
     "metadata": {},
     "output_type": "display_data"
    },
    {
     "data": {
      "text/html": [
       "<div class=\"outeritem\">\n",
       "<div class=\"lextp \" style=\"background-color: None;\">\n",
       "<div class=\"h\">אַף</div>\n",
       "<div class=\"features\"> <span class=\"voc_lex\"><a target=\"_blank\" href=\"https://shebanq.ancient-data.org/hebrew/word?version=c&id=1APn\" title=\"show this lexeme in SHEBANQ\">>AP</a></span> <span class=\"gloss\">nose</span> <span class=\"freq_lex\"><span class=\"f\">freq_lex=</span>277</span></div>\n",
       "<div class=\"occs\"><a href=\"https://shebanq.ancient-data.org/hebrew/text?book=Genesis&chapter=2&verse=7&version=c&mr=m&qw=q&tp=txt_p&tr=hb&wget=v&qget=v&nget=vt\" title=\"show this passage in SHEBANQ\">Genesis 2:7</a> - <a href=\"https://shebanq.ancient-data.org/hebrew/text?book=Chronica_II&chapter=30&verse=8&version=c&mr=m&qw=q&tp=txt_p&tr=hb&wget=v&qget=v&nget=vt\" title=\"show this passage in SHEBANQ\">2_Chronicles 30:8</a></div>\n",
       "\n",
       "</div>\n",
       "\n",
       "</div>"
      ],
      "text/plain": [
       "<IPython.core.display.HTML object>"
      ]
     },
     "metadata": {},
     "output_type": "display_data"
    },
    {
     "data": {
      "text/markdown": [
       "\n",
       "\n",
       "**Result** *82*\n",
       "\n"
      ],
      "text/plain": [
       "<IPython.core.display.Markdown object>"
      ]
     },
     "metadata": {},
     "output_type": "display_data"
    },
    {
     "data": {
      "text/html": [
       "<div class=\"outeritem\">\n",
       "<div class=\"lextp \" style=\"background-color: None;\">\n",
       "<div class=\"h\">פַּרְעֹה</div>\n",
       "<div class=\"features\"> <span class=\"voc_lex\"><a target=\"_blank\" href=\"https://shebanq.ancient-data.org/hebrew/word?version=c&id=1PROHn\" title=\"show this lexeme in SHEBANQ\">P.AR:&lt;OH</a></span> <span class=\"gloss\">pharaoh</span> <span class=\"freq_lex\"><span class=\"f\">freq_lex=</span>274</span></div>\n",
       "<div class=\"occs\"><a href=\"https://shebanq.ancient-data.org/hebrew/text?book=Genesis&chapter=12&verse=15&version=c&mr=m&qw=q&tp=txt_p&tr=hb&wget=v&qget=v&nget=vt\" title=\"show this passage in SHEBANQ\">Genesis 12:15</a> - <a href=\"https://shebanq.ancient-data.org/hebrew/text?book=Chronica_II&chapter=8&verse=11&version=c&mr=m&qw=q&tp=txt_p&tr=hb&wget=v&qget=v&nget=vt\" title=\"show this passage in SHEBANQ\">2_Chronicles 8:11</a></div>\n",
       "\n",
       "</div>\n",
       "\n",
       "</div>"
      ],
      "text/plain": [
       "<IPython.core.display.HTML object>"
      ]
     },
     "metadata": {},
     "output_type": "display_data"
    },
    {
     "data": {
      "text/markdown": [
       "\n",
       "\n",
       "**Result** *83*\n",
       "\n"
      ],
      "text/plain": [
       "<IPython.core.display.Markdown object>"
      ]
     },
     "metadata": {},
     "output_type": "display_data"
    },
    {
     "data": {
      "text/html": [
       "<div class=\"outeritem\">\n",
       "<div class=\"lextp \" style=\"background-color: None;\">\n",
       "<div class=\"h\">שֵׁשׁ</div>\n",
       "<div class=\"features\"> <span class=\"voc_lex\"><a target=\"_blank\" href=\"https://shebanq.ancient-data.org/hebrew/word?version=c&id=1CCn\" title=\"show this lexeme in SHEBANQ\">C;C</a></span> <span class=\"gloss\">six</span> <span class=\"freq_lex\"><span class=\"f\">freq_lex=</span>274</span> <span class=\"ls\"><span class=\"f\">ls=</span>card</span></div>\n",
       "<div class=\"occs\"><a href=\"https://shebanq.ancient-data.org/hebrew/text?book=Genesis&chapter=5&verse=15&version=c&mr=m&qw=q&tp=txt_p&tr=hb&wget=v&qget=v&nget=vt\" title=\"show this passage in SHEBANQ\">Genesis 5:15</a> - <a href=\"https://shebanq.ancient-data.org/hebrew/text?book=Chronica_II&chapter=35&verse=8&version=c&mr=m&qw=q&tp=txt_p&tr=hb&wget=v&qget=v&nget=vt\" title=\"show this passage in SHEBANQ\">2_Chronicles 35:8</a></div>\n",
       "\n",
       "</div>\n",
       "\n",
       "</div>"
      ],
      "text/plain": [
       "<IPython.core.display.HTML object>"
      ]
     },
     "metadata": {},
     "output_type": "display_data"
    },
    {
     "data": {
      "text/markdown": [
       "\n",
       "\n",
       "**Result** *84*\n",
       "\n"
      ],
      "text/plain": [
       "<IPython.core.display.Markdown object>"
      ]
     },
     "metadata": {},
     "output_type": "display_data"
    },
    {
     "data": {
      "text/html": [
       "<div class=\"outeritem\">\n",
       "<div class=\"lextp \" style=\"background-color: None;\">\n",
       "<div class=\"h\">צֹאן</div>\n",
       "<div class=\"features\"> <span class=\"voc_lex\"><a target=\"_blank\" href=\"https://shebanq.ancient-data.org/hebrew/word?version=c&id=1YANn\" title=\"show this lexeme in SHEBANQ\">YO>N</a></span> <span class=\"gloss\">cattle</span> <span class=\"freq_lex\"><span class=\"f\">freq_lex=</span>274</span></div>\n",
       "<div class=\"occs\"><a href=\"https://shebanq.ancient-data.org/hebrew/text?book=Genesis&chapter=4&verse=2&version=c&mr=m&qw=q&tp=txt_p&tr=hb&wget=v&qget=v&nget=vt\" title=\"show this passage in SHEBANQ\">Genesis 4:2</a> - <a href=\"https://shebanq.ancient-data.org/hebrew/text?book=Chronica_II&chapter=35&verse=7&version=c&mr=m&qw=q&tp=txt_p&tr=hb&wget=v&qget=v&nget=vt\" title=\"show this passage in SHEBANQ\">2_Chronicles 35:7</a></div>\n",
       "\n",
       "</div>\n",
       "\n",
       "</div>"
      ],
      "text/plain": [
       "<IPython.core.display.HTML object>"
      ]
     },
     "metadata": {},
     "output_type": "display_data"
    },
    {
     "data": {
      "text/markdown": [
       "\n",
       "\n",
       "**Result** *85*\n",
       "\n"
      ],
      "text/plain": [
       "<IPython.core.display.Markdown object>"
      ]
     },
     "metadata": {},
     "output_type": "display_data"
    },
    {
     "data": {
      "text/html": [
       "<div class=\"outeritem\">\n",
       "<div class=\"lextp \" style=\"background-color: None;\">\n",
       "<div class=\"h\">אֶבֶן</div>\n",
       "<div class=\"features\"> <span class=\"voc_lex\"><a target=\"_blank\" href=\"https://shebanq.ancient-data.org/hebrew/word?version=c&id=1ABNn\" title=\"show this lexeme in SHEBANQ\">>EBEN</a></span> <span class=\"gloss\">stone</span> <span class=\"freq_lex\"><span class=\"f\">freq_lex=</span>273</span></div>\n",
       "<div class=\"occs\"><a href=\"https://shebanq.ancient-data.org/hebrew/text?book=Genesis&chapter=2&verse=12&version=c&mr=m&qw=q&tp=txt_p&tr=hb&wget=v&qget=v&nget=vt\" title=\"show this passage in SHEBANQ\">Genesis 2:12</a> - <a href=\"https://shebanq.ancient-data.org/hebrew/text?book=Chronica_II&chapter=34&verse=11&version=c&mr=m&qw=q&tp=txt_p&tr=hb&wget=v&qget=v&nget=vt\" title=\"show this passage in SHEBANQ\">2_Chronicles 34:11</a></div>\n",
       "\n",
       "</div>\n",
       "\n",
       "</div>"
      ],
      "text/plain": [
       "<IPython.core.display.HTML object>"
      ]
     },
     "metadata": {},
     "output_type": "display_data"
    },
    {
     "data": {
      "text/markdown": [
       "\n",
       "\n",
       "**Result** *86*\n",
       "\n"
      ],
      "text/plain": [
       "<IPython.core.display.Markdown object>"
      ]
     },
     "metadata": {},
     "output_type": "display_data"
    },
    {
     "data": {
      "text/html": [
       "<div class=\"outeritem\">\n",
       "<div class=\"lextp \" style=\"background-color: None;\">\n",
       "<div class=\"h\">מִדְבָּר</div>\n",
       "<div class=\"features\"> <span class=\"voc_lex\"><a target=\"_blank\" href=\"https://shebanq.ancient-data.org/hebrew/word?version=c&id=1MDBRn\" title=\"show this lexeme in SHEBANQ\">MID:B.@R</a></span> <span class=\"gloss\">desert</span> <span class=\"freq_lex\"><span class=\"f\">freq_lex=</span>270</span></div>\n",
       "<div class=\"occs\"><a href=\"https://shebanq.ancient-data.org/hebrew/text?book=Genesis&chapter=14&verse=6&version=c&mr=m&qw=q&tp=txt_p&tr=hb&wget=v&qget=v&nget=vt\" title=\"show this passage in SHEBANQ\">Genesis 14:6</a> - <a href=\"https://shebanq.ancient-data.org/hebrew/text?book=Chronica_II&chapter=26&verse=10&version=c&mr=m&qw=q&tp=txt_p&tr=hb&wget=v&qget=v&nget=vt\" title=\"show this passage in SHEBANQ\">2_Chronicles 26:10</a></div>\n",
       "\n",
       "</div>\n",
       "\n",
       "</div>"
      ],
      "text/plain": [
       "<IPython.core.display.HTML object>"
      ]
     },
     "metadata": {},
     "output_type": "display_data"
    },
    {
     "data": {
      "text/markdown": [
       "\n",
       "\n",
       "**Result** *87*\n",
       "\n"
      ],
      "text/plain": [
       "<IPython.core.display.Markdown object>"
      ]
     },
     "metadata": {},
     "output_type": "display_data"
    },
    {
     "data": {
      "text/html": [
       "<div class=\"outeritem\">\n",
       "<div class=\"lextp \" style=\"background-color: None;\">\n",
       "<div class=\"h\">בָּשָׂר</div>\n",
       "<div class=\"features\"> <span class=\"voc_lex\"><a target=\"_blank\" href=\"https://shebanq.ancient-data.org/hebrew/word?version=c&id=1BFRn\" title=\"show this lexeme in SHEBANQ\">B.@F@R</a></span> <span class=\"gloss\">flesh</span> <span class=\"freq_lex\"><span class=\"f\">freq_lex=</span>270</span></div>\n",
       "<div class=\"occs\"><a href=\"https://shebanq.ancient-data.org/hebrew/text?book=Genesis&chapter=2&verse=21&version=c&mr=m&qw=q&tp=txt_p&tr=hb&wget=v&qget=v&nget=vt\" title=\"show this passage in SHEBANQ\">Genesis 2:21</a> - <a href=\"https://shebanq.ancient-data.org/hebrew/text?book=Chronica_II&chapter=32&verse=8&version=c&mr=m&qw=q&tp=txt_p&tr=hb&wget=v&qget=v&nget=vt\" title=\"show this passage in SHEBANQ\">2_Chronicles 32:8</a></div>\n",
       "\n",
       "</div>\n",
       "\n",
       "</div>"
      ],
      "text/plain": [
       "<IPython.core.display.HTML object>"
      ]
     },
     "metadata": {},
     "output_type": "display_data"
    },
    {
     "data": {
      "text/markdown": [
       "\n",
       "\n",
       "**Result** *88*\n",
       "\n"
      ],
      "text/plain": [
       "<IPython.core.display.Markdown object>"
      ]
     },
     "metadata": {},
     "output_type": "display_data"
    },
    {
     "data": {
      "text/html": [
       "<div class=\"outeritem\">\n",
       "<div class=\"lextp \" style=\"background-color: None;\">\n",
       "<div class=\"h\">מַטֶּה</div>\n",
       "<div class=\"features\"> <span class=\"voc_lex\"><a target=\"_blank\" href=\"https://shebanq.ancient-data.org/hebrew/word?version=c&id=1MVHn\" title=\"show this lexeme in SHEBANQ\">MAV.EH</a></span> <span class=\"gloss\">staff</span> <span class=\"freq_lex\"><span class=\"f\">freq_lex=</span>252</span></div>\n",
       "<div class=\"occs\"><a href=\"https://shebanq.ancient-data.org/hebrew/text?book=Genesis&chapter=38&verse=18&version=c&mr=m&qw=q&tp=txt_p&tr=hb&wget=v&qget=v&nget=vt\" title=\"show this passage in SHEBANQ\">Genesis 38:18</a> - <a href=\"https://shebanq.ancient-data.org/hebrew/text?book=Chronica_II&chapter=5&verse=2&version=c&mr=m&qw=q&tp=txt_p&tr=hb&wget=v&qget=v&nget=vt\" title=\"show this passage in SHEBANQ\">2_Chronicles 5:2</a></div>\n",
       "\n",
       "</div>\n",
       "\n",
       "</div>"
      ],
      "text/plain": [
       "<IPython.core.display.HTML object>"
      ]
     },
     "metadata": {},
     "output_type": "display_data"
    },
    {
     "data": {
      "text/markdown": [
       "\n",
       "\n",
       "**Result** *89*\n",
       "\n"
      ],
      "text/plain": [
       "<IPython.core.display.Markdown object>"
      ]
     },
     "metadata": {},
     "output_type": "display_data"
    },
    {
     "data": {
      "text/html": [
       "<div class=\"outeritem\">\n",
       "<div class=\"lextp \" style=\"background-color: None;\">\n",
       "<div class=\"h\">לֵבָב</div>\n",
       "<div class=\"features\"> <span class=\"voc_lex\"><a target=\"_blank\" href=\"https://shebanq.ancient-data.org/hebrew/word?version=c&id=1LBBn\" title=\"show this lexeme in SHEBANQ\">L;B@B</a></span> <span class=\"gloss\">heart</span> <span class=\"freq_lex\"><span class=\"f\">freq_lex=</span>252</span></div>\n",
       "<div class=\"occs\"><a href=\"https://shebanq.ancient-data.org/hebrew/text?book=Genesis&chapter=20&verse=5&version=c&mr=m&qw=q&tp=txt_p&tr=hb&wget=v&qget=v&nget=vt\" title=\"show this passage in SHEBANQ\">Genesis 20:5</a> - <a href=\"https://shebanq.ancient-data.org/hebrew/text?book=Chronica_II&chapter=36&verse=13&version=c&mr=m&qw=q&tp=txt_p&tr=hb&wget=v&qget=v&nget=vt\" title=\"show this passage in SHEBANQ\">2_Chronicles 36:13</a></div>\n",
       "\n",
       "</div>\n",
       "\n",
       "</div>"
      ],
      "text/plain": [
       "<IPython.core.display.HTML object>"
      ]
     },
     "metadata": {},
     "output_type": "display_data"
    },
    {
     "data": {
      "text/markdown": [
       "\n",
       "\n",
       "**Result** *90*\n",
       "\n"
      ],
      "text/plain": [
       "<IPython.core.display.Markdown object>"
      ]
     },
     "metadata": {},
     "output_type": "display_data"
    },
    {
     "data": {
      "text/html": [
       "<div class=\"outeritem\">\n",
       "<div class=\"lextp \" style=\"background-color: None;\">\n",
       "<div class=\"h\">רֶגֶל</div>\n",
       "<div class=\"features\"> <span class=\"voc_lex\"><a target=\"_blank\" href=\"https://shebanq.ancient-data.org/hebrew/word?version=c&id=1RGLn\" title=\"show this lexeme in SHEBANQ\">REGEL</a></span> <span class=\"gloss\">foot</span> <span class=\"freq_lex\"><span class=\"f\">freq_lex=</span>247</span></div>\n",
       "<div class=\"occs\"><a href=\"https://shebanq.ancient-data.org/hebrew/text?book=Genesis&chapter=8&verse=9&version=c&mr=m&qw=q&tp=txt_p&tr=hb&wget=v&qget=v&nget=vt\" title=\"show this passage in SHEBANQ\">Genesis 8:9</a> - <a href=\"https://shebanq.ancient-data.org/hebrew/text?book=Chronica_II&chapter=33&verse=8&version=c&mr=m&qw=q&tp=txt_p&tr=hb&wget=v&qget=v&nget=vt\" title=\"show this passage in SHEBANQ\">2_Chronicles 33:8</a></div>\n",
       "\n",
       "</div>\n",
       "\n",
       "</div>"
      ],
      "text/plain": [
       "<IPython.core.display.HTML object>"
      ]
     },
     "metadata": {},
     "output_type": "display_data"
    },
    {
     "data": {
      "text/markdown": [
       "\n",
       "\n",
       "**Result** *91*\n",
       "\n"
      ],
      "text/plain": [
       "<IPython.core.display.Markdown object>"
      ]
     },
     "metadata": {},
     "output_type": "display_data"
    },
    {
     "data": {
      "text/html": [
       "<div class=\"outeritem\">\n",
       "<div class=\"lextp \" style=\"background-color: None;\">\n",
       "<div class=\"h\">אַמָּה</div>\n",
       "<div class=\"features\"> <span class=\"voc_lex\"><a target=\"_blank\" href=\"https://shebanq.ancient-data.org/hebrew/word?version=c&id=1AMHin\" title=\"show this lexeme in SHEBANQ\">>AM.@H</a></span> <span class=\"gloss\">cubit</span> <span class=\"freq_lex\"><span class=\"f\">freq_lex=</span>247</span></div>\n",
       "<div class=\"occs\"><a href=\"https://shebanq.ancient-data.org/hebrew/text?book=Genesis&chapter=6&verse=15&version=c&mr=m&qw=q&tp=txt_p&tr=hb&wget=v&qget=v&nget=vt\" title=\"show this passage in SHEBANQ\">Genesis 6:15</a> - <a href=\"https://shebanq.ancient-data.org/hebrew/text?book=Chronica_II&chapter=25&verse=23&version=c&mr=m&qw=q&tp=txt_p&tr=hb&wget=v&qget=v&nget=vt\" title=\"show this passage in SHEBANQ\">2_Chronicles 25:23</a></div>\n",
       "\n",
       "</div>\n",
       "\n",
       "</div>"
      ],
      "text/plain": [
       "<IPython.core.display.HTML object>"
      ]
     },
     "metadata": {},
     "output_type": "display_data"
    },
    {
     "data": {
      "text/markdown": [
       "\n",
       "\n",
       "**Result** *92*\n",
       "\n"
      ],
      "text/plain": [
       "<IPython.core.display.Markdown object>"
      ]
     },
     "metadata": {},
     "output_type": "display_data"
    },
    {
     "data": {
      "text/html": [
       "<div class=\"outeritem\">\n",
       "<div class=\"lextp \" style=\"background-color: None;\">\n",
       "<div class=\"h\">חֶסֶד</div>\n",
       "<div class=\"features\"> <span class=\"voc_lex\"><a target=\"_blank\" href=\"https://shebanq.ancient-data.org/hebrew/word?version=c&id=1XSDn\" title=\"show this lexeme in SHEBANQ\">XESED</a></span> <span class=\"gloss\">loyalty</span> <span class=\"freq_lex\"><span class=\"f\">freq_lex=</span>245</span></div>\n",
       "<div class=\"occs\"><a href=\"https://shebanq.ancient-data.org/hebrew/text?book=Genesis&chapter=19&verse=19&version=c&mr=m&qw=q&tp=txt_p&tr=hb&wget=v&qget=v&nget=vt\" title=\"show this passage in SHEBANQ\">Genesis 19:19</a> - <a href=\"https://shebanq.ancient-data.org/hebrew/text?book=Chronica_II&chapter=35&verse=26&version=c&mr=m&qw=q&tp=txt_p&tr=hb&wget=v&qget=v&nget=vt\" title=\"show this passage in SHEBANQ\">2_Chronicles 35:26</a></div>\n",
       "\n",
       "</div>\n",
       "\n",
       "</div>"
      ],
      "text/plain": [
       "<IPython.core.display.HTML object>"
      ]
     },
     "metadata": {},
     "output_type": "display_data"
    },
    {
     "data": {
      "text/markdown": [
       "\n",
       "\n",
       "**Result** *93*\n",
       "\n"
      ],
      "text/plain": [
       "<IPython.core.display.Markdown object>"
      ]
     },
     "metadata": {},
     "output_type": "display_data"
    },
    {
     "data": {
      "text/html": [
       "<div class=\"outeritem\">\n",
       "<div class=\"lextp \" style=\"background-color: None;\">\n",
       "<div class=\"h\">חַיִל</div>\n",
       "<div class=\"features\"> <span class=\"voc_lex\"><a target=\"_blank\" href=\"https://shebanq.ancient-data.org/hebrew/word?version=c&id=1XJLn\" title=\"show this lexeme in SHEBANQ\">XAJIL</a></span> <span class=\"gloss\">power</span> <span class=\"freq_lex\"><span class=\"f\">freq_lex=</span>244</span></div>\n",
       "<div class=\"occs\"><a href=\"https://shebanq.ancient-data.org/hebrew/text?book=Genesis&chapter=34&verse=29&version=c&mr=m&qw=q&tp=txt_p&tr=hb&wget=v&qget=v&nget=vt\" title=\"show this passage in SHEBANQ\">Genesis 34:29</a> - <a href=\"https://shebanq.ancient-data.org/hebrew/text?book=Chronica_II&chapter=33&verse=14&version=c&mr=m&qw=q&tp=txt_p&tr=hb&wget=v&qget=v&nget=vt\" title=\"show this passage in SHEBANQ\">2_Chronicles 33:14</a></div>\n",
       "\n",
       "</div>\n",
       "\n",
       "</div>"
      ],
      "text/plain": [
       "<IPython.core.display.HTML object>"
      ]
     },
     "metadata": {},
     "output_type": "display_data"
    },
    {
     "data": {
      "text/markdown": [
       "\n",
       "\n",
       "**Result** *94*\n",
       "\n"
      ],
      "text/plain": [
       "<IPython.core.display.Markdown object>"
      ]
     },
     "metadata": {},
     "output_type": "display_data"
    },
    {
     "data": {
      "text/html": [
       "<div class=\"outeritem\">\n",
       "<div class=\"lextp \" style=\"background-color: None;\">\n",
       "<div class=\"h\">נַעַר</div>\n",
       "<div class=\"features\"> <span class=\"voc_lex\"><a target=\"_blank\" href=\"https://shebanq.ancient-data.org/hebrew/word?version=c&id=1NORn\" title=\"show this lexeme in SHEBANQ\">NA&lt;AR</a></span> <span class=\"gloss\">boy</span> <span class=\"freq_lex\"><span class=\"f\">freq_lex=</span>240</span></div>\n",
       "<div class=\"occs\"><a href=\"https://shebanq.ancient-data.org/hebrew/text?book=Genesis&chapter=14&verse=24&version=c&mr=m&qw=q&tp=txt_p&tr=hb&wget=v&qget=v&nget=vt\" title=\"show this passage in SHEBANQ\">Genesis 14:24</a> - <a href=\"https://shebanq.ancient-data.org/hebrew/text?book=Chronica_II&chapter=34&verse=3&version=c&mr=m&qw=q&tp=txt_p&tr=hb&wget=v&qget=v&nget=vt\" title=\"show this passage in SHEBANQ\">2_Chronicles 34:3</a></div>\n",
       "\n",
       "</div>\n",
       "\n",
       "</div>"
      ],
      "text/plain": [
       "<IPython.core.display.HTML object>"
      ]
     },
     "metadata": {},
     "output_type": "display_data"
    },
    {
     "data": {
      "text/markdown": [
       "\n",
       "\n",
       "**Result** *95*\n",
       "\n"
      ],
      "text/plain": [
       "<IPython.core.display.Markdown object>"
      ]
     },
     "metadata": {},
     "output_type": "display_data"
    },
    {
     "data": {
      "text/html": [
       "<div class=\"outeritem\">\n",
       "<div class=\"lextp \" style=\"background-color: None;\">\n",
       "<div class=\"h\">גְּבוּל</div>\n",
       "<div class=\"features\"> <span class=\"voc_lex\"><a target=\"_blank\" href=\"https://shebanq.ancient-data.org/hebrew/word?version=c&id=1GBWLn\" title=\"show this lexeme in SHEBANQ\">G.:BW.L</a></span> <span class=\"gloss\">boundary</span> <span class=\"freq_lex\"><span class=\"f\">freq_lex=</span>240</span></div>\n",
       "<div class=\"occs\"><a href=\"https://shebanq.ancient-data.org/hebrew/text?book=Genesis&chapter=10&verse=19&version=c&mr=m&qw=q&tp=txt_p&tr=hb&wget=v&qget=v&nget=vt\" title=\"show this passage in SHEBANQ\">Genesis 10:19</a> - <a href=\"https://shebanq.ancient-data.org/hebrew/text?book=Chronica_II&chapter=11&verse=13&version=c&mr=m&qw=q&tp=txt_p&tr=hb&wget=v&qget=v&nget=vt\" title=\"show this passage in SHEBANQ\">2_Chronicles 11:13</a></div>\n",
       "\n",
       "</div>\n",
       "\n",
       "</div>"
      ],
      "text/plain": [
       "<IPython.core.display.HTML object>"
      ]
     },
     "metadata": {},
     "output_type": "display_data"
    },
    {
     "data": {
      "text/markdown": [
       "\n",
       "\n",
       "**Result** *96*\n",
       "\n"
      ],
      "text/plain": [
       "<IPython.core.display.Markdown object>"
      ]
     },
     "metadata": {},
     "output_type": "display_data"
    },
    {
     "data": {
      "text/html": [
       "<div class=\"outeritem\">\n",
       "<div class=\"lextp \" style=\"background-color: None;\">\n",
       "<div class=\"h\">שָׁלֹום</div>\n",
       "<div class=\"features\"> <span class=\"voc_lex\"><a target=\"_blank\" href=\"https://shebanq.ancient-data.org/hebrew/word?version=c&id=1CLWMn\" title=\"show this lexeme in SHEBANQ\">C@LOWM</a></span> <span class=\"gloss\">peace</span> <span class=\"freq_lex\"><span class=\"f\">freq_lex=</span>237</span></div>\n",
       "<div class=\"occs\"><a href=\"https://shebanq.ancient-data.org/hebrew/text?book=Genesis&chapter=15&verse=15&version=c&mr=m&qw=q&tp=txt_p&tr=hb&wget=v&qget=v&nget=vt\" title=\"show this passage in SHEBANQ\">Genesis 15:15</a> - <a href=\"https://shebanq.ancient-data.org/hebrew/text?book=Chronica_II&chapter=34&verse=28&version=c&mr=m&qw=q&tp=txt_p&tr=hb&wget=v&qget=v&nget=vt\" title=\"show this passage in SHEBANQ\">2_Chronicles 34:28</a></div>\n",
       "\n",
       "</div>\n",
       "\n",
       "</div>"
      ],
      "text/plain": [
       "<IPython.core.display.HTML object>"
      ]
     },
     "metadata": {},
     "output_type": "display_data"
    },
    {
     "data": {
      "text/markdown": [
       "\n",
       "\n",
       "**Result** *97*\n",
       "\n"
      ],
      "text/plain": [
       "<IPython.core.display.Markdown object>"
      ]
     },
     "metadata": {},
     "output_type": "display_data"
    },
    {
     "data": {
      "text/html": [
       "<div class=\"outeritem\">\n",
       "<div class=\"lextp \" style=\"background-color: None;\">\n",
       "<div class=\"h\">אֵל</div>\n",
       "<div class=\"features\"> <span class=\"voc_lex\"><a target=\"_blank\" href=\"https://shebanq.ancient-data.org/hebrew/word?version=c&id=1ALn\" title=\"show this lexeme in SHEBANQ\">>;L</a></span> <span class=\"gloss\">god</span> <span class=\"freq_lex\"><span class=\"f\">freq_lex=</span>235</span></div>\n",
       "<div class=\"occs\"><a href=\"https://shebanq.ancient-data.org/hebrew/text?book=Genesis&chapter=14&verse=18&version=c&mr=m&qw=q&tp=txt_p&tr=hb&wget=v&qget=v&nget=vt\" title=\"show this passage in SHEBANQ\">Genesis 14:18</a> - <a href=\"https://shebanq.ancient-data.org/hebrew/text?book=Nehemia&chapter=9&verse=32&version=c&mr=m&qw=q&tp=txt_p&tr=hb&wget=v&qget=v&nget=vt\" title=\"show this passage in SHEBANQ\">Nehemiah 9:32</a></div>\n",
       "\n",
       "</div>\n",
       "\n",
       "</div>"
      ],
      "text/plain": [
       "<IPython.core.display.HTML object>"
      ]
     },
     "metadata": {},
     "output_type": "display_data"
    },
    {
     "data": {
      "text/markdown": [
       "\n",
       "\n",
       "**Result** *98*\n",
       "\n"
      ],
      "text/plain": [
       "<IPython.core.display.Markdown object>"
      ]
     },
     "metadata": {},
     "output_type": "display_data"
    },
    {
     "data": {
      "text/html": [
       "<div class=\"outeritem\">\n",
       "<div class=\"lextp \" style=\"background-color: None;\">\n",
       "<div class=\"h\">מַעֲשֶׂה</div>\n",
       "<div class=\"features\"> <span class=\"voc_lex\"><a target=\"_blank\" href=\"https://shebanq.ancient-data.org/hebrew/word?version=c&id=1MOFHn\" title=\"show this lexeme in SHEBANQ\">MA&lt;:AFEH</a></span> <span class=\"gloss\">deed</span> <span class=\"freq_lex\"><span class=\"f\">freq_lex=</span>235</span></div>\n",
       "<div class=\"occs\"><a href=\"https://shebanq.ancient-data.org/hebrew/text?book=Genesis&chapter=5&verse=29&version=c&mr=m&qw=q&tp=txt_p&tr=hb&wget=v&qget=v&nget=vt\" title=\"show this passage in SHEBANQ\">Genesis 5:29</a> - <a href=\"https://shebanq.ancient-data.org/hebrew/text?book=Chronica_II&chapter=34&verse=25&version=c&mr=m&qw=q&tp=txt_p&tr=hb&wget=v&qget=v&nget=vt\" title=\"show this passage in SHEBANQ\">2_Chronicles 34:25</a></div>\n",
       "\n",
       "</div>\n",
       "\n",
       "</div>"
      ],
      "text/plain": [
       "<IPython.core.display.HTML object>"
      ]
     },
     "metadata": {},
     "output_type": "display_data"
    },
    {
     "data": {
      "text/markdown": [
       "\n",
       "\n",
       "**Result** *99*\n",
       "\n"
      ],
      "text/plain": [
       "<IPython.core.display.Markdown object>"
      ]
     },
     "metadata": {},
     "output_type": "display_data"
    },
    {
     "data": {
      "text/html": [
       "<div class=\"outeritem\">\n",
       "<div class=\"lextp \" style=\"background-color: None;\">\n",
       "<div class=\"h\">עָוֹן</div>\n",
       "<div class=\"features\"> <span class=\"voc_lex\"><a target=\"_blank\" href=\"https://shebanq.ancient-data.org/hebrew/word?version=c&id=1OWNn\" title=\"show this lexeme in SHEBANQ\">&lt;@WON</a></span> <span class=\"gloss\">sin</span> <span class=\"freq_lex\"><span class=\"f\">freq_lex=</span>231</span></div>\n",
       "<div class=\"occs\"><a href=\"https://shebanq.ancient-data.org/hebrew/text?book=Genesis&chapter=4&verse=13&version=c&mr=m&qw=q&tp=txt_p&tr=hb&wget=v&qget=v&nget=vt\" title=\"show this passage in SHEBANQ\">Genesis 4:13</a> - <a href=\"https://shebanq.ancient-data.org/hebrew/text?book=Chronica_I&chapter=21&verse=8&version=c&mr=m&qw=q&tp=txt_p&tr=hb&wget=v&qget=v&nget=vt\" title=\"show this passage in SHEBANQ\">1_Chronicles 21:8</a></div>\n",
       "\n",
       "</div>\n",
       "\n",
       "</div>"
      ],
      "text/plain": [
       "<IPython.core.display.HTML object>"
      ]
     },
     "metadata": {},
     "output_type": "display_data"
    },
    {
     "data": {
      "text/markdown": [
       "\n",
       "\n",
       "**Result** *100*\n",
       "\n"
      ],
      "text/plain": [
       "<IPython.core.display.Markdown object>"
      ]
     },
     "metadata": {},
     "output_type": "display_data"
    },
    {
     "data": {
      "text/html": [
       "<div class=\"outeritem\">\n",
       "<div class=\"lextp \" style=\"background-color: None;\">\n",
       "<div class=\"h\">זֶרַע</div>\n",
       "<div class=\"features\"> <span class=\"voc_lex\"><a target=\"_blank\" href=\"https://shebanq.ancient-data.org/hebrew/word?version=c&id=1ZROn\" title=\"show this lexeme in SHEBANQ\">ZERA&lt;</a></span> <span class=\"gloss\">seed</span> <span class=\"freq_lex\"><span class=\"f\">freq_lex=</span>229</span></div>\n",
       "<div class=\"occs\"><a href=\"https://shebanq.ancient-data.org/hebrew/text?book=Genesis&chapter=1&verse=11&version=c&mr=m&qw=q&tp=txt_p&tr=hb&wget=v&qget=v&nget=vt\" title=\"show this passage in SHEBANQ\">Genesis 1:11</a> - <a href=\"https://shebanq.ancient-data.org/hebrew/text?book=Chronica_II&chapter=22&verse=10&version=c&mr=m&qw=q&tp=txt_p&tr=hb&wget=v&qget=v&nget=vt\" title=\"show this passage in SHEBANQ\">2_Chronicles 22:10</a></div>\n",
       "\n",
       "</div>\n",
       "\n",
       "</div>"
      ],
      "text/plain": [
       "<IPython.core.display.HTML object>"
      ]
     },
     "metadata": {},
     "output_type": "display_data"
    },
    {
     "data": {
      "text/markdown": [
       "\n",
       "\n",
       "**Result** *101*\n",
       "\n"
      ],
      "text/plain": [
       "<IPython.core.display.Markdown object>"
      ]
     },
     "metadata": {},
     "output_type": "display_data"
    },
    {
     "data": {
      "text/html": [
       "<div class=\"outeritem\">\n",
       "<div class=\"lextp \" style=\"background-color: None;\">\n",
       "<div class=\"h\">קֶרֶב</div>\n",
       "<div class=\"features\"> <span class=\"voc_lex\"><a target=\"_blank\" href=\"https://shebanq.ancient-data.org/hebrew/word?version=c&id=1QRBn\" title=\"show this lexeme in SHEBANQ\">QEREB</a></span> <span class=\"gloss\">interior</span> <span class=\"freq_lex\"><span class=\"f\">freq_lex=</span>227</span></div>\n",
       "<div class=\"occs\"><a href=\"https://shebanq.ancient-data.org/hebrew/text?book=Genesis&chapter=18&verse=12&version=c&mr=m&qw=q&tp=txt_p&tr=hb&wget=v&qget=v&nget=vt\" title=\"show this passage in SHEBANQ\">Genesis 18:12</a> - <a href=\"https://shebanq.ancient-data.org/hebrew/text?book=Threni&chapter=4&verse=13&version=c&mr=m&qw=q&tp=txt_p&tr=hb&wget=v&qget=v&nget=vt\" title=\"show this passage in SHEBANQ\">Lamentations 4:13</a></div>\n",
       "\n",
       "</div>\n",
       "\n",
       "</div>"
      ],
      "text/plain": [
       "<IPython.core.display.HTML object>"
      ]
     },
     "metadata": {},
     "output_type": "display_data"
    },
    {
     "data": {
      "text/markdown": [
       "\n",
       "\n",
       "**Result** *102*\n",
       "\n"
      ],
      "text/plain": [
       "<IPython.core.display.Markdown object>"
      ]
     },
     "metadata": {},
     "output_type": "display_data"
    },
    {
     "data": {
      "text/html": [
       "<div class=\"outeritem\">\n",
       "<div class=\"lextp \" style=\"background-color: None;\">\n",
       "<div class=\"h\">לַיְלָה</div>\n",
       "<div class=\"features\"> <span class=\"voc_lex\"><a target=\"_blank\" href=\"https://shebanq.ancient-data.org/hebrew/word?version=c&id=1LJLHn\" title=\"show this lexeme in SHEBANQ\">LAJ:L@H</a></span> <span class=\"gloss\">night</span> <span class=\"freq_lex\"><span class=\"f\">freq_lex=</span>227</span> <span class=\"ls\"><span class=\"f\">ls=</span>padv</span></div>\n",
       "<div class=\"occs\"><a href=\"https://shebanq.ancient-data.org/hebrew/text?book=Genesis&chapter=1&verse=5&version=c&mr=m&qw=q&tp=txt_p&tr=hb&wget=v&qget=v&nget=vt\" title=\"show this passage in SHEBANQ\">Genesis 1:5</a> - <a href=\"https://shebanq.ancient-data.org/hebrew/text?book=Chronica_II&chapter=35&verse=14&version=c&mr=m&qw=q&tp=txt_p&tr=hb&wget=v&qget=v&nget=vt\" title=\"show this passage in SHEBANQ\">2_Chronicles 35:14</a></div>\n",
       "\n",
       "</div>\n",
       "\n",
       "</div>"
      ],
      "text/plain": [
       "<IPython.core.display.HTML object>"
      ]
     },
     "metadata": {},
     "output_type": "display_data"
    },
    {
     "data": {
      "text/markdown": [
       "\n",
       "\n",
       "**Result** *103*\n",
       "\n"
      ],
      "text/plain": [
       "<IPython.core.display.Markdown object>"
      ]
     },
     "metadata": {},
     "output_type": "display_data"
    },
    {
     "data": {
      "text/html": [
       "<div class=\"outeritem\">\n",
       "<div class=\"lextp \" style=\"background-color: None;\">\n",
       "<div class=\"h\">בַּד</div>\n",
       "<div class=\"features\"> <span class=\"voc_lex\"><a target=\"_blank\" href=\"https://shebanq.ancient-data.org/hebrew/word?version=c&id=1BDn\" title=\"show this lexeme in SHEBANQ\">B.AD</a></span> <span class=\"gloss\">linen, part, stave</span> <span class=\"freq_lex\"><span class=\"f\">freq_lex=</span>225</span></div>\n",
       "<div class=\"occs\"><a href=\"https://shebanq.ancient-data.org/hebrew/text?book=Genesis&chapter=2&verse=18&version=c&mr=m&qw=q&tp=txt_p&tr=hb&wget=v&qget=v&nget=vt\" title=\"show this passage in SHEBANQ\">Genesis 2:18</a> - <a href=\"https://shebanq.ancient-data.org/hebrew/text?book=Chronica_II&chapter=31&verse=16&version=c&mr=m&qw=q&tp=txt_p&tr=hb&wget=v&qget=v&nget=vt\" title=\"show this passage in SHEBANQ\">2_Chronicles 31:16</a></div>\n",
       "\n",
       "</div>\n",
       "\n",
       "</div>"
      ],
      "text/plain": [
       "<IPython.core.display.HTML object>"
      ]
     },
     "metadata": {},
     "output_type": "display_data"
    },
    {
     "data": {
      "text/markdown": [
       "\n",
       "\n",
       "**Result** *104*\n",
       "\n"
      ],
      "text/plain": [
       "<IPython.core.display.Markdown object>"
      ]
     },
     "metadata": {},
     "output_type": "display_data"
    },
    {
     "data": {
      "text/html": [
       "<div class=\"outeritem\">\n",
       "<div class=\"lextp \" style=\"background-color: None;\">\n",
       "<div class=\"h\">נַחֲלָה</div>\n",
       "<div class=\"features\"> <span class=\"voc_lex\"><a target=\"_blank\" href=\"https://shebanq.ancient-data.org/hebrew/word?version=c&id=1NXLHn\" title=\"show this lexeme in SHEBANQ\">NAX:AL@H</a></span> <span class=\"gloss\">heritage</span> <span class=\"freq_lex\"><span class=\"f\">freq_lex=</span>224</span></div>\n",
       "<div class=\"occs\"><a href=\"https://shebanq.ancient-data.org/hebrew/text?book=Genesis&chapter=31&verse=14&version=c&mr=m&qw=q&tp=txt_p&tr=hb&wget=v&qget=v&nget=vt\" title=\"show this passage in SHEBANQ\">Genesis 31:14</a> - <a href=\"https://shebanq.ancient-data.org/hebrew/text?book=Chronica_II&chapter=10&verse=16&version=c&mr=m&qw=q&tp=txt_p&tr=hb&wget=v&qget=v&nget=vt\" title=\"show this passage in SHEBANQ\">2_Chronicles 10:16</a></div>\n",
       "\n",
       "</div>\n",
       "\n",
       "</div>"
      ],
      "text/plain": [
       "<IPython.core.display.HTML object>"
      ]
     },
     "metadata": {},
     "output_type": "display_data"
    },
    {
     "data": {
      "text/markdown": [
       "\n",
       "\n",
       "**Result** *105*\n",
       "\n"
      ],
      "text/plain": [
       "<IPython.core.display.Markdown object>"
      ]
     },
     "metadata": {},
     "output_type": "display_data"
    },
    {
     "data": {
      "text/html": [
       "<div class=\"outeritem\">\n",
       "<div class=\"lextp \" style=\"background-color: None;\">\n",
       "<div class=\"h\">אֲדָמָה</div>\n",
       "<div class=\"features\"> <span class=\"voc_lex\"><a target=\"_blank\" href=\"https://shebanq.ancient-data.org/hebrew/word?version=c&id=1ADMHn\" title=\"show this lexeme in SHEBANQ\">>:AD@M@H</a></span> <span class=\"gloss\">soil</span> <span class=\"freq_lex\"><span class=\"f\">freq_lex=</span>223</span></div>\n",
       "<div class=\"occs\"><a href=\"https://shebanq.ancient-data.org/hebrew/text?book=Genesis&chapter=1&verse=25&version=c&mr=m&qw=q&tp=txt_p&tr=hb&wget=v&qget=v&nget=vt\" title=\"show this passage in SHEBANQ\">Genesis 1:25</a> - <a href=\"https://shebanq.ancient-data.org/hebrew/text?book=Chronica_II&chapter=33&verse=8&version=c&mr=m&qw=q&tp=txt_p&tr=hb&wget=v&qget=v&nget=vt\" title=\"show this passage in SHEBANQ\">2_Chronicles 33:8</a></div>\n",
       "\n",
       "</div>\n",
       "\n",
       "</div>"
      ],
      "text/plain": [
       "<IPython.core.display.HTML object>"
      ]
     },
     "metadata": {},
     "output_type": "display_data"
    },
    {
     "data": {
      "text/markdown": [
       "\n",
       "\n",
       "**Result** *106*\n",
       "\n"
      ],
      "text/plain": [
       "<IPython.core.display.Markdown object>"
      ]
     },
     "metadata": {},
     "output_type": "display_data"
    },
    {
     "data": {
      "text/html": [
       "<div class=\"outeritem\">\n",
       "<div class=\"lextp \" style=\"background-color: None;\">\n",
       "<div class=\"h\">מֹועֵד</div>\n",
       "<div class=\"features\"> <span class=\"voc_lex\"><a target=\"_blank\" href=\"https://shebanq.ancient-data.org/hebrew/word?version=c&id=1MWODn\" title=\"show this lexeme in SHEBANQ\">MOW&lt;;D</a></span> <span class=\"gloss\">appointment</span> <span class=\"freq_lex\"><span class=\"f\">freq_lex=</span>223</span></div>\n",
       "<div class=\"occs\"><a href=\"https://shebanq.ancient-data.org/hebrew/text?book=Genesis&chapter=1&verse=14&version=c&mr=m&qw=q&tp=txt_p&tr=hb&wget=v&qget=v&nget=vt\" title=\"show this passage in SHEBANQ\">Genesis 1:14</a> - <a href=\"https://shebanq.ancient-data.org/hebrew/text?book=Chronica_II&chapter=31&verse=3&version=c&mr=m&qw=q&tp=txt_p&tr=hb&wget=v&qget=v&nget=vt\" title=\"show this passage in SHEBANQ\">2_Chronicles 31:3</a></div>\n",
       "\n",
       "</div>\n",
       "\n",
       "</div>"
      ],
      "text/plain": [
       "<IPython.core.display.HTML object>"
      ]
     },
     "metadata": {},
     "output_type": "display_data"
    },
    {
     "data": {
      "text/markdown": [
       "\n",
       "\n",
       "**Result** *107*\n",
       "\n"
      ],
      "text/plain": [
       "<IPython.core.display.Markdown object>"
      ]
     },
     "metadata": {},
     "output_type": "display_data"
    },
    {
     "data": {
      "text/html": [
       "<div class=\"outeritem\">\n",
       "<div class=\"lextp \" style=\"background-color: None;\">\n",
       "<div class=\"h\">תֹּורָה</div>\n",
       "<div class=\"features\"> <span class=\"voc_lex\"><a target=\"_blank\" href=\"https://shebanq.ancient-data.org/hebrew/word?version=c&id=1TWRHn\" title=\"show this lexeme in SHEBANQ\">T.OWR@H</a></span> <span class=\"gloss\">instruction</span> <span class=\"freq_lex\"><span class=\"f\">freq_lex=</span>220</span></div>\n",
       "<div class=\"occs\"><a href=\"https://shebanq.ancient-data.org/hebrew/text?book=Genesis&chapter=26&verse=5&version=c&mr=m&qw=q&tp=txt_p&tr=hb&wget=v&qget=v&nget=vt\" title=\"show this passage in SHEBANQ\">Genesis 26:5</a> - <a href=\"https://shebanq.ancient-data.org/hebrew/text?book=Chronica_II&chapter=35&verse=26&version=c&mr=m&qw=q&tp=txt_p&tr=hb&wget=v&qget=v&nget=vt\" title=\"show this passage in SHEBANQ\">2_Chronicles 35:26</a></div>\n",
       "\n",
       "</div>\n",
       "\n",
       "</div>"
      ],
      "text/plain": [
       "<IPython.core.display.HTML object>"
      ]
     },
     "metadata": {},
     "output_type": "display_data"
    },
    {
     "data": {
      "text/markdown": [
       "\n",
       "\n",
       "**Result** *108*\n",
       "\n"
      ],
      "text/plain": [
       "<IPython.core.display.Markdown object>"
      ]
     },
     "metadata": {},
     "output_type": "display_data"
    },
    {
     "data": {
      "text/html": [
       "<div class=\"outeritem\">\n",
       "<div class=\"lextp \" style=\"background-color: None;\">\n",
       "<div class=\"h\">אֵם</div>\n",
       "<div class=\"features\"> <span class=\"voc_lex\"><a target=\"_blank\" href=\"https://shebanq.ancient-data.org/hebrew/word?version=c&id=1AMn\" title=\"show this lexeme in SHEBANQ\">>;M</a></span> <span class=\"gloss\">mother</span> <span class=\"freq_lex\"><span class=\"f\">freq_lex=</span>220</span></div>\n",
       "<div class=\"occs\"><a href=\"https://shebanq.ancient-data.org/hebrew/text?book=Genesis&chapter=2&verse=24&version=c&mr=m&qw=q&tp=txt_p&tr=hb&wget=v&qget=v&nget=vt\" title=\"show this passage in SHEBANQ\">Genesis 2:24</a> - <a href=\"https://shebanq.ancient-data.org/hebrew/text?book=Chronica_II&chapter=29&verse=1&version=c&mr=m&qw=q&tp=txt_p&tr=hb&wget=v&qget=v&nget=vt\" title=\"show this passage in SHEBANQ\">2_Chronicles 29:1</a></div>\n",
       "\n",
       "</div>\n",
       "\n",
       "</div>"
      ],
      "text/plain": [
       "<IPython.core.display.HTML object>"
      ]
     },
     "metadata": {},
     "output_type": "display_data"
    },
    {
     "data": {
      "text/markdown": [
       "\n",
       "\n",
       "**Result** *109*\n",
       "\n"
      ],
      "text/plain": [
       "<IPython.core.display.Markdown object>"
      ]
     },
     "metadata": {},
     "output_type": "display_data"
    },
    {
     "data": {
      "text/html": [
       "<div class=\"outeritem\">\n",
       "<div class=\"lextp \" style=\"background-color: None;\">\n",
       "<div class=\"h\">בֶּגֶד</div>\n",
       "<div class=\"features\"> <span class=\"voc_lex\"><a target=\"_blank\" href=\"https://shebanq.ancient-data.org/hebrew/word?version=c&id=1BGDn\" title=\"show this lexeme in SHEBANQ\">B.EGED</a></span> <span class=\"gloss\">garment</span> <span class=\"freq_lex\"><span class=\"f\">freq_lex=</span>215</span></div>\n",
       "<div class=\"occs\"><a href=\"https://shebanq.ancient-data.org/hebrew/text?book=Genesis&chapter=24&verse=53&version=c&mr=m&qw=q&tp=txt_p&tr=hb&wget=v&qget=v&nget=vt\" title=\"show this passage in SHEBANQ\">Genesis 24:53</a> - <a href=\"https://shebanq.ancient-data.org/hebrew/text?book=Chronica_II&chapter=34&verse=27&version=c&mr=m&qw=q&tp=txt_p&tr=hb&wget=v&qget=v&nget=vt\" title=\"show this passage in SHEBANQ\">2_Chronicles 34:27</a></div>\n",
       "\n",
       "</div>\n",
       "\n",
       "</div>"
      ],
      "text/plain": [
       "<IPython.core.display.HTML object>"
      ]
     },
     "metadata": {},
     "output_type": "display_data"
    },
    {
     "data": {
      "text/markdown": [
       "\n",
       "\n",
       "**Result** *110*\n",
       "\n"
      ],
      "text/plain": [
       "<IPython.core.display.Markdown object>"
      ]
     },
     "metadata": {},
     "output_type": "display_data"
    },
    {
     "data": {
      "text/html": [
       "<div class=\"outeritem\">\n",
       "<div class=\"lextp \" style=\"background-color: None;\">\n",
       "<div class=\"h\">מַחֲנֶה</div>\n",
       "<div class=\"features\"> <span class=\"voc_lex\"><a target=\"_blank\" href=\"https://shebanq.ancient-data.org/hebrew/word?version=c&id=1MXNHn\" title=\"show this lexeme in SHEBANQ\">MAX:ANEH</a></span> <span class=\"gloss\">camp</span> <span class=\"freq_lex\"><span class=\"f\">freq_lex=</span>214</span></div>\n",
       "<div class=\"occs\"><a href=\"https://shebanq.ancient-data.org/hebrew/text?book=Genesis&chapter=32&verse=3&version=c&mr=m&qw=q&tp=txt_p&tr=hb&wget=v&qget=v&nget=vt\" title=\"show this passage in SHEBANQ\">Genesis 32:3</a> - <a href=\"https://shebanq.ancient-data.org/hebrew/text?book=Chronica_II&chapter=32&verse=21&version=c&mr=m&qw=q&tp=txt_p&tr=hb&wget=v&qget=v&nget=vt\" title=\"show this passage in SHEBANQ\">2_Chronicles 32:21</a></div>\n",
       "\n",
       "</div>\n",
       "\n",
       "</div>"
      ],
      "text/plain": [
       "<IPython.core.display.HTML object>"
      ]
     },
     "metadata": {},
     "output_type": "display_data"
    },
    {
     "data": {
      "text/markdown": [
       "\n",
       "\n",
       "**Result** *111*\n",
       "\n"
      ],
      "text/plain": [
       "<IPython.core.display.Markdown object>"
      ]
     },
     "metadata": {},
     "output_type": "display_data"
    },
    {
     "data": {
      "text/html": [
       "<div class=\"outeritem\">\n",
       "<div class=\"lextp \" style=\"background-color: None;\">\n",
       "<div class=\"h\">בֹּקֶר</div>\n",
       "<div class=\"features\"> <span class=\"voc_lex\"><a target=\"_blank\" href=\"https://shebanq.ancient-data.org/hebrew/word?version=c&id=1BQRin\" title=\"show this lexeme in SHEBANQ\">B.OQER</a></span> <span class=\"gloss\">morning</span> <span class=\"freq_lex\"><span class=\"f\">freq_lex=</span>214</span> <span class=\"ls\"><span class=\"f\">ls=</span>padv</span></div>\n",
       "<div class=\"occs\"><a href=\"https://shebanq.ancient-data.org/hebrew/text?book=Genesis&chapter=1&verse=5&version=c&mr=m&qw=q&tp=txt_p&tr=hb&wget=v&qget=v&nget=vt\" title=\"show this passage in SHEBANQ\">Genesis 1:5</a> - <a href=\"https://shebanq.ancient-data.org/hebrew/text?book=Chronica_II&chapter=31&verse=3&version=c&mr=m&qw=q&tp=txt_p&tr=hb&wget=v&qget=v&nget=vt\" title=\"show this passage in SHEBANQ\">2_Chronicles 31:3</a></div>\n",
       "\n",
       "</div>\n",
       "\n",
       "</div>"
      ],
      "text/plain": [
       "<IPython.core.display.HTML object>"
      ]
     },
     "metadata": {},
     "output_type": "display_data"
    },
    {
     "data": {
      "text/markdown": [
       "\n",
       "\n",
       "**Result** *112*\n",
       "\n"
      ],
      "text/plain": [
       "<IPython.core.display.Markdown object>"
      ]
     },
     "metadata": {},
     "output_type": "display_data"
    },
    {
     "data": {
      "text/html": [
       "<div class=\"outeritem\">\n",
       "<div class=\"lextp \" style=\"background-color: None;\">\n",
       "<div class=\"h\">מַלְאָךְ</div>\n",
       "<div class=\"features\"> <span class=\"voc_lex\"><a target=\"_blank\" href=\"https://shebanq.ancient-data.org/hebrew/word?version=c&id=1MLAKn\" title=\"show this lexeme in SHEBANQ\">MAL:>@K:</a></span> <span class=\"gloss\">messenger</span> <span class=\"freq_lex\"><span class=\"f\">freq_lex=</span>213</span></div>\n",
       "<div class=\"occs\"><a href=\"https://shebanq.ancient-data.org/hebrew/text?book=Genesis&chapter=16&verse=7&version=c&mr=m&qw=q&tp=txt_p&tr=hb&wget=v&qget=v&nget=vt\" title=\"show this passage in SHEBANQ\">Genesis 16:7</a> - <a href=\"https://shebanq.ancient-data.org/hebrew/text?book=Chronica_II&chapter=36&verse=16&version=c&mr=m&qw=q&tp=txt_p&tr=hb&wget=v&qget=v&nget=vt\" title=\"show this passage in SHEBANQ\">2_Chronicles 36:16</a></div>\n",
       "\n",
       "</div>\n",
       "\n",
       "</div>"
      ],
      "text/plain": [
       "<IPython.core.display.HTML object>"
      ]
     },
     "metadata": {},
     "output_type": "display_data"
    },
    {
     "data": {
      "text/markdown": [
       "\n",
       "\n",
       "**Result** *113*\n",
       "\n"
      ],
      "text/plain": [
       "<IPython.core.display.Markdown object>"
      ]
     },
     "metadata": {},
     "output_type": "display_data"
    },
    {
     "data": {
      "text/html": [
       "<div class=\"outeritem\">\n",
       "<div class=\"lextp \" style=\"background-color: None;\">\n",
       "<div class=\"h\">מִנְחָה</div>\n",
       "<div class=\"features\"> <span class=\"voc_lex\"><a target=\"_blank\" href=\"https://shebanq.ancient-data.org/hebrew/word?version=c&id=1MNXHn\" title=\"show this lexeme in SHEBANQ\">MIN:X@H</a></span> <span class=\"gloss\">present</span> <span class=\"freq_lex\"><span class=\"f\">freq_lex=</span>211</span></div>\n",
       "<div class=\"occs\"><a href=\"https://shebanq.ancient-data.org/hebrew/text?book=Genesis&chapter=4&verse=3&version=c&mr=m&qw=q&tp=txt_p&tr=hb&wget=v&qget=v&nget=vt\" title=\"show this passage in SHEBANQ\">Genesis 4:3</a> - <a href=\"https://shebanq.ancient-data.org/hebrew/text?book=Chronica_II&chapter=32&verse=23&version=c&mr=m&qw=q&tp=txt_p&tr=hb&wget=v&qget=v&nget=vt\" title=\"show this passage in SHEBANQ\">2_Chronicles 32:23</a></div>\n",
       "\n",
       "</div>\n",
       "\n",
       "</div>"
      ],
      "text/plain": [
       "<IPython.core.display.HTML object>"
      ]
     },
     "metadata": {},
     "output_type": "display_data"
    },
    {
     "data": {
      "text/markdown": [
       "\n",
       "\n",
       "**Result** *114*\n",
       "\n"
      ],
      "text/plain": [
       "<IPython.core.display.Markdown object>"
      ]
     },
     "metadata": {},
     "output_type": "display_data"
    },
    {
     "data": {
      "text/html": [
       "<div class=\"outeritem\">\n",
       "<div class=\"lextp \" style=\"background-color: None;\">\n",
       "<div class=\"h\">עָשָׂר</div>\n",
       "<div class=\"features\"> <span class=\"voc_lex\"><a target=\"_blank\" href=\"https://shebanq.ancient-data.org/hebrew/word?version=c&id=1OFRn\" title=\"show this lexeme in SHEBANQ\">&lt;@F@R</a></span> <span class=\"gloss\">-teen</span> <span class=\"freq_lex\"><span class=\"f\">freq_lex=</span>203</span> <span class=\"ls\"><span class=\"f\">ls=</span>card</span></div>\n",
       "<div class=\"occs\"><a href=\"https://shebanq.ancient-data.org/hebrew/text?book=Genesis&chapter=7&verse=11&version=c&mr=m&qw=q&tp=txt_p&tr=hb&wget=v&qget=v&nget=vt\" title=\"show this passage in SHEBANQ\">Genesis 7:11</a> - <a href=\"https://shebanq.ancient-data.org/hebrew/text?book=Chronica_II&chapter=35&verse=1&version=c&mr=m&qw=q&tp=txt_p&tr=hb&wget=v&qget=v&nget=vt\" title=\"show this passage in SHEBANQ\">2_Chronicles 35:1</a></div>\n",
       "\n",
       "</div>\n",
       "\n",
       "</div>"
      ],
      "text/plain": [
       "<IPython.core.display.HTML object>"
      ]
     },
     "metadata": {},
     "output_type": "display_data"
    },
    {
     "data": {
      "text/markdown": [
       "\n",
       "\n",
       "**Result** *115*\n",
       "\n"
      ],
      "text/plain": [
       "<IPython.core.display.Markdown object>"
      ]
     },
     "metadata": {},
     "output_type": "display_data"
    },
    {
     "data": {
      "text/html": [
       "<div class=\"outeritem\">\n",
       "<div class=\"lextp \" style=\"background-color: None;\">\n",
       "<div class=\"h\">אֲרֹון</div>\n",
       "<div class=\"features\"> <span class=\"voc_lex\"><a target=\"_blank\" href=\"https://shebanq.ancient-data.org/hebrew/word?version=c&id=1ARWNn\" title=\"show this lexeme in SHEBANQ\">>:AROWN</a></span> <span class=\"gloss\">ark</span> <span class=\"freq_lex\"><span class=\"f\">freq_lex=</span>202</span></div>\n",
       "<div class=\"occs\"><a href=\"https://shebanq.ancient-data.org/hebrew/text?book=Genesis&chapter=50&verse=26&version=c&mr=m&qw=q&tp=txt_p&tr=hb&wget=v&qget=v&nget=vt\" title=\"show this passage in SHEBANQ\">Genesis 50:26</a> - <a href=\"https://shebanq.ancient-data.org/hebrew/text?book=Chronica_II&chapter=35&verse=3&version=c&mr=m&qw=q&tp=txt_p&tr=hb&wget=v&qget=v&nget=vt\" title=\"show this passage in SHEBANQ\">2_Chronicles 35:3</a></div>\n",
       "\n",
       "</div>\n",
       "\n",
       "</div>"
      ],
      "text/plain": [
       "<IPython.core.display.HTML object>"
      ]
     },
     "metadata": {},
     "output_type": "display_data"
    },
    {
     "data": {
      "text/markdown": [
       "\n",
       "\n",
       "**Result** *116*\n",
       "\n"
      ],
      "text/plain": [
       "<IPython.core.display.Markdown object>"
      ]
     },
     "metadata": {},
     "output_type": "display_data"
    },
    {
     "data": {
      "text/html": [
       "<div class=\"outeritem\">\n",
       "<div class=\"lextp \" style=\"background-color: None;\">\n",
       "<div class=\"h\">כָּבֹוד</div>\n",
       "<div class=\"features\"> <span class=\"voc_lex\"><a target=\"_blank\" href=\"https://shebanq.ancient-data.org/hebrew/word?version=c&id=1KBWDn\" title=\"show this lexeme in SHEBANQ\">K.@BOWD</a></span> <span class=\"gloss\">weight</span> <span class=\"freq_lex\"><span class=\"f\">freq_lex=</span>200</span></div>\n",
       "<div class=\"occs\"><a href=\"https://shebanq.ancient-data.org/hebrew/text?book=Genesis&chapter=31&verse=1&version=c&mr=m&qw=q&tp=txt_p&tr=hb&wget=v&qget=v&nget=vt\" title=\"show this passage in SHEBANQ\">Genesis 31:1</a> - <a href=\"https://shebanq.ancient-data.org/hebrew/text?book=Chronica_II&chapter=32&verse=33&version=c&mr=m&qw=q&tp=txt_p&tr=hb&wget=v&qget=v&nget=vt\" title=\"show this passage in SHEBANQ\">2_Chronicles 32:33</a></div>\n",
       "\n",
       "</div>\n",
       "\n",
       "</div>"
      ],
      "text/plain": [
       "<IPython.core.display.HTML object>"
      ]
     },
     "metadata": {},
     "output_type": "display_data"
    },
    {
     "data": {
      "text/markdown": [
       "\n",
       "\n",
       "**Result** *117*\n",
       "\n"
      ],
      "text/plain": [
       "<IPython.core.display.Markdown object>"
      ]
     },
     "metadata": {},
     "output_type": "display_data"
    },
    {
     "data": {
      "text/html": [
       "<div class=\"outeritem\">\n",
       "<div class=\"lextp \" style=\"background-color: None;\">\n",
       "<div class=\"h\">חָצֵר</div>\n",
       "<div class=\"features\"> <span class=\"voc_lex\"><a target=\"_blank\" href=\"https://shebanq.ancient-data.org/hebrew/word?version=c&id=1XYRn\" title=\"show this lexeme in SHEBANQ\">X@Y;R</a></span> <span class=\"gloss\">court</span> <span class=\"freq_lex\"><span class=\"f\">freq_lex=</span>192</span></div>\n",
       "<div class=\"occs\"><a href=\"https://shebanq.ancient-data.org/hebrew/text?book=Genesis&chapter=25&verse=16&version=c&mr=m&qw=q&tp=txt_p&tr=hb&wget=v&qget=v&nget=vt\" title=\"show this passage in SHEBANQ\">Genesis 25:16</a> - <a href=\"https://shebanq.ancient-data.org/hebrew/text?book=Chronica_II&chapter=33&verse=5&version=c&mr=m&qw=q&tp=txt_p&tr=hb&wget=v&qget=v&nget=vt\" title=\"show this passage in SHEBANQ\">2_Chronicles 33:5</a></div>\n",
       "\n",
       "</div>\n",
       "\n",
       "</div>"
      ],
      "text/plain": [
       "<IPython.core.display.HTML object>"
      ]
     },
     "metadata": {},
     "output_type": "display_data"
    },
    {
     "data": {
      "text/markdown": [
       "\n",
       "\n",
       "**Result** *118*\n",
       "\n"
      ],
      "text/plain": [
       "<IPython.core.display.Markdown object>"
      ]
     },
     "metadata": {},
     "output_type": "display_data"
    },
    {
     "data": {
      "text/html": [
       "<div class=\"outeritem\">\n",
       "<div class=\"lextp \" style=\"background-color: None;\">\n",
       "<div class=\"h\">כַּף</div>\n",
       "<div class=\"features\"> <span class=\"voc_lex\"><a target=\"_blank\" href=\"https://shebanq.ancient-data.org/hebrew/word?version=c&id=1KPn\" title=\"show this lexeme in SHEBANQ\">K.AP</a></span> <span class=\"gloss\">palm</span> <span class=\"freq_lex\"><span class=\"f\">freq_lex=</span>192</span></div>\n",
       "<div class=\"occs\"><a href=\"https://shebanq.ancient-data.org/hebrew/text?book=Genesis&chapter=8&verse=9&version=c&mr=m&qw=q&tp=txt_p&tr=hb&wget=v&qget=v&nget=vt\" title=\"show this passage in SHEBANQ\">Genesis 8:9</a> - <a href=\"https://shebanq.ancient-data.org/hebrew/text?book=Chronica_II&chapter=32&verse=11&version=c&mr=m&qw=q&tp=txt_p&tr=hb&wget=v&qget=v&nget=vt\" title=\"show this passage in SHEBANQ\">2_Chronicles 32:11</a></div>\n",
       "\n",
       "</div>\n",
       "\n",
       "</div>"
      ],
      "text/plain": [
       "<IPython.core.display.HTML object>"
      ]
     },
     "metadata": {},
     "output_type": "display_data"
    },
    {
     "data": {
      "text/markdown": [
       "\n",
       "\n",
       "**Result** *119*\n",
       "\n"
      ],
      "text/plain": [
       "<IPython.core.display.Markdown object>"
      ]
     },
     "metadata": {},
     "output_type": "display_data"
    },
    {
     "data": {
      "text/html": [
       "<div class=\"outeritem\">\n",
       "<div class=\"lextp \" style=\"background-color: None;\">\n",
       "<div class=\"h\">שֶׁמֶן</div>\n",
       "<div class=\"features\"> <span class=\"voc_lex\"><a target=\"_blank\" href=\"https://shebanq.ancient-data.org/hebrew/word?version=c&id=1CMNn\" title=\"show this lexeme in SHEBANQ\">CEMEN</a></span> <span class=\"gloss\">oil</span> <span class=\"freq_lex\"><span class=\"f\">freq_lex=</span>191</span></div>\n",
       "<div class=\"occs\"><a href=\"https://shebanq.ancient-data.org/hebrew/text?book=Genesis&chapter=28&verse=18&version=c&mr=m&qw=q&tp=txt_p&tr=hb&wget=v&qget=v&nget=vt\" title=\"show this passage in SHEBANQ\">Genesis 28:18</a> - <a href=\"https://shebanq.ancient-data.org/hebrew/text?book=Chronica_II&chapter=11&verse=11&version=c&mr=m&qw=q&tp=txt_p&tr=hb&wget=v&qget=v&nget=vt\" title=\"show this passage in SHEBANQ\">2_Chronicles 11:11</a></div>\n",
       "\n",
       "</div>\n",
       "\n",
       "</div>"
      ],
      "text/plain": [
       "<IPython.core.display.HTML object>"
      ]
     },
     "metadata": {},
     "output_type": "display_data"
    },
    {
     "data": {
      "text/markdown": [
       "\n",
       "\n",
       "**Result** *120*\n",
       "\n"
      ],
      "text/plain": [
       "<IPython.core.display.Markdown object>"
      ]
     },
     "metadata": {},
     "output_type": "display_data"
    },
    {
     "data": {
      "text/html": [
       "<div class=\"outeritem\">\n",
       "<div class=\"lextp \" style=\"background-color: None;\">\n",
       "<div class=\"h\">שֵׁבֶט</div>\n",
       "<div class=\"features\"> <span class=\"voc_lex\"><a target=\"_blank\" href=\"https://shebanq.ancient-data.org/hebrew/word?version=c&id=1CBVn\" title=\"show this lexeme in SHEBANQ\">C;BEV</a></span> <span class=\"gloss\">rod</span> <span class=\"freq_lex\"><span class=\"f\">freq_lex=</span>190</span></div>\n",
       "<div class=\"occs\"><a href=\"https://shebanq.ancient-data.org/hebrew/text?book=Genesis&chapter=49&verse=10&version=c&mr=m&qw=q&tp=txt_p&tr=hb&wget=v&qget=v&nget=vt\" title=\"show this passage in SHEBANQ\">Genesis 49:10</a> - <a href=\"https://shebanq.ancient-data.org/hebrew/text?book=Chronica_II&chapter=33&verse=7&version=c&mr=m&qw=q&tp=txt_p&tr=hb&wget=v&qget=v&nget=vt\" title=\"show this passage in SHEBANQ\">2_Chronicles 33:7</a></div>\n",
       "\n",
       "</div>\n",
       "\n",
       "</div>"
      ],
      "text/plain": [
       "<IPython.core.display.HTML object>"
      ]
     },
     "metadata": {},
     "output_type": "display_data"
    },
    {
     "data": {
      "text/markdown": [
       "\n",
       "\n",
       "**Result** *121*\n",
       "\n"
      ],
      "text/plain": [
       "<IPython.core.display.Markdown object>"
      ]
     },
     "metadata": {},
     "output_type": "display_data"
    },
    {
     "data": {
      "text/html": [
       "<div class=\"outeritem\">\n",
       "<div class=\"lextp \" style=\"background-color: None;\">\n",
       "<div class=\"h\">בְּהֵמָה</div>\n",
       "<div class=\"features\"> <span class=\"voc_lex\"><a target=\"_blank\" href=\"https://shebanq.ancient-data.org/hebrew/word?version=c&id=1BHMHn\" title=\"show this lexeme in SHEBANQ\">B.:H;M@H</a></span> <span class=\"gloss\">cattle</span> <span class=\"freq_lex\"><span class=\"f\">freq_lex=</span>190</span></div>\n",
       "<div class=\"occs\"><a href=\"https://shebanq.ancient-data.org/hebrew/text?book=Genesis&chapter=1&verse=24&version=c&mr=m&qw=q&tp=txt_p&tr=hb&wget=v&qget=v&nget=vt\" title=\"show this passage in SHEBANQ\">Genesis 1:24</a> - <a href=\"https://shebanq.ancient-data.org/hebrew/text?book=Chronica_II&chapter=32&verse=28&version=c&mr=m&qw=q&tp=txt_p&tr=hb&wget=v&qget=v&nget=vt\" title=\"show this passage in SHEBANQ\">2_Chronicles 32:28</a></div>\n",
       "\n",
       "</div>\n",
       "\n",
       "</div>"
      ],
      "text/plain": [
       "<IPython.core.display.HTML object>"
      ]
     },
     "metadata": {},
     "output_type": "display_data"
    },
    {
     "data": {
      "text/markdown": [
       "\n",
       "\n",
       "**Result** *122*\n",
       "\n"
      ],
      "text/plain": [
       "<IPython.core.display.Markdown object>"
      ]
     },
     "metadata": {},
     "output_type": "display_data"
    },
    {
     "data": {
      "text/html": [
       "<div class=\"outeritem\">\n",
       "<div class=\"lextp \" style=\"background-color: None;\">\n",
       "<div class=\"h\">מִשְׁפָּחָה</div>\n",
       "<div class=\"features\"> <span class=\"voc_lex\"><a target=\"_blank\" href=\"https://shebanq.ancient-data.org/hebrew/word?version=c&id=1MCPXHn\" title=\"show this lexeme in SHEBANQ\">MIC:P.@X@H</a></span> <span class=\"gloss\">clan</span> <span class=\"freq_lex\"><span class=\"f\">freq_lex=</span>188</span></div>\n",
       "<div class=\"occs\"><a href=\"https://shebanq.ancient-data.org/hebrew/text?book=Genesis&chapter=8&verse=19&version=c&mr=m&qw=q&tp=txt_p&tr=hb&wget=v&qget=v&nget=vt\" title=\"show this passage in SHEBANQ\">Genesis 8:19</a> - <a href=\"https://shebanq.ancient-data.org/hebrew/text?book=Chronica_I&chapter=16&verse=28&version=c&mr=m&qw=q&tp=txt_p&tr=hb&wget=v&qget=v&nget=vt\" title=\"show this passage in SHEBANQ\">1_Chronicles 16:28</a></div>\n",
       "\n",
       "</div>\n",
       "\n",
       "</div>"
      ],
      "text/plain": [
       "<IPython.core.display.HTML object>"
      ]
     },
     "metadata": {},
     "output_type": "display_data"
    },
    {
     "data": {
      "text/markdown": [
       "\n",
       "\n",
       "**Result** *123*\n",
       "\n"
      ],
      "text/plain": [
       "<IPython.core.display.Markdown object>"
      ]
     },
     "metadata": {},
     "output_type": "display_data"
    },
    {
     "data": {
      "text/html": [
       "<div class=\"outeritem\">\n",
       "<div class=\"lextp \" style=\"background-color: None;\">\n",
       "<div class=\"h\">אֹזֶן</div>\n",
       "<div class=\"features\"> <span class=\"voc_lex\"><a target=\"_blank\" href=\"https://shebanq.ancient-data.org/hebrew/word?version=c&id=1AZNn\" title=\"show this lexeme in SHEBANQ\">>OZEN</a></span> <span class=\"gloss\">ear</span> <span class=\"freq_lex\"><span class=\"f\">freq_lex=</span>187</span></div>\n",
       "<div class=\"occs\"><a href=\"https://shebanq.ancient-data.org/hebrew/text?book=Genesis&chapter=20&verse=8&version=c&mr=m&qw=q&tp=txt_p&tr=hb&wget=v&qget=v&nget=vt\" title=\"show this passage in SHEBANQ\">Genesis 20:8</a> - <a href=\"https://shebanq.ancient-data.org/hebrew/text?book=Chronica_II&chapter=34&verse=30&version=c&mr=m&qw=q&tp=txt_p&tr=hb&wget=v&qget=v&nget=vt\" title=\"show this passage in SHEBANQ\">2_Chronicles 34:30</a></div>\n",
       "\n",
       "</div>\n",
       "\n",
       "</div>"
      ],
      "text/plain": [
       "<IPython.core.display.HTML object>"
      ]
     },
     "metadata": {},
     "output_type": "display_data"
    },
    {
     "data": {
      "text/markdown": [
       "\n",
       "\n",
       "**Result** *124*\n",
       "\n"
      ],
      "text/plain": [
       "<IPython.core.display.Markdown object>"
      ]
     },
     "metadata": {},
     "output_type": "display_data"
    },
    {
     "data": {
      "text/html": [
       "<div class=\"outeritem\">\n",
       "<div class=\"lextp \" style=\"background-color: None;\">\n",
       "<div class=\"h\">רֵעַ</div>\n",
       "<div class=\"features\"> <span class=\"voc_lex\"><a target=\"_blank\" href=\"https://shebanq.ancient-data.org/hebrew/word?version=c&id=1ROin\" title=\"show this lexeme in SHEBANQ\">R;&lt;A</a></span> <span class=\"gloss\">fellow</span> <span class=\"freq_lex\"><span class=\"f\">freq_lex=</span>187</span> <span class=\"ls\"><span class=\"f\">ls=</span>nmdi</span></div>\n",
       "<div class=\"occs\"><a href=\"https://shebanq.ancient-data.org/hebrew/text?book=Genesis&chapter=11&verse=3&version=c&mr=m&qw=q&tp=txt_p&tr=hb&wget=v&qget=v&nget=vt\" title=\"show this passage in SHEBANQ\">Genesis 11:3</a> - <a href=\"https://shebanq.ancient-data.org/hebrew/text?book=Chronica_II&chapter=20&verse=23&version=c&mr=m&qw=q&tp=txt_p&tr=hb&wget=v&qget=v&nget=vt\" title=\"show this passage in SHEBANQ\">2_Chronicles 20:23</a></div>\n",
       "\n",
       "</div>\n",
       "\n",
       "</div>"
      ],
      "text/plain": [
       "<IPython.core.display.HTML object>"
      ]
     },
     "metadata": {},
     "output_type": "display_data"
    },
    {
     "data": {
      "text/markdown": [
       "\n",
       "\n",
       "**Result** *125*\n",
       "\n"
      ],
      "text/plain": [
       "<IPython.core.display.Markdown object>"
      ]
     },
     "metadata": {},
     "output_type": "display_data"
    },
    {
     "data": {
      "text/html": [
       "<div class=\"outeritem\">\n",
       "<div class=\"lextp \" style=\"background-color: None;\">\n",
       "<div class=\"h\">סֵפֶר</div>\n",
       "<div class=\"features\"> <span class=\"voc_lex\"><a target=\"_blank\" href=\"https://shebanq.ancient-data.org/hebrew/word?version=c&id=1SPRn\" title=\"show this lexeme in SHEBANQ\">S;PER</a></span> <span class=\"gloss\">letter</span> <span class=\"freq_lex\"><span class=\"f\">freq_lex=</span>185</span></div>\n",
       "<div class=\"occs\"><a href=\"https://shebanq.ancient-data.org/hebrew/text?book=Genesis&chapter=5&verse=1&version=c&mr=m&qw=q&tp=txt_p&tr=hb&wget=v&qget=v&nget=vt\" title=\"show this passage in SHEBANQ\">Genesis 5:1</a> - <a href=\"https://shebanq.ancient-data.org/hebrew/text?book=Chronica_II&chapter=36&verse=8&version=c&mr=m&qw=q&tp=txt_p&tr=hb&wget=v&qget=v&nget=vt\" title=\"show this passage in SHEBANQ\">2_Chronicles 36:8</a></div>\n",
       "\n",
       "</div>\n",
       "\n",
       "</div>"
      ],
      "text/plain": [
       "<IPython.core.display.HTML object>"
      ]
     },
     "metadata": {},
     "output_type": "display_data"
    },
    {
     "data": {
      "text/markdown": [
       "\n",
       "\n",
       "**Result** *126*\n",
       "\n"
      ],
      "text/plain": [
       "<IPython.core.display.Markdown object>"
      ]
     },
     "metadata": {},
     "output_type": "display_data"
    },
    {
     "data": {
      "text/html": [
       "<div class=\"outeritem\">\n",
       "<div class=\"lextp \" style=\"background-color: None;\">\n",
       "<div class=\"h\">בָּקָר</div>\n",
       "<div class=\"features\"> <span class=\"voc_lex\"><a target=\"_blank\" href=\"https://shebanq.ancient-data.org/hebrew/word?version=c&id=1BQRn\" title=\"show this lexeme in SHEBANQ\">B.@Q@R</a></span> <span class=\"gloss\">cattle</span> <span class=\"freq_lex\"><span class=\"f\">freq_lex=</span>183</span></div>\n",
       "<div class=\"occs\"><a href=\"https://shebanq.ancient-data.org/hebrew/text?book=Genesis&chapter=12&verse=16&version=c&mr=m&qw=q&tp=txt_p&tr=hb&wget=v&qget=v&nget=vt\" title=\"show this passage in SHEBANQ\">Genesis 12:16</a> - <a href=\"https://shebanq.ancient-data.org/hebrew/text?book=Chronica_II&chapter=35&verse=12&version=c&mr=m&qw=q&tp=txt_p&tr=hb&wget=v&qget=v&nget=vt\" title=\"show this passage in SHEBANQ\">2_Chronicles 35:12</a></div>\n",
       "\n",
       "</div>\n",
       "\n",
       "</div>"
      ],
      "text/plain": [
       "<IPython.core.display.HTML object>"
      ]
     },
     "metadata": {},
     "output_type": "display_data"
    },
    {
     "data": {
      "text/markdown": [
       "\n",
       "\n",
       "**Result** *127*\n",
       "\n"
      ],
      "text/plain": [
       "<IPython.core.display.Markdown object>"
      ]
     },
     "metadata": {},
     "output_type": "display_data"
    },
    {
     "data": {
      "text/html": [
       "<div class=\"outeritem\">\n",
       "<div class=\"lextp \" style=\"background-color: None;\">\n",
       "<div class=\"h\">מִצְוָה</div>\n",
       "<div class=\"features\"> <span class=\"voc_lex\"><a target=\"_blank\" href=\"https://shebanq.ancient-data.org/hebrew/word?version=c&id=1MYWHn\" title=\"show this lexeme in SHEBANQ\">MIY:W@H</a></span> <span class=\"gloss\">commandment</span> <span class=\"freq_lex\"><span class=\"f\">freq_lex=</span>181</span></div>\n",
       "<div class=\"occs\"><a href=\"https://shebanq.ancient-data.org/hebrew/text?book=Genesis&chapter=26&verse=5&version=c&mr=m&qw=q&tp=txt_p&tr=hb&wget=v&qget=v&nget=vt\" title=\"show this passage in SHEBANQ\">Genesis 26:5</a> - <a href=\"https://shebanq.ancient-data.org/hebrew/text?book=Chronica_II&chapter=35&verse=16&version=c&mr=m&qw=q&tp=txt_p&tr=hb&wget=v&qget=v&nget=vt\" title=\"show this passage in SHEBANQ\">2_Chronicles 35:16</a></div>\n",
       "\n",
       "</div>\n",
       "\n",
       "</div>"
      ],
      "text/plain": [
       "<IPython.core.display.HTML object>"
      ]
     },
     "metadata": {},
     "output_type": "display_data"
    },
    {
     "data": {
      "text/markdown": [
       "\n",
       "\n",
       "**Result** *128*\n",
       "\n"
      ],
      "text/plain": [
       "<IPython.core.display.Markdown object>"
      ]
     },
     "metadata": {},
     "output_type": "display_data"
    },
    {
     "data": {
      "text/html": [
       "<div class=\"outeritem\">\n",
       "<div class=\"lextp \" style=\"background-color: None;\">\n",
       "<div class=\"h\">מֶלֶךְ</div>\n",
       "<div class=\"features\"> <span class=\"voc_lex\"><a target=\"_blank\" href=\"https://shebanq.ancient-data.org/hebrew/word?version=c&id=2MLKn\" title=\"show this lexeme in SHEBANQ\">MELEK:</a></span> <span class=\"gloss\">king</span> <span class=\"freq_lex\"><span class=\"f\">freq_lex=</span>180</span></div>\n",
       "<div class=\"occs\"><a href=\"https://shebanq.ancient-data.org/hebrew/text?book=Daniel&chapter=2&verse=4&version=c&mr=m&qw=q&tp=txt_p&tr=hb&wget=v&qget=v&nget=vt\" title=\"show this passage in SHEBANQ\">Daniel 2:4</a> - <a href=\"https://shebanq.ancient-data.org/hebrew/text?book=Esra&chapter=7&verse=26&version=c&mr=m&qw=q&tp=txt_p&tr=hb&wget=v&qget=v&nget=vt\" title=\"show this passage in SHEBANQ\">Ezra 7:26</a></div>\n",
       "\n",
       "</div>\n",
       "\n",
       "</div>"
      ],
      "text/plain": [
       "<IPython.core.display.HTML object>"
      ]
     },
     "metadata": {},
     "output_type": "display_data"
    },
    {
     "data": {
      "text/markdown": [
       "\n",
       "\n",
       "**Result** *129*\n",
       "\n"
      ],
      "text/plain": [
       "<IPython.core.display.Markdown object>"
      ]
     },
     "metadata": {},
     "output_type": "display_data"
    },
    {
     "data": {
      "text/html": [
       "<div class=\"outeritem\">\n",
       "<div class=\"lextp \" style=\"background-color: None;\">\n",
       "<div class=\"h\">שָׂפָה</div>\n",
       "<div class=\"features\"> <span class=\"voc_lex\"><a target=\"_blank\" href=\"https://shebanq.ancient-data.org/hebrew/word?version=c&id=1FPHn\" title=\"show this lexeme in SHEBANQ\">F@P@H</a></span> <span class=\"gloss\">lip</span> <span class=\"freq_lex\"><span class=\"f\">freq_lex=</span>176</span></div>\n",
       "<div class=\"occs\"><a href=\"https://shebanq.ancient-data.org/hebrew/text?book=Genesis&chapter=11&verse=1&version=c&mr=m&qw=q&tp=txt_p&tr=hb&wget=v&qget=v&nget=vt\" title=\"show this passage in SHEBANQ\">Genesis 11:1</a> - <a href=\"https://shebanq.ancient-data.org/hebrew/text?book=Chronica_II&chapter=8&verse=17&version=c&mr=m&qw=q&tp=txt_p&tr=hb&wget=v&qget=v&nget=vt\" title=\"show this passage in SHEBANQ\">2_Chronicles 8:17</a></div>\n",
       "\n",
       "</div>\n",
       "\n",
       "</div>"
      ],
      "text/plain": [
       "<IPython.core.display.HTML object>"
      ]
     },
     "metadata": {},
     "output_type": "display_data"
    },
    {
     "data": {
      "text/markdown": [
       "\n",
       "\n",
       "**Result** *130*\n",
       "\n"
      ],
      "text/plain": [
       "<IPython.core.display.Markdown object>"
      ]
     },
     "metadata": {},
     "output_type": "display_data"
    },
    {
     "data": {
      "text/html": [
       "<div class=\"outeritem\">\n",
       "<div class=\"lextp \" style=\"background-color: None;\">\n",
       "<div class=\"h\">דֹּור</div>\n",
       "<div class=\"features\"> <span class=\"voc_lex\"><a target=\"_blank\" href=\"https://shebanq.ancient-data.org/hebrew/word?version=c&id=1DWRn\" title=\"show this lexeme in SHEBANQ\">D.OWR</a></span> <span class=\"gloss\">generation</span> <span class=\"freq_lex\"><span class=\"f\">freq_lex=</span>166</span></div>\n",
       "<div class=\"occs\"><a href=\"https://shebanq.ancient-data.org/hebrew/text?book=Genesis&chapter=6&verse=9&version=c&mr=m&qw=q&tp=txt_p&tr=hb&wget=v&qget=v&nget=vt\" title=\"show this passage in SHEBANQ\">Genesis 6:9</a> - <a href=\"https://shebanq.ancient-data.org/hebrew/text?book=Chronica_I&chapter=16&verse=15&version=c&mr=m&qw=q&tp=txt_p&tr=hb&wget=v&qget=v&nget=vt\" title=\"show this passage in SHEBANQ\">1_Chronicles 16:15</a></div>\n",
       "\n",
       "</div>\n",
       "\n",
       "</div>"
      ],
      "text/plain": [
       "<IPython.core.display.HTML object>"
      ]
     },
     "metadata": {},
     "output_type": "display_data"
    },
    {
     "data": {
      "text/markdown": [
       "\n",
       "\n",
       "**Result** *131*\n",
       "\n"
      ],
      "text/plain": [
       "<IPython.core.display.Markdown object>"
      ]
     },
     "metadata": {},
     "output_type": "display_data"
    },
    {
     "data": {
      "text/html": [
       "<div class=\"outeritem\">\n",
       "<div class=\"lextp \" style=\"background-color: None;\">\n",
       "<div class=\"h\">בַּעַל</div>\n",
       "<div class=\"features\"> <span class=\"voc_lex\"><a target=\"_blank\" href=\"https://shebanq.ancient-data.org/hebrew/word?version=c&id=1BOLn\" title=\"show this lexeme in SHEBANQ\">B.A&lt;AL</a></span> <span class=\"gloss\">lord, baal</span> <span class=\"freq_lex\"><span class=\"f\">freq_lex=</span>164</span></div>\n",
       "<div class=\"occs\"><a href=\"https://shebanq.ancient-data.org/hebrew/text?book=Genesis&chapter=14&verse=13&version=c&mr=m&qw=q&tp=txt_p&tr=hb&wget=v&qget=v&nget=vt\" title=\"show this passage in SHEBANQ\">Genesis 14:13</a> - <a href=\"https://shebanq.ancient-data.org/hebrew/text?book=Chronica_II&chapter=34&verse=4&version=c&mr=m&qw=q&tp=txt_p&tr=hb&wget=v&qget=v&nget=vt\" title=\"show this passage in SHEBANQ\">2_Chronicles 34:4</a></div>\n",
       "\n",
       "</div>\n",
       "\n",
       "</div>"
      ],
      "text/plain": [
       "<IPython.core.display.HTML object>"
      ]
     },
     "metadata": {},
     "output_type": "display_data"
    },
    {
     "data": {
      "text/markdown": [
       "\n",
       "\n",
       "**Result** *132*\n",
       "\n"
      ],
      "text/plain": [
       "<IPython.core.display.Markdown object>"
      ]
     },
     "metadata": {},
     "output_type": "display_data"
    },
    {
     "data": {
      "text/html": [
       "<div class=\"outeritem\">\n",
       "<div class=\"lextp \" style=\"background-color: None;\">\n",
       "<div class=\"h\">חוּץ</div>\n",
       "<div class=\"features\"> <span class=\"voc_lex\"><a target=\"_blank\" href=\"https://shebanq.ancient-data.org/hebrew/word?version=c&id=1XWYn\" title=\"show this lexeme in SHEBANQ\">XW.Y</a></span> <span class=\"gloss\">outside</span> <span class=\"freq_lex\"><span class=\"f\">freq_lex=</span>164</span></div>\n",
       "<div class=\"occs\"><a href=\"https://shebanq.ancient-data.org/hebrew/text?book=Genesis&chapter=6&verse=14&version=c&mr=m&qw=q&tp=txt_p&tr=hb&wget=v&qget=v&nget=vt\" title=\"show this passage in SHEBANQ\">Genesis 6:14</a> - <a href=\"https://shebanq.ancient-data.org/hebrew/text?book=Chronica_II&chapter=33&verse=15&version=c&mr=m&qw=q&tp=txt_p&tr=hb&wget=v&qget=v&nget=vt\" title=\"show this passage in SHEBANQ\">2_Chronicles 33:15</a></div>\n",
       "\n",
       "</div>\n",
       "\n",
       "</div>"
      ],
      "text/plain": [
       "<IPython.core.display.HTML object>"
      ]
     },
     "metadata": {},
     "output_type": "display_data"
    },
    {
     "data": {
      "text/markdown": [
       "\n",
       "\n",
       "**Result** *133*\n",
       "\n"
      ],
      "text/plain": [
       "<IPython.core.display.Markdown object>"
      ]
     },
     "metadata": {},
     "output_type": "display_data"
    },
    {
     "data": {
      "text/html": [
       "<div class=\"outeritem\">\n",
       "<div class=\"lextp \" style=\"background-color: None;\">\n",
       "<div class=\"h\">פֶּתַח</div>\n",
       "<div class=\"features\"> <span class=\"voc_lex\"><a target=\"_blank\" href=\"https://shebanq.ancient-data.org/hebrew/word?version=c&id=1PTXn\" title=\"show this lexeme in SHEBANQ\">P.ETAX</a></span> <span class=\"gloss\">opening</span> <span class=\"freq_lex\"><span class=\"f\">freq_lex=</span>164</span></div>\n",
       "<div class=\"occs\"><a href=\"https://shebanq.ancient-data.org/hebrew/text?book=Genesis&chapter=4&verse=7&version=c&mr=m&qw=q&tp=txt_p&tr=hb&wget=v&qget=v&nget=vt\" title=\"show this passage in SHEBANQ\">Genesis 4:7</a> - <a href=\"https://shebanq.ancient-data.org/hebrew/text?book=Chronica_II&chapter=18&verse=9&version=c&mr=m&qw=q&tp=txt_p&tr=hb&wget=v&qget=v&nget=vt\" title=\"show this passage in SHEBANQ\">2_Chronicles 18:9</a></div>\n",
       "\n",
       "</div>\n",
       "\n",
       "</div>"
      ],
      "text/plain": [
       "<IPython.core.display.HTML object>"
      ]
     },
     "metadata": {},
     "output_type": "display_data"
    },
    {
     "data": {
      "text/markdown": [
       "\n",
       "\n",
       "**Result** *134*\n",
       "\n"
      ],
      "text/plain": [
       "<IPython.core.display.Markdown object>"
      ]
     },
     "metadata": {},
     "output_type": "display_data"
    },
    {
     "data": {
      "text/html": [
       "<div class=\"outeritem\">\n",
       "<div class=\"lextp \" style=\"background-color: None;\">\n",
       "<div class=\"h\">אַיִל</div>\n",
       "<div class=\"features\"> <span class=\"voc_lex\"><a target=\"_blank\" href=\"https://shebanq.ancient-data.org/hebrew/word?version=c&id=1AJLin\" title=\"show this lexeme in SHEBANQ\">>AJIL</a></span> <span class=\"gloss\">ram, despot</span> <span class=\"freq_lex\"><span class=\"f\">freq_lex=</span>163</span></div>\n",
       "<div class=\"occs\"><a href=\"https://shebanq.ancient-data.org/hebrew/text?book=Genesis&chapter=15&verse=9&version=c&mr=m&qw=q&tp=txt_p&tr=hb&wget=v&qget=v&nget=vt\" title=\"show this passage in SHEBANQ\">Genesis 15:9</a> - <a href=\"https://shebanq.ancient-data.org/hebrew/text?book=Chronica_II&chapter=29&verse=32&version=c&mr=m&qw=q&tp=txt_p&tr=hb&wget=v&qget=v&nget=vt\" title=\"show this passage in SHEBANQ\">2_Chronicles 29:32</a></div>\n",
       "\n",
       "</div>\n",
       "\n",
       "</div>"
      ],
      "text/plain": [
       "<IPython.core.display.HTML object>"
      ]
     },
     "metadata": {},
     "output_type": "display_data"
    },
    {
     "data": {
      "text/markdown": [
       "\n",
       "\n",
       "**Result** *135*\n",
       "\n"
      ],
      "text/plain": [
       "<IPython.core.display.Markdown object>"
      ]
     },
     "metadata": {},
     "output_type": "display_data"
    },
    {
     "data": {
      "text/html": [
       "<div class=\"outeritem\">\n",
       "<div class=\"lextp \" style=\"background-color: None;\">\n",
       "<div class=\"h\">זֶבַח</div>\n",
       "<div class=\"features\"> <span class=\"voc_lex\"><a target=\"_blank\" href=\"https://shebanq.ancient-data.org/hebrew/word?version=c&id=1ZBXn\" title=\"show this lexeme in SHEBANQ\">ZEBAX</a></span> <span class=\"gloss\">sacrifice</span> <span class=\"freq_lex\"><span class=\"f\">freq_lex=</span>162</span></div>\n",
       "<div class=\"occs\"><a href=\"https://shebanq.ancient-data.org/hebrew/text?book=Genesis&chapter=31&verse=54&version=c&mr=m&qw=q&tp=txt_p&tr=hb&wget=v&qget=v&nget=vt\" title=\"show this passage in SHEBANQ\">Genesis 31:54</a> - <a href=\"https://shebanq.ancient-data.org/hebrew/text?book=Chronica_II&chapter=33&verse=16&version=c&mr=m&qw=q&tp=txt_p&tr=hb&wget=v&qget=v&nget=vt\" title=\"show this passage in SHEBANQ\">2_Chronicles 33:16</a></div>\n",
       "\n",
       "</div>\n",
       "\n",
       "</div>"
      ],
      "text/plain": [
       "<IPython.core.display.HTML object>"
      ]
     },
     "metadata": {},
     "output_type": "display_data"
    },
    {
     "data": {
      "text/markdown": [
       "\n",
       "\n",
       "**Result** *136*\n",
       "\n"
      ],
      "text/plain": [
       "<IPython.core.display.Markdown object>"
      ]
     },
     "metadata": {},
     "output_type": "display_data"
    },
    {
     "data": {
      "text/html": [
       "<div class=\"outeritem\">\n",
       "<div class=\"lextp \" style=\"background-color: None;\">\n",
       "<div class=\"h\">מָוֶת</div>\n",
       "<div class=\"features\"> <span class=\"voc_lex\"><a target=\"_blank\" href=\"https://shebanq.ancient-data.org/hebrew/word?version=c&id=1MWTn\" title=\"show this lexeme in SHEBANQ\">M@WET</a></span> <span class=\"gloss\">death</span> <span class=\"freq_lex\"><span class=\"f\">freq_lex=</span>161</span></div>\n",
       "<div class=\"occs\"><a href=\"https://shebanq.ancient-data.org/hebrew/text?book=Genesis&chapter=21&verse=16&version=c&mr=m&qw=q&tp=txt_p&tr=hb&wget=v&qget=v&nget=vt\" title=\"show this passage in SHEBANQ\">Genesis 21:16</a> - <a href=\"https://shebanq.ancient-data.org/hebrew/text?book=Chronica_II&chapter=32&verse=33&version=c&mr=m&qw=q&tp=txt_p&tr=hb&wget=v&qget=v&nget=vt\" title=\"show this passage in SHEBANQ\">2_Chronicles 32:33</a></div>\n",
       "\n",
       "</div>\n",
       "\n",
       "</div>"
      ],
      "text/plain": [
       "<IPython.core.display.HTML object>"
      ]
     },
     "metadata": {},
     "output_type": "display_data"
    },
    {
     "data": {
      "text/markdown": [
       "\n",
       "\n",
       "**Result** *137*\n",
       "\n"
      ],
      "text/plain": [
       "<IPython.core.display.Markdown object>"
      ]
     },
     "metadata": {},
     "output_type": "display_data"
    },
    {
     "data": {
      "text/html": [
       "<div class=\"outeritem\">\n",
       "<div class=\"lextp \" style=\"background-color: None;\">\n",
       "<div class=\"h\">גִּבֹּור</div>\n",
       "<div class=\"features\"> <span class=\"voc_lex\"><a target=\"_blank\" href=\"https://shebanq.ancient-data.org/hebrew/word?version=c&id=1GBWRn\" title=\"show this lexeme in SHEBANQ\">G.IB.OWR</a></span> <span class=\"gloss\">vigorous</span> <span class=\"freq_lex\"><span class=\"f\">freq_lex=</span>159</span></div>\n",
       "<div class=\"occs\"><a href=\"https://shebanq.ancient-data.org/hebrew/text?book=Genesis&chapter=6&verse=4&version=c&mr=m&qw=q&tp=txt_p&tr=hb&wget=v&qget=v&nget=vt\" title=\"show this passage in SHEBANQ\">Genesis 6:4</a> - <a href=\"https://shebanq.ancient-data.org/hebrew/text?book=Chronica_II&chapter=32&verse=21&version=c&mr=m&qw=q&tp=txt_p&tr=hb&wget=v&qget=v&nget=vt\" title=\"show this passage in SHEBANQ\">2_Chronicles 32:21</a></div>\n",
       "\n",
       "</div>\n",
       "\n",
       "</div>"
      ],
      "text/plain": [
       "<IPython.core.display.HTML object>"
      ]
     },
     "metadata": {},
     "output_type": "display_data"
    },
    {
     "data": {
      "text/markdown": [
       "\n",
       "\n",
       "**Result** *138*\n",
       "\n"
      ],
      "text/plain": [
       "<IPython.core.display.Markdown object>"
      ]
     },
     "metadata": {},
     "output_type": "display_data"
    },
    {
     "data": {
      "text/html": [
       "<div class=\"outeritem\">\n",
       "<div class=\"lextp \" style=\"background-color: None;\">\n",
       "<div class=\"h\">צְדָקָה</div>\n",
       "<div class=\"features\"> <span class=\"voc_lex\"><a target=\"_blank\" href=\"https://shebanq.ancient-data.org/hebrew/word?version=c&id=1YDQHn\" title=\"show this lexeme in SHEBANQ\">Y:D@Q@H</a></span> <span class=\"gloss\">justice</span> <span class=\"freq_lex\"><span class=\"f\">freq_lex=</span>157</span></div>\n",
       "<div class=\"occs\"><a href=\"https://shebanq.ancient-data.org/hebrew/text?book=Genesis&chapter=15&verse=6&version=c&mr=m&qw=q&tp=txt_p&tr=hb&wget=v&qget=v&nget=vt\" title=\"show this passage in SHEBANQ\">Genesis 15:6</a> - <a href=\"https://shebanq.ancient-data.org/hebrew/text?book=Chronica_II&chapter=9&verse=8&version=c&mr=m&qw=q&tp=txt_p&tr=hb&wget=v&qget=v&nget=vt\" title=\"show this passage in SHEBANQ\">2_Chronicles 9:8</a></div>\n",
       "\n",
       "</div>\n",
       "\n",
       "</div>"
      ],
      "text/plain": [
       "<IPython.core.display.HTML object>"
      ]
     },
     "metadata": {},
     "output_type": "display_data"
    },
    {
     "data": {
      "text/markdown": [
       "\n",
       "\n",
       "**Result** *139*\n",
       "\n"
      ],
      "text/plain": [
       "<IPython.core.display.Markdown object>"
      ]
     },
     "metadata": {},
     "output_type": "display_data"
    },
    {
     "data": {
      "text/html": [
       "<div class=\"outeritem\">\n",
       "<div class=\"lextp \" style=\"background-color: None;\">\n",
       "<div class=\"h\">רֹב</div>\n",
       "<div class=\"features\"> <span class=\"voc_lex\"><a target=\"_blank\" href=\"https://shebanq.ancient-data.org/hebrew/word?version=c&id=1RBin\" title=\"show this lexeme in SHEBANQ\">ROB</a></span> <span class=\"gloss\">multitude</span> <span class=\"freq_lex\"><span class=\"f\">freq_lex=</span>152</span></div>\n",
       "<div class=\"occs\"><a href=\"https://shebanq.ancient-data.org/hebrew/text?book=Genesis&chapter=16&verse=10&version=c&mr=m&qw=q&tp=txt_p&tr=hb&wget=v&qget=v&nget=vt\" title=\"show this passage in SHEBANQ\">Genesis 16:10</a> - <a href=\"https://shebanq.ancient-data.org/hebrew/text?book=Chronica_II&chapter=32&verse=29&version=c&mr=m&qw=q&tp=txt_p&tr=hb&wget=v&qget=v&nget=vt\" title=\"show this passage in SHEBANQ\">2_Chronicles 32:29</a></div>\n",
       "\n",
       "</div>\n",
       "\n",
       "</div>"
      ],
      "text/plain": [
       "<IPython.core.display.HTML object>"
      ]
     },
     "metadata": {},
     "output_type": "display_data"
    },
    {
     "data": {
      "text/markdown": [
       "\n",
       "\n",
       "**Result** *140*\n",
       "\n"
      ],
      "text/plain": [
       "<IPython.core.display.Markdown object>"
      ]
     },
     "metadata": {},
     "output_type": "display_data"
    },
    {
     "data": {
      "text/html": [
       "<div class=\"outeritem\">\n",
       "<div class=\"lextp \" style=\"background-color: None;\">\n",
       "<div class=\"h\">צָפֹון</div>\n",
       "<div class=\"features\"> <span class=\"voc_lex\"><a target=\"_blank\" href=\"https://shebanq.ancient-data.org/hebrew/word?version=c&id=1YPWNn\" title=\"show this lexeme in SHEBANQ\">Y@POWN</a></span> <span class=\"gloss\">north</span> <span class=\"freq_lex\"><span class=\"f\">freq_lex=</span>152</span> <span class=\"ls\"><span class=\"f\">ls=</span>padv</span></div>\n",
       "<div class=\"occs\"><a href=\"https://shebanq.ancient-data.org/hebrew/text?book=Genesis&chapter=13&verse=14&version=c&mr=m&qw=q&tp=txt_p&tr=hb&wget=v&qget=v&nget=vt\" title=\"show this passage in SHEBANQ\">Genesis 13:14</a> - <a href=\"https://shebanq.ancient-data.org/hebrew/text?book=Chronica_II&chapter=4&verse=4&version=c&mr=m&qw=q&tp=txt_p&tr=hb&wget=v&qget=v&nget=vt\" title=\"show this passage in SHEBANQ\">2_Chronicles 4:4</a></div>\n",
       "\n",
       "</div>\n",
       "\n",
       "</div>"
      ],
      "text/plain": [
       "<IPython.core.display.HTML object>"
      ]
     },
     "metadata": {},
     "output_type": "display_data"
    },
    {
     "data": {
      "text/markdown": [
       "\n",
       "\n",
       "**Result** *141*\n",
       "\n"
      ],
      "text/plain": [
       "<IPython.core.display.Markdown object>"
      ]
     },
     "metadata": {},
     "output_type": "display_data"
    },
    {
     "data": {
      "text/html": [
       "<div class=\"outeritem\">\n",
       "<div class=\"lextp \" style=\"background-color: None;\">\n",
       "<div class=\"h\">נֶגֶד</div>\n",
       "<div class=\"features\"> <span class=\"voc_lex\"><a target=\"_blank\" href=\"https://shebanq.ancient-data.org/hebrew/word?version=c&id=1NGDn\" title=\"show this lexeme in SHEBANQ\">NEGED</a></span> <span class=\"gloss\">counterpart</span> <span class=\"freq_lex\"><span class=\"f\">freq_lex=</span>151</span> <span class=\"ls\"><span class=\"f\">ls=</span>ppre</span></div>\n",
       "<div class=\"occs\"><a href=\"https://shebanq.ancient-data.org/hebrew/text?book=Genesis&chapter=2&verse=18&version=c&mr=m&qw=q&tp=txt_p&tr=hb&wget=v&qget=v&nget=vt\" title=\"show this passage in SHEBANQ\">Genesis 2:18</a> - <a href=\"https://shebanq.ancient-data.org/hebrew/text?book=Chronica_II&chapter=8&verse=14&version=c&mr=m&qw=q&tp=txt_p&tr=hb&wget=v&qget=v&nget=vt\" title=\"show this passage in SHEBANQ\">2_Chronicles 8:14</a></div>\n",
       "\n",
       "</div>\n",
       "\n",
       "</div>"
      ],
      "text/plain": [
       "<IPython.core.display.HTML object>"
      ]
     },
     "metadata": {},
     "output_type": "display_data"
    },
    {
     "data": {
      "text/markdown": [
       "\n",
       "\n",
       "**Result** *142*\n",
       "\n"
      ],
      "text/plain": [
       "<IPython.core.display.Markdown object>"
      ]
     },
     "metadata": {},
     "output_type": "display_data"
    },
    {
     "data": {
      "text/html": [
       "<div class=\"outeritem\">\n",
       "<div class=\"lextp \" style=\"background-color: None;\">\n",
       "<div class=\"h\">חָכְמָה</div>\n",
       "<div class=\"features\"> <span class=\"voc_lex\"><a target=\"_blank\" href=\"https://shebanq.ancient-data.org/hebrew/word?version=c&id=1XKMHn\" title=\"show this lexeme in SHEBANQ\">X@K:M@H</a></span> <span class=\"gloss\">wisdom</span> <span class=\"freq_lex\"><span class=\"f\">freq_lex=</span>149</span></div>\n",
       "<div class=\"occs\"><a href=\"https://shebanq.ancient-data.org/hebrew/text?book=Exodus&chapter=28&verse=3&version=c&mr=m&qw=q&tp=txt_p&tr=hb&wget=v&qget=v&nget=vt\" title=\"show this passage in SHEBANQ\">Exodus 28:3</a> - <a href=\"https://shebanq.ancient-data.org/hebrew/text?book=Chronica_II&chapter=9&verse=23&version=c&mr=m&qw=q&tp=txt_p&tr=hb&wget=v&qget=v&nget=vt\" title=\"show this passage in SHEBANQ\">2_Chronicles 9:23</a></div>\n",
       "\n",
       "</div>\n",
       "\n",
       "</div>"
      ],
      "text/plain": [
       "<IPython.core.display.HTML object>"
      ]
     },
     "metadata": {},
     "output_type": "display_data"
    },
    {
     "data": {
      "text/markdown": [
       "\n",
       "\n",
       "**Result** *143*\n",
       "\n"
      ],
      "text/plain": [
       "<IPython.core.display.Markdown object>"
      ]
     },
     "metadata": {},
     "output_type": "display_data"
    },
    {
     "data": {
      "text/html": [
       "<div class=\"outeritem\">\n",
       "<div class=\"lextp \" style=\"background-color: None;\">\n",
       "<div class=\"h\">עֵדָה</div>\n",
       "<div class=\"features\"> <span class=\"voc_lex\"><a target=\"_blank\" href=\"https://shebanq.ancient-data.org/hebrew/word?version=c&id=1ODHn\" title=\"show this lexeme in SHEBANQ\">&lt;;D@H</a></span> <span class=\"gloss\">gathering</span> <span class=\"freq_lex\"><span class=\"f\">freq_lex=</span>149</span></div>\n",
       "<div class=\"occs\"><a href=\"https://shebanq.ancient-data.org/hebrew/text?book=Exodus&chapter=12&verse=3&version=c&mr=m&qw=q&tp=txt_p&tr=hb&wget=v&qget=v&nget=vt\" title=\"show this passage in SHEBANQ\">Exodus 12:3</a> - <a href=\"https://shebanq.ancient-data.org/hebrew/text?book=Chronica_II&chapter=5&verse=6&version=c&mr=m&qw=q&tp=txt_p&tr=hb&wget=v&qget=v&nget=vt\" title=\"show this passage in SHEBANQ\">2_Chronicles 5:6</a></div>\n",
       "\n",
       "</div>\n",
       "\n",
       "</div>"
      ],
      "text/plain": [
       "<IPython.core.display.HTML object>"
      ]
     },
     "metadata": {},
     "output_type": "display_data"
    },
    {
     "data": {
      "text/markdown": [
       "\n",
       "\n",
       "**Result** *144*\n",
       "\n"
      ],
      "text/plain": [
       "<IPython.core.display.Markdown object>"
      ]
     },
     "metadata": {},
     "output_type": "display_data"
    },
    {
     "data": {
      "text/html": [
       "<div class=\"outeritem\">\n",
       "<div class=\"lextp \" style=\"background-color: None;\">\n",
       "<div class=\"h\">חַיִּים</div>\n",
       "<div class=\"features\"> <span class=\"voc_lex\"><a target=\"_blank\" href=\"https://shebanq.ancient-data.org/hebrew/word?version=c&id=1XJJMn\" title=\"show this lexeme in SHEBANQ\">XAJ.IJM</a></span> <span class=\"gloss\">life</span> <span class=\"freq_lex\"><span class=\"f\">freq_lex=</span>148</span></div>\n",
       "<div class=\"occs\"><a href=\"https://shebanq.ancient-data.org/hebrew/text?book=Genesis&chapter=2&verse=7&version=c&mr=m&qw=q&tp=txt_p&tr=hb&wget=v&qget=v&nget=vt\" title=\"show this passage in SHEBANQ\">Genesis 2:7</a> - <a href=\"https://shebanq.ancient-data.org/hebrew/text?book=Daniel&chapter=12&verse=2&version=c&mr=m&qw=q&tp=txt_p&tr=hb&wget=v&qget=v&nget=vt\" title=\"show this passage in SHEBANQ\">Daniel 12:2</a></div>\n",
       "\n",
       "</div>\n",
       "\n",
       "</div>"
      ],
      "text/plain": [
       "<IPython.core.display.HTML object>"
      ]
     },
     "metadata": {},
     "output_type": "display_data"
    },
    {
     "data": {
      "text/markdown": [
       "\n",
       "\n",
       "**Result** *145*\n",
       "\n"
      ],
      "text/plain": [
       "<IPython.core.display.Markdown object>"
      ]
     },
     "metadata": {},
     "output_type": "display_data"
    },
    {
     "data": {
      "text/html": [
       "<div class=\"outeritem\">\n",
       "<div class=\"lextp \" style=\"background-color: None;\">\n",
       "<div class=\"h\">שְׁמֹנֶה</div>\n",
       "<div class=\"features\"> <span class=\"voc_lex\"><a target=\"_blank\" href=\"https://shebanq.ancient-data.org/hebrew/word?version=c&id=1CMNHn\" title=\"show this lexeme in SHEBANQ\">C:MONEH</a></span> <span class=\"gloss\">eight</span> <span class=\"freq_lex\"><span class=\"f\">freq_lex=</span>147</span> <span class=\"ls\"><span class=\"f\">ls=</span>card</span></div>\n",
       "<div class=\"occs\"><a href=\"https://shebanq.ancient-data.org/hebrew/text?book=Genesis&chapter=5&verse=4&version=c&mr=m&qw=q&tp=txt_p&tr=hb&wget=v&qget=v&nget=vt\" title=\"show this passage in SHEBANQ\">Genesis 5:4</a> - <a href=\"https://shebanq.ancient-data.org/hebrew/text?book=Chronica_II&chapter=36&verse=9&version=c&mr=m&qw=q&tp=txt_p&tr=hb&wget=v&qget=v&nget=vt\" title=\"show this passage in SHEBANQ\">2_Chronicles 36:9</a></div>\n",
       "\n",
       "</div>\n",
       "\n",
       "</div>"
      ],
      "text/plain": [
       "<IPython.core.display.HTML object>"
      ]
     },
     "metadata": {},
     "output_type": "display_data"
    },
    {
     "data": {
      "text/markdown": [
       "\n",
       "\n",
       "**Result** *146*\n",
       "\n"
      ],
      "text/plain": [
       "<IPython.core.display.Markdown object>"
      ]
     },
     "metadata": {},
     "output_type": "display_data"
    },
    {
     "data": {
      "text/html": [
       "<div class=\"outeritem\">\n",
       "<div class=\"lextp \" style=\"background-color: None;\">\n",
       "<div class=\"h\">עֲבֹדָה</div>\n",
       "<div class=\"features\"> <span class=\"voc_lex\"><a target=\"_blank\" href=\"https://shebanq.ancient-data.org/hebrew/word?version=c&id=1OBDHn\" title=\"show this lexeme in SHEBANQ\">&lt;:ABOD@H</a></span> <span class=\"gloss\">work</span> <span class=\"freq_lex\"><span class=\"f\">freq_lex=</span>145</span></div>\n",
       "<div class=\"occs\"><a href=\"https://shebanq.ancient-data.org/hebrew/text?book=Genesis&chapter=29&verse=27&version=c&mr=m&qw=q&tp=txt_p&tr=hb&wget=v&qget=v&nget=vt\" title=\"show this passage in SHEBANQ\">Genesis 29:27</a> - <a href=\"https://shebanq.ancient-data.org/hebrew/text?book=Chronica_II&chapter=35&verse=16&version=c&mr=m&qw=q&tp=txt_p&tr=hb&wget=v&qget=v&nget=vt\" title=\"show this passage in SHEBANQ\">2_Chronicles 35:16</a></div>\n",
       "\n",
       "</div>\n",
       "\n",
       "</div>"
      ],
      "text/plain": [
       "<IPython.core.display.HTML object>"
      ]
     },
     "metadata": {},
     "output_type": "display_data"
    },
    {
     "data": {
      "text/markdown": [
       "\n",
       "\n",
       "**Result** *147*\n",
       "\n"
      ],
      "text/plain": [
       "<IPython.core.display.Markdown object>"
      ]
     },
     "metadata": {},
     "output_type": "display_data"
    },
    {
     "data": {
      "text/html": [
       "<div class=\"outeritem\">\n",
       "<div class=\"lextp \" style=\"background-color: None;\">\n",
       "<div class=\"h\">יַיִן</div>\n",
       "<div class=\"features\"> <span class=\"voc_lex\"><a target=\"_blank\" href=\"https://shebanq.ancient-data.org/hebrew/word?version=c&id=1JJNn\" title=\"show this lexeme in SHEBANQ\">JAJIN</a></span> <span class=\"gloss\">wine</span> <span class=\"freq_lex\"><span class=\"f\">freq_lex=</span>141</span></div>\n",
       "<div class=\"occs\"><a href=\"https://shebanq.ancient-data.org/hebrew/text?book=Genesis&chapter=9&verse=21&version=c&mr=m&qw=q&tp=txt_p&tr=hb&wget=v&qget=v&nget=vt\" title=\"show this passage in SHEBANQ\">Genesis 9:21</a> - <a href=\"https://shebanq.ancient-data.org/hebrew/text?book=Chronica_II&chapter=11&verse=11&version=c&mr=m&qw=q&tp=txt_p&tr=hb&wget=v&qget=v&nget=vt\" title=\"show this passage in SHEBANQ\">2_Chronicles 11:11</a></div>\n",
       "\n",
       "</div>\n",
       "\n",
       "</div>"
      ],
      "text/plain": [
       "<IPython.core.display.HTML object>"
      ]
     },
     "metadata": {},
     "output_type": "display_data"
    },
    {
     "data": {
      "text/markdown": [
       "\n",
       "\n",
       "**Result** *148*\n",
       "\n"
      ],
      "text/plain": [
       "<IPython.core.display.Markdown object>"
      ]
     },
     "metadata": {},
     "output_type": "display_data"
    },
    {
     "data": {
      "text/html": [
       "<div class=\"outeritem\">\n",
       "<div class=\"lextp \" style=\"background-color: None;\">\n",
       "<div class=\"h\">מַעַל</div>\n",
       "<div class=\"features\"> <span class=\"voc_lex\"><a target=\"_blank\" href=\"https://shebanq.ancient-data.org/hebrew/word?version=c&id=1MOLn\" title=\"show this lexeme in SHEBANQ\">MA&lt;AL</a></span> <span class=\"gloss\">top</span> <span class=\"freq_lex\"><span class=\"f\">freq_lex=</span>140</span></div>\n",
       "<div class=\"occs\"><a href=\"https://shebanq.ancient-data.org/hebrew/text?book=Genesis&chapter=6&verse=16&version=c&mr=m&qw=q&tp=txt_p&tr=hb&wget=v&qget=v&nget=vt\" title=\"show this passage in SHEBANQ\">Genesis 6:16</a> - <a href=\"https://shebanq.ancient-data.org/hebrew/text?book=Chronica_II&chapter=34&verse=4&version=c&mr=m&qw=q&tp=txt_p&tr=hb&wget=v&qget=v&nget=vt\" title=\"show this passage in SHEBANQ\">2_Chronicles 34:4</a></div>\n",
       "\n",
       "</div>\n",
       "\n",
       "</div>"
      ],
      "text/plain": [
       "<IPython.core.display.HTML object>"
      ]
     },
     "metadata": {},
     "output_type": "display_data"
    },
    {
     "data": {
      "text/markdown": [
       "\n",
       "\n",
       "**Result** *149*\n",
       "\n"
      ],
      "text/plain": [
       "<IPython.core.display.Markdown object>"
      ]
     },
     "metadata": {},
     "output_type": "display_data"
    },
    {
     "data": {
      "text/html": [
       "<div class=\"outeritem\">\n",
       "<div class=\"lextp \" style=\"background-color: None;\">\n",
       "<div class=\"h\">מִשְׁכָּן</div>\n",
       "<div class=\"features\"> <span class=\"voc_lex\"><a target=\"_blank\" href=\"https://shebanq.ancient-data.org/hebrew/word?version=c&id=1MCKNn\" title=\"show this lexeme in SHEBANQ\">MIC:K.@N</a></span> <span class=\"gloss\">dwelling-place</span> <span class=\"freq_lex\"><span class=\"f\">freq_lex=</span>139</span></div>\n",
       "<div class=\"occs\"><a href=\"https://shebanq.ancient-data.org/hebrew/text?book=Exodus&chapter=25&verse=9&version=c&mr=m&qw=q&tp=txt_p&tr=hb&wget=v&qget=v&nget=vt\" title=\"show this passage in SHEBANQ\">Exodus 25:9</a> - <a href=\"https://shebanq.ancient-data.org/hebrew/text?book=Chronica_II&chapter=29&verse=6&version=c&mr=m&qw=q&tp=txt_p&tr=hb&wget=v&qget=v&nget=vt\" title=\"show this passage in SHEBANQ\">2_Chronicles 29:6</a></div>\n",
       "\n",
       "</div>\n",
       "\n",
       "</div>"
      ],
      "text/plain": [
       "<IPython.core.display.HTML object>"
      ]
     },
     "metadata": {},
     "output_type": "display_data"
    },
    {
     "data": {
      "text/markdown": [
       "\n",
       "\n",
       "**Result** *150*\n",
       "\n"
      ],
      "text/plain": [
       "<IPython.core.display.Markdown object>"
      ]
     },
     "metadata": {},
     "output_type": "display_data"
    },
    {
     "data": {
      "text/html": [
       "<div class=\"outeritem\">\n",
       "<div class=\"lextp \" style=\"background-color: None;\">\n",
       "<div class=\"h\">נַחַל</div>\n",
       "<div class=\"features\"> <span class=\"voc_lex\"><a target=\"_blank\" href=\"https://shebanq.ancient-data.org/hebrew/word?version=c&id=1NXLn\" title=\"show this lexeme in SHEBANQ\">NAXAL</a></span> <span class=\"gloss\">wadi</span> <span class=\"freq_lex\"><span class=\"f\">freq_lex=</span>139</span></div>\n",
       "<div class=\"occs\"><a href=\"https://shebanq.ancient-data.org/hebrew/text?book=Genesis&chapter=26&verse=17&version=c&mr=m&qw=q&tp=txt_p&tr=hb&wget=v&qget=v&nget=vt\" title=\"show this passage in SHEBANQ\">Genesis 26:17</a> - <a href=\"https://shebanq.ancient-data.org/hebrew/text?book=Chronica_II&chapter=33&verse=14&version=c&mr=m&qw=q&tp=txt_p&tr=hb&wget=v&qget=v&nget=vt\" title=\"show this passage in SHEBANQ\">2_Chronicles 33:14</a></div>\n",
       "\n",
       "</div>\n",
       "\n",
       "</div>"
      ],
      "text/plain": [
       "<IPython.core.display.HTML object>"
      ]
     },
     "metadata": {},
     "output_type": "display_data"
    }
   ],
   "source": [
    "term_nodes = [res[1] for res in ordered[:150]] # extract top 150 lex nodes\n",
    "B.prettySetup(features={'ls', 'freq_lex'}) # config B to display ls and freq_lex\n",
    "\n",
    "# display lexeme data\n",
    "for i, term, node in zip(range(1, len(terms)), terms, term_nodes):\n",
    "    B.prettyTuple((node,), seqNumber=i)"
   ]
  },
  {
   "cell_type": "markdown",
   "metadata": {},
   "source": [
    "Based on the nouns that are present, we should make some key exclusions. Many substantives have more functional or adjectival roles such as cardinal numbers and near-prepositions. By restricting the possible lexical set (`ls`) values in a new  search template, we can eliminate these kinds of nouns, including copulative nouns (`nmcp`, e.g. אין), cardinal numbers (`card`), potential prepositions (`ppre`), *cont...* "
   ]
  }
 ],
 "metadata": {
  "kernelspec": {
   "display_name": "Python 3",
   "language": "python",
   "name": "python3"
  },
  "language_info": {
   "codemirror_mode": {
    "name": "ipython",
    "version": 3
   },
   "file_extension": ".py",
   "mimetype": "text/x-python",
   "name": "python",
   "nbconvert_exporter": "python",
   "pygments_lexer": "ipython3",
   "version": "3.7.0"
  }
 },
 "nbformat": 4,
 "nbformat_minor": 2
}
