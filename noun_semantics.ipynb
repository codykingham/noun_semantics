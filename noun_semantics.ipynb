{
 "cells": [
  {
   "cell_type": "markdown",
   "metadata": {},
   "source": [
    "<h2>Best viewed in <a href=\"https://nbviewer.jupyter.org/github/codykingham/noun_semantics_SBL18/blob/master/noun_semantics.ipynb?flush_cache=true?\">Jupyter Notebook Viewer</a></h2>\n",
    "\n",
    "# Noun Semantics in the Hebrew Bible\n",
    "\n",
    "*This notebook will contain the descriptions and analysis for the presentation on noun semantics in the Hebrew Bible.*"
   ]
  },
  {
   "cell_type": "code",
   "execution_count": 93,
   "metadata": {},
   "outputs": [
    {
     "name": "stdout",
     "output_type": "stream",
     "text": [
      "  0.00s loading features ...\n",
      "   |     0.18s B lex_utf8             from /Users/cody/github/etcbc/bhsa/tf/c\n",
      "   |     0.21s B phono                from /Users/cody/github/etcbc/phono/tf/c\n",
      "   |     0.89s B heads                from /Users/cody/github/etcbc/lingo/heads/tf/c\n",
      "   |     0.24s B typ                  from /Users/cody/github/etcbc/bhsa/tf/c\n",
      "   |     0.10s B freq_lex             from /Users/cody/github/etcbc/bhsa/tf/c\n",
      "   |     0.13s B pdp                  from /Users/cody/github/etcbc/bhsa/tf/c\n",
      "   |     0.13s B sp                   from /Users/cody/github/etcbc/bhsa/tf/c\n",
      "   |     0.13s B ls                   from /Users/cody/github/etcbc/bhsa/tf/c\n",
      "  7.25s All features loaded/computed - for details use loadLog()\n"
     ]
    },
    {
     "data": {
      "text/html": [
       "\n",
       "<style>\n",
       "@font-face {\n",
       "  font-family: \"Ezra SIL\";\n",
       "  src: url('https://github.com/Dans-labs/text-fabric/blob/master/tf/server/static/fonts/SILEOT.ttf?raw=true');\n",
       "  src: url('https://github.com/Dans-labs/text-fabric/blob/master/tf/server/static/fonts/SILEOT.woff?raw=true') format('woff');\n",
       "}\n",
       "</style>\n",
       "\n",
       "<style type=\"text/css\">\n",
       ".verse {\n",
       "    display: flex;\n",
       "    flex-flow: row wrap;\n",
       "    direction: rtl;\n",
       "}\n",
       ".vl {\n",
       "    display: flex;\n",
       "    flex-flow: column nowrap;\n",
       "    justify-content: flex-end;\n",
       "    align-items: flex-end;\n",
       "    direction: ltr;\n",
       "    width: 100%;\n",
       "}\n",
       ".outeritem {\n",
       "    display: flex;\n",
       "    flex-flow: row wrap;\n",
       "    direction: rtl;\n",
       "}\n",
       ".sentence,.clause,.phrase {\n",
       "    margin-top: -1.2em;\n",
       "    margin-left: 1em;\n",
       "    background: #ffffff none repeat scroll 0 0;\n",
       "    padding: 0 0.3em;\n",
       "    border-style: solid;\n",
       "    border-radius: 0.2em;\n",
       "    font-size: small;\n",
       "    display: block;\n",
       "    width: fit-content;\n",
       "    max-width: fit-content;\n",
       "    direction: ltr;\n",
       "}\n",
       ".atoms {\n",
       "    display: flex;\n",
       "    flex-flow: row wrap;\n",
       "    margin: 0.3em;\n",
       "    padding: 0.3em;\n",
       "    direction: rtl;\n",
       "    background-color: #ffffff;\n",
       "}\n",
       ".satom,.catom,.patom {\n",
       "    margin: 0.3em;\n",
       "    padding: 0.3em;\n",
       "    border-radius: 0.3em;\n",
       "    border-style: solid;\n",
       "    display: flex;\n",
       "    flex-flow: column nowrap;\n",
       "    direction: rtl;\n",
       "    background-color: #ffffff;\n",
       "}\n",
       ".sentence {\n",
       "    border-color: #aa3333;\n",
       "    border-width: 1px;\n",
       "}\n",
       ".clause {\n",
       "    border-color: #aaaa33;\n",
       "    border-width: 1px;\n",
       "}\n",
       ".phrase {\n",
       "    border-color: #33aaaa;\n",
       "    border-width: 1px;\n",
       "}\n",
       ".satom {\n",
       "    border-color: #aa3333;\n",
       "    border-width: 4px;\n",
       "}\n",
       ".catom {\n",
       "    border-color: #aaaa33;\n",
       "    border-width: 3px;\n",
       "}\n",
       ".patom {\n",
       "    border-color: #33aaaa;\n",
       "    border-width: 3px;\n",
       "}\n",
       ".word {\n",
       "    padding: 0.1em;\n",
       "    margin: 0.1em;\n",
       "    border-radius: 0.1em;\n",
       "    border: 1px solid #cccccc;\n",
       "    display: flex;\n",
       "    flex-flow: column nowrap;\n",
       "    direction: rtl;\n",
       "    background-color: #ffffff;\n",
       "}\n",
       ".lextp {\n",
       "    padding: 0.1em;\n",
       "    margin: 0.1em;\n",
       "    border-radius: 0.1em;\n",
       "    border: 2px solid #888888;\n",
       "    width: fit-content;\n",
       "    display: flex;\n",
       "    flex-flow: column nowrap;\n",
       "    direction: rtl;\n",
       "    background-color: #ffffff;\n",
       "}\n",
       ".occs {\n",
       "    font-size: x-small;\n",
       "}\n",
       ".satom.l,.catom.l,.patom.l {\n",
       "    border-left-style: dotted\n",
       "}\n",
       ".satom.r,.catom.r,.patom.r {\n",
       "    border-right-style: dotted\n",
       "}\n",
       ".satom.L,.catom.L,.patom.L {\n",
       "    border-left-style: none\n",
       "}\n",
       ".satom.R,.catom.R,.patom.R {\n",
       "    border-right-style: none\n",
       "}\n",
       ".tr,.tr a:visited,.tr a:link {\n",
       "    font-family: sans-serif;\n",
       "    font-size: large;\n",
       "    color: #000044;\n",
       "    direction: ltr;\n",
       "    text-decoration: none;\n",
       "}\n",
       ".trb,.trb a:visited,.trb a:link {\n",
       "    font-family: sans-serif;\n",
       "    font-size: large;\n",
       "    direction: ltr;\n",
       "    text-decoration: none;\n",
       "}\n",
       ".h,.h a:visited,.h a:link {\n",
       "    font-family: \"Ezra SIL\", \"SBL Hebrew\", sans-serif;\n",
       "    font-size: large;\n",
       "    color: #000044;\n",
       "    direction: rtl;\n",
       "    text-decoration: none;\n",
       "}\n",
       ".hb,.hb a:visited,.hb a:link {\n",
       "    font-family: \"Ezra SIL\", \"SBL Hebrew\", sans-serif;\n",
       "    font-size: large;\n",
       "    direction: rtl;\n",
       "    text-decoration: none;\n",
       "}\n",
       ".rela,.function,.typ {\n",
       "    font-family: monospace;\n",
       "    font-size: small;\n",
       "    color: #0000bb;\n",
       "}\n",
       ".pdp,.pdp a:visited,.pdp a:link {\n",
       "    font-family: monospace;\n",
       "    font-size: medium;\n",
       "    color: #0000bb;\n",
       "    text-decoration: none;\n",
       "}\n",
       ".voc_lex {\n",
       "    font-family: monospace;\n",
       "    font-size: medium;\n",
       "    color: #0000bb;\n",
       "}\n",
       ".vs {\n",
       "    font-family: monospace;\n",
       "    font-size: medium;\n",
       "    font-weight: bold;\n",
       "    color: #0000bb;\n",
       "}\n",
       ".vt {\n",
       "    font-family: monospace;\n",
       "    font-size: medium;\n",
       "    font-weight: bold;\n",
       "    color: #0000bb;\n",
       "}\n",
       ".gloss {\n",
       "    font-family: sans-serif;\n",
       "    font-size: small;\n",
       "    font-weight: normal;\n",
       "    color: #444444;\n",
       "}\n",
       ".vrs {\n",
       "    font-family: sans-serif;\n",
       "    font-size: small;\n",
       "    font-weight: bold;\n",
       "    color: #444444;\n",
       "}\n",
       ".nd {\n",
       "    font-family: monospace;\n",
       "    font-size: x-small;\n",
       "    color: #999999;\n",
       "}\n",
       ".features {\n",
       "    font-family: monospace;\n",
       "    font-size: medium;\n",
       "    font-weight: bold;\n",
       "    color: #0a6611;\n",
       "    display: flex;\n",
       "    flex-flow: column nowrap;\n",
       "    padding: 0.1em;\n",
       "    margin: 0.1em;\n",
       "    direction: ltr;\n",
       "}\n",
       ".features .f {\n",
       "    font-family: sans-serif;\n",
       "    font-size: x-small;\n",
       "    font-weight: normal;\n",
       "    color: #5555bb;\n",
       "}\n",
       ".word .features div,.word .features span {\n",
       "    padding: 0;\n",
       "    margin: -0.1rem 0;\n",
       "}\n",
       "\n",
       ".hl {\n",
       "    background-color: #ffee66;\n",
       "}\n",
       "</style>\n"
      ],
      "text/plain": [
       "<IPython.core.display.HTML object>"
      ]
     },
     "metadata": {},
     "output_type": "display_data"
    }
   ],
   "source": [
    "# ETCBC's BHSA data\n",
    "from tf.fabric import Fabric\n",
    "from tf.extra.bhsa import Bhsa\n",
    "\n",
    "# stats & data-containers\n",
    "import collections\n",
    "import pandas as pd\n",
    "import numpy as np\n",
    "import scipy.stats as stats\n",
    "\n",
    "# data visualizations\n",
    "import seaborn as sns\n",
    "sns.set(style=\"whitegrid\")\n",
    "import matplotlib.pyplot as plt\n",
    "from IPython.display import HTML, display\n",
    "\n",
    "# prep the data\n",
    "name = 'noun_semantics'\n",
    "hebrew_data = ['~/github/etcbc/{}/tf/c'.format(direc) for direc in ('bhsa','lingo/heads', 'phono')] # data dirs\n",
    "load_features = '''\n",
    "heads typ phono lex_utf8 freq_lex pdp sp ls\n",
    "''' \n",
    "\n",
    "# TF load statements\n",
    "TF = Fabric(locations=hebrew_data, silent=True)\n",
    "api = TF.load(load_features)\n",
    "B = Bhsa(api=api, hoist=globals(), silent=True, name=name) # Bhsa functions for search and visualizing text"
   ]
  },
  {
   "cell_type": "code",
   "execution_count": 156,
   "metadata": {},
   "outputs": [],
   "source": [
    "def reverse_hb(heb_text):\n",
    "    '''\n",
    "    Reverses order of left-to-right text \n",
    "    for good matplotlib formatting.\n",
    "    '''\n",
    "    return ''.join(reversed(heb_text))\n",
    "\n",
    "def show_word_list(word_nodes, title=''):\n",
    "    '''\n",
    "    Displays Hebrew for a pipe-separated list of word nodes\n",
    "    Good for seeing lexemes without taking up screen space.\n",
    "    '''\n",
    "    formatted = '&nbsp;&nbsp;|'.join(B.plain(node, asString=True) for node in word_nodes)\n",
    "    display(HTML(formatted))"
   ]
  },
  {
   "cell_type": "markdown",
   "metadata": {},
   "source": [
    "## Define a Target Noun Set\n",
    "\n",
    "*Insert discussion about the semantic relationship between iconicity and frequency with regards to the most frequent noun lexemes in the HB.*"
   ]
  },
  {
   "cell_type": "code",
   "execution_count": 127,
   "metadata": {},
   "outputs": [
    {
     "name": "stdout",
     "output_type": "stream",
     "text": [
      "  0.02s 3706 results\n"
     ]
    }
   ],
   "source": [
    "raw_search = '''\n",
    "\n",
    "lex language=Hebrew sp=subs\n",
    "\n",
    "'''\n",
    "\n",
    "raw_nouns = B.search(raw_search)"
   ]
  },
  {
   "cell_type": "markdown",
   "metadata": {},
   "source": [
    "Now we order the results on the basis of lexeme frequency."
   ]
  },
  {
   "cell_type": "code",
   "execution_count": 128,
   "metadata": {},
   "outputs": [],
   "source": [
    "raw_terms_ordered = sorted(((F.freq_lex.v(res[0]), res[0]) for res in raw_nouns), reverse=True)"
   ]
  },
  {
   "cell_type": "markdown",
   "metadata": {},
   "source": [
    "Below we have a look at the top 50 terms from the selected set. Pay attention to the feature `ls`, i.e. \"lexical set.\" This feature gives us some rudimentary semantic information about the nouns and their usual functions, and it suggests that some additional restrictions are necessary for the noun selection procedure. Note especially that several of these nouns are used in adjectival or prepositional roles (e.g.  כל ,אחד, אין, תחת)."
   ]
  },
  {
   "cell_type": "code",
   "execution_count": 129,
   "metadata": {},
   "outputs": [
    {
     "data": {
      "text/markdown": [
       "\n",
       "\n",
       "**Result** *0*\n",
       "\n"
      ],
      "text/plain": [
       "<IPython.core.display.Markdown object>"
      ]
     },
     "metadata": {},
     "output_type": "display_data"
    },
    {
     "data": {
      "text/html": [
       "<div class=\"outeritem\">\n",
       "<div class=\"lextp \" style=\"background-color: None;\">\n",
       "<div class=\"h\">כֹּל</div>\n",
       "<div class=\"features\"> <span class=\"voc_lex\"><a target=\"_blank\" href=\"https://shebanq.ancient-data.org/hebrew/word?version=c&id=1KLn\" title=\"show this lexeme in SHEBANQ\">K.OL</a></span> <span class=\"gloss\">whole</span> <span class=\"ls\"><span class=\"f\">ls=</span>nmdi</span> <span class=\"freq_lex\"><span class=\"f\">freq_lex=</span>5412</span></div>\n",
       "<div class=\"occs\"><a href=\"https://shebanq.ancient-data.org/hebrew/text?book=Genesis&chapter=1&verse=21&version=c&mr=m&qw=q&tp=txt_p&tr=hb&wget=v&qget=v&nget=vt\" title=\"show this passage in SHEBANQ\">Genesis 1:21</a> - <a href=\"https://shebanq.ancient-data.org/hebrew/text?book=Chronica_II&chapter=36&verse=23&version=c&mr=m&qw=q&tp=txt_p&tr=hb&wget=v&qget=v&nget=vt\" title=\"show this passage in SHEBANQ\">2_Chronicles 36:23</a></div>\n",
       "\n",
       "</div>\n",
       "\n",
       "</div>"
      ],
      "text/plain": [
       "<IPython.core.display.HTML object>"
      ]
     },
     "metadata": {},
     "output_type": "display_data"
    },
    {
     "data": {
      "text/markdown": [
       "\n",
       "\n",
       "**Result** *1*\n",
       "\n"
      ],
      "text/plain": [
       "<IPython.core.display.Markdown object>"
      ]
     },
     "metadata": {},
     "output_type": "display_data"
    },
    {
     "data": {
      "text/html": [
       "<div class=\"outeritem\">\n",
       "<div class=\"lextp \" style=\"background-color: None;\">\n",
       "<div class=\"h\">בֵּן</div>\n",
       "<div class=\"features\"> <span class=\"voc_lex\"><a target=\"_blank\" href=\"https://shebanq.ancient-data.org/hebrew/word?version=c&id=1BNn\" title=\"show this lexeme in SHEBANQ\">B.;N</a></span> <span class=\"gloss\">son</span> <span class=\"freq_lex\"><span class=\"f\">freq_lex=</span>4937</span></div>\n",
       "<div class=\"occs\"><a href=\"https://shebanq.ancient-data.org/hebrew/text?book=Genesis&chapter=3&verse=16&version=c&mr=m&qw=q&tp=txt_p&tr=hb&wget=v&qget=v&nget=vt\" title=\"show this passage in SHEBANQ\">Genesis 3:16</a> - <a href=\"https://shebanq.ancient-data.org/hebrew/text?book=Chronica_II&chapter=36&verse=20&version=c&mr=m&qw=q&tp=txt_p&tr=hb&wget=v&qget=v&nget=vt\" title=\"show this passage in SHEBANQ\">2_Chronicles 36:20</a></div>\n",
       "\n",
       "</div>\n",
       "\n",
       "</div>"
      ],
      "text/plain": [
       "<IPython.core.display.HTML object>"
      ]
     },
     "metadata": {},
     "output_type": "display_data"
    },
    {
     "data": {
      "text/markdown": [
       "\n",
       "\n",
       "**Result** *2*\n",
       "\n"
      ],
      "text/plain": [
       "<IPython.core.display.Markdown object>"
      ]
     },
     "metadata": {},
     "output_type": "display_data"
    },
    {
     "data": {
      "text/html": [
       "<div class=\"outeritem\">\n",
       "<div class=\"lextp \" style=\"background-color: None;\">\n",
       "<div class=\"h\">אֱלֹהִים</div>\n",
       "<div class=\"features\"> <span class=\"voc_lex\"><a target=\"_blank\" href=\"https://shebanq.ancient-data.org/hebrew/word?version=c&id=1ALHJMn\" title=\"show this lexeme in SHEBANQ\">>:ELOHIJM</a></span> <span class=\"gloss\">god(s)</span> <span class=\"freq_lex\"><span class=\"f\">freq_lex=</span>2601</span></div>\n",
       "<div class=\"occs\"><a href=\"https://shebanq.ancient-data.org/hebrew/text?book=Genesis&chapter=1&verse=1&version=c&mr=m&qw=q&tp=txt_p&tr=hb&wget=v&qget=v&nget=vt\" title=\"show this passage in SHEBANQ\">Genesis 1:1</a> - <a href=\"https://shebanq.ancient-data.org/hebrew/text?book=Chronica_II&chapter=36&verse=23&version=c&mr=m&qw=q&tp=txt_p&tr=hb&wget=v&qget=v&nget=vt\" title=\"show this passage in SHEBANQ\">2_Chronicles 36:23</a></div>\n",
       "\n",
       "</div>\n",
       "\n",
       "</div>"
      ],
      "text/plain": [
       "<IPython.core.display.HTML object>"
      ]
     },
     "metadata": {},
     "output_type": "display_data"
    },
    {
     "data": {
      "text/markdown": [
       "\n",
       "\n",
       "**Result** *3*\n",
       "\n"
      ],
      "text/plain": [
       "<IPython.core.display.Markdown object>"
      ]
     },
     "metadata": {},
     "output_type": "display_data"
    },
    {
     "data": {
      "text/html": [
       "<div class=\"outeritem\">\n",
       "<div class=\"lextp \" style=\"background-color: None;\">\n",
       "<div class=\"h\">מֶלֶךְ</div>\n",
       "<div class=\"features\"> <span class=\"voc_lex\"><a target=\"_blank\" href=\"https://shebanq.ancient-data.org/hebrew/word?version=c&id=1MLKn\" title=\"show this lexeme in SHEBANQ\">MELEK:</a></span> <span class=\"gloss\">king</span> <span class=\"freq_lex\"><span class=\"f\">freq_lex=</span>2523</span></div>\n",
       "<div class=\"occs\"><a href=\"https://shebanq.ancient-data.org/hebrew/text?book=Genesis&chapter=14&verse=1&version=c&mr=m&qw=q&tp=txt_p&tr=hb&wget=v&qget=v&nget=vt\" title=\"show this passage in SHEBANQ\">Genesis 14:1</a> - <a href=\"https://shebanq.ancient-data.org/hebrew/text?book=Chronica_II&chapter=36&verse=23&version=c&mr=m&qw=q&tp=txt_p&tr=hb&wget=v&qget=v&nget=vt\" title=\"show this passage in SHEBANQ\">2_Chronicles 36:23</a></div>\n",
       "\n",
       "</div>\n",
       "\n",
       "</div>"
      ],
      "text/plain": [
       "<IPython.core.display.HTML object>"
      ]
     },
     "metadata": {},
     "output_type": "display_data"
    },
    {
     "data": {
      "text/markdown": [
       "\n",
       "\n",
       "**Result** *4*\n",
       "\n"
      ],
      "text/plain": [
       "<IPython.core.display.Markdown object>"
      ]
     },
     "metadata": {},
     "output_type": "display_data"
    },
    {
     "data": {
      "text/html": [
       "<div class=\"outeritem\">\n",
       "<div class=\"lextp \" style=\"background-color: None;\">\n",
       "<div class=\"h\">אֶרֶץ</div>\n",
       "<div class=\"features\"> <span class=\"voc_lex\"><a target=\"_blank\" href=\"https://shebanq.ancient-data.org/hebrew/word?version=c&id=1ARYn\" title=\"show this lexeme in SHEBANQ\">>EREY</a></span> <span class=\"gloss\">earth</span> <span class=\"freq_lex\"><span class=\"f\">freq_lex=</span>2504</span></div>\n",
       "<div class=\"occs\"><a href=\"https://shebanq.ancient-data.org/hebrew/text?book=Genesis&chapter=1&verse=1&version=c&mr=m&qw=q&tp=txt_p&tr=hb&wget=v&qget=v&nget=vt\" title=\"show this passage in SHEBANQ\">Genesis 1:1</a> - <a href=\"https://shebanq.ancient-data.org/hebrew/text?book=Chronica_II&chapter=36&verse=23&version=c&mr=m&qw=q&tp=txt_p&tr=hb&wget=v&qget=v&nget=vt\" title=\"show this passage in SHEBANQ\">2_Chronicles 36:23</a></div>\n",
       "\n",
       "</div>\n",
       "\n",
       "</div>"
      ],
      "text/plain": [
       "<IPython.core.display.HTML object>"
      ]
     },
     "metadata": {},
     "output_type": "display_data"
    },
    {
     "data": {
      "text/markdown": [
       "\n",
       "\n",
       "**Result** *5*\n",
       "\n"
      ],
      "text/plain": [
       "<IPython.core.display.Markdown object>"
      ]
     },
     "metadata": {},
     "output_type": "display_data"
    },
    {
     "data": {
      "text/html": [
       "<div class=\"outeritem\">\n",
       "<div class=\"lextp \" style=\"background-color: None;\">\n",
       "<div class=\"h\">יֹום</div>\n",
       "<div class=\"features\"> <span class=\"voc_lex\"><a target=\"_blank\" href=\"https://shebanq.ancient-data.org/hebrew/word?version=c&id=1JWMn\" title=\"show this lexeme in SHEBANQ\">JOWM</a></span> <span class=\"gloss\">day</span> <span class=\"ls\"><span class=\"f\">ls=</span>padv</span> <span class=\"freq_lex\"><span class=\"f\">freq_lex=</span>2304</span></div>\n",
       "<div class=\"occs\"><a href=\"https://shebanq.ancient-data.org/hebrew/text?book=Genesis&chapter=1&verse=5&version=c&mr=m&qw=q&tp=txt_p&tr=hb&wget=v&qget=v&nget=vt\" title=\"show this passage in SHEBANQ\">Genesis 1:5</a> - <a href=\"https://shebanq.ancient-data.org/hebrew/text?book=Chronica_II&chapter=36&verse=21&version=c&mr=m&qw=q&tp=txt_p&tr=hb&wget=v&qget=v&nget=vt\" title=\"show this passage in SHEBANQ\">2_Chronicles 36:21</a></div>\n",
       "\n",
       "</div>\n",
       "\n",
       "</div>"
      ],
      "text/plain": [
       "<IPython.core.display.HTML object>"
      ]
     },
     "metadata": {},
     "output_type": "display_data"
    },
    {
     "data": {
      "text/markdown": [
       "\n",
       "\n",
       "**Result** *6*\n",
       "\n"
      ],
      "text/plain": [
       "<IPython.core.display.Markdown object>"
      ]
     },
     "metadata": {},
     "output_type": "display_data"
    },
    {
     "data": {
      "text/html": [
       "<div class=\"outeritem\">\n",
       "<div class=\"lextp \" style=\"background-color: None;\">\n",
       "<div class=\"h\">אִישׁ</div>\n",
       "<div class=\"features\"> <span class=\"voc_lex\"><a target=\"_blank\" href=\"https://shebanq.ancient-data.org/hebrew/word?version=c&id=1AJCn\" title=\"show this lexeme in SHEBANQ\">>IJC</a></span> <span class=\"gloss\">man</span> <span class=\"ls\"><span class=\"f\">ls=</span>nmdi</span> <span class=\"freq_lex\"><span class=\"f\">freq_lex=</span>2186</span></div>\n",
       "<div class=\"occs\"><a href=\"https://shebanq.ancient-data.org/hebrew/text?book=Genesis&chapter=2&verse=23&version=c&mr=m&qw=q&tp=txt_p&tr=hb&wget=v&qget=v&nget=vt\" title=\"show this passage in SHEBANQ\">Genesis 2:23</a> - <a href=\"https://shebanq.ancient-data.org/hebrew/text?book=Chronica_II&chapter=34&verse=30&version=c&mr=m&qw=q&tp=txt_p&tr=hb&wget=v&qget=v&nget=vt\" title=\"show this passage in SHEBANQ\">2_Chronicles 34:30</a></div>\n",
       "\n",
       "</div>\n",
       "\n",
       "</div>"
      ],
      "text/plain": [
       "<IPython.core.display.HTML object>"
      ]
     },
     "metadata": {},
     "output_type": "display_data"
    },
    {
     "data": {
      "text/markdown": [
       "\n",
       "\n",
       "**Result** *7*\n",
       "\n"
      ],
      "text/plain": [
       "<IPython.core.display.Markdown object>"
      ]
     },
     "metadata": {},
     "output_type": "display_data"
    },
    {
     "data": {
      "text/html": [
       "<div class=\"outeritem\">\n",
       "<div class=\"lextp \" style=\"background-color: None;\">\n",
       "<div class=\"h\">פָּנֶה</div>\n",
       "<div class=\"features\"> <span class=\"voc_lex\"><a target=\"_blank\" href=\"https://shebanq.ancient-data.org/hebrew/word?version=c&id=1PNHn\" title=\"show this lexeme in SHEBANQ\">P.@NEH</a></span> <span class=\"gloss\">face</span> <span class=\"freq_lex\"><span class=\"f\">freq_lex=</span>2127</span></div>\n",
       "<div class=\"occs\"><a href=\"https://shebanq.ancient-data.org/hebrew/text?book=Genesis&chapter=1&verse=2&version=c&mr=m&qw=q&tp=txt_p&tr=hb&wget=v&qget=v&nget=vt\" title=\"show this passage in SHEBANQ\">Genesis 1:2</a> - <a href=\"https://shebanq.ancient-data.org/hebrew/text?book=Chronica_II&chapter=36&verse=12&version=c&mr=m&qw=q&tp=txt_p&tr=hb&wget=v&qget=v&nget=vt\" title=\"show this passage in SHEBANQ\">2_Chronicles 36:12</a></div>\n",
       "\n",
       "</div>\n",
       "\n",
       "</div>"
      ],
      "text/plain": [
       "<IPython.core.display.HTML object>"
      ]
     },
     "metadata": {},
     "output_type": "display_data"
    },
    {
     "data": {
      "text/markdown": [
       "\n",
       "\n",
       "**Result** *8*\n",
       "\n"
      ],
      "text/plain": [
       "<IPython.core.display.Markdown object>"
      ]
     },
     "metadata": {},
     "output_type": "display_data"
    },
    {
     "data": {
      "text/html": [
       "<div class=\"outeritem\">\n",
       "<div class=\"lextp \" style=\"background-color: None;\">\n",
       "<div class=\"h\">בַּיִת</div>\n",
       "<div class=\"features\"> <span class=\"voc_lex\"><a target=\"_blank\" href=\"https://shebanq.ancient-data.org/hebrew/word?version=c&id=1BJTn\" title=\"show this lexeme in SHEBANQ\">B.AJIT</a></span> <span class=\"gloss\">house</span> <span class=\"freq_lex\"><span class=\"f\">freq_lex=</span>2063</span></div>\n",
       "<div class=\"occs\"><a href=\"https://shebanq.ancient-data.org/hebrew/text?book=Genesis&chapter=6&verse=14&version=c&mr=m&qw=q&tp=txt_p&tr=hb&wget=v&qget=v&nget=vt\" title=\"show this passage in SHEBANQ\">Genesis 6:14</a> - <a href=\"https://shebanq.ancient-data.org/hebrew/text?book=Chronica_II&chapter=36&verse=23&version=c&mr=m&qw=q&tp=txt_p&tr=hb&wget=v&qget=v&nget=vt\" title=\"show this passage in SHEBANQ\">2_Chronicles 36:23</a></div>\n",
       "\n",
       "</div>\n",
       "\n",
       "</div>"
      ],
      "text/plain": [
       "<IPython.core.display.HTML object>"
      ]
     },
     "metadata": {},
     "output_type": "display_data"
    },
    {
     "data": {
      "text/markdown": [
       "\n",
       "\n",
       "**Result** *9*\n",
       "\n"
      ],
      "text/plain": [
       "<IPython.core.display.Markdown object>"
      ]
     },
     "metadata": {},
     "output_type": "display_data"
    },
    {
     "data": {
      "text/html": [
       "<div class=\"outeritem\">\n",
       "<div class=\"lextp \" style=\"background-color: None;\">\n",
       "<div class=\"h\">עַם</div>\n",
       "<div class=\"features\"> <span class=\"voc_lex\"><a target=\"_blank\" href=\"https://shebanq.ancient-data.org/hebrew/word?version=c&id=1OMn\" title=\"show this lexeme in SHEBANQ\">&lt;AM</a></span> <span class=\"gloss\">people</span> <span class=\"freq_lex\"><span class=\"f\">freq_lex=</span>1866</span></div>\n",
       "<div class=\"occs\"><a href=\"https://shebanq.ancient-data.org/hebrew/text?book=Genesis&chapter=11&verse=6&version=c&mr=m&qw=q&tp=txt_p&tr=hb&wget=v&qget=v&nget=vt\" title=\"show this passage in SHEBANQ\">Genesis 11:6</a> - <a href=\"https://shebanq.ancient-data.org/hebrew/text?book=Chronica_II&chapter=36&verse=23&version=c&mr=m&qw=q&tp=txt_p&tr=hb&wget=v&qget=v&nget=vt\" title=\"show this passage in SHEBANQ\">2_Chronicles 36:23</a></div>\n",
       "\n",
       "</div>\n",
       "\n",
       "</div>"
      ],
      "text/plain": [
       "<IPython.core.display.HTML object>"
      ]
     },
     "metadata": {},
     "output_type": "display_data"
    },
    {
     "data": {
      "text/markdown": [
       "\n",
       "\n",
       "**Result** *10*\n",
       "\n"
      ],
      "text/plain": [
       "<IPython.core.display.Markdown object>"
      ]
     },
     "metadata": {},
     "output_type": "display_data"
    },
    {
     "data": {
      "text/html": [
       "<div class=\"outeritem\">\n",
       "<div class=\"lextp \" style=\"background-color: None;\">\n",
       "<div class=\"h\">יָד</div>\n",
       "<div class=\"features\"> <span class=\"voc_lex\"><a target=\"_blank\" href=\"https://shebanq.ancient-data.org/hebrew/word?version=c&id=1JDn\" title=\"show this lexeme in SHEBANQ\">J@D</a></span> <span class=\"gloss\">hand</span> <span class=\"freq_lex\"><span class=\"f\">freq_lex=</span>1618</span></div>\n",
       "<div class=\"occs\"><a href=\"https://shebanq.ancient-data.org/hebrew/text?book=Genesis&chapter=3&verse=22&version=c&mr=m&qw=q&tp=txt_p&tr=hb&wget=v&qget=v&nget=vt\" title=\"show this passage in SHEBANQ\">Genesis 3:22</a> - <a href=\"https://shebanq.ancient-data.org/hebrew/text?book=Chronica_II&chapter=36&verse=17&version=c&mr=m&qw=q&tp=txt_p&tr=hb&wget=v&qget=v&nget=vt\" title=\"show this passage in SHEBANQ\">2_Chronicles 36:17</a></div>\n",
       "\n",
       "</div>\n",
       "\n",
       "</div>"
      ],
      "text/plain": [
       "<IPython.core.display.HTML object>"
      ]
     },
     "metadata": {},
     "output_type": "display_data"
    },
    {
     "data": {
      "text/markdown": [
       "\n",
       "\n",
       "**Result** *11*\n",
       "\n"
      ],
      "text/plain": [
       "<IPython.core.display.Markdown object>"
      ]
     },
     "metadata": {},
     "output_type": "display_data"
    },
    {
     "data": {
      "text/html": [
       "<div class=\"outeritem\">\n",
       "<div class=\"lextp \" style=\"background-color: None;\">\n",
       "<div class=\"h\">דָּבָר</div>\n",
       "<div class=\"features\"> <span class=\"voc_lex\"><a target=\"_blank\" href=\"https://shebanq.ancient-data.org/hebrew/word?version=c&id=1DBRn\" title=\"show this lexeme in SHEBANQ\">D.@B@R</a></span> <span class=\"gloss\">word</span> <span class=\"freq_lex\"><span class=\"f\">freq_lex=</span>1441</span></div>\n",
       "<div class=\"occs\"><a href=\"https://shebanq.ancient-data.org/hebrew/text?book=Genesis&chapter=11&verse=1&version=c&mr=m&qw=q&tp=txt_p&tr=hb&wget=v&qget=v&nget=vt\" title=\"show this passage in SHEBANQ\">Genesis 11:1</a> - <a href=\"https://shebanq.ancient-data.org/hebrew/text?book=Chronica_II&chapter=36&verse=22&version=c&mr=m&qw=q&tp=txt_p&tr=hb&wget=v&qget=v&nget=vt\" title=\"show this passage in SHEBANQ\">2_Chronicles 36:22</a></div>\n",
       "\n",
       "</div>\n",
       "\n",
       "</div>"
      ],
      "text/plain": [
       "<IPython.core.display.HTML object>"
      ]
     },
     "metadata": {},
     "output_type": "display_data"
    },
    {
     "data": {
      "text/markdown": [
       "\n",
       "\n",
       "**Result** *12*\n",
       "\n"
      ],
      "text/plain": [
       "<IPython.core.display.Markdown object>"
      ]
     },
     "metadata": {},
     "output_type": "display_data"
    },
    {
     "data": {
      "text/html": [
       "<div class=\"outeritem\">\n",
       "<div class=\"lextp \" style=\"background-color: None;\">\n",
       "<div class=\"h\">אָב</div>\n",
       "<div class=\"features\"> <span class=\"voc_lex\"><a target=\"_blank\" href=\"https://shebanq.ancient-data.org/hebrew/word?version=c&id=1ABn\" title=\"show this lexeme in SHEBANQ\">>@B</a></span> <span class=\"gloss\">father</span> <span class=\"freq_lex\"><span class=\"f\">freq_lex=</span>1217</span></div>\n",
       "<div class=\"occs\"><a href=\"https://shebanq.ancient-data.org/hebrew/text?book=Genesis&chapter=2&verse=24&version=c&mr=m&qw=q&tp=txt_p&tr=hb&wget=v&qget=v&nget=vt\" title=\"show this passage in SHEBANQ\">Genesis 2:24</a> - <a href=\"https://shebanq.ancient-data.org/hebrew/text?book=Chronica_II&chapter=36&verse=15&version=c&mr=m&qw=q&tp=txt_p&tr=hb&wget=v&qget=v&nget=vt\" title=\"show this passage in SHEBANQ\">2_Chronicles 36:15</a></div>\n",
       "\n",
       "</div>\n",
       "\n",
       "</div>"
      ],
      "text/plain": [
       "<IPython.core.display.HTML object>"
      ]
     },
     "metadata": {},
     "output_type": "display_data"
    },
    {
     "data": {
      "text/markdown": [
       "\n",
       "\n",
       "**Result** *13*\n",
       "\n"
      ],
      "text/plain": [
       "<IPython.core.display.Markdown object>"
      ]
     },
     "metadata": {},
     "output_type": "display_data"
    },
    {
     "data": {
      "text/html": [
       "<div class=\"outeritem\">\n",
       "<div class=\"lextp \" style=\"background-color: None;\">\n",
       "<div class=\"h\">עִיר</div>\n",
       "<div class=\"features\"> <span class=\"voc_lex\"><a target=\"_blank\" href=\"https://shebanq.ancient-data.org/hebrew/word?version=c&id=1OJRn\" title=\"show this lexeme in SHEBANQ\">&lt;IJR</a></span> <span class=\"gloss\">town</span> <span class=\"freq_lex\"><span class=\"f\">freq_lex=</span>1090</span></div>\n",
       "<div class=\"occs\"><a href=\"https://shebanq.ancient-data.org/hebrew/text?book=Genesis&chapter=4&verse=17&version=c&mr=m&qw=q&tp=txt_p&tr=hb&wget=v&qget=v&nget=vt\" title=\"show this passage in SHEBANQ\">Genesis 4:17</a> - <a href=\"https://shebanq.ancient-data.org/hebrew/text?book=Chronica_II&chapter=34&verse=8&version=c&mr=m&qw=q&tp=txt_p&tr=hb&wget=v&qget=v&nget=vt\" title=\"show this passage in SHEBANQ\">2_Chronicles 34:8</a></div>\n",
       "\n",
       "</div>\n",
       "\n",
       "</div>"
      ],
      "text/plain": [
       "<IPython.core.display.HTML object>"
      ]
     },
     "metadata": {},
     "output_type": "display_data"
    },
    {
     "data": {
      "text/markdown": [
       "\n",
       "\n",
       "**Result** *14*\n",
       "\n"
      ],
      "text/plain": [
       "<IPython.core.display.Markdown object>"
      ]
     },
     "metadata": {},
     "output_type": "display_data"
    },
    {
     "data": {
      "text/html": [
       "<div class=\"outeritem\">\n",
       "<div class=\"lextp \" style=\"background-color: None;\">\n",
       "<div class=\"h\">אֶחָד</div>\n",
       "<div class=\"features\"> <span class=\"voc_lex\"><a target=\"_blank\" href=\"https://shebanq.ancient-data.org/hebrew/word?version=c&id=1AXDn\" title=\"show this lexeme in SHEBANQ\">>EX@D</a></span> <span class=\"gloss\">one</span> <span class=\"ls\"><span class=\"f\">ls=</span>card</span> <span class=\"freq_lex\"><span class=\"f\">freq_lex=</span>970</span></div>\n",
       "<div class=\"occs\"><a href=\"https://shebanq.ancient-data.org/hebrew/text?book=Genesis&chapter=1&verse=5&version=c&mr=m&qw=q&tp=txt_p&tr=hb&wget=v&qget=v&nget=vt\" title=\"show this passage in SHEBANQ\">Genesis 1:5</a> - <a href=\"https://shebanq.ancient-data.org/hebrew/text?book=Chronica_II&chapter=36&verse=22&version=c&mr=m&qw=q&tp=txt_p&tr=hb&wget=v&qget=v&nget=vt\" title=\"show this passage in SHEBANQ\">2_Chronicles 36:22</a></div>\n",
       "\n",
       "</div>\n",
       "\n",
       "</div>"
      ],
      "text/plain": [
       "<IPython.core.display.HTML object>"
      ]
     },
     "metadata": {},
     "output_type": "display_data"
    },
    {
     "data": {
      "text/markdown": [
       "\n",
       "\n",
       "**Result** *15*\n",
       "\n"
      ],
      "text/plain": [
       "<IPython.core.display.Markdown object>"
      ]
     },
     "metadata": {},
     "output_type": "display_data"
    },
    {
     "data": {
      "text/html": [
       "<div class=\"outeritem\">\n",
       "<div class=\"lextp \" style=\"background-color: None;\">\n",
       "<div class=\"h\">עַיִן</div>\n",
       "<div class=\"features\"> <span class=\"voc_lex\"><a target=\"_blank\" href=\"https://shebanq.ancient-data.org/hebrew/word?version=c&id=1OJNn\" title=\"show this lexeme in SHEBANQ\">&lt;AJIN</a></span> <span class=\"gloss\">eye</span> <span class=\"freq_lex\"><span class=\"f\">freq_lex=</span>887</span></div>\n",
       "<div class=\"occs\"><a href=\"https://shebanq.ancient-data.org/hebrew/text?book=Genesis&chapter=3&verse=5&version=c&mr=m&qw=q&tp=txt_p&tr=hb&wget=v&qget=v&nget=vt\" title=\"show this passage in SHEBANQ\">Genesis 3:5</a> - <a href=\"https://shebanq.ancient-data.org/hebrew/text?book=Chronica_II&chapter=36&verse=12&version=c&mr=m&qw=q&tp=txt_p&tr=hb&wget=v&qget=v&nget=vt\" title=\"show this passage in SHEBANQ\">2_Chronicles 36:12</a></div>\n",
       "\n",
       "</div>\n",
       "\n",
       "</div>"
      ],
      "text/plain": [
       "<IPython.core.display.HTML object>"
      ]
     },
     "metadata": {},
     "output_type": "display_data"
    },
    {
     "data": {
      "text/markdown": [
       "\n",
       "\n",
       "**Result** *16*\n",
       "\n"
      ],
      "text/plain": [
       "<IPython.core.display.Markdown object>"
      ]
     },
     "metadata": {},
     "output_type": "display_data"
    },
    {
     "data": {
      "text/html": [
       "<div class=\"outeritem\">\n",
       "<div class=\"lextp \" style=\"background-color: None;\">\n",
       "<div class=\"h\">שָׁנָה</div>\n",
       "<div class=\"features\"> <span class=\"voc_lex\"><a target=\"_blank\" href=\"https://shebanq.ancient-data.org/hebrew/word?version=c&id=1CNHn\" title=\"show this lexeme in SHEBANQ\">C@N@H</a></span> <span class=\"gloss\">year</span> <span class=\"freq_lex\"><span class=\"f\">freq_lex=</span>876</span></div>\n",
       "<div class=\"occs\"><a href=\"https://shebanq.ancient-data.org/hebrew/text?book=Genesis&chapter=1&verse=14&version=c&mr=m&qw=q&tp=txt_p&tr=hb&wget=v&qget=v&nget=vt\" title=\"show this passage in SHEBANQ\">Genesis 1:14</a> - <a href=\"https://shebanq.ancient-data.org/hebrew/text?book=Chronica_II&chapter=36&verse=22&version=c&mr=m&qw=q&tp=txt_p&tr=hb&wget=v&qget=v&nget=vt\" title=\"show this passage in SHEBANQ\">2_Chronicles 36:22</a></div>\n",
       "\n",
       "</div>\n",
       "\n",
       "</div>"
      ],
      "text/plain": [
       "<IPython.core.display.HTML object>"
      ]
     },
     "metadata": {},
     "output_type": "display_data"
    },
    {
     "data": {
      "text/markdown": [
       "\n",
       "\n",
       "**Result** *17*\n",
       "\n"
      ],
      "text/plain": [
       "<IPython.core.display.Markdown object>"
      ]
     },
     "metadata": {},
     "output_type": "display_data"
    },
    {
     "data": {
      "text/html": [
       "<div class=\"outeritem\">\n",
       "<div class=\"lextp \" style=\"background-color: None;\">\n",
       "<div class=\"h\">שֵׁם</div>\n",
       "<div class=\"features\"> <span class=\"voc_lex\"><a target=\"_blank\" href=\"https://shebanq.ancient-data.org/hebrew/word?version=c&id=1CMn\" title=\"show this lexeme in SHEBANQ\">C;M</a></span> <span class=\"gloss\">name</span> <span class=\"freq_lex\"><span class=\"f\">freq_lex=</span>864</span></div>\n",
       "<div class=\"occs\"><a href=\"https://shebanq.ancient-data.org/hebrew/text?book=Genesis&chapter=2&verse=11&version=c&mr=m&qw=q&tp=txt_p&tr=hb&wget=v&qget=v&nget=vt\" title=\"show this passage in SHEBANQ\">Genesis 2:11</a> - <a href=\"https://shebanq.ancient-data.org/hebrew/text?book=Chronica_II&chapter=36&verse=4&version=c&mr=m&qw=q&tp=txt_p&tr=hb&wget=v&qget=v&nget=vt\" title=\"show this passage in SHEBANQ\">2_Chronicles 36:4</a></div>\n",
       "\n",
       "</div>\n",
       "\n",
       "</div>"
      ],
      "text/plain": [
       "<IPython.core.display.HTML object>"
      ]
     },
     "metadata": {},
     "output_type": "display_data"
    },
    {
     "data": {
      "text/markdown": [
       "\n",
       "\n",
       "**Result** *18*\n",
       "\n"
      ],
      "text/plain": [
       "<IPython.core.display.Markdown object>"
      ]
     },
     "metadata": {},
     "output_type": "display_data"
    },
    {
     "data": {
      "text/html": [
       "<div class=\"outeritem\">\n",
       "<div class=\"lextp \" style=\"background-color: None;\">\n",
       "<div class=\"h\">עֶבֶד</div>\n",
       "<div class=\"features\"> <span class=\"voc_lex\"><a target=\"_blank\" href=\"https://shebanq.ancient-data.org/hebrew/word?version=c&id=1OBDn\" title=\"show this lexeme in SHEBANQ\">&lt;EBED</a></span> <span class=\"gloss\">servant</span> <span class=\"freq_lex\"><span class=\"f\">freq_lex=</span>800</span></div>\n",
       "<div class=\"occs\"><a href=\"https://shebanq.ancient-data.org/hebrew/text?book=Genesis&chapter=9&verse=25&version=c&mr=m&qw=q&tp=txt_p&tr=hb&wget=v&qget=v&nget=vt\" title=\"show this passage in SHEBANQ\">Genesis 9:25</a> - <a href=\"https://shebanq.ancient-data.org/hebrew/text?book=Chronica_II&chapter=36&verse=20&version=c&mr=m&qw=q&tp=txt_p&tr=hb&wget=v&qget=v&nget=vt\" title=\"show this passage in SHEBANQ\">2_Chronicles 36:20</a></div>\n",
       "\n",
       "</div>\n",
       "\n",
       "</div>"
      ],
      "text/plain": [
       "<IPython.core.display.HTML object>"
      ]
     },
     "metadata": {},
     "output_type": "display_data"
    },
    {
     "data": {
      "text/markdown": [
       "\n",
       "\n",
       "**Result** *19*\n",
       "\n"
      ],
      "text/plain": [
       "<IPython.core.display.Markdown object>"
      ]
     },
     "metadata": {},
     "output_type": "display_data"
    },
    {
     "data": {
      "text/html": [
       "<div class=\"outeritem\">\n",
       "<div class=\"lextp \" style=\"background-color: None;\">\n",
       "<div class=\"h\">אַיִן</div>\n",
       "<div class=\"features\"> <span class=\"voc_lex\"><a target=\"_blank\" href=\"https://shebanq.ancient-data.org/hebrew/word?version=c&id=1AJNn\" title=\"show this lexeme in SHEBANQ\">>AJIN</a></span> <span class=\"gloss\">&lt;NEG></span> <span class=\"ls\"><span class=\"f\">ls=</span>nmcp</span> <span class=\"freq_lex\"><span class=\"f\">freq_lex=</span>788</span></div>\n",
       "<div class=\"occs\"><a href=\"https://shebanq.ancient-data.org/hebrew/text?book=Genesis&chapter=2&verse=5&version=c&mr=m&qw=q&tp=txt_p&tr=hb&wget=v&qget=v&nget=vt\" title=\"show this passage in SHEBANQ\">Genesis 2:5</a> - <a href=\"https://shebanq.ancient-data.org/hebrew/text?book=Chronica_II&chapter=36&verse=16&version=c&mr=m&qw=q&tp=txt_p&tr=hb&wget=v&qget=v&nget=vt\" title=\"show this passage in SHEBANQ\">2_Chronicles 36:16</a></div>\n",
       "\n",
       "</div>\n",
       "\n",
       "</div>"
      ],
      "text/plain": [
       "<IPython.core.display.HTML object>"
      ]
     },
     "metadata": {},
     "output_type": "display_data"
    },
    {
     "data": {
      "text/markdown": [
       "\n",
       "\n",
       "**Result** *20*\n",
       "\n"
      ],
      "text/plain": [
       "<IPython.core.display.Markdown object>"
      ]
     },
     "metadata": {},
     "output_type": "display_data"
    },
    {
     "data": {
      "text/html": [
       "<div class=\"outeritem\">\n",
       "<div class=\"lextp \" style=\"background-color: None;\">\n",
       "<div class=\"h\">אִשָּׁה</div>\n",
       "<div class=\"features\"> <span class=\"voc_lex\"><a target=\"_blank\" href=\"https://shebanq.ancient-data.org/hebrew/word?version=c&id=1ACHn\" title=\"show this lexeme in SHEBANQ\">>IC.@H</a></span> <span class=\"gloss\">woman</span> <span class=\"ls\"><span class=\"f\">ls=</span>nmdi</span> <span class=\"freq_lex\"><span class=\"f\">freq_lex=</span>781</span></div>\n",
       "<div class=\"occs\"><a href=\"https://shebanq.ancient-data.org/hebrew/text?book=Genesis&chapter=2&verse=22&version=c&mr=m&qw=q&tp=txt_p&tr=hb&wget=v&qget=v&nget=vt\" title=\"show this passage in SHEBANQ\">Genesis 2:22</a> - <a href=\"https://shebanq.ancient-data.org/hebrew/text?book=Chronica_II&chapter=34&verse=22&version=c&mr=m&qw=q&tp=txt_p&tr=hb&wget=v&qget=v&nget=vt\" title=\"show this passage in SHEBANQ\">2_Chronicles 34:22</a></div>\n",
       "\n",
       "</div>\n",
       "\n",
       "</div>"
      ],
      "text/plain": [
       "<IPython.core.display.HTML object>"
      ]
     },
     "metadata": {},
     "output_type": "display_data"
    },
    {
     "data": {
      "text/markdown": [
       "\n",
       "\n",
       "**Result** *21*\n",
       "\n"
      ],
      "text/plain": [
       "<IPython.core.display.Markdown object>"
      ]
     },
     "metadata": {},
     "output_type": "display_data"
    },
    {
     "data": {
      "text/html": [
       "<div class=\"outeritem\">\n",
       "<div class=\"lextp \" style=\"background-color: None;\">\n",
       "<div class=\"h\">שְׁנַיִם</div>\n",
       "<div class=\"features\"> <span class=\"voc_lex\"><a target=\"_blank\" href=\"https://shebanq.ancient-data.org/hebrew/word?version=c&id=1CNJMn\" title=\"show this lexeme in SHEBANQ\">C:NAJIM</a></span> <span class=\"gloss\">two</span> <span class=\"ls\"><span class=\"f\">ls=</span>card</span> <span class=\"freq_lex\"><span class=\"f\">freq_lex=</span>768</span></div>\n",
       "<div class=\"occs\"><a href=\"https://shebanq.ancient-data.org/hebrew/text?book=Genesis&chapter=1&verse=16&version=c&mr=m&qw=q&tp=txt_p&tr=hb&wget=v&qget=v&nget=vt\" title=\"show this passage in SHEBANQ\">Genesis 1:16</a> - <a href=\"https://shebanq.ancient-data.org/hebrew/text?book=Chronica_II&chapter=34&verse=3&version=c&mr=m&qw=q&tp=txt_p&tr=hb&wget=v&qget=v&nget=vt\" title=\"show this passage in SHEBANQ\">2_Chronicles 34:3</a></div>\n",
       "\n",
       "</div>\n",
       "\n",
       "</div>"
      ],
      "text/plain": [
       "<IPython.core.display.HTML object>"
      ]
     },
     "metadata": {},
     "output_type": "display_data"
    },
    {
     "data": {
      "text/markdown": [
       "\n",
       "\n",
       "**Result** *22*\n",
       "\n"
      ],
      "text/plain": [
       "<IPython.core.display.Markdown object>"
      ]
     },
     "metadata": {},
     "output_type": "display_data"
    },
    {
     "data": {
      "text/html": [
       "<div class=\"outeritem\">\n",
       "<div class=\"lextp \" style=\"background-color: None;\">\n",
       "<div class=\"h\">נֶפֶשׁ</div>\n",
       "<div class=\"features\"> <span class=\"voc_lex\"><a target=\"_blank\" href=\"https://shebanq.ancient-data.org/hebrew/word?version=c&id=1NPCn\" title=\"show this lexeme in SHEBANQ\">NEPEC</a></span> <span class=\"gloss\">soul</span> <span class=\"freq_lex\"><span class=\"f\">freq_lex=</span>754</span></div>\n",
       "<div class=\"occs\"><a href=\"https://shebanq.ancient-data.org/hebrew/text?book=Genesis&chapter=1&verse=20&version=c&mr=m&qw=q&tp=txt_p&tr=hb&wget=v&qget=v&nget=vt\" title=\"show this passage in SHEBANQ\">Genesis 1:20</a> - <a href=\"https://shebanq.ancient-data.org/hebrew/text?book=Chronica_II&chapter=34&verse=31&version=c&mr=m&qw=q&tp=txt_p&tr=hb&wget=v&qget=v&nget=vt\" title=\"show this passage in SHEBANQ\">2_Chronicles 34:31</a></div>\n",
       "\n",
       "</div>\n",
       "\n",
       "</div>"
      ],
      "text/plain": [
       "<IPython.core.display.HTML object>"
      ]
     },
     "metadata": {},
     "output_type": "display_data"
    },
    {
     "data": {
      "text/markdown": [
       "\n",
       "\n",
       "**Result** *23*\n",
       "\n"
      ],
      "text/plain": [
       "<IPython.core.display.Markdown object>"
      ]
     },
     "metadata": {},
     "output_type": "display_data"
    },
    {
     "data": {
      "text/html": [
       "<div class=\"outeritem\">\n",
       "<div class=\"lextp \" style=\"background-color: None;\">\n",
       "<div class=\"h\">כֹּהֵן</div>\n",
       "<div class=\"features\"> <span class=\"voc_lex\"><a target=\"_blank\" href=\"https://shebanq.ancient-data.org/hebrew/word?version=c&id=1KHNn\" title=\"show this lexeme in SHEBANQ\">K.OH;N</a></span> <span class=\"gloss\">priest</span> <span class=\"freq_lex\"><span class=\"f\">freq_lex=</span>750</span></div>\n",
       "<div class=\"occs\"><a href=\"https://shebanq.ancient-data.org/hebrew/text?book=Genesis&chapter=14&verse=18&version=c&mr=m&qw=q&tp=txt_p&tr=hb&wget=v&qget=v&nget=vt\" title=\"show this passage in SHEBANQ\">Genesis 14:18</a> - <a href=\"https://shebanq.ancient-data.org/hebrew/text?book=Chronica_II&chapter=36&verse=14&version=c&mr=m&qw=q&tp=txt_p&tr=hb&wget=v&qget=v&nget=vt\" title=\"show this passage in SHEBANQ\">2_Chronicles 36:14</a></div>\n",
       "\n",
       "</div>\n",
       "\n",
       "</div>"
      ],
      "text/plain": [
       "<IPython.core.display.HTML object>"
      ]
     },
     "metadata": {},
     "output_type": "display_data"
    },
    {
     "data": {
      "text/markdown": [
       "\n",
       "\n",
       "**Result** *24*\n",
       "\n"
      ],
      "text/plain": [
       "<IPython.core.display.Markdown object>"
      ]
     },
     "metadata": {},
     "output_type": "display_data"
    },
    {
     "data": {
      "text/html": [
       "<div class=\"outeritem\">\n",
       "<div class=\"lextp \" style=\"background-color: None;\">\n",
       "<div class=\"h\">אַחַר</div>\n",
       "<div class=\"features\"> <span class=\"voc_lex\"><a target=\"_blank\" href=\"https://shebanq.ancient-data.org/hebrew/word?version=c&id=1AXRn\" title=\"show this lexeme in SHEBANQ\">>AXAR</a></span> <span class=\"gloss\">after</span> <span class=\"ls\"><span class=\"f\">ls=</span>ppre</span> <span class=\"freq_lex\"><span class=\"f\">freq_lex=</span>715</span></div>\n",
       "<div class=\"occs\"><a href=\"https://shebanq.ancient-data.org/hebrew/text?book=Genesis&chapter=5&verse=4&version=c&mr=m&qw=q&tp=txt_p&tr=hb&wget=v&qget=v&nget=vt\" title=\"show this passage in SHEBANQ\">Genesis 5:4</a> - <a href=\"https://shebanq.ancient-data.org/hebrew/text?book=Chronica_II&chapter=35&verse=20&version=c&mr=m&qw=q&tp=txt_p&tr=hb&wget=v&qget=v&nget=vt\" title=\"show this passage in SHEBANQ\">2_Chronicles 35:20</a></div>\n",
       "\n",
       "</div>\n",
       "\n",
       "</div>"
      ],
      "text/plain": [
       "<IPython.core.display.HTML object>"
      ]
     },
     "metadata": {},
     "output_type": "display_data"
    },
    {
     "data": {
      "text/markdown": [
       "\n",
       "\n",
       "**Result** *25*\n",
       "\n"
      ],
      "text/plain": [
       "<IPython.core.display.Markdown object>"
      ]
     },
     "metadata": {},
     "output_type": "display_data"
    },
    {
     "data": {
      "text/html": [
       "<div class=\"outeritem\">\n",
       "<div class=\"lextp \" style=\"background-color: None;\">\n",
       "<div class=\"h\">דֶּרֶךְ</div>\n",
       "<div class=\"features\"> <span class=\"voc_lex\"><a target=\"_blank\" href=\"https://shebanq.ancient-data.org/hebrew/word?version=c&id=1DRKn\" title=\"show this lexeme in SHEBANQ\">D.EREK:</a></span> <span class=\"gloss\">way</span> <span class=\"ls\"><span class=\"f\">ls=</span>ppre</span> <span class=\"freq_lex\"><span class=\"f\">freq_lex=</span>706</span></div>\n",
       "<div class=\"occs\"><a href=\"https://shebanq.ancient-data.org/hebrew/text?book=Genesis&chapter=3&verse=24&version=c&mr=m&qw=q&tp=txt_p&tr=hb&wget=v&qget=v&nget=vt\" title=\"show this passage in SHEBANQ\">Genesis 3:24</a> - <a href=\"https://shebanq.ancient-data.org/hebrew/text?book=Chronica_II&chapter=34&verse=2&version=c&mr=m&qw=q&tp=txt_p&tr=hb&wget=v&qget=v&nget=vt\" title=\"show this passage in SHEBANQ\">2_Chronicles 34:2</a></div>\n",
       "\n",
       "</div>\n",
       "\n",
       "</div>"
      ],
      "text/plain": [
       "<IPython.core.display.HTML object>"
      ]
     },
     "metadata": {},
     "output_type": "display_data"
    },
    {
     "data": {
      "text/markdown": [
       "\n",
       "\n",
       "**Result** *26*\n",
       "\n"
      ],
      "text/plain": [
       "<IPython.core.display.Markdown object>"
      ]
     },
     "metadata": {},
     "output_type": "display_data"
    },
    {
     "data": {
      "text/html": [
       "<div class=\"outeritem\">\n",
       "<div class=\"lextp \" style=\"background-color: None;\">\n",
       "<div class=\"h\">אָח</div>\n",
       "<div class=\"features\"> <span class=\"voc_lex\"><a target=\"_blank\" href=\"https://shebanq.ancient-data.org/hebrew/word?version=c&id=1AXn\" title=\"show this lexeme in SHEBANQ\">>@X</a></span> <span class=\"gloss\">brother</span> <span class=\"ls\"><span class=\"f\">ls=</span>nmdi</span> <span class=\"freq_lex\"><span class=\"f\">freq_lex=</span>629</span></div>\n",
       "<div class=\"occs\"><a href=\"https://shebanq.ancient-data.org/hebrew/text?book=Genesis&chapter=4&verse=2&version=c&mr=m&qw=q&tp=txt_p&tr=hb&wget=v&qget=v&nget=vt\" title=\"show this passage in SHEBANQ\">Genesis 4:2</a> - <a href=\"https://shebanq.ancient-data.org/hebrew/text?book=Chronica_II&chapter=36&verse=10&version=c&mr=m&qw=q&tp=txt_p&tr=hb&wget=v&qget=v&nget=vt\" title=\"show this passage in SHEBANQ\">2_Chronicles 36:10</a></div>\n",
       "\n",
       "</div>\n",
       "\n",
       "</div>"
      ],
      "text/plain": [
       "<IPython.core.display.HTML object>"
      ]
     },
     "metadata": {},
     "output_type": "display_data"
    },
    {
     "data": {
      "text/markdown": [
       "\n",
       "\n",
       "**Result** *27*\n",
       "\n"
      ],
      "text/plain": [
       "<IPython.core.display.Markdown object>"
      ]
     },
     "metadata": {},
     "output_type": "display_data"
    },
    {
     "data": {
      "text/html": [
       "<div class=\"outeritem\">\n",
       "<div class=\"lextp \" style=\"background-color: None;\">\n",
       "<div class=\"h\">שָׁלֹשׁ</div>\n",
       "<div class=\"features\"> <span class=\"voc_lex\"><a target=\"_blank\" href=\"https://shebanq.ancient-data.org/hebrew/word?version=c&id=1CLCn\" title=\"show this lexeme in SHEBANQ\">C@LOC</a></span> <span class=\"gloss\">three</span> <span class=\"ls\"><span class=\"f\">ls=</span>card</span> <span class=\"freq_lex\"><span class=\"f\">freq_lex=</span>602</span></div>\n",
       "<div class=\"occs\"><a href=\"https://shebanq.ancient-data.org/hebrew/text?book=Genesis&chapter=5&verse=3&version=c&mr=m&qw=q&tp=txt_p&tr=hb&wget=v&qget=v&nget=vt\" title=\"show this passage in SHEBANQ\">Genesis 5:3</a> - <a href=\"https://shebanq.ancient-data.org/hebrew/text?book=Chronica_II&chapter=36&verse=9&version=c&mr=m&qw=q&tp=txt_p&tr=hb&wget=v&qget=v&nget=vt\" title=\"show this passage in SHEBANQ\">2_Chronicles 36:9</a></div>\n",
       "\n",
       "</div>\n",
       "\n",
       "</div>"
      ],
      "text/plain": [
       "<IPython.core.display.HTML object>"
      ]
     },
     "metadata": {},
     "output_type": "display_data"
    },
    {
     "data": {
      "text/markdown": [
       "\n",
       "\n",
       "**Result** *28*\n",
       "\n"
      ],
      "text/plain": [
       "<IPython.core.display.Markdown object>"
      ]
     },
     "metadata": {},
     "output_type": "display_data"
    },
    {
     "data": {
      "text/html": [
       "<div class=\"outeritem\">\n",
       "<div class=\"lextp \" style=\"background-color: None;\">\n",
       "<div class=\"h\">לֵב</div>\n",
       "<div class=\"features\"> <span class=\"voc_lex\"><a target=\"_blank\" href=\"https://shebanq.ancient-data.org/hebrew/word?version=c&id=1LBn\" title=\"show this lexeme in SHEBANQ\">L;B</a></span> <span class=\"gloss\">heart</span> <span class=\"freq_lex\"><span class=\"f\">freq_lex=</span>601</span></div>\n",
       "<div class=\"occs\"><a href=\"https://shebanq.ancient-data.org/hebrew/text?book=Genesis&chapter=6&verse=5&version=c&mr=m&qw=q&tp=txt_p&tr=hb&wget=v&qget=v&nget=vt\" title=\"show this passage in SHEBANQ\">Genesis 6:5</a> - <a href=\"https://shebanq.ancient-data.org/hebrew/text?book=Chronica_II&chapter=32&verse=26&version=c&mr=m&qw=q&tp=txt_p&tr=hb&wget=v&qget=v&nget=vt\" title=\"show this passage in SHEBANQ\">2_Chronicles 32:26</a></div>\n",
       "\n",
       "</div>\n",
       "\n",
       "</div>"
      ],
      "text/plain": [
       "<IPython.core.display.HTML object>"
      ]
     },
     "metadata": {},
     "output_type": "display_data"
    },
    {
     "data": {
      "text/markdown": [
       "\n",
       "\n",
       "**Result** *29*\n",
       "\n"
      ],
      "text/plain": [
       "<IPython.core.display.Markdown object>"
      ]
     },
     "metadata": {},
     "output_type": "display_data"
    },
    {
     "data": {
      "text/html": [
       "<div class=\"outeritem\">\n",
       "<div class=\"lextp \" style=\"background-color: None;\">\n",
       "<div class=\"h\">רֹאשׁ</div>\n",
       "<div class=\"features\"> <span class=\"voc_lex\"><a target=\"_blank\" href=\"https://shebanq.ancient-data.org/hebrew/word?version=c&id=1RACn\" title=\"show this lexeme in SHEBANQ\">RO>C</a></span> <span class=\"gloss\">head</span> <span class=\"freq_lex\"><span class=\"f\">freq_lex=</span>599</span></div>\n",
       "<div class=\"occs\"><a href=\"https://shebanq.ancient-data.org/hebrew/text?book=Genesis&chapter=2&verse=10&version=c&mr=m&qw=q&tp=txt_p&tr=hb&wget=v&qget=v&nget=vt\" title=\"show this passage in SHEBANQ\">Genesis 2:10</a> - <a href=\"https://shebanq.ancient-data.org/hebrew/text?book=Chronica_II&chapter=31&verse=10&version=c&mr=m&qw=q&tp=txt_p&tr=hb&wget=v&qget=v&nget=vt\" title=\"show this passage in SHEBANQ\">2_Chronicles 31:10</a></div>\n",
       "\n",
       "</div>\n",
       "\n",
       "</div>"
      ],
      "text/plain": [
       "<IPython.core.display.HTML object>"
      ]
     },
     "metadata": {},
     "output_type": "display_data"
    },
    {
     "data": {
      "text/markdown": [
       "\n",
       "\n",
       "**Result** *30*\n",
       "\n"
      ],
      "text/plain": [
       "<IPython.core.display.Markdown object>"
      ]
     },
     "metadata": {},
     "output_type": "display_data"
    },
    {
     "data": {
      "text/html": [
       "<div class=\"outeritem\">\n",
       "<div class=\"lextp \" style=\"background-color: None;\">\n",
       "<div class=\"h\">בַּת</div>\n",
       "<div class=\"features\"> <span class=\"voc_lex\"><a target=\"_blank\" href=\"https://shebanq.ancient-data.org/hebrew/word?version=c&id=1BTn\" title=\"show this lexeme in SHEBANQ\">B.AT</a></span> <span class=\"gloss\">daughter</span> <span class=\"freq_lex\"><span class=\"f\">freq_lex=</span>588</span></div>\n",
       "<div class=\"occs\"><a href=\"https://shebanq.ancient-data.org/hebrew/text?book=Genesis&chapter=5&verse=4&version=c&mr=m&qw=q&tp=txt_p&tr=hb&wget=v&qget=v&nget=vt\" title=\"show this passage in SHEBANQ\">Genesis 5:4</a> - <a href=\"https://shebanq.ancient-data.org/hebrew/text?book=Chronica_II&chapter=31&verse=18&version=c&mr=m&qw=q&tp=txt_p&tr=hb&wget=v&qget=v&nget=vt\" title=\"show this passage in SHEBANQ\">2_Chronicles 31:18</a></div>\n",
       "\n",
       "</div>\n",
       "\n",
       "</div>"
      ],
      "text/plain": [
       "<IPython.core.display.HTML object>"
      ]
     },
     "metadata": {},
     "output_type": "display_data"
    },
    {
     "data": {
      "text/markdown": [
       "\n",
       "\n",
       "**Result** *31*\n",
       "\n"
      ],
      "text/plain": [
       "<IPython.core.display.Markdown object>"
      ]
     },
     "metadata": {},
     "output_type": "display_data"
    },
    {
     "data": {
      "text/html": [
       "<div class=\"outeritem\">\n",
       "<div class=\"lextp \" style=\"background-color: None;\">\n",
       "<div class=\"h\">מַיִם</div>\n",
       "<div class=\"features\"> <span class=\"voc_lex\"><a target=\"_blank\" href=\"https://shebanq.ancient-data.org/hebrew/word?version=c&id=1MJMn\" title=\"show this lexeme in SHEBANQ\">MAJIM</a></span> <span class=\"gloss\">water</span> <span class=\"freq_lex\"><span class=\"f\">freq_lex=</span>582</span></div>\n",
       "<div class=\"occs\"><a href=\"https://shebanq.ancient-data.org/hebrew/text?book=Genesis&chapter=1&verse=2&version=c&mr=m&qw=q&tp=txt_p&tr=hb&wget=v&qget=v&nget=vt\" title=\"show this passage in SHEBANQ\">Genesis 1:2</a> - <a href=\"https://shebanq.ancient-data.org/hebrew/text?book=Chronica_II&chapter=32&verse=30&version=c&mr=m&qw=q&tp=txt_p&tr=hb&wget=v&qget=v&nget=vt\" title=\"show this passage in SHEBANQ\">2_Chronicles 32:30</a></div>\n",
       "\n",
       "</div>\n",
       "\n",
       "</div>"
      ],
      "text/plain": [
       "<IPython.core.display.HTML object>"
      ]
     },
     "metadata": {},
     "output_type": "display_data"
    },
    {
     "data": {
      "text/markdown": [
       "\n",
       "\n",
       "**Result** *32*\n",
       "\n"
      ],
      "text/plain": [
       "<IPython.core.display.Markdown object>"
      ]
     },
     "metadata": {},
     "output_type": "display_data"
    },
    {
     "data": {
      "text/html": [
       "<div class=\"outeritem\">\n",
       "<div class=\"lextp \" style=\"background-color: None;\">\n",
       "<div class=\"h\">מֵאָה</div>\n",
       "<div class=\"features\"> <span class=\"voc_lex\"><a target=\"_blank\" href=\"https://shebanq.ancient-data.org/hebrew/word?version=c&id=1MAHn\" title=\"show this lexeme in SHEBANQ\">M;>@H</a></span> <span class=\"gloss\">hundred</span> <span class=\"ls\"><span class=\"f\">ls=</span>card</span> <span class=\"freq_lex\"><span class=\"f\">freq_lex=</span>579</span></div>\n",
       "<div class=\"occs\"><a href=\"https://shebanq.ancient-data.org/hebrew/text?book=Genesis&chapter=5&verse=3&version=c&mr=m&qw=q&tp=txt_p&tr=hb&wget=v&qget=v&nget=vt\" title=\"show this passage in SHEBANQ\">Genesis 5:3</a> - <a href=\"https://shebanq.ancient-data.org/hebrew/text?book=Chronica_II&chapter=36&verse=3&version=c&mr=m&qw=q&tp=txt_p&tr=hb&wget=v&qget=v&nget=vt\" title=\"show this passage in SHEBANQ\">2_Chronicles 36:3</a></div>\n",
       "\n",
       "</div>\n",
       "\n",
       "</div>"
      ],
      "text/plain": [
       "<IPython.core.display.HTML object>"
      ]
     },
     "metadata": {},
     "output_type": "display_data"
    },
    {
     "data": {
      "text/markdown": [
       "\n",
       "\n",
       "**Result** *33*\n",
       "\n"
      ],
      "text/plain": [
       "<IPython.core.display.Markdown object>"
      ]
     },
     "metadata": {},
     "output_type": "display_data"
    },
    {
     "data": {
      "text/html": [
       "<div class=\"outeritem\">\n",
       "<div class=\"lextp \" style=\"background-color: None;\">\n",
       "<div class=\"h\">הַר</div>\n",
       "<div class=\"features\"> <span class=\"voc_lex\"><a target=\"_blank\" href=\"https://shebanq.ancient-data.org/hebrew/word?version=c&id=1HRn\" title=\"show this lexeme in SHEBANQ\">HAR</a></span> <span class=\"gloss\">mountain</span> <span class=\"freq_lex\"><span class=\"f\">freq_lex=</span>558</span></div>\n",
       "<div class=\"occs\"><a href=\"https://shebanq.ancient-data.org/hebrew/text?book=Genesis&chapter=7&verse=19&version=c&mr=m&qw=q&tp=txt_p&tr=hb&wget=v&qget=v&nget=vt\" title=\"show this passage in SHEBANQ\">Genesis 7:19</a> - <a href=\"https://shebanq.ancient-data.org/hebrew/text?book=Chronica_II&chapter=33&verse=15&version=c&mr=m&qw=q&tp=txt_p&tr=hb&wget=v&qget=v&nget=vt\" title=\"show this passage in SHEBANQ\">2_Chronicles 33:15</a></div>\n",
       "\n",
       "</div>\n",
       "\n",
       "</div>"
      ],
      "text/plain": [
       "<IPython.core.display.HTML object>"
      ]
     },
     "metadata": {},
     "output_type": "display_data"
    },
    {
     "data": {
      "text/markdown": [
       "\n",
       "\n",
       "**Result** *34*\n",
       "\n"
      ],
      "text/plain": [
       "<IPython.core.display.Markdown object>"
      ]
     },
     "metadata": {},
     "output_type": "display_data"
    },
    {
     "data": {
      "text/html": [
       "<div class=\"outeritem\">\n",
       "<div class=\"lextp \" style=\"background-color: None;\">\n",
       "<div class=\"h\">גֹּוי</div>\n",
       "<div class=\"features\"> <span class=\"voc_lex\"><a target=\"_blank\" href=\"https://shebanq.ancient-data.org/hebrew/word?version=c&id=1GWJn\" title=\"show this lexeme in SHEBANQ\">G.OWJ</a></span> <span class=\"gloss\">people</span> <span class=\"freq_lex\"><span class=\"f\">freq_lex=</span>555</span></div>\n",
       "<div class=\"occs\"><a href=\"https://shebanq.ancient-data.org/hebrew/text?book=Genesis&chapter=10&verse=5&version=c&mr=m&qw=q&tp=txt_p&tr=hb&wget=v&qget=v&nget=vt\" title=\"show this passage in SHEBANQ\">Genesis 10:5</a> - <a href=\"https://shebanq.ancient-data.org/hebrew/text?book=Chronica_II&chapter=36&verse=14&version=c&mr=m&qw=q&tp=txt_p&tr=hb&wget=v&qget=v&nget=vt\" title=\"show this passage in SHEBANQ\">2_Chronicles 36:14</a></div>\n",
       "\n",
       "</div>\n",
       "\n",
       "</div>"
      ],
      "text/plain": [
       "<IPython.core.display.HTML object>"
      ]
     },
     "metadata": {},
     "output_type": "display_data"
    },
    {
     "data": {
      "text/markdown": [
       "\n",
       "\n",
       "**Result** *35*\n",
       "\n"
      ],
      "text/plain": [
       "<IPython.core.display.Markdown object>"
      ]
     },
     "metadata": {},
     "output_type": "display_data"
    },
    {
     "data": {
      "text/html": [
       "<div class=\"outeritem\">\n",
       "<div class=\"lextp \" style=\"background-color: None;\">\n",
       "<div class=\"h\">אָדָם</div>\n",
       "<div class=\"features\"> <span class=\"voc_lex\"><a target=\"_blank\" href=\"https://shebanq.ancient-data.org/hebrew/word?version=c&id=1ADMn\" title=\"show this lexeme in SHEBANQ\">>@D@M</a></span> <span class=\"gloss\">human, mankind</span> <span class=\"freq_lex\"><span class=\"f\">freq_lex=</span>553</span></div>\n",
       "<div class=\"occs\"><a href=\"https://shebanq.ancient-data.org/hebrew/text?book=Genesis&chapter=1&verse=26&version=c&mr=m&qw=q&tp=txt_p&tr=hb&wget=v&qget=v&nget=vt\" title=\"show this passage in SHEBANQ\">Genesis 1:26</a> - <a href=\"https://shebanq.ancient-data.org/hebrew/text?book=Chronica_II&chapter=32&verse=19&version=c&mr=m&qw=q&tp=txt_p&tr=hb&wget=v&qget=v&nget=vt\" title=\"show this passage in SHEBANQ\">2_Chronicles 32:19</a></div>\n",
       "\n",
       "</div>\n",
       "\n",
       "</div>"
      ],
      "text/plain": [
       "<IPython.core.display.HTML object>"
      ]
     },
     "metadata": {},
     "output_type": "display_data"
    },
    {
     "data": {
      "text/markdown": [
       "\n",
       "\n",
       "**Result** *36*\n",
       "\n"
      ],
      "text/plain": [
       "<IPython.core.display.Markdown object>"
      ]
     },
     "metadata": {},
     "output_type": "display_data"
    },
    {
     "data": {
      "text/html": [
       "<div class=\"outeritem\">\n",
       "<div class=\"lextp \" style=\"background-color: None;\">\n",
       "<div class=\"h\">חָמֵשׁ</div>\n",
       "<div class=\"features\"> <span class=\"voc_lex\"><a target=\"_blank\" href=\"https://shebanq.ancient-data.org/hebrew/word?version=c&id=1XMCn\" title=\"show this lexeme in SHEBANQ\">X@M;C</a></span> <span class=\"gloss\">five</span> <span class=\"ls\"><span class=\"f\">ls=</span>card</span> <span class=\"freq_lex\"><span class=\"f\">freq_lex=</span>506</span></div>\n",
       "<div class=\"occs\"><a href=\"https://shebanq.ancient-data.org/hebrew/text?book=Genesis&chapter=5&verse=6&version=c&mr=m&qw=q&tp=txt_p&tr=hb&wget=v&qget=v&nget=vt\" title=\"show this passage in SHEBANQ\">Genesis 5:6</a> - <a href=\"https://shebanq.ancient-data.org/hebrew/text?book=Chronica_II&chapter=36&verse=5&version=c&mr=m&qw=q&tp=txt_p&tr=hb&wget=v&qget=v&nget=vt\" title=\"show this passage in SHEBANQ\">2_Chronicles 36:5</a></div>\n",
       "\n",
       "</div>\n",
       "\n",
       "</div>"
      ],
      "text/plain": [
       "<IPython.core.display.HTML object>"
      ]
     },
     "metadata": {},
     "output_type": "display_data"
    },
    {
     "data": {
      "text/markdown": [
       "\n",
       "\n",
       "**Result** *37*\n",
       "\n"
      ],
      "text/plain": [
       "<IPython.core.display.Markdown object>"
      ]
     },
     "metadata": {},
     "output_type": "display_data"
    },
    {
     "data": {
      "text/html": [
       "<div class=\"outeritem\">\n",
       "<div class=\"lextp \" style=\"background-color: None;\">\n",
       "<div class=\"h\">קֹול</div>\n",
       "<div class=\"features\"> <span class=\"voc_lex\"><a target=\"_blank\" href=\"https://shebanq.ancient-data.org/hebrew/word?version=c&id=1QWLn\" title=\"show this lexeme in SHEBANQ\">QOWL</a></span> <span class=\"gloss\">sound</span> <span class=\"freq_lex\"><span class=\"f\">freq_lex=</span>505</span></div>\n",
       "<div class=\"occs\"><a href=\"https://shebanq.ancient-data.org/hebrew/text?book=Genesis&chapter=3&verse=8&version=c&mr=m&qw=q&tp=txt_p&tr=hb&wget=v&qget=v&nget=vt\" title=\"show this passage in SHEBANQ\">Genesis 3:8</a> - <a href=\"https://shebanq.ancient-data.org/hebrew/text?book=Chronica_II&chapter=36&verse=22&version=c&mr=m&qw=q&tp=txt_p&tr=hb&wget=v&qget=v&nget=vt\" title=\"show this passage in SHEBANQ\">2_Chronicles 36:22</a></div>\n",
       "\n",
       "</div>\n",
       "\n",
       "</div>"
      ],
      "text/plain": [
       "<IPython.core.display.HTML object>"
      ]
     },
     "metadata": {},
     "output_type": "display_data"
    },
    {
     "data": {
      "text/markdown": [
       "\n",
       "\n",
       "**Result** *38*\n",
       "\n"
      ],
      "text/plain": [
       "<IPython.core.display.Markdown object>"
      ]
     },
     "metadata": {},
     "output_type": "display_data"
    },
    {
     "data": {
      "text/html": [
       "<div class=\"outeritem\">\n",
       "<div class=\"lextp \" style=\"background-color: None;\">\n",
       "<div class=\"h\">תַּחַת</div>\n",
       "<div class=\"features\"> <span class=\"voc_lex\"><a target=\"_blank\" href=\"https://shebanq.ancient-data.org/hebrew/word?version=c&id=1TXTn\" title=\"show this lexeme in SHEBANQ\">T.AXAT</a></span> <span class=\"gloss\">under part</span> <span class=\"ls\"><span class=\"f\">ls=</span>ppre</span> <span class=\"freq_lex\"><span class=\"f\">freq_lex=</span>505</span></div>\n",
       "<div class=\"occs\"><a href=\"https://shebanq.ancient-data.org/hebrew/text?book=Genesis&chapter=1&verse=7&version=c&mr=m&qw=q&tp=txt_p&tr=hb&wget=v&qget=v&nget=vt\" title=\"show this passage in SHEBANQ\">Genesis 1:7</a> - <a href=\"https://shebanq.ancient-data.org/hebrew/text?book=Chronica_II&chapter=36&verse=8&version=c&mr=m&qw=q&tp=txt_p&tr=hb&wget=v&qget=v&nget=vt\" title=\"show this passage in SHEBANQ\">2_Chronicles 36:8</a></div>\n",
       "\n",
       "</div>\n",
       "\n",
       "</div>"
      ],
      "text/plain": [
       "<IPython.core.display.HTML object>"
      ]
     },
     "metadata": {},
     "output_type": "display_data"
    },
    {
     "data": {
      "text/markdown": [
       "\n",
       "\n",
       "**Result** *39*\n",
       "\n"
      ],
      "text/plain": [
       "<IPython.core.display.Markdown object>"
      ]
     },
     "metadata": {},
     "output_type": "display_data"
    },
    {
     "data": {
      "text/html": [
       "<div class=\"outeritem\">\n",
       "<div class=\"lextp \" style=\"background-color: None;\">\n",
       "<div class=\"h\">פֶּה</div>\n",
       "<div class=\"features\"> <span class=\"voc_lex\"><a target=\"_blank\" href=\"https://shebanq.ancient-data.org/hebrew/word?version=c&id=1PHn\" title=\"show this lexeme in SHEBANQ\">P.EH</a></span> <span class=\"gloss\">mouth</span> <span class=\"freq_lex\"><span class=\"f\">freq_lex=</span>498</span></div>\n",
       "<div class=\"occs\"><a href=\"https://shebanq.ancient-data.org/hebrew/text?book=Genesis&chapter=4&verse=11&version=c&mr=m&qw=q&tp=txt_p&tr=hb&wget=v&qget=v&nget=vt\" title=\"show this passage in SHEBANQ\">Genesis 4:11</a> - <a href=\"https://shebanq.ancient-data.org/hebrew/text?book=Chronica_II&chapter=36&verse=22&version=c&mr=m&qw=q&tp=txt_p&tr=hb&wget=v&qget=v&nget=vt\" title=\"show this passage in SHEBANQ\">2_Chronicles 36:22</a></div>\n",
       "\n",
       "</div>\n",
       "\n",
       "</div>"
      ],
      "text/plain": [
       "<IPython.core.display.HTML object>"
      ]
     },
     "metadata": {},
     "output_type": "display_data"
    },
    {
     "data": {
      "text/markdown": [
       "\n",
       "\n",
       "**Result** *40*\n",
       "\n"
      ],
      "text/plain": [
       "<IPython.core.display.Markdown object>"
      ]
     },
     "metadata": {},
     "output_type": "display_data"
    },
    {
     "data": {
      "text/html": [
       "<div class=\"outeritem\">\n",
       "<div class=\"lextp \" style=\"background-color: None;\">\n",
       "<div class=\"h\">אֶלֶף</div>\n",
       "<div class=\"features\"> <span class=\"voc_lex\"><a target=\"_blank\" href=\"https://shebanq.ancient-data.org/hebrew/word?version=c&id=1ALPin\" title=\"show this lexeme in SHEBANQ\">>ELEP</a></span> <span class=\"gloss\">thousand</span> <span class=\"ls\"><span class=\"f\">ls=</span>card</span> <span class=\"freq_lex\"><span class=\"f\">freq_lex=</span>492</span></div>\n",
       "<div class=\"occs\"><a href=\"https://shebanq.ancient-data.org/hebrew/text?book=Genesis&chapter=20&verse=16&version=c&mr=m&qw=q&tp=txt_p&tr=hb&wget=v&qget=v&nget=vt\" title=\"show this passage in SHEBANQ\">Genesis 20:16</a> - <a href=\"https://shebanq.ancient-data.org/hebrew/text?book=Chronica_II&chapter=35&verse=9&version=c&mr=m&qw=q&tp=txt_p&tr=hb&wget=v&qget=v&nget=vt\" title=\"show this passage in SHEBANQ\">2_Chronicles 35:9</a></div>\n",
       "\n",
       "</div>\n",
       "\n",
       "</div>"
      ],
      "text/plain": [
       "<IPython.core.display.HTML object>"
      ]
     },
     "metadata": {},
     "output_type": "display_data"
    },
    {
     "data": {
      "text/markdown": [
       "\n",
       "\n",
       "**Result** *41*\n",
       "\n"
      ],
      "text/plain": [
       "<IPython.core.display.Markdown object>"
      ]
     },
     "metadata": {},
     "output_type": "display_data"
    },
    {
     "data": {
      "text/html": [
       "<div class=\"outeritem\">\n",
       "<div class=\"lextp \" style=\"background-color: None;\">\n",
       "<div class=\"h\">עֹוד</div>\n",
       "<div class=\"features\"> <span class=\"voc_lex\"><a target=\"_blank\" href=\"https://shebanq.ancient-data.org/hebrew/word?version=c&id=1OWDn\" title=\"show this lexeme in SHEBANQ\">&lt;OWD</a></span> <span class=\"gloss\">duration</span> <span class=\"ls\"><span class=\"f\">ls=</span>padv</span> <span class=\"freq_lex\"><span class=\"f\">freq_lex=</span>490</span></div>\n",
       "<div class=\"occs\"><a href=\"https://shebanq.ancient-data.org/hebrew/text?book=Genesis&chapter=4&verse=25&version=c&mr=m&qw=q&tp=txt_p&tr=hb&wget=v&qget=v&nget=vt\" title=\"show this passage in SHEBANQ\">Genesis 4:25</a> - <a href=\"https://shebanq.ancient-data.org/hebrew/text?book=Chronica_II&chapter=34&verse=16&version=c&mr=m&qw=q&tp=txt_p&tr=hb&wget=v&qget=v&nget=vt\" title=\"show this passage in SHEBANQ\">2_Chronicles 34:16</a></div>\n",
       "\n",
       "</div>\n",
       "\n",
       "</div>"
      ],
      "text/plain": [
       "<IPython.core.display.HTML object>"
      ]
     },
     "metadata": {},
     "output_type": "display_data"
    },
    {
     "data": {
      "text/markdown": [
       "\n",
       "\n",
       "**Result** *42*\n",
       "\n"
      ],
      "text/plain": [
       "<IPython.core.display.Markdown object>"
      ]
     },
     "metadata": {},
     "output_type": "display_data"
    },
    {
     "data": {
      "text/html": [
       "<div class=\"outeritem\">\n",
       "<div class=\"lextp \" style=\"background-color: None;\">\n",
       "<div class=\"h\">שֶׁבַע</div>\n",
       "<div class=\"features\"> <span class=\"voc_lex\"><a target=\"_blank\" href=\"https://shebanq.ancient-data.org/hebrew/word?version=c&id=1CBOn\" title=\"show this lexeme in SHEBANQ\">CEBA&lt;</a></span> <span class=\"gloss\">seven</span> <span class=\"ls\"><span class=\"f\">ls=</span>card</span> <span class=\"freq_lex\"><span class=\"f\">freq_lex=</span>490</span></div>\n",
       "<div class=\"occs\"><a href=\"https://shebanq.ancient-data.org/hebrew/text?book=Genesis&chapter=4&verse=15&version=c&mr=m&qw=q&tp=txt_p&tr=hb&wget=v&qget=v&nget=vt\" title=\"show this passage in SHEBANQ\">Genesis 4:15</a> - <a href=\"https://shebanq.ancient-data.org/hebrew/text?book=Chronica_II&chapter=36&verse=21&version=c&mr=m&qw=q&tp=txt_p&tr=hb&wget=v&qget=v&nget=vt\" title=\"show this passage in SHEBANQ\">2_Chronicles 36:21</a></div>\n",
       "\n",
       "</div>\n",
       "\n",
       "</div>"
      ],
      "text/plain": [
       "<IPython.core.display.HTML object>"
      ]
     },
     "metadata": {},
     "output_type": "display_data"
    },
    {
     "data": {
      "text/markdown": [
       "\n",
       "\n",
       "**Result** *43*\n",
       "\n"
      ],
      "text/plain": [
       "<IPython.core.display.Markdown object>"
      ]
     },
     "metadata": {},
     "output_type": "display_data"
    },
    {
     "data": {
      "text/html": [
       "<div class=\"outeritem\">\n",
       "<div class=\"lextp \" style=\"background-color: None;\">\n",
       "<div class=\"h\">צָבָא</div>\n",
       "<div class=\"features\"> <span class=\"voc_lex\"><a target=\"_blank\" href=\"https://shebanq.ancient-data.org/hebrew/word?version=c&id=1YBAn\" title=\"show this lexeme in SHEBANQ\">Y@B@></a></span> <span class=\"gloss\">service</span> <span class=\"freq_lex\"><span class=\"f\">freq_lex=</span>486</span></div>\n",
       "<div class=\"occs\"><a href=\"https://shebanq.ancient-data.org/hebrew/text?book=Genesis&chapter=2&verse=1&version=c&mr=m&qw=q&tp=txt_p&tr=hb&wget=v&qget=v&nget=vt\" title=\"show this passage in SHEBANQ\">Genesis 2:1</a> - <a href=\"https://shebanq.ancient-data.org/hebrew/text?book=Chronica_II&chapter=33&verse=11&version=c&mr=m&qw=q&tp=txt_p&tr=hb&wget=v&qget=v&nget=vt\" title=\"show this passage in SHEBANQ\">2_Chronicles 33:11</a></div>\n",
       "\n",
       "</div>\n",
       "\n",
       "</div>"
      ],
      "text/plain": [
       "<IPython.core.display.HTML object>"
      ]
     },
     "metadata": {},
     "output_type": "display_data"
    },
    {
     "data": {
      "text/markdown": [
       "\n",
       "\n",
       "**Result** *44*\n",
       "\n"
      ],
      "text/plain": [
       "<IPython.core.display.Markdown object>"
      ]
     },
     "metadata": {},
     "output_type": "display_data"
    },
    {
     "data": {
      "text/html": [
       "<div class=\"outeritem\">\n",
       "<div class=\"lextp \" style=\"background-color: None;\">\n",
       "<div class=\"h\">קֹדֶשׁ</div>\n",
       "<div class=\"features\"> <span class=\"voc_lex\"><a target=\"_blank\" href=\"https://shebanq.ancient-data.org/hebrew/word?version=c&id=1QDCn\" title=\"show this lexeme in SHEBANQ\">QODEC</a></span> <span class=\"gloss\">holiness</span> <span class=\"freq_lex\"><span class=\"f\">freq_lex=</span>469</span></div>\n",
       "<div class=\"occs\"><a href=\"https://shebanq.ancient-data.org/hebrew/text?book=Exodus&chapter=3&verse=5&version=c&mr=m&qw=q&tp=txt_p&tr=hb&wget=v&qget=v&nget=vt\" title=\"show this passage in SHEBANQ\">Exodus 3:5</a> - <a href=\"https://shebanq.ancient-data.org/hebrew/text?book=Chronica_II&chapter=35&verse=13&version=c&mr=m&qw=q&tp=txt_p&tr=hb&wget=v&qget=v&nget=vt\" title=\"show this passage in SHEBANQ\">2_Chronicles 35:13</a></div>\n",
       "\n",
       "</div>\n",
       "\n",
       "</div>"
      ],
      "text/plain": [
       "<IPython.core.display.HTML object>"
      ]
     },
     "metadata": {},
     "output_type": "display_data"
    },
    {
     "data": {
      "text/markdown": [
       "\n",
       "\n",
       "**Result** *45*\n",
       "\n"
      ],
      "text/plain": [
       "<IPython.core.display.Markdown object>"
      ]
     },
     "metadata": {},
     "output_type": "display_data"
    },
    {
     "data": {
      "text/html": [
       "<div class=\"outeritem\">\n",
       "<div class=\"lextp \" style=\"background-color: None;\">\n",
       "<div class=\"h\">אַרְבַּע</div>\n",
       "<div class=\"features\"> <span class=\"voc_lex\"><a target=\"_blank\" href=\"https://shebanq.ancient-data.org/hebrew/word?version=c&id=1ARBOn\" title=\"show this lexeme in SHEBANQ\">>AR:B.A&lt;</a></span> <span class=\"gloss\">four</span> <span class=\"ls\"><span class=\"f\">ls=</span>card</span> <span class=\"freq_lex\"><span class=\"f\">freq_lex=</span>454</span></div>\n",
       "<div class=\"occs\"><a href=\"https://shebanq.ancient-data.org/hebrew/text?book=Genesis&chapter=2&verse=10&version=c&mr=m&qw=q&tp=txt_p&tr=hb&wget=v&qget=v&nget=vt\" title=\"show this passage in SHEBANQ\">Genesis 2:10</a> - <a href=\"https://shebanq.ancient-data.org/hebrew/text?book=Chronica_II&chapter=35&verse=1&version=c&mr=m&qw=q&tp=txt_p&tr=hb&wget=v&qget=v&nget=vt\" title=\"show this passage in SHEBANQ\">2_Chronicles 35:1</a></div>\n",
       "\n",
       "</div>\n",
       "\n",
       "</div>"
      ],
      "text/plain": [
       "<IPython.core.display.HTML object>"
      ]
     },
     "metadata": {},
     "output_type": "display_data"
    },
    {
     "data": {
      "text/markdown": [
       "\n",
       "\n",
       "**Result** *46*\n",
       "\n"
      ],
      "text/plain": [
       "<IPython.core.display.Markdown object>"
      ]
     },
     "metadata": {},
     "output_type": "display_data"
    },
    {
     "data": {
      "text/html": [
       "<div class=\"outeritem\">\n",
       "<div class=\"lextp \" style=\"background-color: None;\">\n",
       "<div class=\"h\">עֹולָם</div>\n",
       "<div class=\"features\"> <span class=\"voc_lex\"><a target=\"_blank\" href=\"https://shebanq.ancient-data.org/hebrew/word?version=c&id=1OWLMn\" title=\"show this lexeme in SHEBANQ\">&lt;OWL@M</a></span> <span class=\"gloss\">eternity</span> <span class=\"freq_lex\"><span class=\"f\">freq_lex=</span>438</span></div>\n",
       "<div class=\"occs\"><a href=\"https://shebanq.ancient-data.org/hebrew/text?book=Genesis&chapter=3&verse=22&version=c&mr=m&qw=q&tp=txt_p&tr=hb&wget=v&qget=v&nget=vt\" title=\"show this passage in SHEBANQ\">Genesis 3:22</a> - <a href=\"https://shebanq.ancient-data.org/hebrew/text?book=Chronica_II&chapter=33&verse=4&version=c&mr=m&qw=q&tp=txt_p&tr=hb&wget=v&qget=v&nget=vt\" title=\"show this passage in SHEBANQ\">2_Chronicles 33:4</a></div>\n",
       "\n",
       "</div>\n",
       "\n",
       "</div>"
      ],
      "text/plain": [
       "<IPython.core.display.HTML object>"
      ]
     },
     "metadata": {},
     "output_type": "display_data"
    },
    {
     "data": {
      "text/markdown": [
       "\n",
       "\n",
       "**Result** *47*\n",
       "\n"
      ],
      "text/plain": [
       "<IPython.core.display.Markdown object>"
      ]
     },
     "metadata": {},
     "output_type": "display_data"
    },
    {
     "data": {
      "text/html": [
       "<div class=\"outeritem\">\n",
       "<div class=\"lextp \" style=\"background-color: None;\">\n",
       "<div class=\"h\">מִשְׁפָּט</div>\n",
       "<div class=\"features\"> <span class=\"voc_lex\"><a target=\"_blank\" href=\"https://shebanq.ancient-data.org/hebrew/word?version=c&id=1MCPVn\" title=\"show this lexeme in SHEBANQ\">MIC:P.@V</a></span> <span class=\"gloss\">justice</span> <span class=\"freq_lex\"><span class=\"f\">freq_lex=</span>422</span></div>\n",
       "<div class=\"occs\"><a href=\"https://shebanq.ancient-data.org/hebrew/text?book=Genesis&chapter=18&verse=19&version=c&mr=m&qw=q&tp=txt_p&tr=hb&wget=v&qget=v&nget=vt\" title=\"show this passage in SHEBANQ\">Genesis 18:19</a> - <a href=\"https://shebanq.ancient-data.org/hebrew/text?book=Chronica_II&chapter=35&verse=13&version=c&mr=m&qw=q&tp=txt_p&tr=hb&wget=v&qget=v&nget=vt\" title=\"show this passage in SHEBANQ\">2_Chronicles 35:13</a></div>\n",
       "\n",
       "</div>\n",
       "\n",
       "</div>"
      ],
      "text/plain": [
       "<IPython.core.display.HTML object>"
      ]
     },
     "metadata": {},
     "output_type": "display_data"
    },
    {
     "data": {
      "text/markdown": [
       "\n",
       "\n",
       "**Result** *48*\n",
       "\n"
      ],
      "text/plain": [
       "<IPython.core.display.Markdown object>"
      ]
     },
     "metadata": {},
     "output_type": "display_data"
    },
    {
     "data": {
      "text/html": [
       "<div class=\"outeritem\">\n",
       "<div class=\"lextp \" style=\"background-color: None;\">\n",
       "<div class=\"h\">שַׂר</div>\n",
       "<div class=\"features\"> <span class=\"voc_lex\"><a target=\"_blank\" href=\"https://shebanq.ancient-data.org/hebrew/word?version=c&id=1FRn\" title=\"show this lexeme in SHEBANQ\">FAR</a></span> <span class=\"gloss\">chief</span> <span class=\"freq_lex\"><span class=\"f\">freq_lex=</span>421</span></div>\n",
       "<div class=\"occs\"><a href=\"https://shebanq.ancient-data.org/hebrew/text?book=Genesis&chapter=12&verse=15&version=c&mr=m&qw=q&tp=txt_p&tr=hb&wget=v&qget=v&nget=vt\" title=\"show this passage in SHEBANQ\">Genesis 12:15</a> - <a href=\"https://shebanq.ancient-data.org/hebrew/text?book=Chronica_II&chapter=36&verse=18&version=c&mr=m&qw=q&tp=txt_p&tr=hb&wget=v&qget=v&nget=vt\" title=\"show this passage in SHEBANQ\">2_Chronicles 36:18</a></div>\n",
       "\n",
       "</div>\n",
       "\n",
       "</div>"
      ],
      "text/plain": [
       "<IPython.core.display.HTML object>"
      ]
     },
     "metadata": {},
     "output_type": "display_data"
    },
    {
     "data": {
      "text/markdown": [
       "\n",
       "\n",
       "**Result** *49*\n",
       "\n"
      ],
      "text/plain": [
       "<IPython.core.display.Markdown object>"
      ]
     },
     "metadata": {},
     "output_type": "display_data"
    },
    {
     "data": {
      "text/html": [
       "<div class=\"outeritem\">\n",
       "<div class=\"lextp \" style=\"background-color: None;\">\n",
       "<div class=\"h\">שָׁמַיִם</div>\n",
       "<div class=\"features\"> <span class=\"voc_lex\"><a target=\"_blank\" href=\"https://shebanq.ancient-data.org/hebrew/word?version=c&id=1CMJMn\" title=\"show this lexeme in SHEBANQ\">C@MAJIM</a></span> <span class=\"gloss\">heavens</span> <span class=\"freq_lex\"><span class=\"f\">freq_lex=</span>421</span></div>\n",
       "<div class=\"occs\"><a href=\"https://shebanq.ancient-data.org/hebrew/text?book=Genesis&chapter=1&verse=1&version=c&mr=m&qw=q&tp=txt_p&tr=hb&wget=v&qget=v&nget=vt\" title=\"show this passage in SHEBANQ\">Genesis 1:1</a> - <a href=\"https://shebanq.ancient-data.org/hebrew/text?book=Chronica_II&chapter=36&verse=23&version=c&mr=m&qw=q&tp=txt_p&tr=hb&wget=v&qget=v&nget=vt\" title=\"show this passage in SHEBANQ\">2_Chronicles 36:23</a></div>\n",
       "\n",
       "</div>\n",
       "\n",
       "</div>"
      ],
      "text/plain": [
       "<IPython.core.display.HTML object>"
      ]
     },
     "metadata": {},
     "output_type": "display_data"
    }
   ],
   "source": [
    "raw_nnodes = [res[1] for res in raw_terms_ordered] # isolate the word nodes of the sample\n",
    "B.prettySetup(features={'ls', 'freq_lex'}) # config B to display ls and freq_lex\n",
    "\n",
    "# display lexeme data\n",
    "for i, node in enumerate(raw_nnodes[:50]):\n",
    "    B.prettyTuple((node,), seqNumber=i)"
   ]
  },
  {
   "cell_type": "markdown",
   "metadata": {},
   "source": [
    "Based on the nouns that are present, we should make some key exclusions. Many substantives have more functional or adjectival roles. Undesirable categories include copulative nouns (`nmcp`, e.g. אין), cardinal numbers (`card`), potential prepositions (`ppre`, e.g. תחת). The `ls` category of potential adverb (`padv`) contains desirable nouns like יום, but also more functionally adverbial-nouns like עוד. Thus we can see that there is a range of adverbial tendencies found in this category. Due to the potentially interesting possibility of seeing these tendencies play out in the data, we can decide to keep these instances. \n",
    "\n",
    "To be sure, the very phenomenon of \"functional\" versus \"nominal\" is worthy of further, quantitative investigation. The `ls` feature is an experimental and incomplete feature in the ETCBC, and this is precisely the kind of shortcoming this present work seeks to address. Nouns and adverbs likely sit along a sliding scale of adverbial tendencies, with adverbs nearly always functioning in such a role, and nouns exhibiting various statistical tendencies. But due to the scope of this investigation, we limit ourselves to mainly nominal words with a small inclusion of some adverbial-like substantives.\n",
    "\n",
    "We can eliminate more functional nouns by restricting the possible lexical set (`ls`) values. Below we apply those restrictions to the search template. In the case of certain quantifiers such as כל there is an `ls` feature of distributive noun (`nmdi`), yet this feature is likewise applied to nouns such as אח (\"brother\"). So it is undesirable to exclude all of these cases. Thus we depend, instead, on an additional filter list that excludes quantifiers.\n",
    "\n",
    "A few terms such as דרך and עבר are eliminated because the ETCBC labels it as a potential preposition. This is a speculative classification. So we define a seperate parameter in the template that saves this instance."
   ]
  },
  {
   "cell_type": "code",
   "execution_count": 152,
   "metadata": {},
   "outputs": [
    {
     "name": "stdout",
     "output_type": "stream",
     "text": [
      "  0.02s 3658 results\n",
      "\t48 results filtered out of raw noun list...\n",
      "\tfiltered lexemes shown below:\n"
     ]
    },
    {
     "data": {
      "text/html": [
       "<span class=\"hb\"><a target=\"_blank\" href=\"https://shebanq.ancient-data.org/hebrew/word?version=c&id=1KLn\" title=\"show this lexeme in SHEBANQ\">כֹּל</a></span>&nbsp;&nbsp;|<span class=\"hb\"><a target=\"_blank\" href=\"https://shebanq.ancient-data.org/hebrew/word?version=c&id=1AXDn\" title=\"show this lexeme in SHEBANQ\">אֶחָד</a></span>&nbsp;&nbsp;|<span class=\"hb\"><a target=\"_blank\" href=\"https://shebanq.ancient-data.org/hebrew/word?version=c&id=1AJNn\" title=\"show this lexeme in SHEBANQ\">אַיִן</a></span>&nbsp;&nbsp;|<span class=\"hb\"><a target=\"_blank\" href=\"https://shebanq.ancient-data.org/hebrew/word?version=c&id=1CNJMn\" title=\"show this lexeme in SHEBANQ\">שְׁנַיִם</a></span>&nbsp;&nbsp;|<span class=\"hb\"><a target=\"_blank\" href=\"https://shebanq.ancient-data.org/hebrew/word?version=c&id=1AXRn\" title=\"show this lexeme in SHEBANQ\">אַחַר</a></span>&nbsp;&nbsp;|<span class=\"hb\"><a target=\"_blank\" href=\"https://shebanq.ancient-data.org/hebrew/word?version=c&id=1CLCn\" title=\"show this lexeme in SHEBANQ\">שָׁלֹשׁ</a></span>&nbsp;&nbsp;|<span class=\"hb\"><a target=\"_blank\" href=\"https://shebanq.ancient-data.org/hebrew/word?version=c&id=1MAHn\" title=\"show this lexeme in SHEBANQ\">מֵאָה</a></span>&nbsp;&nbsp;|<span class=\"hb\"><a target=\"_blank\" href=\"https://shebanq.ancient-data.org/hebrew/word?version=c&id=1XMCn\" title=\"show this lexeme in SHEBANQ\">חָמֵשׁ</a></span>&nbsp;&nbsp;|<span class=\"hb\"><a target=\"_blank\" href=\"https://shebanq.ancient-data.org/hebrew/word?version=c&id=1TXTn\" title=\"show this lexeme in SHEBANQ\">תַּחַת</a></span>&nbsp;&nbsp;|<span class=\"hb\"><a target=\"_blank\" href=\"https://shebanq.ancient-data.org/hebrew/word?version=c&id=1ALPin\" title=\"show this lexeme in SHEBANQ\">אֶלֶף</a></span>&nbsp;&nbsp;|<span class=\"hb\"><a target=\"_blank\" href=\"https://shebanq.ancient-data.org/hebrew/word?version=c&id=1CBOn\" title=\"show this lexeme in SHEBANQ\">שֶׁבַע</a></span>&nbsp;&nbsp;|<span class=\"hb\"><a target=\"_blank\" href=\"https://shebanq.ancient-data.org/hebrew/word?version=c&id=1ARBOn\" title=\"show this lexeme in SHEBANQ\">אַרְבַּע</a></span>&nbsp;&nbsp;|<span class=\"hb\"><a target=\"_blank\" href=\"https://shebanq.ancient-data.org/hebrew/word?version=c&id=1BJNn\" title=\"show this lexeme in SHEBANQ\">בַּיִן</a></span>&nbsp;&nbsp;|<span class=\"hb\"><a target=\"_blank\" href=\"https://shebanq.ancient-data.org/hebrew/word?version=c&id=1OFRJMn\" title=\"show this lexeme in SHEBANQ\">עֶשְׂרִים</a></span>&nbsp;&nbsp;|<span class=\"hb\"><a target=\"_blank\" href=\"https://shebanq.ancient-data.org/hebrew/word?version=c&id=1CCn\" title=\"show this lexeme in SHEBANQ\">שֵׁשׁ</a></span>&nbsp;&nbsp;|<span class=\"hb\"><a target=\"_blank\" href=\"https://shebanq.ancient-data.org/hebrew/word?version=c&id=1OFRn\" title=\"show this lexeme in SHEBANQ\">עָשָׂר</a></span>&nbsp;&nbsp;|<span class=\"hb\"><a target=\"_blank\" href=\"https://shebanq.ancient-data.org/hebrew/word?version=c&id=1NGDn\" title=\"show this lexeme in SHEBANQ\">נֶגֶד</a></span>&nbsp;&nbsp;|<span class=\"hb\"><a target=\"_blank\" href=\"https://shebanq.ancient-data.org/hebrew/word?version=c&id=1CMNHn\" title=\"show this lexeme in SHEBANQ\">שְׁמֹנֶה</a></span>&nbsp;&nbsp;|<span class=\"hb\"><a target=\"_blank\" href=\"https://shebanq.ancient-data.org/hebrew/word?version=c&id=1JCn\" title=\"show this lexeme in SHEBANQ\">יֵשׁ</a></span>&nbsp;&nbsp;|<span class=\"hb\"><a target=\"_blank\" href=\"https://shebanq.ancient-data.org/hebrew/word?version=c&id=1OFRHn\" title=\"show this lexeme in SHEBANQ\">עֶשְׂרֵה</a></span>&nbsp;&nbsp;|<span class=\"hb\"><a target=\"_blank\" href=\"https://shebanq.ancient-data.org/hebrew/word?version=c&id=1XYJn\" title=\"show this lexeme in SHEBANQ\">חֲצִי</a></span>&nbsp;&nbsp;|<span class=\"hb\"><a target=\"_blank\" href=\"https://shebanq.ancient-data.org/hebrew/word?version=c&id=1OFRHin\" title=\"show this lexeme in SHEBANQ\">עֲשָׂרָה</a></span>&nbsp;&nbsp;|<span class=\"hb\"><a target=\"_blank\" href=\"https://shebanq.ancient-data.org/hebrew/word?version=c&id=1BLTn\" title=\"show this lexeme in SHEBANQ\">בֵּלֶת</a></span>&nbsp;&nbsp;|<span class=\"hb\"><a target=\"_blank\" href=\"https://shebanq.ancient-data.org/hebrew/word?version=c&id=1BODn\" title=\"show this lexeme in SHEBANQ\">בַּעַד</a></span>&nbsp;&nbsp;|<span class=\"hb\"><a target=\"_blank\" href=\"https://shebanq.ancient-data.org/hebrew/word?version=c&id=1MOVn\" title=\"show this lexeme in SHEBANQ\">מְעַט</a></span>&nbsp;&nbsp;|<span class=\"hb\"><a target=\"_blank\" href=\"https://shebanq.ancient-data.org/hebrew/word?version=c&id=1JONn\" title=\"show this lexeme in SHEBANQ\">יַעַן</a></span>&nbsp;&nbsp;|<span class=\"hb\"><a target=\"_blank\" href=\"https://shebanq.ancient-data.org/hebrew/word?version=c&id=1JTRn\" title=\"show this lexeme in SHEBANQ\">יֶתֶר</a></span>&nbsp;&nbsp;|<span class=\"hb\"><a target=\"_blank\" href=\"https://shebanq.ancient-data.org/hebrew/word?version=c&id=1TCOn\" title=\"show this lexeme in SHEBANQ\">תֵּשַׁע</a></span>&nbsp;&nbsp;|<span class=\"hb\"><a target=\"_blank\" href=\"https://shebanq.ancient-data.org/hebrew/word?version=c&id=1AYLn\" title=\"show this lexeme in SHEBANQ\">אֵצֶל</a></span>&nbsp;&nbsp;|<span class=\"hb\"><a target=\"_blank\" href=\"https://shebanq.ancient-data.org/hebrew/word?version=c&id=1BLJn\" title=\"show this lexeme in SHEBANQ\">בְּלִי</a></span>&nbsp;&nbsp;|<span class=\"hb\"><a target=\"_blank\" href=\"https://shebanq.ancient-data.org/hebrew/word?version=c&id=1OFRin\" title=\"show this lexeme in SHEBANQ\">עֶשֶׂר</a></span>&nbsp;&nbsp;|<span class=\"hb\"><a target=\"_blank\" href=\"https://shebanq.ancient-data.org/hebrew/word?version=c&id=1VRMn\" title=\"show this lexeme in SHEBANQ\">טֶרֶם</a></span>&nbsp;&nbsp;|<span class=\"hb\"><a target=\"_blank\" href=\"https://shebanq.ancient-data.org/hebrew/word?version=c&id=1OMDn\" title=\"show this lexeme in SHEBANQ\">עִמָּד</a></span>&nbsp;&nbsp;|<span class=\"hb\"><a target=\"_blank\" href=\"https://shebanq.ancient-data.org/hebrew/word?version=c&id=1APSn\" title=\"show this lexeme in SHEBANQ\">אֶפֶס</a></span>&nbsp;&nbsp;|<span class=\"hb\"><a target=\"_blank\" href=\"https://shebanq.ancient-data.org/hebrew/word?version=c&id=1MWLn\" title=\"show this lexeme in SHEBANQ\">מוּל</a></span>&nbsp;&nbsp;|<span class=\"hb\"><a target=\"_blank\" href=\"https://shebanq.ancient-data.org/hebrew/word?version=c&id=1MOFRn\" title=\"show this lexeme in SHEBANQ\">מַעֲשֵׂר</a></span>&nbsp;&nbsp;|<span class=\"hb\"><a target=\"_blank\" href=\"https://shebanq.ancient-data.org/hebrew/word?version=c&id=1NKXin\" title=\"show this lexeme in SHEBANQ\">נֹכַח</a></span>&nbsp;&nbsp;|<span class=\"hb\"><a target=\"_blank\" href=\"https://shebanq.ancient-data.org/hebrew/word?version=c&id=1OCTJn\" title=\"show this lexeme in SHEBANQ\">עַשְׁתֵּי</a></span>&nbsp;&nbsp;|<span class=\"hb\"><a target=\"_blank\" href=\"https://shebanq.ancient-data.org/hebrew/word?version=c&id=1ZWLHn\" title=\"show this lexeme in SHEBANQ\">זוּלָה</a></span>&nbsp;&nbsp;|<span class=\"hb\"><a target=\"_blank\" href=\"https://shebanq.ancient-data.org/hebrew/word?version=c&id=1RBBHn\" title=\"show this lexeme in SHEBANQ\">רְבָבָה</a></span>&nbsp;&nbsp;|<span class=\"hb\"><a target=\"_blank\" href=\"https://shebanq.ancient-data.org/hebrew/word?version=c&id=1OQBn\" title=\"show this lexeme in SHEBANQ\">עֵקֶב</a></span>&nbsp;&nbsp;|<span class=\"hb\"><a target=\"_blank\" href=\"https://shebanq.ancient-data.org/hebrew/word?version=c&id=1ALPiin\" title=\"show this lexeme in SHEBANQ\">אֶלֶף</a></span>&nbsp;&nbsp;|<span class=\"hb\"><a target=\"_blank\" href=\"https://shebanq.ancient-data.org/hebrew/word?version=c&id=1RBWAn\" title=\"show this lexeme in SHEBANQ\">רִבֹּוא</a></span>&nbsp;&nbsp;|<span class=\"hb\"><a target=\"_blank\" href=\"https://shebanq.ancient-data.org/hebrew/word?version=c&id=1QDMHn\" title=\"show this lexeme in SHEBANQ\">קִדְמָה</a></span>&nbsp;&nbsp;|<span class=\"hb\"><a target=\"_blank\" href=\"https://shebanq.ancient-data.org/hebrew/word?version=c&id=1ACin\" title=\"show this lexeme in SHEBANQ\">אִשׁ</a></span>&nbsp;&nbsp;|<span class=\"hb\"><a target=\"_blank\" href=\"https://shebanq.ancient-data.org/hebrew/word?version=c&id=1XLPn\" title=\"show this lexeme in SHEBANQ\">חֵלֶף</a></span>&nbsp;&nbsp;|<span class=\"hb\"><a target=\"_blank\" href=\"https://shebanq.ancient-data.org/hebrew/word?version=c&id=1QBLin\" title=\"show this lexeme in SHEBANQ\">קָבָלְ־</a></span>&nbsp;&nbsp;|<span class=\"hb\"><a target=\"_blank\" href=\"https://shebanq.ancient-data.org/hebrew/word?version=c&id=1MSHin\" title=\"show this lexeme in SHEBANQ\">מִסָּה</a></span>"
      ],
      "text/plain": [
       "<IPython.core.display.HTML object>"
      ]
     },
     "metadata": {},
     "output_type": "display_data"
    }
   ],
   "source": [
    "exclude = '|'.join(('KL/', 'M<V/', 'JTR/', 'M<FR/', 'XYJ/')) # exclude quantifiers\n",
    "include = '|'.join(('padv', 'nmdi'))  # ok ls features\n",
    "keep = '|'.join(('DRK/', '<BR/'))\n",
    "\n",
    "'''\n",
    "Below is a TF search query for three cases:\n",
    "One is a lexeme with included ls features.\n",
    "The second is a lexeme with a null ls feature.\n",
    "The third is lexemes we want to prevent from being excluded.\n",
    "For all cases we exclude excluded lexemes.\n",
    "'''\n",
    "\n",
    "select_noun_search = f'''\n",
    "\n",
    "lex language=Hebrew\n",
    "/with/\n",
    "sp=subs ls={include} lex#{exclude}\n",
    "/or/\n",
    "sp=subs ls# lex#{exclude}\n",
    "/or/\n",
    "sp=subs lex={keep}\n",
    "/-/\n",
    "\n",
    "'''\n",
    "\n",
    "select_nouns = B.search(select_noun_search)\n",
    "noun_dat_ordered = sorted(((F.freq_lex.v(res[0]), res[0]) for res in select_nouns), reverse=True)\n",
    "nnodes_ordered = list(noun_dat[1] for noun_dat in noun_dat_ordered)\n",
    "filtered_lexs = list(node for node in raw_nnodes if node not in nnodes_ordered)\n",
    "\n",
    "print(f'\\t{len(raw_nouns) - len(select_nouns)} results filtered out of raw noun list...')\n",
    "print('\\tfiltered lexemes shown below:')\n",
    "show_word_list(filtered_lexs)"
   ]
  },
  {
   "cell_type": "markdown",
   "metadata": {},
   "source": [
    "### Plot the Nouns in Order of Frequency\n",
    "\n",
    "Now that we have obtained a filtered noun-set, we must decide a cut-off point at which to limit the present analysis. Below we plot the attested nouns and their respective frequencies."
   ]
  },
  {
   "cell_type": "code",
   "execution_count": 143,
   "metadata": {},
   "outputs": [
    {
     "data": {
      "text/plain": [
       "[]"
      ]
     },
     "execution_count": 143,
     "metadata": {},
     "output_type": "execute_result"
    },
    {
     "data": {
      "image/png": "[encoded data removed]",
      "text/plain": [
       "<Figure size 864x432 with 1 Axes>"
      ]
     },
     "metadata": {},
     "output_type": "display_data"
    }
   ],
   "source": [
    "# plot data\n",
    "y_freqs = [lex_data[0] for lex_data in noun_dat_ordered]\n",
    "x_rank = [i+1 for i in range(0, len(y_freqs))]\n",
    "title = 'Noun Frequencies in the Hebrew Bible'\n",
    "xlabel = 'Rank'\n",
    "ylabel = 'Frequency'\n",
    "\n",
    "# first plot\n",
    "plt.figure(figsize=(12, 6))\n",
    "plt.plot(x_rank, y_freqs)\n",
    "plt.title(title + f' (ranks 1-{len(x_rank)})', size=18)\n",
    "plt.xlabel(xlabel, size=18)\n",
    "plt.ylabel(ylabel, size=18)\n",
    "plt.plot()"
   ]
  },
  {
   "cell_type": "markdown",
   "metadata": {},
   "source": [
    "We zoom in closer to view ranks 1-1000...\n",
    "\n",
    "*Consider using a subplot here with 4 different zooms*"
   ]
  },
  {
   "cell_type": "code",
   "execution_count": 145,
   "metadata": {},
   "outputs": [
    {
     "data": {
      "text/plain": [
       "[]"
      ]
     },
     "execution_count": 145,
     "metadata": {},
     "output_type": "execute_result"
    },
    {
     "data": {
      "image/png": "[encoded data removed]",
      "text/plain": [
       "<Figure size 864x432 with 1 Axes>"
      ]
     },
     "metadata": {},
     "output_type": "display_data"
    }
   ],
   "source": [
    "# second plot\n",
    "plt.figure(figsize=(12, 6))\n",
    "plt.plot(x_rank[:1000], y_freqs[:1000])\n",
    "plt.title(title + f' (ranks 1-1000)', size=18)\n",
    "plt.xlabel(xlabel, size=18)\n",
    "plt.ylabel(ylabel, size=18)\n",
    "plt.plot()"
   ]
  },
  {
   "cell_type": "markdown",
   "metadata": {},
   "source": [
    "This curve is typical of Zipf's law:\n",
    "\n",
    "> Zipf's law states that given some corpus of natural language utterances, the frequency of any word is inversely proportional to its rank in the frequency table ([wikipedia](https://en.wikipedia.org/wiki/Zipf%27s_law))\n",
    "\n",
    "The curve sharply \"elbows\" at around rank 15. Between ranks 50-100 there is still an appreciable drop-off. The curve starts to significantly flatten after 200. We thus decide an arbitrary cut-off point at rank 200, based on the fact that the curve does not show any significant leveling after this point."
   ]
  },
  {
   "cell_type": "code",
   "execution_count": 154,
   "metadata": {},
   "outputs": [
    {
     "data": {
      "text/html": [
       "<span class=\"hb\"><a target=\"_blank\" href=\"https://shebanq.ancient-data.org/hebrew/word?version=c&id=1BNn\" title=\"show this lexeme in SHEBANQ\">בֵּן</a></span>&nbsp;&nbsp;|<span class=\"hb\"><a target=\"_blank\" href=\"https://shebanq.ancient-data.org/hebrew/word?version=c&id=1ALHJMn\" title=\"show this lexeme in SHEBANQ\">אֱלֹהִים</a></span>&nbsp;&nbsp;|<span class=\"hb\"><a target=\"_blank\" href=\"https://shebanq.ancient-data.org/hebrew/word?version=c&id=1MLKn\" title=\"show this lexeme in SHEBANQ\">מֶלֶךְ</a></span>&nbsp;&nbsp;|<span class=\"hb\"><a target=\"_blank\" href=\"https://shebanq.ancient-data.org/hebrew/word?version=c&id=1ARYn\" title=\"show this lexeme in SHEBANQ\">אֶרֶץ</a></span>&nbsp;&nbsp;|<span class=\"hb\"><a target=\"_blank\" href=\"https://shebanq.ancient-data.org/hebrew/word?version=c&id=1JWMn\" title=\"show this lexeme in SHEBANQ\">יֹום</a></span>&nbsp;&nbsp;|<span class=\"hb\"><a target=\"_blank\" href=\"https://shebanq.ancient-data.org/hebrew/word?version=c&id=1AJCn\" title=\"show this lexeme in SHEBANQ\">אִישׁ</a></span>&nbsp;&nbsp;|<span class=\"hb\"><a target=\"_blank\" href=\"https://shebanq.ancient-data.org/hebrew/word?version=c&id=1PNHn\" title=\"show this lexeme in SHEBANQ\">פָּנֶה</a></span>&nbsp;&nbsp;|<span class=\"hb\"><a target=\"_blank\" href=\"https://shebanq.ancient-data.org/hebrew/word?version=c&id=1BJTn\" title=\"show this lexeme in SHEBANQ\">בַּיִת</a></span>&nbsp;&nbsp;|<span class=\"hb\"><a target=\"_blank\" href=\"https://shebanq.ancient-data.org/hebrew/word?version=c&id=1OMn\" title=\"show this lexeme in SHEBANQ\">עַם</a></span>&nbsp;&nbsp;|<span class=\"hb\"><a target=\"_blank\" href=\"https://shebanq.ancient-data.org/hebrew/word?version=c&id=1JDn\" title=\"show this lexeme in SHEBANQ\">יָד</a></span>&nbsp;&nbsp;|<span class=\"hb\"><a target=\"_blank\" href=\"https://shebanq.ancient-data.org/hebrew/word?version=c&id=1DBRn\" title=\"show this lexeme in SHEBANQ\">דָּבָר</a></span>&nbsp;&nbsp;|<span class=\"hb\"><a target=\"_blank\" href=\"https://shebanq.ancient-data.org/hebrew/word?version=c&id=1ABn\" title=\"show this lexeme in SHEBANQ\">אָב</a></span>&nbsp;&nbsp;|<span class=\"hb\"><a target=\"_blank\" href=\"https://shebanq.ancient-data.org/hebrew/word?version=c&id=1OJRn\" title=\"show this lexeme in SHEBANQ\">עִיר</a></span>&nbsp;&nbsp;|<span class=\"hb\"><a target=\"_blank\" href=\"https://shebanq.ancient-data.org/hebrew/word?version=c&id=1OJNn\" title=\"show this lexeme in SHEBANQ\">עַיִן</a></span>&nbsp;&nbsp;|<span class=\"hb\"><a target=\"_blank\" href=\"https://shebanq.ancient-data.org/hebrew/word?version=c&id=1CNHn\" title=\"show this lexeme in SHEBANQ\">שָׁנָה</a></span>&nbsp;&nbsp;|<span class=\"hb\"><a target=\"_blank\" href=\"https://shebanq.ancient-data.org/hebrew/word?version=c&id=1CMn\" title=\"show this lexeme in SHEBANQ\">שֵׁם</a></span>&nbsp;&nbsp;|<span class=\"hb\"><a target=\"_blank\" href=\"https://shebanq.ancient-data.org/hebrew/word?version=c&id=1OBDn\" title=\"show this lexeme in SHEBANQ\">עֶבֶד</a></span>&nbsp;&nbsp;|<span class=\"hb\"><a target=\"_blank\" href=\"https://shebanq.ancient-data.org/hebrew/word?version=c&id=1ACHn\" title=\"show this lexeme in SHEBANQ\">אִשָּׁה</a></span>&nbsp;&nbsp;|<span class=\"hb\"><a target=\"_blank\" href=\"https://shebanq.ancient-data.org/hebrew/word?version=c&id=1NPCn\" title=\"show this lexeme in SHEBANQ\">נֶפֶשׁ</a></span>&nbsp;&nbsp;|<span class=\"hb\"><a target=\"_blank\" href=\"https://shebanq.ancient-data.org/hebrew/word?version=c&id=1KHNn\" title=\"show this lexeme in SHEBANQ\">כֹּהֵן</a></span>&nbsp;&nbsp;|<span class=\"hb\"><a target=\"_blank\" href=\"https://shebanq.ancient-data.org/hebrew/word?version=c&id=1DRKn\" title=\"show this lexeme in SHEBANQ\">דֶּרֶךְ</a></span>&nbsp;&nbsp;|<span class=\"hb\"><a target=\"_blank\" href=\"https://shebanq.ancient-data.org/hebrew/word?version=c&id=1AXn\" title=\"show this lexeme in SHEBANQ\">אָח</a></span>&nbsp;&nbsp;|<span class=\"hb\"><a target=\"_blank\" href=\"https://shebanq.ancient-data.org/hebrew/word?version=c&id=1LBn\" title=\"show this lexeme in SHEBANQ\">לֵב</a></span>&nbsp;&nbsp;|<span class=\"hb\"><a target=\"_blank\" href=\"https://shebanq.ancient-data.org/hebrew/word?version=c&id=1RACn\" title=\"show this lexeme in SHEBANQ\">רֹאשׁ</a></span>&nbsp;&nbsp;|<span class=\"hb\"><a target=\"_blank\" href=\"https://shebanq.ancient-data.org/hebrew/word?version=c&id=1BTn\" title=\"show this lexeme in SHEBANQ\">בַּת</a></span>&nbsp;&nbsp;|<span class=\"hb\"><a target=\"_blank\" href=\"https://shebanq.ancient-data.org/hebrew/word?version=c&id=1MJMn\" title=\"show this lexeme in SHEBANQ\">מַיִם</a></span>&nbsp;&nbsp;|<span class=\"hb\"><a target=\"_blank\" href=\"https://shebanq.ancient-data.org/hebrew/word?version=c&id=1HRn\" title=\"show this lexeme in SHEBANQ\">הַר</a></span>&nbsp;&nbsp;|<span class=\"hb\"><a target=\"_blank\" href=\"https://shebanq.ancient-data.org/hebrew/word?version=c&id=1GWJn\" title=\"show this lexeme in SHEBANQ\">גֹּוי</a></span>&nbsp;&nbsp;|<span class=\"hb\"><a target=\"_blank\" href=\"https://shebanq.ancient-data.org/hebrew/word?version=c&id=1ADMn\" title=\"show this lexeme in SHEBANQ\">אָדָם</a></span>&nbsp;&nbsp;|<span class=\"hb\"><a target=\"_blank\" href=\"https://shebanq.ancient-data.org/hebrew/word?version=c&id=1QWLn\" title=\"show this lexeme in SHEBANQ\">קֹול</a></span>&nbsp;&nbsp;|<span class=\"hb\"><a target=\"_blank\" href=\"https://shebanq.ancient-data.org/hebrew/word?version=c&id=1PHn\" title=\"show this lexeme in SHEBANQ\">פֶּה</a></span>&nbsp;&nbsp;|<span class=\"hb\"><a target=\"_blank\" href=\"https://shebanq.ancient-data.org/hebrew/word?version=c&id=1OWDn\" title=\"show this lexeme in SHEBANQ\">עֹוד</a></span>&nbsp;&nbsp;|<span class=\"hb\"><a target=\"_blank\" href=\"https://shebanq.ancient-data.org/hebrew/word?version=c&id=1YBAn\" title=\"show this lexeme in SHEBANQ\">צָבָא</a></span>&nbsp;&nbsp;|<span class=\"hb\"><a target=\"_blank\" href=\"https://shebanq.ancient-data.org/hebrew/word?version=c&id=1QDCn\" title=\"show this lexeme in SHEBANQ\">קֹדֶשׁ</a></span>&nbsp;&nbsp;|<span class=\"hb\"><a target=\"_blank\" href=\"https://shebanq.ancient-data.org/hebrew/word?version=c&id=1OWLMn\" title=\"show this lexeme in SHEBANQ\">עֹולָם</a></span>&nbsp;&nbsp;|<span class=\"hb\"><a target=\"_blank\" href=\"https://shebanq.ancient-data.org/hebrew/word?version=c&id=1MCPVn\" title=\"show this lexeme in SHEBANQ\">מִשְׁפָּט</a></span>&nbsp;&nbsp;|<span class=\"hb\"><a target=\"_blank\" href=\"https://shebanq.ancient-data.org/hebrew/word?version=c&id=1FRn\" title=\"show this lexeme in SHEBANQ\">שַׂר</a></span>&nbsp;&nbsp;|<span class=\"hb\"><a target=\"_blank\" href=\"https://shebanq.ancient-data.org/hebrew/word?version=c&id=1CMJMn\" title=\"show this lexeme in SHEBANQ\">שָׁמַיִם</a></span>&nbsp;&nbsp;|<span class=\"hb\"><a target=\"_blank\" href=\"https://shebanq.ancient-data.org/hebrew/word?version=c&id=1TWKn\" title=\"show this lexeme in SHEBANQ\">תָּוֶךְ</a></span>&nbsp;&nbsp;|<span class=\"hb\"><a target=\"_blank\" href=\"https://shebanq.ancient-data.org/hebrew/word?version=c&id=1XRBn\" title=\"show this lexeme in SHEBANQ\">חֶרֶב</a></span>&nbsp;&nbsp;|<span class=\"hb\"><a target=\"_blank\" href=\"https://shebanq.ancient-data.org/hebrew/word?version=c&id=1KSPn\" title=\"show this lexeme in SHEBANQ\">כֶּסֶף</a></span>&nbsp;&nbsp;|<span class=\"hb\"><a target=\"_blank\" href=\"https://shebanq.ancient-data.org/hebrew/word?version=c&id=1MZBXn\" title=\"show this lexeme in SHEBANQ\">מִזְבֵּחַ</a></span>&nbsp;&nbsp;|<span class=\"hb\"><a target=\"_blank\" href=\"https://shebanq.ancient-data.org/hebrew/word?version=c&id=1MQWMn\" title=\"show this lexeme in SHEBANQ\">מָקֹום</a></span>&nbsp;&nbsp;|<span class=\"hb\"><a target=\"_blank\" href=\"https://shebanq.ancient-data.org/hebrew/word?version=c&id=1JMn\" title=\"show this lexeme in SHEBANQ\">יָם</a></span>&nbsp;&nbsp;|<span class=\"hb\"><a target=\"_blank\" href=\"https://shebanq.ancient-data.org/hebrew/word?version=c&id=1ZHBn\" title=\"show this lexeme in SHEBANQ\">זָהָב</a></span>&nbsp;&nbsp;|<span class=\"hb\"><a target=\"_blank\" href=\"https://shebanq.ancient-data.org/hebrew/word?version=c&id=1ACn\" title=\"show this lexeme in SHEBANQ\">אֵשׁ</a></span>&nbsp;&nbsp;|<span class=\"hb\"><a target=\"_blank\" href=\"https://shebanq.ancient-data.org/hebrew/word?version=c&id=1RWXn\" title=\"show this lexeme in SHEBANQ\">רוּחַ</a></span>&nbsp;&nbsp;|<span class=\"hb\"><a target=\"_blank\" href=\"https://shebanq.ancient-data.org/hebrew/word?version=c&id=1NAMn\" title=\"show this lexeme in SHEBANQ\">נְאֻם</a></span>&nbsp;&nbsp;|<span class=\"hb\"><a target=\"_blank\" href=\"https://shebanq.ancient-data.org/hebrew/word?version=c&id=1CORn\" title=\"show this lexeme in SHEBANQ\">שַׁעַר</a></span>&nbsp;&nbsp;|<span class=\"hb\"><a target=\"_blank\" href=\"https://shebanq.ancient-data.org/hebrew/word?version=c&id=1DMn\" title=\"show this lexeme in SHEBANQ\">דָּם</a></span>&nbsp;&nbsp;|<span class=\"hb\"><a target=\"_blank\" href=\"https://shebanq.ancient-data.org/hebrew/word?version=c&id=1AHLn\" title=\"show this lexeme in SHEBANQ\">אֹהֶל</a></span>&nbsp;&nbsp;|<span class=\"hb\"><a target=\"_blank\" href=\"https://shebanq.ancient-data.org/hebrew/word?version=c&id=1SBJBn\" title=\"show this lexeme in SHEBANQ\">סָבִיב</a></span>&nbsp;&nbsp;|<span class=\"hb\"><a target=\"_blank\" href=\"https://shebanq.ancient-data.org/hebrew/word?version=c&id=1ADWNn\" title=\"show this lexeme in SHEBANQ\">אָדֹון</a></span>&nbsp;&nbsp;|<span class=\"hb\"><a target=\"_blank\" href=\"https://shebanq.ancient-data.org/hebrew/word?version=c&id=1OYn\" title=\"show this lexeme in SHEBANQ\">עֵץ</a></span>&nbsp;&nbsp;|<span class=\"hb\"><a target=\"_blank\" href=\"https://shebanq.ancient-data.org/hebrew/word?version=c&id=1KLJn\" title=\"show this lexeme in SHEBANQ\">כְּלִי</a></span>&nbsp;&nbsp;|<span class=\"hb\"><a target=\"_blank\" href=\"https://shebanq.ancient-data.org/hebrew/word?version=c&id=1FDHn\" title=\"show this lexeme in SHEBANQ\">שָׂדֶה</a></span>&nbsp;&nbsp;|<span class=\"hb\"><a target=\"_blank\" href=\"https://shebanq.ancient-data.org/hebrew/word?version=c&id=1NBJAn\" title=\"show this lexeme in SHEBANQ\">נָבִיא</a></span>&nbsp;&nbsp;|<span class=\"hb\"><a target=\"_blank\" href=\"https://shebanq.ancient-data.org/hebrew/word?version=c&id=1ROHn\" title=\"show this lexeme in SHEBANQ\">רָעָה</a></span>&nbsp;&nbsp;|<span class=\"hb\"><a target=\"_blank\" href=\"https://shebanq.ancient-data.org/hebrew/word?version=c&id=1MLXMHn\" title=\"show this lexeme in SHEBANQ\">מִלְחָמָה</a></span>&nbsp;&nbsp;|<span class=\"hb\"><a target=\"_blank\" href=\"https://shebanq.ancient-data.org/hebrew/word?version=c&id=1MADn\" title=\"show this lexeme in SHEBANQ\">מְאֹד</a></span>&nbsp;&nbsp;|<span class=\"hb\"><a target=\"_blank\" href=\"https://shebanq.ancient-data.org/hebrew/word?version=c&id=1LXMn\" title=\"show this lexeme in SHEBANQ\">לֶחֶם</a></span>&nbsp;&nbsp;|<span class=\"hb\"><a target=\"_blank\" href=\"https://shebanq.ancient-data.org/hebrew/word?version=c&id=1OTn\" title=\"show this lexeme in SHEBANQ\">עֵת</a></span>&nbsp;&nbsp;|<span class=\"hb\"><a target=\"_blank\" href=\"https://shebanq.ancient-data.org/hebrew/word?version=c&id=1XVATn\" title=\"show this lexeme in SHEBANQ\">חַטָּאת</a></span>&nbsp;&nbsp;|<span class=\"hb\"><a target=\"_blank\" href=\"https://shebanq.ancient-data.org/hebrew/word?version=c&id=1OLHn\" title=\"show this lexeme in SHEBANQ\">עֹלָה</a></span>&nbsp;&nbsp;|<span class=\"hb\"><a target=\"_blank\" href=\"https://shebanq.ancient-data.org/hebrew/word?version=c&id=1XDCin\" title=\"show this lexeme in SHEBANQ\">חֹדֶשׁ</a></span>&nbsp;&nbsp;|<span class=\"hb\"><a target=\"_blank\" href=\"https://shebanq.ancient-data.org/hebrew/word?version=c&id=1BRJTn\" title=\"show this lexeme in SHEBANQ\">בְּרִית</a></span>&nbsp;&nbsp;|<span class=\"hb\"><a target=\"_blank\" href=\"https://shebanq.ancient-data.org/hebrew/word?version=c&id=1APn\" title=\"show this lexeme in SHEBANQ\">אַף</a></span>&nbsp;&nbsp;|<span class=\"hb\"><a target=\"_blank\" href=\"https://shebanq.ancient-data.org/hebrew/word?version=c&id=1PROHn\" title=\"show this lexeme in SHEBANQ\">פַּרְעֹה</a></span>&nbsp;&nbsp;|<span class=\"hb\"><a target=\"_blank\" href=\"https://shebanq.ancient-data.org/hebrew/word?version=c&id=1YANn\" title=\"show this lexeme in SHEBANQ\">צֹאן</a></span>&nbsp;&nbsp;|<span class=\"hb\"><a target=\"_blank\" href=\"https://shebanq.ancient-data.org/hebrew/word?version=c&id=1ABNn\" title=\"show this lexeme in SHEBANQ\">אֶבֶן</a></span>&nbsp;&nbsp;|<span class=\"hb\"><a target=\"_blank\" href=\"https://shebanq.ancient-data.org/hebrew/word?version=c&id=1MDBRn\" title=\"show this lexeme in SHEBANQ\">מִדְבָּר</a></span>&nbsp;&nbsp;|<span class=\"hb\"><a target=\"_blank\" href=\"https://shebanq.ancient-data.org/hebrew/word?version=c&id=1BFRn\" title=\"show this lexeme in SHEBANQ\">בָּשָׂר</a></span>&nbsp;&nbsp;|<span class=\"hb\"><a target=\"_blank\" href=\"https://shebanq.ancient-data.org/hebrew/word?version=c&id=1MVHn\" title=\"show this lexeme in SHEBANQ\">מַטֶּה</a></span>&nbsp;&nbsp;|<span class=\"hb\"><a target=\"_blank\" href=\"https://shebanq.ancient-data.org/hebrew/word?version=c&id=1LBBn\" title=\"show this lexeme in SHEBANQ\">לֵבָב</a></span>&nbsp;&nbsp;|<span class=\"hb\"><a target=\"_blank\" href=\"https://shebanq.ancient-data.org/hebrew/word?version=c&id=1RGLn\" title=\"show this lexeme in SHEBANQ\">רֶגֶל</a></span>&nbsp;&nbsp;|<span class=\"hb\"><a target=\"_blank\" href=\"https://shebanq.ancient-data.org/hebrew/word?version=c&id=1AMHin\" title=\"show this lexeme in SHEBANQ\">אַמָּה</a></span>&nbsp;&nbsp;|<span class=\"hb\"><a target=\"_blank\" href=\"https://shebanq.ancient-data.org/hebrew/word?version=c&id=1XSDn\" title=\"show this lexeme in SHEBANQ\">חֶסֶד</a></span>&nbsp;&nbsp;|<span class=\"hb\"><a target=\"_blank\" href=\"https://shebanq.ancient-data.org/hebrew/word?version=c&id=1XJLn\" title=\"show this lexeme in SHEBANQ\">חַיִל</a></span>&nbsp;&nbsp;|<span class=\"hb\"><a target=\"_blank\" href=\"https://shebanq.ancient-data.org/hebrew/word?version=c&id=1NORn\" title=\"show this lexeme in SHEBANQ\">נַעַר</a></span>&nbsp;&nbsp;|<span class=\"hb\"><a target=\"_blank\" href=\"https://shebanq.ancient-data.org/hebrew/word?version=c&id=1GBWLn\" title=\"show this lexeme in SHEBANQ\">גְּבוּל</a></span>&nbsp;&nbsp;|<span class=\"hb\"><a target=\"_blank\" href=\"https://shebanq.ancient-data.org/hebrew/word?version=c&id=1CLWMn\" title=\"show this lexeme in SHEBANQ\">שָׁלֹום</a></span>&nbsp;&nbsp;|<span class=\"hb\"><a target=\"_blank\" href=\"https://shebanq.ancient-data.org/hebrew/word?version=c&id=1ALn\" title=\"show this lexeme in SHEBANQ\">אֵל</a></span>&nbsp;&nbsp;|<span class=\"hb\"><a target=\"_blank\" href=\"https://shebanq.ancient-data.org/hebrew/word?version=c&id=1MOFHn\" title=\"show this lexeme in SHEBANQ\">מַעֲשֶׂה</a></span>&nbsp;&nbsp;|<span class=\"hb\"><a target=\"_blank\" href=\"https://shebanq.ancient-data.org/hebrew/word?version=c&id=1OWNn\" title=\"show this lexeme in SHEBANQ\">עָוֹן</a></span>&nbsp;&nbsp;|<span class=\"hb\"><a target=\"_blank\" href=\"https://shebanq.ancient-data.org/hebrew/word?version=c&id=1ZROn\" title=\"show this lexeme in SHEBANQ\">זֶרַע</a></span>&nbsp;&nbsp;|<span class=\"hb\"><a target=\"_blank\" href=\"https://shebanq.ancient-data.org/hebrew/word?version=c&id=1QRBn\" title=\"show this lexeme in SHEBANQ\">קֶרֶב</a></span>&nbsp;&nbsp;|<span class=\"hb\"><a target=\"_blank\" href=\"https://shebanq.ancient-data.org/hebrew/word?version=c&id=1LJLHn\" title=\"show this lexeme in SHEBANQ\">לַיְלָה</a></span>&nbsp;&nbsp;|<span class=\"hb\"><a target=\"_blank\" href=\"https://shebanq.ancient-data.org/hebrew/word?version=c&id=1BDn\" title=\"show this lexeme in SHEBANQ\">בַּד</a></span>&nbsp;&nbsp;|<span class=\"hb\"><a target=\"_blank\" href=\"https://shebanq.ancient-data.org/hebrew/word?version=c&id=1NXLHn\" title=\"show this lexeme in SHEBANQ\">נַחֲלָה</a></span>&nbsp;&nbsp;|<span class=\"hb\"><a target=\"_blank\" href=\"https://shebanq.ancient-data.org/hebrew/word?version=c&id=1ADMHn\" title=\"show this lexeme in SHEBANQ\">אֲדָמָה</a></span>&nbsp;&nbsp;|<span class=\"hb\"><a target=\"_blank\" href=\"https://shebanq.ancient-data.org/hebrew/word?version=c&id=1MWODn\" title=\"show this lexeme in SHEBANQ\">מֹועֵד</a></span>&nbsp;&nbsp;|<span class=\"hb\"><a target=\"_blank\" href=\"https://shebanq.ancient-data.org/hebrew/word?version=c&id=1TWRHn\" title=\"show this lexeme in SHEBANQ\">תֹּורָה</a></span>&nbsp;&nbsp;|<span class=\"hb\"><a target=\"_blank\" href=\"https://shebanq.ancient-data.org/hebrew/word?version=c&id=1AMn\" title=\"show this lexeme in SHEBANQ\">אֵם</a></span>&nbsp;&nbsp;|<span class=\"hb\"><a target=\"_blank\" href=\"https://shebanq.ancient-data.org/hebrew/word?version=c&id=1BGDn\" title=\"show this lexeme in SHEBANQ\">בֶּגֶד</a></span>&nbsp;&nbsp;|<span class=\"hb\"><a target=\"_blank\" href=\"https://shebanq.ancient-data.org/hebrew/word?version=c&id=1MXNHn\" title=\"show this lexeme in SHEBANQ\">מַחֲנֶה</a></span>&nbsp;&nbsp;|<span class=\"hb\"><a target=\"_blank\" href=\"https://shebanq.ancient-data.org/hebrew/word?version=c&id=1BQRin\" title=\"show this lexeme in SHEBANQ\">בֹּקֶר</a></span>&nbsp;&nbsp;|<span class=\"hb\"><a target=\"_blank\" href=\"https://shebanq.ancient-data.org/hebrew/word?version=c&id=1MLAKn\" title=\"show this lexeme in SHEBANQ\">מַלְאָךְ</a></span>&nbsp;&nbsp;|<span class=\"hb\"><a target=\"_blank\" href=\"https://shebanq.ancient-data.org/hebrew/word?version=c&id=1MNXHn\" title=\"show this lexeme in SHEBANQ\">מִנְחָה</a></span>&nbsp;&nbsp;|<span class=\"hb\"><a target=\"_blank\" href=\"https://shebanq.ancient-data.org/hebrew/word?version=c&id=1ARWNn\" title=\"show this lexeme in SHEBANQ\">אֲרֹון</a></span>&nbsp;&nbsp;|<span class=\"hb\"><a target=\"_blank\" href=\"https://shebanq.ancient-data.org/hebrew/word?version=c&id=1KBWDn\" title=\"show this lexeme in SHEBANQ\">כָּבֹוד</a></span>&nbsp;&nbsp;|<span class=\"hb\"><a target=\"_blank\" href=\"https://shebanq.ancient-data.org/hebrew/word?version=c&id=1XYRn\" title=\"show this lexeme in SHEBANQ\">חָצֵר</a></span>&nbsp;&nbsp;|<span class=\"hb\"><a target=\"_blank\" href=\"https://shebanq.ancient-data.org/hebrew/word?version=c&id=1KPn\" title=\"show this lexeme in SHEBANQ\">כַּף</a></span>&nbsp;&nbsp;|<span class=\"hb\"><a target=\"_blank\" href=\"https://shebanq.ancient-data.org/hebrew/word?version=c&id=1CMNn\" title=\"show this lexeme in SHEBANQ\">שֶׁמֶן</a></span>&nbsp;&nbsp;|<span class=\"hb\"><a target=\"_blank\" href=\"https://shebanq.ancient-data.org/hebrew/word?version=c&id=1CBVn\" title=\"show this lexeme in SHEBANQ\">שֵׁבֶט</a></span>&nbsp;&nbsp;|<span class=\"hb\"><a target=\"_blank\" href=\"https://shebanq.ancient-data.org/hebrew/word?version=c&id=1BHMHn\" title=\"show this lexeme in SHEBANQ\">בְּהֵמָה</a></span>&nbsp;&nbsp;|<span class=\"hb\"><a target=\"_blank\" href=\"https://shebanq.ancient-data.org/hebrew/word?version=c&id=1MCPXHn\" title=\"show this lexeme in SHEBANQ\">מִשְׁפָּחָה</a></span>&nbsp;&nbsp;|<span class=\"hb\"><a target=\"_blank\" href=\"https://shebanq.ancient-data.org/hebrew/word?version=c&id=1AZNn\" title=\"show this lexeme in SHEBANQ\">אֹזֶן</a></span>&nbsp;&nbsp;|<span class=\"hb\"><a target=\"_blank\" href=\"https://shebanq.ancient-data.org/hebrew/word?version=c&id=1ROin\" title=\"show this lexeme in SHEBANQ\">רֵעַ</a></span>&nbsp;&nbsp;|<span class=\"hb\"><a target=\"_blank\" href=\"https://shebanq.ancient-data.org/hebrew/word?version=c&id=1SPRn\" title=\"show this lexeme in SHEBANQ\">סֵפֶר</a></span>&nbsp;&nbsp;|<span class=\"hb\"><a target=\"_blank\" href=\"https://shebanq.ancient-data.org/hebrew/word?version=c&id=1BQRn\" title=\"show this lexeme in SHEBANQ\">בָּקָר</a></span>&nbsp;&nbsp;|<span class=\"hb\"><a target=\"_blank\" href=\"https://shebanq.ancient-data.org/hebrew/word?version=c&id=1MYWHn\" title=\"show this lexeme in SHEBANQ\">מִצְוָה</a></span>&nbsp;&nbsp;|<span class=\"hb\"><a target=\"_blank\" href=\"https://shebanq.ancient-data.org/hebrew/word?version=c&id=1FPHn\" title=\"show this lexeme in SHEBANQ\">שָׂפָה</a></span>&nbsp;&nbsp;|<span class=\"hb\"><a target=\"_blank\" href=\"https://shebanq.ancient-data.org/hebrew/word?version=c&id=1DWRn\" title=\"show this lexeme in SHEBANQ\">דֹּור</a></span>&nbsp;&nbsp;|<span class=\"hb\"><a target=\"_blank\" href=\"https://shebanq.ancient-data.org/hebrew/word?version=c&id=1BOLn\" title=\"show this lexeme in SHEBANQ\">בַּעַל</a></span>&nbsp;&nbsp;|<span class=\"hb\"><a target=\"_blank\" href=\"https://shebanq.ancient-data.org/hebrew/word?version=c&id=1XWYn\" title=\"show this lexeme in SHEBANQ\">חוּץ</a></span>&nbsp;&nbsp;|<span class=\"hb\"><a target=\"_blank\" href=\"https://shebanq.ancient-data.org/hebrew/word?version=c&id=1PTXn\" title=\"show this lexeme in SHEBANQ\">פֶּתַח</a></span>&nbsp;&nbsp;|<span class=\"hb\"><a target=\"_blank\" href=\"https://shebanq.ancient-data.org/hebrew/word?version=c&id=1AJLin\" title=\"show this lexeme in SHEBANQ\">אַיִל</a></span>&nbsp;&nbsp;|<span class=\"hb\"><a target=\"_blank\" href=\"https://shebanq.ancient-data.org/hebrew/word?version=c&id=1ZBXn\" title=\"show this lexeme in SHEBANQ\">זֶבַח</a></span>&nbsp;&nbsp;|<span class=\"hb\"><a target=\"_blank\" href=\"https://shebanq.ancient-data.org/hebrew/word?version=c&id=1MWTn\" title=\"show this lexeme in SHEBANQ\">מָוֶת</a></span>&nbsp;&nbsp;|<span class=\"hb\"><a target=\"_blank\" href=\"https://shebanq.ancient-data.org/hebrew/word?version=c&id=1GBWRn\" title=\"show this lexeme in SHEBANQ\">גִּבֹּור</a></span>&nbsp;&nbsp;|<span class=\"hb\"><a target=\"_blank\" href=\"https://shebanq.ancient-data.org/hebrew/word?version=c&id=1YDQHn\" title=\"show this lexeme in SHEBANQ\">צְדָקָה</a></span>&nbsp;&nbsp;|<span class=\"hb\"><a target=\"_blank\" href=\"https://shebanq.ancient-data.org/hebrew/word?version=c&id=1RBin\" title=\"show this lexeme in SHEBANQ\">רֹב</a></span>&nbsp;&nbsp;|<span class=\"hb\"><a target=\"_blank\" href=\"https://shebanq.ancient-data.org/hebrew/word?version=c&id=1YPWNn\" title=\"show this lexeme in SHEBANQ\">צָפֹון</a></span>&nbsp;&nbsp;|<span class=\"hb\"><a target=\"_blank\" href=\"https://shebanq.ancient-data.org/hebrew/word?version=c&id=1XKMHn\" title=\"show this lexeme in SHEBANQ\">חָכְמָה</a></span>&nbsp;&nbsp;|<span class=\"hb\"><a target=\"_blank\" href=\"https://shebanq.ancient-data.org/hebrew/word?version=c&id=1ODHn\" title=\"show this lexeme in SHEBANQ\">עֵדָה</a></span>&nbsp;&nbsp;|<span class=\"hb\"><a target=\"_blank\" href=\"https://shebanq.ancient-data.org/hebrew/word?version=c&id=1XJJMn\" title=\"show this lexeme in SHEBANQ\">חַיִּים</a></span>&nbsp;&nbsp;|<span class=\"hb\"><a target=\"_blank\" href=\"https://shebanq.ancient-data.org/hebrew/word?version=c&id=1OBDHn\" title=\"show this lexeme in SHEBANQ\">עֲבֹדָה</a></span>&nbsp;&nbsp;|<span class=\"hb\"><a target=\"_blank\" href=\"https://shebanq.ancient-data.org/hebrew/word?version=c&id=1JJNn\" title=\"show this lexeme in SHEBANQ\">יַיִן</a></span>&nbsp;&nbsp;|<span class=\"hb\"><a target=\"_blank\" href=\"https://shebanq.ancient-data.org/hebrew/word?version=c&id=1MOLn\" title=\"show this lexeme in SHEBANQ\">מַעַל</a></span>&nbsp;&nbsp;|<span class=\"hb\"><a target=\"_blank\" href=\"https://shebanq.ancient-data.org/hebrew/word?version=c&id=1MCKNn\" title=\"show this lexeme in SHEBANQ\">מִשְׁכָּן</a></span>&nbsp;&nbsp;|<span class=\"hb\"><a target=\"_blank\" href=\"https://shebanq.ancient-data.org/hebrew/word?version=c&id=1NXLn\" title=\"show this lexeme in SHEBANQ\">נַחַל</a></span>&nbsp;&nbsp;|<span class=\"hb\"><a target=\"_blank\" href=\"https://shebanq.ancient-data.org/hebrew/word?version=c&id=1JMJNn\" title=\"show this lexeme in SHEBANQ\">יָמִין</a></span>&nbsp;&nbsp;|<span class=\"hb\"><a target=\"_blank\" href=\"https://shebanq.ancient-data.org/hebrew/word?version=c&id=1NXCTn\" title=\"show this lexeme in SHEBANQ\">נְחֹשֶׁת</a></span>&nbsp;&nbsp;|<span class=\"hb\"><a target=\"_blank\" href=\"https://shebanq.ancient-data.org/hebrew/word?version=c&id=1SWSn\" title=\"show this lexeme in SHEBANQ\">סוּס</a></span>&nbsp;&nbsp;|<span class=\"hb\"><a target=\"_blank\" href=\"https://shebanq.ancient-data.org/hebrew/word?version=c&id=1KSAn\" title=\"show this lexeme in SHEBANQ\">כִּסֵּא</a></span>&nbsp;&nbsp;|<span class=\"hb\"><a target=\"_blank\" href=\"https://shebanq.ancient-data.org/hebrew/word?version=c&id=1CMCn\" title=\"show this lexeme in SHEBANQ\">שֶׁמֶשׁ</a></span>&nbsp;&nbsp;|<span class=\"hb\"><a target=\"_blank\" href=\"https://shebanq.ancient-data.org/hebrew/word?version=c&id=1MSPRn\" title=\"show this lexeme in SHEBANQ\">מִסְפָּר</a></span>&nbsp;&nbsp;|<span class=\"hb\"><a target=\"_blank\" href=\"https://shebanq.ancient-data.org/hebrew/word?version=c&id=1ORBn\" title=\"show this lexeme in SHEBANQ\">עֶרֶב</a></span>&nbsp;&nbsp;|<span class=\"hb\"><a target=\"_blank\" href=\"https://shebanq.ancient-data.org/hebrew/word?version=c&id=1XWMHn\" title=\"show this lexeme in SHEBANQ\">חֹומָה</a></span>&nbsp;&nbsp;|<span class=\"hb\"><a target=\"_blank\" href=\"https://shebanq.ancient-data.org/hebrew/word?version=c&id=1PRn\" title=\"show this lexeme in SHEBANQ\">פַּר</a></span>&nbsp;&nbsp;|<span class=\"hb\"><a target=\"_blank\" href=\"https://shebanq.ancient-data.org/hebrew/word?version=c&id=1NFJAn\" title=\"show this lexeme in SHEBANQ\">נָשִׂיא</a></span>&nbsp;&nbsp;|<span class=\"hb\"><a target=\"_blank\" href=\"https://shebanq.ancient-data.org/hebrew/word?version=c&id=1XQn\" title=\"show this lexeme in SHEBANQ\">חֹק</a></span>&nbsp;&nbsp;|<span class=\"hb\"><a target=\"_blank\" href=\"https://shebanq.ancient-data.org/hebrew/word?version=c&id=1AMTn\" title=\"show this lexeme in SHEBANQ\">אֶמֶת</a></span>&nbsp;&nbsp;|<span class=\"hb\"><a target=\"_blank\" href=\"https://shebanq.ancient-data.org/hebrew/word?version=c&id=1XMHn\" title=\"show this lexeme in SHEBANQ\">חֵמָה</a></span>&nbsp;&nbsp;|<span class=\"hb\"><a target=\"_blank\" href=\"https://shebanq.ancient-data.org/hebrew/word?version=c&id=1KXn\" title=\"show this lexeme in SHEBANQ\">כֹּחַ</a></span>&nbsp;&nbsp;|<span class=\"hb\"><a target=\"_blank\" href=\"https://shebanq.ancient-data.org/hebrew/word?version=c&id=1QHLn\" title=\"show this lexeme in SHEBANQ\">קָהָל</a></span>&nbsp;&nbsp;|<span class=\"hb\"><a target=\"_blank\" href=\"https://shebanq.ancient-data.org/hebrew/word?version=c&id=1OYMn\" title=\"show this lexeme in SHEBANQ\">עֶצֶם</a></span>&nbsp;&nbsp;|<span class=\"hb\"><a target=\"_blank\" href=\"https://shebanq.ancient-data.org/hebrew/word?version=c&id=1BKRn\" title=\"show this lexeme in SHEBANQ\">בְּכֹר</a></span>&nbsp;&nbsp;|<span class=\"hb\"><a target=\"_blank\" href=\"https://shebanq.ancient-data.org/hebrew/word?version=c&id=1YDQn\" title=\"show this lexeme in SHEBANQ\">צֶדֶק</a></span>&nbsp;&nbsp;|<span class=\"hb\"><a target=\"_blank\" href=\"https://shebanq.ancient-data.org/hebrew/word?version=c&id=1RKBn\" title=\"show this lexeme in SHEBANQ\">רֶכֶב</a></span>&nbsp;&nbsp;|<span class=\"hb\"><a target=\"_blank\" href=\"https://shebanq.ancient-data.org/hebrew/word?version=c&id=1NHRn\" title=\"show this lexeme in SHEBANQ\">נָהָר</a></span>&nbsp;&nbsp;|<span class=\"hb\"><a target=\"_blank\" href=\"https://shebanq.ancient-data.org/hebrew/word?version=c&id=1PRJn\" title=\"show this lexeme in SHEBANQ\">פְּרִי</a></span>&nbsp;&nbsp;|<span class=\"hb\"><a target=\"_blank\" href=\"https://shebanq.ancient-data.org/hebrew/word?version=c&id=1POMn\" title=\"show this lexeme in SHEBANQ\">פַּעַם</a></span>&nbsp;&nbsp;|<span class=\"hb\"><a target=\"_blank\" href=\"https://shebanq.ancient-data.org/hebrew/word?version=c&id=1TWOBHn\" title=\"show this lexeme in SHEBANQ\">תֹּועֵבָה</a></span>&nbsp;&nbsp;|<span class=\"hb\"><a target=\"_blank\" href=\"https://shebanq.ancient-data.org/hebrew/word?version=c&id=1LCWNn\" title=\"show this lexeme in SHEBANQ\">לָשֹׁון</a></span>&nbsp;&nbsp;|<span class=\"hb\"><a target=\"_blank\" href=\"https://shebanq.ancient-data.org/hebrew/word?version=c&id=1MCPXTn\" title=\"show this lexeme in SHEBANQ\">מִשְׁפַּחַת</a></span>&nbsp;&nbsp;|<span class=\"hb\"><a target=\"_blank\" href=\"https://shebanq.ancient-data.org/hebrew/word?version=c&id=1AWRn\" title=\"show this lexeme in SHEBANQ\">אֹור</a></span>&nbsp;&nbsp;|<span class=\"hb\"><a target=\"_blank\" href=\"https://shebanq.ancient-data.org/hebrew/word?version=c&id=1MGRCn\" title=\"show this lexeme in SHEBANQ\">מִגְרָשׁ</a></span>&nbsp;&nbsp;|<span class=\"hb\"><a target=\"_blank\" href=\"https://shebanq.ancient-data.org/hebrew/word?version=c&id=1AXWTn\" title=\"show this lexeme in SHEBANQ\">אָחֹות</a></span>&nbsp;&nbsp;|<span class=\"hb\"><a target=\"_blank\" href=\"https://shebanq.ancient-data.org/hebrew/word?version=c&id=1CQRn\" title=\"show this lexeme in SHEBANQ\">שֶׁקֶר</a></span>&nbsp;&nbsp;|<span class=\"hb\"><a target=\"_blank\" href=\"https://shebanq.ancient-data.org/hebrew/word?version=c&id=1NGBn\" title=\"show this lexeme in SHEBANQ\">נֶגֶב</a></span>&nbsp;&nbsp;|<span class=\"hb\"><a target=\"_blank\" href=\"https://shebanq.ancient-data.org/hebrew/word?version=c&id=1CBTn\" title=\"show this lexeme in SHEBANQ\">שַׁבָּת</a></span>&nbsp;&nbsp;|<span class=\"hb\"><a target=\"_blank\" href=\"https://shebanq.ancient-data.org/hebrew/word?version=c&id=1OMWDn\" title=\"show this lexeme in SHEBANQ\">עַמּוּד</a></span>&nbsp;&nbsp;|<span class=\"hb\"><a target=\"_blank\" href=\"https://shebanq.ancient-data.org/hebrew/word?version=c&id=1OPRn\" title=\"show this lexeme in SHEBANQ\">עָפָר</a></span>&nbsp;&nbsp;|<span class=\"hb\"><a target=\"_blank\" href=\"https://shebanq.ancient-data.org/hebrew/word?version=c&id=1KNPn\" title=\"show this lexeme in SHEBANQ\">כָּנָף</a></span>&nbsp;&nbsp;|<span class=\"hb\"><a target=\"_blank\" href=\"https://shebanq.ancient-data.org/hebrew/word?version=c&id=1KBFn\" title=\"show this lexeme in SHEBANQ\">כֶּבֶשׂ</a></span>&nbsp;&nbsp;|<span class=\"hb\"><a target=\"_blank\" href=\"https://shebanq.ancient-data.org/hebrew/word?version=c&id=1MLAKHn\" title=\"show this lexeme in SHEBANQ\">מְלָאכָה</a></span>&nbsp;&nbsp;|<span class=\"hb\"><a target=\"_blank\" href=\"https://shebanq.ancient-data.org/hebrew/word?version=c&id=1TMJDn\" title=\"show this lexeme in SHEBANQ\">תָּמִיד</a></span>&nbsp;&nbsp;|<span class=\"hb\"><a target=\"_blank\" href=\"https://shebanq.ancient-data.org/hebrew/word?version=c&id=1XQHn\" title=\"show this lexeme in SHEBANQ\">חֻקָּה</a></span>&nbsp;&nbsp;|<span class=\"hb\"><a target=\"_blank\" href=\"https://shebanq.ancient-data.org/hebrew/word?version=c&id=1BMHn\" title=\"show this lexeme in SHEBANQ\">בָּמָה</a></span>&nbsp;&nbsp;|<span class=\"hb\"><a target=\"_blank\" href=\"https://shebanq.ancient-data.org/hebrew/word?version=c&id=1MRAHn\" title=\"show this lexeme in SHEBANQ\">מַרְאֶה</a></span>&nbsp;&nbsp;|<span class=\"hb\"><a target=\"_blank\" href=\"https://shebanq.ancient-data.org/hebrew/word?version=c&id=1ROBn\" title=\"show this lexeme in SHEBANQ\">רָעָב</a></span>&nbsp;&nbsp;|<span class=\"hb\"><a target=\"_blank\" href=\"https://shebanq.ancient-data.org/hebrew/word?version=c&id=1RXBin\" title=\"show this lexeme in SHEBANQ\">רֹחַב</a></span>&nbsp;&nbsp;|<span class=\"hb\"><a target=\"_blank\" href=\"https://shebanq.ancient-data.org/hebrew/word?version=c&id=1XJHn\" title=\"show this lexeme in SHEBANQ\">חַיָּה</a></span>&nbsp;&nbsp;|<span class=\"hb\"><a target=\"_blank\" href=\"https://shebanq.ancient-data.org/hebrew/word?version=c&id=1OWRin\" title=\"show this lexeme in SHEBANQ\">עֹור</a></span>&nbsp;&nbsp;|<span class=\"hb\"><a target=\"_blank\" href=\"https://shebanq.ancient-data.org/hebrew/word?version=c&id=1XMWRn\" title=\"show this lexeme in SHEBANQ\">חֲמֹור</a></span>&nbsp;&nbsp;|<span class=\"hb\"><a target=\"_blank\" href=\"https://shebanq.ancient-data.org/hebrew/word?version=c&id=1ARKin\" title=\"show this lexeme in SHEBANQ\">אֹרֶךְ</a></span>&nbsp;&nbsp;|<span class=\"hb\"><a target=\"_blank\" href=\"https://shebanq.ancient-data.org/hebrew/word?version=c&id=1FMXHn\" title=\"show this lexeme in SHEBANQ\">שִׂמְחָה</a></span>&nbsp;&nbsp;|<span class=\"hb\"><a target=\"_blank\" href=\"https://shebanq.ancient-data.org/hebrew/word?version=c&id=1MMLKHn\" title=\"show this lexeme in SHEBANQ\">מַמְלָכָה</a></span>&nbsp;&nbsp;|<span class=\"hb\"><a target=\"_blank\" href=\"https://shebanq.ancient-data.org/hebrew/word?version=c&id=1PCOn\" title=\"show this lexeme in SHEBANQ\">פֶּשַׁע</a></span>&nbsp;&nbsp;|<span class=\"hb\"><a target=\"_blank\" href=\"https://shebanq.ancient-data.org/hebrew/word?version=c&id=1DOTn\" title=\"show this lexeme in SHEBANQ\">דַּעַת</a></span>&nbsp;&nbsp;|<span class=\"hb\"><a target=\"_blank\" href=\"https://shebanq.ancient-data.org/hebrew/word?version=c&id=1GRn\" title=\"show this lexeme in SHEBANQ\">גֵּר</a></span>&nbsp;&nbsp;|<span class=\"hb\"><a target=\"_blank\" href=\"https://shebanq.ancient-data.org/hebrew/word?version=c&id=1KRMn\" title=\"show this lexeme in SHEBANQ\">כֶּרֶם</a></span>&nbsp;&nbsp;|<span class=\"hb\"><a target=\"_blank\" href=\"https://shebanq.ancient-data.org/hebrew/word?version=c&id=1QYHin\" title=\"show this lexeme in SHEBANQ\">קָצֶה</a></span>&nbsp;&nbsp;|<span class=\"hb\"><a target=\"_blank\" href=\"https://shebanq.ancient-data.org/hebrew/word?version=c&id=1XLBin\" title=\"show this lexeme in SHEBANQ\">חֵלֶב</a></span>&nbsp;&nbsp;|<span class=\"hb\"><a target=\"_blank\" href=\"https://shebanq.ancient-data.org/hebrew/word?version=c&id=1MLKWTn\" title=\"show this lexeme in SHEBANQ\">מַלְכוּת</a></span>&nbsp;&nbsp;|<span class=\"hb\"><a target=\"_blank\" href=\"https://shebanq.ancient-data.org/hebrew/word?version=c&id=1ZRWOn\" title=\"show this lexeme in SHEBANQ\">זְרֹועַ</a></span>&nbsp;&nbsp;|<span class=\"hb\"><a target=\"_blank\" href=\"https://shebanq.ancient-data.org/hebrew/word?version=c&id=1KRWBn\" title=\"show this lexeme in SHEBANQ\">כְּרוּב</a></span>&nbsp;&nbsp;|<span class=\"hb\"><a target=\"_blank\" href=\"https://shebanq.ancient-data.org/hebrew/word?version=c&id=1OBRn\" title=\"show this lexeme in SHEBANQ\">עֵבֶר</a></span>&nbsp;&nbsp;|<span class=\"hb\"><a target=\"_blank\" href=\"https://shebanq.ancient-data.org/hebrew/word?version=c&id=1JLDn\" title=\"show this lexeme in SHEBANQ\">יֶלֶד</a></span>&nbsp;&nbsp;|<span class=\"hb\"><a target=\"_blank\" href=\"https://shebanq.ancient-data.org/hebrew/word?version=c&id=1CQLn\" title=\"show this lexeme in SHEBANQ\">שֶׁקֶל</a></span>&nbsp;&nbsp;|<span class=\"hb\"><a target=\"_blank\" href=\"https://shebanq.ancient-data.org/hebrew/word?version=c&id=1CLMn\" title=\"show this lexeme in SHEBANQ\">שֶׁלֶם</a></span>&nbsp;&nbsp;|<span class=\"hb\"><a target=\"_blank\" href=\"https://shebanq.ancient-data.org/hebrew/word?version=c&id=1DLTn\" title=\"show this lexeme in SHEBANQ\">דֶּלֶת</a></span>&nbsp;&nbsp;|<span class=\"hb\"><a target=\"_blank\" href=\"https://shebanq.ancient-data.org/hebrew/word?version=c&id=1QDMn\" title=\"show this lexeme in SHEBANQ\">קֶדֶם</a></span>&nbsp;&nbsp;|<span class=\"hb\"><a target=\"_blank\" href=\"https://shebanq.ancient-data.org/hebrew/word?version=c&id=1OYHn\" title=\"show this lexeme in SHEBANQ\">עֵצָה</a></span>&nbsp;&nbsp;|<span class=\"hb\"><a target=\"_blank\" href=\"https://shebanq.ancient-data.org/hebrew/word?version=c&id=1ONNn\" title=\"show this lexeme in SHEBANQ\">עָנָן</a></span>&nbsp;&nbsp;|<span class=\"hb\"><a target=\"_blank\" href=\"https://shebanq.ancient-data.org/hebrew/word?version=c&id=1PAHn\" title=\"show this lexeme in SHEBANQ\">פֵּאָה</a></span>&nbsp;&nbsp;|<span class=\"hb\"><a target=\"_blank\" href=\"https://shebanq.ancient-data.org/hebrew/word?version=c&id=1HMWNn\" title=\"show this lexeme in SHEBANQ\">הָמֹון</a></span>&nbsp;&nbsp;|<span class=\"hb\"><a target=\"_blank\" href=\"https://shebanq.ancient-data.org/hebrew/word?version=c&id=1ODWTn\" title=\"show this lexeme in SHEBANQ\">עֵדוּת</a></span>&nbsp;&nbsp;|<span class=\"hb\"><a target=\"_blank\" href=\"https://shebanq.ancient-data.org/hebrew/word?version=c&id=1HJKLn\" title=\"show this lexeme in SHEBANQ\">הֵיכָל</a></span>"
      ],
      "text/plain": [
       "<IPython.core.display.HTML object>"
      ]
     },
     "metadata": {},
     "output_type": "display_data"
    }
   ],
   "source": [
    "target_nouns = nnodes_ordered[:200]\n",
    "\n",
    "show_word_list(target_nouns)"
   ]
  }
 ],
 "metadata": {
  "kernelspec": {
   "display_name": "Python 3",
   "language": "python",
   "name": "python3"
  },
  "language_info": {
   "codemirror_mode": {
    "name": "ipython",
    "version": 3
   },
   "file_extension": ".py",
   "mimetype": "text/x-python",
   "name": "python",
   "nbconvert_exporter": "python",
   "pygments_lexer": "ipython3",
   "version": "3.7.0"
  }
 },
 "nbformat": 4,
 "nbformat_minor": 2
}
